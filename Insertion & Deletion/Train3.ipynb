{
  "nbformat": 4,
  "nbformat_minor": 0,
  "metadata": {
    "colab": {
      "name": "Train3.ipynb",
      "provenance": [],
      "collapsed_sections": [],
      "toc_visible": true
    },
    "kernelspec": {
      "name": "python3",
      "display_name": "Python 3"
    }
  },
  "cells": [
    {
      "cell_type": "code",
      "metadata": {
        "id": "hp0IApKqOiU2",
        "colab_type": "code",
        "colab": {
          "base_uri": "https://localhost:8080/",
          "height": 107
        },
        "outputId": "7a4ffb83-02bb-4e50-fed4-b3e35ca4a13c"
      },
      "source": [
        "import pandas as pd\n",
        "import imblearn\n",
        "import lightgbm as lgb\n",
        "import matplotlib.pyplot as plt\n",
        "import numpy as np\n",
        "from sklearn.linear_model import LinearRegression\n",
        "from sklearn.svm import SVC\n",
        "from sklearn.metrics import classification_report, confusion_matrix\n",
        "from imblearn.over_sampling import SMOTE\n",
        "from sklearn.naive_bayes import GaussianNB\n",
        "from sklearn.naive_bayes import BernoulliNB\n",
        "from sklearn.ensemble import RandomForestClassifier\n",
        "from sklearn.model_selection import train_test_split\n",
        "from sklearn import metrics\n",
        "from sklearn import linear_model\n",
        "from sklearn.metrics import roc_curve\n",
        "from sklearn.metrics import roc_auc_score\n",
        "from matplotlib import pyplot"
      ],
      "execution_count": null,
      "outputs": [
        {
          "output_type": "stream",
          "text": [
            "/usr/local/lib/python3.6/dist-packages/sklearn/externals/six.py:31: FutureWarning: The module is deprecated in version 0.21 and will be removed in version 0.23 since we've dropped support for Python 2.7. Please rely on the official version of six (https://pypi.org/project/six/).\n",
            "  \"(https://pypi.org/project/six/).\", FutureWarning)\n",
            "/usr/local/lib/python3.6/dist-packages/sklearn/utils/deprecation.py:144: FutureWarning: The sklearn.neighbors.base module is  deprecated in version 0.22 and will be removed in version 0.24. The corresponding classes / functions should instead be imported from sklearn.neighbors. Anything that cannot be imported from sklearn.neighbors is now part of the private API.\n",
            "  warnings.warn(message, FutureWarning)\n"
          ],
          "name": "stderr"
        }
      ]
    },
    {
      "cell_type": "code",
      "metadata": {
        "id": "gU9hb4rmua6o",
        "colab_type": "code",
        "colab": {
          "base_uri": "https://localhost:8080/",
          "height": 197
        },
        "outputId": "fb31562f-6503-4618-a6f5-0e6a94cfdc58"
      },
      "source": [
        "data = pd.read_csv(\"encode3_off.csv\")\n",
        "data.head()"
      ],
      "execution_count": null,
      "outputs": [
        {
          "output_type": "execute_result",
          "data": {
            "text/html": [
              "<div>\n",
              "<style scoped>\n",
              "    .dataframe tbody tr th:only-of-type {\n",
              "        vertical-align: middle;\n",
              "    }\n",
              "\n",
              "    .dataframe tbody tr th {\n",
              "        vertical-align: top;\n",
              "    }\n",
              "\n",
              "    .dataframe thead th {\n",
              "        text-align: right;\n",
              "    }\n",
              "</style>\n",
              "<table border=\"1\" class=\"dataframe\">\n",
              "  <thead>\n",
              "    <tr style=\"text-align: right;\">\n",
              "      <th></th>\n",
              "      <th>Unnamed: 0</th>\n",
              "      <th>Protein Annotation</th>\n",
              "      <th>Day21-ETP</th>\n",
              "      <th>sgRNA_vs_Target</th>\n",
              "      <th>TID</th>\n",
              "      <th>MatchResult</th>\n",
              "    </tr>\n",
              "  </thead>\n",
              "  <tbody>\n",
              "    <tr>\n",
              "      <th>0</th>\n",
              "      <td>1</td>\n",
              "      <td>76.54</td>\n",
              "      <td>0.490986</td>\n",
              "      <td>13</td>\n",
              "      <td>0</td>\n",
              "      <td>1</td>\n",
              "    </tr>\n",
              "    <tr>\n",
              "      <th>1</th>\n",
              "      <td>2</td>\n",
              "      <td>76.54</td>\n",
              "      <td>0.428038</td>\n",
              "      <td>14</td>\n",
              "      <td>0</td>\n",
              "      <td>0</td>\n",
              "    </tr>\n",
              "    <tr>\n",
              "      <th>2</th>\n",
              "      <td>4</td>\n",
              "      <td>76.54</td>\n",
              "      <td>0.143454</td>\n",
              "      <td>14</td>\n",
              "      <td>0</td>\n",
              "      <td>1</td>\n",
              "    </tr>\n",
              "    <tr>\n",
              "      <th>3</th>\n",
              "      <td>5</td>\n",
              "      <td>76.54</td>\n",
              "      <td>0.143454</td>\n",
              "      <td>14</td>\n",
              "      <td>0</td>\n",
              "      <td>1</td>\n",
              "    </tr>\n",
              "    <tr>\n",
              "      <th>4</th>\n",
              "      <td>10</td>\n",
              "      <td>76.54</td>\n",
              "      <td>0.055372</td>\n",
              "      <td>13</td>\n",
              "      <td>0</td>\n",
              "      <td>0</td>\n",
              "    </tr>\n",
              "  </tbody>\n",
              "</table>\n",
              "</div>"
            ],
            "text/plain": [
              "   Unnamed: 0  Protein Annotation  Day21-ETP  sgRNA_vs_Target  TID  MatchResult\n",
              "0           1               76.54   0.490986               13    0            1\n",
              "1           2               76.54   0.428038               14    0            0\n",
              "2           4               76.54   0.143454               14    0            1\n",
              "3           5               76.54   0.143454               14    0            1\n",
              "4          10               76.54   0.055372               13    0            0"
            ]
          },
          "metadata": {
            "tags": []
          },
          "execution_count": 2
        }
      ]
    },
    {
      "cell_type": "code",
      "metadata": {
        "id": "SvnghSGsU-zk",
        "colab_type": "code",
        "colab": {
          "base_uri": "https://localhost:8080/",
          "height": 197
        },
        "outputId": "b849993f-5b85-43d0-fdf4-13e0407fde5a"
      },
      "source": [
        "data = data.drop(['Unnamed: 0'], axis=1)\n",
        "data.head()"
      ],
      "execution_count": null,
      "outputs": [
        {
          "output_type": "execute_result",
          "data": {
            "text/html": [
              "<div>\n",
              "<style scoped>\n",
              "    .dataframe tbody tr th:only-of-type {\n",
              "        vertical-align: middle;\n",
              "    }\n",
              "\n",
              "    .dataframe tbody tr th {\n",
              "        vertical-align: top;\n",
              "    }\n",
              "\n",
              "    .dataframe thead th {\n",
              "        text-align: right;\n",
              "    }\n",
              "</style>\n",
              "<table border=\"1\" class=\"dataframe\">\n",
              "  <thead>\n",
              "    <tr style=\"text-align: right;\">\n",
              "      <th></th>\n",
              "      <th>Protein Annotation</th>\n",
              "      <th>Day21-ETP</th>\n",
              "      <th>sgRNA_vs_Target</th>\n",
              "      <th>TID</th>\n",
              "      <th>MatchResult</th>\n",
              "    </tr>\n",
              "  </thead>\n",
              "  <tbody>\n",
              "    <tr>\n",
              "      <th>0</th>\n",
              "      <td>76.54</td>\n",
              "      <td>0.490986</td>\n",
              "      <td>13</td>\n",
              "      <td>0</td>\n",
              "      <td>1</td>\n",
              "    </tr>\n",
              "    <tr>\n",
              "      <th>1</th>\n",
              "      <td>76.54</td>\n",
              "      <td>0.428038</td>\n",
              "      <td>14</td>\n",
              "      <td>0</td>\n",
              "      <td>0</td>\n",
              "    </tr>\n",
              "    <tr>\n",
              "      <th>2</th>\n",
              "      <td>76.54</td>\n",
              "      <td>0.143454</td>\n",
              "      <td>14</td>\n",
              "      <td>0</td>\n",
              "      <td>1</td>\n",
              "    </tr>\n",
              "    <tr>\n",
              "      <th>3</th>\n",
              "      <td>76.54</td>\n",
              "      <td>0.143454</td>\n",
              "      <td>14</td>\n",
              "      <td>0</td>\n",
              "      <td>1</td>\n",
              "    </tr>\n",
              "    <tr>\n",
              "      <th>4</th>\n",
              "      <td>76.54</td>\n",
              "      <td>0.055372</td>\n",
              "      <td>13</td>\n",
              "      <td>0</td>\n",
              "      <td>0</td>\n",
              "    </tr>\n",
              "  </tbody>\n",
              "</table>\n",
              "</div>"
            ],
            "text/plain": [
              "   Protein Annotation  Day21-ETP  sgRNA_vs_Target  TID  MatchResult\n",
              "0               76.54   0.490986               13    0            1\n",
              "1               76.54   0.428038               14    0            0\n",
              "2               76.54   0.143454               14    0            1\n",
              "3               76.54   0.143454               14    0            1\n",
              "4               76.54   0.055372               13    0            0"
            ]
          },
          "metadata": {
            "tags": []
          },
          "execution_count": 3
        }
      ]
    },
    {
      "cell_type": "code",
      "metadata": {
        "id": "7MtIDnMvqfKZ",
        "colab_type": "code",
        "colab": {
          "base_uri": "https://localhost:8080/",
          "height": 332
        },
        "outputId": "16b5245b-682b-43ca-f966-78fe28e18300"
      },
      "source": [
        "plt.matshow(data.corr())\n",
        "plt.xticks(np.arange(5), data.columns, rotation=90)\n",
        "plt.yticks(np.arange(5), data.columns, rotation=0)\n",
        "plt.colorbar()\n",
        "plt.show()"
      ],
      "execution_count": null,
      "outputs": [
        {
          "output_type": "display_data",
          "data": {
            "image/png": "[encoded data removed]",
            "text/plain": [
              "<Figure size 288x288 with 2 Axes>"
            ]
          },
          "metadata": {
            "tags": [],
            "needs_background": "light"
          }
        }
      ]
    },
    {
      "cell_type": "code",
      "metadata": {
        "id": "v-1j7BONVFvA",
        "colab_type": "code",
        "colab": {}
      },
      "source": [
        "count = 0\n",
        "test = pd.DataFrame()\n",
        "train = pd.DataFrame()\n",
        "for index, row in data.iterrows():\n",
        "    count += 1\n",
        "    if (count%3)==0:\n",
        "        test = test.append(row)\n",
        "    else:\n",
        "        train = train.append(row)"
      ],
      "execution_count": null,
      "outputs": []
    },
    {
      "cell_type": "code",
      "metadata": {
        "id": "AV3oPzubZVom",
        "colab_type": "code",
        "colab": {}
      },
      "source": [
        "count = 0\n",
        "test1 = pd.DataFrame()\n",
        "train1 = pd.DataFrame()\n",
        "for index, row in train.iterrows():\n",
        "    count += 1\n",
        "    if (count%3)==0:\n",
        "        test1 = test1.append(row)\n",
        "    else:\n",
        "        train1 = train1.append(row)"
      ],
      "execution_count": null,
      "outputs": []
    },
    {
      "cell_type": "code",
      "metadata": {
        "id": "q7KTMhTsVbJR",
        "colab_type": "code",
        "colab": {
          "base_uri": "https://localhost:8080/",
          "height": 221
        },
        "outputId": "98b36e63-8765-40cb-98c8-b088db3aeb35"
      },
      "source": [
        "train.info()"
      ],
      "execution_count": null,
      "outputs": [
        {
          "output_type": "stream",
          "text": [
            "<class 'pandas.core.frame.DataFrame'>\n",
            "Int64Index: 15555 entries, 0 to 23331\n",
            "Data columns (total 5 columns):\n",
            " #   Column              Non-Null Count  Dtype  \n",
            "---  ------              --------------  -----  \n",
            " 0   CB_vs_WT            15555 non-null  float64\n",
            " 1   Day21-ETP           15555 non-null  float64\n",
            " 2   MatchResult         15555 non-null  float64\n",
            " 3   Protein Annotation  15555 non-null  float64\n",
            " 4   TID                 15555 non-null  float64\n",
            "dtypes: float64(5)\n",
            "memory usage: 729.1 KB\n"
          ],
          "name": "stdout"
        }
      ]
    },
    {
      "cell_type": "code",
      "metadata": {
        "id": "2l4XGuPaZYF7",
        "colab_type": "code",
        "colab": {
          "base_uri": "https://localhost:8080/",
          "height": 221
        },
        "outputId": "f17bc2af-5520-4b7f-ed3d-f391aac4e013"
      },
      "source": [
        "train1.info()"
      ],
      "execution_count": null,
      "outputs": [
        {
          "output_type": "stream",
          "text": [
            "<class 'pandas.core.frame.DataFrame'>\n",
            "Int64Index: 10370 entries, 0 to 23329\n",
            "Data columns (total 5 columns):\n",
            " #   Column              Non-Null Count  Dtype  \n",
            "---  ------              --------------  -----  \n",
            " 0   CB_vs_WT            10370 non-null  float64\n",
            " 1   Day21-ETP           10370 non-null  float64\n",
            " 2   MatchResult         10370 non-null  float64\n",
            " 3   Protein Annotation  10370 non-null  float64\n",
            " 4   TID                 10370 non-null  float64\n",
            "dtypes: float64(5)\n",
            "memory usage: 486.1 KB\n"
          ],
          "name": "stdout"
        }
      ]
    },
    {
      "cell_type": "code",
      "metadata": {
        "id": "6sHt8YVbWhtp",
        "colab_type": "code",
        "colab": {
          "base_uri": "https://localhost:8080/",
          "height": 221
        },
        "outputId": "318da2ac-d838-4481-b847-ddc81000fe0c"
      },
      "source": [
        "test.info()"
      ],
      "execution_count": null,
      "outputs": [
        {
          "output_type": "stream",
          "text": [
            "<class 'pandas.core.frame.DataFrame'>\n",
            "Int64Index: 7777 entries, 2 to 23330\n",
            "Data columns (total 5 columns):\n",
            " #   Column              Non-Null Count  Dtype  \n",
            "---  ------              --------------  -----  \n",
            " 0   CB_vs_WT            7777 non-null   float64\n",
            " 1   Day21-ETP           7777 non-null   float64\n",
            " 2   MatchResult         7777 non-null   float64\n",
            " 3   Protein Annotation  7777 non-null   float64\n",
            " 4   TID                 7777 non-null   float64\n",
            "dtypes: float64(5)\n",
            "memory usage: 364.5 KB\n"
          ],
          "name": "stdout"
        }
      ]
    },
    {
      "cell_type": "code",
      "metadata": {
        "id": "6pQzDP-JZcux",
        "colab_type": "code",
        "colab": {
          "base_uri": "https://localhost:8080/",
          "height": 221
        },
        "outputId": "8d8e7960-6899-4355-bb22-e69f6eb8fa77"
      },
      "source": [
        "test1.info()"
      ],
      "execution_count": null,
      "outputs": [
        {
          "output_type": "stream",
          "text": [
            "<class 'pandas.core.frame.DataFrame'>\n",
            "Int64Index: 5185 entries, 3 to 23331\n",
            "Data columns (total 5 columns):\n",
            " #   Column              Non-Null Count  Dtype  \n",
            "---  ------              --------------  -----  \n",
            " 0   CB_vs_WT            5185 non-null   float64\n",
            " 1   Day21-ETP           5185 non-null   float64\n",
            " 2   MatchResult         5185 non-null   float64\n",
            " 3   Protein Annotation  5185 non-null   float64\n",
            " 4   TID                 5185 non-null   float64\n",
            "dtypes: float64(5)\n",
            "memory usage: 243.0 KB\n"
          ],
          "name": "stdout"
        }
      ]
    },
    {
      "cell_type": "code",
      "metadata": {
        "id": "OI6MeN8aWjTo",
        "colab_type": "code",
        "colab": {
          "base_uri": "https://localhost:8080/",
          "height": 68
        },
        "outputId": "bf3de77a-17e5-426d-c2bd-a42f9e9d4d74"
      },
      "source": [
        "train.MatchResult.value_counts()"
      ],
      "execution_count": null,
      "outputs": [
        {
          "output_type": "execute_result",
          "data": {
            "text/plain": [
              "1.0    12412\n",
              "0.0     3143\n",
              "Name: MatchResult, dtype: int64"
            ]
          },
          "metadata": {
            "tags": []
          },
          "execution_count": 11
        }
      ]
    },
    {
      "cell_type": "code",
      "metadata": {
        "id": "ueKnQM86Zffa",
        "colab_type": "code",
        "colab": {
          "base_uri": "https://localhost:8080/",
          "height": 68
        },
        "outputId": "8831b71b-b357-4d60-f2c2-be80feec7160"
      },
      "source": [
        "train1.MatchResult.value_counts()"
      ],
      "execution_count": null,
      "outputs": [
        {
          "output_type": "execute_result",
          "data": {
            "text/plain": [
              "1.0    8257\n",
              "0.0    2113\n",
              "Name: MatchResult, dtype: int64"
            ]
          },
          "metadata": {
            "tags": []
          },
          "execution_count": 12
        }
      ]
    },
    {
      "cell_type": "code",
      "metadata": {
        "id": "Xm5xc7WaXB10",
        "colab_type": "code",
        "colab": {
          "base_uri": "https://localhost:8080/",
          "height": 68
        },
        "outputId": "d892701d-5bdf-4771-b701-ed473bd3178c"
      },
      "source": [
        "test.MatchResult.value_counts()"
      ],
      "execution_count": null,
      "outputs": [
        {
          "output_type": "execute_result",
          "data": {
            "text/plain": [
              "1.0    6231\n",
              "0.0    1546\n",
              "Name: MatchResult, dtype: int64"
            ]
          },
          "metadata": {
            "tags": []
          },
          "execution_count": 13
        }
      ]
    },
    {
      "cell_type": "code",
      "metadata": {
        "id": "QPVka0_ZZjjl",
        "colab_type": "code",
        "colab": {
          "base_uri": "https://localhost:8080/",
          "height": 68
        },
        "outputId": "603e60cc-8b8b-4c7c-f6c1-871bfcad92a1"
      },
      "source": [
        "test1.MatchResult.value_counts()"
      ],
      "execution_count": null,
      "outputs": [
        {
          "output_type": "execute_result",
          "data": {
            "text/plain": [
              "1.0    4155\n",
              "0.0    1030\n",
              "Name: MatchResult, dtype: int64"
            ]
          },
          "metadata": {
            "tags": []
          },
          "execution_count": 14
        }
      ]
    },
    {
      "cell_type": "code",
      "metadata": {
        "id": "RyfSvZNls6VA",
        "colab_type": "code",
        "colab": {}
      },
      "source": [
        "X_train = train1.drop(['MatchResult'], axis=1)\n",
        "y_train = train1['MatchResult']\n",
        "X_test = test1.drop(['MatchResult'], axis=1)\n",
        "y_test = test1['MatchResult']"
      ],
      "execution_count": null,
      "outputs": []
    },
    {
      "cell_type": "code",
      "metadata": {
        "id": "InQXDTxltezq",
        "colab_type": "code",
        "colab": {
          "base_uri": "https://localhost:8080/",
          "height": 299
        },
        "outputId": "a56fb644-2eba-4109-c6ad-69861b54161e"
      },
      "source": [
        "reg = linear_model.Ridge (alpha = .5)\n",
        "reg.fit(X_train, y_train)\n",
        "print('Score: ', reg.score(X_test, y_test))\n",
        "print('Weights: ', reg.coef_)\n",
        "\n",
        "plt.plot(reg.predict(X_test))\n",
        "plt.plot(y_test)\n",
        "plt.show()"
      ],
      "execution_count": null,
      "outputs": [
        {
          "output_type": "stream",
          "text": [
            "Score:  0.004691116254025296\n",
            "Weights:  [ 5.90611134e-03  1.25997905e-02 -5.07033511e-05 -1.57487034e-02]\n"
          ],
          "name": "stdout"
        },
        {
          "output_type": "display_data",
          "data": {
            "image/png": "[encoded data removed]",
            "text/plain": [
              "<Figure size 432x288 with 1 Axes>"
            ]
          },
          "metadata": {
            "tags": [],
            "needs_background": "light"
          }
        }
      ]
    },
    {
      "cell_type": "code",
      "metadata": {
        "id": "9DLlyPrQn55t",
        "colab_type": "code",
        "colab": {}
      },
      "source": [
        "X_train = train1.drop(['MatchResult'], axis=1)\n",
        "y_train = train1['MatchResult']\n",
        "X_test = test1.drop(['MatchResult'], axis=1)\n",
        "y_test = test1['MatchResult']"
      ],
      "execution_count": null,
      "outputs": []
    },
    {
      "cell_type": "code",
      "metadata": {
        "id": "UYOf1aOCn6m7",
        "colab_type": "code",
        "colab": {}
      },
      "source": [
        "ns_probs = [0 for _ in range(len(y_test))]\n",
        "ns_auc = roc_auc_score(y_test, ns_probs)"
      ],
      "execution_count": null,
      "outputs": []
    },
    {
      "cell_type": "markdown",
      "metadata": {
        "id": "Bk8wkhFsDLVO",
        "colab_type": "text"
      },
      "source": [
        "# **SVM (KERNEL: GAUSSIAN)**"
      ]
    },
    {
      "cell_type": "markdown",
      "metadata": {
        "id": "D9VhFHdeDdyl",
        "colab_type": "text"
      },
      "source": [
        "**Model 1 - Imbalanced towards Match**"
      ]
    },
    {
      "cell_type": "code",
      "metadata": {
        "id": "_VlV4vREDjLI",
        "colab_type": "code",
        "colab": {}
      },
      "source": [
        "svclassifier = SVC(kernel='rbf', gamma='auto').fit(X_train, y_train)"
      ],
      "execution_count": null,
      "outputs": []
    },
    {
      "cell_type": "code",
      "metadata": {
        "id": "70IvxEF6EXuB",
        "colab_type": "code",
        "colab": {
          "base_uri": "https://localhost:8080/",
          "height": 204
        },
        "outputId": "ee8a34cb-74da-402c-d534-a688a0eafdf3"
      },
      "source": [
        "y_pred_m1_svm_gaussian = svclassifier.predict(X_test)\n",
        "\n",
        "print(confusion_matrix(y_test,y_pred_m1_svm_gaussian))\n",
        "print(classification_report(y_test,y_pred_m1_svm_gaussian))"
      ],
      "execution_count": null,
      "outputs": [
        {
          "output_type": "stream",
          "text": [
            "[[   7 1023]\n",
            " [   5 4150]]\n",
            "              precision    recall  f1-score   support\n",
            "\n",
            "         0.0       0.58      0.01      0.01      1030\n",
            "         1.0       0.80      1.00      0.89      4155\n",
            "\n",
            "    accuracy                           0.80      5185\n",
            "   macro avg       0.69      0.50      0.45      5185\n",
            "weighted avg       0.76      0.80      0.72      5185\n",
            "\n"
          ],
          "name": "stdout"
        }
      ]
    },
    {
      "cell_type": "markdown",
      "metadata": {
        "id": "W2re3uMIGZ5E",
        "colab_type": "text"
      },
      "source": [
        "| ACTUAL\\PREDICTED          | Deletion (0) | Insertion (1) | TOTAL |\n",
        "|---------------------------|---------------------|-------------------------|-------|\n",
        "|    Deletion (0)|      7             |        1023               |   1030   |\n",
        "|  Insertion (1)      |      5             |        4150              |   4155  |\n",
        "|        TOTAL              |      12             |        5173             |   5185  |"
      ]
    },
    {
      "cell_type": "code",
      "metadata": {
        "id": "aiXUtaFRrLFy",
        "colab_type": "code",
        "colab": {}
      },
      "source": [
        "m1_svm_gaussian_auc = roc_auc_score(y_test, y_pred_m1_svm_gaussian)"
      ],
      "execution_count": null,
      "outputs": []
    },
    {
      "cell_type": "code",
      "metadata": {
        "id": "nlJlgLsfG3Q8",
        "colab_type": "code",
        "colab": {}
      },
      "source": [
        "M1_sp_SVM_gaussian=0.80\n",
        "M1_se_SVM_gaussian=1.00\n",
        "M1_acc_SVM_gaussian=0.80"
      ],
      "execution_count": null,
      "outputs": []
    },
    {
      "cell_type": "code",
      "metadata": {
        "id": "f_ZpI0tv4tvl",
        "colab_type": "code",
        "colab": {}
      },
      "source": [
        "results = pd.DataFrame({'Classifier' : pd.Categorical([\"SVM - Gaussian\"]),\n",
        "                        'Model' : pd.Categorical([\"Imbalanced - Match\"]),\n",
        "                        'Specificity' : M1_sp_SVM_gaussian,\n",
        "                        'Sensitivity' : M1_se_SVM_gaussian,\n",
        "                        'Accuracy' : M1_acc_SVM_gaussian,\n",
        "                        'AUC' : m1_svm_gaussian_auc})"
      ],
      "execution_count": null,
      "outputs": []
    },
    {
      "cell_type": "markdown",
      "metadata": {
        "id": "pU_icyPkFp5x",
        "colab_type": "text"
      },
      "source": [
        "**Model 2 - Manually Balanced**"
      ]
    },
    {
      "cell_type": "code",
      "metadata": {
        "id": "g8N9F6A6jORa",
        "colab_type": "code",
        "colab": {
          "base_uri": "https://localhost:8080/",
          "height": 68
        },
        "outputId": "857004dd-0a23-427a-a58c-6539ae5e9203"
      },
      "source": [
        "train1.MatchResult.value_counts()"
      ],
      "execution_count": null,
      "outputs": [
        {
          "output_type": "execute_result",
          "data": {
            "text/plain": [
              "1.0    8257\n",
              "0.0    2113\n",
              "Name: MatchResult, dtype: int64"
            ]
          },
          "metadata": {
            "tags": []
          },
          "execution_count": 55
        }
      ]
    },
    {
      "cell_type": "code",
      "metadata": {
        "id": "SsfRg_84jaZK",
        "colab_type": "code",
        "colab": {
          "base_uri": "https://localhost:8080/",
          "height": 68
        },
        "outputId": "56380056-95aa-46bd-d4f0-a65d34d491cb"
      },
      "source": [
        "negative_cases = train1[train1['MatchResult'] == 0]\n",
        "positive_cases = train1[train1['MatchResult'] == 1].sample(2113, random_state=0)\n",
        "train1_balanced = pd.concat([positive_cases,negative_cases])\n",
        "train1_balanced.sort_index(inplace=True)\n",
        "\n",
        "X_train_bal = train1_balanced.drop(['MatchResult'], axis=1)\n",
        "y_train_bal = train1_balanced['MatchResult']\n",
        "\n",
        "train1_balanced.MatchResult.value_counts()"
      ],
      "execution_count": null,
      "outputs": [
        {
          "output_type": "execute_result",
          "data": {
            "text/plain": [
              "1.0    2113\n",
              "0.0    2113\n",
              "Name: MatchResult, dtype: int64"
            ]
          },
          "metadata": {
            "tags": []
          },
          "execution_count": 56
        }
      ]
    },
    {
      "cell_type": "code",
      "metadata": {
        "id": "2KvN3M37EZ6O",
        "colab_type": "code",
        "colab": {}
      },
      "source": [
        "svclassifier = SVC(kernel='rbf', gamma='auto').fit(X_train_bal, y_train_bal)"
      ],
      "execution_count": null,
      "outputs": []
    },
    {
      "cell_type": "code",
      "metadata": {
        "id": "4FjXKe-iF0qt",
        "colab_type": "code",
        "colab": {
          "base_uri": "https://localhost:8080/",
          "height": 204
        },
        "outputId": "4d8dbbde-45fa-4095-cdb4-84a16dc2f8ac"
      },
      "source": [
        "y_pred_m2_svm_gaussian = svclassifier.predict(X_test)\n",
        "\n",
        "print(confusion_matrix(y_test,y_pred_m2_svm_gaussian))\n",
        "print(classification_report(y_test,y_pred_m2_svm_gaussian))"
      ],
      "execution_count": null,
      "outputs": [
        {
          "output_type": "stream",
          "text": [
            "[[ 555  475]\n",
            " [2002 2153]]\n",
            "              precision    recall  f1-score   support\n",
            "\n",
            "         0.0       0.22      0.54      0.31      1030\n",
            "         1.0       0.82      0.52      0.63      4155\n",
            "\n",
            "    accuracy                           0.52      5185\n",
            "   macro avg       0.52      0.53      0.47      5185\n",
            "weighted avg       0.70      0.52      0.57      5185\n",
            "\n"
          ],
          "name": "stdout"
        }
      ]
    },
    {
      "cell_type": "markdown",
      "metadata": {
        "id": "sPrAMv73IHKX",
        "colab_type": "text"
      },
      "source": [
        "| ACTUAL\\PREDICTED          | Deletion (0) | Insertion (1) | TOTAL |\n",
        "|---------------------------|---------------------|-------------------------|-------|\n",
        "|    Deletion (0)|      555             |        475               |   1030   |\n",
        "|  Insertion (1)      |      2002             |        2153              |   4155  |\n",
        "|        TOTAL              |      2557             |        2628             |   5185  |"
      ]
    },
    {
      "cell_type": "code",
      "metadata": {
        "id": "uypC4orbsvCA",
        "colab_type": "code",
        "colab": {}
      },
      "source": [
        "m2_svm_gaussian_auc = roc_auc_score(y_test, y_pred_m2_svm_gaussian)"
      ],
      "execution_count": null,
      "outputs": []
    },
    {
      "cell_type": "code",
      "metadata": {
        "id": "ZUWzo7nEF2m1",
        "colab_type": "code",
        "colab": {}
      },
      "source": [
        "M2_sp_SVM_gaussian=0.82\n",
        "M2_se_SVM_gaussian=0.52\n",
        "M2_acc_SVM_gaussian=0.52"
      ],
      "execution_count": null,
      "outputs": []
    },
    {
      "cell_type": "code",
      "metadata": {
        "id": "BLHM75pEJIwl",
        "colab_type": "code",
        "colab": {}
      },
      "source": [
        "svm_gaussian_m2 = {'Model':\"Balanced - Manual\", 'Classifier':\"SVM - Gaussian\", 'Specificity':M2_sp_SVM_gaussian, 'Sensitivity':M2_se_SVM_gaussian, 'Accuracy':M2_acc_SVM_gaussian, 'AUC': m2_svm_gaussian_auc}\n",
        "results = results.append(svm_gaussian_m2, ignore_index=True)"
      ],
      "execution_count": null,
      "outputs": []
    },
    {
      "cell_type": "markdown",
      "metadata": {
        "id": "CK0Me61rKDW1",
        "colab_type": "text"
      },
      "source": [
        "**Model 3 - SMOTE Balanced**"
      ]
    },
    {
      "cell_type": "code",
      "metadata": {
        "id": "5-roOvEUnATu",
        "colab_type": "code",
        "colab": {
          "base_uri": "https://localhost:8080/",
          "height": 71
        },
        "outputId": "0fdbaaff-882f-4871-898f-3041818469b2"
      },
      "source": [
        "smote = SMOTE(random_state=0)\n",
        "X_train_resampled, y_train_resampled = smote.fit_sample(X_train, y_train)"
      ],
      "execution_count": null,
      "outputs": [
        {
          "output_type": "stream",
          "text": [
            "/usr/local/lib/python3.6/dist-packages/sklearn/utils/deprecation.py:87: FutureWarning: Function safe_indexing is deprecated; safe_indexing is deprecated in version 0.22 and will be removed in version 0.24.\n",
            "  warnings.warn(msg, category=FutureWarning)\n"
          ],
          "name": "stderr"
        }
      ]
    },
    {
      "cell_type": "code",
      "metadata": {
        "id": "VVn5dYYXJZ14",
        "colab_type": "code",
        "colab": {}
      },
      "source": [
        "svclassifier = SVC(kernel='rbf', gamma='auto').fit(X_train_resampled, y_train_resampled)"
      ],
      "execution_count": null,
      "outputs": []
    },
    {
      "cell_type": "code",
      "metadata": {
        "id": "UlNto4XQKUS6",
        "colab_type": "code",
        "colab": {
          "base_uri": "https://localhost:8080/",
          "height": 204
        },
        "outputId": "4c2149d3-286c-40ab-b3ac-2c4b9686f61d"
      },
      "source": [
        "y_pred_m3_svm_gaussian = svclassifier.predict(X_test)\n",
        "\n",
        "print(confusion_matrix(y_test,y_pred_m3_svm_gaussian))\n",
        "print(classification_report(y_test,y_pred_m3_svm_gaussian))"
      ],
      "execution_count": null,
      "outputs": [
        {
          "output_type": "stream",
          "text": [
            "[[ 435  595]\n",
            " [1558 2597]]\n",
            "              precision    recall  f1-score   support\n",
            "\n",
            "         0.0       0.22      0.42      0.29      1030\n",
            "         1.0       0.81      0.63      0.71      4155\n",
            "\n",
            "    accuracy                           0.58      5185\n",
            "   macro avg       0.52      0.52      0.50      5185\n",
            "weighted avg       0.70      0.58      0.62      5185\n",
            "\n"
          ],
          "name": "stdout"
        }
      ]
    },
    {
      "cell_type": "markdown",
      "metadata": {
        "id": "TqwjK-qCKjH9",
        "colab_type": "text"
      },
      "source": [
        "| ACTUAL\\PREDICTED          | Deletion (0) | Insertion (1) | TOTAL |\n",
        "|---------------------------|---------------------|-------------------------|-------|\n",
        "|    Deletion (0)|      435             |        595               |   1030   |\n",
        "|  Insertion (1)      |      1558             |        2597              |   4155  |\n",
        "|        TOTAL              |      1993             |        3192             |   5185  |"
      ]
    },
    {
      "cell_type": "code",
      "metadata": {
        "id": "C83C0Y2StlSN",
        "colab_type": "code",
        "colab": {}
      },
      "source": [
        "m3_svm_gaussian_auc = roc_auc_score(y_test, y_pred_m3_svm_gaussian)"
      ],
      "execution_count": null,
      "outputs": []
    },
    {
      "cell_type": "code",
      "metadata": {
        "id": "m24vy245KdUg",
        "colab_type": "code",
        "colab": {}
      },
      "source": [
        "M3_sp_SVM_gaussian=0.81\n",
        "M3_se_SVM_gaussian=0.63\n",
        "M3_acc_SVM_gaussian=0.58"
      ],
      "execution_count": null,
      "outputs": []
    },
    {
      "cell_type": "code",
      "metadata": {
        "id": "Rbks_bJOLD4M",
        "colab_type": "code",
        "colab": {}
      },
      "source": [
        "svm_gaussian_m3 = {'Model':\"Balanced - SMOTE\", 'Classifier':\"SVM - Gaussian\", 'Specificity':M3_sp_SVM_gaussian, 'Sensitivity':M3_se_SVM_gaussian, 'Accuracy':M3_acc_SVM_gaussian, 'AUC': m3_svm_gaussian_auc}\n",
        "results = results.append(svm_gaussian_m3, ignore_index=True)"
      ],
      "execution_count": null,
      "outputs": []
    },
    {
      "cell_type": "markdown",
      "metadata": {
        "id": "SSWzI9ipMgbk",
        "colab_type": "text"
      },
      "source": [
        "**Model 4 - Imbalanced towards Mismatch**"
      ]
    },
    {
      "cell_type": "code",
      "metadata": {
        "id": "XIc3G2NbvnhB",
        "colab_type": "code",
        "colab": {
          "base_uri": "https://localhost:8080/",
          "height": 68
        },
        "outputId": "2e695773-c0d0-417e-fe90-ac35d5da4eb6"
      },
      "source": [
        "train1.MatchResult.value_counts()"
      ],
      "execution_count": null,
      "outputs": [
        {
          "output_type": "execute_result",
          "data": {
            "text/plain": [
              "1.0    8257\n",
              "0.0    2113\n",
              "Name: MatchResult, dtype: int64"
            ]
          },
          "metadata": {
            "tags": []
          },
          "execution_count": 68
        }
      ]
    },
    {
      "cell_type": "code",
      "metadata": {
        "id": "lnVTUgl1wuv6",
        "colab_type": "code",
        "colab": {
          "base_uri": "https://localhost:8080/",
          "height": 68
        },
        "outputId": "8b4fdad9-8bd7-4e66-aae8-002ce100b7a9"
      },
      "source": [
        "positive_cases = train1[train1['MatchResult'] == 1].sample(704, random_state=0)\n",
        "negative_cases = train1[train1['MatchResult'] == 0].sample(1409, random_state=0)\n",
        "train1_imbalanced = pd.concat([positive_cases,negative_cases])\n",
        "train1_imbalanced.sort_index(inplace=True)\n",
        "\n",
        "X_train_imbal = train1_imbalanced.drop(['MatchResult'], axis=1)\n",
        "y_train_imbal = train1_imbalanced['MatchResult']\n",
        "# AFTER\n",
        "train1_imbalanced.MatchResult.value_counts()"
      ],
      "execution_count": null,
      "outputs": [
        {
          "output_type": "execute_result",
          "data": {
            "text/plain": [
              "0.0    1409\n",
              "1.0     704\n",
              "Name: MatchResult, dtype: int64"
            ]
          },
          "metadata": {
            "tags": []
          },
          "execution_count": 69
        }
      ]
    },
    {
      "cell_type": "code",
      "metadata": {
        "id": "94Meu25ALOJA",
        "colab_type": "code",
        "colab": {}
      },
      "source": [
        "svclassifier = SVC(kernel='rbf', gamma='auto').fit(X_train_imbal, y_train_imbal)"
      ],
      "execution_count": null,
      "outputs": []
    },
    {
      "cell_type": "code",
      "metadata": {
        "id": "qeb_ij5hMzCJ",
        "colab_type": "code",
        "colab": {
          "base_uri": "https://localhost:8080/",
          "height": 204
        },
        "outputId": "fb7e30d0-4b23-460d-e47a-906df9f6cf4e"
      },
      "source": [
        "y_pred_m4_svm_gaussian = svclassifier.predict(X_test)\n",
        "\n",
        "print(confusion_matrix(y_test,y_pred_m4_svm_gaussian))\n",
        "print(classification_report(y_test,y_pred_m4_svm_gaussian))"
      ],
      "execution_count": null,
      "outputs": [
        {
          "output_type": "stream",
          "text": [
            "[[ 956   74]\n",
            " [3701  454]]\n",
            "              precision    recall  f1-score   support\n",
            "\n",
            "         0.0       0.21      0.93      0.34      1030\n",
            "         1.0       0.86      0.11      0.19      4155\n",
            "\n",
            "    accuracy                           0.27      5185\n",
            "   macro avg       0.53      0.52      0.27      5185\n",
            "weighted avg       0.73      0.27      0.22      5185\n",
            "\n"
          ],
          "name": "stdout"
        }
      ]
    },
    {
      "cell_type": "markdown",
      "metadata": {
        "id": "rfwn_MfLM6oV",
        "colab_type": "text"
      },
      "source": [
        "| ACTUAL\\PREDICTED          | Deletion (0) | Insertion (1) | TOTAL |\n",
        "|---------------------------|---------------------|-------------------------|-------|\n",
        "|    Deletion (0)|      956             |        74               |   1030   |\n",
        "|  Insertion (1)      |      3701             |        454              |   4155  |\n",
        "|        TOTAL              |      4657             |        528             |   5185  |"
      ]
    },
    {
      "cell_type": "code",
      "metadata": {
        "id": "gE67elP1ulc7",
        "colab_type": "code",
        "colab": {}
      },
      "source": [
        "m4_svm_gaussian_auc = roc_auc_score(y_test, y_pred_m4_svm_gaussian)"
      ],
      "execution_count": null,
      "outputs": []
    },
    {
      "cell_type": "code",
      "metadata": {
        "id": "trJgkn2eM1u_",
        "colab_type": "code",
        "colab": {}
      },
      "source": [
        "M4_sp_SVM_gaussian=0.86\n",
        "M4_se_SVM_gaussian=0.11\n",
        "M4_acc_SVM_gaussian=0.27"
      ],
      "execution_count": null,
      "outputs": []
    },
    {
      "cell_type": "code",
      "metadata": {
        "id": "VU354t3lNPHH",
        "colab_type": "code",
        "colab": {}
      },
      "source": [
        "svm_gaussian_m4 = {'Model':\"Imbalanced - Mismatch\", 'Classifier':\"SVM - Gaussian\", 'Specificity':M4_sp_SVM_gaussian, 'Sensitivity':M4_se_SVM_gaussian, 'Accuracy':M4_acc_SVM_gaussian, 'AUC': m4_svm_gaussian_auc}\n",
        "results = results.append(svm_gaussian_m4, ignore_index=True)"
      ],
      "execution_count": null,
      "outputs": []
    },
    {
      "cell_type": "code",
      "metadata": {
        "id": "Wyar6DunrpdQ",
        "colab_type": "code",
        "colab": {
          "base_uri": "https://localhost:8080/",
          "height": 173
        },
        "outputId": "b96cec33-314e-4a9c-d345-1a2df7006426"
      },
      "source": [
        "results.tail()"
      ],
      "execution_count": null,
      "outputs": [
        {
          "output_type": "execute_result",
          "data": {
            "text/html": [
              "<div>\n",
              "<style scoped>\n",
              "    .dataframe tbody tr th:only-of-type {\n",
              "        vertical-align: middle;\n",
              "    }\n",
              "\n",
              "    .dataframe tbody tr th {\n",
              "        vertical-align: top;\n",
              "    }\n",
              "\n",
              "    .dataframe thead th {\n",
              "        text-align: right;\n",
              "    }\n",
              "</style>\n",
              "<table border=\"1\" class=\"dataframe\">\n",
              "  <thead>\n",
              "    <tr style=\"text-align: right;\">\n",
              "      <th></th>\n",
              "      <th>Classifier</th>\n",
              "      <th>Model</th>\n",
              "      <th>Specificity</th>\n",
              "      <th>Sensitivity</th>\n",
              "      <th>Accuracy</th>\n",
              "      <th>AUC</th>\n",
              "    </tr>\n",
              "  </thead>\n",
              "  <tbody>\n",
              "    <tr>\n",
              "      <th>0</th>\n",
              "      <td>SVM - Gaussian</td>\n",
              "      <td>Imbalanced - Match</td>\n",
              "      <td>0.80</td>\n",
              "      <td>1.00</td>\n",
              "      <td>0.80</td>\n",
              "      <td>0.502796</td>\n",
              "    </tr>\n",
              "    <tr>\n",
              "      <th>1</th>\n",
              "      <td>SVM - Gaussian</td>\n",
              "      <td>Balanced - Manual</td>\n",
              "      <td>0.82</td>\n",
              "      <td>0.52</td>\n",
              "      <td>0.52</td>\n",
              "      <td>0.528503</td>\n",
              "    </tr>\n",
              "    <tr>\n",
              "      <th>2</th>\n",
              "      <td>SVM - Gaussian</td>\n",
              "      <td>Balanced - SMOTE</td>\n",
              "      <td>0.81</td>\n",
              "      <td>0.63</td>\n",
              "      <td>0.58</td>\n",
              "      <td>0.523680</td>\n",
              "    </tr>\n",
              "    <tr>\n",
              "      <th>3</th>\n",
              "      <td>SVM - Gaussian</td>\n",
              "      <td>Imbalanced - Mismatch</td>\n",
              "      <td>0.86</td>\n",
              "      <td>0.11</td>\n",
              "      <td>0.27</td>\n",
              "      <td>0.518711</td>\n",
              "    </tr>\n",
              "  </tbody>\n",
              "</table>\n",
              "</div>"
            ],
            "text/plain": [
              "       Classifier                  Model  ...  Accuracy       AUC\n",
              "0  SVM - Gaussian     Imbalanced - Match  ...      0.80  0.502796\n",
              "1  SVM - Gaussian      Balanced - Manual  ...      0.52  0.528503\n",
              "2  SVM - Gaussian       Balanced - SMOTE  ...      0.58  0.523680\n",
              "3  SVM - Gaussian  Imbalanced - Mismatch  ...      0.27  0.518711\n",
              "\n",
              "[4 rows x 6 columns]"
            ]
          },
          "metadata": {
            "tags": []
          },
          "execution_count": 74
        }
      ]
    },
    {
      "cell_type": "markdown",
      "metadata": {
        "id": "yokriL_cOUn9",
        "colab_type": "text"
      },
      "source": [
        "# **SVM (KERNEL: POLYNOMIAL)**"
      ]
    },
    {
      "cell_type": "markdown",
      "metadata": {
        "id": "axbv_lXfOnmn",
        "colab_type": "text"
      },
      "source": [
        "**Model 1 - Imbalanced towards Match**"
      ]
    },
    {
      "cell_type": "code",
      "metadata": {
        "id": "2DLSe15NNixA",
        "colab_type": "code",
        "colab": {}
      },
      "source": [
        "svclassifier = SVC(kernel='poly').fit(X_train, y_train)"
      ],
      "execution_count": null,
      "outputs": []
    },
    {
      "cell_type": "code",
      "metadata": {
        "id": "gEXXObZvO0Im",
        "colab_type": "code",
        "colab": {
          "base_uri": "https://localhost:8080/",
          "height": 258
        },
        "outputId": "5502f0ca-03de-446d-baa6-0fdbf8b56a64"
      },
      "source": [
        "y_pred_m1_svm_polynomial = svclassifier.predict(X_test)\n",
        "\n",
        "print(confusion_matrix(y_test,y_pred_m1_svm_polynomial))\n",
        "print(classification_report(y_test,y_pred_m1_svm_polynomial))"
      ],
      "execution_count": null,
      "outputs": [
        {
          "output_type": "stream",
          "text": [
            "[[   0 1030]\n",
            " [   0 4155]]\n",
            "              precision    recall  f1-score   support\n",
            "\n",
            "         0.0       0.00      0.00      0.00      1030\n",
            "         1.0       0.80      1.00      0.89      4155\n",
            "\n",
            "    accuracy                           0.80      5185\n",
            "   macro avg       0.40      0.50      0.44      5185\n",
            "weighted avg       0.64      0.80      0.71      5185\n",
            "\n"
          ],
          "name": "stdout"
        },
        {
          "output_type": "stream",
          "text": [
            "/usr/local/lib/python3.6/dist-packages/sklearn/metrics/_classification.py:1272: UndefinedMetricWarning: Precision and F-score are ill-defined and being set to 0.0 in labels with no predicted samples. Use `zero_division` parameter to control this behavior.\n",
            "  _warn_prf(average, modifier, msg_start, len(result))\n"
          ],
          "name": "stderr"
        }
      ]
    },
    {
      "cell_type": "markdown",
      "metadata": {
        "id": "fUEi5d8sO8j1",
        "colab_type": "text"
      },
      "source": [
        "| ACTUAL\\PREDICTED          | Deletion (0) | Insertion (1) | TOTAL |\n",
        "|---------------------------|---------------------|-------------------------|-------|\n",
        "|    Deletion (0)|      0             |        1030               |   1030   |\n",
        "|  Insertion (1)      |      0             |        4155              |   4155  |\n",
        "|        TOTAL              |      0             |        5185             |   5185  |"
      ]
    },
    {
      "cell_type": "code",
      "metadata": {
        "id": "PbSSWaY5vubg",
        "colab_type": "code",
        "colab": {}
      },
      "source": [
        "m1_svm_polynomial_auc = roc_auc_score(y_test, y_pred_m1_svm_polynomial)"
      ],
      "execution_count": null,
      "outputs": []
    },
    {
      "cell_type": "code",
      "metadata": {
        "id": "6Tac3qC2O2cs",
        "colab_type": "code",
        "colab": {}
      },
      "source": [
        "M1_sp_SVM_polynomial=0.80\n",
        "M1_se_SVM_polynomial=1.00\n",
        "M1_acc_SVM_polynomial=0.80"
      ],
      "execution_count": null,
      "outputs": []
    },
    {
      "cell_type": "code",
      "metadata": {
        "id": "lsxfbtAnPTqj",
        "colab_type": "code",
        "colab": {}
      },
      "source": [
        "svm_polynomial_m1 = {'Model':\"Imbalanced - Match\", 'Classifier':\"SVM - Polynomial\", 'Specificity':M1_sp_SVM_polynomial, 'Sensitivity':M1_se_SVM_polynomial, 'Accuracy':M1_acc_SVM_polynomial, 'AUC': m1_svm_polynomial_auc}\n",
        "results = results.append(svm_polynomial_m1, ignore_index=True)"
      ],
      "execution_count": null,
      "outputs": []
    },
    {
      "cell_type": "markdown",
      "metadata": {
        "id": "syKu2WcjRwJE",
        "colab_type": "text"
      },
      "source": [
        "**Model 2 - Manually Balanced**"
      ]
    },
    {
      "cell_type": "code",
      "metadata": {
        "id": "B458LwKBPqED",
        "colab_type": "code",
        "colab": {}
      },
      "source": [
        "svclassifier = SVC(kernel='poly').fit(X_train_bal, y_train_bal)"
      ],
      "execution_count": null,
      "outputs": []
    },
    {
      "cell_type": "code",
      "metadata": {
        "id": "WUbH7HCBR3KQ",
        "colab_type": "code",
        "colab": {
          "base_uri": "https://localhost:8080/",
          "height": 204
        },
        "outputId": "225fe352-0c82-4a59-847a-948843089620"
      },
      "source": [
        "y_pred_m2_svm_polynomial = svclassifier.predict(X_test)\n",
        "\n",
        "print(confusion_matrix(y_test,y_pred_m2_svm_polynomial))\n",
        "print(classification_report(y_test,y_pred_m2_svm_polynomial))"
      ],
      "execution_count": null,
      "outputs": [
        {
          "output_type": "stream",
          "text": [
            "[[ 858  172]\n",
            " [3284  871]]\n",
            "              precision    recall  f1-score   support\n",
            "\n",
            "         0.0       0.21      0.83      0.33      1030\n",
            "         1.0       0.84      0.21      0.34      4155\n",
            "\n",
            "    accuracy                           0.33      5185\n",
            "   macro avg       0.52      0.52      0.33      5185\n",
            "weighted avg       0.71      0.33      0.33      5185\n",
            "\n"
          ],
          "name": "stdout"
        }
      ]
    },
    {
      "cell_type": "markdown",
      "metadata": {
        "id": "gAbKHIJCR88R",
        "colab_type": "text"
      },
      "source": [
        "| ACTUAL\\PREDICTED          | Deletion (0) | Insertion (1) | TOTAL |\n",
        "|---------------------------|---------------------|-------------------------|-------|\n",
        "|    Deletion (0)|      858             |        172               |   1030   |\n",
        "|  Insertion (1)      |      3284             |        871              |   4155  |\n",
        "|        TOTAL              |      4142             |        1043             |   5185  |"
      ]
    },
    {
      "cell_type": "code",
      "metadata": {
        "id": "cQO3lX-4w5Um",
        "colab_type": "code",
        "colab": {}
      },
      "source": [
        "m2_svm_polynomial_auc = roc_auc_score(y_test, y_pred_m2_svm_polynomial)"
      ],
      "execution_count": null,
      "outputs": []
    },
    {
      "cell_type": "code",
      "metadata": {
        "id": "jlEbNrN5R5pQ",
        "colab_type": "code",
        "colab": {}
      },
      "source": [
        "M2_sp_SVM_polynomial=0.84\n",
        "M2_se_SVM_polynomial=0.21\n",
        "M2_acc_SVM_polynomial=0.33"
      ],
      "execution_count": null,
      "outputs": []
    },
    {
      "cell_type": "code",
      "metadata": {
        "id": "9hXE0dT9SbTY",
        "colab_type": "code",
        "colab": {}
      },
      "source": [
        "svm_polynomial_m2 = {'Model':\"Balanced - Manual\", 'Classifier':\"SVM - Polynomial\", 'Specificity':M2_sp_SVM_polynomial, 'Sensitivity':M2_se_SVM_polynomial, 'Accuracy':M2_acc_SVM_polynomial, 'AUC': m2_svm_polynomial_auc}\n",
        "results = results.append(svm_polynomial_m2, ignore_index=True)"
      ],
      "execution_count": null,
      "outputs": []
    },
    {
      "cell_type": "markdown",
      "metadata": {
        "id": "l_VzniprTsHy",
        "colab_type": "text"
      },
      "source": [
        "**Model 3 - SMOTE Balanced**"
      ]
    },
    {
      "cell_type": "code",
      "metadata": {
        "id": "9BDYbJdnS01_",
        "colab_type": "code",
        "colab": {}
      },
      "source": [
        "svclassifier = SVC(kernel='poly').fit(X_train_resampled, y_train_resampled)"
      ],
      "execution_count": null,
      "outputs": []
    },
    {
      "cell_type": "code",
      "metadata": {
        "id": "gBInk6ryTy7U",
        "colab_type": "code",
        "colab": {
          "base_uri": "https://localhost:8080/",
          "height": 204
        },
        "outputId": "80a7b890-7424-4fbc-b455-7a0a8363282b"
      },
      "source": [
        "y_pred_m3_svm_polynomial = svclassifier.predict(X_test)\n",
        "\n",
        "print(confusion_matrix(y_test,y_pred_m3_svm_polynomial))\n",
        "print(classification_report(y_test,y_pred_m3_svm_polynomial))"
      ],
      "execution_count": null,
      "outputs": [
        {
          "output_type": "stream",
          "text": [
            "[[ 827  203]\n",
            " [3138 1017]]\n",
            "              precision    recall  f1-score   support\n",
            "\n",
            "         0.0       0.21      0.80      0.33      1030\n",
            "         1.0       0.83      0.24      0.38      4155\n",
            "\n",
            "    accuracy                           0.36      5185\n",
            "   macro avg       0.52      0.52      0.35      5185\n",
            "weighted avg       0.71      0.36      0.37      5185\n",
            "\n"
          ],
          "name": "stdout"
        }
      ]
    },
    {
      "cell_type": "markdown",
      "metadata": {
        "id": "se1QTp34T4KV",
        "colab_type": "text"
      },
      "source": [
        "| ACTUAL\\PREDICTED          | Deletion (0) | Insertion (1) | TOTAL |\n",
        "|---------------------------|---------------------|-------------------------|-------|\n",
        "|    Deletion (0)|      827             |        203               |   1030   |\n",
        "|  Insertion (1)      |      3138             |        1017              |   4155  |\n",
        "|        TOTAL              |      3965             |        1220             |   5185  |"
      ]
    },
    {
      "cell_type": "code",
      "metadata": {
        "id": "iKoNU0WBxiK9",
        "colab_type": "code",
        "colab": {}
      },
      "source": [
        "m3_svm_polynomial_auc = roc_auc_score(y_test, y_pred_m3_svm_polynomial)"
      ],
      "execution_count": null,
      "outputs": []
    },
    {
      "cell_type": "code",
      "metadata": {
        "id": "K05qpGUUT1nT",
        "colab_type": "code",
        "colab": {}
      },
      "source": [
        "M3_sp_SVM_polynomial=0.83\n",
        "M3_se_SVM_polynomial=0.24\n",
        "M3_acc_SVM_polynomial=0.36"
      ],
      "execution_count": null,
      "outputs": []
    },
    {
      "cell_type": "code",
      "metadata": {
        "id": "G66fZeyMUMG3",
        "colab_type": "code",
        "colab": {}
      },
      "source": [
        "svm_polynomial_m3 = {'Model':\"Balanced - SMOTE\", 'Classifier':\"SVM - Polynomial\", 'Specificity':M3_sp_SVM_polynomial, 'Sensitivity':M3_se_SVM_polynomial, 'Accuracy':M3_acc_SVM_polynomial, 'AUC': m3_svm_polynomial_auc}\n",
        "results = results.append(svm_polynomial_m3, ignore_index=True)"
      ],
      "execution_count": null,
      "outputs": []
    },
    {
      "cell_type": "markdown",
      "metadata": {
        "id": "xc0u9zjWVhTn",
        "colab_type": "text"
      },
      "source": [
        "**Model 4 - Imbalanced towards Mismatch**"
      ]
    },
    {
      "cell_type": "code",
      "metadata": {
        "id": "NVHcKhJUUZr7",
        "colab_type": "code",
        "colab": {}
      },
      "source": [
        "svclassifier = SVC(kernel='poly').fit(X_train_imbal, y_train_imbal)"
      ],
      "execution_count": null,
      "outputs": []
    },
    {
      "cell_type": "code",
      "metadata": {
        "id": "-HqvpQmtVm9B",
        "colab_type": "code",
        "colab": {
          "base_uri": "https://localhost:8080/",
          "height": 258
        },
        "outputId": "538ec530-7776-400c-b5c7-6f3fdf52a18f"
      },
      "source": [
        "y_pred_m4_svm_polynomial = svclassifier.predict(X_test)\n",
        "\n",
        "print(confusion_matrix(y_test,y_pred_m4_svm_polynomial))\n",
        "print(classification_report(y_test,y_pred_m4_svm_polynomial))"
      ],
      "execution_count": null,
      "outputs": [
        {
          "output_type": "stream",
          "text": [
            "[[1030    0]\n",
            " [4155    0]]\n",
            "              precision    recall  f1-score   support\n",
            "\n",
            "         0.0       0.20      1.00      0.33      1030\n",
            "         1.0       0.00      0.00      0.00      4155\n",
            "\n",
            "    accuracy                           0.20      5185\n",
            "   macro avg       0.10      0.50      0.17      5185\n",
            "weighted avg       0.04      0.20      0.07      5185\n",
            "\n"
          ],
          "name": "stdout"
        },
        {
          "output_type": "stream",
          "text": [
            "/usr/local/lib/python3.6/dist-packages/sklearn/metrics/_classification.py:1272: UndefinedMetricWarning: Precision and F-score are ill-defined and being set to 0.0 in labels with no predicted samples. Use `zero_division` parameter to control this behavior.\n",
            "  _warn_prf(average, modifier, msg_start, len(result))\n"
          ],
          "name": "stderr"
        }
      ]
    },
    {
      "cell_type": "markdown",
      "metadata": {
        "id": "pEZO5W2LVwAM",
        "colab_type": "text"
      },
      "source": [
        "| ACTUAL\\PREDICTED          | Deletion (0) | Insertion (1) | TOTAL |\n",
        "|---------------------------|---------------------|-------------------------|-------|\n",
        "|    Deletion (0)|      1030             |        0               |   1030   |\n",
        "|  Insertion (1)      |      4155             |        0              |   4155  |\n",
        "|        TOTAL              |      5185             |        0             |   5185  |"
      ]
    },
    {
      "cell_type": "code",
      "metadata": {
        "id": "ZbzIuUMbyj4F",
        "colab_type": "code",
        "colab": {}
      },
      "source": [
        "m4_svm_polynomial_auc = roc_auc_score(y_test, y_pred_m4_svm_polynomial)"
      ],
      "execution_count": null,
      "outputs": []
    },
    {
      "cell_type": "code",
      "metadata": {
        "id": "w2USkK-uVo-m",
        "colab_type": "code",
        "colab": {}
      },
      "source": [
        "M4_sp_SVM_polynomial=0.00\n",
        "M4_se_SVM_polynomial=0.00\n",
        "M4_acc_SVM_polynomial=0.20"
      ],
      "execution_count": null,
      "outputs": []
    },
    {
      "cell_type": "code",
      "metadata": {
        "id": "9oGNOH2KWA2O",
        "colab_type": "code",
        "colab": {}
      },
      "source": [
        "svm_polynomial_m4 = {'Model':\"Imbalanced - Mismatch\", 'Classifier':\"SVM - Polynomial\", 'Specificity':M4_sp_SVM_polynomial, 'Sensitivity':M4_se_SVM_polynomial, 'Accuracy':M4_acc_SVM_polynomial, 'AUC': m4_svm_polynomial_auc}\n",
        "results = results.append(svm_polynomial_m4, ignore_index=True)"
      ],
      "execution_count": null,
      "outputs": []
    },
    {
      "cell_type": "markdown",
      "metadata": {
        "id": "vOd1KtiuYhLV",
        "colab_type": "text"
      },
      "source": [
        "# **SVM (KERNEL: SIGMOID)**"
      ]
    },
    {
      "cell_type": "markdown",
      "metadata": {
        "id": "yWyL-YfnYnzb",
        "colab_type": "text"
      },
      "source": [
        "**Model 1 - Imbalanced towards Match**"
      ]
    },
    {
      "cell_type": "code",
      "metadata": {
        "id": "kd8Xl7MxWOG3",
        "colab_type": "code",
        "colab": {}
      },
      "source": [
        "svclassifier = SVC(kernel='sigmoid').fit(X_train, y_train)"
      ],
      "execution_count": null,
      "outputs": []
    },
    {
      "cell_type": "code",
      "metadata": {
        "id": "oGUBHMurYtUr",
        "colab_type": "code",
        "colab": {
          "base_uri": "https://localhost:8080/",
          "height": 204
        },
        "outputId": "d1ca9eeb-0d79-4ba7-caee-cab0895c7256"
      },
      "source": [
        "y_pred_m1_svm_sigmoid = svclassifier.predict(X_test)\n",
        "\n",
        "print(confusion_matrix(y_test,y_pred_m1_svm_sigmoid))\n",
        "print(classification_report(y_test,y_pred_m1_svm_sigmoid))"
      ],
      "execution_count": null,
      "outputs": [
        {
          "output_type": "stream",
          "text": [
            "[[ 216  814]\n",
            " [ 839 3316]]\n",
            "              precision    recall  f1-score   support\n",
            "\n",
            "         0.0       0.20      0.21      0.21      1030\n",
            "         1.0       0.80      0.80      0.80      4155\n",
            "\n",
            "    accuracy                           0.68      5185\n",
            "   macro avg       0.50      0.50      0.50      5185\n",
            "weighted avg       0.68      0.68      0.68      5185\n",
            "\n"
          ],
          "name": "stdout"
        }
      ]
    },
    {
      "cell_type": "markdown",
      "metadata": {
        "id": "Zd2L9PYTYzJR",
        "colab_type": "text"
      },
      "source": [
        "| ACTUAL\\PREDICTED          | Deletion (0) | Insertion (1) | TOTAL |\n",
        "|---------------------------|---------------------|-------------------------|-------|\n",
        "|    Deletion (0)|      216             |        814               |   1030   |\n",
        "|  Insertion (1)      |      839             |        3316              |   4155  |\n",
        "|        TOTAL              |      1055             |        4130             |   5185  |"
      ]
    },
    {
      "cell_type": "code",
      "metadata": {
        "id": "Po9d9a-Qzigk",
        "colab_type": "code",
        "colab": {}
      },
      "source": [
        "m1_svm_sigmoid_auc = roc_auc_score(y_test, y_pred_m1_svm_sigmoid)"
      ],
      "execution_count": null,
      "outputs": []
    },
    {
      "cell_type": "code",
      "metadata": {
        "id": "EUtdGdnBYv7W",
        "colab_type": "code",
        "colab": {}
      },
      "source": [
        "M1_sp_SVM_sigmoid=0.80\n",
        "M1_se_SVM_sigmoid=0.80\n",
        "M1_acc_SVM_sigmoid=0.68"
      ],
      "execution_count": null,
      "outputs": []
    },
    {
      "cell_type": "code",
      "metadata": {
        "id": "GnAqKAOHZ8Yp",
        "colab_type": "code",
        "colab": {}
      },
      "source": [
        "svm_sigmoid_m1 = {'Model':\"Imbalanced - Match\", 'Classifier':\"SVM - Sigmoid\", 'Specificity':M1_sp_SVM_sigmoid, 'Sensitivity':M1_se_SVM_sigmoid, 'Accuracy':M1_acc_SVM_sigmoid, 'AUC': m1_svm_sigmoid_auc}\n",
        "results = results.append(svm_sigmoid_m1, ignore_index=True)"
      ],
      "execution_count": null,
      "outputs": []
    },
    {
      "cell_type": "markdown",
      "metadata": {
        "id": "F81qw4DLbfLw",
        "colab_type": "text"
      },
      "source": [
        "**Model 2 - Manually Balanced**"
      ]
    },
    {
      "cell_type": "code",
      "metadata": {
        "id": "bUaQi-SzagZz",
        "colab_type": "code",
        "colab": {}
      },
      "source": [
        "svclassifier = SVC(kernel='sigmoid').fit(X_train_bal, y_train_bal)"
      ],
      "execution_count": null,
      "outputs": []
    },
    {
      "cell_type": "code",
      "metadata": {
        "id": "0suoubA3bj7i",
        "colab_type": "code",
        "colab": {
          "base_uri": "https://localhost:8080/",
          "height": 204
        },
        "outputId": "45b4add9-43d8-4c36-930a-0c877504b501"
      },
      "source": [
        "y_pred_m2_svm_sigmoid = svclassifier.predict(X_test)\n",
        "\n",
        "print(confusion_matrix(y_test,y_pred_m2_svm_sigmoid))\n",
        "print(classification_report(y_test,y_pred_m2_svm_sigmoid))"
      ],
      "execution_count": null,
      "outputs": [
        {
          "output_type": "stream",
          "text": [
            "[[ 509  521]\n",
            " [2032 2123]]\n",
            "              precision    recall  f1-score   support\n",
            "\n",
            "         0.0       0.20      0.49      0.29      1030\n",
            "         1.0       0.80      0.51      0.62      4155\n",
            "\n",
            "    accuracy                           0.51      5185\n",
            "   macro avg       0.50      0.50      0.45      5185\n",
            "weighted avg       0.68      0.51      0.56      5185\n",
            "\n"
          ],
          "name": "stdout"
        }
      ]
    },
    {
      "cell_type": "markdown",
      "metadata": {
        "id": "ijgicxZvbo8S",
        "colab_type": "text"
      },
      "source": [
        "| ACTUAL\\PREDICTED          | Deletion (0) | Insertion (1) | TOTAL |\n",
        "|---------------------------|---------------------|-------------------------|-------|\n",
        "|    Deletion (0)|      509             |        521               |   1030   |\n",
        "|  Insertion (1)      |      2032             |        2123              |   4155  |\n",
        "|        TOTAL              |      2541             |        2644             |   5185  |"
      ]
    },
    {
      "cell_type": "code",
      "metadata": {
        "id": "RKFFcZtb1Ehj",
        "colab_type": "code",
        "colab": {}
      },
      "source": [
        "m2_svm_sigmoid_auc = roc_auc_score(y_test, y_pred_m2_svm_sigmoid)"
      ],
      "execution_count": null,
      "outputs": []
    },
    {
      "cell_type": "code",
      "metadata": {
        "id": "RZWMwsxHbmIL",
        "colab_type": "code",
        "colab": {}
      },
      "source": [
        "M2_sp_SVM_sigmoid=0.80\n",
        "M2_se_SVM_sigmoid=0.51\n",
        "M2_acc_SVM_sigmoid=0.51"
      ],
      "execution_count": null,
      "outputs": []
    },
    {
      "cell_type": "code",
      "metadata": {
        "id": "-GvJFqHocCM6",
        "colab_type": "code",
        "colab": {}
      },
      "source": [
        "svm_sigmoid_m2 = {'Model':\"Balanced - Manual\", 'Classifier':\"SVM - Sigmoid\", 'Specificity':M2_sp_SVM_sigmoid, 'Sensitivity':M2_se_SVM_sigmoid, 'Accuracy':M2_acc_SVM_sigmoid, 'AUC': m2_svm_sigmoid_auc}\n",
        "results = results.append(svm_sigmoid_m2, ignore_index=True)"
      ],
      "execution_count": null,
      "outputs": []
    },
    {
      "cell_type": "markdown",
      "metadata": {
        "id": "wmix_A4EdF1_",
        "colab_type": "text"
      },
      "source": [
        "**Model 3 - SMOTE Balanced**"
      ]
    },
    {
      "cell_type": "code",
      "metadata": {
        "id": "FLyeozO-cNPc",
        "colab_type": "code",
        "colab": {}
      },
      "source": [
        "svclassifier = SVC(kernel='sigmoid').fit(X_train_resampled, y_train_resampled)"
      ],
      "execution_count": null,
      "outputs": []
    },
    {
      "cell_type": "code",
      "metadata": {
        "id": "y8_W_mnoeThP",
        "colab_type": "code",
        "colab": {
          "base_uri": "https://localhost:8080/",
          "height": 204
        },
        "outputId": "26d66213-7db5-4fc6-c1d4-14c25cc1971b"
      },
      "source": [
        "y_pred_m3_svm_sigmoid = svclassifier.predict(X_test)\n",
        "\n",
        "print(confusion_matrix(y_test,y_pred_m3_svm_sigmoid))\n",
        "print(classification_report(y_test,y_pred_m3_svm_sigmoid))"
      ],
      "execution_count": null,
      "outputs": [
        {
          "output_type": "stream",
          "text": [
            "[[ 513  517]\n",
            " [2065 2090]]\n",
            "              precision    recall  f1-score   support\n",
            "\n",
            "         0.0       0.20      0.50      0.28      1030\n",
            "         1.0       0.80      0.50      0.62      4155\n",
            "\n",
            "    accuracy                           0.50      5185\n",
            "   macro avg       0.50      0.50      0.45      5185\n",
            "weighted avg       0.68      0.50      0.55      5185\n",
            "\n"
          ],
          "name": "stdout"
        }
      ]
    },
    {
      "cell_type": "markdown",
      "metadata": {
        "id": "KnCzgFX-eWXa",
        "colab_type": "text"
      },
      "source": [
        "| ACTUAL\\PREDICTED          | Deletion (0) | Insertion (1) | TOTAL |\n",
        "|---------------------------|---------------------|-------------------------|-------|\n",
        "|    Deletion (0)|      513             |        517               |   1030   |\n",
        "|  Insertion (1)      |      2065             |        2090              |   4155  |\n",
        "|        TOTAL              |      2578             |        2607             |   5185  |"
      ]
    },
    {
      "cell_type": "code",
      "metadata": {
        "id": "NFjGXCZ-18jU",
        "colab_type": "code",
        "colab": {}
      },
      "source": [
        "m3_svm_sigmoid_auc = roc_auc_score(y_test, y_pred_m3_svm_sigmoid)"
      ],
      "execution_count": null,
      "outputs": []
    },
    {
      "cell_type": "code",
      "metadata": {
        "id": "C8VSTsZneVko",
        "colab_type": "code",
        "colab": {}
      },
      "source": [
        "M3_sp_SVM_sigmoid=0.80\n",
        "M3_se_SVM_sigmoid=0.50\n",
        "M3_acc_SVM_sigmoid=0.50"
      ],
      "execution_count": null,
      "outputs": []
    },
    {
      "cell_type": "code",
      "metadata": {
        "id": "jyDiImI6etSy",
        "colab_type": "code",
        "colab": {}
      },
      "source": [
        "svm_sigmoid_m3 = {'Model':\"Balanced - SMOTE\", 'Classifier':\"SVM - Sigmoid\", 'Specificity':M3_sp_SVM_sigmoid, 'Sensitivity':M3_se_SVM_sigmoid, 'Accuracy':M3_acc_SVM_sigmoid, 'AUC': m3_svm_sigmoid_auc}\n",
        "results = results.append(svm_sigmoid_m3, ignore_index=True)"
      ],
      "execution_count": null,
      "outputs": []
    },
    {
      "cell_type": "markdown",
      "metadata": {
        "id": "6lm8xXS5fGaq",
        "colab_type": "text"
      },
      "source": [
        "**Model 4 - Imbalanced towards Mismatch**"
      ]
    },
    {
      "cell_type": "code",
      "metadata": {
        "id": "IhEhqF1We7AS",
        "colab_type": "code",
        "colab": {}
      },
      "source": [
        "svclassifier = SVC(kernel='sigmoid').fit(X_train_imbal, y_train_imbal)"
      ],
      "execution_count": null,
      "outputs": []
    },
    {
      "cell_type": "code",
      "metadata": {
        "id": "iHoDG5oJf9J_",
        "colab_type": "code",
        "colab": {
          "base_uri": "https://localhost:8080/",
          "height": 204
        },
        "outputId": "f9a4da34-1505-42f4-bf77-8790871b4cc1"
      },
      "source": [
        "y_pred_m4_svm_sigmoid = svclassifier.predict(X_test)\n",
        "\n",
        "print(confusion_matrix(y_test,y_pred_m4_svm_sigmoid))\n",
        "print(classification_report(y_test,y_pred_m4_svm_sigmoid))"
      ],
      "execution_count": null,
      "outputs": [
        {
          "output_type": "stream",
          "text": [
            "[[ 682  348]\n",
            " [2743 1412]]\n",
            "              precision    recall  f1-score   support\n",
            "\n",
            "         0.0       0.20      0.66      0.31      1030\n",
            "         1.0       0.80      0.34      0.48      4155\n",
            "\n",
            "    accuracy                           0.40      5185\n",
            "   macro avg       0.50      0.50      0.39      5185\n",
            "weighted avg       0.68      0.40      0.44      5185\n",
            "\n"
          ],
          "name": "stdout"
        }
      ]
    },
    {
      "cell_type": "markdown",
      "metadata": {
        "id": "xrZhivC6gBLU",
        "colab_type": "text"
      },
      "source": [
        "| ACTUAL\\PREDICTED          | Deletion (0) | Insertion (1) | TOTAL |\n",
        "|---------------------------|---------------------|-------------------------|-------|\n",
        "|    Deletion (0)|      682             |        348               |   1030   |\n",
        "|  Insertion (1)      |      2743             |        1412              |   4155  |\n",
        "|        TOTAL              |      3425             |        1760             |   5185  |"
      ]
    },
    {
      "cell_type": "code",
      "metadata": {
        "id": "L5tbDMBC2z8D",
        "colab_type": "code",
        "colab": {}
      },
      "source": [
        "m4_svm_sigmoid_auc = roc_auc_score(y_test, y_pred_m4_svm_sigmoid)"
      ],
      "execution_count": null,
      "outputs": []
    },
    {
      "cell_type": "code",
      "metadata": {
        "id": "tIXcTlnyf-7H",
        "colab_type": "code",
        "colab": {}
      },
      "source": [
        "M4_sp_SVM_sigmoid=0.80\n",
        "M4_se_SVM_sigmoid=0.34\n",
        "M4_acc_SVM_sigmoid=0.40"
      ],
      "execution_count": null,
      "outputs": []
    },
    {
      "cell_type": "code",
      "metadata": {
        "id": "WwVff0KOgWvz",
        "colab_type": "code",
        "colab": {}
      },
      "source": [
        "svm_sigmoid_m4 = {'Model':\"Imbalanced - Mismatch\", 'Classifier':\"SVM - Sigmoid\", 'Specificity':M4_sp_SVM_sigmoid, 'Sensitivity':M4_se_SVM_sigmoid, 'Accuracy':M4_acc_SVM_sigmoid, 'AUC': m4_svm_sigmoid_auc}\n",
        "results = results.append(svm_sigmoid_m4, ignore_index=True)"
      ],
      "execution_count": null,
      "outputs": []
    },
    {
      "cell_type": "markdown",
      "metadata": {
        "id": "EHMqdR4XkN33",
        "colab_type": "text"
      },
      "source": [
        "# **NAIVE BAYES (GAUSSIAN)**"
      ]
    },
    {
      "cell_type": "markdown",
      "metadata": {
        "id": "efhjO8LnkgGe",
        "colab_type": "text"
      },
      "source": [
        "**Model 1 - Imbalanced towards Match**"
      ]
    },
    {
      "cell_type": "code",
      "metadata": {
        "id": "fG3cmp8iggW9",
        "colab_type": "code",
        "colab": {}
      },
      "source": [
        "gnb = GaussianNB().fit(X_train, y_train)"
      ],
      "execution_count": null,
      "outputs": []
    },
    {
      "cell_type": "code",
      "metadata": {
        "id": "2zitHlnRkmUC",
        "colab_type": "code",
        "colab": {
          "base_uri": "https://localhost:8080/",
          "height": 258
        },
        "outputId": "9a525105-6e36-4b98-b1e9-0b8b4e89fd43"
      },
      "source": [
        "y_pred_m1_naive_gaussian = gnb.predict(X_test) \n",
        "print(confusion_matrix(y_test,y_pred_m1_naive_gaussian))\n",
        "print(classification_report(y_test,y_pred_m1_naive_gaussian))"
      ],
      "execution_count": null,
      "outputs": [
        {
          "output_type": "stream",
          "text": [
            "[[   0 1030]\n",
            " [   0 4155]]\n",
            "              precision    recall  f1-score   support\n",
            "\n",
            "         0.0       0.00      0.00      0.00      1030\n",
            "         1.0       0.80      1.00      0.89      4155\n",
            "\n",
            "    accuracy                           0.80      5185\n",
            "   macro avg       0.40      0.50      0.44      5185\n",
            "weighted avg       0.64      0.80      0.71      5185\n",
            "\n"
          ],
          "name": "stdout"
        },
        {
          "output_type": "stream",
          "text": [
            "/usr/local/lib/python3.6/dist-packages/sklearn/metrics/_classification.py:1272: UndefinedMetricWarning: Precision and F-score are ill-defined and being set to 0.0 in labels with no predicted samples. Use `zero_division` parameter to control this behavior.\n",
            "  _warn_prf(average, modifier, msg_start, len(result))\n"
          ],
          "name": "stderr"
        }
      ]
    },
    {
      "cell_type": "markdown",
      "metadata": {
        "id": "NkyguRIek414",
        "colab_type": "text"
      },
      "source": [
        "| ACTUAL\\PREDICTED          | Deletion (0) | Insertion (1) | TOTAL |\n",
        "|---------------------------|---------------------|-------------------------|-------|\n",
        "|    Deletion (0)|      0             |        1030               |   1030   |\n",
        "|  Insertion (1)      |      0             |        4155              |   4155  |\n",
        "|        TOTAL              |      0             |        5185             |   5185  |"
      ]
    },
    {
      "cell_type": "code",
      "metadata": {
        "id": "6E-oEthf4WDk",
        "colab_type": "code",
        "colab": {}
      },
      "source": [
        "m1_naive_gaussian_auc = roc_auc_score(y_test, y_pred_m1_naive_gaussian)"
      ],
      "execution_count": null,
      "outputs": []
    },
    {
      "cell_type": "code",
      "metadata": {
        "id": "ZgouiP4ukoK0",
        "colab_type": "code",
        "colab": {}
      },
      "source": [
        "M1_sp_naive_gaussian=0.80\n",
        "M1_se_naive_gaussian=1.00\n",
        "M1_acc_naive_gaussian=0.80"
      ],
      "execution_count": null,
      "outputs": []
    },
    {
      "cell_type": "code",
      "metadata": {
        "id": "-GBgaMAVlYCT",
        "colab_type": "code",
        "colab": {}
      },
      "source": [
        "naive_gaussian_m1 = {'Model':\"Imbalanced - Match\", 'Classifier':\"Naive Bayes - Gaussian\", 'Specificity':M1_sp_naive_gaussian, 'Sensitivity':M1_se_naive_gaussian, 'Accuracy':M1_acc_naive_gaussian, 'AUC': m1_naive_gaussian_auc}\n",
        "results = results.append(naive_gaussian_m1, ignore_index=True)"
      ],
      "execution_count": null,
      "outputs": []
    },
    {
      "cell_type": "markdown",
      "metadata": {
        "id": "WIYtrG-GnzjC",
        "colab_type": "text"
      },
      "source": [
        "**Model 2 - Manually Balanced**"
      ]
    },
    {
      "cell_type": "code",
      "metadata": {
        "id": "wm942fsjm5Ty",
        "colab_type": "code",
        "colab": {}
      },
      "source": [
        "gnb = GaussianNB().fit(X_train_bal, y_train_bal)"
      ],
      "execution_count": null,
      "outputs": []
    },
    {
      "cell_type": "code",
      "metadata": {
        "id": "z49Zvu7Tn_6j",
        "colab_type": "code",
        "colab": {
          "base_uri": "https://localhost:8080/",
          "height": 204
        },
        "outputId": "3b3a5eff-87ca-45bb-dec7-05224dec1802"
      },
      "source": [
        "y_pred_m2_naive_gaussian = gnb.predict(X_test) \n",
        "print(confusion_matrix(y_test,y_pred_m2_naive_gaussian))\n",
        "print(classification_report(y_test,y_pred_m2_naive_gaussian))"
      ],
      "execution_count": null,
      "outputs": [
        {
          "output_type": "stream",
          "text": [
            "[[ 636  394]\n",
            " [2391 1764]]\n",
            "              precision    recall  f1-score   support\n",
            "\n",
            "         0.0       0.21      0.62      0.31      1030\n",
            "         1.0       0.82      0.42      0.56      4155\n",
            "\n",
            "    accuracy                           0.46      5185\n",
            "   macro avg       0.51      0.52      0.44      5185\n",
            "weighted avg       0.70      0.46      0.51      5185\n",
            "\n"
          ],
          "name": "stdout"
        }
      ]
    },
    {
      "cell_type": "markdown",
      "metadata": {
        "id": "IPcAd-l3oKm3",
        "colab_type": "text"
      },
      "source": [
        "| ACTUAL\\PREDICTED          | Deletion (0) | Insertion (1) | TOTAL |\n",
        "|---------------------------|---------------------|-------------------------|-------|\n",
        "|    Deletion (0)|      636             |        394               |   1030   |\n",
        "|  Insertion (1)      |      2391             |        1764              |   4155  |\n",
        "|        TOTAL              |      3027             |        2158             |   5185  |"
      ]
    },
    {
      "cell_type": "code",
      "metadata": {
        "id": "o6F9qGND47wz",
        "colab_type": "code",
        "colab": {}
      },
      "source": [
        "m2_naive_gaussian_auc = roc_auc_score(y_test, y_pred_m2_naive_gaussian)"
      ],
      "execution_count": null,
      "outputs": []
    },
    {
      "cell_type": "code",
      "metadata": {
        "id": "k2BKXoJPoCCH",
        "colab_type": "code",
        "colab": {}
      },
      "source": [
        "M2_sp_naive_gaussian=0.82\n",
        "M2_se_naive_gaussian=0.42\n",
        "M2_acc_naive_gaussian=0.46"
      ],
      "execution_count": null,
      "outputs": []
    },
    {
      "cell_type": "code",
      "metadata": {
        "id": "YpyhzUL1oc_f",
        "colab_type": "code",
        "colab": {}
      },
      "source": [
        "naive_gaussian_m2 = {'Model':\"Balanced - Manual\", 'Classifier':\"Naive Bayes - Gaussian\", 'Specificity':M2_sp_naive_gaussian, 'Sensitivity':M2_se_naive_gaussian, 'Accuracy':M2_acc_naive_gaussian, 'AUC': m2_naive_gaussian_auc}\n",
        "results = results.append(naive_gaussian_m2, ignore_index=True)"
      ],
      "execution_count": null,
      "outputs": []
    },
    {
      "cell_type": "markdown",
      "metadata": {
        "id": "ese3046apTYu",
        "colab_type": "text"
      },
      "source": [
        "**Model 3 - SMOTE Balanced**"
      ]
    },
    {
      "cell_type": "code",
      "metadata": {
        "id": "IgIF-8INonnW",
        "colab_type": "code",
        "colab": {}
      },
      "source": [
        "gnb = GaussianNB().fit(X_train_resampled, y_train_resampled)"
      ],
      "execution_count": null,
      "outputs": []
    },
    {
      "cell_type": "code",
      "metadata": {
        "id": "aIHdl2RmpiZV",
        "colab_type": "code",
        "colab": {
          "base_uri": "https://localhost:8080/",
          "height": 204
        },
        "outputId": "9b13ce12-483c-49f3-ae3a-439933b0ab3f"
      },
      "source": [
        "y_pred_m3_naive_gaussian = gnb.predict(X_test) \n",
        "print(confusion_matrix(y_test,y_pred_m3_naive_gaussian))\n",
        "print(classification_report(y_test,y_pred_m3_naive_gaussian))"
      ],
      "execution_count": null,
      "outputs": [
        {
          "output_type": "stream",
          "text": [
            "[[ 649  381]\n",
            " [2414 1741]]\n",
            "              precision    recall  f1-score   support\n",
            "\n",
            "         0.0       0.21      0.63      0.32      1030\n",
            "         1.0       0.82      0.42      0.55      4155\n",
            "\n",
            "    accuracy                           0.46      5185\n",
            "   macro avg       0.52      0.52      0.44      5185\n",
            "weighted avg       0.70      0.46      0.51      5185\n",
            "\n"
          ],
          "name": "stdout"
        }
      ]
    },
    {
      "cell_type": "markdown",
      "metadata": {
        "id": "iecRVtWIpnzY",
        "colab_type": "text"
      },
      "source": [
        "| ACTUAL\\PREDICTED          | Deletion (0) | Insertion (1) | TOTAL |\n",
        "|---------------------------|---------------------|-------------------------|-------|\n",
        "|    Deletion (0)|      649             |        381               |   1030   |\n",
        "|  Insertion (1)      |      2414             |        1741              |   4155  |\n",
        "|        TOTAL              |           3063        |        2122             |   5185  |"
      ]
    },
    {
      "cell_type": "code",
      "metadata": {
        "id": "wozn3_mx61rR",
        "colab_type": "code",
        "colab": {}
      },
      "source": [
        "m3_naive_gaussian_auc = roc_auc_score(y_test, y_pred_m3_naive_gaussian)"
      ],
      "execution_count": null,
      "outputs": []
    },
    {
      "cell_type": "code",
      "metadata": {
        "id": "epMCn4dtpks2",
        "colab_type": "code",
        "colab": {}
      },
      "source": [
        "M3_sp_naive_gaussian=0.82\n",
        "M3_se_naive_gaussian=0.42\n",
        "M3_acc_naive_gaussian=0.46"
      ],
      "execution_count": null,
      "outputs": []
    },
    {
      "cell_type": "code",
      "metadata": {
        "id": "vdGmbN8Lp2D9",
        "colab_type": "code",
        "colab": {}
      },
      "source": [
        "naive_gaussian_m3 = {'Model':\"Balanced - SMOTE\", 'Classifier':\"Naive Bayes - Gaussian\", 'Specificity':M3_sp_naive_gaussian, 'Sensitivity':M3_se_naive_gaussian, 'Accuracy':M3_acc_naive_gaussian, 'AUC': m3_naive_gaussian_auc}\n",
        "results = results.append(naive_gaussian_m3, ignore_index=True)"
      ],
      "execution_count": null,
      "outputs": []
    },
    {
      "cell_type": "markdown",
      "metadata": {
        "id": "S9iZEb_jqyJx",
        "colab_type": "text"
      },
      "source": [
        "**Model 4 - Imbalanced towards Mismatch**"
      ]
    },
    {
      "cell_type": "code",
      "metadata": {
        "id": "BnKI96Hsp-Ry",
        "colab_type": "code",
        "colab": {}
      },
      "source": [
        "gnb = GaussianNB().fit(X_train_imbal, y_train_imbal)"
      ],
      "execution_count": null,
      "outputs": []
    },
    {
      "cell_type": "code",
      "metadata": {
        "id": "xwf4lIVyq99-",
        "colab_type": "code",
        "colab": {
          "base_uri": "https://localhost:8080/",
          "height": 204
        },
        "outputId": "a5e59479-3fbc-4a15-d8d5-d9bc03dd6fc5"
      },
      "source": [
        "y_pred_m4_naive_gaussian = gnb.predict(X_test) \n",
        "print(confusion_matrix(y_test,y_pred_m4_naive_gaussian))\n",
        "print(classification_report(y_test,y_pred_m4_naive_gaussian))"
      ],
      "execution_count": null,
      "outputs": [
        {
          "output_type": "stream",
          "text": [
            "[[ 980   50]\n",
            " [3682  473]]\n",
            "              precision    recall  f1-score   support\n",
            "\n",
            "         0.0       0.21      0.95      0.34      1030\n",
            "         1.0       0.90      0.11      0.20      4155\n",
            "\n",
            "    accuracy                           0.28      5185\n",
            "   macro avg       0.56      0.53      0.27      5185\n",
            "weighted avg       0.77      0.28      0.23      5185\n",
            "\n"
          ],
          "name": "stdout"
        }
      ]
    },
    {
      "cell_type": "markdown",
      "metadata": {
        "id": "Y4ovrQjprDRq",
        "colab_type": "text"
      },
      "source": [
        "| ACTUAL\\PREDICTED          | Deletion (0) | Insertion (1) | TOTAL |\n",
        "|---------------------------|---------------------|-------------------------|-------|\n",
        "|    Deletion (0)|      980             |        50               |   1030   |\n",
        "|  Insertion (1)      |      3682             |        473              |   4155  |\n",
        "|        TOTAL              |      4662             |        523             |   5185  |"
      ]
    },
    {
      "cell_type": "code",
      "metadata": {
        "id": "bWPtI21t7HVK",
        "colab_type": "code",
        "colab": {}
      },
      "source": [
        "m4_naive_gaussian_auc = roc_auc_score(y_test, y_pred_m4_naive_gaussian)"
      ],
      "execution_count": null,
      "outputs": []
    },
    {
      "cell_type": "code",
      "metadata": {
        "id": "TALxSYlTrBFk",
        "colab_type": "code",
        "colab": {}
      },
      "source": [
        "M4_sp_naive_gaussian=0.90\n",
        "M4_se_naive_gaussian=0.11\n",
        "M4_acc_naive_gaussian=0.28"
      ],
      "execution_count": null,
      "outputs": []
    },
    {
      "cell_type": "code",
      "metadata": {
        "id": "1IlDso45rbUd",
        "colab_type": "code",
        "colab": {}
      },
      "source": [
        "naive_gaussian_m4 = {'Model':\"Imbalanced - Mismatch\", 'Classifier':\"Naive Bayes - Gaussian\", 'Specificity':M4_sp_naive_gaussian, 'Sensitivity':M4_se_naive_gaussian, 'Accuracy':M4_acc_naive_gaussian, 'AUC': m4_naive_gaussian_auc}\n",
        "results = results.append(naive_gaussian_m4, ignore_index=True)"
      ],
      "execution_count": null,
      "outputs": []
    },
    {
      "cell_type": "markdown",
      "metadata": {
        "id": "d_FUhx82yuSn",
        "colab_type": "text"
      },
      "source": [
        "# **Naive Bayes (Bernoulli)**"
      ]
    },
    {
      "cell_type": "markdown",
      "metadata": {
        "id": "fL173PA6y3hz",
        "colab_type": "text"
      },
      "source": [
        "**Model 1 - Imbalanced towards Match**"
      ]
    },
    {
      "cell_type": "code",
      "metadata": {
        "id": "_se-zY6RrnGL",
        "colab_type": "code",
        "colab": {}
      },
      "source": [
        "gnb = BernoulliNB().fit(X_train, y_train)"
      ],
      "execution_count": null,
      "outputs": []
    },
    {
      "cell_type": "code",
      "metadata": {
        "id": "GqpLXvbfzEmM",
        "colab_type": "code",
        "colab": {
          "base_uri": "https://localhost:8080/",
          "height": 204
        },
        "outputId": "99c56583-f4f5-4a7b-9c75-99c0e99c75b6"
      },
      "source": [
        "y_pred_m1_naive_bernoulli = gnb.predict(X_test) \n",
        "print(confusion_matrix(y_test,y_pred_m1_naive_bernoulli))\n",
        "print(classification_report(y_test,y_pred_m1_naive_bernoulli))"
      ],
      "execution_count": null,
      "outputs": [
        {
          "output_type": "stream",
          "text": [
            "[[   1 1029]\n",
            " [   0 4155]]\n",
            "              precision    recall  f1-score   support\n",
            "\n",
            "         0.0       1.00      0.00      0.00      1030\n",
            "         1.0       0.80      1.00      0.89      4155\n",
            "\n",
            "    accuracy                           0.80      5185\n",
            "   macro avg       0.90      0.50      0.45      5185\n",
            "weighted avg       0.84      0.80      0.71      5185\n",
            "\n"
          ],
          "name": "stdout"
        }
      ]
    },
    {
      "cell_type": "markdown",
      "metadata": {
        "id": "SO-laNKQ_NkO",
        "colab_type": "text"
      },
      "source": [
        "| ACTUAL\\PREDICTED          | Deletion (0) | Insertion (1) | TOTAL |\n",
        "|---------------------------|---------------------|-------------------------|-------|\n",
        "|    Deletion (0)|      1             |        1029               |   1030   |\n",
        "|  Insertion (1)      |      0             |        4155              |   4155  |\n",
        "|        TOTAL              |      1             |        5184             |   5185  |"
      ]
    },
    {
      "cell_type": "code",
      "metadata": {
        "id": "L3DL79S87i6J",
        "colab_type": "code",
        "colab": {}
      },
      "source": [
        "m1_naive_bernoulli_auc = roc_auc_score(y_test, y_pred_m1_naive_bernoulli)"
      ],
      "execution_count": null,
      "outputs": []
    },
    {
      "cell_type": "code",
      "metadata": {
        "id": "ft8MigV3zpsb",
        "colab_type": "code",
        "colab": {}
      },
      "source": [
        "M1_sp_naive_bernoulli=0.80\n",
        "M1_se_naive_bernoulli=1.00\n",
        "M1_acc_naive_bernoulli=0.80"
      ],
      "execution_count": null,
      "outputs": []
    },
    {
      "cell_type": "code",
      "metadata": {
        "id": "EXzv0DMa_vio",
        "colab_type": "code",
        "colab": {}
      },
      "source": [
        "naive_bernoullii_m1 = {'Model':\"Imbalanced - Match\", 'Classifier':\"Naive Bayes - Bernoulli\", 'Specificity':M1_sp_naive_bernoulli, 'Sensitivity':M1_se_naive_bernoulli, 'Accuracy':M1_acc_naive_bernoulli, 'AUC':m1_naive_bernoulli_auc}\n",
        "results = results.append(naive_bernoullii_m1, ignore_index=True)"
      ],
      "execution_count": null,
      "outputs": []
    },
    {
      "cell_type": "markdown",
      "metadata": {
        "id": "iVeWbhXiAXlZ",
        "colab_type": "text"
      },
      "source": [
        "**Model 2 - Manually Balanced**"
      ]
    },
    {
      "cell_type": "code",
      "metadata": {
        "id": "3ufssO5gAEGb",
        "colab_type": "code",
        "colab": {}
      },
      "source": [
        "gnb = BernoulliNB().fit(X_train_bal, y_train_bal)"
      ],
      "execution_count": null,
      "outputs": []
    },
    {
      "cell_type": "code",
      "metadata": {
        "id": "Yw2VKpE7AhGt",
        "colab_type": "code",
        "colab": {
          "base_uri": "https://localhost:8080/",
          "height": 204
        },
        "outputId": "56f401c2-5fdf-4bd6-f406-fab4e89ed9ed"
      },
      "source": [
        "y_pred_m2_naive_bernoulli = gnb.predict(X_test) \n",
        "print(confusion_matrix(y_test,y_pred_m2_naive_bernoulli))\n",
        "print(classification_report(y_test,y_pred_m2_naive_bernoulli))"
      ],
      "execution_count": null,
      "outputs": [
        {
          "output_type": "stream",
          "text": [
            "[[ 876  154]\n",
            " [3325  830]]\n",
            "              precision    recall  f1-score   support\n",
            "\n",
            "         0.0       0.21      0.85      0.33      1030\n",
            "         1.0       0.84      0.20      0.32      4155\n",
            "\n",
            "    accuracy                           0.33      5185\n",
            "   macro avg       0.53      0.53      0.33      5185\n",
            "weighted avg       0.72      0.33      0.33      5185\n",
            "\n"
          ],
          "name": "stdout"
        }
      ]
    },
    {
      "cell_type": "markdown",
      "metadata": {
        "id": "6_bfnVwHAllJ",
        "colab_type": "text"
      },
      "source": [
        "| ACTUAL\\PREDICTED          | Deletion (0) | Insertion (1) | TOTAL |\n",
        "|---------------------------|---------------------|-------------------------|-------|\n",
        "|    Deletion (0)|      876             |        154               |   1030   |\n",
        "|  Insertion (1)      |      3325             |        830              |   4155  |\n",
        "|        TOTAL              |      4201             |        984             |   5185  |"
      ]
    },
    {
      "cell_type": "code",
      "metadata": {
        "id": "rJpzJGoP9q4r",
        "colab_type": "code",
        "colab": {}
      },
      "source": [
        "m2_naive_bernoulli_auc = roc_auc_score(y_test, y_pred_m2_naive_bernoulli)"
      ],
      "execution_count": null,
      "outputs": []
    },
    {
      "cell_type": "code",
      "metadata": {
        "id": "vui29GS7AjRQ",
        "colab_type": "code",
        "colab": {}
      },
      "source": [
        "M2_sp_naive_bernoulli=0.84\n",
        "M2_se_naive_bernoulli=0.20\n",
        "M2_acc_naive_bernoulli=0.33"
      ],
      "execution_count": null,
      "outputs": []
    },
    {
      "cell_type": "code",
      "metadata": {
        "id": "jYSUcxSHAvD-",
        "colab_type": "code",
        "colab": {}
      },
      "source": [
        "naive_bernoullii_m2 = {'Model':\"Balanced - Manual\", 'Classifier':\"Naive Bayes - Bernoulli\", 'Specificity':M2_sp_naive_bernoulli, 'Sensitivity':M2_se_naive_bernoulli, 'Accuracy':M2_acc_naive_bernoulli, 'AUC':m2_naive_bernoulli_auc}\n",
        "results = results.append(naive_bernoullii_m2, ignore_index=True)"
      ],
      "execution_count": null,
      "outputs": []
    },
    {
      "cell_type": "markdown",
      "metadata": {
        "id": "hylGD_pQA_ay",
        "colab_type": "text"
      },
      "source": [
        "**Model 3 - SMOTE Balanced**"
      ]
    },
    {
      "cell_type": "code",
      "metadata": {
        "id": "SwRIis2cA3-a",
        "colab_type": "code",
        "colab": {}
      },
      "source": [
        "gnb = BernoulliNB().fit(X_train_resampled, y_train_resampled)"
      ],
      "execution_count": null,
      "outputs": []
    },
    {
      "cell_type": "code",
      "metadata": {
        "id": "XoW-yDCbBMS1",
        "colab_type": "code",
        "colab": {
          "base_uri": "https://localhost:8080/",
          "height": 204
        },
        "outputId": "6df95f13-6287-4325-f43a-a8e48b35373d"
      },
      "source": [
        "y_pred_m3_naive_bernoulli = gnb.predict(X_test) \n",
        "print(confusion_matrix(y_test,y_pred_m3_naive_bernoulli))\n",
        "print(classification_report(y_test,y_pred_m3_naive_bernoulli))"
      ],
      "execution_count": null,
      "outputs": [
        {
          "output_type": "stream",
          "text": [
            "[[ 598  432]\n",
            " [2185 1970]]\n",
            "              precision    recall  f1-score   support\n",
            "\n",
            "         0.0       0.21      0.58      0.31      1030\n",
            "         1.0       0.82      0.47      0.60      4155\n",
            "\n",
            "    accuracy                           0.50      5185\n",
            "   macro avg       0.52      0.53      0.46      5185\n",
            "weighted avg       0.70      0.50      0.54      5185\n",
            "\n"
          ],
          "name": "stdout"
        }
      ]
    },
    {
      "cell_type": "markdown",
      "metadata": {
        "id": "lqoQjIWBBURp",
        "colab_type": "text"
      },
      "source": [
        "| ACTUAL\\PREDICTED          | Deletion (0) | Insertion (1) | TOTAL |\n",
        "|---------------------------|---------------------|-------------------------|-------|\n",
        "|    Deletion (0)|      598             |        432               |   1030   |\n",
        "|  Insertion (1)      |      2185             |        1970              |   4155  |\n",
        "|        TOTAL              |      2783             |        2402             |   5185  |"
      ]
    },
    {
      "cell_type": "code",
      "metadata": {
        "id": "_qKcYjzu-nqP",
        "colab_type": "code",
        "colab": {}
      },
      "source": [
        "m3_naive_bernoulli_auc = roc_auc_score(y_test, y_pred_m3_naive_bernoulli)"
      ],
      "execution_count": null,
      "outputs": []
    },
    {
      "cell_type": "code",
      "metadata": {
        "id": "-Nkwg9I9BOl-",
        "colab_type": "code",
        "colab": {}
      },
      "source": [
        "M3_sp_naive_bernoulli=0.82\n",
        "M3_se_naive_bernoulli=0.47\n",
        "M3_acc_naive_bernoulli=0.50"
      ],
      "execution_count": null,
      "outputs": []
    },
    {
      "cell_type": "code",
      "metadata": {
        "id": "b4-v0T9pBgZJ",
        "colab_type": "code",
        "colab": {}
      },
      "source": [
        "naive_bernoullii_m3 = {'Model':\"Balanced - SMOTE\", 'Classifier':\"Naive Bayes - Bernoulli\", 'Specificity':M3_sp_naive_bernoulli, 'Sensitivity':M3_se_naive_bernoulli, 'Accuracy':M3_acc_naive_bernoulli, 'AUC':m3_naive_bernoulli_auc}\n",
        "results = results.append(naive_bernoullii_m3, ignore_index=True)"
      ],
      "execution_count": null,
      "outputs": []
    },
    {
      "cell_type": "markdown",
      "metadata": {
        "id": "1MpR7bJWB4UG",
        "colab_type": "text"
      },
      "source": [
        "**Model 4 - Imbalanced towards Mismatch**"
      ]
    },
    {
      "cell_type": "code",
      "metadata": {
        "id": "XFom6HC_BpFd",
        "colab_type": "code",
        "colab": {}
      },
      "source": [
        "gnb = BernoulliNB().fit(X_train_imbal, y_train_imbal)"
      ],
      "execution_count": null,
      "outputs": []
    },
    {
      "cell_type": "code",
      "metadata": {
        "id": "ZzqUtpWSB_9d",
        "colab_type": "code",
        "colab": {
          "base_uri": "https://localhost:8080/",
          "height": 258
        },
        "outputId": "e0862090-6271-495c-97b9-28f1313c03d2"
      },
      "source": [
        "y_pred_m4_naive_bernoulli = gnb.predict(X_test) \n",
        "print(confusion_matrix(y_test,y_pred_m4_naive_bernoulli))\n",
        "print(classification_report(y_test,y_pred_m4_naive_bernoulli))"
      ],
      "execution_count": null,
      "outputs": [
        {
          "output_type": "stream",
          "text": [
            "[[1030    0]\n",
            " [4155    0]]\n",
            "              precision    recall  f1-score   support\n",
            "\n",
            "         0.0       0.20      1.00      0.33      1030\n",
            "         1.0       0.00      0.00      0.00      4155\n",
            "\n",
            "    accuracy                           0.20      5185\n",
            "   macro avg       0.10      0.50      0.17      5185\n",
            "weighted avg       0.04      0.20      0.07      5185\n",
            "\n"
          ],
          "name": "stdout"
        },
        {
          "output_type": "stream",
          "text": [
            "/usr/local/lib/python3.6/dist-packages/sklearn/metrics/_classification.py:1272: UndefinedMetricWarning: Precision and F-score are ill-defined and being set to 0.0 in labels with no predicted samples. Use `zero_division` parameter to control this behavior.\n",
            "  _warn_prf(average, modifier, msg_start, len(result))\n"
          ],
          "name": "stderr"
        }
      ]
    },
    {
      "cell_type": "markdown",
      "metadata": {
        "id": "4VGrm7H7CKVl",
        "colab_type": "text"
      },
      "source": [
        "| ACTUAL\\PREDICTED          | Deletion (0) | Insertion (1) | TOTAL |\n",
        "|---------------------------|---------------------|-------------------------|-------|\n",
        "|    Deletion (0)|      1030             |        0               |   1030   |\n",
        "|  Insertion (1)      |      4155             |        0              |   4155  |\n",
        "|        TOTAL              |      5185             |        0             |   5185  |"
      ]
    },
    {
      "cell_type": "code",
      "metadata": {
        "id": "tbgp6nbL_Pzb",
        "colab_type": "code",
        "colab": {}
      },
      "source": [
        "m4_naive_bernoulli_auc = roc_auc_score(y_test, y_pred_m4_naive_bernoulli)"
      ],
      "execution_count": null,
      "outputs": []
    },
    {
      "cell_type": "code",
      "metadata": {
        "id": "vjSei9qcCHe9",
        "colab_type": "code",
        "colab": {}
      },
      "source": [
        "M4_sp_naive_bernoulli=0.00\n",
        "M4_se_naive_bernoulli=0.00\n",
        "M4_acc_naive_bernoulli=0.20"
      ],
      "execution_count": null,
      "outputs": []
    },
    {
      "cell_type": "code",
      "metadata": {
        "id": "g27KSEB5CRAb",
        "colab_type": "code",
        "colab": {}
      },
      "source": [
        "naive_bernoullii_m4 = {'Model':\"Imbalanced - Mismatch\", 'Classifier':\"Naive Bayes - Bernoulli\", 'Specificity':M4_sp_naive_bernoulli, 'Sensitivity':M4_se_naive_bernoulli, 'Accuracy':M4_acc_naive_bernoulli, 'AUC':m4_naive_bernoulli_auc}\n",
        "results = results.append(naive_bernoullii_m4, ignore_index=True)"
      ],
      "execution_count": null,
      "outputs": []
    },
    {
      "cell_type": "markdown",
      "metadata": {
        "id": "oDnRP3X_D24_",
        "colab_type": "text"
      },
      "source": [
        "# **Random Forest**\n",
        "\n"
      ]
    },
    {
      "cell_type": "markdown",
      "metadata": {
        "id": "bUe0wpqKEC3p",
        "colab_type": "text"
      },
      "source": [
        "**Model 1 - Imbalanced towards Match**"
      ]
    },
    {
      "cell_type": "code",
      "metadata": {
        "id": "j_IhCqBDCZ0b",
        "colab_type": "code",
        "colab": {}
      },
      "source": [
        "rf = RandomForestClassifier().fit(X_train, y_train)"
      ],
      "execution_count": null,
      "outputs": []
    },
    {
      "cell_type": "code",
      "metadata": {
        "id": "sy6nIt4MEMQG",
        "colab_type": "code",
        "colab": {
          "base_uri": "https://localhost:8080/",
          "height": 204
        },
        "outputId": "9312cddd-3fe3-4152-c402-cd68a3ada124"
      },
      "source": [
        "y_pred_m1_rf = rf.predict(X_test)\n",
        "print(confusion_matrix(y_test,y_pred_m1_rf))\n",
        "print(classification_report(y_test,y_pred_m1_rf))"
      ],
      "execution_count": null,
      "outputs": [
        {
          "output_type": "stream",
          "text": [
            "[[ 346  684]\n",
            " [ 225 3930]]\n",
            "              precision    recall  f1-score   support\n",
            "\n",
            "         0.0       0.61      0.34      0.43      1030\n",
            "         1.0       0.85      0.95      0.90      4155\n",
            "\n",
            "    accuracy                           0.82      5185\n",
            "   macro avg       0.73      0.64      0.66      5185\n",
            "weighted avg       0.80      0.82      0.80      5185\n",
            "\n"
          ],
          "name": "stdout"
        }
      ]
    },
    {
      "cell_type": "markdown",
      "metadata": {
        "id": "IWtqR34rOsjb",
        "colab_type": "text"
      },
      "source": [
        "| ACTUAL\\PREDICTED          | Deletion (0) | Insertion (1) | TOTAL |\n",
        "|---------------------------|---------------------|-------------------------|-------|\n",
        "|    Deletion (0)|      346             |        684               |   1030   |\n",
        "|  Insertion (1)      |      225             |        3930              |   4155  |\n",
        "|        TOTAL              |      571             |        4614             |   5185  |"
      ]
    },
    {
      "cell_type": "code",
      "metadata": {
        "id": "ejXqqghvA20Y",
        "colab_type": "code",
        "colab": {}
      },
      "source": [
        "m1_rf_auc = roc_auc_score(y_test, y_pred_m1_rf)"
      ],
      "execution_count": null,
      "outputs": []
    },
    {
      "cell_type": "code",
      "metadata": {
        "id": "DSjGRa0_OJ0K",
        "colab_type": "code",
        "colab": {}
      },
      "source": [
        "M1_sp_rf=0.85\n",
        "M1_se_rf=0.95\n",
        "M1_acc_rf=0.82"
      ],
      "execution_count": null,
      "outputs": []
    },
    {
      "cell_type": "code",
      "metadata": {
        "id": "zv_oxR7bO_wh",
        "colab_type": "code",
        "colab": {}
      },
      "source": [
        "rf_m1 = {'Model':\"Imbalanced - Match\", 'Classifier':\"Random Forest\", 'Specificity':M1_sp_rf, 'Sensitivity':M1_se_rf, 'Accuracy':M1_acc_rf, 'AUC':m1_rf_auc}\n",
        "results = results.append(rf_m1, ignore_index=True)"
      ],
      "execution_count": null,
      "outputs": []
    },
    {
      "cell_type": "markdown",
      "metadata": {
        "id": "w0qjIzY4Pj6I",
        "colab_type": "text"
      },
      "source": [
        "**Model 2 - Manually Balanced**"
      ]
    },
    {
      "cell_type": "code",
      "metadata": {
        "id": "XdjYsDpCPVUB",
        "colab_type": "code",
        "colab": {}
      },
      "source": [
        "rf = RandomForestClassifier().fit(X_train_bal, y_train_bal)"
      ],
      "execution_count": null,
      "outputs": []
    },
    {
      "cell_type": "code",
      "metadata": {
        "id": "635SNFI2Qmzt",
        "colab_type": "code",
        "colab": {
          "base_uri": "https://localhost:8080/",
          "height": 204
        },
        "outputId": "4051aed3-7dfa-4f62-9982-1ca38940ffb0"
      },
      "source": [
        "y_pred_m2_rf = rf.predict(X_test)\n",
        "print(confusion_matrix(y_test,y_pred_m2_rf))\n",
        "print(classification_report(y_test,y_pred_m2_rf))"
      ],
      "execution_count": null,
      "outputs": [
        {
          "output_type": "stream",
          "text": [
            "[[ 677  353]\n",
            " [1888 2267]]\n",
            "              precision    recall  f1-score   support\n",
            "\n",
            "         0.0       0.26      0.66      0.38      1030\n",
            "         1.0       0.87      0.55      0.67      4155\n",
            "\n",
            "    accuracy                           0.57      5185\n",
            "   macro avg       0.56      0.60      0.52      5185\n",
            "weighted avg       0.75      0.57      0.61      5185\n",
            "\n"
          ],
          "name": "stdout"
        }
      ]
    },
    {
      "cell_type": "markdown",
      "metadata": {
        "id": "_XajmQ3LQu8V",
        "colab_type": "text"
      },
      "source": [
        "| ACTUAL\\PREDICTED          | Deletion (0) | Insertion (1) | TOTAL |\n",
        "|---------------------------|---------------------|-------------------------|-------|\n",
        "|    Deletion (0)|      677             |        353               |   1030   |\n",
        "|  Insertion (1)      |      1888             |        2267              |   4155  |\n",
        "|        TOTAL              |      2565             |        2620             |   5185  |"
      ]
    },
    {
      "cell_type": "code",
      "metadata": {
        "id": "GKH3H5nyBPEm",
        "colab_type": "code",
        "colab": {}
      },
      "source": [
        "m2_rf_auc = roc_auc_score(y_test, y_pred_m2_rf)"
      ],
      "execution_count": null,
      "outputs": []
    },
    {
      "cell_type": "code",
      "metadata": {
        "id": "FZMWcWQ4QpcM",
        "colab_type": "code",
        "colab": {}
      },
      "source": [
        "M2_sp_rf=0.87\n",
        "M2_se_rf=0.55\n",
        "M2_acc_rf=0.57"
      ],
      "execution_count": null,
      "outputs": []
    },
    {
      "cell_type": "code",
      "metadata": {
        "id": "NRGw0jkkRF8O",
        "colab_type": "code",
        "colab": {}
      },
      "source": [
        "rf_m2 = {'Model':\"Balanced - Manual\", 'Classifier':\"Random Forest\", 'Specificity':M2_sp_rf, 'Sensitivity':M2_se_rf, 'Accuracy':M2_acc_rf, 'AUC':m2_rf_auc}\n",
        "results = results.append(rf_m2, ignore_index=True)"
      ],
      "execution_count": null,
      "outputs": []
    },
    {
      "cell_type": "markdown",
      "metadata": {
        "id": "bDA44BYwR0n8",
        "colab_type": "text"
      },
      "source": [
        "**Model 3 - SMOTE Balanced**"
      ]
    },
    {
      "cell_type": "code",
      "metadata": {
        "id": "cRJ9bbTyRPee",
        "colab_type": "code",
        "colab": {}
      },
      "source": [
        "rf = RandomForestClassifier().fit(X_train_resampled, y_train_resampled)"
      ],
      "execution_count": null,
      "outputs": []
    },
    {
      "cell_type": "code",
      "metadata": {
        "id": "QQzcEygIR_TX",
        "colab_type": "code",
        "colab": {
          "base_uri": "https://localhost:8080/",
          "height": 204
        },
        "outputId": "ab4adc24-15fd-4661-df3b-1c5056e0a3ce"
      },
      "source": [
        "y_pred_m3_rf = rf.predict(X_test)\n",
        "print(confusion_matrix(y_test,y_pred_m3_rf))\n",
        "print(classification_report(y_test,y_pred_m3_rf))"
      ],
      "execution_count": null,
      "outputs": [
        {
          "output_type": "stream",
          "text": [
            "[[ 401  629]\n",
            " [ 564 3591]]\n",
            "              precision    recall  f1-score   support\n",
            "\n",
            "         0.0       0.42      0.39      0.40      1030\n",
            "         1.0       0.85      0.86      0.86      4155\n",
            "\n",
            "    accuracy                           0.77      5185\n",
            "   macro avg       0.63      0.63      0.63      5185\n",
            "weighted avg       0.76      0.77      0.77      5185\n",
            "\n"
          ],
          "name": "stdout"
        }
      ]
    },
    {
      "cell_type": "markdown",
      "metadata": {
        "id": "evoKopPXSFdA",
        "colab_type": "text"
      },
      "source": [
        "| ACTUAL\\PREDICTED          | Deletion (0) | Insertion (1) | TOTAL |\n",
        "|---------------------------|---------------------|-------------------------|-------|\n",
        "|    Deletion (0)|      401             |        629               |   1030   |\n",
        "|  Insertion (1)      |      564             |        3591              |   4155  |\n",
        "|        TOTAL              |      965             |        4220             |   5185  |"
      ]
    },
    {
      "cell_type": "code",
      "metadata": {
        "id": "r6qislLQBitx",
        "colab_type": "code",
        "colab": {}
      },
      "source": [
        "m3_rf_auc = roc_auc_score(y_test, y_pred_m3_rf)"
      ],
      "execution_count": null,
      "outputs": []
    },
    {
      "cell_type": "code",
      "metadata": {
        "id": "5sOWna9oSBP9",
        "colab_type": "code",
        "colab": {}
      },
      "source": [
        "M3_sp_rf=0.85\n",
        "M3_se_rf=0.86\n",
        "M3_acc_rf=0.77"
      ],
      "execution_count": null,
      "outputs": []
    },
    {
      "cell_type": "code",
      "metadata": {
        "id": "ccA_2HgBSKjp",
        "colab_type": "code",
        "colab": {}
      },
      "source": [
        "rf_m3 = {'Model':\"Balanced - SMOTE\", 'Classifier':\"Random Forest\", 'Specificity':M3_sp_rf, 'Sensitivity':M3_se_rf, 'Accuracy':M3_acc_rf, 'AUC':m3_rf_auc}\n",
        "results = results.append(rf_m3, ignore_index=True)"
      ],
      "execution_count": null,
      "outputs": []
    },
    {
      "cell_type": "markdown",
      "metadata": {
        "id": "9w92meFjS4d7",
        "colab_type": "text"
      },
      "source": [
        "**Model 4 - Imbalanced towards Mismatch**"
      ]
    },
    {
      "cell_type": "code",
      "metadata": {
        "id": "YsEd2Rn0SWh9",
        "colab_type": "code",
        "colab": {}
      },
      "source": [
        "rf = RandomForestClassifier().fit(X_train_imbal, y_train_imbal)"
      ],
      "execution_count": null,
      "outputs": []
    },
    {
      "cell_type": "code",
      "metadata": {
        "id": "MI-E12NLTCe3",
        "colab_type": "code",
        "colab": {
          "base_uri": "https://localhost:8080/",
          "height": 204
        },
        "outputId": "b4f23855-af85-4077-c42e-6303ee52f0af"
      },
      "source": [
        "y_pred_m4_rf = rf.predict(X_test)\n",
        "print(confusion_matrix(y_test,y_pred_m4_rf))\n",
        "print(classification_report(y_test,y_pred_m4_rf))"
      ],
      "execution_count": null,
      "outputs": [
        {
          "output_type": "stream",
          "text": [
            "[[ 882  148]\n",
            " [3118 1037]]\n",
            "              precision    recall  f1-score   support\n",
            "\n",
            "         0.0       0.22      0.86      0.35      1030\n",
            "         1.0       0.88      0.25      0.39      4155\n",
            "\n",
            "    accuracy                           0.37      5185\n",
            "   macro avg       0.55      0.55      0.37      5185\n",
            "weighted avg       0.75      0.37      0.38      5185\n",
            "\n"
          ],
          "name": "stdout"
        }
      ]
    },
    {
      "cell_type": "markdown",
      "metadata": {
        "id": "hhrRb2XkTHTo",
        "colab_type": "text"
      },
      "source": [
        "| ACTUAL\\PREDICTED          | Deletion (0) | Insertion (1) | TOTAL |\n",
        "|---------------------------|---------------------|-------------------------|-------|\n",
        "|    Deletion (0)|      882             |        148               |   1030   |\n",
        "|  Insertion (1)      |      3118             |        1037              |   4155  |\n",
        "|        TOTAL              |      4000             |        1185             |   5185  |"
      ]
    },
    {
      "cell_type": "code",
      "metadata": {
        "id": "FAy7kSBsB03C",
        "colab_type": "code",
        "colab": {}
      },
      "source": [
        "m4_rf_auc = roc_auc_score(y_test, y_pred_m4_rf)"
      ],
      "execution_count": null,
      "outputs": []
    },
    {
      "cell_type": "code",
      "metadata": {
        "id": "oK9ahhHnTE2b",
        "colab_type": "code",
        "colab": {}
      },
      "source": [
        "M4_sp_rf=0.88\n",
        "M4_se_rf=0.25\n",
        "M4_acc_rf=0.37"
      ],
      "execution_count": null,
      "outputs": []
    },
    {
      "cell_type": "code",
      "metadata": {
        "id": "vTsShlSDTPB_",
        "colab_type": "code",
        "colab": {}
      },
      "source": [
        "rf_m4 = {'Model':\"Imbalanced - Mismatch\", 'Classifier':\"Random Forest\", 'Specificity':M4_sp_rf, 'Sensitivity':M4_se_rf, 'Accuracy':M4_acc_rf, 'AUC':m4_rf_auc}\n",
        "results = results.append(rf_m4, ignore_index=True)"
      ],
      "execution_count": null,
      "outputs": []
    },
    {
      "cell_type": "markdown",
      "metadata": {
        "id": "AfebJpC9Z0W8",
        "colab_type": "text"
      },
      "source": [
        "# **LightGBM**"
      ]
    },
    {
      "cell_type": "markdown",
      "metadata": {
        "id": "I3L44TcxZ9Pi",
        "colab_type": "text"
      },
      "source": [
        "**Model 1 - Imbalanced towards Match**"
      ]
    },
    {
      "cell_type": "code",
      "metadata": {
        "id": "aK1CNNKgTaFn",
        "colab_type": "code",
        "colab": {}
      },
      "source": [
        "model = lgb.LGBMClassifier().fit(X_train, y_train)"
      ],
      "execution_count": null,
      "outputs": []
    },
    {
      "cell_type": "code",
      "metadata": {
        "id": "JJ89rRR0aTIw",
        "colab_type": "code",
        "colab": {
          "base_uri": "https://localhost:8080/",
          "height": 204
        },
        "outputId": "231afd95-e28e-4353-b49e-f50ae86a632d"
      },
      "source": [
        "y_pred_m1_lgb = model.predict(X_test) \n",
        "print(confusion_matrix(y_test,y_pred_m1_lgb))\n",
        "print(classification_report(y_test,y_pred_m1_lgb))"
      ],
      "execution_count": null,
      "outputs": [
        {
          "output_type": "stream",
          "text": [
            "[[  26 1004]\n",
            " [  23 4132]]\n",
            "              precision    recall  f1-score   support\n",
            "\n",
            "         0.0       0.53      0.03      0.05      1030\n",
            "         1.0       0.80      0.99      0.89      4155\n",
            "\n",
            "    accuracy                           0.80      5185\n",
            "   macro avg       0.67      0.51      0.47      5185\n",
            "weighted avg       0.75      0.80      0.72      5185\n",
            "\n"
          ],
          "name": "stdout"
        }
      ]
    },
    {
      "cell_type": "markdown",
      "metadata": {
        "id": "xjlXzHyYamQw",
        "colab_type": "text"
      },
      "source": [
        "| ACTUAL\\PREDICTED          | Deletion (0) | Insertion (1) | TOTAL |\n",
        "|---------------------------|---------------------|-------------------------|-------|\n",
        "|    Deletion (0)|      26             |        1004               |   1030   |\n",
        "|  Insertion (1)      |      23             |        4132              |   4155  |\n",
        "|        TOTAL              |      49             |        5136             |   5185  |"
      ]
    },
    {
      "cell_type": "code",
      "metadata": {
        "id": "iLFd24ERCXmE",
        "colab_type": "code",
        "colab": {}
      },
      "source": [
        "m1_lgb_auc = roc_auc_score(y_test, y_pred_m1_lgb)"
      ],
      "execution_count": null,
      "outputs": []
    },
    {
      "cell_type": "code",
      "metadata": {
        "id": "ioRfxj70aVws",
        "colab_type": "code",
        "colab": {}
      },
      "source": [
        "M1_sp_lgb=0.80\n",
        "M1_se_lgb=0.99\n",
        "M1_acc_lgb=0.80"
      ],
      "execution_count": null,
      "outputs": []
    },
    {
      "cell_type": "code",
      "metadata": {
        "id": "YHF2ZJ3obCN-",
        "colab_type": "code",
        "colab": {}
      },
      "source": [
        "lgb_m1 = {'Model':\"Imbalanced - Match\", 'Classifier':\"Light GBM\", 'Specificity':M1_sp_lgb, 'Sensitivity':M1_se_lgb, 'Accuracy':M1_acc_lgb, 'AUC':m1_lgb_auc}\n",
        "results = results.append(lgb_m1, ignore_index=True)"
      ],
      "execution_count": null,
      "outputs": []
    },
    {
      "cell_type": "markdown",
      "metadata": {
        "id": "BNx9A_rcbcI4",
        "colab_type": "text"
      },
      "source": [
        "**Model 2 - Manually Balanced**"
      ]
    },
    {
      "cell_type": "code",
      "metadata": {
        "id": "JzGawDuRbTXb",
        "colab_type": "code",
        "colab": {}
      },
      "source": [
        "model = lgb.LGBMClassifier().fit(X_train_bal, y_train_bal)"
      ],
      "execution_count": null,
      "outputs": []
    },
    {
      "cell_type": "code",
      "metadata": {
        "id": "25RMCWK1bpwH",
        "colab_type": "code",
        "colab": {
          "base_uri": "https://localhost:8080/",
          "height": 204
        },
        "outputId": "1d580472-6a2b-4a05-b985-7563bb4fe21d"
      },
      "source": [
        "y_pred_m2_lgb = model.predict(X_test) \n",
        "print(confusion_matrix(y_test,y_pred_m2_lgb))\n",
        "print(classification_report(y_test,y_pred_m2_lgb))"
      ],
      "execution_count": null,
      "outputs": [
        {
          "output_type": "stream",
          "text": [
            "[[ 598  432]\n",
            " [1946 2209]]\n",
            "              precision    recall  f1-score   support\n",
            "\n",
            "         0.0       0.24      0.58      0.33      1030\n",
            "         1.0       0.84      0.53      0.65      4155\n",
            "\n",
            "    accuracy                           0.54      5185\n",
            "   macro avg       0.54      0.56      0.49      5185\n",
            "weighted avg       0.72      0.54      0.59      5185\n",
            "\n"
          ],
          "name": "stdout"
        }
      ]
    },
    {
      "cell_type": "markdown",
      "metadata": {
        "id": "aJs5Qgmgbypz",
        "colab_type": "text"
      },
      "source": [
        "| ACTUAL\\PREDICTED          | Deletion (0) | Insertion (1) | TOTAL |\n",
        "|---------------------------|---------------------|-------------------------|-------|\n",
        "|    Deletion (0)|      598             |        432               |   1030   |\n",
        "|  Insertion (1)      |      1946             |        2209              |   4155  |\n",
        "|        TOTAL              |      2544             |        2641             |   5185  |"
      ]
    },
    {
      "cell_type": "code",
      "metadata": {
        "id": "WAzsYmseCtAE",
        "colab_type": "code",
        "colab": {}
      },
      "source": [
        "m2_lgb_auc = roc_auc_score(y_test, y_pred_m2_lgb)"
      ],
      "execution_count": null,
      "outputs": []
    },
    {
      "cell_type": "code",
      "metadata": {
        "id": "5tpjnVl8bvR-",
        "colab_type": "code",
        "colab": {}
      },
      "source": [
        "M2_sp_lgb=0.84\n",
        "M2_se_lgb=0.53\n",
        "M2_acc_lgb=0.54"
      ],
      "execution_count": null,
      "outputs": []
    },
    {
      "cell_type": "code",
      "metadata": {
        "id": "hHRfsM7Cb4RS",
        "colab_type": "code",
        "colab": {}
      },
      "source": [
        "lgb_m2 = {'Model':\"Balanced - Manual\", 'Classifier':\"Light GBM\", 'Specificity':M2_sp_lgb, 'Sensitivity':M2_se_lgb, 'Accuracy':M2_acc_lgb, 'AUC':m2_lgb_auc}\n",
        "results = results.append(lgb_m2, ignore_index=True)"
      ],
      "execution_count": null,
      "outputs": []
    },
    {
      "cell_type": "markdown",
      "metadata": {
        "id": "mgmy3E63cF8C",
        "colab_type": "text"
      },
      "source": [
        "**Model 3 - SMOTE Balanced**"
      ]
    },
    {
      "cell_type": "code",
      "metadata": {
        "id": "g06U-ZhmcAY3",
        "colab_type": "code",
        "colab": {}
      },
      "source": [
        "model = lgb.LGBMClassifier().fit(X_train_resampled, y_train_resampled)"
      ],
      "execution_count": null,
      "outputs": []
    },
    {
      "cell_type": "code",
      "metadata": {
        "id": "8C5qWI2QcPKn",
        "colab_type": "code",
        "colab": {
          "base_uri": "https://localhost:8080/",
          "height": 204
        },
        "outputId": "e5a33978-4ec8-4029-c65b-78a9eebe15bc"
      },
      "source": [
        "y_pred_m3_lgb = model.predict(X_test) \n",
        "print(confusion_matrix(y_test,y_pred_m3_lgb))\n",
        "print(classification_report(y_test,y_pred_m3_lgb))"
      ],
      "execution_count": null,
      "outputs": [
        {
          "output_type": "stream",
          "text": [
            "[[  92  938]\n",
            " [ 162 3993]]\n",
            "              precision    recall  f1-score   support\n",
            "\n",
            "         0.0       0.36      0.09      0.14      1030\n",
            "         1.0       0.81      0.96      0.88      4155\n",
            "\n",
            "    accuracy                           0.79      5185\n",
            "   macro avg       0.59      0.53      0.51      5185\n",
            "weighted avg       0.72      0.79      0.73      5185\n",
            "\n"
          ],
          "name": "stdout"
        }
      ]
    },
    {
      "cell_type": "markdown",
      "metadata": {
        "id": "H15zwqZ5cak_",
        "colab_type": "text"
      },
      "source": [
        "| ACTUAL\\PREDICTED          | Deletion (0) | Insertion (1) | TOTAL |\n",
        "|---------------------------|---------------------|-------------------------|-------|\n",
        "|    Deletion (0)|      92             |        938              |   1030   |\n",
        "|  Insertion (1)      |      162             |        3993              |   4155  |\n",
        "|        TOTAL              |      254             |        4931             |   5185  |"
      ]
    },
    {
      "cell_type": "code",
      "metadata": {
        "id": "jVqdpvG2DJZR",
        "colab_type": "code",
        "colab": {}
      },
      "source": [
        "m3_lgb_auc = roc_auc_score(y_test, y_pred_m3_lgb)"
      ],
      "execution_count": null,
      "outputs": []
    },
    {
      "cell_type": "code",
      "metadata": {
        "id": "PkJAOGjlcRbn",
        "colab_type": "code",
        "colab": {}
      },
      "source": [
        "M3_sp_lgb=0.81\n",
        "M3_se_lgb=0.96\n",
        "M3_acc_lgb=0.79"
      ],
      "execution_count": null,
      "outputs": []
    },
    {
      "cell_type": "code",
      "metadata": {
        "id": "bO_-TV03ckxl",
        "colab_type": "code",
        "colab": {}
      },
      "source": [
        "lgb_m3 = {'Model':\"Balanced - SMOTE\", 'Classifier':\"Light GBM\", 'Specificity':M3_sp_lgb, 'Sensitivity':M3_se_lgb, 'Accuracy':M3_acc_lgb, 'AUC':m3_lgb_auc}\n",
        "results = results.append(lgb_m3, ignore_index=True)"
      ],
      "execution_count": null,
      "outputs": []
    },
    {
      "cell_type": "markdown",
      "metadata": {
        "id": "5AnijRPqdnHB",
        "colab_type": "text"
      },
      "source": [
        "**Model 4 - Imbalanced towards Mismatch**"
      ]
    },
    {
      "cell_type": "code",
      "metadata": {
        "id": "yeDyppYHdFNv",
        "colab_type": "code",
        "colab": {}
      },
      "source": [
        "model = lgb.LGBMClassifier().fit(X_train_imbal, y_train_imbal)"
      ],
      "execution_count": null,
      "outputs": []
    },
    {
      "cell_type": "code",
      "metadata": {
        "id": "PIRruBIJdzz2",
        "colab_type": "code",
        "colab": {
          "base_uri": "https://localhost:8080/",
          "height": 204
        },
        "outputId": "a2d4a6df-c53c-41da-ac6c-ea40122baf50"
      },
      "source": [
        "y_pred_m4_lgb = model.predict(X_test) \n",
        "print(confusion_matrix(y_test,y_pred_m4_lgb))\n",
        "print(classification_report(y_test,y_pred_m4_lgb))"
      ],
      "execution_count": null,
      "outputs": [
        {
          "output_type": "stream",
          "text": [
            "[[ 901  129]\n",
            " [3280  875]]\n",
            "              precision    recall  f1-score   support\n",
            "\n",
            "         0.0       0.22      0.87      0.35      1030\n",
            "         1.0       0.87      0.21      0.34      4155\n",
            "\n",
            "    accuracy                           0.34      5185\n",
            "   macro avg       0.54      0.54      0.34      5185\n",
            "weighted avg       0.74      0.34      0.34      5185\n",
            "\n"
          ],
          "name": "stdout"
        }
      ]
    },
    {
      "cell_type": "markdown",
      "metadata": {
        "id": "Yyw402vid5N9",
        "colab_type": "text"
      },
      "source": [
        "| ACTUAL\\PREDICTED          | Deletion (0) | Insertion (1) | TOTAL |\n",
        "|---------------------------|---------------------|-------------------------|-------|\n",
        "|    Deletion (0)|      901             |        129               |   1030   |\n",
        "|  Insertion (1)      |      3280             |        875              |   4155  |\n",
        "|        TOTAL              |      4181             |        1004             |   5185  |"
      ]
    },
    {
      "cell_type": "code",
      "metadata": {
        "id": "MEqcBnMuDbBw",
        "colab_type": "code",
        "colab": {}
      },
      "source": [
        "m4_lgb_auc = roc_auc_score(y_test, y_pred_m4_lgb)"
      ],
      "execution_count": null,
      "outputs": []
    },
    {
      "cell_type": "code",
      "metadata": {
        "id": "eod62Ubfd2P1",
        "colab_type": "code",
        "colab": {}
      },
      "source": [
        "M4_sp_lgb=0.87\n",
        "M4_se_lgb=0.21\n",
        "M4_acc_lgb=0.34"
      ],
      "execution_count": null,
      "outputs": []
    },
    {
      "cell_type": "code",
      "metadata": {
        "id": "LH_Yv_RZd-hc",
        "colab_type": "code",
        "colab": {}
      },
      "source": [
        "lgb_m4 = {'Model':\"Imbalanced - Mismatch\", 'Classifier':\"Light GBM\", 'Specificity':M4_sp_lgb, 'Sensitivity':M4_se_lgb, 'Accuracy':M4_acc_lgb, 'AUC': m4_lgb_auc}\n",
        "results = results.append(lgb_m4, ignore_index=True)"
      ],
      "execution_count": null,
      "outputs": []
    },
    {
      "cell_type": "code",
      "metadata": {
        "id": "uksDUfdtwnmF",
        "colab_type": "code",
        "colab": {
          "base_uri": "https://localhost:8080/",
          "height": 917
        },
        "outputId": "c3649a60-5d67-4185-9ba6-d8180d351064"
      },
      "source": [
        "#results.drop(results.tail(3).index,inplace=True)\n",
        "results"
      ],
      "execution_count": null,
      "outputs": [
        {
          "output_type": "execute_result",
          "data": {
            "text/html": [
              "<div>\n",
              "<style scoped>\n",
              "    .dataframe tbody tr th:only-of-type {\n",
              "        vertical-align: middle;\n",
              "    }\n",
              "\n",
              "    .dataframe tbody tr th {\n",
              "        vertical-align: top;\n",
              "    }\n",
              "\n",
              "    .dataframe thead th {\n",
              "        text-align: right;\n",
              "    }\n",
              "</style>\n",
              "<table border=\"1\" class=\"dataframe\">\n",
              "  <thead>\n",
              "    <tr style=\"text-align: right;\">\n",
              "      <th></th>\n",
              "      <th>Classifier</th>\n",
              "      <th>Model</th>\n",
              "      <th>Specificity</th>\n",
              "      <th>Sensitivity</th>\n",
              "      <th>Accuracy</th>\n",
              "      <th>AUC</th>\n",
              "    </tr>\n",
              "  </thead>\n",
              "  <tbody>\n",
              "    <tr>\n",
              "      <th>0</th>\n",
              "      <td>SVM - Gaussian</td>\n",
              "      <td>Imbalanced - Match</td>\n",
              "      <td>0.80</td>\n",
              "      <td>1.00</td>\n",
              "      <td>0.80</td>\n",
              "      <td>0.502796</td>\n",
              "    </tr>\n",
              "    <tr>\n",
              "      <th>1</th>\n",
              "      <td>SVM - Gaussian</td>\n",
              "      <td>Balanced - Manual</td>\n",
              "      <td>0.82</td>\n",
              "      <td>0.52</td>\n",
              "      <td>0.52</td>\n",
              "      <td>0.528503</td>\n",
              "    </tr>\n",
              "    <tr>\n",
              "      <th>2</th>\n",
              "      <td>SVM - Gaussian</td>\n",
              "      <td>Balanced - SMOTE</td>\n",
              "      <td>0.81</td>\n",
              "      <td>0.63</td>\n",
              "      <td>0.58</td>\n",
              "      <td>0.523680</td>\n",
              "    </tr>\n",
              "    <tr>\n",
              "      <th>3</th>\n",
              "      <td>SVM - Gaussian</td>\n",
              "      <td>Imbalanced - Mismatch</td>\n",
              "      <td>0.86</td>\n",
              "      <td>0.11</td>\n",
              "      <td>0.27</td>\n",
              "      <td>0.518711</td>\n",
              "    </tr>\n",
              "    <tr>\n",
              "      <th>4</th>\n",
              "      <td>SVM - Polynomial</td>\n",
              "      <td>Imbalanced - Match</td>\n",
              "      <td>0.80</td>\n",
              "      <td>1.00</td>\n",
              "      <td>0.80</td>\n",
              "      <td>0.500000</td>\n",
              "    </tr>\n",
              "    <tr>\n",
              "      <th>5</th>\n",
              "      <td>SVM - Polynomial</td>\n",
              "      <td>Balanced - Manual</td>\n",
              "      <td>0.84</td>\n",
              "      <td>0.21</td>\n",
              "      <td>0.33</td>\n",
              "      <td>0.521318</td>\n",
              "    </tr>\n",
              "    <tr>\n",
              "      <th>6</th>\n",
              "      <td>SVM - Polynomial</td>\n",
              "      <td>Balanced - SMOTE</td>\n",
              "      <td>0.83</td>\n",
              "      <td>0.24</td>\n",
              "      <td>0.36</td>\n",
              "      <td>0.523839</td>\n",
              "    </tr>\n",
              "    <tr>\n",
              "      <th>7</th>\n",
              "      <td>SVM - Polynomial</td>\n",
              "      <td>Imbalanced - Mismatch</td>\n",
              "      <td>0.00</td>\n",
              "      <td>0.00</td>\n",
              "      <td>0.20</td>\n",
              "      <td>0.500000</td>\n",
              "    </tr>\n",
              "    <tr>\n",
              "      <th>8</th>\n",
              "      <td>SVM - Sigmoid</td>\n",
              "      <td>Imbalanced - Match</td>\n",
              "      <td>0.80</td>\n",
              "      <td>0.80</td>\n",
              "      <td>0.68</td>\n",
              "      <td>0.503892</td>\n",
              "    </tr>\n",
              "    <tr>\n",
              "      <th>9</th>\n",
              "      <td>SVM - Sigmoid</td>\n",
              "      <td>Balanced - Manual</td>\n",
              "      <td>0.80</td>\n",
              "      <td>0.51</td>\n",
              "      <td>0.51</td>\n",
              "      <td>0.502563</td>\n",
              "    </tr>\n",
              "    <tr>\n",
              "      <th>10</th>\n",
              "      <td>SVM - Sigmoid</td>\n",
              "      <td>Balanced - SMOTE</td>\n",
              "      <td>0.80</td>\n",
              "      <td>0.50</td>\n",
              "      <td>0.50</td>\n",
              "      <td>0.500533</td>\n",
              "    </tr>\n",
              "    <tr>\n",
              "      <th>11</th>\n",
              "      <td>SVM - Sigmoid</td>\n",
              "      <td>Imbalanced - Mismatch</td>\n",
              "      <td>0.80</td>\n",
              "      <td>0.34</td>\n",
              "      <td>0.40</td>\n",
              "      <td>0.500984</td>\n",
              "    </tr>\n",
              "    <tr>\n",
              "      <th>12</th>\n",
              "      <td>Naive Bayes - Gaussian</td>\n",
              "      <td>Imbalanced - Match</td>\n",
              "      <td>0.80</td>\n",
              "      <td>1.00</td>\n",
              "      <td>0.80</td>\n",
              "      <td>0.500000</td>\n",
              "    </tr>\n",
              "    <tr>\n",
              "      <th>13</th>\n",
              "      <td>Naive Bayes - Gaussian</td>\n",
              "      <td>Balanced - Manual</td>\n",
              "      <td>0.82</td>\n",
              "      <td>0.42</td>\n",
              "      <td>0.46</td>\n",
              "      <td>0.521012</td>\n",
              "    </tr>\n",
              "    <tr>\n",
              "      <th>14</th>\n",
              "      <td>Naive Bayes - Gaussian</td>\n",
              "      <td>Balanced - SMOTE</td>\n",
              "      <td>0.82</td>\n",
              "      <td>0.42</td>\n",
              "      <td>0.46</td>\n",
              "      <td>0.524555</td>\n",
              "    </tr>\n",
              "    <tr>\n",
              "      <th>15</th>\n",
              "      <td>Naive Bayes - Gaussian</td>\n",
              "      <td>Imbalanced - Mismatch</td>\n",
              "      <td>0.90</td>\n",
              "      <td>0.11</td>\n",
              "      <td>0.28</td>\n",
              "      <td>0.532648</td>\n",
              "    </tr>\n",
              "    <tr>\n",
              "      <th>16</th>\n",
              "      <td>Naive Bayes - Bernoulli</td>\n",
              "      <td>Imbalanced - Match</td>\n",
              "      <td>0.80</td>\n",
              "      <td>1.00</td>\n",
              "      <td>0.80</td>\n",
              "      <td>0.500485</td>\n",
              "    </tr>\n",
              "    <tr>\n",
              "      <th>17</th>\n",
              "      <td>Naive Bayes - Bernoulli</td>\n",
              "      <td>Balanced - Manual</td>\n",
              "      <td>0.84</td>\n",
              "      <td>0.20</td>\n",
              "      <td>0.33</td>\n",
              "      <td>0.525122</td>\n",
              "    </tr>\n",
              "    <tr>\n",
              "      <th>18</th>\n",
              "      <td>Naive Bayes - Bernoulli</td>\n",
              "      <td>Balanced - SMOTE</td>\n",
              "      <td>0.82</td>\n",
              "      <td>0.47</td>\n",
              "      <td>0.50</td>\n",
              "      <td>0.527355</td>\n",
              "    </tr>\n",
              "    <tr>\n",
              "      <th>19</th>\n",
              "      <td>Naive Bayes - Bernoulli</td>\n",
              "      <td>Imbalanced - Mismatch</td>\n",
              "      <td>0.00</td>\n",
              "      <td>0.00</td>\n",
              "      <td>0.20</td>\n",
              "      <td>0.500000</td>\n",
              "    </tr>\n",
              "    <tr>\n",
              "      <th>20</th>\n",
              "      <td>Random Forest</td>\n",
              "      <td>Imbalanced - Match</td>\n",
              "      <td>0.85</td>\n",
              "      <td>0.95</td>\n",
              "      <td>0.82</td>\n",
              "      <td>0.640885</td>\n",
              "    </tr>\n",
              "    <tr>\n",
              "      <th>21</th>\n",
              "      <td>Random Forest</td>\n",
              "      <td>Balanced - Manual</td>\n",
              "      <td>0.87</td>\n",
              "      <td>0.55</td>\n",
              "      <td>0.57</td>\n",
              "      <td>0.601445</td>\n",
              "    </tr>\n",
              "    <tr>\n",
              "      <th>22</th>\n",
              "      <td>Random Forest</td>\n",
              "      <td>Balanced - SMOTE</td>\n",
              "      <td>0.85</td>\n",
              "      <td>0.86</td>\n",
              "      <td>0.77</td>\n",
              "      <td>0.626790</td>\n",
              "    </tr>\n",
              "    <tr>\n",
              "      <th>23</th>\n",
              "      <td>Random Forest</td>\n",
              "      <td>Imbalanced - Mismatch</td>\n",
              "      <td>0.88</td>\n",
              "      <td>0.25</td>\n",
              "      <td>0.37</td>\n",
              "      <td>0.552945</td>\n",
              "    </tr>\n",
              "    <tr>\n",
              "      <th>24</th>\n",
              "      <td>Light GBM</td>\n",
              "      <td>Imbalanced - Match</td>\n",
              "      <td>0.80</td>\n",
              "      <td>0.99</td>\n",
              "      <td>0.80</td>\n",
              "      <td>0.509854</td>\n",
              "    </tr>\n",
              "    <tr>\n",
              "      <th>25</th>\n",
              "      <td>Light GBM</td>\n",
              "      <td>Balanced - Manual</td>\n",
              "      <td>0.84</td>\n",
              "      <td>0.53</td>\n",
              "      <td>0.54</td>\n",
              "      <td>0.556116</td>\n",
              "    </tr>\n",
              "    <tr>\n",
              "      <th>26</th>\n",
              "      <td>Light GBM</td>\n",
              "      <td>Balanced - SMOTE</td>\n",
              "      <td>0.81</td>\n",
              "      <td>0.96</td>\n",
              "      <td>0.79</td>\n",
              "      <td>0.525166</td>\n",
              "    </tr>\n",
              "    <tr>\n",
              "      <th>27</th>\n",
              "      <td>Light GBM</td>\n",
              "      <td>Imbalanced - Mismatch</td>\n",
              "      <td>0.87</td>\n",
              "      <td>0.21</td>\n",
              "      <td>0.34</td>\n",
              "      <td>0.542673</td>\n",
              "    </tr>\n",
              "  </tbody>\n",
              "</table>\n",
              "</div>"
            ],
            "text/plain": [
              "                 Classifier                  Model  ...  Accuracy       AUC\n",
              "0            SVM - Gaussian     Imbalanced - Match  ...      0.80  0.502796\n",
              "1            SVM - Gaussian      Balanced - Manual  ...      0.52  0.528503\n",
              "2            SVM - Gaussian       Balanced - SMOTE  ...      0.58  0.523680\n",
              "3            SVM - Gaussian  Imbalanced - Mismatch  ...      0.27  0.518711\n",
              "4          SVM - Polynomial     Imbalanced - Match  ...      0.80  0.500000\n",
              "5          SVM - Polynomial      Balanced - Manual  ...      0.33  0.521318\n",
              "6          SVM - Polynomial       Balanced - SMOTE  ...      0.36  0.523839\n",
              "7          SVM - Polynomial  Imbalanced - Mismatch  ...      0.20  0.500000\n",
              "8             SVM - Sigmoid     Imbalanced - Match  ...      0.68  0.503892\n",
              "9             SVM - Sigmoid      Balanced - Manual  ...      0.51  0.502563\n",
              "10            SVM - Sigmoid       Balanced - SMOTE  ...      0.50  0.500533\n",
              "11            SVM - Sigmoid  Imbalanced - Mismatch  ...      0.40  0.500984\n",
              "12   Naive Bayes - Gaussian     Imbalanced - Match  ...      0.80  0.500000\n",
              "13   Naive Bayes - Gaussian      Balanced - Manual  ...      0.46  0.521012\n",
              "14   Naive Bayes - Gaussian       Balanced - SMOTE  ...      0.46  0.524555\n",
              "15   Naive Bayes - Gaussian  Imbalanced - Mismatch  ...      0.28  0.532648\n",
              "16  Naive Bayes - Bernoulli     Imbalanced - Match  ...      0.80  0.500485\n",
              "17  Naive Bayes - Bernoulli      Balanced - Manual  ...      0.33  0.525122\n",
              "18  Naive Bayes - Bernoulli       Balanced - SMOTE  ...      0.50  0.527355\n",
              "19  Naive Bayes - Bernoulli  Imbalanced - Mismatch  ...      0.20  0.500000\n",
              "20            Random Forest     Imbalanced - Match  ...      0.82  0.640885\n",
              "21            Random Forest      Balanced - Manual  ...      0.57  0.601445\n",
              "22            Random Forest       Balanced - SMOTE  ...      0.77  0.626790\n",
              "23            Random Forest  Imbalanced - Mismatch  ...      0.37  0.552945\n",
              "24                Light GBM     Imbalanced - Match  ...      0.80  0.509854\n",
              "25                Light GBM      Balanced - Manual  ...      0.54  0.556116\n",
              "26                Light GBM       Balanced - SMOTE  ...      0.79  0.525166\n",
              "27                Light GBM  Imbalanced - Mismatch  ...      0.34  0.542673\n",
              "\n",
              "[28 rows x 6 columns]"
            ]
          },
          "metadata": {
            "tags": []
          },
          "execution_count": 207
        }
      ]
    },
    {
      "cell_type": "code",
      "metadata": {
        "id": "Ysr7w__9KmXC",
        "colab_type": "code",
        "colab": {
          "base_uri": "https://localhost:8080/",
          "height": 297
        },
        "outputId": "c61c506e-417b-4e4e-fd53-823d9d7c66c1"
      },
      "source": [
        "results.sort_values('AUC').tail(10)"
      ],
      "execution_count": null,
      "outputs": [
        {
          "output_type": "execute_result",
          "data": {
            "text/html": [
              "<div>\n",
              "<style scoped>\n",
              "    .dataframe tbody tr th:only-of-type {\n",
              "        vertical-align: middle;\n",
              "    }\n",
              "\n",
              "    .dataframe tbody tr th {\n",
              "        vertical-align: top;\n",
              "    }\n",
              "\n",
              "    .dataframe thead th {\n",
              "        text-align: right;\n",
              "    }\n",
              "</style>\n",
              "<table border=\"1\" class=\"dataframe\">\n",
              "  <thead>\n",
              "    <tr style=\"text-align: right;\">\n",
              "      <th></th>\n",
              "      <th>Classifier</th>\n",
              "      <th>Model</th>\n",
              "      <th>Specificity</th>\n",
              "      <th>Sensitivity</th>\n",
              "      <th>Accuracy</th>\n",
              "      <th>AUC</th>\n",
              "    </tr>\n",
              "  </thead>\n",
              "  <tbody>\n",
              "    <tr>\n",
              "      <th>1</th>\n",
              "      <td>SVM - Gaussian</td>\n",
              "      <td>Balanced - Manual</td>\n",
              "      <td>0.82</td>\n",
              "      <td>0.52</td>\n",
              "      <td>0.52</td>\n",
              "      <td>0.528503</td>\n",
              "    </tr>\n",
              "    <tr>\n",
              "      <th>15</th>\n",
              "      <td>Naive Bayes - Gaussian</td>\n",
              "      <td>Imbalanced - Mismatch</td>\n",
              "      <td>0.90</td>\n",
              "      <td>0.11</td>\n",
              "      <td>0.28</td>\n",
              "      <td>0.532648</td>\n",
              "    </tr>\n",
              "    <tr>\n",
              "      <th>27</th>\n",
              "      <td>Light GBM</td>\n",
              "      <td>Imbalanced - Mismatch</td>\n",
              "      <td>0.87</td>\n",
              "      <td>0.21</td>\n",
              "      <td>0.34</td>\n",
              "      <td>0.542673</td>\n",
              "    </tr>\n",
              "    <tr>\n",
              "      <th>23</th>\n",
              "      <td>Random Forest</td>\n",
              "      <td>Imbalanced - Mismatch</td>\n",
              "      <td>0.88</td>\n",
              "      <td>0.25</td>\n",
              "      <td>0.37</td>\n",
              "      <td>0.552945</td>\n",
              "    </tr>\n",
              "    <tr>\n",
              "      <th>25</th>\n",
              "      <td>Light GBM</td>\n",
              "      <td>Balanced - Manual</td>\n",
              "      <td>0.84</td>\n",
              "      <td>0.53</td>\n",
              "      <td>0.54</td>\n",
              "      <td>0.556116</td>\n",
              "    </tr>\n",
              "    <tr>\n",
              "      <th>21</th>\n",
              "      <td>Random Forest</td>\n",
              "      <td>Balanced - Manual</td>\n",
              "      <td>0.87</td>\n",
              "      <td>0.55</td>\n",
              "      <td>0.57</td>\n",
              "      <td>0.601445</td>\n",
              "    </tr>\n",
              "    <tr>\n",
              "      <th>22</th>\n",
              "      <td>Random Forest</td>\n",
              "      <td>Balanced - SMOTE</td>\n",
              "      <td>0.85</td>\n",
              "      <td>0.86</td>\n",
              "      <td>0.77</td>\n",
              "      <td>0.626790</td>\n",
              "    </tr>\n",
              "    <tr>\n",
              "      <th>20</th>\n",
              "      <td>Random Forest</td>\n",
              "      <td>Imbalanced - Match</td>\n",
              "      <td>0.85</td>\n",
              "      <td>0.95</td>\n",
              "      <td>0.82</td>\n",
              "      <td>0.640885</td>\n",
              "    </tr>\n",
              "  </tbody>\n",
              "</table>\n",
              "</div>"
            ],
            "text/plain": [
              "                Classifier                  Model  ...  Accuracy       AUC\n",
              "1           SVM - Gaussian      Balanced - Manual  ...      0.52  0.528503\n",
              "15  Naive Bayes - Gaussian  Imbalanced - Mismatch  ...      0.28  0.532648\n",
              "27               Light GBM  Imbalanced - Mismatch  ...      0.34  0.542673\n",
              "23           Random Forest  Imbalanced - Mismatch  ...      0.37  0.552945\n",
              "25               Light GBM      Balanced - Manual  ...      0.54  0.556116\n",
              "21           Random Forest      Balanced - Manual  ...      0.57  0.601445\n",
              "22           Random Forest       Balanced - SMOTE  ...      0.77  0.626790\n",
              "20           Random Forest     Imbalanced - Match  ...      0.82  0.640885\n",
              "\n",
              "[8 rows x 6 columns]"
            ]
          },
          "metadata": {
            "tags": []
          },
          "execution_count": 208
        }
      ]
    },
    {
      "cell_type": "code",
      "metadata": {
        "id": "TqsevI-5pZhu",
        "colab_type": "code",
        "colab": {
          "base_uri": "https://localhost:8080/",
          "height": 339
        },
        "outputId": "d7c753bb-8de5-450d-8c45-dd96d0b870a2"
      },
      "source": [
        "# calculate roc curves\n",
        "ns_fpr, ns_tpr, _ = roc_curve(y_test, ns_probs)\n",
        "m1_svm_linear_fpr, m1_svm_linear_tpr, _ = roc_curve(y_test, y_pred_m1_svm_linear)\n",
        "m2_svm_linear_fpr, m2_svm_linear_tpr, _ = roc_curve(y_test, y_pred_m2_svm_linear)\n",
        "m3_svm_linear_fpr, m3_svm_linear_tpr, _ = roc_curve(y_test, y_pred_m3_svm_linear)\n",
        "m4_svm_linear_fpr, m4_svm_linear_tpr, _ = roc_curve(y_test, y_pred_m4_svm_linear)\n",
        "m1_naive_gaussian_fpr, m1_naive_gaussian_tpr, _ = roc_curve(y_test, y_pred_m1_naive_gaussian)\n",
        "m2_naive_gaussian_fpr, m2_naive_gaussian_tpr, _ = roc_curve(y_test, y_pred_m2_naive_gaussian)\n",
        "m3_naive_gaussian_fpr, m3_naive_gaussian_tpr, _ = roc_curve(y_test, y_pred_m3_naive_gaussian)\n",
        "m4_naive_gaussian_fpr, m4_naive_gaussian_tpr, _ = roc_curve(y_test, y_pred_m4_naive_gaussian)\n",
        "m1_rf_fpr, m1_rf_tpr, _ = roc_curve(y_test, y_pred_m1_rf)\n",
        "m2_rf_fpr, m2_rf_tpr, _ = roc_curve(y_test, y_pred_m2_rf)\n",
        "m3_rf_fpr, m3_rf_tpr, _ = roc_curve(y_test, y_pred_m3_rf)\n",
        "m4_rf_fpr, m4_rf_tpr, _ = roc_curve(y_test, y_pred_m4_rf)\n",
        "m1_lgb_fpr, m1_lgb_tpr, _ = roc_curve(y_test, y_pred_m1_lgb)\n",
        "m2_lgb_fpr, m2_lgb_tpr, _ = roc_curve(y_test, y_pred_m2_lgb)\n",
        "m3_lgb_fpr, m3_lgb_tpr, _ = roc_curve(y_test, y_pred_m3_lgb)\n",
        "m4_lgb_fpr, m4_lgb_tpr, _ = roc_curve(y_test, y_pred_m4_lgb)\n",
        "\n",
        "\n",
        "# plot the roc curve for the model\n",
        "pyplot.plot(ns_fpr, ns_tpr, linestyle='--', label='No Skill')\n",
        "pyplot.plot(m1_svm_linear_fpr, m1_svm_linear_tpr, marker='.', label='M1_SVM_Linear')\n",
        "pyplot.plot(m2_svm_linear_fpr, m2_svm_linear_tpr, marker='.', label='M2_SVM_Linear')\n",
        "pyplot.plot(m3_svm_linear_fpr, m3_svm_linear_tpr, marker='.', label='M3_SVM_Linear')\n",
        "pyplot.plot(m4_svm_linear_fpr, m4_svm_linear_tpr, marker='.', label='M4_SVM_Linear')\n",
        "pyplot.plot(m1_naive_gaussian_fpr, m1_naive_gaussian_tpr, marker='.', label='M1_Naive_Bayes_Gaussian')\n",
        "pyplot.plot(m2_naive_gaussian_fpr, m2_naive_gaussian_tpr, marker='.', label='M2_Naive_Bayes_Gaussian')\n",
        "pyplot.plot(m3_naive_gaussian_fpr, m3_naive_gaussian_tpr, marker='.', label='M3_Naive_Bayes_Gaussian')\n",
        "pyplot.plot(m4_naive_gaussian_fpr, m4_naive_gaussian_tpr, marker='.', label='M4_Naive_Bayes_Gaussian')\n",
        "pyplot.plot(m1_rf_fpr, m1_rf_tpr, marker='.', label='M1_Random_Forest')\n",
        "pyplot.plot(m2_rf_fpr, m2_rf_tpr, marker='.', label='M2_Random_Forest')\n",
        "pyplot.plot(m3_rf_fpr, m3_rf_tpr, marker='.', label='M3_Random_Forest')\n",
        "pyplot.plot(m4_rf_fpr, m4_rf_tpr, marker='.', label='M4_Random_Forest')\n",
        "pyplot.plot(m1_lgb_fpr, m1_lgb_tpr, marker='.', label='M1_LightGBM')\n",
        "pyplot.plot(m2_lgb_fpr, m2_lgb_tpr, marker='.', label='M2_LightGBM')\n",
        "pyplot.plot(m3_lgb_fpr, m3_lgb_tpr, marker='.', label='M3_LightGBM')\n",
        "pyplot.plot(m4_lgb_fpr, m4_lgb_tpr, marker='.', label='M4_LightGBM')\n",
        "\n",
        "\n",
        "# axis labels\n",
        "pyplot.xlabel('False Positive Rate')\n",
        "pyplot.ylabel('True Positive Rate')\n",
        "# show the legend\n",
        "pyplot.legend()\n",
        "# show the plot\n",
        "pyplot.show()"
      ],
      "execution_count": null,
      "outputs": [
        {
          "output_type": "display_data",
          "data": {
            "image/png": "[encoded data removed]",
            "text/plain": [
              "<Figure size 432x288 with 1 Axes>"
            ]
          },
          "metadata": {
            "tags": [],
            "needs_background": "light"
          }
        }
      ]
    },
    {
      "cell_type": "code",
      "metadata": {
        "id": "OQEYMYFEJYe0",
        "colab_type": "code",
        "colab": {}
      },
      "source": [
        ""
      ],
      "execution_count": null,
      "outputs": []
    }
  ]
}