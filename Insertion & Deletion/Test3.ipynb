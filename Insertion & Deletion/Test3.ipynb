{
  "nbformat": 4,
  "nbformat_minor": 0,
  "metadata": {
    "colab": {
      "name": "Test3.ipynb",
      "provenance": [],
      "collapsed_sections": [],
      "toc_visible": true
    },
    "kernelspec": {
      "name": "python3",
      "display_name": "Python 3"
    }
  },
  "cells": [
    {
      "cell_type": "code",
      "metadata": {
        "id": "hp0IApKqOiU2",
        "colab_type": "code",
        "colab": {
          "base_uri": "https://localhost:8080/",
          "height": 107
        },
        "outputId": "0f463f53-643b-4ac4-cb75-4b895fc32764"
      },
      "source": [
        "import pandas as pd\n",
        "import imblearn\n",
        "import lightgbm as lgb\n",
        "import matplotlib.pyplot as plt\n",
        "import numpy as np\n",
        "from sklearn.linear_model import LinearRegression\n",
        "from sklearn.svm import SVC\n",
        "from sklearn.metrics import classification_report, confusion_matrix\n",
        "from imblearn.over_sampling import SMOTE\n",
        "from sklearn.naive_bayes import GaussianNB\n",
        "from sklearn.naive_bayes import BernoulliNB\n",
        "from sklearn.ensemble import RandomForestClassifier\n",
        "from sklearn.model_selection import train_test_split\n",
        "from sklearn import metrics\n",
        "from sklearn import linear_model\n",
        "from sklearn.metrics import roc_curve\n",
        "from sklearn.metrics import roc_auc_score\n",
        "from matplotlib import pyplot"
      ],
      "execution_count": null,
      "outputs": [
        {
          "output_type": "stream",
          "text": [
            "/usr/local/lib/python3.6/dist-packages/sklearn/externals/six.py:31: FutureWarning: The module is deprecated in version 0.21 and will be removed in version 0.23 since we've dropped support for Python 2.7. Please rely on the official version of six (https://pypi.org/project/six/).\n",
            "  \"(https://pypi.org/project/six/).\", FutureWarning)\n",
            "/usr/local/lib/python3.6/dist-packages/sklearn/utils/deprecation.py:144: FutureWarning: The sklearn.neighbors.base module is  deprecated in version 0.22 and will be removed in version 0.24. The corresponding classes / functions should instead be imported from sklearn.neighbors. Anything that cannot be imported from sklearn.neighbors is now part of the private API.\n",
            "  warnings.warn(message, FutureWarning)\n"
          ],
          "name": "stderr"
        }
      ]
    },
    {
      "cell_type": "code",
      "metadata": {
        "id": "gU9hb4rmua6o",
        "colab_type": "code",
        "colab": {
          "base_uri": "https://localhost:8080/",
          "height": 197
        },
        "outputId": "567b6c5e-2b01-424a-e7d5-0e71d3546f1e"
      },
      "source": [
        "data = pd.read_csv(\"encode3_off.csv\")\n",
        "data.head()"
      ],
      "execution_count": null,
      "outputs": [
        {
          "output_type": "execute_result",
          "data": {
            "text/html": [
              "<div>\n",
              "<style scoped>\n",
              "    .dataframe tbody tr th:only-of-type {\n",
              "        vertical-align: middle;\n",
              "    }\n",
              "\n",
              "    .dataframe tbody tr th {\n",
              "        vertical-align: top;\n",
              "    }\n",
              "\n",
              "    .dataframe thead th {\n",
              "        text-align: right;\n",
              "    }\n",
              "</style>\n",
              "<table border=\"1\" class=\"dataframe\">\n",
              "  <thead>\n",
              "    <tr style=\"text-align: right;\">\n",
              "      <th></th>\n",
              "      <th>Unnamed: 0</th>\n",
              "      <th>Protein Annotation</th>\n",
              "      <th>Day21-ETP</th>\n",
              "      <th>sgRNA_vs_Target</th>\n",
              "      <th>TID</th>\n",
              "      <th>MatchResult</th>\n",
              "    </tr>\n",
              "  </thead>\n",
              "  <tbody>\n",
              "    <tr>\n",
              "      <th>0</th>\n",
              "      <td>1</td>\n",
              "      <td>76.54</td>\n",
              "      <td>0.490986</td>\n",
              "      <td>13</td>\n",
              "      <td>0</td>\n",
              "      <td>1</td>\n",
              "    </tr>\n",
              "    <tr>\n",
              "      <th>1</th>\n",
              "      <td>2</td>\n",
              "      <td>76.54</td>\n",
              "      <td>0.428038</td>\n",
              "      <td>14</td>\n",
              "      <td>0</td>\n",
              "      <td>0</td>\n",
              "    </tr>\n",
              "    <tr>\n",
              "      <th>2</th>\n",
              "      <td>4</td>\n",
              "      <td>76.54</td>\n",
              "      <td>0.143454</td>\n",
              "      <td>14</td>\n",
              "      <td>0</td>\n",
              "      <td>1</td>\n",
              "    </tr>\n",
              "    <tr>\n",
              "      <th>3</th>\n",
              "      <td>5</td>\n",
              "      <td>76.54</td>\n",
              "      <td>0.143454</td>\n",
              "      <td>14</td>\n",
              "      <td>0</td>\n",
              "      <td>1</td>\n",
              "    </tr>\n",
              "    <tr>\n",
              "      <th>4</th>\n",
              "      <td>10</td>\n",
              "      <td>76.54</td>\n",
              "      <td>0.055372</td>\n",
              "      <td>13</td>\n",
              "      <td>0</td>\n",
              "      <td>0</td>\n",
              "    </tr>\n",
              "  </tbody>\n",
              "</table>\n",
              "</div>"
            ],
            "text/plain": [
              "   Unnamed: 0  Protein Annotation  Day21-ETP  sgRNA_vs_Target  TID  MatchResult\n",
              "0           1               76.54   0.490986               13    0            1\n",
              "1           2               76.54   0.428038               14    0            0\n",
              "2           4               76.54   0.143454               14    0            1\n",
              "3           5               76.54   0.143454               14    0            1\n",
              "4          10               76.54   0.055372               13    0            0"
            ]
          },
          "metadata": {
            "tags": []
          },
          "execution_count": 2
        }
      ]
    },
    {
      "cell_type": "code",
      "metadata": {
        "id": "SvnghSGsU-zk",
        "colab_type": "code",
        "colab": {
          "base_uri": "https://localhost:8080/",
          "height": 197
        },
        "outputId": "00a977fa-100e-4b7b-adab-ee90c54d5b34"
      },
      "source": [
        "data = data.drop(['Unnamed: 0'], axis=1)\n",
        "data.head()"
      ],
      "execution_count": null,
      "outputs": [
        {
          "output_type": "execute_result",
          "data": {
            "text/html": [
              "<div>\n",
              "<style scoped>\n",
              "    .dataframe tbody tr th:only-of-type {\n",
              "        vertical-align: middle;\n",
              "    }\n",
              "\n",
              "    .dataframe tbody tr th {\n",
              "        vertical-align: top;\n",
              "    }\n",
              "\n",
              "    .dataframe thead th {\n",
              "        text-align: right;\n",
              "    }\n",
              "</style>\n",
              "<table border=\"1\" class=\"dataframe\">\n",
              "  <thead>\n",
              "    <tr style=\"text-align: right;\">\n",
              "      <th></th>\n",
              "      <th>Protein Annotation</th>\n",
              "      <th>Day21-ETP</th>\n",
              "      <th>sgRNA_vs_Target</th>\n",
              "      <th>TID</th>\n",
              "      <th>MatchResult</th>\n",
              "    </tr>\n",
              "  </thead>\n",
              "  <tbody>\n",
              "    <tr>\n",
              "      <th>0</th>\n",
              "      <td>76.54</td>\n",
              "      <td>0.490986</td>\n",
              "      <td>13</td>\n",
              "      <td>0</td>\n",
              "      <td>1</td>\n",
              "    </tr>\n",
              "    <tr>\n",
              "      <th>1</th>\n",
              "      <td>76.54</td>\n",
              "      <td>0.428038</td>\n",
              "      <td>14</td>\n",
              "      <td>0</td>\n",
              "      <td>0</td>\n",
              "    </tr>\n",
              "    <tr>\n",
              "      <th>2</th>\n",
              "      <td>76.54</td>\n",
              "      <td>0.143454</td>\n",
              "      <td>14</td>\n",
              "      <td>0</td>\n",
              "      <td>1</td>\n",
              "    </tr>\n",
              "    <tr>\n",
              "      <th>3</th>\n",
              "      <td>76.54</td>\n",
              "      <td>0.143454</td>\n",
              "      <td>14</td>\n",
              "      <td>0</td>\n",
              "      <td>1</td>\n",
              "    </tr>\n",
              "    <tr>\n",
              "      <th>4</th>\n",
              "      <td>76.54</td>\n",
              "      <td>0.055372</td>\n",
              "      <td>13</td>\n",
              "      <td>0</td>\n",
              "      <td>0</td>\n",
              "    </tr>\n",
              "  </tbody>\n",
              "</table>\n",
              "</div>"
            ],
            "text/plain": [
              "   Protein Annotation  Day21-ETP  sgRNA_vs_Target  TID  MatchResult\n",
              "0               76.54   0.490986               13    0            1\n",
              "1               76.54   0.428038               14    0            0\n",
              "2               76.54   0.143454               14    0            1\n",
              "3               76.54   0.143454               14    0            1\n",
              "4               76.54   0.055372               13    0            0"
            ]
          },
          "metadata": {
            "tags": []
          },
          "execution_count": 3
        }
      ]
    },
    {
      "cell_type": "code",
      "metadata": {
        "id": "7MtIDnMvqfKZ",
        "colab_type": "code",
        "colab": {
          "base_uri": "https://localhost:8080/",
          "height": 332
        },
        "outputId": "105f6bdd-a585-4e6e-bbcd-7104b405640f"
      },
      "source": [
        "plt.matshow(data.corr())\n",
        "plt.xticks(np.arange(5), data.columns, rotation=90)\n",
        "plt.yticks(np.arange(5), data.columns, rotation=0)\n",
        "plt.colorbar()\n",
        "plt.show()"
      ],
      "execution_count": null,
      "outputs": [
        {
          "output_type": "display_data",
          "data": {
            "image/png": "[encoded data removed]",
            "text/plain": [
              "<Figure size 288x288 with 2 Axes>"
            ]
          },
          "metadata": {
            "tags": [],
            "needs_background": "light"
          }
        }
      ]
    },
    {
      "cell_type": "code",
      "metadata": {
        "id": "v-1j7BONVFvA",
        "colab_type": "code",
        "colab": {}
      },
      "source": [
        "count = 0\n",
        "test = pd.DataFrame()\n",
        "train = pd.DataFrame()\n",
        "for index, row in data.iterrows():\n",
        "    count += 1\n",
        "    if (count%3)==0:\n",
        "        test = test.append(row)\n",
        "    else:\n",
        "        train = train.append(row)"
      ],
      "execution_count": null,
      "outputs": []
    },
    {
      "cell_type": "code",
      "metadata": {
        "id": "AV3oPzubZVom",
        "colab_type": "code",
        "colab": {}
      },
      "source": [
        "train1 = train\n",
        "test1 = test"
      ],
      "execution_count": null,
      "outputs": []
    },
    {
      "cell_type": "code",
      "metadata": {
        "id": "2l4XGuPaZYF7",
        "colab_type": "code",
        "colab": {
          "base_uri": "https://localhost:8080/",
          "height": 230
        },
        "outputId": "354c906f-d88c-4d3e-e99d-4419fcea139b"
      },
      "source": [
        "train1.info()"
      ],
      "execution_count": null,
      "outputs": [
        {
          "output_type": "stream",
          "text": [
            "<class 'pandas.core.frame.DataFrame'>\n",
            "Int64Index: 15555 entries, 0 to 23331\n",
            "Data columns (total 5 columns):\n",
            " #   Column              Non-Null Count  Dtype  \n",
            "---  ------              --------------  -----  \n",
            " 0   Day21-ETP           15555 non-null  float64\n",
            " 1   MatchResult         15555 non-null  float64\n",
            " 2   Protein Annotation  15555 non-null  float64\n",
            " 3   TID                 15555 non-null  float64\n",
            " 4   sgRNA_vs_Target     15555 non-null  float64\n",
            "dtypes: float64(5)\n",
            "memory usage: 729.1 KB\n"
          ],
          "name": "stdout"
        }
      ]
    },
    {
      "cell_type": "code",
      "metadata": {
        "id": "6pQzDP-JZcux",
        "colab_type": "code",
        "colab": {
          "base_uri": "https://localhost:8080/",
          "height": 230
        },
        "outputId": "a7c09f62-de77-4ca4-f42e-33eaa257a1a1"
      },
      "source": [
        "test1.info()"
      ],
      "execution_count": null,
      "outputs": [
        {
          "output_type": "stream",
          "text": [
            "<class 'pandas.core.frame.DataFrame'>\n",
            "Int64Index: 7777 entries, 2 to 23330\n",
            "Data columns (total 5 columns):\n",
            " #   Column              Non-Null Count  Dtype  \n",
            "---  ------              --------------  -----  \n",
            " 0   Day21-ETP           7777 non-null   float64\n",
            " 1   MatchResult         7777 non-null   float64\n",
            " 2   Protein Annotation  7777 non-null   float64\n",
            " 3   TID                 7777 non-null   float64\n",
            " 4   sgRNA_vs_Target     7777 non-null   float64\n",
            "dtypes: float64(5)\n",
            "memory usage: 364.5 KB\n"
          ],
          "name": "stdout"
        }
      ]
    },
    {
      "cell_type": "code",
      "metadata": {
        "id": "ueKnQM86Zffa",
        "colab_type": "code",
        "colab": {
          "base_uri": "https://localhost:8080/",
          "height": 70
        },
        "outputId": "31a99d79-e009-4f8d-b955-9bcf040fa5f3"
      },
      "source": [
        "train1.MatchResult.value_counts()"
      ],
      "execution_count": null,
      "outputs": [
        {
          "output_type": "execute_result",
          "data": {
            "text/plain": [
              "1.0    12412\n",
              "0.0     3143\n",
              "Name: MatchResult, dtype: int64"
            ]
          },
          "metadata": {
            "tags": []
          },
          "execution_count": 9
        }
      ]
    },
    {
      "cell_type": "code",
      "metadata": {
        "id": "QPVka0_ZZjjl",
        "colab_type": "code",
        "colab": {
          "base_uri": "https://localhost:8080/",
          "height": 70
        },
        "outputId": "c0fef59e-45a1-45b1-90de-11fd133b24c9"
      },
      "source": [
        "test1.MatchResult.value_counts()"
      ],
      "execution_count": null,
      "outputs": [
        {
          "output_type": "execute_result",
          "data": {
            "text/plain": [
              "1.0    6231\n",
              "0.0    1546\n",
              "Name: MatchResult, dtype: int64"
            ]
          },
          "metadata": {
            "tags": []
          },
          "execution_count": 10
        }
      ]
    },
    {
      "cell_type": "code",
      "metadata": {
        "id": "RyfSvZNls6VA",
        "colab_type": "code",
        "colab": {}
      },
      "source": [
        "X_train = train1.drop(['MatchResult'], axis=1)\n",
        "y_train = train1['MatchResult']\n",
        "X_test = test1.drop(['MatchResult'], axis=1)\n",
        "y_test = test1['MatchResult']"
      ],
      "execution_count": null,
      "outputs": []
    },
    {
      "cell_type": "code",
      "metadata": {
        "id": "InQXDTxltezq",
        "colab_type": "code",
        "colab": {
          "base_uri": "https://localhost:8080/",
          "height": 300
        },
        "outputId": "8ca95fe8-a96b-4b1d-db21-649bf5a959d4"
      },
      "source": [
        "reg = linear_model.Ridge (alpha = .5)\n",
        "reg.fit(X_train, y_train)\n",
        "print('Score: ', reg.score(X_test, y_test))\n",
        "print('Weights: ', reg.coef_)\n",
        "\n",
        "plt.plot(reg.predict(X_test))\n",
        "plt.plot(y_test)\n",
        "plt.show()"
      ],
      "execution_count": null,
      "outputs": [
        {
          "output_type": "stream",
          "text": [
            "Score:  0.0037362977248543983\n",
            "Weights:  [ 1.26656161e-02 -9.50407875e-05 -1.48078775e-02  5.07320396e-03]\n"
          ],
          "name": "stdout"
        },
        {
          "output_type": "display_data",
          "data": {
            "image/png": "[encoded data removed]",
            "text/plain": [
              "<Figure size 432x288 with 1 Axes>"
            ]
          },
          "metadata": {
            "tags": [],
            "needs_background": "light"
          }
        }
      ]
    },
    {
      "cell_type": "code",
      "metadata": {
        "id": "9DLlyPrQn55t",
        "colab_type": "code",
        "colab": {}
      },
      "source": [
        "X_train = train1.drop(['MatchResult'], axis=1)\n",
        "y_train = train1['MatchResult']\n",
        "X_test = test1.drop(['MatchResult'], axis=1)\n",
        "y_test = test1['MatchResult']"
      ],
      "execution_count": null,
      "outputs": []
    },
    {
      "cell_type": "code",
      "metadata": {
        "id": "UYOf1aOCn6m7",
        "colab_type": "code",
        "colab": {}
      },
      "source": [
        "ns_probs = [0 for _ in range(len(y_test))]\n",
        "ns_auc = roc_auc_score(y_test, ns_probs)"
      ],
      "execution_count": null,
      "outputs": []
    },
    {
      "cell_type": "markdown",
      "metadata": {
        "id": "Bk8wkhFsDLVO",
        "colab_type": "text"
      },
      "source": [
        "# **SVM (KERNEL: GAUSSIAN)**"
      ]
    },
    {
      "cell_type": "markdown",
      "metadata": {
        "id": "D9VhFHdeDdyl",
        "colab_type": "text"
      },
      "source": [
        "**Model 1 - Imbalanced towards Insertion**"
      ]
    },
    {
      "cell_type": "code",
      "metadata": {
        "id": "_VlV4vREDjLI",
        "colab_type": "code",
        "colab": {}
      },
      "source": [
        "svclassifier = SVC(kernel='rbf', gamma='auto').fit(X_train, y_train)"
      ],
      "execution_count": null,
      "outputs": []
    },
    {
      "cell_type": "code",
      "metadata": {
        "id": "70IvxEF6EXuB",
        "colab_type": "code",
        "colab": {
          "base_uri": "https://localhost:8080/",
          "height": 212
        },
        "outputId": "e0bed840-cef2-4cb8-efeb-8981e77d3f74"
      },
      "source": [
        "y_pred_m1_svm_gaussian = svclassifier.predict(X_test)\n",
        "\n",
        "print(confusion_matrix(y_test,y_pred_m1_svm_gaussian))\n",
        "print(classification_report(y_test,y_pred_m1_svm_gaussian))"
      ],
      "execution_count": null,
      "outputs": [
        {
          "output_type": "stream",
          "text": [
            "[[  14 1532]\n",
            " [  11 6220]]\n",
            "              precision    recall  f1-score   support\n",
            "\n",
            "         0.0       0.56      0.01      0.02      1546\n",
            "         1.0       0.80      1.00      0.89      6231\n",
            "\n",
            "    accuracy                           0.80      7777\n",
            "   macro avg       0.68      0.50      0.45      7777\n",
            "weighted avg       0.75      0.80      0.72      7777\n",
            "\n"
          ],
          "name": "stdout"
        }
      ]
    },
    {
      "cell_type": "markdown",
      "metadata": {
        "id": "W2re3uMIGZ5E",
        "colab_type": "text"
      },
      "source": [
        "| ACTUAL\\PREDICTED          | Deletion (0) | Insertion (1) | TOTAL |\n",
        "|---------------------------|---------------------|-------------------------|-------|\n",
        "|    Deletion (0)|      14             |        1532               |   1546   |\n",
        "|  Insertion (1)      |      11             |        6220              |   6231  |\n",
        "|        TOTAL              |      25             |        7752             |   7777  |"
      ]
    },
    {
      "cell_type": "code",
      "metadata": {
        "id": "aiXUtaFRrLFy",
        "colab_type": "code",
        "colab": {}
      },
      "source": [
        "m1_svm_gaussian_auc = roc_auc_score(y_test, y_pred_m1_svm_gaussian)"
      ],
      "execution_count": null,
      "outputs": []
    },
    {
      "cell_type": "code",
      "metadata": {
        "id": "nlJlgLsfG3Q8",
        "colab_type": "code",
        "colab": {}
      },
      "source": [
        "M1_sp_SVM_gaussian=0.80\n",
        "M1_se_SVM_gaussian=1.00\n",
        "M1_acc_SVM_gaussian=0.80"
      ],
      "execution_count": null,
      "outputs": []
    },
    {
      "cell_type": "code",
      "metadata": {
        "id": "f_ZpI0tv4tvl",
        "colab_type": "code",
        "colab": {}
      },
      "source": [
        "results = pd.DataFrame({'Classifier' : pd.Categorical([\"SVM - Gaussian\"]),\n",
        "                        'Model' : pd.Categorical([\"Imbalanced - Insertion\"]),\n",
        "                        'Specificity' : M1_sp_SVM_gaussian,\n",
        "                        'Sensitivity' : M1_se_SVM_gaussian,\n",
        "                        'Accuracy' : M1_acc_SVM_gaussian,\n",
        "                        'AUC' : m1_svm_gaussian_auc})"
      ],
      "execution_count": null,
      "outputs": []
    },
    {
      "cell_type": "markdown",
      "metadata": {
        "id": "pU_icyPkFp5x",
        "colab_type": "text"
      },
      "source": [
        "**Model 2 - Manually Balanced**"
      ]
    },
    {
      "cell_type": "code",
      "metadata": {
        "id": "g8N9F6A6jORa",
        "colab_type": "code",
        "colab": {
          "base_uri": "https://localhost:8080/",
          "height": 70
        },
        "outputId": "b568f7c4-8128-4354-f60a-45e0226cc3f0"
      },
      "source": [
        "train1.MatchResult.value_counts()"
      ],
      "execution_count": null,
      "outputs": [
        {
          "output_type": "execute_result",
          "data": {
            "text/plain": [
              "1.0    12412\n",
              "0.0     3143\n",
              "Name: MatchResult, dtype: int64"
            ]
          },
          "metadata": {
            "tags": []
          },
          "execution_count": 20
        }
      ]
    },
    {
      "cell_type": "code",
      "metadata": {
        "id": "SsfRg_84jaZK",
        "colab_type": "code",
        "colab": {
          "base_uri": "https://localhost:8080/",
          "height": 70
        },
        "outputId": "0fe1e36c-006a-4534-ad0c-9229d248771d"
      },
      "source": [
        "negative_cases = train1[train1['MatchResult'] == 0]\n",
        "positive_cases = train1[train1['MatchResult'] == 1].sample(3143, random_state=0)\n",
        "train1_balanced = pd.concat([positive_cases,negative_cases])\n",
        "train1_balanced.sort_index(inplace=True)\n",
        "\n",
        "X_train_bal = train1_balanced.drop(['MatchResult'], axis=1)\n",
        "y_train_bal = train1_balanced['MatchResult']\n",
        "\n",
        "train1_balanced.MatchResult.value_counts()"
      ],
      "execution_count": null,
      "outputs": [
        {
          "output_type": "execute_result",
          "data": {
            "text/plain": [
              "1.0    3143\n",
              "0.0    3143\n",
              "Name: MatchResult, dtype: int64"
            ]
          },
          "metadata": {
            "tags": []
          },
          "execution_count": 21
        }
      ]
    },
    {
      "cell_type": "code",
      "metadata": {
        "id": "2KvN3M37EZ6O",
        "colab_type": "code",
        "colab": {}
      },
      "source": [
        "svclassifier = SVC(kernel='rbf', gamma='auto').fit(X_train_bal, y_train_bal)"
      ],
      "execution_count": null,
      "outputs": []
    },
    {
      "cell_type": "code",
      "metadata": {
        "id": "4FjXKe-iF0qt",
        "colab_type": "code",
        "colab": {
          "base_uri": "https://localhost:8080/",
          "height": 212
        },
        "outputId": "58c43245-dea9-479f-87bd-9786a2ab6611"
      },
      "source": [
        "y_pred_m2_svm_gaussian = svclassifier.predict(X_test)\n",
        "\n",
        "print(confusion_matrix(y_test,y_pred_m2_svm_gaussian))\n",
        "print(classification_report(y_test,y_pred_m2_svm_gaussian))"
      ],
      "execution_count": null,
      "outputs": [
        {
          "output_type": "stream",
          "text": [
            "[[ 859  687]\n",
            " [2857 3374]]\n",
            "              precision    recall  f1-score   support\n",
            "\n",
            "         0.0       0.23      0.56      0.33      1546\n",
            "         1.0       0.83      0.54      0.66      6231\n",
            "\n",
            "    accuracy                           0.54      7777\n",
            "   macro avg       0.53      0.55      0.49      7777\n",
            "weighted avg       0.71      0.54      0.59      7777\n",
            "\n"
          ],
          "name": "stdout"
        }
      ]
    },
    {
      "cell_type": "markdown",
      "metadata": {
        "id": "sPrAMv73IHKX",
        "colab_type": "text"
      },
      "source": [
        "| ACTUAL\\PREDICTED          | Deletion (0) | Insertion (1) | TOTAL |\n",
        "|---------------------------|---------------------|-------------------------|-------|\n",
        "|    Deletion (0)|      859             |        687               |   1546   |\n",
        "|  Insertion (1)      |      2857             |        3374              |   6231  |\n",
        "|        TOTAL              |      3716             |        4061             |   7777  |"
      ]
    },
    {
      "cell_type": "code",
      "metadata": {
        "id": "uypC4orbsvCA",
        "colab_type": "code",
        "colab": {}
      },
      "source": [
        "m2_svm_gaussian_auc = roc_auc_score(y_test, y_pred_m2_svm_gaussian)"
      ],
      "execution_count": null,
      "outputs": []
    },
    {
      "cell_type": "code",
      "metadata": {
        "id": "ZUWzo7nEF2m1",
        "colab_type": "code",
        "colab": {}
      },
      "source": [
        "M2_sp_SVM_gaussian=0.83\n",
        "M2_se_SVM_gaussian=0.54\n",
        "M2_acc_SVM_gaussian=0.54"
      ],
      "execution_count": null,
      "outputs": []
    },
    {
      "cell_type": "code",
      "metadata": {
        "id": "BLHM75pEJIwl",
        "colab_type": "code",
        "colab": {}
      },
      "source": [
        "svm_gaussian_m2 = {'Model':\"Balanced - Manual\", 'Classifier':\"SVM - Gaussian\", 'Specificity':M2_sp_SVM_gaussian, 'Sensitivity':M2_se_SVM_gaussian, 'Accuracy':M2_acc_SVM_gaussian, 'AUC': m2_svm_gaussian_auc}\n",
        "results = results.append(svm_gaussian_m2, ignore_index=True)"
      ],
      "execution_count": null,
      "outputs": []
    },
    {
      "cell_type": "markdown",
      "metadata": {
        "id": "CK0Me61rKDW1",
        "colab_type": "text"
      },
      "source": [
        "**Model 3 - SMOTE Balanced**"
      ]
    },
    {
      "cell_type": "code",
      "metadata": {
        "id": "5-roOvEUnATu",
        "colab_type": "code",
        "colab": {
          "base_uri": "https://localhost:8080/",
          "height": 72
        },
        "outputId": "d0171081-8cc3-4daa-f42d-b31850339430"
      },
      "source": [
        "smote = SMOTE(random_state=0)\n",
        "X_train_resampled, y_train_resampled = smote.fit_sample(X_train, y_train)"
      ],
      "execution_count": null,
      "outputs": [
        {
          "output_type": "stream",
          "text": [
            "/usr/local/lib/python3.6/dist-packages/sklearn/utils/deprecation.py:87: FutureWarning: Function safe_indexing is deprecated; safe_indexing is deprecated in version 0.22 and will be removed in version 0.24.\n",
            "  warnings.warn(msg, category=FutureWarning)\n"
          ],
          "name": "stderr"
        }
      ]
    },
    {
      "cell_type": "code",
      "metadata": {
        "id": "VVn5dYYXJZ14",
        "colab_type": "code",
        "colab": {}
      },
      "source": [
        "svclassifier = SVC(kernel='rbf', gamma='auto').fit(X_train_resampled, y_train_resampled)"
      ],
      "execution_count": null,
      "outputs": []
    },
    {
      "cell_type": "code",
      "metadata": {
        "id": "UlNto4XQKUS6",
        "colab_type": "code",
        "colab": {
          "base_uri": "https://localhost:8080/",
          "height": 212
        },
        "outputId": "4c56aa81-18b4-4f46-f9d4-4f325204bd9e"
      },
      "source": [
        "y_pred_m3_svm_gaussian = svclassifier.predict(X_test)\n",
        "\n",
        "print(confusion_matrix(y_test,y_pred_m3_svm_gaussian))\n",
        "print(classification_report(y_test,y_pred_m3_svm_gaussian))"
      ],
      "execution_count": null,
      "outputs": [
        {
          "output_type": "stream",
          "text": [
            "[[ 755  791]\n",
            " [2379 3852]]\n",
            "              precision    recall  f1-score   support\n",
            "\n",
            "         0.0       0.24      0.49      0.32      1546\n",
            "         1.0       0.83      0.62      0.71      6231\n",
            "\n",
            "    accuracy                           0.59      7777\n",
            "   macro avg       0.54      0.55      0.52      7777\n",
            "weighted avg       0.71      0.59      0.63      7777\n",
            "\n"
          ],
          "name": "stdout"
        }
      ]
    },
    {
      "cell_type": "markdown",
      "metadata": {
        "id": "TqwjK-qCKjH9",
        "colab_type": "text"
      },
      "source": [
        "| ACTUAL\\PREDICTED          | Deletion (0) | Insertion (1) | TOTAL |\n",
        "|---------------------------|---------------------|-------------------------|-------|\n",
        "|    Deletion (0)|      755             |        791               |   1546   |\n",
        "|  Insertion (1)      |      2379             |        3852              |   6231  |\n",
        "|        TOTAL              |      3134             |        4643             |   7777  |"
      ]
    },
    {
      "cell_type": "code",
      "metadata": {
        "id": "C83C0Y2StlSN",
        "colab_type": "code",
        "colab": {}
      },
      "source": [
        "m3_svm_gaussian_auc = roc_auc_score(y_test, y_pred_m3_svm_gaussian)"
      ],
      "execution_count": null,
      "outputs": []
    },
    {
      "cell_type": "code",
      "metadata": {
        "id": "m24vy245KdUg",
        "colab_type": "code",
        "colab": {}
      },
      "source": [
        "M3_sp_SVM_gaussian=0.83\n",
        "M3_se_SVM_gaussian=0.62\n",
        "M3_acc_SVM_gaussian=0.59"
      ],
      "execution_count": null,
      "outputs": []
    },
    {
      "cell_type": "code",
      "metadata": {
        "id": "Rbks_bJOLD4M",
        "colab_type": "code",
        "colab": {}
      },
      "source": [
        "svm_gaussian_m3 = {'Model':\"Balanced - SMOTE\", 'Classifier':\"SVM - Gaussian\", 'Specificity':M3_sp_SVM_gaussian, 'Sensitivity':M3_se_SVM_gaussian, 'Accuracy':M3_acc_SVM_gaussian, 'AUC': m3_svm_gaussian_auc}\n",
        "results = results.append(svm_gaussian_m3, ignore_index=True)"
      ],
      "execution_count": null,
      "outputs": []
    },
    {
      "cell_type": "markdown",
      "metadata": {
        "id": "SSWzI9ipMgbk",
        "colab_type": "text"
      },
      "source": [
        "**Model 4 - Imbalanced towards Deletion**"
      ]
    },
    {
      "cell_type": "code",
      "metadata": {
        "id": "XIc3G2NbvnhB",
        "colab_type": "code",
        "colab": {
          "base_uri": "https://localhost:8080/",
          "height": 70
        },
        "outputId": "a1385fad-8d35-4c7a-db6b-c6bebbc7fc96"
      },
      "source": [
        "train1.MatchResult.value_counts()"
      ],
      "execution_count": null,
      "outputs": [
        {
          "output_type": "execute_result",
          "data": {
            "text/plain": [
              "1.0    12412\n",
              "0.0     3143\n",
              "Name: MatchResult, dtype: int64"
            ]
          },
          "metadata": {
            "tags": []
          },
          "execution_count": 33
        }
      ]
    },
    {
      "cell_type": "code",
      "metadata": {
        "id": "lnVTUgl1wuv6",
        "colab_type": "code",
        "colab": {
          "base_uri": "https://localhost:8080/",
          "height": 70
        },
        "outputId": "90635600-175d-4f38-cea7-b56d0af71ade"
      },
      "source": [
        "positive_cases = train1[train1['MatchResult'] == 1].sample(1047, random_state=0)\n",
        "negative_cases = train1[train1['MatchResult'] == 0].sample(2096, random_state=0)\n",
        "train1_imbalanced = pd.concat([positive_cases,negative_cases])\n",
        "train1_imbalanced.sort_index(inplace=True)\n",
        "\n",
        "X_train_imbal = train1_imbalanced.drop(['MatchResult'], axis=1)\n",
        "y_train_imbal = train1_imbalanced['MatchResult']\n",
        "# AFTER\n",
        "train1_imbalanced.MatchResult.value_counts()"
      ],
      "execution_count": null,
      "outputs": [
        {
          "output_type": "execute_result",
          "data": {
            "text/plain": [
              "0.0    2096\n",
              "1.0    1047\n",
              "Name: MatchResult, dtype: int64"
            ]
          },
          "metadata": {
            "tags": []
          },
          "execution_count": 34
        }
      ]
    },
    {
      "cell_type": "code",
      "metadata": {
        "id": "94Meu25ALOJA",
        "colab_type": "code",
        "colab": {}
      },
      "source": [
        "svclassifier = SVC(kernel='rbf', gamma='auto').fit(X_train_imbal, y_train_imbal)"
      ],
      "execution_count": null,
      "outputs": []
    },
    {
      "cell_type": "code",
      "metadata": {
        "id": "qeb_ij5hMzCJ",
        "colab_type": "code",
        "colab": {
          "base_uri": "https://localhost:8080/",
          "height": 212
        },
        "outputId": "5b88b592-2f12-407b-ad07-f591d7ec32c1"
      },
      "source": [
        "y_pred_m4_svm_gaussian = svclassifier.predict(X_test)\n",
        "\n",
        "print(confusion_matrix(y_test,y_pred_m4_svm_gaussian))\n",
        "print(classification_report(y_test,y_pred_m4_svm_gaussian))"
      ],
      "execution_count": null,
      "outputs": [
        {
          "output_type": "stream",
          "text": [
            "[[1448   98]\n",
            " [5559  672]]\n",
            "              precision    recall  f1-score   support\n",
            "\n",
            "         0.0       0.21      0.94      0.34      1546\n",
            "         1.0       0.87      0.11      0.19      6231\n",
            "\n",
            "    accuracy                           0.27      7777\n",
            "   macro avg       0.54      0.52      0.27      7777\n",
            "weighted avg       0.74      0.27      0.22      7777\n",
            "\n"
          ],
          "name": "stdout"
        }
      ]
    },
    {
      "cell_type": "markdown",
      "metadata": {
        "id": "rfwn_MfLM6oV",
        "colab_type": "text"
      },
      "source": [
        "| ACTUAL\\PREDICTED          | Deletion (0) | Insertion (1) | TOTAL |\n",
        "|---------------------------|---------------------|-------------------------|-------|\n",
        "|    Deletion (0)|      1448             |        98               |   1546   |\n",
        "|  Insertion (1)      |      5559             |        672              |   6231  |\n",
        "|        TOTAL              |      7007             |        770             |   7777  |"
      ]
    },
    {
      "cell_type": "code",
      "metadata": {
        "id": "gE67elP1ulc7",
        "colab_type": "code",
        "colab": {}
      },
      "source": [
        "m4_svm_gaussian_auc = roc_auc_score(y_test, y_pred_m4_svm_gaussian)"
      ],
      "execution_count": null,
      "outputs": []
    },
    {
      "cell_type": "code",
      "metadata": {
        "id": "trJgkn2eM1u_",
        "colab_type": "code",
        "colab": {}
      },
      "source": [
        "M4_sp_SVM_gaussian=0.87\n",
        "M4_se_SVM_gaussian=0.11\n",
        "M4_acc_SVM_gaussian=0.27"
      ],
      "execution_count": null,
      "outputs": []
    },
    {
      "cell_type": "code",
      "metadata": {
        "id": "VU354t3lNPHH",
        "colab_type": "code",
        "colab": {}
      },
      "source": [
        "svm_gaussian_m4 = {'Model':\"Imbalanced - Deletion\", 'Classifier':\"SVM - Gaussian\", 'Specificity':M4_sp_SVM_gaussian, 'Sensitivity':M4_se_SVM_gaussian, 'Accuracy':M4_acc_SVM_gaussian, 'AUC': m4_svm_gaussian_auc}\n",
        "results = results.append(svm_gaussian_m4, ignore_index=True)"
      ],
      "execution_count": null,
      "outputs": []
    },
    {
      "cell_type": "markdown",
      "metadata": {
        "id": "yokriL_cOUn9",
        "colab_type": "text"
      },
      "source": [
        "# **SVM (KERNEL: POLYNOMIAL)**"
      ]
    },
    {
      "cell_type": "markdown",
      "metadata": {
        "id": "axbv_lXfOnmn",
        "colab_type": "text"
      },
      "source": [
        "**Model 1 - Imbalanced towards Insertion**"
      ]
    },
    {
      "cell_type": "code",
      "metadata": {
        "id": "2DLSe15NNixA",
        "colab_type": "code",
        "colab": {}
      },
      "source": [
        "svclassifier = SVC(kernel='poly').fit(X_train, y_train)"
      ],
      "execution_count": null,
      "outputs": []
    },
    {
      "cell_type": "code",
      "metadata": {
        "id": "gEXXObZvO0Im",
        "colab_type": "code",
        "colab": {
          "base_uri": "https://localhost:8080/",
          "height": 267
        },
        "outputId": "884dc5b6-4f67-4348-f2c0-7ad2bed5ea9b"
      },
      "source": [
        "y_pred_m1_svm_polynomial = svclassifier.predict(X_test)\n",
        "\n",
        "print(confusion_matrix(y_test,y_pred_m1_svm_polynomial))\n",
        "print(classification_report(y_test,y_pred_m1_svm_polynomial))"
      ],
      "execution_count": null,
      "outputs": [
        {
          "output_type": "stream",
          "text": [
            "[[   0 1546]\n",
            " [   0 6231]]\n",
            "              precision    recall  f1-score   support\n",
            "\n",
            "         0.0       0.00      0.00      0.00      1546\n",
            "         1.0       0.80      1.00      0.89      6231\n",
            "\n",
            "    accuracy                           0.80      7777\n",
            "   macro avg       0.40      0.50      0.44      7777\n",
            "weighted avg       0.64      0.80      0.71      7777\n",
            "\n"
          ],
          "name": "stdout"
        },
        {
          "output_type": "stream",
          "text": [
            "/usr/local/lib/python3.6/dist-packages/sklearn/metrics/_classification.py:1272: UndefinedMetricWarning: Precision and F-score are ill-defined and being set to 0.0 in labels with no predicted samples. Use `zero_division` parameter to control this behavior.\n",
            "  _warn_prf(average, modifier, msg_start, len(result))\n"
          ],
          "name": "stderr"
        }
      ]
    },
    {
      "cell_type": "markdown",
      "metadata": {
        "id": "fUEi5d8sO8j1",
        "colab_type": "text"
      },
      "source": [
        "| ACTUAL\\PREDICTED          | Deletion (0) | Insertion (1) | TOTAL |\n",
        "|---------------------------|---------------------|-------------------------|-------|\n",
        "|    Deletion (0)|      0             |        1546               |   1546   |\n",
        "|  Insertion (1)      |      0             |        6231              |   6231  |\n",
        "|        TOTAL              |      0             |        7777             |   7777  |"
      ]
    },
    {
      "cell_type": "code",
      "metadata": {
        "id": "PbSSWaY5vubg",
        "colab_type": "code",
        "colab": {}
      },
      "source": [
        "m1_svm_polynomial_auc = roc_auc_score(y_test, y_pred_m1_svm_polynomial)"
      ],
      "execution_count": null,
      "outputs": []
    },
    {
      "cell_type": "code",
      "metadata": {
        "id": "6Tac3qC2O2cs",
        "colab_type": "code",
        "colab": {}
      },
      "source": [
        "M1_sp_SVM_polynomial=0.80\n",
        "M1_se_SVM_polynomial=1.00\n",
        "M1_acc_SVM_polynomial=0.80"
      ],
      "execution_count": null,
      "outputs": []
    },
    {
      "cell_type": "code",
      "metadata": {
        "id": "lsxfbtAnPTqj",
        "colab_type": "code",
        "colab": {}
      },
      "source": [
        "svm_polynomial_m1 = {'Model':\"Imbalanced - Insertion\", 'Classifier':\"SVM - Polynomial\", 'Specificity':M1_sp_SVM_polynomial, 'Sensitivity':M1_se_SVM_polynomial, 'Accuracy':M1_acc_SVM_polynomial, 'AUC': m1_svm_polynomial_auc}\n",
        "results = results.append(svm_polynomial_m1, ignore_index=True)"
      ],
      "execution_count": null,
      "outputs": []
    },
    {
      "cell_type": "markdown",
      "metadata": {
        "id": "syKu2WcjRwJE",
        "colab_type": "text"
      },
      "source": [
        "**Model 2 - Manually Balanced**"
      ]
    },
    {
      "cell_type": "code",
      "metadata": {
        "id": "B458LwKBPqED",
        "colab_type": "code",
        "colab": {}
      },
      "source": [
        "svclassifier = SVC(kernel='poly').fit(X_train_bal, y_train_bal)"
      ],
      "execution_count": null,
      "outputs": []
    },
    {
      "cell_type": "code",
      "metadata": {
        "id": "WUbH7HCBR3KQ",
        "colab_type": "code",
        "colab": {
          "base_uri": "https://localhost:8080/",
          "height": 212
        },
        "outputId": "30a2ee5c-90aa-46ba-dd7d-f16950da0d2e"
      },
      "source": [
        "y_pred_m2_svm_polynomial = svclassifier.predict(X_test)\n",
        "\n",
        "print(confusion_matrix(y_test,y_pred_m2_svm_polynomial))\n",
        "print(classification_report(y_test,y_pred_m2_svm_polynomial))"
      ],
      "execution_count": null,
      "outputs": [
        {
          "output_type": "stream",
          "text": [
            "[[1325  221]\n",
            " [4829 1402]]\n",
            "              precision    recall  f1-score   support\n",
            "\n",
            "         0.0       0.22      0.86      0.34      1546\n",
            "         1.0       0.86      0.23      0.36      6231\n",
            "\n",
            "    accuracy                           0.35      7777\n",
            "   macro avg       0.54      0.54      0.35      7777\n",
            "weighted avg       0.73      0.35      0.35      7777\n",
            "\n"
          ],
          "name": "stdout"
        }
      ]
    },
    {
      "cell_type": "markdown",
      "metadata": {
        "id": "gAbKHIJCR88R",
        "colab_type": "text"
      },
      "source": [
        "| ACTUAL\\PREDICTED          | Deletion (0) | Insertion (1) | TOTAL |\n",
        "|---------------------------|---------------------|-------------------------|-------|\n",
        "|    Deletion (0)|      1325             |        221               |   1546   |\n",
        "|  Insertion (1)      |      4829             |        1402              |   6231  |\n",
        "|        TOTAL              |      6154             |        1623             |   7777  |"
      ]
    },
    {
      "cell_type": "code",
      "metadata": {
        "id": "cQO3lX-4w5Um",
        "colab_type": "code",
        "colab": {}
      },
      "source": [
        "m2_svm_polynomial_auc = roc_auc_score(y_test, y_pred_m2_svm_polynomial)"
      ],
      "execution_count": null,
      "outputs": []
    },
    {
      "cell_type": "code",
      "metadata": {
        "id": "jlEbNrN5R5pQ",
        "colab_type": "code",
        "colab": {}
      },
      "source": [
        "M2_sp_SVM_polynomial=0.86\n",
        "M2_se_SVM_polynomial=0.23\n",
        "M2_acc_SVM_polynomial=0.35"
      ],
      "execution_count": null,
      "outputs": []
    },
    {
      "cell_type": "code",
      "metadata": {
        "id": "9hXE0dT9SbTY",
        "colab_type": "code",
        "colab": {}
      },
      "source": [
        "svm_polynomial_m2 = {'Model':\"Balanced - Manual\", 'Classifier':\"SVM - Polynomial\", 'Specificity':M2_sp_SVM_polynomial, 'Sensitivity':M2_se_SVM_polynomial, 'Accuracy':M2_acc_SVM_polynomial, 'AUC': m2_svm_polynomial_auc}\n",
        "results = results.append(svm_polynomial_m2, ignore_index=True)"
      ],
      "execution_count": null,
      "outputs": []
    },
    {
      "cell_type": "markdown",
      "metadata": {
        "id": "l_VzniprTsHy",
        "colab_type": "text"
      },
      "source": [
        "**Model 3 - SMOTE Balanced**"
      ]
    },
    {
      "cell_type": "code",
      "metadata": {
        "id": "9BDYbJdnS01_",
        "colab_type": "code",
        "colab": {}
      },
      "source": [
        "svclassifier = SVC(kernel='poly').fit(X_train_resampled, y_train_resampled)"
      ],
      "execution_count": null,
      "outputs": []
    },
    {
      "cell_type": "code",
      "metadata": {
        "id": "gBInk6ryTy7U",
        "colab_type": "code",
        "colab": {
          "base_uri": "https://localhost:8080/",
          "height": 212
        },
        "outputId": "749d8c5f-2504-4f21-c84f-08d2425e5e3e"
      },
      "source": [
        "y_pred_m3_svm_polynomial = svclassifier.predict(X_test)\n",
        "\n",
        "print(confusion_matrix(y_test,y_pred_m3_svm_polynomial))\n",
        "print(classification_report(y_test,y_pred_m3_svm_polynomial))"
      ],
      "execution_count": null,
      "outputs": [
        {
          "output_type": "stream",
          "text": [
            "[[1302  244]\n",
            " [4823 1408]]\n",
            "              precision    recall  f1-score   support\n",
            "\n",
            "         0.0       0.21      0.84      0.34      1546\n",
            "         1.0       0.85      0.23      0.36      6231\n",
            "\n",
            "    accuracy                           0.35      7777\n",
            "   macro avg       0.53      0.53      0.35      7777\n",
            "weighted avg       0.73      0.35      0.35      7777\n",
            "\n"
          ],
          "name": "stdout"
        }
      ]
    },
    {
      "cell_type": "markdown",
      "metadata": {
        "id": "se1QTp34T4KV",
        "colab_type": "text"
      },
      "source": [
        "| ACTUAL\\PREDICTED          | Deletion (0) | Insertion (1) | TOTAL |\n",
        "|---------------------------|---------------------|-------------------------|-------|\n",
        "|    Deletion (0)|      1302             |        244               |   1546   |\n",
        "|  Insertion (1)      |      4823             |        1408              |   6231  |\n",
        "|        TOTAL              |      6125             |        1652             |   7777  |"
      ]
    },
    {
      "cell_type": "code",
      "metadata": {
        "id": "iKoNU0WBxiK9",
        "colab_type": "code",
        "colab": {}
      },
      "source": [
        "m3_svm_polynomial_auc = roc_auc_score(y_test, y_pred_m3_svm_polynomial)"
      ],
      "execution_count": null,
      "outputs": []
    },
    {
      "cell_type": "code",
      "metadata": {
        "id": "K05qpGUUT1nT",
        "colab_type": "code",
        "colab": {}
      },
      "source": [
        "M3_sp_SVM_polynomial=0.85\n",
        "M3_se_SVM_polynomial=0.23\n",
        "M3_acc_SVM_polynomial=0.35"
      ],
      "execution_count": null,
      "outputs": []
    },
    {
      "cell_type": "code",
      "metadata": {
        "id": "G66fZeyMUMG3",
        "colab_type": "code",
        "colab": {}
      },
      "source": [
        "svm_polynomial_m3 = {'Model':\"Balanced - SMOTE\", 'Classifier':\"SVM - Polynomial\", 'Specificity':M3_sp_SVM_polynomial, 'Sensitivity':M3_se_SVM_polynomial, 'Accuracy':M3_acc_SVM_polynomial, 'AUC': m3_svm_polynomial_auc}\n",
        "results = results.append(svm_polynomial_m3, ignore_index=True)"
      ],
      "execution_count": null,
      "outputs": []
    },
    {
      "cell_type": "markdown",
      "metadata": {
        "id": "xc0u9zjWVhTn",
        "colab_type": "text"
      },
      "source": [
        "**Model 4 - Imbalanced towards Deletion**"
      ]
    },
    {
      "cell_type": "code",
      "metadata": {
        "id": "NVHcKhJUUZr7",
        "colab_type": "code",
        "colab": {}
      },
      "source": [
        "svclassifier = SVC(kernel='poly').fit(X_train_imbal, y_train_imbal)"
      ],
      "execution_count": null,
      "outputs": []
    },
    {
      "cell_type": "code",
      "metadata": {
        "id": "-HqvpQmtVm9B",
        "colab_type": "code",
        "colab": {
          "base_uri": "https://localhost:8080/",
          "height": 267
        },
        "outputId": "f86e3783-ea47-4d8d-9095-eb808697e893"
      },
      "source": [
        "y_pred_m4_svm_polynomial = svclassifier.predict(X_test)\n",
        "\n",
        "print(confusion_matrix(y_test,y_pred_m4_svm_polynomial))\n",
        "print(classification_report(y_test,y_pred_m4_svm_polynomial))"
      ],
      "execution_count": null,
      "outputs": [
        {
          "output_type": "stream",
          "text": [
            "[[1546    0]\n",
            " [6231    0]]\n",
            "              precision    recall  f1-score   support\n",
            "\n",
            "         0.0       0.20      1.00      0.33      1546\n",
            "         1.0       0.00      0.00      0.00      6231\n",
            "\n",
            "    accuracy                           0.20      7777\n",
            "   macro avg       0.10      0.50      0.17      7777\n",
            "weighted avg       0.04      0.20      0.07      7777\n",
            "\n"
          ],
          "name": "stdout"
        },
        {
          "output_type": "stream",
          "text": [
            "/usr/local/lib/python3.6/dist-packages/sklearn/metrics/_classification.py:1272: UndefinedMetricWarning: Precision and F-score are ill-defined and being set to 0.0 in labels with no predicted samples. Use `zero_division` parameter to control this behavior.\n",
            "  _warn_prf(average, modifier, msg_start, len(result))\n"
          ],
          "name": "stderr"
        }
      ]
    },
    {
      "cell_type": "markdown",
      "metadata": {
        "id": "pEZO5W2LVwAM",
        "colab_type": "text"
      },
      "source": [
        "| ACTUAL\\PREDICTED          | Deletion (0) | Insertion (1) | TOTAL |\n",
        "|---------------------------|---------------------|-------------------------|-------|\n",
        "|    Deletion (0)|      1546             |        0               |   1546   |\n",
        "|  Insertion (1)      |      6231             |        0              |   6231  |\n",
        "|        TOTAL              |      7777             |        0             |   7777  |"
      ]
    },
    {
      "cell_type": "code",
      "metadata": {
        "id": "ZbzIuUMbyj4F",
        "colab_type": "code",
        "colab": {}
      },
      "source": [
        "m4_svm_polynomial_auc = roc_auc_score(y_test, y_pred_m4_svm_polynomial)"
      ],
      "execution_count": null,
      "outputs": []
    },
    {
      "cell_type": "code",
      "metadata": {
        "id": "w2USkK-uVo-m",
        "colab_type": "code",
        "colab": {}
      },
      "source": [
        "M4_sp_SVM_polynomial=0.00\n",
        "M4_se_SVM_polynomial=0.00\n",
        "M4_acc_SVM_polynomial=0.20"
      ],
      "execution_count": null,
      "outputs": []
    },
    {
      "cell_type": "code",
      "metadata": {
        "id": "9oGNOH2KWA2O",
        "colab_type": "code",
        "colab": {}
      },
      "source": [
        "svm_polynomial_m4 = {'Model':\"Imbalanced - Deletion\", 'Classifier':\"SVM - Polynomial\", 'Specificity':M4_sp_SVM_polynomial, 'Sensitivity':M4_se_SVM_polynomial, 'Accuracy':M4_acc_SVM_polynomial, 'AUC': m4_svm_polynomial_auc}\n",
        "results = results.append(svm_polynomial_m4, ignore_index=True)"
      ],
      "execution_count": null,
      "outputs": []
    },
    {
      "cell_type": "markdown",
      "metadata": {
        "id": "vOd1KtiuYhLV",
        "colab_type": "text"
      },
      "source": [
        "# **SVM (KERNEL: SIGMOID)**"
      ]
    },
    {
      "cell_type": "markdown",
      "metadata": {
        "id": "yWyL-YfnYnzb",
        "colab_type": "text"
      },
      "source": [
        "**Model 1 - Imbalanced towards Insertion**"
      ]
    },
    {
      "cell_type": "code",
      "metadata": {
        "id": "kd8Xl7MxWOG3",
        "colab_type": "code",
        "colab": {}
      },
      "source": [
        "svclassifier = SVC(kernel='sigmoid').fit(X_train, y_train)"
      ],
      "execution_count": null,
      "outputs": []
    },
    {
      "cell_type": "code",
      "metadata": {
        "id": "oGUBHMurYtUr",
        "colab_type": "code",
        "colab": {
          "base_uri": "https://localhost:8080/",
          "height": 212
        },
        "outputId": "6d6e7dce-466a-4c2e-af77-9a4424e9beb2"
      },
      "source": [
        "y_pred_m1_svm_sigmoid = svclassifier.predict(X_test)\n",
        "\n",
        "print(confusion_matrix(y_test,y_pred_m1_svm_sigmoid))\n",
        "print(classification_report(y_test,y_pred_m1_svm_sigmoid))"
      ],
      "execution_count": null,
      "outputs": [
        {
          "output_type": "stream",
          "text": [
            "[[ 301 1245]\n",
            " [1247 4984]]\n",
            "              precision    recall  f1-score   support\n",
            "\n",
            "         0.0       0.19      0.19      0.19      1546\n",
            "         1.0       0.80      0.80      0.80      6231\n",
            "\n",
            "    accuracy                           0.68      7777\n",
            "   macro avg       0.50      0.50      0.50      7777\n",
            "weighted avg       0.68      0.68      0.68      7777\n",
            "\n"
          ],
          "name": "stdout"
        }
      ]
    },
    {
      "cell_type": "markdown",
      "metadata": {
        "id": "Zd2L9PYTYzJR",
        "colab_type": "text"
      },
      "source": [
        "| ACTUAL\\PREDICTED          | Deletion (0) | Insertion (1) | TOTAL |\n",
        "|---------------------------|---------------------|-------------------------|-------|\n",
        "|    Deletion (0)|      301             |        1245               |   1546   |\n",
        "|  Insertion (1)      |      1247             |        4984              |   6231  |\n",
        "|        TOTAL              |      1548             |        6229             |   7777  |"
      ]
    },
    {
      "cell_type": "code",
      "metadata": {
        "id": "Po9d9a-Qzigk",
        "colab_type": "code",
        "colab": {}
      },
      "source": [
        "m1_svm_sigmoid_auc = roc_auc_score(y_test, y_pred_m1_svm_sigmoid)"
      ],
      "execution_count": null,
      "outputs": []
    },
    {
      "cell_type": "code",
      "metadata": {
        "id": "EUtdGdnBYv7W",
        "colab_type": "code",
        "colab": {}
      },
      "source": [
        "M1_sp_SVM_sigmoid=0.80\n",
        "M1_se_SVM_sigmoid=0.80\n",
        "M1_acc_SVM_sigmoid=0.68"
      ],
      "execution_count": null,
      "outputs": []
    },
    {
      "cell_type": "code",
      "metadata": {
        "id": "GnAqKAOHZ8Yp",
        "colab_type": "code",
        "colab": {}
      },
      "source": [
        "svm_sigmoid_m1 = {'Model':\"Imbalanced - Insertion\", 'Classifier':\"SVM - Sigmoid\", 'Specificity':M1_sp_SVM_sigmoid, 'Sensitivity':M1_se_SVM_sigmoid, 'Accuracy':M1_acc_SVM_sigmoid, 'AUC': m1_svm_sigmoid_auc}\n",
        "results = results.append(svm_sigmoid_m1, ignore_index=True)"
      ],
      "execution_count": null,
      "outputs": []
    },
    {
      "cell_type": "markdown",
      "metadata": {
        "id": "F81qw4DLbfLw",
        "colab_type": "text"
      },
      "source": [
        "**Model 2 - Manually Balanced**"
      ]
    },
    {
      "cell_type": "code",
      "metadata": {
        "id": "bUaQi-SzagZz",
        "colab_type": "code",
        "colab": {}
      },
      "source": [
        "svclassifier = SVC(kernel='sigmoid').fit(X_train_bal, y_train_bal)"
      ],
      "execution_count": null,
      "outputs": []
    },
    {
      "cell_type": "code",
      "metadata": {
        "id": "0suoubA3bj7i",
        "colab_type": "code",
        "colab": {
          "base_uri": "https://localhost:8080/",
          "height": 212
        },
        "outputId": "de75f388-887c-4bb7-951b-1c868c71de52"
      },
      "source": [
        "y_pred_m2_svm_sigmoid = svclassifier.predict(X_test)\n",
        "\n",
        "print(confusion_matrix(y_test,y_pred_m2_svm_sigmoid))\n",
        "print(classification_report(y_test,y_pred_m2_svm_sigmoid))"
      ],
      "execution_count": null,
      "outputs": [
        {
          "output_type": "stream",
          "text": [
            "[[ 743  803]\n",
            " [3107 3124]]\n",
            "              precision    recall  f1-score   support\n",
            "\n",
            "         0.0       0.19      0.48      0.28      1546\n",
            "         1.0       0.80      0.50      0.62      6231\n",
            "\n",
            "    accuracy                           0.50      7777\n",
            "   macro avg       0.49      0.49      0.45      7777\n",
            "weighted avg       0.68      0.50      0.55      7777\n",
            "\n"
          ],
          "name": "stdout"
        }
      ]
    },
    {
      "cell_type": "markdown",
      "metadata": {
        "id": "ijgicxZvbo8S",
        "colab_type": "text"
      },
      "source": [
        "| ACTUAL\\PREDICTED          | Deletion (0) | Insertion (1) | TOTAL |\n",
        "|---------------------------|---------------------|-------------------------|-------|\n",
        "|    Deletion (0)|      743             |        803               |   1546   |\n",
        "|  Insertion (1)      |      3107             |        3124              |   6231  |\n",
        "|        TOTAL              |      3850             |        3927             |   7777  |"
      ]
    },
    {
      "cell_type": "code",
      "metadata": {
        "id": "RKFFcZtb1Ehj",
        "colab_type": "code",
        "colab": {}
      },
      "source": [
        "m2_svm_sigmoid_auc = roc_auc_score(y_test, y_pred_m2_svm_sigmoid)"
      ],
      "execution_count": null,
      "outputs": []
    },
    {
      "cell_type": "code",
      "metadata": {
        "id": "RZWMwsxHbmIL",
        "colab_type": "code",
        "colab": {}
      },
      "source": [
        "M2_sp_SVM_sigmoid=0.80\n",
        "M2_se_SVM_sigmoid=0.50\n",
        "M2_acc_SVM_sigmoid=0.50"
      ],
      "execution_count": null,
      "outputs": []
    },
    {
      "cell_type": "code",
      "metadata": {
        "id": "-GvJFqHocCM6",
        "colab_type": "code",
        "colab": {}
      },
      "source": [
        "svm_sigmoid_m2 = {'Model':\"Balanced - Manual\", 'Classifier':\"SVM - Sigmoid\", 'Specificity':M2_sp_SVM_sigmoid, 'Sensitivity':M2_se_SVM_sigmoid, 'Accuracy':M2_acc_SVM_sigmoid, 'AUC': m2_svm_sigmoid_auc}\n",
        "results = results.append(svm_sigmoid_m2, ignore_index=True)"
      ],
      "execution_count": null,
      "outputs": []
    },
    {
      "cell_type": "markdown",
      "metadata": {
        "id": "wmix_A4EdF1_",
        "colab_type": "text"
      },
      "source": [
        "**Model 3 - SMOTE Balanced**"
      ]
    },
    {
      "cell_type": "code",
      "metadata": {
        "id": "FLyeozO-cNPc",
        "colab_type": "code",
        "colab": {}
      },
      "source": [
        "svclassifier = SVC(kernel='sigmoid').fit(X_train_resampled, y_train_resampled)"
      ],
      "execution_count": null,
      "outputs": []
    },
    {
      "cell_type": "code",
      "metadata": {
        "id": "y8_W_mnoeThP",
        "colab_type": "code",
        "colab": {
          "base_uri": "https://localhost:8080/",
          "height": 212
        },
        "outputId": "2a8a99f1-ccc7-4204-ae35-7ce633c6b33b"
      },
      "source": [
        "y_pred_m3_svm_sigmoid = svclassifier.predict(X_test)\n",
        "\n",
        "print(confusion_matrix(y_test,y_pred_m3_svm_sigmoid))\n",
        "print(classification_report(y_test,y_pred_m3_svm_sigmoid))"
      ],
      "execution_count": null,
      "outputs": [
        {
          "output_type": "stream",
          "text": [
            "[[ 752  794]\n",
            " [3132 3099]]\n",
            "              precision    recall  f1-score   support\n",
            "\n",
            "         0.0       0.19      0.49      0.28      1546\n",
            "         1.0       0.80      0.50      0.61      6231\n",
            "\n",
            "    accuracy                           0.50      7777\n",
            "   macro avg       0.49      0.49      0.44      7777\n",
            "weighted avg       0.68      0.50      0.55      7777\n",
            "\n"
          ],
          "name": "stdout"
        }
      ]
    },
    {
      "cell_type": "markdown",
      "metadata": {
        "id": "KnCzgFX-eWXa",
        "colab_type": "text"
      },
      "source": [
        "| ACTUAL\\PREDICTED          | Deletion (0) | Insertion (1) | TOTAL |\n",
        "|---------------------------|---------------------|-------------------------|-------|\n",
        "|    Deletion (0)|      752             |        794               |   1546   |\n",
        "|  Insertion (1)      |      3132             |        3099              |   6231  |\n",
        "|        TOTAL              |      3884             |        3893             |   7777  |"
      ]
    },
    {
      "cell_type": "code",
      "metadata": {
        "id": "NFjGXCZ-18jU",
        "colab_type": "code",
        "colab": {}
      },
      "source": [
        "m3_svm_sigmoid_auc = roc_auc_score(y_test, y_pred_m3_svm_sigmoid)"
      ],
      "execution_count": null,
      "outputs": []
    },
    {
      "cell_type": "code",
      "metadata": {
        "id": "C8VSTsZneVko",
        "colab_type": "code",
        "colab": {}
      },
      "source": [
        "M3_sp_SVM_sigmoid=0.80\n",
        "M3_se_SVM_sigmoid=0.50\n",
        "M3_acc_SVM_sigmoid=0.50"
      ],
      "execution_count": null,
      "outputs": []
    },
    {
      "cell_type": "code",
      "metadata": {
        "id": "jyDiImI6etSy",
        "colab_type": "code",
        "colab": {}
      },
      "source": [
        "svm_sigmoid_m3 = {'Model':\"Balanced - SMOTE\", 'Classifier':\"SVM - Sigmoid\", 'Specificity':M3_sp_SVM_sigmoid, 'Sensitivity':M3_se_SVM_sigmoid, 'Accuracy':M3_acc_SVM_sigmoid, 'AUC': m3_svm_sigmoid_auc}\n",
        "results = results.append(svm_sigmoid_m3, ignore_index=True)"
      ],
      "execution_count": null,
      "outputs": []
    },
    {
      "cell_type": "markdown",
      "metadata": {
        "id": "6lm8xXS5fGaq",
        "colab_type": "text"
      },
      "source": [
        "**Model 4 - Imbalanced towards Deletion**"
      ]
    },
    {
      "cell_type": "code",
      "metadata": {
        "id": "IhEhqF1We7AS",
        "colab_type": "code",
        "colab": {}
      },
      "source": [
        "svclassifier = SVC(kernel='sigmoid').fit(X_train_imbal, y_train_imbal)"
      ],
      "execution_count": null,
      "outputs": []
    },
    {
      "cell_type": "code",
      "metadata": {
        "id": "iHoDG5oJf9J_",
        "colab_type": "code",
        "colab": {
          "base_uri": "https://localhost:8080/",
          "height": 212
        },
        "outputId": "9a038f3e-b50d-4de6-c209-1943cb9f6422"
      },
      "source": [
        "y_pred_m4_svm_sigmoid = svclassifier.predict(X_test)\n",
        "\n",
        "print(confusion_matrix(y_test,y_pred_m4_svm_sigmoid))\n",
        "print(classification_report(y_test,y_pred_m4_svm_sigmoid))"
      ],
      "execution_count": null,
      "outputs": [
        {
          "output_type": "stream",
          "text": [
            "[[1039  507]\n",
            " [4264 1967]]\n",
            "              precision    recall  f1-score   support\n",
            "\n",
            "         0.0       0.20      0.67      0.30      1546\n",
            "         1.0       0.80      0.32      0.45      6231\n",
            "\n",
            "    accuracy                           0.39      7777\n",
            "   macro avg       0.50      0.49      0.38      7777\n",
            "weighted avg       0.68      0.39      0.42      7777\n",
            "\n"
          ],
          "name": "stdout"
        }
      ]
    },
    {
      "cell_type": "markdown",
      "metadata": {
        "id": "xrZhivC6gBLU",
        "colab_type": "text"
      },
      "source": [
        "| ACTUAL\\PREDICTED          | Deletion (0) | Insertion (1) | TOTAL |\n",
        "|---------------------------|---------------------|-------------------------|-------|\n",
        "|    Deletion (0)|      1039             |        507               |   1546   |\n",
        "|  Insertion (1)      |      4264             |        1967              |   6231  |\n",
        "|        TOTAL              |      5303             |        2474             |   7777  |"
      ]
    },
    {
      "cell_type": "code",
      "metadata": {
        "id": "L5tbDMBC2z8D",
        "colab_type": "code",
        "colab": {}
      },
      "source": [
        "m4_svm_sigmoid_auc = roc_auc_score(y_test, y_pred_m4_svm_sigmoid)"
      ],
      "execution_count": null,
      "outputs": []
    },
    {
      "cell_type": "code",
      "metadata": {
        "id": "tIXcTlnyf-7H",
        "colab_type": "code",
        "colab": {}
      },
      "source": [
        "M4_sp_SVM_sigmoid=0.80\n",
        "M4_se_SVM_sigmoid=0.32\n",
        "M4_acc_SVM_sigmoid=0.39"
      ],
      "execution_count": null,
      "outputs": []
    },
    {
      "cell_type": "code",
      "metadata": {
        "id": "WwVff0KOgWvz",
        "colab_type": "code",
        "colab": {}
      },
      "source": [
        "svm_sigmoid_m4 = {'Model':\"Imbalanced - Deletion\", 'Classifier':\"SVM - Sigmoid\", 'Specificity':M4_sp_SVM_sigmoid, 'Sensitivity':M4_se_SVM_sigmoid, 'Accuracy':M4_acc_SVM_sigmoid, 'AUC': m4_svm_sigmoid_auc}\n",
        "results = results.append(svm_sigmoid_m4, ignore_index=True)"
      ],
      "execution_count": null,
      "outputs": []
    },
    {
      "cell_type": "markdown",
      "metadata": {
        "id": "EHMqdR4XkN33",
        "colab_type": "text"
      },
      "source": [
        "# **NAIVE BAYES (GAUSSIAN)**"
      ]
    },
    {
      "cell_type": "markdown",
      "metadata": {
        "id": "efhjO8LnkgGe",
        "colab_type": "text"
      },
      "source": [
        "**Model 1 - Imbalanced towards Insertion**"
      ]
    },
    {
      "cell_type": "code",
      "metadata": {
        "id": "fG3cmp8iggW9",
        "colab_type": "code",
        "colab": {}
      },
      "source": [
        "gnb = GaussianNB().fit(X_train, y_train)"
      ],
      "execution_count": null,
      "outputs": []
    },
    {
      "cell_type": "code",
      "metadata": {
        "id": "2zitHlnRkmUC",
        "colab_type": "code",
        "colab": {
          "base_uri": "https://localhost:8080/",
          "height": 267
        },
        "outputId": "13103d54-97fe-4dc1-d099-8ed454f7f3bc"
      },
      "source": [
        "y_pred_m1_naive_gaussian = gnb.predict(X_test) \n",
        "print(confusion_matrix(y_test,y_pred_m1_naive_gaussian))\n",
        "print(classification_report(y_test,y_pred_m1_naive_gaussian))"
      ],
      "execution_count": null,
      "outputs": [
        {
          "output_type": "stream",
          "text": [
            "[[   0 1546]\n",
            " [   0 6231]]\n",
            "              precision    recall  f1-score   support\n",
            "\n",
            "         0.0       0.00      0.00      0.00      1546\n",
            "         1.0       0.80      1.00      0.89      6231\n",
            "\n",
            "    accuracy                           0.80      7777\n",
            "   macro avg       0.40      0.50      0.44      7777\n",
            "weighted avg       0.64      0.80      0.71      7777\n",
            "\n"
          ],
          "name": "stdout"
        },
        {
          "output_type": "stream",
          "text": [
            "/usr/local/lib/python3.6/dist-packages/sklearn/metrics/_classification.py:1272: UndefinedMetricWarning: Precision and F-score are ill-defined and being set to 0.0 in labels with no predicted samples. Use `zero_division` parameter to control this behavior.\n",
            "  _warn_prf(average, modifier, msg_start, len(result))\n"
          ],
          "name": "stderr"
        }
      ]
    },
    {
      "cell_type": "markdown",
      "metadata": {
        "id": "NkyguRIek414",
        "colab_type": "text"
      },
      "source": [
        "| ACTUAL\\PREDICTED          | Deletion (0) | Insertion (1) | TOTAL |\n",
        "|---------------------------|---------------------|-------------------------|-------|\n",
        "|    Deletion (0)|      0             |        1546               |   1546   |\n",
        "|  Insertion (1)      |      0             |        6231              |   6231  |\n",
        "|        TOTAL              |      0             |        7777             |   7777  |"
      ]
    },
    {
      "cell_type": "code",
      "metadata": {
        "id": "6E-oEthf4WDk",
        "colab_type": "code",
        "colab": {}
      },
      "source": [
        "m1_naive_gaussian_auc = roc_auc_score(y_test, y_pred_m1_naive_gaussian)"
      ],
      "execution_count": null,
      "outputs": []
    },
    {
      "cell_type": "code",
      "metadata": {
        "id": "ZgouiP4ukoK0",
        "colab_type": "code",
        "colab": {}
      },
      "source": [
        "M1_sp_naive_gaussian=0.80\n",
        "M1_se_naive_gaussian=1.00\n",
        "M1_acc_naive_gaussian=0.80"
      ],
      "execution_count": null,
      "outputs": []
    },
    {
      "cell_type": "code",
      "metadata": {
        "id": "-GBgaMAVlYCT",
        "colab_type": "code",
        "colab": {}
      },
      "source": [
        "naive_gaussian_m1 = {'Model':\"Imbalanced - Insertion\", 'Classifier':\"Naive Bayes - Gaussian\", 'Specificity':M1_sp_naive_gaussian, 'Sensitivity':M1_se_naive_gaussian, 'Accuracy':M1_acc_naive_gaussian, 'AUC': m1_naive_gaussian_auc}\n",
        "results = results.append(naive_gaussian_m1, ignore_index=True)"
      ],
      "execution_count": null,
      "outputs": []
    },
    {
      "cell_type": "markdown",
      "metadata": {
        "id": "WIYtrG-GnzjC",
        "colab_type": "text"
      },
      "source": [
        "**Model 2 - Manually Balanced**"
      ]
    },
    {
      "cell_type": "code",
      "metadata": {
        "id": "wm942fsjm5Ty",
        "colab_type": "code",
        "colab": {}
      },
      "source": [
        "gnb = GaussianNB().fit(X_train_bal, y_train_bal)"
      ],
      "execution_count": null,
      "outputs": []
    },
    {
      "cell_type": "code",
      "metadata": {
        "id": "z49Zvu7Tn_6j",
        "colab_type": "code",
        "colab": {
          "base_uri": "https://localhost:8080/",
          "height": 212
        },
        "outputId": "415db7c8-74be-4f65-af21-77b3a0879d58"
      },
      "source": [
        "y_pred_m2_naive_gaussian = gnb.predict(X_test) \n",
        "print(confusion_matrix(y_test,y_pred_m2_naive_gaussian))\n",
        "print(classification_report(y_test,y_pred_m2_naive_gaussian))"
      ],
      "execution_count": null,
      "outputs": [
        {
          "output_type": "stream",
          "text": [
            "[[ 993  553]\n",
            " [3708 2523]]\n",
            "              precision    recall  f1-score   support\n",
            "\n",
            "         0.0       0.21      0.64      0.32      1546\n",
            "         1.0       0.82      0.40      0.54      6231\n",
            "\n",
            "    accuracy                           0.45      7777\n",
            "   macro avg       0.52      0.52      0.43      7777\n",
            "weighted avg       0.70      0.45      0.50      7777\n",
            "\n"
          ],
          "name": "stdout"
        }
      ]
    },
    {
      "cell_type": "markdown",
      "metadata": {
        "id": "IPcAd-l3oKm3",
        "colab_type": "text"
      },
      "source": [
        "| ACTUAL\\PREDICTED          | Deletion (0) | Insertion (1) | TOTAL |\n",
        "|---------------------------|---------------------|-------------------------|-------|\n",
        "|    Deletion (0)|      993             |        553               |   1546   |\n",
        "|  Insertion (1)      |      3708             |        2523              |   6231  |\n",
        "|        TOTAL              |      4701             |        3076             |   7777  |"
      ]
    },
    {
      "cell_type": "code",
      "metadata": {
        "id": "o6F9qGND47wz",
        "colab_type": "code",
        "colab": {}
      },
      "source": [
        "m2_naive_gaussian_auc = roc_auc_score(y_test, y_pred_m2_naive_gaussian)"
      ],
      "execution_count": null,
      "outputs": []
    },
    {
      "cell_type": "code",
      "metadata": {
        "id": "k2BKXoJPoCCH",
        "colab_type": "code",
        "colab": {}
      },
      "source": [
        "M2_sp_naive_gaussian=0.82\n",
        "M2_se_naive_gaussian=0.40\n",
        "M2_acc_naive_gaussian=0.45"
      ],
      "execution_count": null,
      "outputs": []
    },
    {
      "cell_type": "code",
      "metadata": {
        "id": "YpyhzUL1oc_f",
        "colab_type": "code",
        "colab": {}
      },
      "source": [
        "naive_gaussian_m2 = {'Model':\"Balanced - Manual\", 'Classifier':\"Naive Bayes - Gaussian\", 'Specificity':M2_sp_naive_gaussian, 'Sensitivity':M2_se_naive_gaussian, 'Accuracy':M2_acc_naive_gaussian, 'AUC': m2_naive_gaussian_auc}\n",
        "results = results.append(naive_gaussian_m2, ignore_index=True)"
      ],
      "execution_count": null,
      "outputs": []
    },
    {
      "cell_type": "markdown",
      "metadata": {
        "id": "ese3046apTYu",
        "colab_type": "text"
      },
      "source": [
        "**Model 3 - SMOTE Balanced**"
      ]
    },
    {
      "cell_type": "code",
      "metadata": {
        "id": "IgIF-8INonnW",
        "colab_type": "code",
        "colab": {}
      },
      "source": [
        "gnb = GaussianNB().fit(X_train_resampled, y_train_resampled)"
      ],
      "execution_count": null,
      "outputs": []
    },
    {
      "cell_type": "code",
      "metadata": {
        "id": "aIHdl2RmpiZV",
        "colab_type": "code",
        "colab": {
          "base_uri": "https://localhost:8080/",
          "height": 212
        },
        "outputId": "32416e83-37c2-4ab4-f5b6-68e8fedf3c33"
      },
      "source": [
        "y_pred_m3_naive_gaussian = gnb.predict(X_test) \n",
        "print(confusion_matrix(y_test,y_pred_m3_naive_gaussian))\n",
        "print(classification_report(y_test,y_pred_m3_naive_gaussian))"
      ],
      "execution_count": null,
      "outputs": [
        {
          "output_type": "stream",
          "text": [
            "[[ 989  557]\n",
            " [3588 2643]]\n",
            "              precision    recall  f1-score   support\n",
            "\n",
            "         0.0       0.22      0.64      0.32      1546\n",
            "         1.0       0.83      0.42      0.56      6231\n",
            "\n",
            "    accuracy                           0.47      7777\n",
            "   macro avg       0.52      0.53      0.44      7777\n",
            "weighted avg       0.70      0.47      0.51      7777\n",
            "\n"
          ],
          "name": "stdout"
        }
      ]
    },
    {
      "cell_type": "markdown",
      "metadata": {
        "id": "iecRVtWIpnzY",
        "colab_type": "text"
      },
      "source": [
        "| ACTUAL\\PREDICTED          | Deletion (0) | Insertion (1) | TOTAL |\n",
        "|---------------------------|---------------------|-------------------------|-------|\n",
        "|    Deletion (0)|      989             |        557               |   1546   |\n",
        "|  Insertion (1)      |      3588             |        2643              |   6231  |\n",
        "|        TOTAL              |      4577             |        3200             |   7777  |"
      ]
    },
    {
      "cell_type": "code",
      "metadata": {
        "id": "wozn3_mx61rR",
        "colab_type": "code",
        "colab": {}
      },
      "source": [
        "m3_naive_gaussian_auc = roc_auc_score(y_test, y_pred_m3_naive_gaussian)"
      ],
      "execution_count": null,
      "outputs": []
    },
    {
      "cell_type": "code",
      "metadata": {
        "id": "epMCn4dtpks2",
        "colab_type": "code",
        "colab": {}
      },
      "source": [
        "M3_sp_naive_gaussian=0.83\n",
        "M3_se_naive_gaussian=0.42\n",
        "M3_acc_naive_gaussian=0.47"
      ],
      "execution_count": null,
      "outputs": []
    },
    {
      "cell_type": "code",
      "metadata": {
        "id": "vdGmbN8Lp2D9",
        "colab_type": "code",
        "colab": {}
      },
      "source": [
        "naive_gaussian_m3 = {'Model':\"Balanced - SMOTE\", 'Classifier':\"Naive Bayes - Gaussian\", 'Specificity':M3_sp_naive_gaussian, 'Sensitivity':M3_se_naive_gaussian, 'Accuracy':M3_acc_naive_gaussian, 'AUC': m3_naive_gaussian_auc}\n",
        "results = results.append(naive_gaussian_m3, ignore_index=True)"
      ],
      "execution_count": null,
      "outputs": []
    },
    {
      "cell_type": "markdown",
      "metadata": {
        "id": "S9iZEb_jqyJx",
        "colab_type": "text"
      },
      "source": [
        "**Model 4 - Imbalanced towards Deletion**"
      ]
    },
    {
      "cell_type": "code",
      "metadata": {
        "id": "BnKI96Hsp-Ry",
        "colab_type": "code",
        "colab": {}
      },
      "source": [
        "gnb = GaussianNB().fit(X_train_imbal, y_train_imbal)"
      ],
      "execution_count": null,
      "outputs": []
    },
    {
      "cell_type": "code",
      "metadata": {
        "id": "xwf4lIVyq99-",
        "colab_type": "code",
        "colab": {
          "base_uri": "https://localhost:8080/",
          "height": 212
        },
        "outputId": "a2aa84ad-3bab-4341-8a6c-8cc182736dc7"
      },
      "source": [
        "y_pred_m4_naive_gaussian = gnb.predict(X_test) \n",
        "print(confusion_matrix(y_test,y_pred_m4_naive_gaussian))\n",
        "print(classification_report(y_test,y_pred_m4_naive_gaussian))"
      ],
      "execution_count": null,
      "outputs": [
        {
          "output_type": "stream",
          "text": [
            "[[1450   96]\n",
            " [5522  709]]\n",
            "              precision    recall  f1-score   support\n",
            "\n",
            "         0.0       0.21      0.94      0.34      1546\n",
            "         1.0       0.88      0.11      0.20      6231\n",
            "\n",
            "    accuracy                           0.28      7777\n",
            "   macro avg       0.54      0.53      0.27      7777\n",
            "weighted avg       0.75      0.28      0.23      7777\n",
            "\n"
          ],
          "name": "stdout"
        }
      ]
    },
    {
      "cell_type": "markdown",
      "metadata": {
        "id": "Y4ovrQjprDRq",
        "colab_type": "text"
      },
      "source": [
        "| ACTUAL\\PREDICTED          | Deletion (0) | Insertion (1) | TOTAL |\n",
        "|---------------------------|---------------------|-------------------------|-------|\n",
        "|    Deletion (0)|      1450             |        96               |   1546   |\n",
        "|  Insertion (1)      |      5522             |        709              |   6231  |\n",
        "|        TOTAL              |      6972             |        805             |   7777  |"
      ]
    },
    {
      "cell_type": "code",
      "metadata": {
        "id": "bWPtI21t7HVK",
        "colab_type": "code",
        "colab": {}
      },
      "source": [
        "m4_naive_gaussian_auc = roc_auc_score(y_test, y_pred_m4_naive_gaussian)"
      ],
      "execution_count": null,
      "outputs": []
    },
    {
      "cell_type": "code",
      "metadata": {
        "id": "TALxSYlTrBFk",
        "colab_type": "code",
        "colab": {}
      },
      "source": [
        "M4_sp_naive_gaussian=0.88\n",
        "M4_se_naive_gaussian=0.11\n",
        "M4_acc_naive_gaussian=0.28"
      ],
      "execution_count": null,
      "outputs": []
    },
    {
      "cell_type": "code",
      "metadata": {
        "id": "1IlDso45rbUd",
        "colab_type": "code",
        "colab": {}
      },
      "source": [
        "naive_gaussian_m4 = {'Model':\"Imbalanced - Deletion\", 'Classifier':\"Naive Bayes - Gaussian\", 'Specificity':M4_sp_naive_gaussian, 'Sensitivity':M4_se_naive_gaussian, 'Accuracy':M4_acc_naive_gaussian, 'AUC': m4_naive_gaussian_auc}\n",
        "results = results.append(naive_gaussian_m4, ignore_index=True)"
      ],
      "execution_count": null,
      "outputs": []
    },
    {
      "cell_type": "markdown",
      "metadata": {
        "id": "d_FUhx82yuSn",
        "colab_type": "text"
      },
      "source": [
        "# **Naive Bayes (Bernoulli)**"
      ]
    },
    {
      "cell_type": "markdown",
      "metadata": {
        "id": "fL173PA6y3hz",
        "colab_type": "text"
      },
      "source": [
        "**Model 1 - Imbalanced towards Insertion**"
      ]
    },
    {
      "cell_type": "code",
      "metadata": {
        "id": "_se-zY6RrnGL",
        "colab_type": "code",
        "colab": {}
      },
      "source": [
        "gnb = BernoulliNB().fit(X_train, y_train)"
      ],
      "execution_count": null,
      "outputs": []
    },
    {
      "cell_type": "code",
      "metadata": {
        "id": "GqpLXvbfzEmM",
        "colab_type": "code",
        "colab": {
          "base_uri": "https://localhost:8080/",
          "height": 267
        },
        "outputId": "b12d167e-472f-4b6b-b8dd-8a72c465e517"
      },
      "source": [
        "y_pred_m1_naive_bernoulli = gnb.predict(X_test) \n",
        "print(confusion_matrix(y_test,y_pred_m1_naive_bernoulli))\n",
        "print(classification_report(y_test,y_pred_m1_naive_bernoulli))"
      ],
      "execution_count": null,
      "outputs": [
        {
          "output_type": "stream",
          "text": [
            "[[   0 1546]\n",
            " [   0 6231]]\n",
            "              precision    recall  f1-score   support\n",
            "\n",
            "         0.0       0.00      0.00      0.00      1546\n",
            "         1.0       0.80      1.00      0.89      6231\n",
            "\n",
            "    accuracy                           0.80      7777\n",
            "   macro avg       0.40      0.50      0.44      7777\n",
            "weighted avg       0.64      0.80      0.71      7777\n",
            "\n"
          ],
          "name": "stdout"
        },
        {
          "output_type": "stream",
          "text": [
            "/usr/local/lib/python3.6/dist-packages/sklearn/metrics/_classification.py:1272: UndefinedMetricWarning: Precision and F-score are ill-defined and being set to 0.0 in labels with no predicted samples. Use `zero_division` parameter to control this behavior.\n",
            "  _warn_prf(average, modifier, msg_start, len(result))\n"
          ],
          "name": "stderr"
        }
      ]
    },
    {
      "cell_type": "markdown",
      "metadata": {
        "id": "SO-laNKQ_NkO",
        "colab_type": "text"
      },
      "source": [
        "| ACTUAL\\PREDICTED          | Deletion (0) | Insertion (1) | TOTAL |\n",
        "|---------------------------|---------------------|-------------------------|-------|\n",
        "|    Deletion (0)|      0             |        1546               |   1546   |\n",
        "|  Insertion (1)      |      0             |        6231              |   6231  |\n",
        "|        TOTAL              |      0             |        7777             |   7777  |"
      ]
    },
    {
      "cell_type": "code",
      "metadata": {
        "id": "L3DL79S87i6J",
        "colab_type": "code",
        "colab": {}
      },
      "source": [
        "m1_naive_bernoulli_auc = roc_auc_score(y_test, y_pred_m1_naive_bernoulli)"
      ],
      "execution_count": null,
      "outputs": []
    },
    {
      "cell_type": "code",
      "metadata": {
        "id": "ft8MigV3zpsb",
        "colab_type": "code",
        "colab": {}
      },
      "source": [
        "M1_sp_naive_bernoulli=0.80\n",
        "M1_se_naive_bernoulli=1.00\n",
        "M1_acc_naive_bernoulli=0.80"
      ],
      "execution_count": null,
      "outputs": []
    },
    {
      "cell_type": "code",
      "metadata": {
        "id": "EXzv0DMa_vio",
        "colab_type": "code",
        "colab": {}
      },
      "source": [
        "naive_bernoullii_m1 = {'Model':\"Imbalanced - Insertion\", 'Classifier':\"Naive Bayes - Bernoulli\", 'Specificity':M1_sp_naive_bernoulli, 'Sensitivity':M1_se_naive_bernoulli, 'Accuracy':M1_acc_naive_bernoulli, 'AUC':m1_naive_bernoulli_auc}\n",
        "results = results.append(naive_bernoullii_m1, ignore_index=True)"
      ],
      "execution_count": null,
      "outputs": []
    },
    {
      "cell_type": "markdown",
      "metadata": {
        "id": "iVeWbhXiAXlZ",
        "colab_type": "text"
      },
      "source": [
        "**Model 2 - Manually Balanced**"
      ]
    },
    {
      "cell_type": "code",
      "metadata": {
        "id": "3ufssO5gAEGb",
        "colab_type": "code",
        "colab": {}
      },
      "source": [
        "gnb = BernoulliNB().fit(X_train_bal, y_train_bal)"
      ],
      "execution_count": null,
      "outputs": []
    },
    {
      "cell_type": "code",
      "metadata": {
        "id": "Yw2VKpE7AhGt",
        "colab_type": "code",
        "colab": {
          "base_uri": "https://localhost:8080/",
          "height": 212
        },
        "outputId": "5e1d2fef-76f1-47a6-deb6-5fb132967ef4"
      },
      "source": [
        "y_pred_m2_naive_bernoulli = gnb.predict(X_test) \n",
        "print(confusion_matrix(y_test,y_pred_m2_naive_bernoulli))\n",
        "print(classification_report(y_test,y_pred_m2_naive_bernoulli))"
      ],
      "execution_count": null,
      "outputs": [
        {
          "output_type": "stream",
          "text": [
            "[[1322  224]\n",
            " [4992 1239]]\n",
            "              precision    recall  f1-score   support\n",
            "\n",
            "         0.0       0.21      0.86      0.34      1546\n",
            "         1.0       0.85      0.20      0.32      6231\n",
            "\n",
            "    accuracy                           0.33      7777\n",
            "   macro avg       0.53      0.53      0.33      7777\n",
            "weighted avg       0.72      0.33      0.32      7777\n",
            "\n"
          ],
          "name": "stdout"
        }
      ]
    },
    {
      "cell_type": "markdown",
      "metadata": {
        "id": "6_bfnVwHAllJ",
        "colab_type": "text"
      },
      "source": [
        "| ACTUAL\\PREDICTED          | Deletion (0) | Insertion (1) | TOTAL |\n",
        "|---------------------------|---------------------|-------------------------|-------|\n",
        "|    Deletion (0)|      1322             |        224               |   1546   |\n",
        "|  Insertion (1)      |      4992             |        1239              |   6231  |\n",
        "|        TOTAL              |      6314             |        1463             |   7777  |"
      ]
    },
    {
      "cell_type": "code",
      "metadata": {
        "id": "rJpzJGoP9q4r",
        "colab_type": "code",
        "colab": {}
      },
      "source": [
        "m2_naive_bernoulli_auc = roc_auc_score(y_test, y_pred_m2_naive_bernoulli)"
      ],
      "execution_count": null,
      "outputs": []
    },
    {
      "cell_type": "code",
      "metadata": {
        "id": "vui29GS7AjRQ",
        "colab_type": "code",
        "colab": {}
      },
      "source": [
        "M2_sp_naive_bernoulli=0.85\n",
        "M2_se_naive_bernoulli=0.20\n",
        "M2_acc_naive_bernoulli=0.33"
      ],
      "execution_count": null,
      "outputs": []
    },
    {
      "cell_type": "code",
      "metadata": {
        "id": "jYSUcxSHAvD-",
        "colab_type": "code",
        "colab": {}
      },
      "source": [
        "naive_bernoullii_m2 = {'Model':\"Balanced - Manual\", 'Classifier':\"Naive Bayes - Bernoulli\", 'Specificity':M2_sp_naive_bernoulli, 'Sensitivity':M2_se_naive_bernoulli, 'Accuracy':M2_acc_naive_bernoulli, 'AUC':m2_naive_bernoulli_auc}\n",
        "results = results.append(naive_bernoullii_m2, ignore_index=True)"
      ],
      "execution_count": null,
      "outputs": []
    },
    {
      "cell_type": "markdown",
      "metadata": {
        "id": "hylGD_pQA_ay",
        "colab_type": "text"
      },
      "source": [
        "**Model 3 - SMOTE Balanced**"
      ]
    },
    {
      "cell_type": "code",
      "metadata": {
        "id": "SwRIis2cA3-a",
        "colab_type": "code",
        "colab": {}
      },
      "source": [
        "gnb = BernoulliNB().fit(X_train_resampled, y_train_resampled)"
      ],
      "execution_count": null,
      "outputs": []
    },
    {
      "cell_type": "code",
      "metadata": {
        "id": "XoW-yDCbBMS1",
        "colab_type": "code",
        "colab": {
          "base_uri": "https://localhost:8080/",
          "height": 212
        },
        "outputId": "fe920d2e-1c3a-44b0-914b-5e619352ef1b"
      },
      "source": [
        "y_pred_m3_naive_bernoulli = gnb.predict(X_test) \n",
        "print(confusion_matrix(y_test,y_pred_m3_naive_bernoulli))\n",
        "print(classification_report(y_test,y_pred_m3_naive_bernoulli))"
      ],
      "execution_count": null,
      "outputs": [
        {
          "output_type": "stream",
          "text": [
            "[[ 896  650]\n",
            " [3295 2936]]\n",
            "              precision    recall  f1-score   support\n",
            "\n",
            "         0.0       0.21      0.58      0.31      1546\n",
            "         1.0       0.82      0.47      0.60      6231\n",
            "\n",
            "    accuracy                           0.49      7777\n",
            "   macro avg       0.52      0.53      0.46      7777\n",
            "weighted avg       0.70      0.49      0.54      7777\n",
            "\n"
          ],
          "name": "stdout"
        }
      ]
    },
    {
      "cell_type": "markdown",
      "metadata": {
        "id": "lqoQjIWBBURp",
        "colab_type": "text"
      },
      "source": [
        "| ACTUAL\\PREDICTED          | Deletion (0) | Insertion (1) | TOTAL |\n",
        "|---------------------------|---------------------|-------------------------|-------|\n",
        "|    Deletion (0)|      896             |        650               |   1546   |\n",
        "|  Insertion (1)      |      3295             |        2936              |   6231  |\n",
        "|        TOTAL              |      4191             |        3586             |   7777  |"
      ]
    },
    {
      "cell_type": "code",
      "metadata": {
        "id": "_qKcYjzu-nqP",
        "colab_type": "code",
        "colab": {}
      },
      "source": [
        "m3_naive_bernoulli_auc = roc_auc_score(y_test, y_pred_m3_naive_bernoulli)"
      ],
      "execution_count": null,
      "outputs": []
    },
    {
      "cell_type": "code",
      "metadata": {
        "id": "-Nkwg9I9BOl-",
        "colab_type": "code",
        "colab": {}
      },
      "source": [
        "M3_sp_naive_bernoulli=0.82\n",
        "M3_se_naive_bernoulli=0.47\n",
        "M3_acc_naive_bernoulli=0.49"
      ],
      "execution_count": null,
      "outputs": []
    },
    {
      "cell_type": "code",
      "metadata": {
        "id": "b4-v0T9pBgZJ",
        "colab_type": "code",
        "colab": {}
      },
      "source": [
        "naive_bernoullii_m3 = {'Model':\"Balanced - SMOTE\", 'Classifier':\"Naive Bayes - Bernoulli\", 'Specificity':M3_sp_naive_bernoulli, 'Sensitivity':M3_se_naive_bernoulli, 'Accuracy':M3_acc_naive_bernoulli, 'AUC':m3_naive_bernoulli_auc}\n",
        "results = results.append(naive_bernoullii_m3, ignore_index=True)"
      ],
      "execution_count": null,
      "outputs": []
    },
    {
      "cell_type": "markdown",
      "metadata": {
        "id": "1MpR7bJWB4UG",
        "colab_type": "text"
      },
      "source": [
        "**Model 4 - Imbalanced towards Deletion**"
      ]
    },
    {
      "cell_type": "code",
      "metadata": {
        "id": "XFom6HC_BpFd",
        "colab_type": "code",
        "colab": {}
      },
      "source": [
        "gnb = BernoulliNB().fit(X_train_imbal, y_train_imbal)"
      ],
      "execution_count": null,
      "outputs": []
    },
    {
      "cell_type": "code",
      "metadata": {
        "id": "ZzqUtpWSB_9d",
        "colab_type": "code",
        "colab": {
          "base_uri": "https://localhost:8080/",
          "height": 267
        },
        "outputId": "d5c52ea7-6064-4588-a1f7-ad79c7a03975"
      },
      "source": [
        "y_pred_m4_naive_bernoulli = gnb.predict(X_test) \n",
        "print(confusion_matrix(y_test,y_pred_m4_naive_bernoulli))\n",
        "print(classification_report(y_test,y_pred_m4_naive_bernoulli))"
      ],
      "execution_count": null,
      "outputs": [
        {
          "output_type": "stream",
          "text": [
            "[[1546    0]\n",
            " [6231    0]]\n",
            "              precision    recall  f1-score   support\n",
            "\n",
            "         0.0       0.20      1.00      0.33      1546\n",
            "         1.0       0.00      0.00      0.00      6231\n",
            "\n",
            "    accuracy                           0.20      7777\n",
            "   macro avg       0.10      0.50      0.17      7777\n",
            "weighted avg       0.04      0.20      0.07      7777\n",
            "\n"
          ],
          "name": "stdout"
        },
        {
          "output_type": "stream",
          "text": [
            "/usr/local/lib/python3.6/dist-packages/sklearn/metrics/_classification.py:1272: UndefinedMetricWarning: Precision and F-score are ill-defined and being set to 0.0 in labels with no predicted samples. Use `zero_division` parameter to control this behavior.\n",
            "  _warn_prf(average, modifier, msg_start, len(result))\n"
          ],
          "name": "stderr"
        }
      ]
    },
    {
      "cell_type": "markdown",
      "metadata": {
        "id": "4VGrm7H7CKVl",
        "colab_type": "text"
      },
      "source": [
        "| ACTUAL\\PREDICTED          | Deletion (0) | Insertion (1) | TOTAL |\n",
        "|---------------------------|---------------------|-------------------------|-------|\n",
        "|    Deletion (0)|      1546             |        0               |   1546   |\n",
        "|  Insertion (1)      |      6231             |        0              |   6231  |\n",
        "|        TOTAL              |      7777             |        0             |   7777  |"
      ]
    },
    {
      "cell_type": "code",
      "metadata": {
        "id": "tbgp6nbL_Pzb",
        "colab_type": "code",
        "colab": {}
      },
      "source": [
        "m4_naive_bernoulli_auc = roc_auc_score(y_test, y_pred_m4_naive_bernoulli)"
      ],
      "execution_count": null,
      "outputs": []
    },
    {
      "cell_type": "code",
      "metadata": {
        "id": "vjSei9qcCHe9",
        "colab_type": "code",
        "colab": {}
      },
      "source": [
        "M4_sp_naive_bernoulli=0.00\n",
        "M4_se_naive_bernoulli=0.00\n",
        "M4_acc_naive_bernoulli=0.20"
      ],
      "execution_count": null,
      "outputs": []
    },
    {
      "cell_type": "code",
      "metadata": {
        "id": "g27KSEB5CRAb",
        "colab_type": "code",
        "colab": {}
      },
      "source": [
        "naive_bernoullii_m4 = {'Model':\"Imbalanced - Deletion\", 'Classifier':\"Naive Bayes - Bernoulli\", 'Specificity':M4_sp_naive_bernoulli, 'Sensitivity':M4_se_naive_bernoulli, 'Accuracy':M4_acc_naive_bernoulli, 'AUC':m4_naive_bernoulli_auc}\n",
        "results = results.append(naive_bernoullii_m4, ignore_index=True)"
      ],
      "execution_count": null,
      "outputs": []
    },
    {
      "cell_type": "markdown",
      "metadata": {
        "id": "oDnRP3X_D24_",
        "colab_type": "text"
      },
      "source": [
        "# **Random Forest**\n",
        "\n"
      ]
    },
    {
      "cell_type": "markdown",
      "metadata": {
        "id": "bUe0wpqKEC3p",
        "colab_type": "text"
      },
      "source": [
        "**Model 1 - Imbalanced towards Insertion**"
      ]
    },
    {
      "cell_type": "code",
      "metadata": {
        "id": "j_IhCqBDCZ0b",
        "colab_type": "code",
        "colab": {}
      },
      "source": [
        "rf = RandomForestClassifier().fit(X_train, y_train)"
      ],
      "execution_count": null,
      "outputs": []
    },
    {
      "cell_type": "code",
      "metadata": {
        "id": "sy6nIt4MEMQG",
        "colab_type": "code",
        "colab": {
          "base_uri": "https://localhost:8080/",
          "height": 212
        },
        "outputId": "651ebd9b-85d0-420a-c34a-1a3d57587f7e"
      },
      "source": [
        "y_pred_m1_rf = rf.predict(X_test)\n",
        "print(confusion_matrix(y_test,y_pred_m1_rf))\n",
        "print(classification_report(y_test,y_pred_m1_rf))"
      ],
      "execution_count": null,
      "outputs": [
        {
          "output_type": "stream",
          "text": [
            "[[ 692  854]\n",
            " [ 273 5958]]\n",
            "              precision    recall  f1-score   support\n",
            "\n",
            "         0.0       0.72      0.45      0.55      1546\n",
            "         1.0       0.87      0.96      0.91      6231\n",
            "\n",
            "    accuracy                           0.86      7777\n",
            "   macro avg       0.80      0.70      0.73      7777\n",
            "weighted avg       0.84      0.86      0.84      7777\n",
            "\n"
          ],
          "name": "stdout"
        }
      ]
    },
    {
      "cell_type": "markdown",
      "metadata": {
        "id": "IWtqR34rOsjb",
        "colab_type": "text"
      },
      "source": [
        "| ACTUAL\\PREDICTED          | Deletion (0) | Insertion (1) | TOTAL |\n",
        "|---------------------------|---------------------|-------------------------|-------|\n",
        "|    Deletion (0)|      692             |        854               |   1546   |\n",
        "|  Insertion (1)      |      273             |        5958              |   6231  |\n",
        "|        TOTAL              |      965             |        6812             |   7777  |"
      ]
    },
    {
      "cell_type": "code",
      "metadata": {
        "id": "ejXqqghvA20Y",
        "colab_type": "code",
        "colab": {
          "base_uri": "https://localhost:8080/",
          "height": 34
        },
        "outputId": "fa0887e0-83c5-4fdb-db00-aacf86c5bea9"
      },
      "source": [
        "m1_rf_auc = roc_auc_score(y_test, y_pred_m1_rf)\n",
        "m1_rf_auc"
      ],
      "execution_count": null,
      "outputs": [
        {
          "output_type": "execute_result",
          "data": {
            "text/plain": [
              "0.70189676746676"
            ]
          },
          "metadata": {
            "tags": []
          },
          "execution_count": 122
        }
      ]
    },
    {
      "cell_type": "code",
      "metadata": {
        "id": "DSjGRa0_OJ0K",
        "colab_type": "code",
        "colab": {}
      },
      "source": [
        "M1_sp_rf=0.87\n",
        "M1_se_rf=0.95\n",
        "M1_acc_rf=0.85"
      ],
      "execution_count": null,
      "outputs": []
    },
    {
      "cell_type": "code",
      "metadata": {
        "id": "zv_oxR7bO_wh",
        "colab_type": "code",
        "colab": {}
      },
      "source": [
        "rf_m1 = {'Model':\"Imbalanced - Insertion\", 'Classifier':\"Random Forest\", 'Specificity':M1_sp_rf, 'Sensitivity':M1_se_rf, 'Accuracy':M1_acc_rf, 'AUC':m1_rf_auc}\n",
        "results = results.append(rf_m1, ignore_index=True)"
      ],
      "execution_count": null,
      "outputs": []
    },
    {
      "cell_type": "markdown",
      "metadata": {
        "id": "w0qjIzY4Pj6I",
        "colab_type": "text"
      },
      "source": [
        "**Model 2 - Manually Balanced**"
      ]
    },
    {
      "cell_type": "code",
      "metadata": {
        "id": "XdjYsDpCPVUB",
        "colab_type": "code",
        "colab": {}
      },
      "source": [
        "rf = RandomForestClassifier().fit(X_train_bal, y_train_bal)"
      ],
      "execution_count": null,
      "outputs": []
    },
    {
      "cell_type": "code",
      "metadata": {
        "id": "635SNFI2Qmzt",
        "colab_type": "code",
        "colab": {
          "base_uri": "https://localhost:8080/",
          "height": 212
        },
        "outputId": "dfb349e9-482c-4a54-8427-7b2520294490"
      },
      "source": [
        "y_pred_m2_rf = rf.predict(X_test)\n",
        "print(confusion_matrix(y_test,y_pred_m2_rf))\n",
        "print(classification_report(y_test,y_pred_m2_rf))"
      ],
      "execution_count": null,
      "outputs": [
        {
          "output_type": "stream",
          "text": [
            "[[1068  478]\n",
            " [2512 3719]]\n",
            "              precision    recall  f1-score   support\n",
            "\n",
            "         0.0       0.30      0.69      0.42      1546\n",
            "         1.0       0.89      0.60      0.71      6231\n",
            "\n",
            "    accuracy                           0.62      7777\n",
            "   macro avg       0.59      0.64      0.56      7777\n",
            "weighted avg       0.77      0.62      0.65      7777\n",
            "\n"
          ],
          "name": "stdout"
        }
      ]
    },
    {
      "cell_type": "markdown",
      "metadata": {
        "id": "_XajmQ3LQu8V",
        "colab_type": "text"
      },
      "source": [
        "| ACTUAL\\PREDICTED          | Deletion (0) | Insertion (1) | TOTAL |\n",
        "|---------------------------|---------------------|-------------------------|-------|\n",
        "|    Deletion (0)|      1055             |        191               |   1546   |\n",
        "|  Insertion (1)      |      2510             |        3721              |   6231  |\n",
        "|        TOTAL              |      3565             |        3912             |   7777  |"
      ]
    },
    {
      "cell_type": "code",
      "metadata": {
        "id": "GKH3H5nyBPEm",
        "colab_type": "code",
        "colab": {}
      },
      "source": [
        "m2_rf_auc = roc_auc_score(y_test, y_pred_m2_rf)"
      ],
      "execution_count": null,
      "outputs": []
    },
    {
      "cell_type": "code",
      "metadata": {
        "id": "FZMWcWQ4QpcM",
        "colab_type": "code",
        "colab": {}
      },
      "source": [
        "M2_sp_rf=0.88\n",
        "M2_se_rf=0.60\n",
        "M2_acc_rf=0.61"
      ],
      "execution_count": null,
      "outputs": []
    },
    {
      "cell_type": "code",
      "metadata": {
        "id": "NRGw0jkkRF8O",
        "colab_type": "code",
        "colab": {}
      },
      "source": [
        "rf_m2 = {'Model':\"Balanced - Manual\", 'Classifier':\"Random Forest\", 'Specificity':M2_sp_rf, 'Sensitivity':M2_se_rf, 'Accuracy':M2_acc_rf, 'AUC':m2_rf_auc}\n",
        "results = results.append(rf_m2, ignore_index=True)"
      ],
      "execution_count": null,
      "outputs": []
    },
    {
      "cell_type": "markdown",
      "metadata": {
        "id": "bDA44BYwR0n8",
        "colab_type": "text"
      },
      "source": [
        "**Model 3 - SMOTE Balanced**"
      ]
    },
    {
      "cell_type": "code",
      "metadata": {
        "id": "cRJ9bbTyRPee",
        "colab_type": "code",
        "colab": {}
      },
      "source": [
        "rf = RandomForestClassifier().fit(X_train_resampled, y_train_resampled)"
      ],
      "execution_count": null,
      "outputs": []
    },
    {
      "cell_type": "code",
      "metadata": {
        "id": "QQzcEygIR_TX",
        "colab_type": "code",
        "colab": {
          "base_uri": "https://localhost:8080/",
          "height": 212
        },
        "outputId": "ceeb6254-9cf5-4407-cb6e-9a503c89e422"
      },
      "source": [
        "y_pred_m3_rf = rf.predict(X_test)\n",
        "print(confusion_matrix(y_test,y_pred_m3_rf))\n",
        "print(classification_report(y_test,y_pred_m3_rf))"
      ],
      "execution_count": null,
      "outputs": [
        {
          "output_type": "stream",
          "text": [
            "[[ 765  781]\n",
            " [ 728 5503]]\n",
            "              precision    recall  f1-score   support\n",
            "\n",
            "         0.0       0.51      0.49      0.50      1546\n",
            "         1.0       0.88      0.88      0.88      6231\n",
            "\n",
            "    accuracy                           0.81      7777\n",
            "   macro avg       0.69      0.69      0.69      7777\n",
            "weighted avg       0.80      0.81      0.80      7777\n",
            "\n"
          ],
          "name": "stdout"
        }
      ]
    },
    {
      "cell_type": "markdown",
      "metadata": {
        "id": "evoKopPXSFdA",
        "colab_type": "text"
      },
      "source": [
        "| ACTUAL\\PREDICTED          | Deletion (0) | Insertion (1) | TOTAL |\n",
        "|---------------------------|---------------------|-------------------------|-------|\n",
        "|    Deletion (0)|      774             |        772               |   1546   |\n",
        "|  Insertion (1)      |      724             |        5507              |   6231  |\n",
        "|        TOTAL              |      1498             |        6279             |   7777  |"
      ]
    },
    {
      "cell_type": "code",
      "metadata": {
        "id": "r6qislLQBitx",
        "colab_type": "code",
        "colab": {}
      },
      "source": [
        "m3_rf_auc = roc_auc_score(y_test, y_pred_m3_rf)"
      ],
      "execution_count": null,
      "outputs": []
    },
    {
      "cell_type": "code",
      "metadata": {
        "id": "5sOWna9oSBP9",
        "colab_type": "code",
        "colab": {}
      },
      "source": [
        "M3_sp_rf=0.88\n",
        "M3_se_rf=0.88\n",
        "M3_acc_rf=0.81"
      ],
      "execution_count": null,
      "outputs": []
    },
    {
      "cell_type": "code",
      "metadata": {
        "id": "ccA_2HgBSKjp",
        "colab_type": "code",
        "colab": {}
      },
      "source": [
        "rf_m3 = {'Model':\"Balanced - SMOTE\", 'Classifier':\"Random Forest\", 'Specificity':M3_sp_rf, 'Sensitivity':M3_se_rf, 'Accuracy':M3_acc_rf, 'AUC':m3_rf_auc}\n",
        "results = results.append(rf_m3, ignore_index=True)"
      ],
      "execution_count": null,
      "outputs": []
    },
    {
      "cell_type": "markdown",
      "metadata": {
        "id": "9w92meFjS4d7",
        "colab_type": "text"
      },
      "source": [
        "**Model 4 - Imbalanced towards Deletion**"
      ]
    },
    {
      "cell_type": "code",
      "metadata": {
        "id": "YsEd2Rn0SWh9",
        "colab_type": "code",
        "colab": {}
      },
      "source": [
        "rf = RandomForestClassifier().fit(X_train_imbal, y_train_imbal)"
      ],
      "execution_count": null,
      "outputs": []
    },
    {
      "cell_type": "code",
      "metadata": {
        "id": "MI-E12NLTCe3",
        "colab_type": "code",
        "colab": {
          "base_uri": "https://localhost:8080/",
          "height": 212
        },
        "outputId": "fce9670b-60e1-4573-da6e-b83ff5125e78"
      },
      "source": [
        "y_pred_m4_rf = rf.predict(X_test)\n",
        "print(confusion_matrix(y_test,y_pred_m4_rf))\n",
        "print(classification_report(y_test,y_pred_m4_rf))"
      ],
      "execution_count": null,
      "outputs": [
        {
          "output_type": "stream",
          "text": [
            "[[1328  218]\n",
            " [4536 1695]]\n",
            "              precision    recall  f1-score   support\n",
            "\n",
            "         0.0       0.23      0.86      0.36      1546\n",
            "         1.0       0.89      0.27      0.42      6231\n",
            "\n",
            "    accuracy                           0.39      7777\n",
            "   macro avg       0.56      0.57      0.39      7777\n",
            "weighted avg       0.75      0.39      0.40      7777\n",
            "\n"
          ],
          "name": "stdout"
        }
      ]
    },
    {
      "cell_type": "markdown",
      "metadata": {
        "id": "hhrRb2XkTHTo",
        "colab_type": "text"
      },
      "source": [
        "| ACTUAL\\PREDICTED          | Deletion (0) | Insertion (1) | TOTAL |\n",
        "|---------------------------|---------------------|-------------------------|-------|\n",
        "|    Deletion (0)|      1321             |        225               |   1546   |\n",
        "|  Insertion (1)      |      4554             |        1677              |   6231  |\n",
        "|        TOTAL              |      5875             |        1902             |   7777  |"
      ]
    },
    {
      "cell_type": "code",
      "metadata": {
        "id": "FAy7kSBsB03C",
        "colab_type": "code",
        "colab": {
          "base_uri": "https://localhost:8080/",
          "height": 34
        },
        "outputId": "23914d84-1947-4221-8a46-25ae41624f03"
      },
      "source": [
        "m4_rf_auc = roc_auc_score(y_test, y_pred_m4_rf)\n",
        "m4_rf_auc"
      ],
      "execution_count": null,
      "outputs": [
        {
          "output_type": "execute_result",
          "data": {
            "text/plain": [
              "0.565508953168473"
            ]
          },
          "metadata": {
            "tags": []
          },
          "execution_count": 137
        }
      ]
    },
    {
      "cell_type": "code",
      "metadata": {
        "id": "oK9ahhHnTE2b",
        "colab_type": "code",
        "colab": {}
      },
      "source": [
        "M4_sp_rf=0.88\n",
        "M4_se_rf=0.27\n",
        "M4_acc_rf=0.39"
      ],
      "execution_count": null,
      "outputs": []
    },
    {
      "cell_type": "code",
      "metadata": {
        "id": "vTsShlSDTPB_",
        "colab_type": "code",
        "colab": {}
      },
      "source": [
        "rf_m4 = {'Model':\"Imbalanced - Deletion\", 'Classifier':\"Random Forest\", 'Specificity':M4_sp_rf, 'Sensitivity':M4_se_rf, 'Accuracy':M4_acc_rf, 'AUC':m4_rf_auc}\n",
        "results = results.append(rf_m4, ignore_index=True)"
      ],
      "execution_count": null,
      "outputs": []
    },
    {
      "cell_type": "markdown",
      "metadata": {
        "id": "AfebJpC9Z0W8",
        "colab_type": "text"
      },
      "source": [
        "# **LightGBM**"
      ]
    },
    {
      "cell_type": "markdown",
      "metadata": {
        "id": "I3L44TcxZ9Pi",
        "colab_type": "text"
      },
      "source": [
        "**Model 1 - Imbalanced towards Insertion**"
      ]
    },
    {
      "cell_type": "code",
      "metadata": {
        "id": "aK1CNNKgTaFn",
        "colab_type": "code",
        "colab": {}
      },
      "source": [
        "model = lgb.LGBMClassifier().fit(X_train, y_train)"
      ],
      "execution_count": null,
      "outputs": []
    },
    {
      "cell_type": "code",
      "metadata": {
        "id": "JJ89rRR0aTIw",
        "colab_type": "code",
        "colab": {
          "base_uri": "https://localhost:8080/",
          "height": 212
        },
        "outputId": "2e1c00a1-9d7e-43ac-e5e6-a555074ce620"
      },
      "source": [
        "y_pred_m1_lgb = model.predict(X_test) \n",
        "print(confusion_matrix(y_test,y_pred_m1_lgb))\n",
        "print(classification_report(y_test,y_pred_m1_lgb))"
      ],
      "execution_count": null,
      "outputs": [
        {
          "output_type": "stream",
          "text": [
            "[[  34 1512]\n",
            " [  18 6213]]\n",
            "              precision    recall  f1-score   support\n",
            "\n",
            "         0.0       0.65      0.02      0.04      1546\n",
            "         1.0       0.80      1.00      0.89      6231\n",
            "\n",
            "    accuracy                           0.80      7777\n",
            "   macro avg       0.73      0.51      0.47      7777\n",
            "weighted avg       0.77      0.80      0.72      7777\n",
            "\n"
          ],
          "name": "stdout"
        }
      ]
    },
    {
      "cell_type": "markdown",
      "metadata": {
        "id": "xjlXzHyYamQw",
        "colab_type": "text"
      },
      "source": [
        "| ACTUAL\\PREDICTED          | Deletion (0) | Insertion (1) | TOTAL |\n",
        "|---------------------------|---------------------|-------------------------|-------|\n",
        "|    Deletion (0)|      34             |        1512               |   1546   |\n",
        "|  Insertion (1)      |      18             |        6213              |   6231  |\n",
        "|        TOTAL              |      52             |        7725             |   7777  |"
      ]
    },
    {
      "cell_type": "code",
      "metadata": {
        "id": "iLFd24ERCXmE",
        "colab_type": "code",
        "colab": {}
      },
      "source": [
        "m1_lgb_auc = roc_auc_score(y_test, y_pred_m1_lgb)"
      ],
      "execution_count": null,
      "outputs": []
    },
    {
      "cell_type": "code",
      "metadata": {
        "id": "ioRfxj70aVws",
        "colab_type": "code",
        "colab": {}
      },
      "source": [
        "M1_sp_lgb=0.80\n",
        "M1_se_lgb=1.00\n",
        "M1_acc_lgb=0.80"
      ],
      "execution_count": null,
      "outputs": []
    },
    {
      "cell_type": "code",
      "metadata": {
        "id": "YHF2ZJ3obCN-",
        "colab_type": "code",
        "colab": {}
      },
      "source": [
        "lgb_m1 = {'Model':\"Imbalanced - Insertion\", 'Classifier':\"Light GBM\", 'Specificity':M1_sp_lgb, 'Sensitivity':M1_se_lgb, 'Accuracy':M1_acc_lgb, 'AUC':m1_lgb_auc}\n",
        "results = results.append(lgb_m1, ignore_index=True)"
      ],
      "execution_count": null,
      "outputs": []
    },
    {
      "cell_type": "markdown",
      "metadata": {
        "id": "BNx9A_rcbcI4",
        "colab_type": "text"
      },
      "source": [
        "**Model 2 - Manually Balanced**"
      ]
    },
    {
      "cell_type": "code",
      "metadata": {
        "id": "JzGawDuRbTXb",
        "colab_type": "code",
        "colab": {}
      },
      "source": [
        "model = lgb.LGBMClassifier().fit(X_train_bal, y_train_bal)"
      ],
      "execution_count": null,
      "outputs": []
    },
    {
      "cell_type": "code",
      "metadata": {
        "id": "25RMCWK1bpwH",
        "colab_type": "code",
        "colab": {
          "base_uri": "https://localhost:8080/",
          "height": 212
        },
        "outputId": "eef1d067-4e4a-4a96-f43e-b1a0c52ee3e7"
      },
      "source": [
        "y_pred_m2_lgb = model.predict(X_test) \n",
        "print(confusion_matrix(y_test,y_pred_m2_lgb))\n",
        "print(classification_report(y_test,y_pred_m2_lgb))"
      ],
      "execution_count": null,
      "outputs": [
        {
          "output_type": "stream",
          "text": [
            "[[1015  531]\n",
            " [2933 3298]]\n",
            "              precision    recall  f1-score   support\n",
            "\n",
            "         0.0       0.26      0.66      0.37      1546\n",
            "         1.0       0.86      0.53      0.66      6231\n",
            "\n",
            "    accuracy                           0.55      7777\n",
            "   macro avg       0.56      0.59      0.51      7777\n",
            "weighted avg       0.74      0.55      0.60      7777\n",
            "\n"
          ],
          "name": "stdout"
        }
      ]
    },
    {
      "cell_type": "markdown",
      "metadata": {
        "id": "aJs5Qgmgbypz",
        "colab_type": "text"
      },
      "source": [
        "| ACTUAL\\PREDICTED          | Deletion (0) | Insertion (1) | TOTAL |\n",
        "|---------------------------|---------------------|-------------------------|-------|\n",
        "|    Deletion (0)|      1015             |        531               |   1546   |\n",
        "|  Insertion (1)      |      2933             |        3298              |   6231  |\n",
        "|        TOTAL              |      3948             |        3829             |   7777  |"
      ]
    },
    {
      "cell_type": "code",
      "metadata": {
        "id": "WAzsYmseCtAE",
        "colab_type": "code",
        "colab": {}
      },
      "source": [
        "m2_lgb_auc = roc_auc_score(y_test, y_pred_m2_lgb)"
      ],
      "execution_count": null,
      "outputs": []
    },
    {
      "cell_type": "code",
      "metadata": {
        "id": "5tpjnVl8bvR-",
        "colab_type": "code",
        "colab": {}
      },
      "source": [
        "M2_sp_lgb=0.86\n",
        "M2_se_lgb=0.53\n",
        "M2_acc_lgb=0.55"
      ],
      "execution_count": null,
      "outputs": []
    },
    {
      "cell_type": "code",
      "metadata": {
        "id": "hHRfsM7Cb4RS",
        "colab_type": "code",
        "colab": {}
      },
      "source": [
        "lgb_m2 = {'Model':\"Balanced - Manual\", 'Classifier':\"Light GBM\", 'Specificity':M2_sp_lgb, 'Sensitivity':M2_se_lgb, 'Accuracy':M2_acc_lgb, 'AUC':m2_lgb_auc}\n",
        "results = results.append(lgb_m2, ignore_index=True)"
      ],
      "execution_count": null,
      "outputs": []
    },
    {
      "cell_type": "markdown",
      "metadata": {
        "id": "mgmy3E63cF8C",
        "colab_type": "text"
      },
      "source": [
        "**Model 3 - SMOTE Balanced**"
      ]
    },
    {
      "cell_type": "code",
      "metadata": {
        "id": "g06U-ZhmcAY3",
        "colab_type": "code",
        "colab": {}
      },
      "source": [
        "model = lgb.LGBMClassifier().fit(X_train_resampled, y_train_resampled)"
      ],
      "execution_count": null,
      "outputs": []
    },
    {
      "cell_type": "code",
      "metadata": {
        "id": "8C5qWI2QcPKn",
        "colab_type": "code",
        "colab": {
          "base_uri": "https://localhost:8080/",
          "height": 212
        },
        "outputId": "7e05e3cf-b396-48cc-be3e-c0ad492fe4d4"
      },
      "source": [
        "y_pred_m3_lgb = model.predict(X_test) \n",
        "print(confusion_matrix(y_test,y_pred_m3_lgb))\n",
        "print(classification_report(y_test,y_pred_m3_lgb))"
      ],
      "execution_count": null,
      "outputs": [
        {
          "output_type": "stream",
          "text": [
            "[[ 181 1365]\n",
            " [ 302 5929]]\n",
            "              precision    recall  f1-score   support\n",
            "\n",
            "         0.0       0.37      0.12      0.18      1546\n",
            "         1.0       0.81      0.95      0.88      6231\n",
            "\n",
            "    accuracy                           0.79      7777\n",
            "   macro avg       0.59      0.53      0.53      7777\n",
            "weighted avg       0.73      0.79      0.74      7777\n",
            "\n"
          ],
          "name": "stdout"
        }
      ]
    },
    {
      "cell_type": "markdown",
      "metadata": {
        "id": "H15zwqZ5cak_",
        "colab_type": "text"
      },
      "source": [
        "| ACTUAL\\PREDICTED          | Deletion (0) | Insertion (1) | TOTAL |\n",
        "|---------------------------|---------------------|-------------------------|-------|\n",
        "|    Deletion (0)|      181             |        1365               |   1546   |\n",
        "|  Insertion (1)      |      302             |        5929              |   6231  |\n",
        "|        TOTAL              |      483             |        7294             |   7777  |"
      ]
    },
    {
      "cell_type": "code",
      "metadata": {
        "id": "jVqdpvG2DJZR",
        "colab_type": "code",
        "colab": {}
      },
      "source": [
        "m3_lgb_auc = roc_auc_score(y_test, y_pred_m3_lgb)"
      ],
      "execution_count": null,
      "outputs": []
    },
    {
      "cell_type": "code",
      "metadata": {
        "id": "PkJAOGjlcRbn",
        "colab_type": "code",
        "colab": {}
      },
      "source": [
        "M3_sp_lgb=0.81\n",
        "M3_se_lgb=0.95\n",
        "M3_acc_lgb=0.79"
      ],
      "execution_count": null,
      "outputs": []
    },
    {
      "cell_type": "code",
      "metadata": {
        "id": "bO_-TV03ckxl",
        "colab_type": "code",
        "colab": {}
      },
      "source": [
        "lgb_m3 = {'Model':\"Balanced - SMOTE\", 'Classifier':\"Light GBM\", 'Specificity':M3_sp_lgb, 'Sensitivity':M3_se_lgb, 'Accuracy':M3_acc_lgb, 'AUC':m3_lgb_auc}\n",
        "results = results.append(lgb_m3, ignore_index=True)"
      ],
      "execution_count": null,
      "outputs": []
    },
    {
      "cell_type": "markdown",
      "metadata": {
        "id": "5AnijRPqdnHB",
        "colab_type": "text"
      },
      "source": [
        "**Model 4 - Imbalanced towards Deletion**"
      ]
    },
    {
      "cell_type": "code",
      "metadata": {
        "id": "yeDyppYHdFNv",
        "colab_type": "code",
        "colab": {}
      },
      "source": [
        "model = lgb.LGBMClassifier().fit(X_train_imbal, y_train_imbal)"
      ],
      "execution_count": null,
      "outputs": []
    },
    {
      "cell_type": "code",
      "metadata": {
        "id": "PIRruBIJdzz2",
        "colab_type": "code",
        "colab": {
          "base_uri": "https://localhost:8080/",
          "height": 212
        },
        "outputId": "247d5845-3ab5-4bc1-8f89-58eb9a5a920b"
      },
      "source": [
        "y_pred_m4_lgb = model.predict(X_test) \n",
        "print(confusion_matrix(y_test,y_pred_m4_lgb))\n",
        "print(classification_report(y_test,y_pred_m4_lgb))"
      ],
      "execution_count": null,
      "outputs": [
        {
          "output_type": "stream",
          "text": [
            "[[1383  163]\n",
            " [5002 1229]]\n",
            "              precision    recall  f1-score   support\n",
            "\n",
            "         0.0       0.22      0.89      0.35      1546\n",
            "         1.0       0.88      0.20      0.32      6231\n",
            "\n",
            "    accuracy                           0.34      7777\n",
            "   macro avg       0.55      0.55      0.34      7777\n",
            "weighted avg       0.75      0.34      0.33      7777\n",
            "\n"
          ],
          "name": "stdout"
        }
      ]
    },
    {
      "cell_type": "markdown",
      "metadata": {
        "id": "Yyw402vid5N9",
        "colab_type": "text"
      },
      "source": [
        "| ACTUAL\\PREDICTED          | Deletion (0) | Insertion (1) | TOTAL |\n",
        "|---------------------------|---------------------|-------------------------|-------|\n",
        "|    Deletion (0)|      1383             |        163               |   1546   |\n",
        "|  Insertion (1)      |      5002             |        1229              |   6231  |\n",
        "|        TOTAL              |      6385             |        1392             |   7777  |"
      ]
    },
    {
      "cell_type": "code",
      "metadata": {
        "id": "MEqcBnMuDbBw",
        "colab_type": "code",
        "colab": {}
      },
      "source": [
        "m4_lgb_auc = roc_auc_score(y_test, y_pred_m4_lgb)"
      ],
      "execution_count": null,
      "outputs": []
    },
    {
      "cell_type": "code",
      "metadata": {
        "id": "eod62Ubfd2P1",
        "colab_type": "code",
        "colab": {}
      },
      "source": [
        "M4_sp_lgb=0.88\n",
        "M4_se_lgb=0.20\n",
        "M4_acc_lgb=0.34"
      ],
      "execution_count": null,
      "outputs": []
    },
    {
      "cell_type": "code",
      "metadata": {
        "id": "LH_Yv_RZd-hc",
        "colab_type": "code",
        "colab": {}
      },
      "source": [
        "lgb_m4 = {'Model':\"Imbalanced - Deletion\", 'Classifier':\"Light GBM\", 'Specificity':M4_sp_lgb, 'Sensitivity':M4_se_lgb, 'Accuracy':M4_acc_lgb, 'AUC': m4_lgb_auc}\n",
        "results = results.append(lgb_m4, ignore_index=True)"
      ],
      "execution_count": null,
      "outputs": []
    },
    {
      "cell_type": "code",
      "metadata": {
        "id": "uksDUfdtwnmF",
        "colab_type": "code",
        "colab": {}
      },
      "source": [
        "#results.drop(results.tail(4).index,inplace=True)"
      ],
      "execution_count": null,
      "outputs": []
    },
    {
      "cell_type": "code",
      "metadata": {
        "id": "OQEYMYFEJYe0",
        "colab_type": "code",
        "colab": {}
      },
      "source": [
        "outfile = 'result3_off.csv'\n",
        "results.to_csv(outfile)"
      ],
      "execution_count": null,
      "outputs": []
    },
    {
      "cell_type": "code",
      "metadata": {
        "id": "0KJGjYb-dOv8",
        "colab_type": "code",
        "colab": {
          "base_uri": "https://localhost:8080/",
          "height": 887
        },
        "outputId": "8eb16c01-c3ba-423c-b7ff-12374ebe3843"
      },
      "source": [
        "results.sort_values(by='AUC', ascending=False)"
      ],
      "execution_count": null,
      "outputs": [
        {
          "output_type": "execute_result",
          "data": {
            "text/html": [
              "<div>\n",
              "<style scoped>\n",
              "    .dataframe tbody tr th:only-of-type {\n",
              "        vertical-align: middle;\n",
              "    }\n",
              "\n",
              "    .dataframe tbody tr th {\n",
              "        vertical-align: top;\n",
              "    }\n",
              "\n",
              "    .dataframe thead th {\n",
              "        text-align: right;\n",
              "    }\n",
              "</style>\n",
              "<table border=\"1\" class=\"dataframe\">\n",
              "  <thead>\n",
              "    <tr style=\"text-align: right;\">\n",
              "      <th></th>\n",
              "      <th>Classifier</th>\n",
              "      <th>Model</th>\n",
              "      <th>Specificity</th>\n",
              "      <th>Sensitivity</th>\n",
              "      <th>Accuracy</th>\n",
              "      <th>AUC</th>\n",
              "    </tr>\n",
              "  </thead>\n",
              "  <tbody>\n",
              "    <tr>\n",
              "      <th>20</th>\n",
              "      <td>Random Forest</td>\n",
              "      <td>Imbalanced - Insertion</td>\n",
              "      <td>0.87</td>\n",
              "      <td>0.95</td>\n",
              "      <td>0.85</td>\n",
              "      <td>0.703519</td>\n",
              "    </tr>\n",
              "    <tr>\n",
              "      <th>22</th>\n",
              "      <td>Random Forest</td>\n",
              "      <td>Balanced - SMOTE</td>\n",
              "      <td>0.88</td>\n",
              "      <td>0.88</td>\n",
              "      <td>0.81</td>\n",
              "      <td>0.690525</td>\n",
              "    </tr>\n",
              "    <tr>\n",
              "      <th>21</th>\n",
              "      <td>Random Forest</td>\n",
              "      <td>Balanced - Manual</td>\n",
              "      <td>0.88</td>\n",
              "      <td>0.60</td>\n",
              "      <td>0.61</td>\n",
              "      <td>0.643018</td>\n",
              "    </tr>\n",
              "    <tr>\n",
              "      <th>25</th>\n",
              "      <td>Light GBM</td>\n",
              "      <td>Balanced - Manual</td>\n",
              "      <td>0.86</td>\n",
              "      <td>0.53</td>\n",
              "      <td>0.55</td>\n",
              "      <td>0.592911</td>\n",
              "    </tr>\n",
              "    <tr>\n",
              "      <th>23</th>\n",
              "      <td>Random Forest</td>\n",
              "      <td>Imbalanced - Deletion</td>\n",
              "      <td>0.88</td>\n",
              "      <td>0.27</td>\n",
              "      <td>0.39</td>\n",
              "      <td>0.562465</td>\n",
              "    </tr>\n",
              "    <tr>\n",
              "      <th>2</th>\n",
              "      <td>SVM - Gaussian</td>\n",
              "      <td>Balanced - SMOTE</td>\n",
              "      <td>0.83</td>\n",
              "      <td>0.62</td>\n",
              "      <td>0.59</td>\n",
              "      <td>0.553278</td>\n",
              "    </tr>\n",
              "    <tr>\n",
              "      <th>1</th>\n",
              "      <td>SVM - Gaussian</td>\n",
              "      <td>Balanced - Manual</td>\n",
              "      <td>0.83</td>\n",
              "      <td>0.54</td>\n",
              "      <td>0.54</td>\n",
              "      <td>0.548557</td>\n",
              "    </tr>\n",
              "    <tr>\n",
              "      <th>27</th>\n",
              "      <td>Light GBM</td>\n",
              "      <td>Imbalanced - Deletion</td>\n",
              "      <td>0.88</td>\n",
              "      <td>0.20</td>\n",
              "      <td>0.34</td>\n",
              "      <td>0.545903</td>\n",
              "    </tr>\n",
              "    <tr>\n",
              "      <th>5</th>\n",
              "      <td>SVM - Polynomial</td>\n",
              "      <td>Balanced - Manual</td>\n",
              "      <td>0.86</td>\n",
              "      <td>0.23</td>\n",
              "      <td>0.35</td>\n",
              "      <td>0.541027</td>\n",
              "    </tr>\n",
              "    <tr>\n",
              "      <th>26</th>\n",
              "      <td>Light GBM</td>\n",
              "      <td>Balanced - SMOTE</td>\n",
              "      <td>0.81</td>\n",
              "      <td>0.95</td>\n",
              "      <td>0.79</td>\n",
              "      <td>0.534304</td>\n",
              "    </tr>\n",
              "    <tr>\n",
              "      <th>6</th>\n",
              "      <td>SVM - Polynomial</td>\n",
              "      <td>Balanced - SMOTE</td>\n",
              "      <td>0.85</td>\n",
              "      <td>0.23</td>\n",
              "      <td>0.35</td>\n",
              "      <td>0.534070</td>\n",
              "    </tr>\n",
              "    <tr>\n",
              "      <th>14</th>\n",
              "      <td>Naive Bayes - Gaussian</td>\n",
              "      <td>Balanced - SMOTE</td>\n",
              "      <td>0.83</td>\n",
              "      <td>0.42</td>\n",
              "      <td>0.47</td>\n",
              "      <td>0.531942</td>\n",
              "    </tr>\n",
              "    <tr>\n",
              "      <th>17</th>\n",
              "      <td>Naive Bayes - Bernoulli</td>\n",
              "      <td>Balanced - Manual</td>\n",
              "      <td>0.85</td>\n",
              "      <td>0.20</td>\n",
              "      <td>0.33</td>\n",
              "      <td>0.526977</td>\n",
              "    </tr>\n",
              "    <tr>\n",
              "      <th>15</th>\n",
              "      <td>Naive Bayes - Gaussian</td>\n",
              "      <td>Imbalanced - Deletion</td>\n",
              "      <td>0.88</td>\n",
              "      <td>0.11</td>\n",
              "      <td>0.28</td>\n",
              "      <td>0.525845</td>\n",
              "    </tr>\n",
              "    <tr>\n",
              "      <th>18</th>\n",
              "      <td>Naive Bayes - Bernoulli</td>\n",
              "      <td>Balanced - SMOTE</td>\n",
              "      <td>0.82</td>\n",
              "      <td>0.47</td>\n",
              "      <td>0.49</td>\n",
              "      <td>0.525376</td>\n",
              "    </tr>\n",
              "    <tr>\n",
              "      <th>13</th>\n",
              "      <td>Naive Bayes - Gaussian</td>\n",
              "      <td>Balanced - Manual</td>\n",
              "      <td>0.82</td>\n",
              "      <td>0.40</td>\n",
              "      <td>0.45</td>\n",
              "      <td>0.523607</td>\n",
              "    </tr>\n",
              "    <tr>\n",
              "      <th>3</th>\n",
              "      <td>SVM - Gaussian</td>\n",
              "      <td>Imbalanced - Deletion</td>\n",
              "      <td>0.87</td>\n",
              "      <td>0.11</td>\n",
              "      <td>0.27</td>\n",
              "      <td>0.522229</td>\n",
              "    </tr>\n",
              "    <tr>\n",
              "      <th>24</th>\n",
              "      <td>Light GBM</td>\n",
              "      <td>Imbalanced - Insertion</td>\n",
              "      <td>0.80</td>\n",
              "      <td>1.00</td>\n",
              "      <td>0.80</td>\n",
              "      <td>0.509552</td>\n",
              "    </tr>\n",
              "    <tr>\n",
              "      <th>0</th>\n",
              "      <td>SVM - Gaussian</td>\n",
              "      <td>Imbalanced - Insertion</td>\n",
              "      <td>0.80</td>\n",
              "      <td>1.00</td>\n",
              "      <td>0.80</td>\n",
              "      <td>0.503645</td>\n",
              "    </tr>\n",
              "    <tr>\n",
              "      <th>12</th>\n",
              "      <td>Naive Bayes - Gaussian</td>\n",
              "      <td>Imbalanced - Insertion</td>\n",
              "      <td>0.80</td>\n",
              "      <td>1.00</td>\n",
              "      <td>0.80</td>\n",
              "      <td>0.500000</td>\n",
              "    </tr>\n",
              "    <tr>\n",
              "      <th>16</th>\n",
              "      <td>Naive Bayes - Bernoulli</td>\n",
              "      <td>Imbalanced - Insertion</td>\n",
              "      <td>0.80</td>\n",
              "      <td>1.00</td>\n",
              "      <td>0.80</td>\n",
              "      <td>0.500000</td>\n",
              "    </tr>\n",
              "    <tr>\n",
              "      <th>19</th>\n",
              "      <td>Naive Bayes - Bernoulli</td>\n",
              "      <td>Imbalanced - Deletion</td>\n",
              "      <td>0.00</td>\n",
              "      <td>0.00</td>\n",
              "      <td>0.20</td>\n",
              "      <td>0.500000</td>\n",
              "    </tr>\n",
              "    <tr>\n",
              "      <th>7</th>\n",
              "      <td>SVM - Polynomial</td>\n",
              "      <td>Imbalanced - Deletion</td>\n",
              "      <td>0.00</td>\n",
              "      <td>0.00</td>\n",
              "      <td>0.20</td>\n",
              "      <td>0.500000</td>\n",
              "    </tr>\n",
              "    <tr>\n",
              "      <th>4</th>\n",
              "      <td>SVM - Polynomial</td>\n",
              "      <td>Imbalanced - Insertion</td>\n",
              "      <td>0.80</td>\n",
              "      <td>1.00</td>\n",
              "      <td>0.80</td>\n",
              "      <td>0.500000</td>\n",
              "    </tr>\n",
              "    <tr>\n",
              "      <th>8</th>\n",
              "      <td>SVM - Sigmoid</td>\n",
              "      <td>Imbalanced - Insertion</td>\n",
              "      <td>0.80</td>\n",
              "      <td>0.80</td>\n",
              "      <td>0.68</td>\n",
              "      <td>0.497284</td>\n",
              "    </tr>\n",
              "    <tr>\n",
              "      <th>11</th>\n",
              "      <td>SVM - Sigmoid</td>\n",
              "      <td>Imbalanced - Deletion</td>\n",
              "      <td>0.80</td>\n",
              "      <td>0.32</td>\n",
              "      <td>0.39</td>\n",
              "      <td>0.493868</td>\n",
              "    </tr>\n",
              "    <tr>\n",
              "      <th>10</th>\n",
              "      <td>SVM - Sigmoid</td>\n",
              "      <td>Balanced - SMOTE</td>\n",
              "      <td>0.80</td>\n",
              "      <td>0.50</td>\n",
              "      <td>0.50</td>\n",
              "      <td>0.491884</td>\n",
              "    </tr>\n",
              "    <tr>\n",
              "      <th>9</th>\n",
              "      <td>SVM - Sigmoid</td>\n",
              "      <td>Balanced - Manual</td>\n",
              "      <td>0.80</td>\n",
              "      <td>0.50</td>\n",
              "      <td>0.50</td>\n",
              "      <td>0.490980</td>\n",
              "    </tr>\n",
              "  </tbody>\n",
              "</table>\n",
              "</div>"
            ],
            "text/plain": [
              "                 Classifier                   Model  ...  Accuracy       AUC\n",
              "20            Random Forest  Imbalanced - Insertion  ...      0.85  0.703519\n",
              "22            Random Forest        Balanced - SMOTE  ...      0.81  0.690525\n",
              "21            Random Forest       Balanced - Manual  ...      0.61  0.643018\n",
              "25                Light GBM       Balanced - Manual  ...      0.55  0.592911\n",
              "23            Random Forest   Imbalanced - Deletion  ...      0.39  0.562465\n",
              "2            SVM - Gaussian        Balanced - SMOTE  ...      0.59  0.553278\n",
              "1            SVM - Gaussian       Balanced - Manual  ...      0.54  0.548557\n",
              "27                Light GBM   Imbalanced - Deletion  ...      0.34  0.545903\n",
              "5          SVM - Polynomial       Balanced - Manual  ...      0.35  0.541027\n",
              "26                Light GBM        Balanced - SMOTE  ...      0.79  0.534304\n",
              "6          SVM - Polynomial        Balanced - SMOTE  ...      0.35  0.534070\n",
              "14   Naive Bayes - Gaussian        Balanced - SMOTE  ...      0.47  0.531942\n",
              "17  Naive Bayes - Bernoulli       Balanced - Manual  ...      0.33  0.526977\n",
              "15   Naive Bayes - Gaussian   Imbalanced - Deletion  ...      0.28  0.525845\n",
              "18  Naive Bayes - Bernoulli        Balanced - SMOTE  ...      0.49  0.525376\n",
              "13   Naive Bayes - Gaussian       Balanced - Manual  ...      0.45  0.523607\n",
              "3            SVM - Gaussian   Imbalanced - Deletion  ...      0.27  0.522229\n",
              "24                Light GBM  Imbalanced - Insertion  ...      0.80  0.509552\n",
              "0            SVM - Gaussian  Imbalanced - Insertion  ...      0.80  0.503645\n",
              "12   Naive Bayes - Gaussian  Imbalanced - Insertion  ...      0.80  0.500000\n",
              "16  Naive Bayes - Bernoulli  Imbalanced - Insertion  ...      0.80  0.500000\n",
              "19  Naive Bayes - Bernoulli   Imbalanced - Deletion  ...      0.20  0.500000\n",
              "7          SVM - Polynomial   Imbalanced - Deletion  ...      0.20  0.500000\n",
              "4          SVM - Polynomial  Imbalanced - Insertion  ...      0.80  0.500000\n",
              "8             SVM - Sigmoid  Imbalanced - Insertion  ...      0.68  0.497284\n",
              "11            SVM - Sigmoid   Imbalanced - Deletion  ...      0.39  0.493868\n",
              "10            SVM - Sigmoid        Balanced - SMOTE  ...      0.50  0.491884\n",
              "9             SVM - Sigmoid       Balanced - Manual  ...      0.50  0.490980\n",
              "\n",
              "[28 rows x 6 columns]"
            ]
          },
          "metadata": {
            "tags": []
          },
          "execution_count": 167
        }
      ]
    },
    {
      "cell_type": "code",
      "metadata": {
        "id": "YZvnzXLKoyq4",
        "colab_type": "code",
        "colab": {
          "base_uri": "https://localhost:8080/",
          "height": 605
        },
        "outputId": "a77cd021-21ef-4f5c-b760-d0f223f39c69"
      },
      "source": [
        "# Top Classifiers\n",
        "\n",
        "# calculate roc curves\n",
        "ns_fpr, ns_tpr, _ = roc_curve(y_test, ns_probs)\n",
        "m1_rf_fpr, m1_rf_tpr, _ = roc_curve(y_test, y_pred_m1_rf)\n",
        "m2_lgb_fpr, m2_lgb_tpr, _ = roc_curve(y_test, y_pred_m2_lgb)\n",
        "m3_svm_gaussian_fpr, m3_svm_gaussian_tpr, _ = roc_curve(y_test, y_pred_m3_svm_gaussian)\n",
        "m2_svm_polynomial_fpr, m2_svm_polynomial_tpr, _ = roc_curve(y_test, y_pred_m2_svm_polynomial)\n",
        "m3_naive_gaussian_fpr, m3_naive_gaussian_tpr, _ = roc_curve(y_test, y_pred_m3_naive_gaussian)\n",
        "m2_naive_bernoulli_fpr, m2_naive_bernoulli_tpr, _ = roc_curve(y_test, y_pred_m2_naive_bernoulli)\n",
        "m4_svm_sigmoid_fpr, m4_svm_sigmoid_tpr, _ = roc_curve(y_test, y_pred_m4_svm_sigmoid)\n",
        "\n",
        "\n",
        "# plot the roc curve for the model\n",
        "pyplot.plot(ns_fpr, ns_tpr, linestyle='--', label='No Skill')\n",
        "pyplot.plot(m1_rf_fpr, m1_rf_tpr, marker='.', label='M1-Random Forest(AUC=0.703)')\n",
        "pyplot.plot(m2_lgb_fpr, m2_lgb_tpr, marker='.', label='M2-LightGBM(AUC=0.592)')\n",
        "pyplot.plot(m3_svm_gaussian_fpr, m3_svm_gaussian_tpr, marker='.', label='M3-SVM-Gaussian(AUC=0.553)')\n",
        "pyplot.plot(m2_svm_polynomial_fpr, m2_svm_polynomial_tpr, marker='.', label='M2-SVM-Polynomial(AUC=0.541)')\n",
        "pyplot.plot(m3_naive_gaussian_fpr, m3_naive_gaussian_tpr, marker='.', label='M3-Naive Bayes-Gaussian(AUC=0.531)')\n",
        "pyplot.plot(m2_naive_bernoulli_fpr, m2_naive_bernoulli_tpr, marker='.', label='M2-Naive Bayes-Bernoulli(AUC=0.526)')\n",
        "pyplot.plot(m4_svm_sigmoid_fpr, m4_svm_sigmoid_tpr, marker='.', label='M2-SVM-Sigmoid(AUC=0.497)')\n",
        "\n",
        "\n",
        "# axis labels\n",
        "pyplot.xlabel('False Positive Rate')\n",
        "pyplot.ylabel('True Positive Rate')\n",
        "# show the legend\n",
        "pyplot.legend()\n",
        "# show the plot\n",
        "pyplot.show()"
      ],
      "execution_count": null,
      "outputs": [
        {
          "output_type": "display_data",
          "data": {
            "image/png": "[encoded data removed]",
            "text/plain": [
              "<Figure size 720x720 with 1 Axes>"
            ]
          },
          "metadata": {
            "tags": [],
            "needs_background": "light"
          }
        }
      ]
    },
    {
      "cell_type": "code",
      "metadata": {
        "id": "Ur4TGyoPeW3m",
        "colab_type": "code",
        "colab": {
          "base_uri": "https://localhost:8080/",
          "height": 605
        },
        "outputId": "43b2c4c6-7f99-4532-f9bc-548287b198d7"
      },
      "source": [
        "# Top 5 AUC scores\n",
        "\n",
        "# calculate roc curves\n",
        "ns_fpr, ns_tpr, _ = roc_curve(y_test, ns_probs)\n",
        "m1_rf_fpr, m1_rf_tpr, _ = roc_curve(y_test, y_pred_m1_rf)\n",
        "m3_rf_fpr, m3_rf_tpr, _ = roc_curve(y_test, y_pred_m3_rf)\n",
        "m2_rf_fpr, m2_rf_tpr, _ = roc_curve(y_test, y_pred_m2_rf)\n",
        "m2_lgb_fpr, m2_lgb_tpr, _ = roc_curve(y_test, y_pred_m2_lgb)\n",
        "m4_rf_fpr, m4_rf_tpr, _ = roc_curve(y_test, y_pred_m4_rf)\n",
        "\n",
        "\n",
        "# plot the roc curve for the model\n",
        "pyplot.plot(ns_fpr, ns_tpr, linestyle='--', label='No Skill')\n",
        "pyplot.plot(m1_rf_fpr, m1_rf_tpr, marker='.', label='M1-Random Forest(AUC=0.703)')\n",
        "pyplot.plot(m3_rf_fpr, m3_rf_tpr, marker='.', label='M3-Random Forest(AUC=0.690)')\n",
        "pyplot.plot(m2_rf_fpr, m2_rf_tpr, marker='.', label='M2-Random Forest(AUC=0.643)')\n",
        "pyplot.plot(m2_lgb_fpr, m2_lgb_tpr, marker='.', label='M2-LightGBM(AUC=0.592)')\n",
        "pyplot.plot(m4_rf_fpr, m4_rf_tpr, marker='.', label='M4-Random Forest(AUC=0.562)')\n",
        "\n",
        "\n",
        "# axis labels\n",
        "pyplot.xlabel('False Positive Rate')\n",
        "pyplot.ylabel('True Positive Rate')\n",
        "# show the legend\n",
        "pyplot.legend()\n",
        "# show the plot\n",
        "pyplot.rcParams['figure.figsize'] = 10,10\n",
        "\n",
        "pyplot.show()"
      ],
      "execution_count": null,
      "outputs": [
        {
          "output_type": "display_data",
          "data": {
            "image/png": "[encoded data removed]",
            "text/plain": [
              "<Figure size 720x720 with 1 Axes>"
            ]
          },
          "metadata": {
            "tags": [],
            "needs_background": "light"
          }
        }
      ]
    }
  ]
}