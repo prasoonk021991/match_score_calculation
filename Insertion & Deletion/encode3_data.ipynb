{
  "nbformat": 4,
  "nbformat_minor": 0,
  "metadata": {
    "colab": {
      "name": "encode3_data.ipynb",
      "provenance": [],
      "collapsed_sections": []
    },
    "kernelspec": {
      "name": "python3",
      "display_name": "Python 3"
    }
  },
  "cells": [
    {
      "cell_type": "code",
      "metadata": {
        "id": "jYZO1aCWec_W",
        "colab_type": "code",
        "colab": {}
      },
      "source": [
        "import pandas as pd\n",
        "import numpy as np"
      ],
      "execution_count": null,
      "outputs": []
    },
    {
      "cell_type": "code",
      "metadata": {
        "id": "ZEQPo3VqfJ4m",
        "colab_type": "code",
        "colab": {}
      },
      "source": [
        "data = pd.read_csv(\"cleaned_off.csv\")"
      ],
      "execution_count": null,
      "outputs": []
    },
    {
      "cell_type": "code",
      "metadata": {
        "id": "Cg6F9n65fLc1",
        "colab_type": "code",
        "colab": {
          "base_uri": "https://localhost:8080/",
          "height": 234
        },
        "outputId": "606eed51-506a-4a49-8cad-9d8f0eedf92d"
      },
      "source": [
        "data.head()"
      ],
      "execution_count": null,
      "outputs": [
        {
          "output_type": "execute_result",
          "data": {
            "text/html": [
              "<div>\n",
              "<style scoped>\n",
              "    .dataframe tbody tr th:only-of-type {\n",
              "        vertical-align: middle;\n",
              "    }\n",
              "\n",
              "    .dataframe tbody tr th {\n",
              "        vertical-align: top;\n",
              "    }\n",
              "\n",
              "    .dataframe thead th {\n",
              "        text-align: right;\n",
              "    }\n",
              "</style>\n",
              "<table border=\"1\" class=\"dataframe\">\n",
              "  <thead>\n",
              "    <tr style=\"text-align: right;\">\n",
              "      <th></th>\n",
              "      <th>Unnamed: 0</th>\n",
              "      <th>ConstructBarcode</th>\n",
              "      <th>MutatedSequence</th>\n",
              "      <th>WTSequence</th>\n",
              "      <th>Annotation</th>\n",
              "      <th>TranscriptID</th>\n",
              "      <th>Protein Annotation</th>\n",
              "      <th>Day21-ETP</th>\n",
              "      <th>Category</th>\n",
              "    </tr>\n",
              "  </thead>\n",
              "  <tbody>\n",
              "    <tr>\n",
              "      <th>0</th>\n",
              "      <td>0</td>\n",
              "      <td>AAAAATATCAGTGTGTATAG</td>\n",
              "      <td>AAAAATATCAGTGTGTATAG</td>\n",
              "      <td>AAAAGTATCAGTGTGTATAG</td>\n",
              "      <td>G:A,5</td>\n",
              "      <td>ENSMUST00000114840</td>\n",
              "      <td>76.54</td>\n",
              "      <td>0.758783</td>\n",
              "      <td>Mismatch</td>\n",
              "    </tr>\n",
              "    <tr>\n",
              "      <th>1</th>\n",
              "      <td>1</td>\n",
              "      <td>AAAGTATCACGTGTGTATAG</td>\n",
              "      <td>AAAAGTATCACGTGTGTATAG</td>\n",
              "      <td>AAAAGTATCAGTGTGTATAG</td>\n",
              "      <td>I:C,11</td>\n",
              "      <td>ENSMUST00000114840</td>\n",
              "      <td>76.54</td>\n",
              "      <td>0.490986</td>\n",
              "      <td>Insertion</td>\n",
              "    </tr>\n",
              "    <tr>\n",
              "      <th>2</th>\n",
              "      <td>2</td>\n",
              "      <td>GAAAAGTATAGTGTGTATAG</td>\n",
              "      <td>AAAAGTATAGTGTGTATAG</td>\n",
              "      <td>AAAAGTATCAGTGTGTATAG</td>\n",
              "      <td>D:C,9</td>\n",
              "      <td>ENSMUST00000114840</td>\n",
              "      <td>76.54</td>\n",
              "      <td>0.428038</td>\n",
              "      <td>Deletion</td>\n",
              "    </tr>\n",
              "    <tr>\n",
              "      <th>3</th>\n",
              "      <td>3</td>\n",
              "      <td>AAAAGTATCAGTGTGTATAC</td>\n",
              "      <td>AAAAGTATCAGTGTGTATAC</td>\n",
              "      <td>AAAAGTATCAGTGTGTATAG</td>\n",
              "      <td>G:C,20</td>\n",
              "      <td>ENSMUST00000114840</td>\n",
              "      <td>76.54</td>\n",
              "      <td>0.345700</td>\n",
              "      <td>Mismatch</td>\n",
              "    </tr>\n",
              "    <tr>\n",
              "      <th>4</th>\n",
              "      <td>4</td>\n",
              "      <td>AAAGTATCAAGTGTGTATAG</td>\n",
              "      <td>AAAAGTATCAAGTGTGTATAG</td>\n",
              "      <td>AAAAGTATCAGTGTGTATAG</td>\n",
              "      <td>I:A,10</td>\n",
              "      <td>ENSMUST00000114840</td>\n",
              "      <td>76.54</td>\n",
              "      <td>0.143454</td>\n",
              "      <td>Insertion</td>\n",
              "    </tr>\n",
              "  </tbody>\n",
              "</table>\n",
              "</div>"
            ],
            "text/plain": [
              "   Unnamed: 0      ConstructBarcode  ... Day21-ETP   Category\n",
              "0           0  AAAAATATCAGTGTGTATAG  ...  0.758783   Mismatch\n",
              "1           1  AAAGTATCACGTGTGTATAG  ...  0.490986  Insertion\n",
              "2           2  GAAAAGTATAGTGTGTATAG  ...  0.428038   Deletion\n",
              "3           3  AAAAGTATCAGTGTGTATAC  ...  0.345700   Mismatch\n",
              "4           4  AAAGTATCAAGTGTGTATAG  ...  0.143454  Insertion\n",
              "\n",
              "[5 rows x 9 columns]"
            ]
          },
          "metadata": {
            "tags": []
          },
          "execution_count": 3
        }
      ]
    },
    {
      "cell_type": "code",
      "metadata": {
        "id": "-ka_2m3ofNdj",
        "colab_type": "code",
        "colab": {}
      },
      "source": [
        "data = data.drop(['Unnamed: 0'], axis=1)"
      ],
      "execution_count": null,
      "outputs": []
    },
    {
      "cell_type": "code",
      "metadata": {
        "id": "CKpdPScPfPeE",
        "colab_type": "code",
        "colab": {
          "base_uri": "https://localhost:8080/",
          "height": 234
        },
        "outputId": "94ac3749-ddb4-48b2-e8d1-012e808a5311"
      },
      "source": [
        "data.head()"
      ],
      "execution_count": null,
      "outputs": [
        {
          "output_type": "execute_result",
          "data": {
            "text/html": [
              "<div>\n",
              "<style scoped>\n",
              "    .dataframe tbody tr th:only-of-type {\n",
              "        vertical-align: middle;\n",
              "    }\n",
              "\n",
              "    .dataframe tbody tr th {\n",
              "        vertical-align: top;\n",
              "    }\n",
              "\n",
              "    .dataframe thead th {\n",
              "        text-align: right;\n",
              "    }\n",
              "</style>\n",
              "<table border=\"1\" class=\"dataframe\">\n",
              "  <thead>\n",
              "    <tr style=\"text-align: right;\">\n",
              "      <th></th>\n",
              "      <th>ConstructBarcode</th>\n",
              "      <th>MutatedSequence</th>\n",
              "      <th>WTSequence</th>\n",
              "      <th>Annotation</th>\n",
              "      <th>TranscriptID</th>\n",
              "      <th>Protein Annotation</th>\n",
              "      <th>Day21-ETP</th>\n",
              "      <th>Category</th>\n",
              "    </tr>\n",
              "  </thead>\n",
              "  <tbody>\n",
              "    <tr>\n",
              "      <th>0</th>\n",
              "      <td>AAAAATATCAGTGTGTATAG</td>\n",
              "      <td>AAAAATATCAGTGTGTATAG</td>\n",
              "      <td>AAAAGTATCAGTGTGTATAG</td>\n",
              "      <td>G:A,5</td>\n",
              "      <td>ENSMUST00000114840</td>\n",
              "      <td>76.54</td>\n",
              "      <td>0.758783</td>\n",
              "      <td>Mismatch</td>\n",
              "    </tr>\n",
              "    <tr>\n",
              "      <th>1</th>\n",
              "      <td>AAAGTATCACGTGTGTATAG</td>\n",
              "      <td>AAAAGTATCACGTGTGTATAG</td>\n",
              "      <td>AAAAGTATCAGTGTGTATAG</td>\n",
              "      <td>I:C,11</td>\n",
              "      <td>ENSMUST00000114840</td>\n",
              "      <td>76.54</td>\n",
              "      <td>0.490986</td>\n",
              "      <td>Insertion</td>\n",
              "    </tr>\n",
              "    <tr>\n",
              "      <th>2</th>\n",
              "      <td>GAAAAGTATAGTGTGTATAG</td>\n",
              "      <td>AAAAGTATAGTGTGTATAG</td>\n",
              "      <td>AAAAGTATCAGTGTGTATAG</td>\n",
              "      <td>D:C,9</td>\n",
              "      <td>ENSMUST00000114840</td>\n",
              "      <td>76.54</td>\n",
              "      <td>0.428038</td>\n",
              "      <td>Deletion</td>\n",
              "    </tr>\n",
              "    <tr>\n",
              "      <th>3</th>\n",
              "      <td>AAAAGTATCAGTGTGTATAC</td>\n",
              "      <td>AAAAGTATCAGTGTGTATAC</td>\n",
              "      <td>AAAAGTATCAGTGTGTATAG</td>\n",
              "      <td>G:C,20</td>\n",
              "      <td>ENSMUST00000114840</td>\n",
              "      <td>76.54</td>\n",
              "      <td>0.345700</td>\n",
              "      <td>Mismatch</td>\n",
              "    </tr>\n",
              "    <tr>\n",
              "      <th>4</th>\n",
              "      <td>AAAGTATCAAGTGTGTATAG</td>\n",
              "      <td>AAAAGTATCAAGTGTGTATAG</td>\n",
              "      <td>AAAAGTATCAGTGTGTATAG</td>\n",
              "      <td>I:A,10</td>\n",
              "      <td>ENSMUST00000114840</td>\n",
              "      <td>76.54</td>\n",
              "      <td>0.143454</td>\n",
              "      <td>Insertion</td>\n",
              "    </tr>\n",
              "  </tbody>\n",
              "</table>\n",
              "</div>"
            ],
            "text/plain": [
              "       ConstructBarcode        MutatedSequence  ... Day21-ETP   Category\n",
              "0  AAAAATATCAGTGTGTATAG   AAAAATATCAGTGTGTATAG  ...  0.758783   Mismatch\n",
              "1  AAAGTATCACGTGTGTATAG  AAAAGTATCACGTGTGTATAG  ...  0.490986  Insertion\n",
              "2  GAAAAGTATAGTGTGTATAG    AAAAGTATAGTGTGTATAG  ...  0.428038   Deletion\n",
              "3  AAAAGTATCAGTGTGTATAC   AAAAGTATCAGTGTGTATAC  ...  0.345700   Mismatch\n",
              "4  AAAGTATCAAGTGTGTATAG  AAAAGTATCAAGTGTGTATAG  ...  0.143454  Insertion\n",
              "\n",
              "[5 rows x 8 columns]"
            ]
          },
          "metadata": {
            "tags": []
          },
          "execution_count": 5
        }
      ]
    },
    {
      "cell_type": "code",
      "metadata": {
        "id": "cQg6OHxGfQh8",
        "colab_type": "code",
        "colab": {}
      },
      "source": [
        "score1 = []"
      ],
      "execution_count": null,
      "outputs": []
    },
    {
      "cell_type": "code",
      "metadata": {
        "id": "DMQMG_czfSB9",
        "colab_type": "code",
        "colab": {}
      },
      "source": [
        "cb_list = data['ConstructBarcode'].tolist()\n",
        "wt_list = data['WTSequence'].tolist()"
      ],
      "execution_count": null,
      "outputs": []
    },
    {
      "cell_type": "code",
      "metadata": {
        "id": "Ay04K9mEfTGE",
        "colab_type": "code",
        "colab": {}
      },
      "source": [
        "scr1 = 0\n",
        "\n",
        "for a,b in zip(cb_list, wt_list):\n",
        "  for c1, c2 in zip(a, b):\n",
        "    if c1 == c2:\n",
        "      scr1 += 1\n",
        "    else:\n",
        "      scr1 +=0\n",
        "      \n",
        "  score1.append(scr1)\n",
        "  scr1 = 0\n",
        "\n",
        "data['sgRNA_vs_Target'] = score1"
      ],
      "execution_count": null,
      "outputs": []
    },
    {
      "cell_type": "code",
      "metadata": {
        "id": "cQY8wEvZfWMf",
        "colab_type": "code",
        "colab": {
          "base_uri": "https://localhost:8080/",
          "height": 234
        },
        "outputId": "e1a1305a-8687-4bbd-fac2-b7576834904f"
      },
      "source": [
        "data.head()"
      ],
      "execution_count": null,
      "outputs": [
        {
          "output_type": "execute_result",
          "data": {
            "text/html": [
              "<div>\n",
              "<style scoped>\n",
              "    .dataframe tbody tr th:only-of-type {\n",
              "        vertical-align: middle;\n",
              "    }\n",
              "\n",
              "    .dataframe tbody tr th {\n",
              "        vertical-align: top;\n",
              "    }\n",
              "\n",
              "    .dataframe thead th {\n",
              "        text-align: right;\n",
              "    }\n",
              "</style>\n",
              "<table border=\"1\" class=\"dataframe\">\n",
              "  <thead>\n",
              "    <tr style=\"text-align: right;\">\n",
              "      <th></th>\n",
              "      <th>ConstructBarcode</th>\n",
              "      <th>MutatedSequence</th>\n",
              "      <th>WTSequence</th>\n",
              "      <th>Annotation</th>\n",
              "      <th>TranscriptID</th>\n",
              "      <th>Protein Annotation</th>\n",
              "      <th>Day21-ETP</th>\n",
              "      <th>Category</th>\n",
              "      <th>sgRNA_vs_Target</th>\n",
              "    </tr>\n",
              "  </thead>\n",
              "  <tbody>\n",
              "    <tr>\n",
              "      <th>0</th>\n",
              "      <td>AAAAATATCAGTGTGTATAG</td>\n",
              "      <td>AAAAATATCAGTGTGTATAG</td>\n",
              "      <td>AAAAGTATCAGTGTGTATAG</td>\n",
              "      <td>G:A,5</td>\n",
              "      <td>ENSMUST00000114840</td>\n",
              "      <td>76.54</td>\n",
              "      <td>0.758783</td>\n",
              "      <td>Mismatch</td>\n",
              "      <td>19</td>\n",
              "    </tr>\n",
              "    <tr>\n",
              "      <th>1</th>\n",
              "      <td>AAAGTATCACGTGTGTATAG</td>\n",
              "      <td>AAAAGTATCACGTGTGTATAG</td>\n",
              "      <td>AAAAGTATCAGTGTGTATAG</td>\n",
              "      <td>I:C,11</td>\n",
              "      <td>ENSMUST00000114840</td>\n",
              "      <td>76.54</td>\n",
              "      <td>0.490986</td>\n",
              "      <td>Insertion</td>\n",
              "      <td>13</td>\n",
              "    </tr>\n",
              "    <tr>\n",
              "      <th>2</th>\n",
              "      <td>GAAAAGTATAGTGTGTATAG</td>\n",
              "      <td>AAAAGTATAGTGTGTATAG</td>\n",
              "      <td>AAAAGTATCAGTGTGTATAG</td>\n",
              "      <td>D:C,9</td>\n",
              "      <td>ENSMUST00000114840</td>\n",
              "      <td>76.54</td>\n",
              "      <td>0.428038</td>\n",
              "      <td>Deletion</td>\n",
              "      <td>14</td>\n",
              "    </tr>\n",
              "    <tr>\n",
              "      <th>3</th>\n",
              "      <td>AAAAGTATCAGTGTGTATAC</td>\n",
              "      <td>AAAAGTATCAGTGTGTATAC</td>\n",
              "      <td>AAAAGTATCAGTGTGTATAG</td>\n",
              "      <td>G:C,20</td>\n",
              "      <td>ENSMUST00000114840</td>\n",
              "      <td>76.54</td>\n",
              "      <td>0.345700</td>\n",
              "      <td>Mismatch</td>\n",
              "      <td>19</td>\n",
              "    </tr>\n",
              "    <tr>\n",
              "      <th>4</th>\n",
              "      <td>AAAGTATCAAGTGTGTATAG</td>\n",
              "      <td>AAAAGTATCAAGTGTGTATAG</td>\n",
              "      <td>AAAAGTATCAGTGTGTATAG</td>\n",
              "      <td>I:A,10</td>\n",
              "      <td>ENSMUST00000114840</td>\n",
              "      <td>76.54</td>\n",
              "      <td>0.143454</td>\n",
              "      <td>Insertion</td>\n",
              "      <td>14</td>\n",
              "    </tr>\n",
              "  </tbody>\n",
              "</table>\n",
              "</div>"
            ],
            "text/plain": [
              "       ConstructBarcode        MutatedSequence  ...   Category sgRNA_vs_Target\n",
              "0  AAAAATATCAGTGTGTATAG   AAAAATATCAGTGTGTATAG  ...   Mismatch              19\n",
              "1  AAAGTATCACGTGTGTATAG  AAAAGTATCACGTGTGTATAG  ...  Insertion              13\n",
              "2  GAAAAGTATAGTGTGTATAG    AAAAGTATAGTGTGTATAG  ...   Deletion              14\n",
              "3  AAAAGTATCAGTGTGTATAC   AAAAGTATCAGTGTGTATAC  ...   Mismatch              19\n",
              "4  AAAGTATCAAGTGTGTATAG  AAAAGTATCAAGTGTGTATAG  ...  Insertion              14\n",
              "\n",
              "[5 rows x 9 columns]"
            ]
          },
          "metadata": {
            "tags": []
          },
          "execution_count": 9
        }
      ]
    },
    {
      "cell_type": "code",
      "metadata": {
        "id": "Hfm59hq7fXb-",
        "colab_type": "code",
        "colab": {}
      },
      "source": [
        "data['TranscriptID'] = data['TranscriptID'].astype('category')\n",
        "data['TID'] = data['TranscriptID'].cat.codes"
      ],
      "execution_count": null,
      "outputs": []
    },
    {
      "cell_type": "code",
      "metadata": {
        "id": "S6u4nH_UfZDE",
        "colab_type": "code",
        "colab": {
          "base_uri": "https://localhost:8080/",
          "height": 70
        },
        "outputId": "bbe2e217-a054-476c-e847-b1941788b006"
      },
      "source": [
        "data.TranscriptID.value_counts()"
      ],
      "execution_count": null,
      "outputs": [
        {
          "output_type": "execute_result",
          "data": {
            "text/plain": [
              "ENST00000262262       28837\n",
              "ENSMUST00000114840    11727\n",
              "Name: TranscriptID, dtype: int64"
            ]
          },
          "metadata": {
            "tags": []
          },
          "execution_count": 11
        }
      ]
    },
    {
      "cell_type": "code",
      "metadata": {
        "id": "mywMpIwffaMj",
        "colab_type": "code",
        "colab": {
          "base_uri": "https://localhost:8080/",
          "height": 70
        },
        "outputId": "b89dc44e-46bc-4d51-bfce-9e7e775be669"
      },
      "source": [
        "data.TID.value_counts()"
      ],
      "execution_count": null,
      "outputs": [
        {
          "output_type": "execute_result",
          "data": {
            "text/plain": [
              "1    28837\n",
              "0    11727\n",
              "Name: TID, dtype: int64"
            ]
          },
          "metadata": {
            "tags": []
          },
          "execution_count": 12
        }
      ]
    },
    {
      "cell_type": "code",
      "metadata": {
        "id": "Iox_vbBngSu9",
        "colab_type": "code",
        "colab": {
          "base_uri": "https://localhost:8080/",
          "height": 105
        },
        "outputId": "4843dc0c-36b6-4df2-d8bf-ba5bcaa9cd27"
      },
      "source": [
        "data.Category.value_counts()"
      ],
      "execution_count": null,
      "outputs": [
        {
          "output_type": "execute_result",
          "data": {
            "text/plain": [
              "Insertion    18643\n",
              "Mismatch     14624\n",
              "Deletion      4689\n",
              "PAM           2608\n",
              "Name: Category, dtype: int64"
            ]
          },
          "metadata": {
            "tags": []
          },
          "execution_count": 13
        }
      ]
    },
    {
      "cell_type": "code",
      "metadata": {
        "id": "uw1kOi0GfbPg",
        "colab_type": "code",
        "colab": {}
      },
      "source": [
        "data.drop(data[data['Category'] == 'Mismatch'].index, inplace = True)\n",
        "data.drop(data[data['Category'] == 'PAM'].index, inplace = True)"
      ],
      "execution_count": null,
      "outputs": []
    },
    {
      "cell_type": "code",
      "metadata": {
        "id": "n0qHiflnjB74",
        "colab_type": "code",
        "colab": {
          "base_uri": "https://localhost:8080/",
          "height": 70
        },
        "outputId": "f4748da8-ae1f-48d1-edd2-cde818f0c63b"
      },
      "source": [
        "data.Category.value_counts()"
      ],
      "execution_count": null,
      "outputs": [
        {
          "output_type": "execute_result",
          "data": {
            "text/plain": [
              "Insertion    18643\n",
              "Deletion      4689\n",
              "Name: Category, dtype: int64"
            ]
          },
          "metadata": {
            "tags": []
          },
          "execution_count": 15
        }
      ]
    },
    {
      "cell_type": "code",
      "metadata": {
        "id": "W2gpV525gYdh",
        "colab_type": "code",
        "colab": {}
      },
      "source": [
        "data[\"MatchResult\"] = data.apply(lambda row: 0 if row[\"Category\"] == \"Deletion\" else 1, axis=1)"
      ],
      "execution_count": null,
      "outputs": []
    },
    {
      "cell_type": "code",
      "metadata": {
        "id": "o4I5CN1PkNAu",
        "colab_type": "code",
        "colab": {}
      },
      "source": [
        "data = data.drop(['Category'], axis=1)\n",
        "data = data.drop(['Annotation'], axis=1)\n",
        "data = data.drop(['TranscriptID'], axis=1)\n",
        "data = data.drop(['ConstructBarcode'], axis=1)\n",
        "data = data.drop(['MutatedSequence'], axis=1)\n",
        "data = data.drop(['WTSequence'], axis=1)"
      ],
      "execution_count": null,
      "outputs": []
    },
    {
      "cell_type": "code",
      "metadata": {
        "id": "8kkRGbcCkPpg",
        "colab_type": "code",
        "colab": {
          "base_uri": "https://localhost:8080/",
          "height": 197
        },
        "outputId": "beb89c91-93c7-4aaa-d6f1-5332d493b915"
      },
      "source": [
        "data.head()"
      ],
      "execution_count": null,
      "outputs": [
        {
          "output_type": "execute_result",
          "data": {
            "text/html": [
              "<div>\n",
              "<style scoped>\n",
              "    .dataframe tbody tr th:only-of-type {\n",
              "        vertical-align: middle;\n",
              "    }\n",
              "\n",
              "    .dataframe tbody tr th {\n",
              "        vertical-align: top;\n",
              "    }\n",
              "\n",
              "    .dataframe thead th {\n",
              "        text-align: right;\n",
              "    }\n",
              "</style>\n",
              "<table border=\"1\" class=\"dataframe\">\n",
              "  <thead>\n",
              "    <tr style=\"text-align: right;\">\n",
              "      <th></th>\n",
              "      <th>Protein Annotation</th>\n",
              "      <th>Day21-ETP</th>\n",
              "      <th>sgRNA_vs_Target</th>\n",
              "      <th>TID</th>\n",
              "      <th>MatchResult</th>\n",
              "    </tr>\n",
              "  </thead>\n",
              "  <tbody>\n",
              "    <tr>\n",
              "      <th>1</th>\n",
              "      <td>76.54</td>\n",
              "      <td>0.490986</td>\n",
              "      <td>13</td>\n",
              "      <td>0</td>\n",
              "      <td>1</td>\n",
              "    </tr>\n",
              "    <tr>\n",
              "      <th>2</th>\n",
              "      <td>76.54</td>\n",
              "      <td>0.428038</td>\n",
              "      <td>14</td>\n",
              "      <td>0</td>\n",
              "      <td>0</td>\n",
              "    </tr>\n",
              "    <tr>\n",
              "      <th>4</th>\n",
              "      <td>76.54</td>\n",
              "      <td>0.143454</td>\n",
              "      <td>14</td>\n",
              "      <td>0</td>\n",
              "      <td>1</td>\n",
              "    </tr>\n",
              "    <tr>\n",
              "      <th>5</th>\n",
              "      <td>76.54</td>\n",
              "      <td>0.143454</td>\n",
              "      <td>14</td>\n",
              "      <td>0</td>\n",
              "      <td>1</td>\n",
              "    </tr>\n",
              "    <tr>\n",
              "      <th>10</th>\n",
              "      <td>76.54</td>\n",
              "      <td>0.055372</td>\n",
              "      <td>13</td>\n",
              "      <td>0</td>\n",
              "      <td>0</td>\n",
              "    </tr>\n",
              "  </tbody>\n",
              "</table>\n",
              "</div>"
            ],
            "text/plain": [
              "    Protein Annotation  Day21-ETP  sgRNA_vs_Target  TID  MatchResult\n",
              "1                76.54   0.490986               13    0            1\n",
              "2                76.54   0.428038               14    0            0\n",
              "4                76.54   0.143454               14    0            1\n",
              "5                76.54   0.143454               14    0            1\n",
              "10               76.54   0.055372               13    0            0"
            ]
          },
          "metadata": {
            "tags": []
          },
          "execution_count": 18
        }
      ]
    },
    {
      "cell_type": "code",
      "metadata": {
        "id": "OKnDfW1bkS6I",
        "colab_type": "code",
        "colab": {}
      },
      "source": [
        "outfile = 'encode3_off.csv'\n",
        "data.to_csv(outfile)"
      ],
      "execution_count": null,
      "outputs": []
    }
  ]
}