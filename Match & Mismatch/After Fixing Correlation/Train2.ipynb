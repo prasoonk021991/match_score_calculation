{
  "nbformat": 4,
  "nbformat_minor": 0,
  "metadata": {
    "colab": {
      "name": "Train2.ipynb",
      "provenance": [],
      "collapsed_sections": [],
      "toc_visible": true
    },
    "kernelspec": {
      "name": "python3",
      "display_name": "Python 3"
    }
  },
  "cells": [
    {
      "cell_type": "code",
      "metadata": {
        "id": "hp0IApKqOiU2",
        "colab_type": "code",
        "colab": {
          "base_uri": "https://localhost:8080/",
          "height": 107
        },
        "outputId": "2a3c21f1-38a6-47a9-f181-5e677d392b6b"
      },
      "source": [
        "import pandas as pd\n",
        "import imblearn\n",
        "import lightgbm as lgb\n",
        "import matplotlib.pyplot as plt\n",
        "import numpy as np\n",
        "from sklearn.linear_model import LinearRegression\n",
        "from sklearn.svm import SVC\n",
        "from sklearn.metrics import classification_report, confusion_matrix\n",
        "from imblearn.over_sampling import SMOTE\n",
        "from sklearn.naive_bayes import GaussianNB\n",
        "from sklearn.naive_bayes import BernoulliNB\n",
        "from sklearn.ensemble import RandomForestClassifier\n",
        "from sklearn.model_selection import train_test_split\n",
        "from sklearn import metrics\n",
        "from sklearn import linear_model\n",
        "from sklearn.metrics import roc_curve\n",
        "from sklearn.metrics import roc_auc_score\n",
        "from matplotlib import pyplot"
      ],
      "execution_count": null,
      "outputs": [
        {
          "output_type": "stream",
          "text": [
            "/usr/local/lib/python3.6/dist-packages/sklearn/externals/six.py:31: FutureWarning: The module is deprecated in version 0.21 and will be removed in version 0.23 since we've dropped support for Python 2.7. Please rely on the official version of six (https://pypi.org/project/six/).\n",
            "  \"(https://pypi.org/project/six/).\", FutureWarning)\n",
            "/usr/local/lib/python3.6/dist-packages/sklearn/utils/deprecation.py:144: FutureWarning: The sklearn.neighbors.base module is  deprecated in version 0.22 and will be removed in version 0.24. The corresponding classes / functions should instead be imported from sklearn.neighbors. Anything that cannot be imported from sklearn.neighbors is now part of the private API.\n",
            "  warnings.warn(message, FutureWarning)\n"
          ],
          "name": "stderr"
        }
      ]
    },
    {
      "cell_type": "code",
      "metadata": {
        "id": "gU9hb4rmua6o",
        "colab_type": "code",
        "colab": {
          "base_uri": "https://localhost:8080/",
          "height": 197
        },
        "outputId": "fc03883c-16ee-4982-8da0-099e081490d7"
      },
      "source": [
        "data = pd.read_csv(\"encode2_off.csv\")\n",
        "data.head()"
      ],
      "execution_count": null,
      "outputs": [
        {
          "output_type": "execute_result",
          "data": {
            "text/html": [
              "<div>\n",
              "<style scoped>\n",
              "    .dataframe tbody tr th:only-of-type {\n",
              "        vertical-align: middle;\n",
              "    }\n",
              "\n",
              "    .dataframe tbody tr th {\n",
              "        vertical-align: top;\n",
              "    }\n",
              "\n",
              "    .dataframe thead th {\n",
              "        text-align: right;\n",
              "    }\n",
              "</style>\n",
              "<table border=\"1\" class=\"dataframe\">\n",
              "  <thead>\n",
              "    <tr style=\"text-align: right;\">\n",
              "      <th></th>\n",
              "      <th>Unnamed: 0</th>\n",
              "      <th>Protein Annotation</th>\n",
              "      <th>Day21-ETP</th>\n",
              "      <th>sgRNA_vs_Target</th>\n",
              "      <th>TID</th>\n",
              "      <th>MatchResult</th>\n",
              "    </tr>\n",
              "  </thead>\n",
              "  <tbody>\n",
              "    <tr>\n",
              "      <th>0</th>\n",
              "      <td>0</td>\n",
              "      <td>76.54</td>\n",
              "      <td>0.758783</td>\n",
              "      <td>19</td>\n",
              "      <td>0</td>\n",
              "      <td>0</td>\n",
              "    </tr>\n",
              "    <tr>\n",
              "      <th>1</th>\n",
              "      <td>1</td>\n",
              "      <td>76.54</td>\n",
              "      <td>0.490986</td>\n",
              "      <td>13</td>\n",
              "      <td>0</td>\n",
              "      <td>1</td>\n",
              "    </tr>\n",
              "    <tr>\n",
              "      <th>2</th>\n",
              "      <td>2</td>\n",
              "      <td>76.54</td>\n",
              "      <td>0.428038</td>\n",
              "      <td>14</td>\n",
              "      <td>0</td>\n",
              "      <td>1</td>\n",
              "    </tr>\n",
              "    <tr>\n",
              "      <th>3</th>\n",
              "      <td>3</td>\n",
              "      <td>76.54</td>\n",
              "      <td>0.345700</td>\n",
              "      <td>19</td>\n",
              "      <td>0</td>\n",
              "      <td>0</td>\n",
              "    </tr>\n",
              "    <tr>\n",
              "      <th>4</th>\n",
              "      <td>4</td>\n",
              "      <td>76.54</td>\n",
              "      <td>0.143454</td>\n",
              "      <td>14</td>\n",
              "      <td>0</td>\n",
              "      <td>1</td>\n",
              "    </tr>\n",
              "  </tbody>\n",
              "</table>\n",
              "</div>"
            ],
            "text/plain": [
              "   Unnamed: 0  Protein Annotation  Day21-ETP  sgRNA_vs_Target  TID  MatchResult\n",
              "0           0               76.54   0.758783               19    0            0\n",
              "1           1               76.54   0.490986               13    0            1\n",
              "2           2               76.54   0.428038               14    0            1\n",
              "3           3               76.54   0.345700               19    0            0\n",
              "4           4               76.54   0.143454               14    0            1"
            ]
          },
          "metadata": {
            "tags": []
          },
          "execution_count": 2
        }
      ]
    },
    {
      "cell_type": "code",
      "metadata": {
        "id": "SvnghSGsU-zk",
        "colab_type": "code",
        "colab": {
          "base_uri": "https://localhost:8080/",
          "height": 197
        },
        "outputId": "e9908e43-340f-4b6c-b2c0-2beb9cd1a2a5"
      },
      "source": [
        "data = data.drop(['Unnamed: 0'], axis=1)\n",
        "data.head()"
      ],
      "execution_count": null,
      "outputs": [
        {
          "output_type": "execute_result",
          "data": {
            "text/html": [
              "<div>\n",
              "<style scoped>\n",
              "    .dataframe tbody tr th:only-of-type {\n",
              "        vertical-align: middle;\n",
              "    }\n",
              "\n",
              "    .dataframe tbody tr th {\n",
              "        vertical-align: top;\n",
              "    }\n",
              "\n",
              "    .dataframe thead th {\n",
              "        text-align: right;\n",
              "    }\n",
              "</style>\n",
              "<table border=\"1\" class=\"dataframe\">\n",
              "  <thead>\n",
              "    <tr style=\"text-align: right;\">\n",
              "      <th></th>\n",
              "      <th>Protein Annotation</th>\n",
              "      <th>Day21-ETP</th>\n",
              "      <th>sgRNA_vs_Target</th>\n",
              "      <th>TID</th>\n",
              "      <th>MatchResult</th>\n",
              "    </tr>\n",
              "  </thead>\n",
              "  <tbody>\n",
              "    <tr>\n",
              "      <th>0</th>\n",
              "      <td>76.54</td>\n",
              "      <td>0.758783</td>\n",
              "      <td>19</td>\n",
              "      <td>0</td>\n",
              "      <td>0</td>\n",
              "    </tr>\n",
              "    <tr>\n",
              "      <th>1</th>\n",
              "      <td>76.54</td>\n",
              "      <td>0.490986</td>\n",
              "      <td>13</td>\n",
              "      <td>0</td>\n",
              "      <td>1</td>\n",
              "    </tr>\n",
              "    <tr>\n",
              "      <th>2</th>\n",
              "      <td>76.54</td>\n",
              "      <td>0.428038</td>\n",
              "      <td>14</td>\n",
              "      <td>0</td>\n",
              "      <td>1</td>\n",
              "    </tr>\n",
              "    <tr>\n",
              "      <th>3</th>\n",
              "      <td>76.54</td>\n",
              "      <td>0.345700</td>\n",
              "      <td>19</td>\n",
              "      <td>0</td>\n",
              "      <td>0</td>\n",
              "    </tr>\n",
              "    <tr>\n",
              "      <th>4</th>\n",
              "      <td>76.54</td>\n",
              "      <td>0.143454</td>\n",
              "      <td>14</td>\n",
              "      <td>0</td>\n",
              "      <td>1</td>\n",
              "    </tr>\n",
              "  </tbody>\n",
              "</table>\n",
              "</div>"
            ],
            "text/plain": [
              "   Protein Annotation  Day21-ETP  sgRNA_vs_Target  TID  MatchResult\n",
              "0               76.54   0.758783               19    0            0\n",
              "1               76.54   0.490986               13    0            1\n",
              "2               76.54   0.428038               14    0            1\n",
              "3               76.54   0.345700               19    0            0\n",
              "4               76.54   0.143454               14    0            1"
            ]
          },
          "metadata": {
            "tags": []
          },
          "execution_count": 3
        }
      ]
    },
    {
      "cell_type": "code",
      "metadata": {
        "id": "7MtIDnMvqfKZ",
        "colab_type": "code",
        "colab": {
          "base_uri": "https://localhost:8080/",
          "height": 332
        },
        "outputId": "579fa481-1e1c-47ff-c098-9f1b3e065217"
      },
      "source": [
        "plt.matshow(data.corr())\n",
        "plt.xticks(np.arange(5), data.columns, rotation=90)\n",
        "plt.yticks(np.arange(5), data.columns, rotation=0)\n",
        "plt.colorbar()\n",
        "plt.show()"
      ],
      "execution_count": null,
      "outputs": [
        {
          "output_type": "display_data",
          "data": {
            "image/png": "[encoded data removed]",
            "text/plain": [
              "<Figure size 288x288 with 2 Axes>"
            ]
          },
          "metadata": {
            "tags": [],
            "needs_background": "light"
          }
        }
      ]
    },
    {
      "cell_type": "code",
      "metadata": {
        "id": "v-1j7BONVFvA",
        "colab_type": "code",
        "colab": {}
      },
      "source": [
        "count = 0\n",
        "test = pd.DataFrame()\n",
        "train = pd.DataFrame()\n",
        "for index, row in data.iterrows():\n",
        "    count += 1\n",
        "    if (count%3)==0:\n",
        "        test = test.append(row)\n",
        "    else:\n",
        "        train = train.append(row)"
      ],
      "execution_count": null,
      "outputs": []
    },
    {
      "cell_type": "code",
      "metadata": {
        "id": "AV3oPzubZVom",
        "colab_type": "code",
        "colab": {}
      },
      "source": [
        "count = 0\n",
        "test1 = pd.DataFrame()\n",
        "train1 = pd.DataFrame()\n",
        "for index, row in train.iterrows():\n",
        "    count += 1\n",
        "    if (count%3)==0:\n",
        "        test1 = test1.append(row)\n",
        "    else:\n",
        "        train1 = train1.append(row)"
      ],
      "execution_count": null,
      "outputs": []
    },
    {
      "cell_type": "code",
      "metadata": {
        "id": "q7KTMhTsVbJR",
        "colab_type": "code",
        "colab": {
          "base_uri": "https://localhost:8080/",
          "height": 221
        },
        "outputId": "20930f38-bda9-42ea-e742-eda2ae83f3f0"
      },
      "source": [
        "train.info()"
      ],
      "execution_count": null,
      "outputs": [
        {
          "output_type": "stream",
          "text": [
            "<class 'pandas.core.frame.DataFrame'>\n",
            "Int64Index: 27043 entries, 0 to 40563\n",
            "Data columns (total 5 columns):\n",
            " #   Column              Non-Null Count  Dtype  \n",
            "---  ------              --------------  -----  \n",
            " 0   CB_vs_WT            27043 non-null  float64\n",
            " 1   Day21-ETP           27043 non-null  float64\n",
            " 2   MatchResult         27043 non-null  float64\n",
            " 3   Protein Annotation  27043 non-null  float64\n",
            " 4   TID                 27043 non-null  float64\n",
            "dtypes: float64(5)\n",
            "memory usage: 1.2 MB\n"
          ],
          "name": "stdout"
        }
      ]
    },
    {
      "cell_type": "code",
      "metadata": {
        "id": "2l4XGuPaZYF7",
        "colab_type": "code",
        "colab": {
          "base_uri": "https://localhost:8080/",
          "height": 221
        },
        "outputId": "35b7d83b-ea3d-4784-d7cb-f5f7fcf823c5"
      },
      "source": [
        "train1.info()"
      ],
      "execution_count": null,
      "outputs": [
        {
          "output_type": "stream",
          "text": [
            "<class 'pandas.core.frame.DataFrame'>\n",
            "Int64Index: 18029 entries, 0 to 40563\n",
            "Data columns (total 5 columns):\n",
            " #   Column              Non-Null Count  Dtype  \n",
            "---  ------              --------------  -----  \n",
            " 0   CB_vs_WT            18029 non-null  float64\n",
            " 1   Day21-ETP           18029 non-null  float64\n",
            " 2   MatchResult         18029 non-null  float64\n",
            " 3   Protein Annotation  18029 non-null  float64\n",
            " 4   TID                 18029 non-null  float64\n",
            "dtypes: float64(5)\n",
            "memory usage: 845.1 KB\n"
          ],
          "name": "stdout"
        }
      ]
    },
    {
      "cell_type": "code",
      "metadata": {
        "id": "6sHt8YVbWhtp",
        "colab_type": "code",
        "colab": {
          "base_uri": "https://localhost:8080/",
          "height": 221
        },
        "outputId": "d8895d84-60c2-4647-f1d4-b48cab9708e3"
      },
      "source": [
        "test.info()"
      ],
      "execution_count": null,
      "outputs": [
        {
          "output_type": "stream",
          "text": [
            "<class 'pandas.core.frame.DataFrame'>\n",
            "Int64Index: 13521 entries, 2 to 40562\n",
            "Data columns (total 5 columns):\n",
            " #   Column              Non-Null Count  Dtype  \n",
            "---  ------              --------------  -----  \n",
            " 0   CB_vs_WT            13521 non-null  float64\n",
            " 1   Day21-ETP           13521 non-null  float64\n",
            " 2   MatchResult         13521 non-null  float64\n",
            " 3   Protein Annotation  13521 non-null  float64\n",
            " 4   TID                 13521 non-null  float64\n",
            "dtypes: float64(5)\n",
            "memory usage: 633.8 KB\n"
          ],
          "name": "stdout"
        }
      ]
    },
    {
      "cell_type": "code",
      "metadata": {
        "id": "6pQzDP-JZcux",
        "colab_type": "code",
        "colab": {
          "base_uri": "https://localhost:8080/",
          "height": 221
        },
        "outputId": "e05689a6-8e74-465d-c19d-15e2347ab5be"
      },
      "source": [
        "test1.info()"
      ],
      "execution_count": null,
      "outputs": [
        {
          "output_type": "stream",
          "text": [
            "<class 'pandas.core.frame.DataFrame'>\n",
            "Int64Index: 9014 entries, 3 to 40561\n",
            "Data columns (total 5 columns):\n",
            " #   Column              Non-Null Count  Dtype  \n",
            "---  ------              --------------  -----  \n",
            " 0   CB_vs_WT            9014 non-null   float64\n",
            " 1   Day21-ETP           9014 non-null   float64\n",
            " 2   MatchResult         9014 non-null   float64\n",
            " 3   Protein Annotation  9014 non-null   float64\n",
            " 4   TID                 9014 non-null   float64\n",
            "dtypes: float64(5)\n",
            "memory usage: 422.5 KB\n"
          ],
          "name": "stdout"
        }
      ]
    },
    {
      "cell_type": "code",
      "metadata": {
        "id": "OI6MeN8aWjTo",
        "colab_type": "code",
        "colab": {
          "base_uri": "https://localhost:8080/",
          "height": 68
        },
        "outputId": "a7fe5d9e-aa27-4651-e430-9e3c964e8f10"
      },
      "source": [
        "train.MatchResult.value_counts()"
      ],
      "execution_count": null,
      "outputs": [
        {
          "output_type": "execute_result",
          "data": {
            "text/plain": [
              "1.0    17186\n",
              "0.0     9857\n",
              "Name: MatchResult, dtype: int64"
            ]
          },
          "metadata": {
            "tags": []
          },
          "execution_count": 169
        }
      ]
    },
    {
      "cell_type": "code",
      "metadata": {
        "id": "ueKnQM86Zffa",
        "colab_type": "code",
        "colab": {
          "base_uri": "https://localhost:8080/",
          "height": 68
        },
        "outputId": "0b9d0af2-c83c-455f-eb0f-b5c24c0390da"
      },
      "source": [
        "train1.MatchResult.value_counts()"
      ],
      "execution_count": null,
      "outputs": [
        {
          "output_type": "execute_result",
          "data": {
            "text/plain": [
              "1.0    11515\n",
              "0.0     6514\n",
              "Name: MatchResult, dtype: int64"
            ]
          },
          "metadata": {
            "tags": []
          },
          "execution_count": 170
        }
      ]
    },
    {
      "cell_type": "code",
      "metadata": {
        "id": "Xm5xc7WaXB10",
        "colab_type": "code",
        "colab": {
          "base_uri": "https://localhost:8080/",
          "height": 68
        },
        "outputId": "eea9b1c8-f438-4279-f097-94fc65994d25"
      },
      "source": [
        "test.MatchResult.value_counts()"
      ],
      "execution_count": null,
      "outputs": [
        {
          "output_type": "execute_result",
          "data": {
            "text/plain": [
              "1.0    8754\n",
              "0.0    4767\n",
              "Name: MatchResult, dtype: int64"
            ]
          },
          "metadata": {
            "tags": []
          },
          "execution_count": 171
        }
      ]
    },
    {
      "cell_type": "code",
      "metadata": {
        "id": "QPVka0_ZZjjl",
        "colab_type": "code",
        "colab": {
          "base_uri": "https://localhost:8080/",
          "height": 68
        },
        "outputId": "87174ee5-ce70-492e-f45d-9081c61f93aa"
      },
      "source": [
        "test1.MatchResult.value_counts()"
      ],
      "execution_count": null,
      "outputs": [
        {
          "output_type": "execute_result",
          "data": {
            "text/plain": [
              "1.0    5671\n",
              "0.0    3343\n",
              "Name: MatchResult, dtype: int64"
            ]
          },
          "metadata": {
            "tags": []
          },
          "execution_count": 172
        }
      ]
    },
    {
      "cell_type": "code",
      "metadata": {
        "id": "RyfSvZNls6VA",
        "colab_type": "code",
        "colab": {}
      },
      "source": [
        "X_train = train1.drop(['MatchResult'], axis=1)\n",
        "y_train = train1['MatchResult']\n",
        "X_test = test1.drop(['MatchResult'], axis=1)\n",
        "y_test = test1['MatchResult']"
      ],
      "execution_count": null,
      "outputs": []
    },
    {
      "cell_type": "code",
      "metadata": {
        "id": "InQXDTxltezq",
        "colab_type": "code",
        "colab": {
          "base_uri": "https://localhost:8080/",
          "height": 299
        },
        "outputId": "c88b999a-6313-456b-9288-39da350f4f18"
      },
      "source": [
        "reg = linear_model.Ridge (alpha = .5)\n",
        "reg.fit(X_train, y_train)\n",
        "print('Score: ', reg.score(X_test, y_test))\n",
        "print('Weights: ', reg.coef_)\n",
        "\n",
        "plt.plot(reg.predict(X_test))\n",
        "plt.plot(y_test)\n",
        "plt.show()"
      ],
      "execution_count": null,
      "outputs": [
        {
          "output_type": "stream",
          "text": [
            "Score:  0.37641486099358923\n",
            "Weights:  [-0.06094562 -0.01253432  0.0002048   0.01832607]\n"
          ],
          "name": "stdout"
        },
        {
          "output_type": "display_data",
          "data": {
            "image/png": "[encoded data removed]",
            "text/plain": [
              "<Figure size 432x288 with 1 Axes>"
            ]
          },
          "metadata": {
            "tags": [],
            "needs_background": "light"
          }
        }
      ]
    },
    {
      "cell_type": "code",
      "metadata": {
        "id": "9DLlyPrQn55t",
        "colab_type": "code",
        "colab": {}
      },
      "source": [
        "X_train = train1.drop(['MatchResult'], axis=1)\n",
        "y_train = train1['MatchResult']\n",
        "X_test = test1.drop(['MatchResult'], axis=1)\n",
        "y_test = test1['MatchResult']"
      ],
      "execution_count": null,
      "outputs": []
    },
    {
      "cell_type": "code",
      "metadata": {
        "id": "UYOf1aOCn6m7",
        "colab_type": "code",
        "colab": {}
      },
      "source": [
        "ns_probs = [0 for _ in range(len(y_test))]\n",
        "ns_auc = roc_auc_score(y_test, ns_probs)"
      ],
      "execution_count": null,
      "outputs": []
    },
    {
      "cell_type": "markdown",
      "metadata": {
        "id": "Bk8wkhFsDLVO",
        "colab_type": "text"
      },
      "source": [
        "# **SVM (KERNEL: GAUSSIAN)**"
      ]
    },
    {
      "cell_type": "markdown",
      "metadata": {
        "id": "D9VhFHdeDdyl",
        "colab_type": "text"
      },
      "source": [
        "**Model 1 - Imbalanced towards Match**"
      ]
    },
    {
      "cell_type": "code",
      "metadata": {
        "id": "_VlV4vREDjLI",
        "colab_type": "code",
        "colab": {}
      },
      "source": [
        "svclassifier = SVC(kernel='rbf', gamma='auto').fit(X_train, y_train)"
      ],
      "execution_count": null,
      "outputs": []
    },
    {
      "cell_type": "code",
      "metadata": {
        "id": "70IvxEF6EXuB",
        "colab_type": "code",
        "colab": {
          "base_uri": "https://localhost:8080/",
          "height": 204
        },
        "outputId": "0f4c826e-0f17-4831-f77a-c9a23bb1aa2f"
      },
      "source": [
        "y_pred_m1_svm_gaussian = svclassifier.predict(X_test)\n",
        "\n",
        "print(confusion_matrix(y_test,y_pred_m1_svm_gaussian))\n",
        "print(classification_report(y_test,y_pred_m1_svm_gaussian))"
      ],
      "execution_count": null,
      "outputs": [
        {
          "output_type": "stream",
          "text": [
            "[[3342    1]\n",
            " [ 351 5320]]\n",
            "              precision    recall  f1-score   support\n",
            "\n",
            "         0.0       0.90      1.00      0.95      3343\n",
            "         1.0       1.00      0.94      0.97      5671\n",
            "\n",
            "    accuracy                           0.96      9014\n",
            "   macro avg       0.95      0.97      0.96      9014\n",
            "weighted avg       0.96      0.96      0.96      9014\n",
            "\n"
          ],
          "name": "stdout"
        }
      ]
    },
    {
      "cell_type": "markdown",
      "metadata": {
        "id": "W2re3uMIGZ5E",
        "colab_type": "text"
      },
      "source": [
        "| ACTUAL\\PREDICTED          | Mismatch (0) | Match (1) | TOTAL |\n",
        "|---------------------------|---------------------|-------------------------|-------|\n",
        "|    Mismatch (0)|      3342             |        1               |   3343   |\n",
        "|  Match (1)      |      351             |        5320              |   5671  |\n",
        "|        TOTAL              |      3693             |        5321             |   9014  |"
      ]
    },
    {
      "cell_type": "code",
      "metadata": {
        "id": "aiXUtaFRrLFy",
        "colab_type": "code",
        "colab": {}
      },
      "source": [
        "m1_svm_gaussian_auc = roc_auc_score(y_test, y_pred_m1_svm_gaussian)"
      ],
      "execution_count": null,
      "outputs": []
    },
    {
      "cell_type": "code",
      "metadata": {
        "id": "nlJlgLsfG3Q8",
        "colab_type": "code",
        "colab": {}
      },
      "source": [
        "M1_sp_SVM_gaussian=0.90\n",
        "M1_se_SVM_gaussian=1.00\n",
        "M1_acc_SVM_gaussian=0.96"
      ],
      "execution_count": null,
      "outputs": []
    },
    {
      "cell_type": "code",
      "metadata": {
        "id": "f_ZpI0tv4tvl",
        "colab_type": "code",
        "colab": {}
      },
      "source": [
        "results = pd.DataFrame({'Classifier' : pd.Categorical([\"SVM - Gaussian\"]),\n",
        "                        'Model' : pd.Categorical([\"Imbalanced - Match\"]),\n",
        "                        'Specificity' : M1_sp_SVM_gaussian,\n",
        "                        'Sensitivity' : M1_se_SVM_gaussian,\n",
        "                        'Accuracy' : M1_acc_SVM_gaussian,\n",
        "                        'AUC' : m1_svm_gaussian_auc})"
      ],
      "execution_count": null,
      "outputs": []
    },
    {
      "cell_type": "markdown",
      "metadata": {
        "id": "pU_icyPkFp5x",
        "colab_type": "text"
      },
      "source": [
        "**Model 2 - Manually Balanced**"
      ]
    },
    {
      "cell_type": "code",
      "metadata": {
        "id": "g8N9F6A6jORa",
        "colab_type": "code",
        "colab": {
          "base_uri": "https://localhost:8080/",
          "height": 68
        },
        "outputId": "abd9a007-714b-48b1-9221-28f69412e554"
      },
      "source": [
        "train1.MatchResult.value_counts()"
      ],
      "execution_count": null,
      "outputs": [
        {
          "output_type": "execute_result",
          "data": {
            "text/plain": [
              "1.0    11515\n",
              "0.0     6514\n",
              "Name: MatchResult, dtype: int64"
            ]
          },
          "metadata": {
            "tags": []
          },
          "execution_count": 182
        }
      ]
    },
    {
      "cell_type": "code",
      "metadata": {
        "id": "SsfRg_84jaZK",
        "colab_type": "code",
        "colab": {
          "base_uri": "https://localhost:8080/",
          "height": 68
        },
        "outputId": "6d0ec916-4b1e-4535-91d3-667c6c9c149c"
      },
      "source": [
        "negative_cases = train1[train1['MatchResult'] == 0]\n",
        "positive_cases = train1[train1['MatchResult'] == 1].sample(6514, random_state=0)\n",
        "train1_balanced = pd.concat([positive_cases,negative_cases])\n",
        "train1_balanced.sort_index(inplace=True)\n",
        "\n",
        "X_train_bal = train1_balanced.drop(['MatchResult'], axis=1)\n",
        "y_train_bal = train1_balanced['MatchResult']\n",
        "\n",
        "train1_balanced.MatchResult.value_counts()"
      ],
      "execution_count": null,
      "outputs": [
        {
          "output_type": "execute_result",
          "data": {
            "text/plain": [
              "1.0    6514\n",
              "0.0    6514\n",
              "Name: MatchResult, dtype: int64"
            ]
          },
          "metadata": {
            "tags": []
          },
          "execution_count": 183
        }
      ]
    },
    {
      "cell_type": "code",
      "metadata": {
        "id": "2KvN3M37EZ6O",
        "colab_type": "code",
        "colab": {}
      },
      "source": [
        "svclassifier = SVC(kernel='rbf', gamma='auto').fit(X_train_bal, y_train_bal)"
      ],
      "execution_count": null,
      "outputs": []
    },
    {
      "cell_type": "code",
      "metadata": {
        "id": "4FjXKe-iF0qt",
        "colab_type": "code",
        "colab": {
          "base_uri": "https://localhost:8080/",
          "height": 204
        },
        "outputId": "03380bac-ac2f-4e29-ce3b-2a27c068e47f"
      },
      "source": [
        "y_pred_m2_svm_gaussian = svclassifier.predict(X_test)\n",
        "\n",
        "print(confusion_matrix(y_test,y_pred_m2_svm_gaussian))\n",
        "print(classification_report(y_test,y_pred_m2_svm_gaussian))"
      ],
      "execution_count": null,
      "outputs": [
        {
          "output_type": "stream",
          "text": [
            "[[3343    0]\n",
            " [ 439 5232]]\n",
            "              precision    recall  f1-score   support\n",
            "\n",
            "         0.0       0.88      1.00      0.94      3343\n",
            "         1.0       1.00      0.92      0.96      5671\n",
            "\n",
            "    accuracy                           0.95      9014\n",
            "   macro avg       0.94      0.96      0.95      9014\n",
            "weighted avg       0.96      0.95      0.95      9014\n",
            "\n"
          ],
          "name": "stdout"
        }
      ]
    },
    {
      "cell_type": "markdown",
      "metadata": {
        "id": "sPrAMv73IHKX",
        "colab_type": "text"
      },
      "source": [
        "| ACTUAL\\PREDICTED          | Mismatch (0) | Match (1) | TOTAL |\n",
        "|---------------------------|---------------------|-------------------------|-------|\n",
        "|    Mismatch (0)|      3343             |        0               |   3343   |\n",
        "|  Match (1)      |      439             |        5232              |   5671  |\n",
        "|        TOTAL              |      3782             |        5232             |   9014  |"
      ]
    },
    {
      "cell_type": "code",
      "metadata": {
        "id": "uypC4orbsvCA",
        "colab_type": "code",
        "colab": {}
      },
      "source": [
        "m2_svm_gaussian_auc = roc_auc_score(y_test, y_pred_m2_svm_gaussian)"
      ],
      "execution_count": null,
      "outputs": []
    },
    {
      "cell_type": "code",
      "metadata": {
        "id": "ZUWzo7nEF2m1",
        "colab_type": "code",
        "colab": {}
      },
      "source": [
        "M2_sp_SVM_gaussian=0.88\n",
        "M2_se_SVM_gaussian=1.00\n",
        "M2_acc_SVM_gaussian=0.95"
      ],
      "execution_count": null,
      "outputs": []
    },
    {
      "cell_type": "code",
      "metadata": {
        "id": "BLHM75pEJIwl",
        "colab_type": "code",
        "colab": {}
      },
      "source": [
        "svm_gaussian_m2 = {'Model':\"Balanced - Manual\", 'Classifier':\"SVM - Gaussian\", 'Specificity':M2_sp_SVM_gaussian, 'Sensitivity':M2_se_SVM_gaussian, 'Accuracy':M2_acc_SVM_gaussian, 'AUC': m2_svm_gaussian_auc}\n",
        "results = results.append(svm_gaussian_m2, ignore_index=True)"
      ],
      "execution_count": null,
      "outputs": []
    },
    {
      "cell_type": "markdown",
      "metadata": {
        "id": "CK0Me61rKDW1",
        "colab_type": "text"
      },
      "source": [
        "**Model 3 - SMOTE Balanced**"
      ]
    },
    {
      "cell_type": "code",
      "metadata": {
        "id": "5-roOvEUnATu",
        "colab_type": "code",
        "colab": {
          "base_uri": "https://localhost:8080/",
          "height": 71
        },
        "outputId": "1d5e3dc7-9fdc-4765-cead-640b82f05c21"
      },
      "source": [
        "smote = SMOTE(random_state=0)\n",
        "X_train_resampled, y_train_resampled = smote.fit_sample(X_train, y_train)"
      ],
      "execution_count": null,
      "outputs": [
        {
          "output_type": "stream",
          "text": [
            "/usr/local/lib/python3.6/dist-packages/sklearn/utils/deprecation.py:87: FutureWarning: Function safe_indexing is deprecated; safe_indexing is deprecated in version 0.22 and will be removed in version 0.24.\n",
            "  warnings.warn(msg, category=FutureWarning)\n"
          ],
          "name": "stderr"
        }
      ]
    },
    {
      "cell_type": "code",
      "metadata": {
        "id": "VVn5dYYXJZ14",
        "colab_type": "code",
        "colab": {}
      },
      "source": [
        "svclassifier = SVC(kernel='rbf', gamma='auto').fit(X_train_resampled, y_train_resampled)"
      ],
      "execution_count": null,
      "outputs": []
    },
    {
      "cell_type": "code",
      "metadata": {
        "id": "UlNto4XQKUS6",
        "colab_type": "code",
        "colab": {
          "base_uri": "https://localhost:8080/",
          "height": 204
        },
        "outputId": "1323bb55-eb22-4339-9ebc-b1b473f618eb"
      },
      "source": [
        "y_pred_m3_svm_gaussian = svclassifier.predict(X_test)\n",
        "\n",
        "print(confusion_matrix(y_test,y_pred_m3_svm_gaussian))\n",
        "print(classification_report(y_test,y_pred_m3_svm_gaussian))"
      ],
      "execution_count": null,
      "outputs": [
        {
          "output_type": "stream",
          "text": [
            "[[3342    1]\n",
            " [ 352 5319]]\n",
            "              precision    recall  f1-score   support\n",
            "\n",
            "         0.0       0.90      1.00      0.95      3343\n",
            "         1.0       1.00      0.94      0.97      5671\n",
            "\n",
            "    accuracy                           0.96      9014\n",
            "   macro avg       0.95      0.97      0.96      9014\n",
            "weighted avg       0.96      0.96      0.96      9014\n",
            "\n"
          ],
          "name": "stdout"
        }
      ]
    },
    {
      "cell_type": "markdown",
      "metadata": {
        "id": "TqwjK-qCKjH9",
        "colab_type": "text"
      },
      "source": [
        "| ACTUAL\\PREDICTED          | Mismatch (0) | Match (1) | TOTAL |\n",
        "|---------------------------|---------------------|-------------------------|-------|\n",
        "|    Mismatch (0)|      3342             |        1               |   3343   |\n",
        "|  Match (1)      |      352             |        5319              |   5671  |\n",
        "|        TOTAL              |      3694             |        5320             |   9014  |"
      ]
    },
    {
      "cell_type": "code",
      "metadata": {
        "id": "C83C0Y2StlSN",
        "colab_type": "code",
        "colab": {}
      },
      "source": [
        "m3_svm_gaussian_auc = roc_auc_score(y_test, y_pred_m3_svm_gaussian)"
      ],
      "execution_count": null,
      "outputs": []
    },
    {
      "cell_type": "code",
      "metadata": {
        "id": "m24vy245KdUg",
        "colab_type": "code",
        "colab": {}
      },
      "source": [
        "M3_sp_SVM_gaussian=0.90\n",
        "M3_se_SVM_gaussian=1.00\n",
        "M3_acc_SVM_gaussian=0.96"
      ],
      "execution_count": null,
      "outputs": []
    },
    {
      "cell_type": "code",
      "metadata": {
        "id": "Rbks_bJOLD4M",
        "colab_type": "code",
        "colab": {}
      },
      "source": [
        "svm_gaussian_m3 = {'Model':\"Balanced - SMOTE\", 'Classifier':\"SVM - Gaussian\", 'Specificity':M3_sp_SVM_gaussian, 'Sensitivity':M3_se_SVM_gaussian, 'Accuracy':M3_acc_SVM_gaussian, 'AUC': m3_svm_gaussian_auc}\n",
        "results = results.append(svm_gaussian_m3, ignore_index=True)"
      ],
      "execution_count": null,
      "outputs": []
    },
    {
      "cell_type": "markdown",
      "metadata": {
        "id": "SSWzI9ipMgbk",
        "colab_type": "text"
      },
      "source": [
        "**Model 4 - Imbalanced towards Mismatch**"
      ]
    },
    {
      "cell_type": "code",
      "metadata": {
        "id": "XIc3G2NbvnhB",
        "colab_type": "code",
        "colab": {
          "base_uri": "https://localhost:8080/",
          "height": 68
        },
        "outputId": "e153a196-2618-425b-b70b-d22238d7a19f"
      },
      "source": [
        "train1.MatchResult.value_counts()"
      ],
      "execution_count": null,
      "outputs": [
        {
          "output_type": "execute_result",
          "data": {
            "text/plain": [
              "1.0    11515\n",
              "0.0     6514\n",
              "Name: MatchResult, dtype: int64"
            ]
          },
          "metadata": {
            "tags": []
          },
          "execution_count": 195
        }
      ]
    },
    {
      "cell_type": "code",
      "metadata": {
        "id": "lnVTUgl1wuv6",
        "colab_type": "code",
        "colab": {
          "base_uri": "https://localhost:8080/",
          "height": 68
        },
        "outputId": "8e6a3fe0-38d7-4cfa-9eba-a7924211cf65"
      },
      "source": [
        "positive_cases = train1[train1['MatchResult'] == 1].sample(2171, random_state=0)\n",
        "negative_cases = train1[train1['MatchResult'] == 0].sample(4343, random_state=0)\n",
        "train1_imbalanced = pd.concat([positive_cases,negative_cases])\n",
        "train1_imbalanced.sort_index(inplace=True)\n",
        "\n",
        "X_train_imbal = train1_imbalanced.drop(['MatchResult'], axis=1)\n",
        "y_train_imbal = train1_imbalanced['MatchResult']\n",
        "# AFTER\n",
        "train1_imbalanced.MatchResult.value_counts()"
      ],
      "execution_count": null,
      "outputs": [
        {
          "output_type": "execute_result",
          "data": {
            "text/plain": [
              "0.0    4343\n",
              "1.0    2171\n",
              "Name: MatchResult, dtype: int64"
            ]
          },
          "metadata": {
            "tags": []
          },
          "execution_count": 196
        }
      ]
    },
    {
      "cell_type": "code",
      "metadata": {
        "id": "94Meu25ALOJA",
        "colab_type": "code",
        "colab": {}
      },
      "source": [
        "svclassifier = SVC(kernel='rbf', gamma='auto').fit(X_train_imbal, y_train_imbal)"
      ],
      "execution_count": null,
      "outputs": []
    },
    {
      "cell_type": "code",
      "metadata": {
        "id": "qeb_ij5hMzCJ",
        "colab_type": "code",
        "colab": {
          "base_uri": "https://localhost:8080/",
          "height": 204
        },
        "outputId": "b906b109-1e47-4811-da47-bfb9f502b0ef"
      },
      "source": [
        "y_pred_m4_svm_gaussian = svclassifier.predict(X_test)\n",
        "\n",
        "print(confusion_matrix(y_test,y_pred_m4_svm_gaussian))\n",
        "print(classification_report(y_test,y_pred_m4_svm_gaussian))"
      ],
      "execution_count": null,
      "outputs": [
        {
          "output_type": "stream",
          "text": [
            "[[3343    0]\n",
            " [ 738 4933]]\n",
            "              precision    recall  f1-score   support\n",
            "\n",
            "         0.0       0.82      1.00      0.90      3343\n",
            "         1.0       1.00      0.87      0.93      5671\n",
            "\n",
            "    accuracy                           0.92      9014\n",
            "   macro avg       0.91      0.93      0.92      9014\n",
            "weighted avg       0.93      0.92      0.92      9014\n",
            "\n"
          ],
          "name": "stdout"
        }
      ]
    },
    {
      "cell_type": "markdown",
      "metadata": {
        "id": "rfwn_MfLM6oV",
        "colab_type": "text"
      },
      "source": [
        "| ACTUAL\\PREDICTED          | Mismatch (0) | Match (1) | TOTAL |\n",
        "|---------------------------|---------------------|-------------------------|-------|\n",
        "|    Mismatch (0)|      3343             |        0               |   3343   |\n",
        "|  Match (1)      |      738             |        4933              |   5671  |\n",
        "|        TOTAL              |      4081             |        4933             |   9014  |"
      ]
    },
    {
      "cell_type": "code",
      "metadata": {
        "id": "gE67elP1ulc7",
        "colab_type": "code",
        "colab": {}
      },
      "source": [
        "m4_svm_gaussian_auc = roc_auc_score(y_test, y_pred_m4_svm_gaussian)"
      ],
      "execution_count": null,
      "outputs": []
    },
    {
      "cell_type": "code",
      "metadata": {
        "id": "trJgkn2eM1u_",
        "colab_type": "code",
        "colab": {}
      },
      "source": [
        "M4_sp_SVM_gaussian=0.82\n",
        "M4_se_SVM_gaussian=1.00\n",
        "M4_acc_SVM_gaussian=0.92"
      ],
      "execution_count": null,
      "outputs": []
    },
    {
      "cell_type": "code",
      "metadata": {
        "id": "VU354t3lNPHH",
        "colab_type": "code",
        "colab": {}
      },
      "source": [
        "svm_gaussian_m4 = {'Model':\"Imbalanced - Mismatch\", 'Classifier':\"SVM - Gaussian\", 'Specificity':M4_sp_SVM_gaussian, 'Sensitivity':M4_se_SVM_gaussian, 'Accuracy':M4_acc_SVM_gaussian, 'AUC': m4_svm_gaussian_auc}\n",
        "results = results.append(svm_gaussian_m4, ignore_index=True)"
      ],
      "execution_count": null,
      "outputs": []
    },
    {
      "cell_type": "markdown",
      "metadata": {
        "id": "yokriL_cOUn9",
        "colab_type": "text"
      },
      "source": [
        "# **SVM (KERNEL: POLYNOMIAL)**"
      ]
    },
    {
      "cell_type": "markdown",
      "metadata": {
        "id": "axbv_lXfOnmn",
        "colab_type": "text"
      },
      "source": [
        "**Model 1 - Imbalanced towards Match**"
      ]
    },
    {
      "cell_type": "code",
      "metadata": {
        "id": "2DLSe15NNixA",
        "colab_type": "code",
        "colab": {}
      },
      "source": [
        "svclassifier = SVC(kernel='poly').fit(X_train, y_train)"
      ],
      "execution_count": null,
      "outputs": []
    },
    {
      "cell_type": "code",
      "metadata": {
        "id": "gEXXObZvO0Im",
        "colab_type": "code",
        "colab": {
          "base_uri": "https://localhost:8080/",
          "height": 204
        },
        "outputId": "7dd76a9e-e58f-476f-cc72-26e4596b3d73"
      },
      "source": [
        "y_pred_m1_svm_polynomial = svclassifier.predict(X_test)\n",
        "\n",
        "print(confusion_matrix(y_test,y_pred_m1_svm_polynomial))\n",
        "print(classification_report(y_test,y_pred_m1_svm_polynomial))"
      ],
      "execution_count": null,
      "outputs": [
        {
          "output_type": "stream",
          "text": [
            "[[3210  133]\n",
            " [1225 4446]]\n",
            "              precision    recall  f1-score   support\n",
            "\n",
            "         0.0       0.72      0.96      0.83      3343\n",
            "         1.0       0.97      0.78      0.87      5671\n",
            "\n",
            "    accuracy                           0.85      9014\n",
            "   macro avg       0.85      0.87      0.85      9014\n",
            "weighted avg       0.88      0.85      0.85      9014\n",
            "\n"
          ],
          "name": "stdout"
        }
      ]
    },
    {
      "cell_type": "markdown",
      "metadata": {
        "id": "fUEi5d8sO8j1",
        "colab_type": "text"
      },
      "source": [
        "| ACTUAL\\PREDICTED          | Mismatch (0) | Match (1) | TOTAL |\n",
        "|---------------------------|---------------------|-------------------------|-------|\n",
        "|    Mismatch (0)|      3210             |        133               |   3343   |\n",
        "|  Match (1)      |      1225             |        4446              |   5671  |\n",
        "|        TOTAL              |      4435             |        4579             |   9014  |"
      ]
    },
    {
      "cell_type": "code",
      "metadata": {
        "id": "PbSSWaY5vubg",
        "colab_type": "code",
        "colab": {}
      },
      "source": [
        "m1_svm_polynomial_auc = roc_auc_score(y_test, y_pred_m1_svm_polynomial)"
      ],
      "execution_count": null,
      "outputs": []
    },
    {
      "cell_type": "code",
      "metadata": {
        "id": "6Tac3qC2O2cs",
        "colab_type": "code",
        "colab": {}
      },
      "source": [
        "M1_sp_SVM_polynomial=0.72\n",
        "M1_se_SVM_polynomial=0.96\n",
        "M1_acc_SVM_polynomial=0.85"
      ],
      "execution_count": null,
      "outputs": []
    },
    {
      "cell_type": "code",
      "metadata": {
        "id": "lsxfbtAnPTqj",
        "colab_type": "code",
        "colab": {}
      },
      "source": [
        "svm_polynomial_m1 = {'Model':\"Imbalanced - Match\", 'Classifier':\"SVM - Polynomial\", 'Specificity':M1_sp_SVM_polynomial, 'Sensitivity':M1_se_SVM_polynomial, 'Accuracy':M1_acc_SVM_polynomial, 'AUC': m1_svm_polynomial_auc}\n",
        "results = results.append(svm_polynomial_m1, ignore_index=True)"
      ],
      "execution_count": null,
      "outputs": []
    },
    {
      "cell_type": "markdown",
      "metadata": {
        "id": "syKu2WcjRwJE",
        "colab_type": "text"
      },
      "source": [
        "**Model 2 - Manually Balanced**"
      ]
    },
    {
      "cell_type": "code",
      "metadata": {
        "id": "B458LwKBPqED",
        "colab_type": "code",
        "colab": {}
      },
      "source": [
        "svclassifier = SVC(kernel='poly').fit(X_train_bal, y_train_bal)"
      ],
      "execution_count": null,
      "outputs": []
    },
    {
      "cell_type": "code",
      "metadata": {
        "id": "WUbH7HCBR3KQ",
        "colab_type": "code",
        "colab": {
          "base_uri": "https://localhost:8080/",
          "height": 204
        },
        "outputId": "d166105b-c4e3-48c6-88e5-2213b03c957f"
      },
      "source": [
        "y_pred_m2_svm_polynomial = svclassifier.predict(X_test)\n",
        "\n",
        "print(confusion_matrix(y_test,y_pred_m2_svm_polynomial))\n",
        "print(classification_report(y_test,y_pred_m2_svm_polynomial))"
      ],
      "execution_count": null,
      "outputs": [
        {
          "output_type": "stream",
          "text": [
            "[[3343    0]\n",
            " [1627 4044]]\n",
            "              precision    recall  f1-score   support\n",
            "\n",
            "         0.0       0.67      1.00      0.80      3343\n",
            "         1.0       1.00      0.71      0.83      5671\n",
            "\n",
            "    accuracy                           0.82      9014\n",
            "   macro avg       0.84      0.86      0.82      9014\n",
            "weighted avg       0.88      0.82      0.82      9014\n",
            "\n"
          ],
          "name": "stdout"
        }
      ]
    },
    {
      "cell_type": "markdown",
      "metadata": {
        "id": "gAbKHIJCR88R",
        "colab_type": "text"
      },
      "source": [
        "| ACTUAL\\PREDICTED          | Mismatch (0) | Match (1) | TOTAL |\n",
        "|---------------------------|---------------------|-------------------------|-------|\n",
        "|    Mismatch (0)|      3343             |        0               |   3343   |\n",
        "|  Match (1)      |      1627             |        4044              |   5671  |\n",
        "|        TOTAL              |      4970             |        4044             |   9014  |"
      ]
    },
    {
      "cell_type": "code",
      "metadata": {
        "id": "cQO3lX-4w5Um",
        "colab_type": "code",
        "colab": {}
      },
      "source": [
        "m2_svm_polynomial_auc = roc_auc_score(y_test, y_pred_m2_svm_polynomial)"
      ],
      "execution_count": null,
      "outputs": []
    },
    {
      "cell_type": "code",
      "metadata": {
        "id": "jlEbNrN5R5pQ",
        "colab_type": "code",
        "colab": {}
      },
      "source": [
        "M2_sp_SVM_polynomial=0.67\n",
        "M2_se_SVM_polynomial=1.00\n",
        "M2_acc_SVM_polynomial=0.82"
      ],
      "execution_count": null,
      "outputs": []
    },
    {
      "cell_type": "code",
      "metadata": {
        "id": "9hXE0dT9SbTY",
        "colab_type": "code",
        "colab": {}
      },
      "source": [
        "svm_polynomial_m2 = {'Model':\"Balanced - Manual\", 'Classifier':\"SVM - Polynomial\", 'Specificity':M2_sp_SVM_polynomial, 'Sensitivity':M2_se_SVM_polynomial, 'Accuracy':M2_acc_SVM_polynomial, 'AUC': m2_svm_polynomial_auc}\n",
        "results = results.append(svm_polynomial_m2, ignore_index=True)"
      ],
      "execution_count": null,
      "outputs": []
    },
    {
      "cell_type": "markdown",
      "metadata": {
        "id": "l_VzniprTsHy",
        "colab_type": "text"
      },
      "source": [
        "**Model 3 - SMOTE Balanced**"
      ]
    },
    {
      "cell_type": "code",
      "metadata": {
        "id": "9BDYbJdnS01_",
        "colab_type": "code",
        "colab": {}
      },
      "source": [
        "svclassifier = SVC(kernel='poly').fit(X_train_resampled, y_train_resampled)"
      ],
      "execution_count": null,
      "outputs": []
    },
    {
      "cell_type": "code",
      "metadata": {
        "id": "gBInk6ryTy7U",
        "colab_type": "code",
        "colab": {
          "base_uri": "https://localhost:8080/",
          "height": 204
        },
        "outputId": "d50795cc-0ca9-4f20-b01d-42781135b679"
      },
      "source": [
        "y_pred_m3_svm_polynomial = svclassifier.predict(X_test)\n",
        "\n",
        "print(confusion_matrix(y_test,y_pred_m3_svm_polynomial))\n",
        "print(classification_report(y_test,y_pred_m3_svm_polynomial))"
      ],
      "execution_count": null,
      "outputs": [
        {
          "output_type": "stream",
          "text": [
            "[[3343    0]\n",
            " [1628 4043]]\n",
            "              precision    recall  f1-score   support\n",
            "\n",
            "         0.0       0.67      1.00      0.80      3343\n",
            "         1.0       1.00      0.71      0.83      5671\n",
            "\n",
            "    accuracy                           0.82      9014\n",
            "   macro avg       0.84      0.86      0.82      9014\n",
            "weighted avg       0.88      0.82      0.82      9014\n",
            "\n"
          ],
          "name": "stdout"
        }
      ]
    },
    {
      "cell_type": "markdown",
      "metadata": {
        "id": "se1QTp34T4KV",
        "colab_type": "text"
      },
      "source": [
        "| ACTUAL\\PREDICTED          | Mismatch (0) | Match (1) | TOTAL |\n",
        "|---------------------------|---------------------|-------------------------|-------|\n",
        "|    Mismatch (0)|      3343             |        0               |   3343   |\n",
        "|  Match (1)      |      1628             |        4043              |   5671  |\n",
        "|        TOTAL              |      4971             |        4043             |   9014  |"
      ]
    },
    {
      "cell_type": "code",
      "metadata": {
        "id": "iKoNU0WBxiK9",
        "colab_type": "code",
        "colab": {}
      },
      "source": [
        "m3_svm_polynomial_auc = roc_auc_score(y_test, y_pred_m3_svm_polynomial)"
      ],
      "execution_count": null,
      "outputs": []
    },
    {
      "cell_type": "code",
      "metadata": {
        "id": "K05qpGUUT1nT",
        "colab_type": "code",
        "colab": {}
      },
      "source": [
        "M3_sp_SVM_polynomial=0.67\n",
        "M3_se_SVM_polynomial=1.00\n",
        "M3_acc_SVM_polynomial=0.82"
      ],
      "execution_count": null,
      "outputs": []
    },
    {
      "cell_type": "code",
      "metadata": {
        "id": "G66fZeyMUMG3",
        "colab_type": "code",
        "colab": {}
      },
      "source": [
        "svm_polynomial_m3 = {'Model':\"Balanced - SMOTE\", 'Classifier':\"SVM - Polynomial\", 'Specificity':M3_sp_SVM_polynomial, 'Sensitivity':M3_se_SVM_polynomial, 'Accuracy':M3_acc_SVM_polynomial, 'AUC': m3_svm_polynomial_auc}\n",
        "results = results.append(svm_polynomial_m3, ignore_index=True)"
      ],
      "execution_count": null,
      "outputs": []
    },
    {
      "cell_type": "markdown",
      "metadata": {
        "id": "xc0u9zjWVhTn",
        "colab_type": "text"
      },
      "source": [
        "**Model 4 - Imbalanced towards Mismatch**"
      ]
    },
    {
      "cell_type": "code",
      "metadata": {
        "id": "NVHcKhJUUZr7",
        "colab_type": "code",
        "colab": {}
      },
      "source": [
        "svclassifier = SVC(kernel='poly').fit(X_train_imbal, y_train_imbal)"
      ],
      "execution_count": null,
      "outputs": []
    },
    {
      "cell_type": "code",
      "metadata": {
        "id": "-HqvpQmtVm9B",
        "colab_type": "code",
        "colab": {
          "base_uri": "https://localhost:8080/",
          "height": 204
        },
        "outputId": "633cc1a0-8604-4668-a9eb-adc64d04bb3d"
      },
      "source": [
        "y_pred_m4_svm_polynomial = svclassifier.predict(X_test)\n",
        "\n",
        "print(confusion_matrix(y_test,y_pred_m4_svm_polynomial))\n",
        "print(classification_report(y_test,y_pred_m4_svm_polynomial))"
      ],
      "execution_count": null,
      "outputs": [
        {
          "output_type": "stream",
          "text": [
            "[[3343    0]\n",
            " [1856 3815]]\n",
            "              precision    recall  f1-score   support\n",
            "\n",
            "         0.0       0.64      1.00      0.78      3343\n",
            "         1.0       1.00      0.67      0.80      5671\n",
            "\n",
            "    accuracy                           0.79      9014\n",
            "   macro avg       0.82      0.84      0.79      9014\n",
            "weighted avg       0.87      0.79      0.80      9014\n",
            "\n"
          ],
          "name": "stdout"
        }
      ]
    },
    {
      "cell_type": "markdown",
      "metadata": {
        "id": "pEZO5W2LVwAM",
        "colab_type": "text"
      },
      "source": [
        "| ACTUAL\\PREDICTED          | Mismatch (0) | Match (1) | TOTAL |\n",
        "|---------------------------|---------------------|-------------------------|-------|\n",
        "|    Mismatch (0)|      3343             |        0               |   3343   |\n",
        "|  Match (1)      |      1856             |        3815              |   5671  |\n",
        "|        TOTAL              |      5199             |        3815             |   9014  |"
      ]
    },
    {
      "cell_type": "code",
      "metadata": {
        "id": "ZbzIuUMbyj4F",
        "colab_type": "code",
        "colab": {}
      },
      "source": [
        "m4_svm_polynomial_auc = roc_auc_score(y_test, y_pred_m4_svm_polynomial)"
      ],
      "execution_count": null,
      "outputs": []
    },
    {
      "cell_type": "code",
      "metadata": {
        "id": "w2USkK-uVo-m",
        "colab_type": "code",
        "colab": {}
      },
      "source": [
        "M4_sp_SVM_polynomial=0.64\n",
        "M4_se_SVM_polynomial=1.00\n",
        "M4_acc_SVM_polynomial=0.79"
      ],
      "execution_count": null,
      "outputs": []
    },
    {
      "cell_type": "code",
      "metadata": {
        "id": "9oGNOH2KWA2O",
        "colab_type": "code",
        "colab": {}
      },
      "source": [
        "svm_polynomial_m4 = {'Model':\"Imbalanced - Mismatch\", 'Classifier':\"SVM - Polynomial\", 'Specificity':M4_sp_SVM_polynomial, 'Sensitivity':M4_se_SVM_polynomial, 'Accuracy':M4_acc_SVM_polynomial, 'AUC': m4_svm_polynomial_auc}\n",
        "results = results.append(svm_polynomial_m4, ignore_index=True)"
      ],
      "execution_count": null,
      "outputs": []
    },
    {
      "cell_type": "markdown",
      "metadata": {
        "id": "vOd1KtiuYhLV",
        "colab_type": "text"
      },
      "source": [
        "# **SVM (KERNEL: SIGMOID)**"
      ]
    },
    {
      "cell_type": "markdown",
      "metadata": {
        "id": "yWyL-YfnYnzb",
        "colab_type": "text"
      },
      "source": [
        "**Model 1 - Imbalanced towards Match**"
      ]
    },
    {
      "cell_type": "code",
      "metadata": {
        "id": "kd8Xl7MxWOG3",
        "colab_type": "code",
        "colab": {}
      },
      "source": [
        "svclassifier = SVC(kernel='sigmoid').fit(X_train, y_train)"
      ],
      "execution_count": null,
      "outputs": []
    },
    {
      "cell_type": "code",
      "metadata": {
        "id": "oGUBHMurYtUr",
        "colab_type": "code",
        "colab": {
          "base_uri": "https://localhost:8080/",
          "height": 204
        },
        "outputId": "62d4b174-56a2-416e-dd0e-924fa8e4145f"
      },
      "source": [
        "y_pred_m1_svm_sigmoid = svclassifier.predict(X_test)\n",
        "\n",
        "print(confusion_matrix(y_test,y_pred_m1_svm_sigmoid))\n",
        "print(classification_report(y_test,y_pred_m1_svm_sigmoid))"
      ],
      "execution_count": null,
      "outputs": [
        {
          "output_type": "stream",
          "text": [
            "[[1176 2167]\n",
            " [2065 3606]]\n",
            "              precision    recall  f1-score   support\n",
            "\n",
            "         0.0       0.36      0.35      0.36      3343\n",
            "         1.0       0.62      0.64      0.63      5671\n",
            "\n",
            "    accuracy                           0.53      9014\n",
            "   macro avg       0.49      0.49      0.49      9014\n",
            "weighted avg       0.53      0.53      0.53      9014\n",
            "\n"
          ],
          "name": "stdout"
        }
      ]
    },
    {
      "cell_type": "markdown",
      "metadata": {
        "id": "Zd2L9PYTYzJR",
        "colab_type": "text"
      },
      "source": [
        "| ACTUAL\\PREDICTED          | Mismatch (0) | Match (1) | TOTAL |\n",
        "|---------------------------|---------------------|-------------------------|-------|\n",
        "|    Mismatch (0)|      1176             |        2167              |   3343   |\n",
        "|  Match (1)      |      2065             |        3606              |   5671  |\n",
        "|        TOTAL              |      3241             |        5773              |   9014  |"
      ]
    },
    {
      "cell_type": "code",
      "metadata": {
        "id": "Po9d9a-Qzigk",
        "colab_type": "code",
        "colab": {}
      },
      "source": [
        "m1_svm_sigmoid_auc = roc_auc_score(y_test, y_pred_m1_svm_sigmoid)"
      ],
      "execution_count": null,
      "outputs": []
    },
    {
      "cell_type": "code",
      "metadata": {
        "id": "EUtdGdnBYv7W",
        "colab_type": "code",
        "colab": {}
      },
      "source": [
        "M1_sp_SVM_sigmoid=0.36\n",
        "M1_se_SVM_sigmoid=0.35\n",
        "M1_acc_SVM_sigmoid=0.53"
      ],
      "execution_count": null,
      "outputs": []
    },
    {
      "cell_type": "code",
      "metadata": {
        "id": "GnAqKAOHZ8Yp",
        "colab_type": "code",
        "colab": {}
      },
      "source": [
        "svm_sigmoid_m1 = {'Model':\"Imbalanced - Match\", 'Classifier':\"SVM - Sigmoid\", 'Specificity':M1_sp_SVM_sigmoid, 'Sensitivity':M1_se_SVM_sigmoid, 'Accuracy':M1_acc_SVM_sigmoid, 'AUC': m1_svm_sigmoid_auc}\n",
        "results = results.append(svm_sigmoid_m1, ignore_index=True)"
      ],
      "execution_count": null,
      "outputs": []
    },
    {
      "cell_type": "markdown",
      "metadata": {
        "id": "F81qw4DLbfLw",
        "colab_type": "text"
      },
      "source": [
        "**Model 2 - Manually Balanced**"
      ]
    },
    {
      "cell_type": "code",
      "metadata": {
        "id": "bUaQi-SzagZz",
        "colab_type": "code",
        "colab": {}
      },
      "source": [
        "svclassifier = SVC(kernel='sigmoid').fit(X_train_bal, y_train_bal)"
      ],
      "execution_count": null,
      "outputs": []
    },
    {
      "cell_type": "code",
      "metadata": {
        "id": "0suoubA3bj7i",
        "colab_type": "code",
        "colab": {
          "base_uri": "https://localhost:8080/",
          "height": 204
        },
        "outputId": "ca66c98e-bfbc-4376-dcda-8fb310a25a79"
      },
      "source": [
        "y_pred_m2_svm_sigmoid = svclassifier.predict(X_test)\n",
        "\n",
        "print(confusion_matrix(y_test,y_pred_m2_svm_sigmoid))\n",
        "print(classification_report(y_test,y_pred_m2_svm_sigmoid))"
      ],
      "execution_count": null,
      "outputs": [
        {
          "output_type": "stream",
          "text": [
            "[[1802 1541]\n",
            " [2620 3051]]\n",
            "              precision    recall  f1-score   support\n",
            "\n",
            "         0.0       0.41      0.54      0.46      3343\n",
            "         1.0       0.66      0.54      0.59      5671\n",
            "\n",
            "    accuracy                           0.54      9014\n",
            "   macro avg       0.54      0.54      0.53      9014\n",
            "weighted avg       0.57      0.54      0.55      9014\n",
            "\n"
          ],
          "name": "stdout"
        }
      ]
    },
    {
      "cell_type": "markdown",
      "metadata": {
        "id": "ijgicxZvbo8S",
        "colab_type": "text"
      },
      "source": [
        "| ACTUAL\\PREDICTED          | Mismatch (0) | Match (1) | TOTAL |\n",
        "|---------------------------|---------------------|-------------------------|-------|\n",
        "|    Mismatch (0)|      1802             |        1541              |   3343   |\n",
        "|  Match (1)      |      2620             |        3051              |   5671  |\n",
        "|        TOTAL              |      4422             |        4592              |   9014  |"
      ]
    },
    {
      "cell_type": "code",
      "metadata": {
        "id": "RKFFcZtb1Ehj",
        "colab_type": "code",
        "colab": {}
      },
      "source": [
        "m2_svm_sigmoid_auc = roc_auc_score(y_test, y_pred_m2_svm_sigmoid)"
      ],
      "execution_count": null,
      "outputs": []
    },
    {
      "cell_type": "code",
      "metadata": {
        "id": "RZWMwsxHbmIL",
        "colab_type": "code",
        "colab": {}
      },
      "source": [
        "M2_sp_SVM_sigmoid=0.41\n",
        "M2_se_SVM_sigmoid=0.54\n",
        "M2_acc_SVM_sigmoid=0.54"
      ],
      "execution_count": null,
      "outputs": []
    },
    {
      "cell_type": "code",
      "metadata": {
        "id": "-GvJFqHocCM6",
        "colab_type": "code",
        "colab": {}
      },
      "source": [
        "svm_sigmoid_m2 = {'Model':\"Balanced - Manual\", 'Classifier':\"SVM - Sigmoid\", 'Specificity':M2_sp_SVM_sigmoid, 'Sensitivity':M2_se_SVM_sigmoid, 'Accuracy':M2_acc_SVM_sigmoid, 'AUC': m2_svm_sigmoid_auc}\n",
        "results = results.append(svm_sigmoid_m2, ignore_index=True)"
      ],
      "execution_count": null,
      "outputs": []
    },
    {
      "cell_type": "markdown",
      "metadata": {
        "id": "wmix_A4EdF1_",
        "colab_type": "text"
      },
      "source": [
        "**Model 3 - SMOTE Balanced**"
      ]
    },
    {
      "cell_type": "code",
      "metadata": {
        "id": "FLyeozO-cNPc",
        "colab_type": "code",
        "colab": {}
      },
      "source": [
        "svclassifier = SVC(kernel='sigmoid').fit(X_train_resampled, y_train_resampled)"
      ],
      "execution_count": null,
      "outputs": []
    },
    {
      "cell_type": "code",
      "metadata": {
        "id": "y8_W_mnoeThP",
        "colab_type": "code",
        "colab": {
          "base_uri": "https://localhost:8080/",
          "height": 204
        },
        "outputId": "b6e1b2aa-22ad-4dbf-e315-c28af21557fd"
      },
      "source": [
        "y_pred_m3_svm_sigmoid = svclassifier.predict(X_test)\n",
        "\n",
        "print(confusion_matrix(y_test,y_pred_m3_svm_sigmoid))\n",
        "print(classification_report(y_test,y_pred_m3_svm_sigmoid))"
      ],
      "execution_count": null,
      "outputs": [
        {
          "output_type": "stream",
          "text": [
            "[[1799 1544]\n",
            " [2618 3053]]\n",
            "              precision    recall  f1-score   support\n",
            "\n",
            "         0.0       0.41      0.54      0.46      3343\n",
            "         1.0       0.66      0.54      0.59      5671\n",
            "\n",
            "    accuracy                           0.54      9014\n",
            "   macro avg       0.54      0.54      0.53      9014\n",
            "weighted avg       0.57      0.54      0.55      9014\n",
            "\n"
          ],
          "name": "stdout"
        }
      ]
    },
    {
      "cell_type": "markdown",
      "metadata": {
        "id": "KnCzgFX-eWXa",
        "colab_type": "text"
      },
      "source": [
        "| ACTUAL\\PREDICTED          | Mismatch (0) | Match (1) | TOTAL |\n",
        "|---------------------------|---------------------|-------------------------|-------|\n",
        "|    Mismatch (0)|      1799             |        1544              |   3343   |\n",
        "|  Match (1)      |      2618             |        3053              |   5671  |\n",
        "|        TOTAL              |      4417             |        4597              |   9014  |"
      ]
    },
    {
      "cell_type": "code",
      "metadata": {
        "id": "NFjGXCZ-18jU",
        "colab_type": "code",
        "colab": {}
      },
      "source": [
        "m3_svm_sigmoid_auc = roc_auc_score(y_test, y_pred_m3_svm_sigmoid)"
      ],
      "execution_count": null,
      "outputs": []
    },
    {
      "cell_type": "code",
      "metadata": {
        "id": "C8VSTsZneVko",
        "colab_type": "code",
        "colab": {}
      },
      "source": [
        "M3_sp_SVM_sigmoid=0.41\n",
        "M3_se_SVM_sigmoid=0.54\n",
        "M3_acc_SVM_sigmoid=0.54"
      ],
      "execution_count": null,
      "outputs": []
    },
    {
      "cell_type": "code",
      "metadata": {
        "id": "jyDiImI6etSy",
        "colab_type": "code",
        "colab": {}
      },
      "source": [
        "svm_sigmoid_m3 = {'Model':\"Balanced - SMOTE\", 'Classifier':\"SVM - Sigmoid\", 'Specificity':M3_sp_SVM_sigmoid, 'Sensitivity':M3_se_SVM_sigmoid, 'Accuracy':M3_acc_SVM_sigmoid, 'AUC': m3_svm_sigmoid_auc}\n",
        "results = results.append(svm_sigmoid_m3, ignore_index=True)"
      ],
      "execution_count": null,
      "outputs": []
    },
    {
      "cell_type": "markdown",
      "metadata": {
        "id": "6lm8xXS5fGaq",
        "colab_type": "text"
      },
      "source": [
        "**Model 4 - Imbalanced towards Mismatch**"
      ]
    },
    {
      "cell_type": "code",
      "metadata": {
        "id": "IhEhqF1We7AS",
        "colab_type": "code",
        "colab": {}
      },
      "source": [
        "svclassifier = SVC(kernel='sigmoid').fit(X_train_imbal, y_train_imbal)"
      ],
      "execution_count": null,
      "outputs": []
    },
    {
      "cell_type": "code",
      "metadata": {
        "id": "iHoDG5oJf9J_",
        "colab_type": "code",
        "colab": {
          "base_uri": "https://localhost:8080/",
          "height": 204
        },
        "outputId": "1a23e52d-c6c8-4708-a9f3-cf73d623e687"
      },
      "source": [
        "y_pred_m4_svm_sigmoid = svclassifier.predict(X_test)\n",
        "\n",
        "print(confusion_matrix(y_test,y_pred_m4_svm_sigmoid))\n",
        "print(classification_report(y_test,y_pred_m4_svm_sigmoid))"
      ],
      "execution_count": null,
      "outputs": [
        {
          "output_type": "stream",
          "text": [
            "[[2217 1126]\n",
            " [3710 1961]]\n",
            "              precision    recall  f1-score   support\n",
            "\n",
            "         0.0       0.37      0.66      0.48      3343\n",
            "         1.0       0.64      0.35      0.45      5671\n",
            "\n",
            "    accuracy                           0.46      9014\n",
            "   macro avg       0.50      0.50      0.46      9014\n",
            "weighted avg       0.54      0.46      0.46      9014\n",
            "\n"
          ],
          "name": "stdout"
        }
      ]
    },
    {
      "cell_type": "markdown",
      "metadata": {
        "id": "xrZhivC6gBLU",
        "colab_type": "text"
      },
      "source": [
        "| ACTUAL\\PREDICTED          | Mismatch (0) | Match (1) | TOTAL |\n",
        "|---------------------------|---------------------|-------------------------|-------|\n",
        "|    Mismatch (0)|      2217             |        1126              |   3343   |\n",
        "|  Match (1)      |      3710             |        1961              |   5671  |\n",
        "|        TOTAL              |      5927             |        3087              |   9014  |"
      ]
    },
    {
      "cell_type": "code",
      "metadata": {
        "id": "L5tbDMBC2z8D",
        "colab_type": "code",
        "colab": {}
      },
      "source": [
        "m4_svm_sigmoid_auc = roc_auc_score(y_test, y_pred_m4_svm_sigmoid)"
      ],
      "execution_count": null,
      "outputs": []
    },
    {
      "cell_type": "code",
      "metadata": {
        "id": "tIXcTlnyf-7H",
        "colab_type": "code",
        "colab": {}
      },
      "source": [
        "M4_sp_SVM_sigmoid=0.37\n",
        "M4_se_SVM_sigmoid=0.66\n",
        "M4_acc_SVM_sigmoid=0.46"
      ],
      "execution_count": null,
      "outputs": []
    },
    {
      "cell_type": "code",
      "metadata": {
        "id": "WwVff0KOgWvz",
        "colab_type": "code",
        "colab": {}
      },
      "source": [
        "svm_sigmoid_m4 = {'Model':\"Imbalanced - Mismatch\", 'Classifier':\"SVM - Sigmoid\", 'Specificity':M4_sp_SVM_sigmoid, 'Sensitivity':M4_se_SVM_sigmoid, 'Accuracy':M4_acc_SVM_sigmoid, 'AUC': m4_svm_sigmoid_auc}\n",
        "results = results.append(svm_sigmoid_m4, ignore_index=True)"
      ],
      "execution_count": null,
      "outputs": []
    },
    {
      "cell_type": "markdown",
      "metadata": {
        "id": "EHMqdR4XkN33",
        "colab_type": "text"
      },
      "source": [
        "# **NAIVE BAYES (GAUSSIAN)**"
      ]
    },
    {
      "cell_type": "markdown",
      "metadata": {
        "id": "efhjO8LnkgGe",
        "colab_type": "text"
      },
      "source": [
        "**Model 1 - Imbalanced towards Match**"
      ]
    },
    {
      "cell_type": "code",
      "metadata": {
        "id": "fG3cmp8iggW9",
        "colab_type": "code",
        "colab": {}
      },
      "source": [
        "gnb = GaussianNB().fit(X_train, y_train)"
      ],
      "execution_count": null,
      "outputs": []
    },
    {
      "cell_type": "code",
      "metadata": {
        "id": "2zitHlnRkmUC",
        "colab_type": "code",
        "colab": {
          "base_uri": "https://localhost:8080/",
          "height": 204
        },
        "outputId": "fcbcec90-75d3-46ad-d5f7-e8bcef1b7c8d"
      },
      "source": [
        "y_pred_m1_naive_gaussian = gnb.predict(X_test) \n",
        "print(confusion_matrix(y_test,y_pred_m1_naive_gaussian))\n",
        "print(classification_report(y_test,y_pred_m1_naive_gaussian))"
      ],
      "execution_count": null,
      "outputs": [
        {
          "output_type": "stream",
          "text": [
            "[[3343    0]\n",
            " [ 324 5347]]\n",
            "              precision    recall  f1-score   support\n",
            "\n",
            "         0.0       0.91      1.00      0.95      3343\n",
            "         1.0       1.00      0.94      0.97      5671\n",
            "\n",
            "    accuracy                           0.96      9014\n",
            "   macro avg       0.96      0.97      0.96      9014\n",
            "weighted avg       0.97      0.96      0.96      9014\n",
            "\n"
          ],
          "name": "stdout"
        }
      ]
    },
    {
      "cell_type": "markdown",
      "metadata": {
        "id": "NkyguRIek414",
        "colab_type": "text"
      },
      "source": [
        "| ACTUAL\\PREDICTED          | Mismatch (0) | Match (1) | TOTAL |\n",
        "|---------------------------|---------------------|-------------------------|-------|\n",
        "|    Mismatch (0)|      3343             |        0              |   3343   |\n",
        "|  Match (1)      |      324             |        5347              |   5671  |\n",
        "|        TOTAL              |      3667             |        5347              |   9014  |"
      ]
    },
    {
      "cell_type": "code",
      "metadata": {
        "id": "6E-oEthf4WDk",
        "colab_type": "code",
        "colab": {}
      },
      "source": [
        "m1_naive_gaussian_auc = roc_auc_score(y_test, y_pred_m1_naive_gaussian)"
      ],
      "execution_count": null,
      "outputs": []
    },
    {
      "cell_type": "code",
      "metadata": {
        "id": "ZgouiP4ukoK0",
        "colab_type": "code",
        "colab": {}
      },
      "source": [
        "M1_sp_naive_gaussian=0.91\n",
        "M1_se_naive_gaussian=1.00\n",
        "M1_acc_naive_gaussian=0.96"
      ],
      "execution_count": null,
      "outputs": []
    },
    {
      "cell_type": "code",
      "metadata": {
        "id": "-GBgaMAVlYCT",
        "colab_type": "code",
        "colab": {}
      },
      "source": [
        "naive_gaussian_m1 = {'Model':\"Imbalanced - Match\", 'Classifier':\"Naive Bayes - Gaussian\", 'Specificity':M1_sp_naive_gaussian, 'Sensitivity':M1_se_naive_gaussian, 'Accuracy':M1_acc_naive_gaussian, 'AUC': m1_naive_gaussian_auc}\n",
        "results = results.append(naive_gaussian_m1, ignore_index=True)"
      ],
      "execution_count": null,
      "outputs": []
    },
    {
      "cell_type": "markdown",
      "metadata": {
        "id": "WIYtrG-GnzjC",
        "colab_type": "text"
      },
      "source": [
        "**Model 2 - Manually Balanced**"
      ]
    },
    {
      "cell_type": "code",
      "metadata": {
        "id": "wm942fsjm5Ty",
        "colab_type": "code",
        "colab": {}
      },
      "source": [
        "gnb = GaussianNB().fit(X_train_bal, y_train_bal)"
      ],
      "execution_count": null,
      "outputs": []
    },
    {
      "cell_type": "code",
      "metadata": {
        "id": "z49Zvu7Tn_6j",
        "colab_type": "code",
        "colab": {
          "base_uri": "https://localhost:8080/",
          "height": 204
        },
        "outputId": "f380c84d-4689-4025-85d1-439004b53635"
      },
      "source": [
        "y_pred_m2_naive_gaussian = gnb.predict(X_test) \n",
        "print(confusion_matrix(y_test,y_pred_m2_naive_gaussian))\n",
        "print(classification_report(y_test,y_pred_m2_naive_gaussian))"
      ],
      "execution_count": null,
      "outputs": [
        {
          "output_type": "stream",
          "text": [
            "[[3343    0]\n",
            " [ 324 5347]]\n",
            "              precision    recall  f1-score   support\n",
            "\n",
            "         0.0       0.91      1.00      0.95      3343\n",
            "         1.0       1.00      0.94      0.97      5671\n",
            "\n",
            "    accuracy                           0.96      9014\n",
            "   macro avg       0.96      0.97      0.96      9014\n",
            "weighted avg       0.97      0.96      0.96      9014\n",
            "\n"
          ],
          "name": "stdout"
        }
      ]
    },
    {
      "cell_type": "markdown",
      "metadata": {
        "id": "IPcAd-l3oKm3",
        "colab_type": "text"
      },
      "source": [
        "| ACTUAL\\PREDICTED          | Mismatch (0) | Match (1) | TOTAL |\n",
        "|---------------------------|---------------------|-------------------------|-------|\n",
        "|    Mismatch (0)|      3343             |        0              |   3343   |\n",
        "|  Match (1)      |      324             |        5347              |   5671  |\n",
        "|        TOTAL              |      3667             |        5347              |   9014  |"
      ]
    },
    {
      "cell_type": "code",
      "metadata": {
        "id": "o6F9qGND47wz",
        "colab_type": "code",
        "colab": {}
      },
      "source": [
        "m2_naive_gaussian_auc = roc_auc_score(y_test, y_pred_m2_naive_gaussian)"
      ],
      "execution_count": null,
      "outputs": []
    },
    {
      "cell_type": "code",
      "metadata": {
        "id": "k2BKXoJPoCCH",
        "colab_type": "code",
        "colab": {}
      },
      "source": [
        "M2_sp_naive_gaussian=0.91\n",
        "M2_se_naive_gaussian=1.00\n",
        "M2_acc_naive_gaussian=0.96"
      ],
      "execution_count": null,
      "outputs": []
    },
    {
      "cell_type": "code",
      "metadata": {
        "id": "YpyhzUL1oc_f",
        "colab_type": "code",
        "colab": {}
      },
      "source": [
        "naive_gaussian_m2 = {'Model':\"Balanced - Manual\", 'Classifier':\"Naive Bayes - Gaussian\", 'Specificity':M2_sp_naive_gaussian, 'Sensitivity':M2_se_naive_gaussian, 'Accuracy':M2_acc_naive_gaussian, 'AUC': m2_naive_gaussian_auc}\n",
        "results = results.append(naive_gaussian_m2, ignore_index=True)"
      ],
      "execution_count": null,
      "outputs": []
    },
    {
      "cell_type": "markdown",
      "metadata": {
        "id": "ese3046apTYu",
        "colab_type": "text"
      },
      "source": [
        "**Model 3 - SMOTE Balanced**"
      ]
    },
    {
      "cell_type": "code",
      "metadata": {
        "id": "IgIF-8INonnW",
        "colab_type": "code",
        "colab": {}
      },
      "source": [
        "gnb = GaussianNB().fit(X_train_resampled, y_train_resampled)"
      ],
      "execution_count": null,
      "outputs": []
    },
    {
      "cell_type": "code",
      "metadata": {
        "id": "aIHdl2RmpiZV",
        "colab_type": "code",
        "colab": {
          "base_uri": "https://localhost:8080/",
          "height": 204
        },
        "outputId": "84fbacd2-85c5-4c53-aa86-1d2bf6ffe04e"
      },
      "source": [
        "y_pred_m3_naive_gaussian = gnb.predict(X_test) \n",
        "print(confusion_matrix(y_test,y_pred_m3_naive_gaussian))\n",
        "print(classification_report(y_test,y_pred_m3_naive_gaussian))"
      ],
      "execution_count": null,
      "outputs": [
        {
          "output_type": "stream",
          "text": [
            "[[3343    0]\n",
            " [ 324 5347]]\n",
            "              precision    recall  f1-score   support\n",
            "\n",
            "         0.0       0.91      1.00      0.95      3343\n",
            "         1.0       1.00      0.94      0.97      5671\n",
            "\n",
            "    accuracy                           0.96      9014\n",
            "   macro avg       0.96      0.97      0.96      9014\n",
            "weighted avg       0.97      0.96      0.96      9014\n",
            "\n"
          ],
          "name": "stdout"
        }
      ]
    },
    {
      "cell_type": "markdown",
      "metadata": {
        "id": "iecRVtWIpnzY",
        "colab_type": "text"
      },
      "source": [
        "| ACTUAL\\PREDICTED          | Mismatch (0) | Match (1) | TOTAL |\n",
        "|---------------------------|---------------------|-------------------------|-------|\n",
        "|    Mismatch (0)|      3343             |        0              |   3343   |\n",
        "|  Match (1)      |      324             |        5347              |   5671  |\n",
        "|        TOTAL              |      3667             |        5347              |   9014  |"
      ]
    },
    {
      "cell_type": "code",
      "metadata": {
        "id": "wozn3_mx61rR",
        "colab_type": "code",
        "colab": {}
      },
      "source": [
        "m3_naive_gaussian_auc = roc_auc_score(y_test, y_pred_m3_naive_gaussian)"
      ],
      "execution_count": null,
      "outputs": []
    },
    {
      "cell_type": "code",
      "metadata": {
        "id": "epMCn4dtpks2",
        "colab_type": "code",
        "colab": {}
      },
      "source": [
        "M3_sp_naive_gaussian=0.91\n",
        "M3_se_naive_gaussian=1.00\n",
        "M3_acc_naive_gaussian=0.96"
      ],
      "execution_count": null,
      "outputs": []
    },
    {
      "cell_type": "code",
      "metadata": {
        "id": "vdGmbN8Lp2D9",
        "colab_type": "code",
        "colab": {}
      },
      "source": [
        "naive_gaussian_m3 = {'Model':\"Balanced - SMOTE\", 'Classifier':\"Naive Bayes - Gaussian\", 'Specificity':M3_sp_naive_gaussian, 'Sensitivity':M3_se_naive_gaussian, 'Accuracy':M3_acc_naive_gaussian, 'AUC': m3_naive_gaussian_auc}\n",
        "results = results.append(naive_gaussian_m3, ignore_index=True)"
      ],
      "execution_count": null,
      "outputs": []
    },
    {
      "cell_type": "markdown",
      "metadata": {
        "id": "S9iZEb_jqyJx",
        "colab_type": "text"
      },
      "source": [
        "**Model 4 - Imbalanced towards Mismatch**"
      ]
    },
    {
      "cell_type": "code",
      "metadata": {
        "id": "BnKI96Hsp-Ry",
        "colab_type": "code",
        "colab": {}
      },
      "source": [
        "gnb = GaussianNB().fit(X_train_imbal, y_train_imbal)"
      ],
      "execution_count": null,
      "outputs": []
    },
    {
      "cell_type": "code",
      "metadata": {
        "id": "xwf4lIVyq99-",
        "colab_type": "code",
        "colab": {
          "base_uri": "https://localhost:8080/",
          "height": 204
        },
        "outputId": "d38e0f21-90f2-42d4-958d-68007e21e25f"
      },
      "source": [
        "y_pred_m4_naive_gaussian = gnb.predict(X_test) \n",
        "print(confusion_matrix(y_test,y_pred_m4_naive_gaussian))\n",
        "print(classification_report(y_test,y_pred_m4_naive_gaussian))"
      ],
      "execution_count": null,
      "outputs": [
        {
          "output_type": "stream",
          "text": [
            "[[3343    0]\n",
            " [ 324 5347]]\n",
            "              precision    recall  f1-score   support\n",
            "\n",
            "         0.0       0.91      1.00      0.95      3343\n",
            "         1.0       1.00      0.94      0.97      5671\n",
            "\n",
            "    accuracy                           0.96      9014\n",
            "   macro avg       0.96      0.97      0.96      9014\n",
            "weighted avg       0.97      0.96      0.96      9014\n",
            "\n"
          ],
          "name": "stdout"
        }
      ]
    },
    {
      "cell_type": "markdown",
      "metadata": {
        "id": "Y4ovrQjprDRq",
        "colab_type": "text"
      },
      "source": [
        "| ACTUAL\\PREDICTED          | Mismatch (0) | Match (1) | TOTAL |\n",
        "|---------------------------|---------------------|-------------------------|-------|\n",
        "|    Mismatch (0)|      3343             |        0              |   3343   |\n",
        "|  Match (1)      |      324             |        5347              |   5671  |\n",
        "|        TOTAL              |      3667             |        5347              |   9014  |"
      ]
    },
    {
      "cell_type": "code",
      "metadata": {
        "id": "bWPtI21t7HVK",
        "colab_type": "code",
        "colab": {}
      },
      "source": [
        "m4_naive_gaussian_auc = roc_auc_score(y_test, y_pred_m4_naive_gaussian)"
      ],
      "execution_count": null,
      "outputs": []
    },
    {
      "cell_type": "code",
      "metadata": {
        "id": "TALxSYlTrBFk",
        "colab_type": "code",
        "colab": {}
      },
      "source": [
        "M4_sp_naive_gaussian=0.91\n",
        "M4_se_naive_gaussian=1.00\n",
        "M4_acc_naive_gaussian=0.96"
      ],
      "execution_count": null,
      "outputs": []
    },
    {
      "cell_type": "code",
      "metadata": {
        "id": "1IlDso45rbUd",
        "colab_type": "code",
        "colab": {}
      },
      "source": [
        "naive_gaussian_m4 = {'Model':\"Imbalanced - Mismatch\", 'Classifier':\"Naive Bayes - Gaussian\", 'Specificity':M4_sp_naive_gaussian, 'Sensitivity':M4_se_naive_gaussian, 'Accuracy':M4_acc_naive_gaussian, 'AUC': m4_naive_gaussian_auc}\n",
        "results = results.append(naive_gaussian_m4, ignore_index=True)"
      ],
      "execution_count": null,
      "outputs": []
    },
    {
      "cell_type": "markdown",
      "metadata": {
        "id": "d_FUhx82yuSn",
        "colab_type": "text"
      },
      "source": [
        "# **Naive Bayes (Bernoulli)**"
      ]
    },
    {
      "cell_type": "markdown",
      "metadata": {
        "id": "fL173PA6y3hz",
        "colab_type": "text"
      },
      "source": [
        "**Model 1 - Imbalanced towards Match**"
      ]
    },
    {
      "cell_type": "code",
      "metadata": {
        "id": "_se-zY6RrnGL",
        "colab_type": "code",
        "colab": {}
      },
      "source": [
        "gnb = BernoulliNB().fit(X_train, y_train)"
      ],
      "execution_count": null,
      "outputs": []
    },
    {
      "cell_type": "code",
      "metadata": {
        "id": "GqpLXvbfzEmM",
        "colab_type": "code",
        "colab": {
          "base_uri": "https://localhost:8080/",
          "height": 204
        },
        "outputId": "d5ac2632-3480-460e-966e-f52877088b7a"
      },
      "source": [
        "y_pred_m1_naive_bernoulli = gnb.predict(X_test) \n",
        "print(confusion_matrix(y_test,y_pred_m1_naive_bernoulli))\n",
        "print(classification_report(y_test,y_pred_m1_naive_bernoulli))"
      ],
      "execution_count": null,
      "outputs": [
        {
          "output_type": "stream",
          "text": [
            "[[1127 2216]\n",
            " [1030 4641]]\n",
            "              precision    recall  f1-score   support\n",
            "\n",
            "         0.0       0.52      0.34      0.41      3343\n",
            "         1.0       0.68      0.82      0.74      5671\n",
            "\n",
            "    accuracy                           0.64      9014\n",
            "   macro avg       0.60      0.58      0.58      9014\n",
            "weighted avg       0.62      0.64      0.62      9014\n",
            "\n"
          ],
          "name": "stdout"
        }
      ]
    },
    {
      "cell_type": "markdown",
      "metadata": {
        "id": "SO-laNKQ_NkO",
        "colab_type": "text"
      },
      "source": [
        "| ACTUAL\\PREDICTED          | Mismatch (0) | Match (1) | TOTAL |\n",
        "|---------------------------|---------------------|-------------------------|-------|\n",
        "|    Mismatch (0)|      1127             |       2216              |   3343   |\n",
        "|  Match (1)      |      1030             |        4641             |   5671  |\n",
        "|        TOTAL              |      2157             |        6857              |   9014  |"
      ]
    },
    {
      "cell_type": "code",
      "metadata": {
        "id": "L3DL79S87i6J",
        "colab_type": "code",
        "colab": {}
      },
      "source": [
        "m1_naive_bernoulli_auc = roc_auc_score(y_test, y_pred_m1_naive_bernoulli)"
      ],
      "execution_count": null,
      "outputs": []
    },
    {
      "cell_type": "code",
      "metadata": {
        "id": "ft8MigV3zpsb",
        "colab_type": "code",
        "colab": {}
      },
      "source": [
        "M1_sp_naive_bernoulli=0.52\n",
        "M1_se_naive_bernoulli=0.34\n",
        "M1_acc_naive_bernoulli=0.64"
      ],
      "execution_count": null,
      "outputs": []
    },
    {
      "cell_type": "code",
      "metadata": {
        "id": "EXzv0DMa_vio",
        "colab_type": "code",
        "colab": {}
      },
      "source": [
        "naive_bernoullii_m1 = {'Model':\"Imbalanced - Match\", 'Classifier':\"Naive Bayes - Bernoulli\", 'Specificity':M1_sp_naive_bernoulli, 'Sensitivity':M1_se_naive_bernoulli, 'Accuracy':M1_acc_naive_bernoulli, 'AUC':m1_naive_bernoulli_auc}\n",
        "results = results.append(naive_bernoullii_m1, ignore_index=True)"
      ],
      "execution_count": null,
      "outputs": []
    },
    {
      "cell_type": "markdown",
      "metadata": {
        "id": "iVeWbhXiAXlZ",
        "colab_type": "text"
      },
      "source": [
        "**Model 2 - Manually Balanced**"
      ]
    },
    {
      "cell_type": "code",
      "metadata": {
        "id": "3ufssO5gAEGb",
        "colab_type": "code",
        "colab": {}
      },
      "source": [
        "gnb = BernoulliNB().fit(X_train_bal, y_train_bal)"
      ],
      "execution_count": null,
      "outputs": []
    },
    {
      "cell_type": "code",
      "metadata": {
        "id": "Yw2VKpE7AhGt",
        "colab_type": "code",
        "colab": {
          "base_uri": "https://localhost:8080/",
          "height": 204
        },
        "outputId": "ce59cd21-faf9-42e8-ae5e-1cf7230e18d9"
      },
      "source": [
        "y_pred_m2_naive_bernoulli = gnb.predict(X_test) \n",
        "print(confusion_matrix(y_test,y_pred_m2_naive_bernoulli))\n",
        "print(classification_report(y_test,y_pred_m2_naive_bernoulli))"
      ],
      "execution_count": null,
      "outputs": [
        {
          "output_type": "stream",
          "text": [
            "[[1127 2216]\n",
            " [1030 4641]]\n",
            "              precision    recall  f1-score   support\n",
            "\n",
            "         0.0       0.52      0.34      0.41      3343\n",
            "         1.0       0.68      0.82      0.74      5671\n",
            "\n",
            "    accuracy                           0.64      9014\n",
            "   macro avg       0.60      0.58      0.58      9014\n",
            "weighted avg       0.62      0.64      0.62      9014\n",
            "\n"
          ],
          "name": "stdout"
        }
      ]
    },
    {
      "cell_type": "markdown",
      "metadata": {
        "id": "6_bfnVwHAllJ",
        "colab_type": "text"
      },
      "source": [
        "| ACTUAL\\PREDICTED          | Mismatch (0) | Match (1) | TOTAL |\n",
        "|---------------------------|---------------------|-------------------------|-------|\n",
        "|    Mismatch (0)|      1127             |       2216              |   3343   |\n",
        "|  Match (1)      |      1030             |        4641             |   5671  |\n",
        "|        TOTAL              |      2157             |        6857              |   9014  |"
      ]
    },
    {
      "cell_type": "code",
      "metadata": {
        "id": "rJpzJGoP9q4r",
        "colab_type": "code",
        "colab": {}
      },
      "source": [
        "m2_naive_bernoulli_auc = roc_auc_score(y_test, y_pred_m2_naive_bernoulli)"
      ],
      "execution_count": null,
      "outputs": []
    },
    {
      "cell_type": "code",
      "metadata": {
        "id": "vui29GS7AjRQ",
        "colab_type": "code",
        "colab": {}
      },
      "source": [
        "M2_sp_naive_bernoulli=0.52\n",
        "M2_se_naive_bernoulli=0.34\n",
        "M2_acc_naive_bernoulli=0.64"
      ],
      "execution_count": null,
      "outputs": []
    },
    {
      "cell_type": "code",
      "metadata": {
        "id": "jYSUcxSHAvD-",
        "colab_type": "code",
        "colab": {}
      },
      "source": [
        "naive_bernoullii_m2 = {'Model':\"Balanced - Manual\", 'Classifier':\"Naive Bayes - Bernoulli\", 'Specificity':M2_sp_naive_bernoulli, 'Sensitivity':M2_se_naive_bernoulli, 'Accuracy':M2_acc_naive_bernoulli, 'AUC':m2_naive_bernoulli_auc}\n",
        "results = results.append(naive_bernoullii_m2, ignore_index=True)"
      ],
      "execution_count": null,
      "outputs": []
    },
    {
      "cell_type": "markdown",
      "metadata": {
        "id": "hylGD_pQA_ay",
        "colab_type": "text"
      },
      "source": [
        "**Model 3 - SMOTE Balanced**"
      ]
    },
    {
      "cell_type": "code",
      "metadata": {
        "id": "SwRIis2cA3-a",
        "colab_type": "code",
        "colab": {}
      },
      "source": [
        "gnb = BernoulliNB().fit(X_train_resampled, y_train_resampled)"
      ],
      "execution_count": null,
      "outputs": []
    },
    {
      "cell_type": "code",
      "metadata": {
        "id": "XoW-yDCbBMS1",
        "colab_type": "code",
        "colab": {
          "base_uri": "https://localhost:8080/",
          "height": 204
        },
        "outputId": "a890215f-f4e6-4bdf-ab31-e249d8b03332"
      },
      "source": [
        "y_pred_m3_naive_bernoulli = gnb.predict(X_test) \n",
        "print(confusion_matrix(y_test,y_pred_m3_naive_bernoulli))\n",
        "print(classification_report(y_test,y_pred_m3_naive_bernoulli))"
      ],
      "execution_count": null,
      "outputs": [
        {
          "output_type": "stream",
          "text": [
            "[[1127 2216]\n",
            " [1030 4641]]\n",
            "              precision    recall  f1-score   support\n",
            "\n",
            "         0.0       0.52      0.34      0.41      3343\n",
            "         1.0       0.68      0.82      0.74      5671\n",
            "\n",
            "    accuracy                           0.64      9014\n",
            "   macro avg       0.60      0.58      0.58      9014\n",
            "weighted avg       0.62      0.64      0.62      9014\n",
            "\n"
          ],
          "name": "stdout"
        }
      ]
    },
    {
      "cell_type": "markdown",
      "metadata": {
        "id": "lqoQjIWBBURp",
        "colab_type": "text"
      },
      "source": [
        "| ACTUAL\\PREDICTED          | Mismatch (0) | Match (1) | TOTAL |\n",
        "|---------------------------|---------------------|-------------------------|-------|\n",
        "|    Mismatch (0)|      1127             |       2216              |   3343   |\n",
        "|  Match (1)      |      1030             |        4641             |   5671  |\n",
        "|        TOTAL              |      2157             |        6857              |   9014  |"
      ]
    },
    {
      "cell_type": "code",
      "metadata": {
        "id": "_qKcYjzu-nqP",
        "colab_type": "code",
        "colab": {}
      },
      "source": [
        "m3_naive_bernoulli_auc = roc_auc_score(y_test, y_pred_m3_naive_bernoulli)"
      ],
      "execution_count": null,
      "outputs": []
    },
    {
      "cell_type": "code",
      "metadata": {
        "id": "-Nkwg9I9BOl-",
        "colab_type": "code",
        "colab": {}
      },
      "source": [
        "M3_sp_naive_bernoulli=0.52\n",
        "M3_se_naive_bernoulli=0.34\n",
        "M3_acc_naive_bernoulli=0.64"
      ],
      "execution_count": null,
      "outputs": []
    },
    {
      "cell_type": "code",
      "metadata": {
        "id": "b4-v0T9pBgZJ",
        "colab_type": "code",
        "colab": {}
      },
      "source": [
        "naive_bernoullii_m3 = {'Model':\"Balanced - SMOTE\", 'Classifier':\"Naive Bayes - Bernoulli\", 'Specificity':M3_sp_naive_bernoulli, 'Sensitivity':M3_se_naive_bernoulli, 'Accuracy':M3_acc_naive_bernoulli, 'AUC':m3_naive_bernoulli_auc}\n",
        "results = results.append(naive_bernoullii_m3, ignore_index=True)"
      ],
      "execution_count": null,
      "outputs": []
    },
    {
      "cell_type": "markdown",
      "metadata": {
        "id": "1MpR7bJWB4UG",
        "colab_type": "text"
      },
      "source": [
        "**Model 4 - Imbalanced towards Mismatch**"
      ]
    },
    {
      "cell_type": "code",
      "metadata": {
        "id": "XFom6HC_BpFd",
        "colab_type": "code",
        "colab": {}
      },
      "source": [
        "gnb = BernoulliNB().fit(X_train_imbal, y_train_imbal)"
      ],
      "execution_count": null,
      "outputs": []
    },
    {
      "cell_type": "code",
      "metadata": {
        "id": "ZzqUtpWSB_9d",
        "colab_type": "code",
        "colab": {
          "base_uri": "https://localhost:8080/",
          "height": 258
        },
        "outputId": "ea657cb1-b8ad-48a0-f491-d3f8c1a5cd47"
      },
      "source": [
        "y_pred_m4_naive_bernoulli = gnb.predict(X_test) \n",
        "print(confusion_matrix(y_test,y_pred_m4_naive_bernoulli))\n",
        "print(classification_report(y_test,y_pred_m4_naive_bernoulli))"
      ],
      "execution_count": null,
      "outputs": [
        {
          "output_type": "stream",
          "text": [
            "[[3343    0]\n",
            " [5671    0]]\n",
            "              precision    recall  f1-score   support\n",
            "\n",
            "         0.0       0.37      1.00      0.54      3343\n",
            "         1.0       0.00      0.00      0.00      5671\n",
            "\n",
            "    accuracy                           0.37      9014\n",
            "   macro avg       0.19      0.50      0.27      9014\n",
            "weighted avg       0.14      0.37      0.20      9014\n",
            "\n"
          ],
          "name": "stdout"
        },
        {
          "output_type": "stream",
          "text": [
            "/usr/local/lib/python3.6/dist-packages/sklearn/metrics/_classification.py:1272: UndefinedMetricWarning: Precision and F-score are ill-defined and being set to 0.0 in labels with no predicted samples. Use `zero_division` parameter to control this behavior.\n",
            "  _warn_prf(average, modifier, msg_start, len(result))\n"
          ],
          "name": "stderr"
        }
      ]
    },
    {
      "cell_type": "markdown",
      "metadata": {
        "id": "4VGrm7H7CKVl",
        "colab_type": "text"
      },
      "source": [
        "| ACTUAL\\PREDICTED          | Mismatch (0) | Match (1) | TOTAL |\n",
        "|---------------------------|---------------------|-------------------------|-------|\n",
        "|    Mismatch (0)|      3343             |        0              |   3343   |\n",
        "|  Match (1)      |      5671             |        0             |   5171  |\n",
        "|        TOTAL              |      9014             |        0              |   9014  |"
      ]
    },
    {
      "cell_type": "code",
      "metadata": {
        "id": "tbgp6nbL_Pzb",
        "colab_type": "code",
        "colab": {}
      },
      "source": [
        "m4_naive_bernoulli_auc = roc_auc_score(y_test, y_pred_m4_naive_bernoulli)"
      ],
      "execution_count": null,
      "outputs": []
    },
    {
      "cell_type": "code",
      "metadata": {
        "id": "vjSei9qcCHe9",
        "colab_type": "code",
        "colab": {}
      },
      "source": [
        "M4_sp_naive_bernoulli=0.37\n",
        "M4_se_naive_bernoulli=1.00\n",
        "M4_acc_naive_bernoulli=0.37"
      ],
      "execution_count": null,
      "outputs": []
    },
    {
      "cell_type": "code",
      "metadata": {
        "id": "g27KSEB5CRAb",
        "colab_type": "code",
        "colab": {}
      },
      "source": [
        "naive_bernoullii_m4 = {'Model':\"Imbalanced - Mismatch\", 'Classifier':\"Naive Bayes - Bernoulli\", 'Specificity':M4_sp_naive_bernoulli, 'Sensitivity':M4_se_naive_bernoulli, 'Accuracy':M4_acc_naive_bernoulli, 'AUC':m4_naive_bernoulli_auc}\n",
        "results = results.append(naive_bernoullii_m4, ignore_index=True)"
      ],
      "execution_count": null,
      "outputs": []
    },
    {
      "cell_type": "markdown",
      "metadata": {
        "id": "oDnRP3X_D24_",
        "colab_type": "text"
      },
      "source": [
        "# **Random Forest**\n",
        "\n"
      ]
    },
    {
      "cell_type": "markdown",
      "metadata": {
        "id": "bUe0wpqKEC3p",
        "colab_type": "text"
      },
      "source": [
        "**Model 1 - Imbalanced towards Match**"
      ]
    },
    {
      "cell_type": "code",
      "metadata": {
        "id": "j_IhCqBDCZ0b",
        "colab_type": "code",
        "colab": {}
      },
      "source": [
        "rf = RandomForestClassifier().fit(X_train, y_train)"
      ],
      "execution_count": null,
      "outputs": []
    },
    {
      "cell_type": "code",
      "metadata": {
        "id": "sy6nIt4MEMQG",
        "colab_type": "code",
        "colab": {
          "base_uri": "https://localhost:8080/",
          "height": 204
        },
        "outputId": "a15c4f0c-0e0f-4fbf-e11b-cab485dff711"
      },
      "source": [
        "y_pred_m1_rf = rf.predict(X_test)\n",
        "print(confusion_matrix(y_test,y_pred_m1_rf))\n",
        "print(classification_report(y_test,y_pred_m1_rf))"
      ],
      "execution_count": null,
      "outputs": [
        {
          "output_type": "stream",
          "text": [
            "[[3138  205]\n",
            " [ 251 5420]]\n",
            "              precision    recall  f1-score   support\n",
            "\n",
            "         0.0       0.93      0.94      0.93      3343\n",
            "         1.0       0.96      0.96      0.96      5671\n",
            "\n",
            "    accuracy                           0.95      9014\n",
            "   macro avg       0.94      0.95      0.95      9014\n",
            "weighted avg       0.95      0.95      0.95      9014\n",
            "\n"
          ],
          "name": "stdout"
        }
      ]
    },
    {
      "cell_type": "markdown",
      "metadata": {
        "id": "IWtqR34rOsjb",
        "colab_type": "text"
      },
      "source": [
        "| ACTUAL\\PREDICTED          | Mismatch (0) | Match (1) | TOTAL |\n",
        "|---------------------------|---------------------|-------------------------|-------|\n",
        "|    Mismatch (0)|      3138             |        205              |   3343   |\n",
        "|  Match (1)      |      251             |        5420             |   5671  |\n",
        "|        TOTAL              |      3389             |        5625              |   9014  |"
      ]
    },
    {
      "cell_type": "code",
      "metadata": {
        "id": "ejXqqghvA20Y",
        "colab_type": "code",
        "colab": {}
      },
      "source": [
        "m1_rf_auc = roc_auc_score(y_test, y_pred_m1_rf)"
      ],
      "execution_count": null,
      "outputs": []
    },
    {
      "cell_type": "code",
      "metadata": {
        "id": "DSjGRa0_OJ0K",
        "colab_type": "code",
        "colab": {}
      },
      "source": [
        "M1_sp_rf=0.93\n",
        "M1_se_rf=0.94\n",
        "M1_acc_rf=0.95"
      ],
      "execution_count": null,
      "outputs": []
    },
    {
      "cell_type": "code",
      "metadata": {
        "id": "zv_oxR7bO_wh",
        "colab_type": "code",
        "colab": {}
      },
      "source": [
        "rf_m1 = {'Model':\"Imbalanced - Match\", 'Classifier':\"Random Forest\", 'Specificity':M1_sp_rf, 'Sensitivity':M1_se_rf, 'Accuracy':M1_acc_rf, 'AUC':m1_rf_auc}\n",
        "results = results.append(rf_m1, ignore_index=True)"
      ],
      "execution_count": null,
      "outputs": []
    },
    {
      "cell_type": "markdown",
      "metadata": {
        "id": "w0qjIzY4Pj6I",
        "colab_type": "text"
      },
      "source": [
        "**Model 2 - Manually Balanced**"
      ]
    },
    {
      "cell_type": "code",
      "metadata": {
        "id": "XdjYsDpCPVUB",
        "colab_type": "code",
        "colab": {}
      },
      "source": [
        "rf = RandomForestClassifier().fit(X_train_bal, y_train_bal)"
      ],
      "execution_count": null,
      "outputs": []
    },
    {
      "cell_type": "code",
      "metadata": {
        "id": "635SNFI2Qmzt",
        "colab_type": "code",
        "colab": {
          "base_uri": "https://localhost:8080/",
          "height": 204
        },
        "outputId": "1eca961d-6876-4865-888e-b15a8512967d"
      },
      "source": [
        "y_pred_m2_rf = rf.predict(X_test)\n",
        "print(confusion_matrix(y_test,y_pred_m2_rf))\n",
        "print(classification_report(y_test,y_pred_m2_rf))"
      ],
      "execution_count": null,
      "outputs": [
        {
          "output_type": "stream",
          "text": [
            "[[3232  111]\n",
            " [ 272 5399]]\n",
            "              precision    recall  f1-score   support\n",
            "\n",
            "         0.0       0.92      0.97      0.94      3343\n",
            "         1.0       0.98      0.95      0.97      5671\n",
            "\n",
            "    accuracy                           0.96      9014\n",
            "   macro avg       0.95      0.96      0.95      9014\n",
            "weighted avg       0.96      0.96      0.96      9014\n",
            "\n"
          ],
          "name": "stdout"
        }
      ]
    },
    {
      "cell_type": "markdown",
      "metadata": {
        "id": "_XajmQ3LQu8V",
        "colab_type": "text"
      },
      "source": [
        "| ACTUAL\\PREDICTED          | Mismatch (0) | Match (1) | TOTAL |\n",
        "|---------------------------|---------------------|-------------------------|-------|\n",
        "|    Mismatch (0)|      3232             |        111              |   3343   |\n",
        "|  Match (1)      |      272             |        5399             |   5671  |\n",
        "|        TOTAL              |      3504             |        5510              |   9014  |"
      ]
    },
    {
      "cell_type": "code",
      "metadata": {
        "id": "GKH3H5nyBPEm",
        "colab_type": "code",
        "colab": {}
      },
      "source": [
        "m2_rf_auc = roc_auc_score(y_test, y_pred_m2_rf)"
      ],
      "execution_count": null,
      "outputs": []
    },
    {
      "cell_type": "code",
      "metadata": {
        "id": "FZMWcWQ4QpcM",
        "colab_type": "code",
        "colab": {}
      },
      "source": [
        "M2_sp_rf=0.92\n",
        "M2_se_rf=0.97\n",
        "M2_acc_rf=0.96"
      ],
      "execution_count": null,
      "outputs": []
    },
    {
      "cell_type": "code",
      "metadata": {
        "id": "NRGw0jkkRF8O",
        "colab_type": "code",
        "colab": {}
      },
      "source": [
        "rf_m2 = {'Model':\"Balanced - Manual\", 'Classifier':\"Random Forest\", 'Specificity':M2_sp_rf, 'Sensitivity':M2_se_rf, 'Accuracy':M2_acc_rf, 'AUC':m2_rf_auc}\n",
        "results = results.append(rf_m2, ignore_index=True)"
      ],
      "execution_count": null,
      "outputs": []
    },
    {
      "cell_type": "markdown",
      "metadata": {
        "id": "bDA44BYwR0n8",
        "colab_type": "text"
      },
      "source": [
        "**Model 3 - SMOTE Balanced**"
      ]
    },
    {
      "cell_type": "code",
      "metadata": {
        "id": "cRJ9bbTyRPee",
        "colab_type": "code",
        "colab": {}
      },
      "source": [
        "rf = RandomForestClassifier().fit(X_train_resampled, y_train_resampled)"
      ],
      "execution_count": null,
      "outputs": []
    },
    {
      "cell_type": "code",
      "metadata": {
        "id": "QQzcEygIR_TX",
        "colab_type": "code",
        "colab": {
          "base_uri": "https://localhost:8080/",
          "height": 204
        },
        "outputId": "ee7979da-be32-41df-ea30-7d2d6ad6029f"
      },
      "source": [
        "y_pred_m3_rf = rf.predict(X_test)\n",
        "print(confusion_matrix(y_test,y_pred_m3_rf))\n",
        "print(classification_report(y_test,y_pred_m3_rf))"
      ],
      "execution_count": null,
      "outputs": [
        {
          "output_type": "stream",
          "text": [
            "[[3155  188]\n",
            " [ 251 5420]]\n",
            "              precision    recall  f1-score   support\n",
            "\n",
            "         0.0       0.93      0.94      0.93      3343\n",
            "         1.0       0.97      0.96      0.96      5671\n",
            "\n",
            "    accuracy                           0.95      9014\n",
            "   macro avg       0.95      0.95      0.95      9014\n",
            "weighted avg       0.95      0.95      0.95      9014\n",
            "\n"
          ],
          "name": "stdout"
        }
      ]
    },
    {
      "cell_type": "markdown",
      "metadata": {
        "id": "evoKopPXSFdA",
        "colab_type": "text"
      },
      "source": [
        "| ACTUAL\\PREDICTED          | Mismatch (0) | Match (1) | TOTAL |\n",
        "|---------------------------|---------------------|-------------------------|-------|\n",
        "|    Mismatch (0)|      3155             |        188              |   3343   |\n",
        "|  Match (1)      |      251             |        5420             |   5671  |\n",
        "|        TOTAL              |      3406             |        5608              |   9014  |"
      ]
    },
    {
      "cell_type": "code",
      "metadata": {
        "id": "r6qislLQBitx",
        "colab_type": "code",
        "colab": {}
      },
      "source": [
        "m3_rf_auc = roc_auc_score(y_test, y_pred_m3_rf)"
      ],
      "execution_count": null,
      "outputs": []
    },
    {
      "cell_type": "code",
      "metadata": {
        "id": "5sOWna9oSBP9",
        "colab_type": "code",
        "colab": {}
      },
      "source": [
        "M3_sp_rf=0.93\n",
        "M3_se_rf=0.94\n",
        "M3_acc_rf=0.95"
      ],
      "execution_count": null,
      "outputs": []
    },
    {
      "cell_type": "code",
      "metadata": {
        "id": "ccA_2HgBSKjp",
        "colab_type": "code",
        "colab": {}
      },
      "source": [
        "rf_m3 = {'Model':\"Balanced - SMOTE\", 'Classifier':\"Random Forest\", 'Specificity':M3_sp_rf, 'Sensitivity':M3_se_rf, 'Accuracy':M3_acc_rf, 'AUC':m3_rf_auc}\n",
        "results = results.append(rf_m3, ignore_index=True)"
      ],
      "execution_count": null,
      "outputs": []
    },
    {
      "cell_type": "markdown",
      "metadata": {
        "id": "9w92meFjS4d7",
        "colab_type": "text"
      },
      "source": [
        "**Model 4 - Imbalanced towards Mismatch**"
      ]
    },
    {
      "cell_type": "code",
      "metadata": {
        "id": "YsEd2Rn0SWh9",
        "colab_type": "code",
        "colab": {}
      },
      "source": [
        "rf = RandomForestClassifier().fit(X_train_imbal, y_train_imbal)"
      ],
      "execution_count": null,
      "outputs": []
    },
    {
      "cell_type": "code",
      "metadata": {
        "id": "MI-E12NLTCe3",
        "colab_type": "code",
        "colab": {
          "base_uri": "https://localhost:8080/",
          "height": 204
        },
        "outputId": "a68012e7-f9bf-4dd3-ab08-c7403151b43b"
      },
      "source": [
        "y_pred_m4_rf = rf.predict(X_test)\n",
        "print(confusion_matrix(y_test,y_pred_m4_rf))\n",
        "print(classification_report(y_test,y_pred_m4_rf))"
      ],
      "execution_count": null,
      "outputs": [
        {
          "output_type": "stream",
          "text": [
            "[[3308   35]\n",
            " [ 296 5375]]\n",
            "              precision    recall  f1-score   support\n",
            "\n",
            "         0.0       0.92      0.99      0.95      3343\n",
            "         1.0       0.99      0.95      0.97      5671\n",
            "\n",
            "    accuracy                           0.96      9014\n",
            "   macro avg       0.96      0.97      0.96      9014\n",
            "weighted avg       0.97      0.96      0.96      9014\n",
            "\n"
          ],
          "name": "stdout"
        }
      ]
    },
    {
      "cell_type": "markdown",
      "metadata": {
        "id": "hhrRb2XkTHTo",
        "colab_type": "text"
      },
      "source": [
        "| ACTUAL\\PREDICTED          | Mismatch (0) | Match (1) | TOTAL |\n",
        "|---------------------------|---------------------|-------------------------|-------|\n",
        "|    Mismatch (0)|      3308             |        35              |   3343   |\n",
        "|  Match (1)      |      296             |        5375             |   5671  |\n",
        "|        TOTAL              |      3604             |        5410              |   9014  |"
      ]
    },
    {
      "cell_type": "code",
      "metadata": {
        "id": "FAy7kSBsB03C",
        "colab_type": "code",
        "colab": {}
      },
      "source": [
        "m4_rf_auc = roc_auc_score(y_test, y_pred_m4_rf)"
      ],
      "execution_count": null,
      "outputs": []
    },
    {
      "cell_type": "code",
      "metadata": {
        "id": "oK9ahhHnTE2b",
        "colab_type": "code",
        "colab": {}
      },
      "source": [
        "M4_sp_rf=0.92\n",
        "M4_se_rf=0.99\n",
        "M4_acc_rf=0.96"
      ],
      "execution_count": null,
      "outputs": []
    },
    {
      "cell_type": "code",
      "metadata": {
        "id": "vTsShlSDTPB_",
        "colab_type": "code",
        "colab": {}
      },
      "source": [
        "rf_m4 = {'Model':\"Imbalanced - Mismatch\", 'Classifier':\"Random Forest\", 'Specificity':M4_sp_rf, 'Sensitivity':M4_se_rf, 'Accuracy':M4_acc_rf, 'AUC':m4_rf_auc}\n",
        "results = results.append(rf_m4, ignore_index=True)"
      ],
      "execution_count": null,
      "outputs": []
    },
    {
      "cell_type": "markdown",
      "metadata": {
        "id": "AfebJpC9Z0W8",
        "colab_type": "text"
      },
      "source": [
        "# **LightGBM**"
      ]
    },
    {
      "cell_type": "markdown",
      "metadata": {
        "id": "I3L44TcxZ9Pi",
        "colab_type": "text"
      },
      "source": [
        "**Model 1 - Imbalanced towards Match**"
      ]
    },
    {
      "cell_type": "code",
      "metadata": {
        "id": "aK1CNNKgTaFn",
        "colab_type": "code",
        "colab": {}
      },
      "source": [
        "model = lgb.LGBMClassifier().fit(X_train, y_train)"
      ],
      "execution_count": null,
      "outputs": []
    },
    {
      "cell_type": "code",
      "metadata": {
        "id": "JJ89rRR0aTIw",
        "colab_type": "code",
        "colab": {
          "base_uri": "https://localhost:8080/",
          "height": 204
        },
        "outputId": "5c4ad98a-09c5-45e2-c1f4-10a13375ca7d"
      },
      "source": [
        "y_pred_m1_lgb = model.predict(X_test) \n",
        "print(confusion_matrix(y_test,y_pred_m1_lgb))\n",
        "print(classification_report(y_test,y_pred_m1_lgb))"
      ],
      "execution_count": null,
      "outputs": [
        {
          "output_type": "stream",
          "text": [
            "[[3336    7]\n",
            " [ 324 5347]]\n",
            "              precision    recall  f1-score   support\n",
            "\n",
            "         0.0       0.91      1.00      0.95      3343\n",
            "         1.0       1.00      0.94      0.97      5671\n",
            "\n",
            "    accuracy                           0.96      9014\n",
            "   macro avg       0.96      0.97      0.96      9014\n",
            "weighted avg       0.97      0.96      0.96      9014\n",
            "\n"
          ],
          "name": "stdout"
        }
      ]
    },
    {
      "cell_type": "markdown",
      "metadata": {
        "id": "xjlXzHyYamQw",
        "colab_type": "text"
      },
      "source": [
        "| ACTUAL\\PREDICTED          | Mismatch (0) | Match (1) | TOTAL |\n",
        "|---------------------------|---------------------|-------------------------|-------|\n",
        "|    Mismatch (0)|      3336             |        7              |   3343   |\n",
        "|  Match (1)      |      324             |        5347             |   5671  |\n",
        "|        TOTAL              |      3660             |        5354              |   9014  |"
      ]
    },
    {
      "cell_type": "code",
      "metadata": {
        "id": "iLFd24ERCXmE",
        "colab_type": "code",
        "colab": {}
      },
      "source": [
        "m1_lgb_auc = roc_auc_score(y_test, y_pred_m1_lgb)"
      ],
      "execution_count": null,
      "outputs": []
    },
    {
      "cell_type": "code",
      "metadata": {
        "id": "ioRfxj70aVws",
        "colab_type": "code",
        "colab": {}
      },
      "source": [
        "M1_sp_lgb=0.91\n",
        "M1_se_lgb=1.00\n",
        "M1_acc_lgb=0.96"
      ],
      "execution_count": null,
      "outputs": []
    },
    {
      "cell_type": "code",
      "metadata": {
        "id": "YHF2ZJ3obCN-",
        "colab_type": "code",
        "colab": {}
      },
      "source": [
        "lgb_m1 = {'Model':\"Imbalanced - Match\", 'Classifier':\"Light GBM\", 'Specificity':M1_sp_lgb, 'Sensitivity':M1_se_lgb, 'Accuracy':M1_acc_lgb, 'AUC':m1_lgb_auc}\n",
        "results = results.append(lgb_m1, ignore_index=True)"
      ],
      "execution_count": null,
      "outputs": []
    },
    {
      "cell_type": "markdown",
      "metadata": {
        "id": "BNx9A_rcbcI4",
        "colab_type": "text"
      },
      "source": [
        "**Model 2 - Manually Balanced**"
      ]
    },
    {
      "cell_type": "code",
      "metadata": {
        "id": "JzGawDuRbTXb",
        "colab_type": "code",
        "colab": {}
      },
      "source": [
        "model = lgb.LGBMClassifier().fit(X_train_bal, y_train_bal)"
      ],
      "execution_count": null,
      "outputs": []
    },
    {
      "cell_type": "code",
      "metadata": {
        "id": "25RMCWK1bpwH",
        "colab_type": "code",
        "colab": {
          "base_uri": "https://localhost:8080/",
          "height": 204
        },
        "outputId": "80272b6f-8dd7-4fdc-e3ad-696c0f776187"
      },
      "source": [
        "y_pred_m2_lgb = model.predict(X_test) \n",
        "print(confusion_matrix(y_test,y_pred_m2_lgb))\n",
        "print(classification_report(y_test,y_pred_m2_lgb))"
      ],
      "execution_count": null,
      "outputs": [
        {
          "output_type": "stream",
          "text": [
            "[[3339    4]\n",
            " [ 322 5349]]\n",
            "              precision    recall  f1-score   support\n",
            "\n",
            "         0.0       0.91      1.00      0.95      3343\n",
            "         1.0       1.00      0.94      0.97      5671\n",
            "\n",
            "    accuracy                           0.96      9014\n",
            "   macro avg       0.96      0.97      0.96      9014\n",
            "weighted avg       0.97      0.96      0.96      9014\n",
            "\n"
          ],
          "name": "stdout"
        }
      ]
    },
    {
      "cell_type": "markdown",
      "metadata": {
        "id": "aJs5Qgmgbypz",
        "colab_type": "text"
      },
      "source": [
        "| ACTUAL\\PREDICTED          | Mismatch (0) | Match (1) | TOTAL |\n",
        "|---------------------------|---------------------|-------------------------|-------|\n",
        "|    Mismatch (0)|      3339             |        4              |   3343   |\n",
        "|  Match (1)      |      322             |        5349             |   5671  |\n",
        "|        TOTAL              |      3661             |        5353              |   9014  |"
      ]
    },
    {
      "cell_type": "code",
      "metadata": {
        "id": "WAzsYmseCtAE",
        "colab_type": "code",
        "colab": {}
      },
      "source": [
        "m2_lgb_auc = roc_auc_score(y_test, y_pred_m2_lgb)"
      ],
      "execution_count": null,
      "outputs": []
    },
    {
      "cell_type": "code",
      "metadata": {
        "id": "5tpjnVl8bvR-",
        "colab_type": "code",
        "colab": {}
      },
      "source": [
        "M2_sp_lgb=0.91\n",
        "M2_se_lgb=1.00\n",
        "M2_acc_lgb=0.96"
      ],
      "execution_count": null,
      "outputs": []
    },
    {
      "cell_type": "code",
      "metadata": {
        "id": "hHRfsM7Cb4RS",
        "colab_type": "code",
        "colab": {}
      },
      "source": [
        "lgb_m2 = {'Model':\"Balanced - Manual\", 'Classifier':\"Light GBM\", 'Specificity':M2_sp_lgb, 'Sensitivity':M2_se_lgb, 'Accuracy':M2_acc_lgb, 'AUC':m2_lgb_auc}\n",
        "results = results.append(lgb_m2, ignore_index=True)"
      ],
      "execution_count": null,
      "outputs": []
    },
    {
      "cell_type": "markdown",
      "metadata": {
        "id": "mgmy3E63cF8C",
        "colab_type": "text"
      },
      "source": [
        "**Model 3 - SMOTE Balanced**"
      ]
    },
    {
      "cell_type": "code",
      "metadata": {
        "id": "g06U-ZhmcAY3",
        "colab_type": "code",
        "colab": {}
      },
      "source": [
        "model = lgb.LGBMClassifier().fit(X_train_resampled, y_train_resampled)"
      ],
      "execution_count": null,
      "outputs": []
    },
    {
      "cell_type": "code",
      "metadata": {
        "id": "8C5qWI2QcPKn",
        "colab_type": "code",
        "colab": {
          "base_uri": "https://localhost:8080/",
          "height": 204
        },
        "outputId": "e6e82b18-8ddd-48fa-d05c-340a2d7fc386"
      },
      "source": [
        "y_pred_m3_lgb = model.predict(X_test) \n",
        "print(confusion_matrix(y_test,y_pred_m3_lgb))\n",
        "print(classification_report(y_test,y_pred_m3_lgb))"
      ],
      "execution_count": null,
      "outputs": [
        {
          "output_type": "stream",
          "text": [
            "[[3343    0]\n",
            " [ 324 5347]]\n",
            "              precision    recall  f1-score   support\n",
            "\n",
            "         0.0       0.91      1.00      0.95      3343\n",
            "         1.0       1.00      0.94      0.97      5671\n",
            "\n",
            "    accuracy                           0.96      9014\n",
            "   macro avg       0.96      0.97      0.96      9014\n",
            "weighted avg       0.97      0.96      0.96      9014\n",
            "\n"
          ],
          "name": "stdout"
        }
      ]
    },
    {
      "cell_type": "markdown",
      "metadata": {
        "id": "H15zwqZ5cak_",
        "colab_type": "text"
      },
      "source": [
        "| ACTUAL\\PREDICTED          | Mismatch (0) | Match (1) | TOTAL |\n",
        "|---------------------------|---------------------|-------------------------|-------|\n",
        "|    Mismatch (0)|      3336             |        0              |   3343   |\n",
        "|  Match (1)      |      324             |        5347             |   5671  |\n",
        "|        TOTAL              |      3660             |        5354              |   9014  |"
      ]
    },
    {
      "cell_type": "code",
      "metadata": {
        "id": "jVqdpvG2DJZR",
        "colab_type": "code",
        "colab": {}
      },
      "source": [
        "m3_lgb_auc = roc_auc_score(y_test, y_pred_m3_lgb)"
      ],
      "execution_count": null,
      "outputs": []
    },
    {
      "cell_type": "code",
      "metadata": {
        "id": "PkJAOGjlcRbn",
        "colab_type": "code",
        "colab": {}
      },
      "source": [
        "M3_sp_lgb=0.91\n",
        "M3_se_lgb=1.00\n",
        "M3_acc_lgb=0.96"
      ],
      "execution_count": null,
      "outputs": []
    },
    {
      "cell_type": "code",
      "metadata": {
        "id": "bO_-TV03ckxl",
        "colab_type": "code",
        "colab": {}
      },
      "source": [
        "lgb_m3 = {'Model':\"Balanced - SMOTE\", 'Classifier':\"Light GBM\", 'Specificity':M3_sp_lgb, 'Sensitivity':M3_se_lgb, 'Accuracy':M3_acc_lgb, 'AUC':m3_lgb_auc}\n",
        "results = results.append(lgb_m3, ignore_index=True)"
      ],
      "execution_count": null,
      "outputs": []
    },
    {
      "cell_type": "markdown",
      "metadata": {
        "id": "5AnijRPqdnHB",
        "colab_type": "text"
      },
      "source": [
        "**Model 4 - Imbalanced towards Mismatch**"
      ]
    },
    {
      "cell_type": "code",
      "metadata": {
        "id": "yeDyppYHdFNv",
        "colab_type": "code",
        "colab": {}
      },
      "source": [
        "model = lgb.LGBMClassifier().fit(X_train_imbal, y_train_imbal)"
      ],
      "execution_count": null,
      "outputs": []
    },
    {
      "cell_type": "code",
      "metadata": {
        "id": "PIRruBIJdzz2",
        "colab_type": "code",
        "colab": {
          "base_uri": "https://localhost:8080/",
          "height": 204
        },
        "outputId": "db847264-f6f7-40f2-8215-28fd16df1c4d"
      },
      "source": [
        "y_pred_m4_lgb = model.predict(X_test) \n",
        "print(confusion_matrix(y_test,y_pred_m4_lgb))\n",
        "print(classification_report(y_test,y_pred_m4_lgb))"
      ],
      "execution_count": null,
      "outputs": [
        {
          "output_type": "stream",
          "text": [
            "[[3339    4]\n",
            " [ 322 5349]]\n",
            "              precision    recall  f1-score   support\n",
            "\n",
            "         0.0       0.91      1.00      0.95      3343\n",
            "         1.0       1.00      0.94      0.97      5671\n",
            "\n",
            "    accuracy                           0.96      9014\n",
            "   macro avg       0.96      0.97      0.96      9014\n",
            "weighted avg       0.97      0.96      0.96      9014\n",
            "\n"
          ],
          "name": "stdout"
        }
      ]
    },
    {
      "cell_type": "markdown",
      "metadata": {
        "id": "Yyw402vid5N9",
        "colab_type": "text"
      },
      "source": [
        "| ACTUAL\\PREDICTED          | Mismatch (0) | Match (1) | TOTAL |\n",
        "|---------------------------|---------------------|-------------------------|-------|\n",
        "|    Mismatch (0)|      3339             |        4              |   3343   |\n",
        "|  Match (1)      |      322             |        5349             |   5671  |\n",
        "|        TOTAL              |      3661             |        5353              |   9014  |"
      ]
    },
    {
      "cell_type": "code",
      "metadata": {
        "id": "MEqcBnMuDbBw",
        "colab_type": "code",
        "colab": {}
      },
      "source": [
        "m4_lgb_auc = roc_auc_score(y_test, y_pred_m4_lgb)"
      ],
      "execution_count": null,
      "outputs": []
    },
    {
      "cell_type": "code",
      "metadata": {
        "id": "eod62Ubfd2P1",
        "colab_type": "code",
        "colab": {}
      },
      "source": [
        "M4_sp_lgb=0.91\n",
        "M4_se_lgb=1.00\n",
        "M4_acc_lgb=0.96"
      ],
      "execution_count": null,
      "outputs": []
    },
    {
      "cell_type": "code",
      "metadata": {
        "id": "LH_Yv_RZd-hc",
        "colab_type": "code",
        "colab": {}
      },
      "source": [
        "lgb_m4 = {'Model':\"Imbalanced - Mismatch\", 'Classifier':\"Light GBM\", 'Specificity':M4_sp_lgb, 'Sensitivity':M4_se_lgb, 'Accuracy':M4_acc_lgb, 'AUC': m4_lgb_auc}\n",
        "results = results.append(lgb_m4, ignore_index=True)"
      ],
      "execution_count": null,
      "outputs": []
    },
    {
      "cell_type": "code",
      "metadata": {
        "id": "uksDUfdtwnmF",
        "colab_type": "code",
        "colab": {
          "base_uri": "https://localhost:8080/",
          "height": 917
        },
        "outputId": "077c7b57-d320-45eb-ec1f-bd3e85a97fe2"
      },
      "source": [
        "#results.drop(results.tail(4).index,inplace=True)\n",
        "results"
      ],
      "execution_count": null,
      "outputs": [
        {
          "output_type": "execute_result",
          "data": {
            "text/html": [
              "<div>\n",
              "<style scoped>\n",
              "    .dataframe tbody tr th:only-of-type {\n",
              "        vertical-align: middle;\n",
              "    }\n",
              "\n",
              "    .dataframe tbody tr th {\n",
              "        vertical-align: top;\n",
              "    }\n",
              "\n",
              "    .dataframe thead th {\n",
              "        text-align: right;\n",
              "    }\n",
              "</style>\n",
              "<table border=\"1\" class=\"dataframe\">\n",
              "  <thead>\n",
              "    <tr style=\"text-align: right;\">\n",
              "      <th></th>\n",
              "      <th>Classifier</th>\n",
              "      <th>Model</th>\n",
              "      <th>Specificity</th>\n",
              "      <th>Sensitivity</th>\n",
              "      <th>Accuracy</th>\n",
              "      <th>AUC</th>\n",
              "    </tr>\n",
              "  </thead>\n",
              "  <tbody>\n",
              "    <tr>\n",
              "      <th>0</th>\n",
              "      <td>SVM - Gaussian</td>\n",
              "      <td>Imbalanced - Match</td>\n",
              "      <td>0.90</td>\n",
              "      <td>1.00</td>\n",
              "      <td>0.96</td>\n",
              "      <td>0.968904</td>\n",
              "    </tr>\n",
              "    <tr>\n",
              "      <th>1</th>\n",
              "      <td>SVM - Gaussian</td>\n",
              "      <td>Balanced - Manual</td>\n",
              "      <td>0.88</td>\n",
              "      <td>1.00</td>\n",
              "      <td>0.95</td>\n",
              "      <td>0.961294</td>\n",
              "    </tr>\n",
              "    <tr>\n",
              "      <th>2</th>\n",
              "      <td>SVM - Gaussian</td>\n",
              "      <td>Balanced - SMOTE</td>\n",
              "      <td>0.90</td>\n",
              "      <td>1.00</td>\n",
              "      <td>0.96</td>\n",
              "      <td>0.968815</td>\n",
              "    </tr>\n",
              "    <tr>\n",
              "      <th>3</th>\n",
              "      <td>SVM - Gaussian</td>\n",
              "      <td>Imbalanced - Mismatch</td>\n",
              "      <td>0.82</td>\n",
              "      <td>1.00</td>\n",
              "      <td>0.92</td>\n",
              "      <td>0.934932</td>\n",
              "    </tr>\n",
              "    <tr>\n",
              "      <th>4</th>\n",
              "      <td>SVM - Polynomial</td>\n",
              "      <td>Imbalanced - Match</td>\n",
              "      <td>0.72</td>\n",
              "      <td>0.96</td>\n",
              "      <td>0.85</td>\n",
              "      <td>0.872102</td>\n",
              "    </tr>\n",
              "    <tr>\n",
              "      <th>5</th>\n",
              "      <td>SVM - Polynomial</td>\n",
              "      <td>Balanced - Manual</td>\n",
              "      <td>0.67</td>\n",
              "      <td>1.00</td>\n",
              "      <td>0.82</td>\n",
              "      <td>0.856551</td>\n",
              "    </tr>\n",
              "    <tr>\n",
              "      <th>6</th>\n",
              "      <td>SVM - Polynomial</td>\n",
              "      <td>Balanced - SMOTE</td>\n",
              "      <td>0.67</td>\n",
              "      <td>1.00</td>\n",
              "      <td>0.82</td>\n",
              "      <td>0.856463</td>\n",
              "    </tr>\n",
              "    <tr>\n",
              "      <th>7</th>\n",
              "      <td>SVM - Polynomial</td>\n",
              "      <td>Imbalanced - Mismatch</td>\n",
              "      <td>0.64</td>\n",
              "      <td>1.00</td>\n",
              "      <td>0.79</td>\n",
              "      <td>0.836360</td>\n",
              "    </tr>\n",
              "    <tr>\n",
              "      <th>8</th>\n",
              "      <td>SVM - Sigmoid</td>\n",
              "      <td>Imbalanced - Match</td>\n",
              "      <td>0.36</td>\n",
              "      <td>0.35</td>\n",
              "      <td>0.53</td>\n",
              "      <td>0.493823</td>\n",
              "    </tr>\n",
              "    <tr>\n",
              "      <th>9</th>\n",
              "      <td>SVM - Sigmoid</td>\n",
              "      <td>Balanced - Manual</td>\n",
              "      <td>0.41</td>\n",
              "      <td>0.54</td>\n",
              "      <td>0.54</td>\n",
              "      <td>0.538519</td>\n",
              "    </tr>\n",
              "    <tr>\n",
              "      <th>10</th>\n",
              "      <td>SVM - Sigmoid</td>\n",
              "      <td>Balanced - SMOTE</td>\n",
              "      <td>0.41</td>\n",
              "      <td>0.54</td>\n",
              "      <td>0.54</td>\n",
              "      <td>0.538246</td>\n",
              "    </tr>\n",
              "    <tr>\n",
              "      <th>11</th>\n",
              "      <td>SVM - Sigmoid</td>\n",
              "      <td>Imbalanced - Mismatch</td>\n",
              "      <td>0.37</td>\n",
              "      <td>0.66</td>\n",
              "      <td>0.46</td>\n",
              "      <td>0.504486</td>\n",
              "    </tr>\n",
              "    <tr>\n",
              "      <th>12</th>\n",
              "      <td>Naive Bayes - Gaussian</td>\n",
              "      <td>Imbalanced - Match</td>\n",
              "      <td>0.91</td>\n",
              "      <td>1.00</td>\n",
              "      <td>0.96</td>\n",
              "      <td>0.971434</td>\n",
              "    </tr>\n",
              "    <tr>\n",
              "      <th>13</th>\n",
              "      <td>Naive Bayes - Gaussian</td>\n",
              "      <td>Balanced - Manual</td>\n",
              "      <td>0.91</td>\n",
              "      <td>1.00</td>\n",
              "      <td>0.96</td>\n",
              "      <td>0.971434</td>\n",
              "    </tr>\n",
              "    <tr>\n",
              "      <th>14</th>\n",
              "      <td>Naive Bayes - Gaussian</td>\n",
              "      <td>Balanced - SMOTE</td>\n",
              "      <td>0.91</td>\n",
              "      <td>1.00</td>\n",
              "      <td>0.96</td>\n",
              "      <td>0.971434</td>\n",
              "    </tr>\n",
              "    <tr>\n",
              "      <th>15</th>\n",
              "      <td>Naive Bayes - Gaussian</td>\n",
              "      <td>Imbalanced - Mismatch</td>\n",
              "      <td>0.91</td>\n",
              "      <td>1.00</td>\n",
              "      <td>0.96</td>\n",
              "      <td>0.971434</td>\n",
              "    </tr>\n",
              "    <tr>\n",
              "      <th>16</th>\n",
              "      <td>Naive Bayes - Bernoulli</td>\n",
              "      <td>Imbalanced - Match</td>\n",
              "      <td>0.52</td>\n",
              "      <td>0.34</td>\n",
              "      <td>0.64</td>\n",
              "      <td>0.577748</td>\n",
              "    </tr>\n",
              "    <tr>\n",
              "      <th>17</th>\n",
              "      <td>Naive Bayes - Bernoulli</td>\n",
              "      <td>Balanced - Manual</td>\n",
              "      <td>0.52</td>\n",
              "      <td>0.34</td>\n",
              "      <td>0.64</td>\n",
              "      <td>0.577748</td>\n",
              "    </tr>\n",
              "    <tr>\n",
              "      <th>18</th>\n",
              "      <td>Naive Bayes - Bernoulli</td>\n",
              "      <td>Balanced - SMOTE</td>\n",
              "      <td>0.52</td>\n",
              "      <td>0.34</td>\n",
              "      <td>0.64</td>\n",
              "      <td>0.577748</td>\n",
              "    </tr>\n",
              "    <tr>\n",
              "      <th>19</th>\n",
              "      <td>Naive Bayes - Bernoulli</td>\n",
              "      <td>Imbalanced - Mismatch</td>\n",
              "      <td>0.37</td>\n",
              "      <td>1.00</td>\n",
              "      <td>0.37</td>\n",
              "      <td>0.500000</td>\n",
              "    </tr>\n",
              "    <tr>\n",
              "      <th>20</th>\n",
              "      <td>Random Forest</td>\n",
              "      <td>Imbalanced - Match</td>\n",
              "      <td>0.93</td>\n",
              "      <td>0.94</td>\n",
              "      <td>0.95</td>\n",
              "      <td>0.947209</td>\n",
              "    </tr>\n",
              "    <tr>\n",
              "      <th>21</th>\n",
              "      <td>Random Forest</td>\n",
              "      <td>Balanced - Manual</td>\n",
              "      <td>0.92</td>\n",
              "      <td>0.97</td>\n",
              "      <td>0.96</td>\n",
              "      <td>0.959416</td>\n",
              "    </tr>\n",
              "    <tr>\n",
              "      <th>22</th>\n",
              "      <td>Random Forest</td>\n",
              "      <td>Balanced - SMOTE</td>\n",
              "      <td>0.93</td>\n",
              "      <td>0.94</td>\n",
              "      <td>0.95</td>\n",
              "      <td>0.949751</td>\n",
              "    </tr>\n",
              "    <tr>\n",
              "      <th>23</th>\n",
              "      <td>Random Forest</td>\n",
              "      <td>Imbalanced - Mismatch</td>\n",
              "      <td>0.92</td>\n",
              "      <td>0.99</td>\n",
              "      <td>0.96</td>\n",
              "      <td>0.968667</td>\n",
              "    </tr>\n",
              "    <tr>\n",
              "      <th>24</th>\n",
              "      <td>Light GBM</td>\n",
              "      <td>Imbalanced - Match</td>\n",
              "      <td>0.91</td>\n",
              "      <td>1.00</td>\n",
              "      <td>0.96</td>\n",
              "      <td>0.970387</td>\n",
              "    </tr>\n",
              "    <tr>\n",
              "      <th>25</th>\n",
              "      <td>Light GBM</td>\n",
              "      <td>Balanced - Manual</td>\n",
              "      <td>0.91</td>\n",
              "      <td>1.00</td>\n",
              "      <td>0.96</td>\n",
              "      <td>0.971012</td>\n",
              "    </tr>\n",
              "    <tr>\n",
              "      <th>26</th>\n",
              "      <td>Light GBM</td>\n",
              "      <td>Balanced - SMOTE</td>\n",
              "      <td>0.91</td>\n",
              "      <td>1.00</td>\n",
              "      <td>0.96</td>\n",
              "      <td>0.971434</td>\n",
              "    </tr>\n",
              "    <tr>\n",
              "      <th>27</th>\n",
              "      <td>Light GBM</td>\n",
              "      <td>Imbalanced - Mismatch</td>\n",
              "      <td>0.91</td>\n",
              "      <td>1.00</td>\n",
              "      <td>0.96</td>\n",
              "      <td>0.971012</td>\n",
              "    </tr>\n",
              "  </tbody>\n",
              "</table>\n",
              "</div>"
            ],
            "text/plain": [
              "                 Classifier                  Model  ...  Accuracy       AUC\n",
              "0            SVM - Gaussian     Imbalanced - Match  ...      0.96  0.968904\n",
              "1            SVM - Gaussian      Balanced - Manual  ...      0.95  0.961294\n",
              "2            SVM - Gaussian       Balanced - SMOTE  ...      0.96  0.968815\n",
              "3            SVM - Gaussian  Imbalanced - Mismatch  ...      0.92  0.934932\n",
              "4          SVM - Polynomial     Imbalanced - Match  ...      0.85  0.872102\n",
              "5          SVM - Polynomial      Balanced - Manual  ...      0.82  0.856551\n",
              "6          SVM - Polynomial       Balanced - SMOTE  ...      0.82  0.856463\n",
              "7          SVM - Polynomial  Imbalanced - Mismatch  ...      0.79  0.836360\n",
              "8             SVM - Sigmoid     Imbalanced - Match  ...      0.53  0.493823\n",
              "9             SVM - Sigmoid      Balanced - Manual  ...      0.54  0.538519\n",
              "10            SVM - Sigmoid       Balanced - SMOTE  ...      0.54  0.538246\n",
              "11            SVM - Sigmoid  Imbalanced - Mismatch  ...      0.46  0.504486\n",
              "12   Naive Bayes - Gaussian     Imbalanced - Match  ...      0.96  0.971434\n",
              "13   Naive Bayes - Gaussian      Balanced - Manual  ...      0.96  0.971434\n",
              "14   Naive Bayes - Gaussian       Balanced - SMOTE  ...      0.96  0.971434\n",
              "15   Naive Bayes - Gaussian  Imbalanced - Mismatch  ...      0.96  0.971434\n",
              "16  Naive Bayes - Bernoulli     Imbalanced - Match  ...      0.64  0.577748\n",
              "17  Naive Bayes - Bernoulli      Balanced - Manual  ...      0.64  0.577748\n",
              "18  Naive Bayes - Bernoulli       Balanced - SMOTE  ...      0.64  0.577748\n",
              "19  Naive Bayes - Bernoulli  Imbalanced - Mismatch  ...      0.37  0.500000\n",
              "20            Random Forest     Imbalanced - Match  ...      0.95  0.947209\n",
              "21            Random Forest      Balanced - Manual  ...      0.96  0.959416\n",
              "22            Random Forest       Balanced - SMOTE  ...      0.95  0.949751\n",
              "23            Random Forest  Imbalanced - Mismatch  ...      0.96  0.968667\n",
              "24                Light GBM     Imbalanced - Match  ...      0.96  0.970387\n",
              "25                Light GBM      Balanced - Manual  ...      0.96  0.971012\n",
              "26                Light GBM       Balanced - SMOTE  ...      0.96  0.971434\n",
              "27                Light GBM  Imbalanced - Mismatch  ...      0.96  0.971012\n",
              "\n",
              "[28 rows x 6 columns]"
            ]
          },
          "metadata": {
            "tags": []
          },
          "execution_count": 325
        }
      ]
    },
    {
      "cell_type": "code",
      "metadata": {
        "id": "Ysr7w__9KmXC",
        "colab_type": "code",
        "colab": {
          "base_uri": "https://localhost:8080/",
          "height": 297
        },
        "outputId": "e09415f9-84fc-4b53-ac03-4de35654f6a9"
      },
      "source": [
        "results.sort_values('AUC').tail(8)"
      ],
      "execution_count": null,
      "outputs": [
        {
          "output_type": "execute_result",
          "data": {
            "text/html": [
              "<div>\n",
              "<style scoped>\n",
              "    .dataframe tbody tr th:only-of-type {\n",
              "        vertical-align: middle;\n",
              "    }\n",
              "\n",
              "    .dataframe tbody tr th {\n",
              "        vertical-align: top;\n",
              "    }\n",
              "\n",
              "    .dataframe thead th {\n",
              "        text-align: right;\n",
              "    }\n",
              "</style>\n",
              "<table border=\"1\" class=\"dataframe\">\n",
              "  <thead>\n",
              "    <tr style=\"text-align: right;\">\n",
              "      <th></th>\n",
              "      <th>Classifier</th>\n",
              "      <th>Model</th>\n",
              "      <th>Specificity</th>\n",
              "      <th>Sensitivity</th>\n",
              "      <th>Accuracy</th>\n",
              "      <th>AUC</th>\n",
              "    </tr>\n",
              "  </thead>\n",
              "  <tbody>\n",
              "    <tr>\n",
              "      <th>24</th>\n",
              "      <td>Light GBM</td>\n",
              "      <td>Imbalanced - Match</td>\n",
              "      <td>0.91</td>\n",
              "      <td>1.0</td>\n",
              "      <td>0.96</td>\n",
              "      <td>0.970387</td>\n",
              "    </tr>\n",
              "    <tr>\n",
              "      <th>25</th>\n",
              "      <td>Light GBM</td>\n",
              "      <td>Balanced - Manual</td>\n",
              "      <td>0.91</td>\n",
              "      <td>1.0</td>\n",
              "      <td>0.96</td>\n",
              "      <td>0.971012</td>\n",
              "    </tr>\n",
              "    <tr>\n",
              "      <th>27</th>\n",
              "      <td>Light GBM</td>\n",
              "      <td>Imbalanced - Mismatch</td>\n",
              "      <td>0.91</td>\n",
              "      <td>1.0</td>\n",
              "      <td>0.96</td>\n",
              "      <td>0.971012</td>\n",
              "    </tr>\n",
              "    <tr>\n",
              "      <th>14</th>\n",
              "      <td>Naive Bayes - Gaussian</td>\n",
              "      <td>Balanced - SMOTE</td>\n",
              "      <td>0.91</td>\n",
              "      <td>1.0</td>\n",
              "      <td>0.96</td>\n",
              "      <td>0.971434</td>\n",
              "    </tr>\n",
              "    <tr>\n",
              "      <th>26</th>\n",
              "      <td>Light GBM</td>\n",
              "      <td>Balanced - SMOTE</td>\n",
              "      <td>0.91</td>\n",
              "      <td>1.0</td>\n",
              "      <td>0.96</td>\n",
              "      <td>0.971434</td>\n",
              "    </tr>\n",
              "    <tr>\n",
              "      <th>12</th>\n",
              "      <td>Naive Bayes - Gaussian</td>\n",
              "      <td>Imbalanced - Match</td>\n",
              "      <td>0.91</td>\n",
              "      <td>1.0</td>\n",
              "      <td>0.96</td>\n",
              "      <td>0.971434</td>\n",
              "    </tr>\n",
              "    <tr>\n",
              "      <th>15</th>\n",
              "      <td>Naive Bayes - Gaussian</td>\n",
              "      <td>Imbalanced - Mismatch</td>\n",
              "      <td>0.91</td>\n",
              "      <td>1.0</td>\n",
              "      <td>0.96</td>\n",
              "      <td>0.971434</td>\n",
              "    </tr>\n",
              "    <tr>\n",
              "      <th>13</th>\n",
              "      <td>Naive Bayes - Gaussian</td>\n",
              "      <td>Balanced - Manual</td>\n",
              "      <td>0.91</td>\n",
              "      <td>1.0</td>\n",
              "      <td>0.96</td>\n",
              "      <td>0.971434</td>\n",
              "    </tr>\n",
              "  </tbody>\n",
              "</table>\n",
              "</div>"
            ],
            "text/plain": [
              "                Classifier                  Model  ...  Accuracy       AUC\n",
              "24               Light GBM     Imbalanced - Match  ...      0.96  0.970387\n",
              "25               Light GBM      Balanced - Manual  ...      0.96  0.971012\n",
              "27               Light GBM  Imbalanced - Mismatch  ...      0.96  0.971012\n",
              "14  Naive Bayes - Gaussian       Balanced - SMOTE  ...      0.96  0.971434\n",
              "26               Light GBM       Balanced - SMOTE  ...      0.96  0.971434\n",
              "12  Naive Bayes - Gaussian     Imbalanced - Match  ...      0.96  0.971434\n",
              "15  Naive Bayes - Gaussian  Imbalanced - Mismatch  ...      0.96  0.971434\n",
              "13  Naive Bayes - Gaussian      Balanced - Manual  ...      0.96  0.971434\n",
              "\n",
              "[8 rows x 6 columns]"
            ]
          },
          "metadata": {
            "tags": []
          },
          "execution_count": 327
        }
      ]
    },
    {
      "cell_type": "code",
      "metadata": {
        "id": "TqsevI-5pZhu",
        "colab_type": "code",
        "colab": {
          "base_uri": "https://localhost:8080/",
          "height": 339
        },
        "outputId": "d7c753bb-8de5-450d-8c45-dd96d0b870a2"
      },
      "source": [
        "# calculate roc curves\n",
        "ns_fpr, ns_tpr, _ = roc_curve(y_test, ns_probs)\n",
        "m1_svm_linear_fpr, m1_svm_linear_tpr, _ = roc_curve(y_test, y_pred_m1_svm_linear)\n",
        "m2_svm_linear_fpr, m2_svm_linear_tpr, _ = roc_curve(y_test, y_pred_m2_svm_linear)\n",
        "m3_svm_linear_fpr, m3_svm_linear_tpr, _ = roc_curve(y_test, y_pred_m3_svm_linear)\n",
        "m4_svm_linear_fpr, m4_svm_linear_tpr, _ = roc_curve(y_test, y_pred_m4_svm_linear)\n",
        "m1_naive_gaussian_fpr, m1_naive_gaussian_tpr, _ = roc_curve(y_test, y_pred_m1_naive_gaussian)\n",
        "m2_naive_gaussian_fpr, m2_naive_gaussian_tpr, _ = roc_curve(y_test, y_pred_m2_naive_gaussian)\n",
        "m3_naive_gaussian_fpr, m3_naive_gaussian_tpr, _ = roc_curve(y_test, y_pred_m3_naive_gaussian)\n",
        "m4_naive_gaussian_fpr, m4_naive_gaussian_tpr, _ = roc_curve(y_test, y_pred_m4_naive_gaussian)\n",
        "m1_rf_fpr, m1_rf_tpr, _ = roc_curve(y_test, y_pred_m1_rf)\n",
        "m2_rf_fpr, m2_rf_tpr, _ = roc_curve(y_test, y_pred_m2_rf)\n",
        "m3_rf_fpr, m3_rf_tpr, _ = roc_curve(y_test, y_pred_m3_rf)\n",
        "m4_rf_fpr, m4_rf_tpr, _ = roc_curve(y_test, y_pred_m4_rf)\n",
        "m1_lgb_fpr, m1_lgb_tpr, _ = roc_curve(y_test, y_pred_m1_lgb)\n",
        "m2_lgb_fpr, m2_lgb_tpr, _ = roc_curve(y_test, y_pred_m2_lgb)\n",
        "m3_lgb_fpr, m3_lgb_tpr, _ = roc_curve(y_test, y_pred_m3_lgb)\n",
        "m4_lgb_fpr, m4_lgb_tpr, _ = roc_curve(y_test, y_pred_m4_lgb)\n",
        "\n",
        "\n",
        "# plot the roc curve for the model\n",
        "pyplot.plot(ns_fpr, ns_tpr, linestyle='--', label='No Skill')\n",
        "pyplot.plot(m1_svm_linear_fpr, m1_svm_linear_tpr, marker='.', label='M1_SVM_Linear')\n",
        "pyplot.plot(m2_svm_linear_fpr, m2_svm_linear_tpr, marker='.', label='M2_SVM_Linear')\n",
        "pyplot.plot(m3_svm_linear_fpr, m3_svm_linear_tpr, marker='.', label='M3_SVM_Linear')\n",
        "pyplot.plot(m4_svm_linear_fpr, m4_svm_linear_tpr, marker='.', label='M4_SVM_Linear')\n",
        "pyplot.plot(m1_naive_gaussian_fpr, m1_naive_gaussian_tpr, marker='.', label='M1_Naive_Bayes_Gaussian')\n",
        "pyplot.plot(m2_naive_gaussian_fpr, m2_naive_gaussian_tpr, marker='.', label='M2_Naive_Bayes_Gaussian')\n",
        "pyplot.plot(m3_naive_gaussian_fpr, m3_naive_gaussian_tpr, marker='.', label='M3_Naive_Bayes_Gaussian')\n",
        "pyplot.plot(m4_naive_gaussian_fpr, m4_naive_gaussian_tpr, marker='.', label='M4_Naive_Bayes_Gaussian')\n",
        "pyplot.plot(m1_rf_fpr, m1_rf_tpr, marker='.', label='M1_Random_Forest')\n",
        "pyplot.plot(m2_rf_fpr, m2_rf_tpr, marker='.', label='M2_Random_Forest')\n",
        "pyplot.plot(m3_rf_fpr, m3_rf_tpr, marker='.', label='M3_Random_Forest')\n",
        "pyplot.plot(m4_rf_fpr, m4_rf_tpr, marker='.', label='M4_Random_Forest')\n",
        "pyplot.plot(m1_lgb_fpr, m1_lgb_tpr, marker='.', label='M1_LightGBM')\n",
        "pyplot.plot(m2_lgb_fpr, m2_lgb_tpr, marker='.', label='M2_LightGBM')\n",
        "pyplot.plot(m3_lgb_fpr, m3_lgb_tpr, marker='.', label='M3_LightGBM')\n",
        "pyplot.plot(m4_lgb_fpr, m4_lgb_tpr, marker='.', label='M4_LightGBM')\n",
        "\n",
        "\n",
        "# axis labels\n",
        "pyplot.xlabel('False Positive Rate')\n",
        "pyplot.ylabel('True Positive Rate')\n",
        "# show the legend\n",
        "pyplot.legend()\n",
        "# show the plot\n",
        "pyplot.show()"
      ],
      "execution_count": null,
      "outputs": [
        {
          "output_type": "display_data",
          "data": {
            "image/png": "[encoded data removed]",
            "text/plain": [
              "<Figure size 432x288 with 1 Axes>"
            ]
          },
          "metadata": {
            "tags": [],
            "needs_background": "light"
          }
        }
      ]
    },
    {
      "cell_type": "code",
      "metadata": {
        "id": "OQEYMYFEJYe0",
        "colab_type": "code",
        "colab": {}
      },
      "source": [
        ""
      ],
      "execution_count": null,
      "outputs": []
    }
  ]
}