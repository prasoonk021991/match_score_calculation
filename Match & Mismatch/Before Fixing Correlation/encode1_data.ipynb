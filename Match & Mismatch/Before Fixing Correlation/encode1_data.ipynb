{
  "nbformat": 4,
  "nbformat_minor": 0,
  "metadata": {
    "colab": {
      "name": "encode1_data.ipynb",
      "provenance": [],
      "collapsed_sections": []
    },
    "kernelspec": {
      "name": "python3",
      "display_name": "Python 3"
    }
  },
  "cells": [
    {
      "cell_type": "code",
      "metadata": {
        "id": "Hg3sBDLbJG0S",
        "colab_type": "code",
        "colab": {
          "base_uri": "https://localhost:8080/",
          "height": 234
        },
        "outputId": "bc9884e5-a497-4169-cfd7-a4727d5533ca"
      },
      "source": [
        "import pandas as pd\n",
        "import numpy as np\n",
        "\n",
        "data = pd.read_csv(\"cleaned_off.csv\")\n",
        "data.head()"
      ],
      "execution_count": null,
      "outputs": [
        {
          "output_type": "execute_result",
          "data": {
            "text/html": [
              "<div>\n",
              "<style scoped>\n",
              "    .dataframe tbody tr th:only-of-type {\n",
              "        vertical-align: middle;\n",
              "    }\n",
              "\n",
              "    .dataframe tbody tr th {\n",
              "        vertical-align: top;\n",
              "    }\n",
              "\n",
              "    .dataframe thead th {\n",
              "        text-align: right;\n",
              "    }\n",
              "</style>\n",
              "<table border=\"1\" class=\"dataframe\">\n",
              "  <thead>\n",
              "    <tr style=\"text-align: right;\">\n",
              "      <th></th>\n",
              "      <th>Unnamed: 0</th>\n",
              "      <th>ConstructBarcode</th>\n",
              "      <th>MutatedSequence</th>\n",
              "      <th>WTSequence</th>\n",
              "      <th>Annotation</th>\n",
              "      <th>TranscriptID</th>\n",
              "      <th>Protein Annotation</th>\n",
              "      <th>Day21-ETP</th>\n",
              "      <th>Category</th>\n",
              "    </tr>\n",
              "  </thead>\n",
              "  <tbody>\n",
              "    <tr>\n",
              "      <th>0</th>\n",
              "      <td>0</td>\n",
              "      <td>AAAAATATCAGTGTGTATAG</td>\n",
              "      <td>AAAAATATCAGTGTGTATAG</td>\n",
              "      <td>AAAAGTATCAGTGTGTATAG</td>\n",
              "      <td>G:A,5</td>\n",
              "      <td>ENSMUST00000114840</td>\n",
              "      <td>76.54</td>\n",
              "      <td>0.758783</td>\n",
              "      <td>Mismatch</td>\n",
              "    </tr>\n",
              "    <tr>\n",
              "      <th>1</th>\n",
              "      <td>1</td>\n",
              "      <td>AAAGTATCACGTGTGTATAG</td>\n",
              "      <td>AAAAGTATCACGTGTGTATAG</td>\n",
              "      <td>AAAAGTATCAGTGTGTATAG</td>\n",
              "      <td>I:C,11</td>\n",
              "      <td>ENSMUST00000114840</td>\n",
              "      <td>76.54</td>\n",
              "      <td>0.490986</td>\n",
              "      <td>Insertion</td>\n",
              "    </tr>\n",
              "    <tr>\n",
              "      <th>2</th>\n",
              "      <td>2</td>\n",
              "      <td>GAAAAGTATAGTGTGTATAG</td>\n",
              "      <td>AAAAGTATAGTGTGTATAG</td>\n",
              "      <td>AAAAGTATCAGTGTGTATAG</td>\n",
              "      <td>D:C,9</td>\n",
              "      <td>ENSMUST00000114840</td>\n",
              "      <td>76.54</td>\n",
              "      <td>0.428038</td>\n",
              "      <td>Deletion</td>\n",
              "    </tr>\n",
              "    <tr>\n",
              "      <th>3</th>\n",
              "      <td>3</td>\n",
              "      <td>AAAAGTATCAGTGTGTATAC</td>\n",
              "      <td>AAAAGTATCAGTGTGTATAC</td>\n",
              "      <td>AAAAGTATCAGTGTGTATAG</td>\n",
              "      <td>G:C,20</td>\n",
              "      <td>ENSMUST00000114840</td>\n",
              "      <td>76.54</td>\n",
              "      <td>0.345700</td>\n",
              "      <td>Mismatch</td>\n",
              "    </tr>\n",
              "    <tr>\n",
              "      <th>4</th>\n",
              "      <td>4</td>\n",
              "      <td>AAAGTATCAAGTGTGTATAG</td>\n",
              "      <td>AAAAGTATCAAGTGTGTATAG</td>\n",
              "      <td>AAAAGTATCAGTGTGTATAG</td>\n",
              "      <td>I:A,10</td>\n",
              "      <td>ENSMUST00000114840</td>\n",
              "      <td>76.54</td>\n",
              "      <td>0.143454</td>\n",
              "      <td>Insertion</td>\n",
              "    </tr>\n",
              "  </tbody>\n",
              "</table>\n",
              "</div>"
            ],
            "text/plain": [
              "   Unnamed: 0      ConstructBarcode  ... Day21-ETP   Category\n",
              "0           0  AAAAATATCAGTGTGTATAG  ...  0.758783   Mismatch\n",
              "1           1  AAAGTATCACGTGTGTATAG  ...  0.490986  Insertion\n",
              "2           2  GAAAAGTATAGTGTGTATAG  ...  0.428038   Deletion\n",
              "3           3  AAAAGTATCAGTGTGTATAC  ...  0.345700   Mismatch\n",
              "4           4  AAAGTATCAAGTGTGTATAG  ...  0.143454  Insertion\n",
              "\n",
              "[5 rows x 9 columns]"
            ]
          },
          "metadata": {
            "tags": []
          },
          "execution_count": 4
        }
      ]
    },
    {
      "cell_type": "code",
      "metadata": {
        "id": "KGrpjdMAKIwL",
        "colab_type": "code",
        "colab": {}
      },
      "source": [
        "data = data.drop(['Unnamed: 0'], axis=1)"
      ],
      "execution_count": null,
      "outputs": []
    },
    {
      "cell_type": "code",
      "metadata": {
        "id": "yzEHNi3Nw4ua",
        "colab_type": "code",
        "colab": {
          "base_uri": "https://localhost:8080/",
          "height": 234
        },
        "outputId": "472ecc38-67f9-4cc6-ed2f-a33e3895639d"
      },
      "source": [
        "data.head()"
      ],
      "execution_count": null,
      "outputs": [
        {
          "output_type": "execute_result",
          "data": {
            "text/html": [
              "<div>\n",
              "<style scoped>\n",
              "    .dataframe tbody tr th:only-of-type {\n",
              "        vertical-align: middle;\n",
              "    }\n",
              "\n",
              "    .dataframe tbody tr th {\n",
              "        vertical-align: top;\n",
              "    }\n",
              "\n",
              "    .dataframe thead th {\n",
              "        text-align: right;\n",
              "    }\n",
              "</style>\n",
              "<table border=\"1\" class=\"dataframe\">\n",
              "  <thead>\n",
              "    <tr style=\"text-align: right;\">\n",
              "      <th></th>\n",
              "      <th>ConstructBarcode</th>\n",
              "      <th>MutatedSequence</th>\n",
              "      <th>WTSequence</th>\n",
              "      <th>Annotation</th>\n",
              "      <th>TranscriptID</th>\n",
              "      <th>Protein Annotation</th>\n",
              "      <th>Day21-ETP</th>\n",
              "      <th>Category</th>\n",
              "    </tr>\n",
              "  </thead>\n",
              "  <tbody>\n",
              "    <tr>\n",
              "      <th>0</th>\n",
              "      <td>AAAAATATCAGTGTGTATAG</td>\n",
              "      <td>AAAAATATCAGTGTGTATAG</td>\n",
              "      <td>AAAAGTATCAGTGTGTATAG</td>\n",
              "      <td>G:A,5</td>\n",
              "      <td>ENSMUST00000114840</td>\n",
              "      <td>76.54</td>\n",
              "      <td>0.758783</td>\n",
              "      <td>Mismatch</td>\n",
              "    </tr>\n",
              "    <tr>\n",
              "      <th>1</th>\n",
              "      <td>AAAGTATCACGTGTGTATAG</td>\n",
              "      <td>AAAAGTATCACGTGTGTATAG</td>\n",
              "      <td>AAAAGTATCAGTGTGTATAG</td>\n",
              "      <td>I:C,11</td>\n",
              "      <td>ENSMUST00000114840</td>\n",
              "      <td>76.54</td>\n",
              "      <td>0.490986</td>\n",
              "      <td>Insertion</td>\n",
              "    </tr>\n",
              "    <tr>\n",
              "      <th>2</th>\n",
              "      <td>GAAAAGTATAGTGTGTATAG</td>\n",
              "      <td>AAAAGTATAGTGTGTATAG</td>\n",
              "      <td>AAAAGTATCAGTGTGTATAG</td>\n",
              "      <td>D:C,9</td>\n",
              "      <td>ENSMUST00000114840</td>\n",
              "      <td>76.54</td>\n",
              "      <td>0.428038</td>\n",
              "      <td>Deletion</td>\n",
              "    </tr>\n",
              "    <tr>\n",
              "      <th>3</th>\n",
              "      <td>AAAAGTATCAGTGTGTATAC</td>\n",
              "      <td>AAAAGTATCAGTGTGTATAC</td>\n",
              "      <td>AAAAGTATCAGTGTGTATAG</td>\n",
              "      <td>G:C,20</td>\n",
              "      <td>ENSMUST00000114840</td>\n",
              "      <td>76.54</td>\n",
              "      <td>0.345700</td>\n",
              "      <td>Mismatch</td>\n",
              "    </tr>\n",
              "    <tr>\n",
              "      <th>4</th>\n",
              "      <td>AAAGTATCAAGTGTGTATAG</td>\n",
              "      <td>AAAAGTATCAAGTGTGTATAG</td>\n",
              "      <td>AAAAGTATCAGTGTGTATAG</td>\n",
              "      <td>I:A,10</td>\n",
              "      <td>ENSMUST00000114840</td>\n",
              "      <td>76.54</td>\n",
              "      <td>0.143454</td>\n",
              "      <td>Insertion</td>\n",
              "    </tr>\n",
              "  </tbody>\n",
              "</table>\n",
              "</div>"
            ],
            "text/plain": [
              "       ConstructBarcode        MutatedSequence  ... Day21-ETP   Category\n",
              "0  AAAAATATCAGTGTGTATAG   AAAAATATCAGTGTGTATAG  ...  0.758783   Mismatch\n",
              "1  AAAGTATCACGTGTGTATAG  AAAAGTATCACGTGTGTATAG  ...  0.490986  Insertion\n",
              "2  GAAAAGTATAGTGTGTATAG    AAAAGTATAGTGTGTATAG  ...  0.428038   Deletion\n",
              "3  AAAAGTATCAGTGTGTATAC   AAAAGTATCAGTGTGTATAC  ...  0.345700   Mismatch\n",
              "4  AAAGTATCAAGTGTGTATAG  AAAAGTATCAAGTGTGTATAG  ...  0.143454  Insertion\n",
              "\n",
              "[5 rows x 8 columns]"
            ]
          },
          "metadata": {
            "tags": []
          },
          "execution_count": 6
        }
      ]
    },
    {
      "cell_type": "code",
      "metadata": {
        "id": "S-dIrNUjBtMZ",
        "colab_type": "code",
        "colab": {}
      },
      "source": [
        "score1 = []\n",
        "score2 = []\n",
        "score3 = []\n",
        "\n",
        "\n",
        "cb_list = data['ConstructBarcode'].tolist()\n",
        "wt_list = data['WTSequence'].tolist()\n",
        "mt_list = data['MutatedSequence'].tolist()"
      ],
      "execution_count": null,
      "outputs": []
    },
    {
      "cell_type": "code",
      "metadata": {
        "id": "_DjKBVBsCQUJ",
        "colab_type": "code",
        "colab": {}
      },
      "source": [
        "scr1 = 0\n",
        "\n",
        "for a,b in zip(cb_list, wt_list):\n",
        "  for c1, c2 in zip(a, b):\n",
        "    if c1 == c2:\n",
        "      scr1 += 1\n",
        "    else:\n",
        "      scr1 +=0\n",
        "      \n",
        "  score1.append(scr1)\n",
        "  scr1 = 0\n",
        "\n",
        "data['sgRNA_vs_Target'] = score1"
      ],
      "execution_count": null,
      "outputs": []
    },
    {
      "cell_type": "code",
      "metadata": {
        "id": "rchrtmxUHsfx",
        "colab_type": "code",
        "colab": {}
      },
      "source": [
        "scr2 = 0\n",
        "\n",
        "for c,d in zip(cb_list, mt_list):\n",
        "  for c3, c4 in zip(c, d):\n",
        "    if c3 == c4:\n",
        "      scr2 += 1\n",
        "    else:\n",
        "      scr2 +=0\n",
        "      \n",
        "  score2.append(scr2)\n",
        "  scr2 = 0\n",
        "\n",
        "data['sgRNA_vs_Mutated'] = score2"
      ],
      "execution_count": null,
      "outputs": []
    },
    {
      "cell_type": "code",
      "metadata": {
        "id": "_CF06dHMIdWo",
        "colab_type": "code",
        "colab": {}
      },
      "source": [
        "scr3 = 0\n",
        "\n",
        "for e,f in zip(mt_list, wt_list):\n",
        "  for c5, c6 in zip(e, f):\n",
        "    if c5 == c6:\n",
        "      scr3 += 1\n",
        "    else:\n",
        "      scr3 +=0\n",
        "      \n",
        "  score3.append(scr3)\n",
        "  scr3 = 0\n",
        "\n",
        "data['Mutated_vs_Target'] = score3"
      ],
      "execution_count": null,
      "outputs": []
    },
    {
      "cell_type": "code",
      "metadata": {
        "id": "3DDQKggTJDZ4",
        "colab_type": "code",
        "colab": {
          "base_uri": "https://localhost:8080/",
          "height": 234
        },
        "outputId": "df938f88-dfe0-45f7-b39c-7675c786453b"
      },
      "source": [
        "data.head()"
      ],
      "execution_count": null,
      "outputs": [
        {
          "output_type": "execute_result",
          "data": {
            "text/html": [
              "<div>\n",
              "<style scoped>\n",
              "    .dataframe tbody tr th:only-of-type {\n",
              "        vertical-align: middle;\n",
              "    }\n",
              "\n",
              "    .dataframe tbody tr th {\n",
              "        vertical-align: top;\n",
              "    }\n",
              "\n",
              "    .dataframe thead th {\n",
              "        text-align: right;\n",
              "    }\n",
              "</style>\n",
              "<table border=\"1\" class=\"dataframe\">\n",
              "  <thead>\n",
              "    <tr style=\"text-align: right;\">\n",
              "      <th></th>\n",
              "      <th>ConstructBarcode</th>\n",
              "      <th>MutatedSequence</th>\n",
              "      <th>WTSequence</th>\n",
              "      <th>Annotation</th>\n",
              "      <th>TranscriptID</th>\n",
              "      <th>Protein Annotation</th>\n",
              "      <th>Day21-ETP</th>\n",
              "      <th>Category</th>\n",
              "      <th>sgRNA_vs_Target</th>\n",
              "      <th>sgRNA_vs_Mutated</th>\n",
              "      <th>Mutated_vs_Target</th>\n",
              "    </tr>\n",
              "  </thead>\n",
              "  <tbody>\n",
              "    <tr>\n",
              "      <th>0</th>\n",
              "      <td>AAAAATATCAGTGTGTATAG</td>\n",
              "      <td>AAAAATATCAGTGTGTATAG</td>\n",
              "      <td>AAAAGTATCAGTGTGTATAG</td>\n",
              "      <td>G:A,5</td>\n",
              "      <td>ENSMUST00000114840</td>\n",
              "      <td>76.54</td>\n",
              "      <td>0.758783</td>\n",
              "      <td>Mismatch</td>\n",
              "      <td>19</td>\n",
              "      <td>20</td>\n",
              "      <td>19</td>\n",
              "    </tr>\n",
              "    <tr>\n",
              "      <th>1</th>\n",
              "      <td>AAAGTATCACGTGTGTATAG</td>\n",
              "      <td>AAAAGTATCACGTGTGTATAG</td>\n",
              "      <td>AAAAGTATCAGTGTGTATAG</td>\n",
              "      <td>I:C,11</td>\n",
              "      <td>ENSMUST00000114840</td>\n",
              "      <td>76.54</td>\n",
              "      <td>0.490986</td>\n",
              "      <td>Insertion</td>\n",
              "      <td>13</td>\n",
              "      <td>3</td>\n",
              "      <td>10</td>\n",
              "    </tr>\n",
              "    <tr>\n",
              "      <th>2</th>\n",
              "      <td>GAAAAGTATAGTGTGTATAG</td>\n",
              "      <td>AAAAGTATAGTGTGTATAG</td>\n",
              "      <td>AAAAGTATCAGTGTGTATAG</td>\n",
              "      <td>D:C,9</td>\n",
              "      <td>ENSMUST00000114840</td>\n",
              "      <td>76.54</td>\n",
              "      <td>0.428038</td>\n",
              "      <td>Deletion</td>\n",
              "      <td>14</td>\n",
              "      <td>3</td>\n",
              "      <td>8</td>\n",
              "    </tr>\n",
              "    <tr>\n",
              "      <th>3</th>\n",
              "      <td>AAAAGTATCAGTGTGTATAC</td>\n",
              "      <td>AAAAGTATCAGTGTGTATAC</td>\n",
              "      <td>AAAAGTATCAGTGTGTATAG</td>\n",
              "      <td>G:C,20</td>\n",
              "      <td>ENSMUST00000114840</td>\n",
              "      <td>76.54</td>\n",
              "      <td>0.345700</td>\n",
              "      <td>Mismatch</td>\n",
              "      <td>19</td>\n",
              "      <td>20</td>\n",
              "      <td>19</td>\n",
              "    </tr>\n",
              "    <tr>\n",
              "      <th>4</th>\n",
              "      <td>AAAGTATCAAGTGTGTATAG</td>\n",
              "      <td>AAAAGTATCAAGTGTGTATAG</td>\n",
              "      <td>AAAAGTATCAGTGTGTATAG</td>\n",
              "      <td>I:A,10</td>\n",
              "      <td>ENSMUST00000114840</td>\n",
              "      <td>76.54</td>\n",
              "      <td>0.143454</td>\n",
              "      <td>Insertion</td>\n",
              "      <td>14</td>\n",
              "      <td>4</td>\n",
              "      <td>10</td>\n",
              "    </tr>\n",
              "  </tbody>\n",
              "</table>\n",
              "</div>"
            ],
            "text/plain": [
              "       ConstructBarcode  ... Mutated_vs_Target\n",
              "0  AAAAATATCAGTGTGTATAG  ...                19\n",
              "1  AAAGTATCACGTGTGTATAG  ...                10\n",
              "2  GAAAAGTATAGTGTGTATAG  ...                 8\n",
              "3  AAAAGTATCAGTGTGTATAC  ...                19\n",
              "4  AAAGTATCAAGTGTGTATAG  ...                10\n",
              "\n",
              "[5 rows x 11 columns]"
            ]
          },
          "metadata": {
            "tags": []
          },
          "execution_count": 11
        }
      ]
    },
    {
      "cell_type": "code",
      "metadata": {
        "id": "BHCDiVqXxO2B",
        "colab_type": "code",
        "colab": {}
      },
      "source": [
        "data['TranscriptID'] = data['TranscriptID'].astype('category')\n",
        "data['TID'] = data['TranscriptID'].cat.codes"
      ],
      "execution_count": null,
      "outputs": []
    },
    {
      "cell_type": "code",
      "metadata": {
        "id": "AE4MBo0QK5Pe",
        "colab_type": "code",
        "colab": {
          "base_uri": "https://localhost:8080/",
          "height": 70
        },
        "outputId": "c11c6505-6fa0-4ac7-f914-3f283e77bbe5"
      },
      "source": [
        "data.TranscriptID.value_counts()"
      ],
      "execution_count": null,
      "outputs": [
        {
          "output_type": "execute_result",
          "data": {
            "text/plain": [
              "ENST00000262262       28837\n",
              "ENSMUST00000114840    11727\n",
              "Name: TranscriptID, dtype: int64"
            ]
          },
          "metadata": {
            "tags": []
          },
          "execution_count": 13
        }
      ]
    },
    {
      "cell_type": "code",
      "metadata": {
        "id": "m0F7Zfy0K0A8",
        "colab_type": "code",
        "colab": {
          "base_uri": "https://localhost:8080/",
          "height": 70
        },
        "outputId": "d2796bb7-62ab-4647-d575-3f698bd462da"
      },
      "source": [
        "data.TID.value_counts()"
      ],
      "execution_count": null,
      "outputs": [
        {
          "output_type": "execute_result",
          "data": {
            "text/plain": [
              "1    28837\n",
              "0    11727\n",
              "Name: TID, dtype: int64"
            ]
          },
          "metadata": {
            "tags": []
          },
          "execution_count": 14
        }
      ]
    },
    {
      "cell_type": "code",
      "metadata": {
        "id": "jZFIOSOBLDoS",
        "colab_type": "code",
        "colab": {}
      },
      "source": [
        "data[\"MatchResult\"] = data.apply(lambda row: 0 if row[\"Category\"] == \"Mismatch\" else 1, axis=1)"
      ],
      "execution_count": null,
      "outputs": []
    },
    {
      "cell_type": "code",
      "metadata": {
        "id": "oLvJ_UYRLWBQ",
        "colab_type": "code",
        "colab": {}
      },
      "source": [
        "data = data.drop(['Category'], axis=1)\n",
        "data = data.drop(['Annotation'], axis=1)\n",
        "data = data.drop(['TranscriptID'], axis=1)\n",
        "data = data.drop(['ConstructBarcode'], axis=1)\n",
        "data = data.drop(['MutatedSequence'], axis=1)\n",
        "data = data.drop(['WTSequence'], axis=1)"
      ],
      "execution_count": null,
      "outputs": []
    },
    {
      "cell_type": "code",
      "metadata": {
        "id": "iG41Op49MjWC",
        "colab_type": "code",
        "colab": {
          "base_uri": "https://localhost:8080/",
          "height": 197
        },
        "outputId": "c3586d54-bed2-4732-8daa-9802ba236114"
      },
      "source": [
        "data.head()"
      ],
      "execution_count": null,
      "outputs": [
        {
          "output_type": "execute_result",
          "data": {
            "text/html": [
              "<div>\n",
              "<style scoped>\n",
              "    .dataframe tbody tr th:only-of-type {\n",
              "        vertical-align: middle;\n",
              "    }\n",
              "\n",
              "    .dataframe tbody tr th {\n",
              "        vertical-align: top;\n",
              "    }\n",
              "\n",
              "    .dataframe thead th {\n",
              "        text-align: right;\n",
              "    }\n",
              "</style>\n",
              "<table border=\"1\" class=\"dataframe\">\n",
              "  <thead>\n",
              "    <tr style=\"text-align: right;\">\n",
              "      <th></th>\n",
              "      <th>Protein Annotation</th>\n",
              "      <th>Day21-ETP</th>\n",
              "      <th>sgRNA_vs_Target</th>\n",
              "      <th>sgRNA_vs_Mutated</th>\n",
              "      <th>Mutated_vs_Target</th>\n",
              "      <th>TID</th>\n",
              "      <th>MatchResult</th>\n",
              "    </tr>\n",
              "  </thead>\n",
              "  <tbody>\n",
              "    <tr>\n",
              "      <th>0</th>\n",
              "      <td>76.54</td>\n",
              "      <td>0.758783</td>\n",
              "      <td>19</td>\n",
              "      <td>20</td>\n",
              "      <td>19</td>\n",
              "      <td>0</td>\n",
              "      <td>0</td>\n",
              "    </tr>\n",
              "    <tr>\n",
              "      <th>1</th>\n",
              "      <td>76.54</td>\n",
              "      <td>0.490986</td>\n",
              "      <td>13</td>\n",
              "      <td>3</td>\n",
              "      <td>10</td>\n",
              "      <td>0</td>\n",
              "      <td>1</td>\n",
              "    </tr>\n",
              "    <tr>\n",
              "      <th>2</th>\n",
              "      <td>76.54</td>\n",
              "      <td>0.428038</td>\n",
              "      <td>14</td>\n",
              "      <td>3</td>\n",
              "      <td>8</td>\n",
              "      <td>0</td>\n",
              "      <td>1</td>\n",
              "    </tr>\n",
              "    <tr>\n",
              "      <th>3</th>\n",
              "      <td>76.54</td>\n",
              "      <td>0.345700</td>\n",
              "      <td>19</td>\n",
              "      <td>20</td>\n",
              "      <td>19</td>\n",
              "      <td>0</td>\n",
              "      <td>0</td>\n",
              "    </tr>\n",
              "    <tr>\n",
              "      <th>4</th>\n",
              "      <td>76.54</td>\n",
              "      <td>0.143454</td>\n",
              "      <td>14</td>\n",
              "      <td>4</td>\n",
              "      <td>10</td>\n",
              "      <td>0</td>\n",
              "      <td>1</td>\n",
              "    </tr>\n",
              "  </tbody>\n",
              "</table>\n",
              "</div>"
            ],
            "text/plain": [
              "   Protein Annotation  Day21-ETP  ...  TID  MatchResult\n",
              "0               76.54   0.758783  ...    0            0\n",
              "1               76.54   0.490986  ...    0            1\n",
              "2               76.54   0.428038  ...    0            1\n",
              "3               76.54   0.345700  ...    0            0\n",
              "4               76.54   0.143454  ...    0            1\n",
              "\n",
              "[5 rows x 7 columns]"
            ]
          },
          "metadata": {
            "tags": []
          },
          "execution_count": 17
        }
      ]
    },
    {
      "cell_type": "code",
      "metadata": {
        "id": "0f6l-ZqzMlpx",
        "colab_type": "code",
        "colab": {}
      },
      "source": [
        "outfile = 'encode1_off.csv'\n",
        "data.to_csv(outfile)"
      ],
      "execution_count": null,
      "outputs": []
    }
  ]
}