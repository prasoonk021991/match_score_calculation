{
  "nbformat": 4,
  "nbformat_minor": 0,
  "metadata": {
    "colab": {
      "name": "Test1.ipynb",
      "provenance": [],
      "collapsed_sections": [],
      "toc_visible": true
    },
    "kernelspec": {
      "name": "python3",
      "display_name": "Python 3"
    }
  },
  "cells": [
    {
      "cell_type": "code",
      "metadata": {
        "id": "hp0IApKqOiU2",
        "colab_type": "code",
        "colab": {}
      },
      "source": [
        "import pandas as pd\n",
        "import imblearn\n",
        "import lightgbm as lgb\n",
        "import matplotlib.pyplot as plt\n",
        "import numpy as np\n",
        "from sklearn.linear_model import LinearRegression\n",
        "from sklearn.svm import SVC\n",
        "from sklearn.metrics import classification_report, confusion_matrix\n",
        "from imblearn.over_sampling import SMOTE\n",
        "from sklearn.naive_bayes import GaussianNB\n",
        "from sklearn.naive_bayes import BernoulliNB\n",
        "from sklearn.ensemble import RandomForestClassifier\n",
        "from sklearn.model_selection import train_test_split\n",
        "from sklearn import metrics\n",
        "from sklearn import linear_model\n",
        "from sklearn.metrics import roc_curve\n",
        "from sklearn.metrics import roc_auc_score\n",
        "from matplotlib import pyplot"
      ],
      "execution_count": null,
      "outputs": []
    },
    {
      "cell_type": "code",
      "metadata": {
        "id": "gU9hb4rmua6o",
        "colab_type": "code",
        "colab": {
          "base_uri": "https://localhost:8080/",
          "height": 197
        },
        "outputId": "2617ffa3-d232-4328-d7c7-315d883ce8a2"
      },
      "source": [
        "data = pd.read_csv(\"encode1_off.csv\")\n",
        "data.head()"
      ],
      "execution_count": null,
      "outputs": [
        {
          "output_type": "execute_result",
          "data": {
            "text/html": [
              "<div>\n",
              "<style scoped>\n",
              "    .dataframe tbody tr th:only-of-type {\n",
              "        vertical-align: middle;\n",
              "    }\n",
              "\n",
              "    .dataframe tbody tr th {\n",
              "        vertical-align: top;\n",
              "    }\n",
              "\n",
              "    .dataframe thead th {\n",
              "        text-align: right;\n",
              "    }\n",
              "</style>\n",
              "<table border=\"1\" class=\"dataframe\">\n",
              "  <thead>\n",
              "    <tr style=\"text-align: right;\">\n",
              "      <th></th>\n",
              "      <th>Unnamed: 0</th>\n",
              "      <th>Protein Annotation</th>\n",
              "      <th>Day21-ETP</th>\n",
              "      <th>sgRNA_vs_Target</th>\n",
              "      <th>sgRNA_vs_Mutated</th>\n",
              "      <th>Mutated_vs_Target</th>\n",
              "      <th>TID</th>\n",
              "      <th>MatchResult</th>\n",
              "    </tr>\n",
              "  </thead>\n",
              "  <tbody>\n",
              "    <tr>\n",
              "      <th>0</th>\n",
              "      <td>0</td>\n",
              "      <td>76.54</td>\n",
              "      <td>0.758783</td>\n",
              "      <td>19</td>\n",
              "      <td>20</td>\n",
              "      <td>19</td>\n",
              "      <td>0</td>\n",
              "      <td>0</td>\n",
              "    </tr>\n",
              "    <tr>\n",
              "      <th>1</th>\n",
              "      <td>1</td>\n",
              "      <td>76.54</td>\n",
              "      <td>0.490986</td>\n",
              "      <td>13</td>\n",
              "      <td>3</td>\n",
              "      <td>10</td>\n",
              "      <td>0</td>\n",
              "      <td>1</td>\n",
              "    </tr>\n",
              "    <tr>\n",
              "      <th>2</th>\n",
              "      <td>2</td>\n",
              "      <td>76.54</td>\n",
              "      <td>0.428038</td>\n",
              "      <td>14</td>\n",
              "      <td>3</td>\n",
              "      <td>8</td>\n",
              "      <td>0</td>\n",
              "      <td>1</td>\n",
              "    </tr>\n",
              "    <tr>\n",
              "      <th>3</th>\n",
              "      <td>3</td>\n",
              "      <td>76.54</td>\n",
              "      <td>0.345700</td>\n",
              "      <td>19</td>\n",
              "      <td>20</td>\n",
              "      <td>19</td>\n",
              "      <td>0</td>\n",
              "      <td>0</td>\n",
              "    </tr>\n",
              "    <tr>\n",
              "      <th>4</th>\n",
              "      <td>4</td>\n",
              "      <td>76.54</td>\n",
              "      <td>0.143454</td>\n",
              "      <td>14</td>\n",
              "      <td>4</td>\n",
              "      <td>10</td>\n",
              "      <td>0</td>\n",
              "      <td>1</td>\n",
              "    </tr>\n",
              "  </tbody>\n",
              "</table>\n",
              "</div>"
            ],
            "text/plain": [
              "   Unnamed: 0  Protein Annotation  ...  TID  MatchResult\n",
              "0           0               76.54  ...    0            0\n",
              "1           1               76.54  ...    0            1\n",
              "2           2               76.54  ...    0            1\n",
              "3           3               76.54  ...    0            0\n",
              "4           4               76.54  ...    0            1\n",
              "\n",
              "[5 rows x 8 columns]"
            ]
          },
          "metadata": {
            "tags": []
          },
          "execution_count": 209
        }
      ]
    },
    {
      "cell_type": "code",
      "metadata": {
        "id": "SvnghSGsU-zk",
        "colab_type": "code",
        "colab": {
          "base_uri": "https://localhost:8080/",
          "height": 197
        },
        "outputId": "6433a671-b032-4cb8-e8bf-79068a1b4116"
      },
      "source": [
        "data = data.drop(['Unnamed: 0'], axis=1)\n",
        "data.head()"
      ],
      "execution_count": null,
      "outputs": [
        {
          "output_type": "execute_result",
          "data": {
            "text/html": [
              "<div>\n",
              "<style scoped>\n",
              "    .dataframe tbody tr th:only-of-type {\n",
              "        vertical-align: middle;\n",
              "    }\n",
              "\n",
              "    .dataframe tbody tr th {\n",
              "        vertical-align: top;\n",
              "    }\n",
              "\n",
              "    .dataframe thead th {\n",
              "        text-align: right;\n",
              "    }\n",
              "</style>\n",
              "<table border=\"1\" class=\"dataframe\">\n",
              "  <thead>\n",
              "    <tr style=\"text-align: right;\">\n",
              "      <th></th>\n",
              "      <th>Protein Annotation</th>\n",
              "      <th>Day21-ETP</th>\n",
              "      <th>sgRNA_vs_Target</th>\n",
              "      <th>sgRNA_vs_Mutated</th>\n",
              "      <th>Mutated_vs_Target</th>\n",
              "      <th>TID</th>\n",
              "      <th>MatchResult</th>\n",
              "    </tr>\n",
              "  </thead>\n",
              "  <tbody>\n",
              "    <tr>\n",
              "      <th>0</th>\n",
              "      <td>76.54</td>\n",
              "      <td>0.758783</td>\n",
              "      <td>19</td>\n",
              "      <td>20</td>\n",
              "      <td>19</td>\n",
              "      <td>0</td>\n",
              "      <td>0</td>\n",
              "    </tr>\n",
              "    <tr>\n",
              "      <th>1</th>\n",
              "      <td>76.54</td>\n",
              "      <td>0.490986</td>\n",
              "      <td>13</td>\n",
              "      <td>3</td>\n",
              "      <td>10</td>\n",
              "      <td>0</td>\n",
              "      <td>1</td>\n",
              "    </tr>\n",
              "    <tr>\n",
              "      <th>2</th>\n",
              "      <td>76.54</td>\n",
              "      <td>0.428038</td>\n",
              "      <td>14</td>\n",
              "      <td>3</td>\n",
              "      <td>8</td>\n",
              "      <td>0</td>\n",
              "      <td>1</td>\n",
              "    </tr>\n",
              "    <tr>\n",
              "      <th>3</th>\n",
              "      <td>76.54</td>\n",
              "      <td>0.345700</td>\n",
              "      <td>19</td>\n",
              "      <td>20</td>\n",
              "      <td>19</td>\n",
              "      <td>0</td>\n",
              "      <td>0</td>\n",
              "    </tr>\n",
              "    <tr>\n",
              "      <th>4</th>\n",
              "      <td>76.54</td>\n",
              "      <td>0.143454</td>\n",
              "      <td>14</td>\n",
              "      <td>4</td>\n",
              "      <td>10</td>\n",
              "      <td>0</td>\n",
              "      <td>1</td>\n",
              "    </tr>\n",
              "  </tbody>\n",
              "</table>\n",
              "</div>"
            ],
            "text/plain": [
              "   Protein Annotation  Day21-ETP  ...  TID  MatchResult\n",
              "0               76.54   0.758783  ...    0            0\n",
              "1               76.54   0.490986  ...    0            1\n",
              "2               76.54   0.428038  ...    0            1\n",
              "3               76.54   0.345700  ...    0            0\n",
              "4               76.54   0.143454  ...    0            1\n",
              "\n",
              "[5 rows x 7 columns]"
            ]
          },
          "metadata": {
            "tags": []
          },
          "execution_count": 210
        }
      ]
    },
    {
      "cell_type": "code",
      "metadata": {
        "id": "7MtIDnMvqfKZ",
        "colab_type": "code",
        "colab": {
          "base_uri": "https://localhost:8080/",
          "height": 634
        },
        "outputId": "1f968e2f-81b5-4654-af60-7e5cfef72bd2"
      },
      "source": [
        "plt.matshow(data.corr())\n",
        "plt.xticks(np.arange(7), data.columns, rotation=90)\n",
        "plt.yticks(np.arange(7), data.columns, rotation=0)\n",
        "plt.colorbar()\n",
        "plt.show()"
      ],
      "execution_count": null,
      "outputs": [
        {
          "output_type": "display_data",
          "data": {
            "image/png": "[encoded data removed]",
            "text/plain": [
              "<Figure size 720x720 with 2 Axes>"
            ]
          },
          "metadata": {
            "tags": [],
            "needs_background": "light"
          }
        }
      ]
    },
    {
      "cell_type": "code",
      "metadata": {
        "id": "v-1j7BONVFvA",
        "colab_type": "code",
        "colab": {}
      },
      "source": [
        "count = 0\n",
        "test = pd.DataFrame()\n",
        "train = pd.DataFrame()\n",
        "for index, row in data.iterrows():\n",
        "    count += 1\n",
        "    if (count%3)==0:\n",
        "        test = test.append(row)\n",
        "    else:\n",
        "        train = train.append(row)"
      ],
      "execution_count": null,
      "outputs": []
    },
    {
      "cell_type": "code",
      "metadata": {
        "id": "AV3oPzubZVom",
        "colab_type": "code",
        "colab": {}
      },
      "source": [
        "train1 = train\n",
        "test1 = test"
      ],
      "execution_count": null,
      "outputs": []
    },
    {
      "cell_type": "code",
      "metadata": {
        "id": "2l4XGuPaZYF7",
        "colab_type": "code",
        "colab": {
          "base_uri": "https://localhost:8080/",
          "height": 265
        },
        "outputId": "d62c5288-c5a6-4a2c-9dab-5eb10b6f33e1"
      },
      "source": [
        "train1.info()"
      ],
      "execution_count": null,
      "outputs": [
        {
          "output_type": "stream",
          "text": [
            "<class 'pandas.core.frame.DataFrame'>\n",
            "Int64Index: 27043 entries, 0 to 40563\n",
            "Data columns (total 7 columns):\n",
            " #   Column              Non-Null Count  Dtype  \n",
            "---  ------              --------------  -----  \n",
            " 0   CB_vs_MT            27043 non-null  float64\n",
            " 1   CB_vs_WT            27043 non-null  float64\n",
            " 2   Day21-ETP           27043 non-null  float64\n",
            " 3   MT_vs_WT            27043 non-null  float64\n",
            " 4   MatchResult         27043 non-null  float64\n",
            " 5   Protein Annotation  27043 non-null  float64\n",
            " 6   TID                 27043 non-null  float64\n",
            "dtypes: float64(7)\n",
            "memory usage: 1.7 MB\n"
          ],
          "name": "stdout"
        }
      ]
    },
    {
      "cell_type": "code",
      "metadata": {
        "id": "6pQzDP-JZcux",
        "colab_type": "code",
        "colab": {
          "base_uri": "https://localhost:8080/",
          "height": 265
        },
        "outputId": "aef9e352-10f1-48ec-e1d3-78b736fe3eda"
      },
      "source": [
        "test1.info()"
      ],
      "execution_count": null,
      "outputs": [
        {
          "output_type": "stream",
          "text": [
            "<class 'pandas.core.frame.DataFrame'>\n",
            "Int64Index: 13521 entries, 2 to 40562\n",
            "Data columns (total 7 columns):\n",
            " #   Column              Non-Null Count  Dtype  \n",
            "---  ------              --------------  -----  \n",
            " 0   CB_vs_MT            13521 non-null  float64\n",
            " 1   CB_vs_WT            13521 non-null  float64\n",
            " 2   Day21-ETP           13521 non-null  float64\n",
            " 3   MT_vs_WT            13521 non-null  float64\n",
            " 4   MatchResult         13521 non-null  float64\n",
            " 5   Protein Annotation  13521 non-null  float64\n",
            " 6   TID                 13521 non-null  float64\n",
            "dtypes: float64(7)\n",
            "memory usage: 845.1 KB\n"
          ],
          "name": "stdout"
        }
      ]
    },
    {
      "cell_type": "code",
      "metadata": {
        "id": "ueKnQM86Zffa",
        "colab_type": "code",
        "colab": {
          "base_uri": "https://localhost:8080/",
          "height": 70
        },
        "outputId": "6a143473-6e87-4a88-e649-0ecd465cd5f0"
      },
      "source": [
        "train1.MatchResult.value_counts()"
      ],
      "execution_count": null,
      "outputs": [
        {
          "output_type": "execute_result",
          "data": {
            "text/plain": [
              "1.0    17186\n",
              "0.0     9857\n",
              "Name: MatchResult, dtype: int64"
            ]
          },
          "metadata": {
            "tags": []
          },
          "execution_count": 27
        }
      ]
    },
    {
      "cell_type": "code",
      "metadata": {
        "id": "QPVka0_ZZjjl",
        "colab_type": "code",
        "colab": {
          "base_uri": "https://localhost:8080/",
          "height": 70
        },
        "outputId": "123dc269-0fa4-49db-a5e2-7fd296c0f719"
      },
      "source": [
        "test1.MatchResult.value_counts()"
      ],
      "execution_count": null,
      "outputs": [
        {
          "output_type": "execute_result",
          "data": {
            "text/plain": [
              "1.0    8754\n",
              "0.0    4767\n",
              "Name: MatchResult, dtype: int64"
            ]
          },
          "metadata": {
            "tags": []
          },
          "execution_count": 28
        }
      ]
    },
    {
      "cell_type": "code",
      "metadata": {
        "id": "RyfSvZNls6VA",
        "colab_type": "code",
        "colab": {}
      },
      "source": [
        "X_train = train1.drop(['MatchResult'], axis=1)\n",
        "y_train = train1['MatchResult']\n",
        "X_test = test1.drop(['MatchResult'], axis=1)\n",
        "y_test = test1['MatchResult']"
      ],
      "execution_count": null,
      "outputs": []
    },
    {
      "cell_type": "code",
      "metadata": {
        "id": "InQXDTxltezq",
        "colab_type": "code",
        "colab": {
          "base_uri": "https://localhost:8080/",
          "height": 317
        },
        "outputId": "c79a9eeb-dd66-4b17-eff9-e686b062db17"
      },
      "source": [
        "reg = linear_model.Ridge (alpha = .5)\n",
        "reg.fit(X_train, y_train)\n",
        "print('Score: ', reg.score(X_test, y_test))\n",
        "print('Weights: ', reg.coef_)\n",
        "\n",
        "plt.plot(reg.predict(X_test))\n",
        "plt.plot(y_test)\n",
        "plt.show()"
      ],
      "execution_count": null,
      "outputs": [
        {
          "output_type": "stream",
          "text": [
            "Score:  0.9132555681328833\n",
            "Weights:  [-3.62888093e-01  3.42852629e-01 -8.63216584e-03  3.42408116e-01\n",
            "  6.60381843e-05  1.03298544e-02]\n"
          ],
          "name": "stdout"
        },
        {
          "output_type": "display_data",
          "data": {
            "image/png": "[encoded data removed]",
            "text/plain": [
              "<Figure size 432x288 with 1 Axes>"
            ]
          },
          "metadata": {
            "tags": [],
            "needs_background": "light"
          }
        }
      ]
    },
    {
      "cell_type": "code",
      "metadata": {
        "id": "9DLlyPrQn55t",
        "colab_type": "code",
        "colab": {}
      },
      "source": [
        "X_train = train1.drop(['MatchResult'], axis=1)\n",
        "y_train = train1['MatchResult']\n",
        "X_test = test1.drop(['MatchResult'], axis=1)\n",
        "y_test = test1['MatchResult']"
      ],
      "execution_count": null,
      "outputs": []
    },
    {
      "cell_type": "code",
      "metadata": {
        "id": "UYOf1aOCn6m7",
        "colab_type": "code",
        "colab": {}
      },
      "source": [
        "ns_probs = [0 for _ in range(len(y_test))]\n",
        "ns_auc = roc_auc_score(y_test, ns_probs)"
      ],
      "execution_count": null,
      "outputs": []
    },
    {
      "cell_type": "markdown",
      "metadata": {
        "id": "Bk8wkhFsDLVO",
        "colab_type": "text"
      },
      "source": [
        "# **SVM (KERNEL: GAUSSIAN)**"
      ]
    },
    {
      "cell_type": "markdown",
      "metadata": {
        "id": "D9VhFHdeDdyl",
        "colab_type": "text"
      },
      "source": [
        "**Model 1 - Imbalanced towards Match**"
      ]
    },
    {
      "cell_type": "code",
      "metadata": {
        "id": "_VlV4vREDjLI",
        "colab_type": "code",
        "colab": {}
      },
      "source": [
        "svclassifier = SVC(kernel='rbf').fit(X_train, y_train)"
      ],
      "execution_count": null,
      "outputs": []
    },
    {
      "cell_type": "code",
      "metadata": {
        "id": "70IvxEF6EXuB",
        "colab_type": "code",
        "colab": {
          "base_uri": "https://localhost:8080/",
          "height": 212
        },
        "outputId": "4012b273-0d38-4ab0-d3f0-af8f5f73dbc1"
      },
      "source": [
        "y_pred_m1_svm_gaussian = svclassifier.predict(X_test)\n",
        "\n",
        "print(confusion_matrix(y_test,y_pred_m1_svm_gaussian))\n",
        "print(classification_report(y_test,y_pred_m1_svm_gaussian))"
      ],
      "execution_count": null,
      "outputs": [
        {
          "output_type": "stream",
          "text": [
            "[[4767    0]\n",
            " [ 190 8564]]\n",
            "              precision    recall  f1-score   support\n",
            "\n",
            "         0.0       0.96      1.00      0.98      4767\n",
            "         1.0       1.00      0.98      0.99      8754\n",
            "\n",
            "    accuracy                           0.99     13521\n",
            "   macro avg       0.98      0.99      0.98     13521\n",
            "weighted avg       0.99      0.99      0.99     13521\n",
            "\n"
          ],
          "name": "stdout"
        }
      ]
    },
    {
      "cell_type": "markdown",
      "metadata": {
        "id": "W2re3uMIGZ5E",
        "colab_type": "text"
      },
      "source": [
        "| ACTUAL\\PREDICTED          | Mismatch (0) | Match (1) | TOTAL |\n",
        "|---------------------------|---------------------|-------------------------|-------|\n",
        "|    Mismatch (0)|      4767             |        0               |   4767   |\n",
        "|  Match (1)      |      190             |        8564              |   8754  |\n",
        "|        TOTAL              |      4957             |        8564              |   13521  |"
      ]
    },
    {
      "cell_type": "code",
      "metadata": {
        "id": "aiXUtaFRrLFy",
        "colab_type": "code",
        "colab": {}
      },
      "source": [
        "m1_svm_gaussian_auc = roc_auc_score(y_test, y_pred_m1_svm_gaussian)"
      ],
      "execution_count": null,
      "outputs": []
    },
    {
      "cell_type": "code",
      "metadata": {
        "id": "nlJlgLsfG3Q8",
        "colab_type": "code",
        "colab": {}
      },
      "source": [
        "M1_sp_SVM_gaussian=0.96\n",
        "M1_se_SVM_gaussian=1.00\n",
        "M1_acc_SVM_gaussian=0.99"
      ],
      "execution_count": null,
      "outputs": []
    },
    {
      "cell_type": "code",
      "metadata": {
        "id": "E7LkjRaxQ0O3",
        "colab_type": "code",
        "colab": {}
      },
      "source": [
        "results = pd.DataFrame({'Classifier' : pd.Categorical([\"SVM - Gaussian\"]),\n",
        "                        'Model' : pd.Categorical([\"Imbalanced - Match\"]),\n",
        "                        'Specificity' : M1_sp_SVM_gaussian,\n",
        "                        'Sensitivity' : M1_se_SVM_gaussian,\n",
        "                        'Accuracy' : M1_acc_SVM_gaussian,\n",
        "                        'AUC' : m1_svm_gaussian_auc})"
      ],
      "execution_count": null,
      "outputs": []
    },
    {
      "cell_type": "markdown",
      "metadata": {
        "id": "pU_icyPkFp5x",
        "colab_type": "text"
      },
      "source": [
        "**Model 2 - Manually Balanced**"
      ]
    },
    {
      "cell_type": "code",
      "metadata": {
        "id": "PJk8Aj1IRI1a",
        "colab_type": "code",
        "colab": {
          "base_uri": "https://localhost:8080/",
          "height": 70
        },
        "outputId": "b78f46ea-710d-4415-b3d7-6f74152cd7f0"
      },
      "source": [
        "train1.MatchResult.value_counts()"
      ],
      "execution_count": null,
      "outputs": [
        {
          "output_type": "execute_result",
          "data": {
            "text/plain": [
              "1.0    17186\n",
              "0.0     9857\n",
              "Name: MatchResult, dtype: int64"
            ]
          },
          "metadata": {
            "tags": []
          },
          "execution_count": 38
        }
      ]
    },
    {
      "cell_type": "code",
      "metadata": {
        "id": "ibjzMxdaRJr7",
        "colab_type": "code",
        "colab": {
          "base_uri": "https://localhost:8080/",
          "height": 70
        },
        "outputId": "83f59c0c-0346-48bc-b71f-a820527b7266"
      },
      "source": [
        "negative_cases = train1[train1['MatchResult'] == 0]\n",
        "positive_cases = train1[train1['MatchResult'] == 1].sample(9857, random_state=0)\n",
        "train1_balanced = pd.concat([positive_cases,negative_cases])\n",
        "train1_balanced.sort_index(inplace=True)\n",
        "\n",
        "X_train_bal = train1_balanced.drop(['MatchResult'], axis=1)\n",
        "y_train_bal = train1_balanced['MatchResult']\n",
        "\n",
        "train1_balanced.MatchResult.value_counts()"
      ],
      "execution_count": null,
      "outputs": [
        {
          "output_type": "execute_result",
          "data": {
            "text/plain": [
              "1.0    9857\n",
              "0.0    9857\n",
              "Name: MatchResult, dtype: int64"
            ]
          },
          "metadata": {
            "tags": []
          },
          "execution_count": 39
        }
      ]
    },
    {
      "cell_type": "code",
      "metadata": {
        "id": "2KvN3M37EZ6O",
        "colab_type": "code",
        "colab": {}
      },
      "source": [
        "svclassifier = SVC(kernel='rbf').fit(X_train_bal, y_train_bal)"
      ],
      "execution_count": null,
      "outputs": []
    },
    {
      "cell_type": "code",
      "metadata": {
        "id": "4FjXKe-iF0qt",
        "colab_type": "code",
        "colab": {
          "base_uri": "https://localhost:8080/",
          "height": 212
        },
        "outputId": "2a4c4c42-b2dd-411a-cd04-e5fb1078589c"
      },
      "source": [
        "y_pred_m2_svm_gaussian = svclassifier.predict(X_test)\n",
        "\n",
        "print(confusion_matrix(y_test,y_pred_m2_svm_gaussian))\n",
        "print(classification_report(y_test,y_pred_m2_svm_gaussian))"
      ],
      "execution_count": null,
      "outputs": [
        {
          "output_type": "stream",
          "text": [
            "[[4767    0]\n",
            " [ 905 7849]]\n",
            "              precision    recall  f1-score   support\n",
            "\n",
            "         0.0       0.84      1.00      0.91      4767\n",
            "         1.0       1.00      0.90      0.95      8754\n",
            "\n",
            "    accuracy                           0.93     13521\n",
            "   macro avg       0.92      0.95      0.93     13521\n",
            "weighted avg       0.94      0.93      0.93     13521\n",
            "\n"
          ],
          "name": "stdout"
        }
      ]
    },
    {
      "cell_type": "markdown",
      "metadata": {
        "id": "sPrAMv73IHKX",
        "colab_type": "text"
      },
      "source": [
        "| ACTUAL\\PREDICTED          | Mismatch (0) | Match (1) | TOTAL |\n",
        "|---------------------------|---------------------|-------------------------|-------|\n",
        "|    Mismatch (0)|      4767             |        0               |   4767   |\n",
        "|  Match (1)      |      905             |        7849              |   8754  |\n",
        "|        TOTAL              |      5702             |        7849              |   13521  |"
      ]
    },
    {
      "cell_type": "code",
      "metadata": {
        "id": "uypC4orbsvCA",
        "colab_type": "code",
        "colab": {}
      },
      "source": [
        "m2_svm_gaussian_auc = roc_auc_score(y_test, y_pred_m2_svm_gaussian)"
      ],
      "execution_count": null,
      "outputs": []
    },
    {
      "cell_type": "code",
      "metadata": {
        "id": "ZUWzo7nEF2m1",
        "colab_type": "code",
        "colab": {}
      },
      "source": [
        "M2_sp_SVM_gaussian=0.84\n",
        "M2_se_SVM_gaussian=1.00\n",
        "M2_acc_SVM_gaussian=0.93"
      ],
      "execution_count": null,
      "outputs": []
    },
    {
      "cell_type": "code",
      "metadata": {
        "id": "BLHM75pEJIwl",
        "colab_type": "code",
        "colab": {}
      },
      "source": [
        "svm_gaussian_m2 = {'Model':\"Balanced - Manual\", 'Classifier':\"SVM - Gaussian\", 'Specificity':M2_sp_SVM_gaussian, 'Sensitivity':M2_se_SVM_gaussian, 'Accuracy':M2_acc_SVM_gaussian, 'AUC': m2_svm_gaussian_auc}\n",
        "results = results.append(svm_gaussian_m2, ignore_index=True)"
      ],
      "execution_count": null,
      "outputs": []
    },
    {
      "cell_type": "markdown",
      "metadata": {
        "id": "CK0Me61rKDW1",
        "colab_type": "text"
      },
      "source": [
        "**Model 3 - SMOTE Balanced**"
      ]
    },
    {
      "cell_type": "code",
      "metadata": {
        "id": "cxYmwVzrRUS9",
        "colab_type": "code",
        "colab": {
          "base_uri": "https://localhost:8080/",
          "height": 72
        },
        "outputId": "6d16d4b8-1280-47bc-d811-d9b92020b3d7"
      },
      "source": [
        "smote = SMOTE(random_state=0)\n",
        "X_train_resampled, y_train_resampled = smote.fit_sample(X_train, y_train)"
      ],
      "execution_count": null,
      "outputs": [
        {
          "output_type": "stream",
          "text": [
            "/usr/local/lib/python3.6/dist-packages/sklearn/utils/deprecation.py:87: FutureWarning: Function safe_indexing is deprecated; safe_indexing is deprecated in version 0.22 and will be removed in version 0.24.\n",
            "  warnings.warn(msg, category=FutureWarning)\n"
          ],
          "name": "stderr"
        }
      ]
    },
    {
      "cell_type": "code",
      "metadata": {
        "id": "VVn5dYYXJZ14",
        "colab_type": "code",
        "colab": {}
      },
      "source": [
        "svclassifier = SVC(kernel='rbf').fit(X_train_resampled, y_train_resampled)"
      ],
      "execution_count": null,
      "outputs": []
    },
    {
      "cell_type": "code",
      "metadata": {
        "id": "UlNto4XQKUS6",
        "colab_type": "code",
        "colab": {
          "base_uri": "https://localhost:8080/",
          "height": 212
        },
        "outputId": "667f5644-d901-4248-b6a9-d3d814d9ec18"
      },
      "source": [
        "y_pred_m3_svm_gaussian = svclassifier.predict(X_test)\n",
        "\n",
        "print(confusion_matrix(y_test,y_pred_m3_svm_gaussian))\n",
        "print(classification_report(y_test,y_pred_m3_svm_gaussian))"
      ],
      "execution_count": null,
      "outputs": [
        {
          "output_type": "stream",
          "text": [
            "[[4767    0]\n",
            " [ 178 8576]]\n",
            "              precision    recall  f1-score   support\n",
            "\n",
            "         0.0       0.96      1.00      0.98      4767\n",
            "         1.0       1.00      0.98      0.99      8754\n",
            "\n",
            "    accuracy                           0.99     13521\n",
            "   macro avg       0.98      0.99      0.99     13521\n",
            "weighted avg       0.99      0.99      0.99     13521\n",
            "\n"
          ],
          "name": "stdout"
        }
      ]
    },
    {
      "cell_type": "markdown",
      "metadata": {
        "id": "TqwjK-qCKjH9",
        "colab_type": "text"
      },
      "source": [
        "| ACTUAL\\PREDICTED          | Mismatch (0) | Match (1) | TOTAL |\n",
        "|---------------------------|---------------------|-------------------------|-------|\n",
        "|    Mismatch (0)|      4767             |        0               |   4767   |\n",
        "|  Match (1)      |      178             |        8576              |   8754  |\n",
        "|        TOTAL              |      4945             |        8576              |   13521  |"
      ]
    },
    {
      "cell_type": "code",
      "metadata": {
        "id": "C83C0Y2StlSN",
        "colab_type": "code",
        "colab": {}
      },
      "source": [
        "m3_svm_gaussian_auc = roc_auc_score(y_test, y_pred_m3_svm_gaussian)"
      ],
      "execution_count": null,
      "outputs": []
    },
    {
      "cell_type": "code",
      "metadata": {
        "id": "m24vy245KdUg",
        "colab_type": "code",
        "colab": {}
      },
      "source": [
        "M3_sp_SVM_gaussian=0.96\n",
        "M3_se_SVM_gaussian=1.00\n",
        "M3_acc_SVM_gaussian=0.99"
      ],
      "execution_count": null,
      "outputs": []
    },
    {
      "cell_type": "code",
      "metadata": {
        "id": "Rbks_bJOLD4M",
        "colab_type": "code",
        "colab": {}
      },
      "source": [
        "svm_gaussian_m3 = {'Model':\"Balanced - SMOTE\", 'Classifier':\"SVM - Gaussian\", 'Specificity':M3_sp_SVM_gaussian, 'Sensitivity':M3_se_SVM_gaussian, 'Accuracy':M3_acc_SVM_gaussian, 'AUC': m3_svm_gaussian_auc}\n",
        "results = results.append(svm_gaussian_m3, ignore_index=True)"
      ],
      "execution_count": null,
      "outputs": []
    },
    {
      "cell_type": "markdown",
      "metadata": {
        "id": "SSWzI9ipMgbk",
        "colab_type": "text"
      },
      "source": [
        "**Model 4 - Imbalanced towards Mismatch**"
      ]
    },
    {
      "cell_type": "code",
      "metadata": {
        "id": "6PvIxolMSj-5",
        "colab_type": "code",
        "colab": {
          "base_uri": "https://localhost:8080/",
          "height": 70
        },
        "outputId": "0669b5a4-222c-4cf3-a09e-4de736b6cae1"
      },
      "source": [
        "train1.MatchResult.value_counts()"
      ],
      "execution_count": null,
      "outputs": [
        {
          "output_type": "execute_result",
          "data": {
            "text/plain": [
              "1.0    17186\n",
              "0.0     9857\n",
              "Name: MatchResult, dtype: int64"
            ]
          },
          "metadata": {
            "tags": []
          },
          "execution_count": 51
        }
      ]
    },
    {
      "cell_type": "code",
      "metadata": {
        "id": "akqxmIouSl4X",
        "colab_type": "code",
        "colab": {
          "base_uri": "https://localhost:8080/",
          "height": 70
        },
        "outputId": "a0efa466-a0e4-4f07-b252-f229130d161e"
      },
      "source": [
        "positive_cases = train1[train1['MatchResult'] == 1].sample(3285, random_state=0)\n",
        "negative_cases = train1[train1['MatchResult'] == 0].sample(6572, random_state=0)\n",
        "train1_imbalanced = pd.concat([positive_cases,negative_cases])\n",
        "train1_imbalanced.sort_index(inplace=True)\n",
        "\n",
        "X_train_imbal = train1_imbalanced.drop(['MatchResult'], axis=1)\n",
        "y_train_imbal = train1_imbalanced['MatchResult']\n",
        "# AFTER\n",
        "train1_imbalanced.MatchResult.value_counts()"
      ],
      "execution_count": null,
      "outputs": [
        {
          "output_type": "execute_result",
          "data": {
            "text/plain": [
              "0.0    6572\n",
              "1.0    3285\n",
              "Name: MatchResult, dtype: int64"
            ]
          },
          "metadata": {
            "tags": []
          },
          "execution_count": 52
        }
      ]
    },
    {
      "cell_type": "code",
      "metadata": {
        "id": "94Meu25ALOJA",
        "colab_type": "code",
        "colab": {}
      },
      "source": [
        "svclassifier = SVC(kernel='rbf').fit(X_train_imbal, y_train_imbal)"
      ],
      "execution_count": null,
      "outputs": []
    },
    {
      "cell_type": "code",
      "metadata": {
        "id": "qeb_ij5hMzCJ",
        "colab_type": "code",
        "colab": {
          "base_uri": "https://localhost:8080/",
          "height": 212
        },
        "outputId": "7008aa51-ffea-4bf8-b7fe-bb5f4b959a34"
      },
      "source": [
        "y_pred_m4_svm_gaussian = svclassifier.predict(X_test)\n",
        "\n",
        "print(confusion_matrix(y_test,y_pred_m4_svm_gaussian))\n",
        "print(classification_report(y_test,y_pred_m4_svm_gaussian))"
      ],
      "execution_count": null,
      "outputs": [
        {
          "output_type": "stream",
          "text": [
            "[[4767    0]\n",
            " [ 904 7850]]\n",
            "              precision    recall  f1-score   support\n",
            "\n",
            "         0.0       0.84      1.00      0.91      4767\n",
            "         1.0       1.00      0.90      0.95      8754\n",
            "\n",
            "    accuracy                           0.93     13521\n",
            "   macro avg       0.92      0.95      0.93     13521\n",
            "weighted avg       0.94      0.93      0.93     13521\n",
            "\n"
          ],
          "name": "stdout"
        }
      ]
    },
    {
      "cell_type": "markdown",
      "metadata": {
        "id": "rfwn_MfLM6oV",
        "colab_type": "text"
      },
      "source": [
        "| ACTUAL\\PREDICTED          | Mismatch (0) | Match (1) | TOTAL |\n",
        "|---------------------------|---------------------|-------------------------|-------|\n",
        "|    Mismatch (0)|      4767             |        0               |   4767   |\n",
        "|  Match (1)      |      904             |        7850              |   8754  |\n",
        "|        TOTAL              |      5671             |        7850              |   13521  |"
      ]
    },
    {
      "cell_type": "code",
      "metadata": {
        "id": "gE67elP1ulc7",
        "colab_type": "code",
        "colab": {}
      },
      "source": [
        "m4_svm_gaussian_auc = roc_auc_score(y_test, y_pred_m4_svm_gaussian)"
      ],
      "execution_count": null,
      "outputs": []
    },
    {
      "cell_type": "code",
      "metadata": {
        "id": "trJgkn2eM1u_",
        "colab_type": "code",
        "colab": {}
      },
      "source": [
        "M4_sp_SVM_gaussian=0.84\n",
        "M4_se_SVM_gaussian=1.00\n",
        "M4_acc_SVM_gaussian=0.93"
      ],
      "execution_count": null,
      "outputs": []
    },
    {
      "cell_type": "code",
      "metadata": {
        "id": "VU354t3lNPHH",
        "colab_type": "code",
        "colab": {}
      },
      "source": [
        "svm_gaussian_m4 = {'Model':\"Imbalanced - Mismatch\", 'Classifier':\"SVM - Gaussian\", 'Specificity':M4_sp_SVM_gaussian, 'Sensitivity':M4_se_SVM_gaussian, 'Accuracy':M4_acc_SVM_gaussian, 'AUC': m4_svm_gaussian_auc}\n",
        "results = results.append(svm_gaussian_m4, ignore_index=True)"
      ],
      "execution_count": null,
      "outputs": []
    },
    {
      "cell_type": "markdown",
      "metadata": {
        "id": "yokriL_cOUn9",
        "colab_type": "text"
      },
      "source": [
        "# **SVM (KERNEL: POLYNOMIAL)**"
      ]
    },
    {
      "cell_type": "markdown",
      "metadata": {
        "id": "axbv_lXfOnmn",
        "colab_type": "text"
      },
      "source": [
        "**Model 1 - Imbalanced towards Match**"
      ]
    },
    {
      "cell_type": "code",
      "metadata": {
        "id": "2DLSe15NNixA",
        "colab_type": "code",
        "colab": {}
      },
      "source": [
        "svclassifier = SVC(kernel='poly').fit(X_train, y_train)"
      ],
      "execution_count": null,
      "outputs": []
    },
    {
      "cell_type": "code",
      "metadata": {
        "id": "gEXXObZvO0Im",
        "colab_type": "code",
        "colab": {
          "base_uri": "https://localhost:8080/",
          "height": 212
        },
        "outputId": "5d949318-55c6-4c2e-b69e-cfe69aa9488d"
      },
      "source": [
        "y_pred_m1_svm_polynomial = svclassifier.predict(X_test)\n",
        "\n",
        "print(confusion_matrix(y_test,y_pred_m1_svm_polynomial))\n",
        "print(classification_report(y_test,y_pred_m1_svm_polynomial))"
      ],
      "execution_count": null,
      "outputs": [
        {
          "output_type": "stream",
          "text": [
            "[[4767    0]\n",
            " [ 361 8393]]\n",
            "              precision    recall  f1-score   support\n",
            "\n",
            "         0.0       0.93      1.00      0.96      4767\n",
            "         1.0       1.00      0.96      0.98      8754\n",
            "\n",
            "    accuracy                           0.97     13521\n",
            "   macro avg       0.96      0.98      0.97     13521\n",
            "weighted avg       0.98      0.97      0.97     13521\n",
            "\n"
          ],
          "name": "stdout"
        }
      ]
    },
    {
      "cell_type": "markdown",
      "metadata": {
        "id": "fUEi5d8sO8j1",
        "colab_type": "text"
      },
      "source": [
        "| ACTUAL\\PREDICTED          | Mismatch (0) | Match (1) | TOTAL |\n",
        "|---------------------------|---------------------|-------------------------|-------|\n",
        "|    Mismatch (0)|      4767             |        0               |   4767   |\n",
        "|  Match (1)      |      361             |        8393              |   8754  |\n",
        "|        TOTAL              |      5128             |        8393              |   13521  |"
      ]
    },
    {
      "cell_type": "code",
      "metadata": {
        "id": "PbSSWaY5vubg",
        "colab_type": "code",
        "colab": {}
      },
      "source": [
        "m1_svm_polynomial_auc = roc_auc_score(y_test, y_pred_m1_svm_polynomial)"
      ],
      "execution_count": null,
      "outputs": []
    },
    {
      "cell_type": "code",
      "metadata": {
        "id": "6Tac3qC2O2cs",
        "colab_type": "code",
        "colab": {}
      },
      "source": [
        "M1_sp_SVM_polynomial=0.93\n",
        "M1_se_SVM_polynomial=1.00\n",
        "M1_acc_SVM_polynomial=0.97"
      ],
      "execution_count": null,
      "outputs": []
    },
    {
      "cell_type": "code",
      "metadata": {
        "id": "lsxfbtAnPTqj",
        "colab_type": "code",
        "colab": {}
      },
      "source": [
        "svm_polynomial_m1 = {'Model':\"Imbalanced - Match\", 'Classifier':\"SVM - Polynomial\", 'Specificity':M1_sp_SVM_polynomial, 'Sensitivity':M1_se_SVM_polynomial, 'Accuracy':M1_acc_SVM_polynomial, 'AUC': m1_svm_polynomial_auc}\n",
        "results = results.append(svm_polynomial_m1, ignore_index=True)"
      ],
      "execution_count": null,
      "outputs": []
    },
    {
      "cell_type": "markdown",
      "metadata": {
        "id": "syKu2WcjRwJE",
        "colab_type": "text"
      },
      "source": [
        "**Model 2 - Manually Balanced**"
      ]
    },
    {
      "cell_type": "code",
      "metadata": {
        "id": "B458LwKBPqED",
        "colab_type": "code",
        "colab": {}
      },
      "source": [
        "svclassifier = SVC(kernel='poly').fit(X_train_bal, y_train_bal)"
      ],
      "execution_count": null,
      "outputs": []
    },
    {
      "cell_type": "code",
      "metadata": {
        "id": "WUbH7HCBR3KQ",
        "colab_type": "code",
        "colab": {
          "base_uri": "https://localhost:8080/",
          "height": 212
        },
        "outputId": "3a59ceb4-34fb-4476-99cb-8dc94de55c6a"
      },
      "source": [
        "y_pred_m2_svm_polynomial = svclassifier.predict(X_test)\n",
        "\n",
        "print(confusion_matrix(y_test,y_pred_m2_svm_polynomial))\n",
        "print(classification_report(y_test,y_pred_m2_svm_polynomial))"
      ],
      "execution_count": null,
      "outputs": [
        {
          "output_type": "stream",
          "text": [
            "[[4767    0]\n",
            " [ 421 8333]]\n",
            "              precision    recall  f1-score   support\n",
            "\n",
            "         0.0       0.92      1.00      0.96      4767\n",
            "         1.0       1.00      0.95      0.98      8754\n",
            "\n",
            "    accuracy                           0.97     13521\n",
            "   macro avg       0.96      0.98      0.97     13521\n",
            "weighted avg       0.97      0.97      0.97     13521\n",
            "\n"
          ],
          "name": "stdout"
        }
      ]
    },
    {
      "cell_type": "markdown",
      "metadata": {
        "id": "gAbKHIJCR88R",
        "colab_type": "text"
      },
      "source": [
        "| ACTUAL\\PREDICTED          | Mismatch (0) | Match (1) | TOTAL |\n",
        "|---------------------------|---------------------|-------------------------|-------|\n",
        "|    Mismatch (0)|      4767             |        0               |   4767   |\n",
        "|  Match (1)      |      421             |        8333              |   8754  |\n",
        "|        TOTAL              |      5188             |        8333              |   13521  |"
      ]
    },
    {
      "cell_type": "code",
      "metadata": {
        "id": "cQO3lX-4w5Um",
        "colab_type": "code",
        "colab": {}
      },
      "source": [
        "m2_svm_polynomial_auc = roc_auc_score(y_test, y_pred_m2_svm_polynomial)"
      ],
      "execution_count": null,
      "outputs": []
    },
    {
      "cell_type": "code",
      "metadata": {
        "id": "jlEbNrN5R5pQ",
        "colab_type": "code",
        "colab": {}
      },
      "source": [
        "M2_sp_SVM_polynomial=0.92\n",
        "M2_se_SVM_polynomial=1.00\n",
        "M2_acc_SVM_polynomial=0.97"
      ],
      "execution_count": null,
      "outputs": []
    },
    {
      "cell_type": "code",
      "metadata": {
        "id": "9hXE0dT9SbTY",
        "colab_type": "code",
        "colab": {}
      },
      "source": [
        "svm_polynomial_m2 = {'Model':\"Balanced - Manual\", 'Classifier':\"SVM - Polynomial\", 'Specificity':M2_sp_SVM_polynomial, 'Sensitivity':M2_se_SVM_polynomial, 'Accuracy':M2_acc_SVM_polynomial, 'AUC': m2_svm_polynomial_auc}\n",
        "results = results.append(svm_polynomial_m2, ignore_index=True)"
      ],
      "execution_count": null,
      "outputs": []
    },
    {
      "cell_type": "markdown",
      "metadata": {
        "id": "l_VzniprTsHy",
        "colab_type": "text"
      },
      "source": [
        "**Model 3 - SMOTE Balanced**"
      ]
    },
    {
      "cell_type": "code",
      "metadata": {
        "id": "9BDYbJdnS01_",
        "colab_type": "code",
        "colab": {}
      },
      "source": [
        "svclassifier = SVC(kernel='poly').fit(X_train_resampled, y_train_resampled)"
      ],
      "execution_count": null,
      "outputs": []
    },
    {
      "cell_type": "code",
      "metadata": {
        "id": "gBInk6ryTy7U",
        "colab_type": "code",
        "colab": {
          "base_uri": "https://localhost:8080/",
          "height": 212
        },
        "outputId": "c9d42b82-afbc-4582-ebbb-b7c527c57f15"
      },
      "source": [
        "y_pred_m3_svm_polynomial = svclassifier.predict(X_test)\n",
        "\n",
        "print(confusion_matrix(y_test,y_pred_m3_svm_polynomial))\n",
        "print(classification_report(y_test,y_pred_m3_svm_polynomial))"
      ],
      "execution_count": null,
      "outputs": [
        {
          "output_type": "stream",
          "text": [
            "[[4767    0]\n",
            " [ 356 8398]]\n",
            "              precision    recall  f1-score   support\n",
            "\n",
            "         0.0       0.93      1.00      0.96      4767\n",
            "         1.0       1.00      0.96      0.98      8754\n",
            "\n",
            "    accuracy                           0.97     13521\n",
            "   macro avg       0.97      0.98      0.97     13521\n",
            "weighted avg       0.98      0.97      0.97     13521\n",
            "\n"
          ],
          "name": "stdout"
        }
      ]
    },
    {
      "cell_type": "markdown",
      "metadata": {
        "id": "se1QTp34T4KV",
        "colab_type": "text"
      },
      "source": [
        "| ACTUAL\\PREDICTED          | Mismatch (0) | Match (1) | TOTAL |\n",
        "|---------------------------|---------------------|-------------------------|-------|\n",
        "|    Mismatch (0)|      4767             |        0               |   4767   |\n",
        "|  Match (1)      |      356             |        8398              |   8754  |\n",
        "|        TOTAL              |      5123             |        8398              |   13521  |"
      ]
    },
    {
      "cell_type": "code",
      "metadata": {
        "id": "iKoNU0WBxiK9",
        "colab_type": "code",
        "colab": {}
      },
      "source": [
        "m3_svm_polynomial_auc = roc_auc_score(y_test, y_pred_m3_svm_polynomial)"
      ],
      "execution_count": null,
      "outputs": []
    },
    {
      "cell_type": "code",
      "metadata": {
        "id": "K05qpGUUT1nT",
        "colab_type": "code",
        "colab": {}
      },
      "source": [
        "M3_sp_SVM_polynomial=0.93\n",
        "M3_se_SVM_polynomial=1.00\n",
        "M3_acc_SVM_polynomial=0.97"
      ],
      "execution_count": null,
      "outputs": []
    },
    {
      "cell_type": "code",
      "metadata": {
        "id": "G66fZeyMUMG3",
        "colab_type": "code",
        "colab": {}
      },
      "source": [
        "svm_polynomial_m3 = {'Model':\"Balanced - SMOTE\", 'Classifier':\"SVM - Polynomial\", 'Specificity':M3_sp_SVM_polynomial, 'Sensitivity':M3_se_SVM_polynomial, 'Accuracy':M3_acc_SVM_polynomial, 'AUC': m3_svm_polynomial_auc}\n",
        "results = results.append(svm_polynomial_m3, ignore_index=True)"
      ],
      "execution_count": null,
      "outputs": []
    },
    {
      "cell_type": "markdown",
      "metadata": {
        "id": "xc0u9zjWVhTn",
        "colab_type": "text"
      },
      "source": [
        "**Model 4 - Imbalanced towards Mismatch**"
      ]
    },
    {
      "cell_type": "code",
      "metadata": {
        "id": "NVHcKhJUUZr7",
        "colab_type": "code",
        "colab": {}
      },
      "source": [
        "svclassifier = SVC(kernel='poly').fit(X_train_imbal, y_train_imbal)"
      ],
      "execution_count": null,
      "outputs": []
    },
    {
      "cell_type": "code",
      "metadata": {
        "id": "-HqvpQmtVm9B",
        "colab_type": "code",
        "colab": {
          "base_uri": "https://localhost:8080/",
          "height": 212
        },
        "outputId": "f7933de8-f8eb-4e89-e0c2-3e91ee58c2cb"
      },
      "source": [
        "y_pred_m4_svm_polynomial = svclassifier.predict(X_test)\n",
        "\n",
        "print(confusion_matrix(y_test,y_pred_m4_svm_polynomial))\n",
        "print(classification_report(y_test,y_pred_m4_svm_polynomial))"
      ],
      "execution_count": null,
      "outputs": [
        {
          "output_type": "stream",
          "text": [
            "[[4767    0]\n",
            " [ 613 8141]]\n",
            "              precision    recall  f1-score   support\n",
            "\n",
            "         0.0       0.89      1.00      0.94      4767\n",
            "         1.0       1.00      0.93      0.96      8754\n",
            "\n",
            "    accuracy                           0.95     13521\n",
            "   macro avg       0.94      0.96      0.95     13521\n",
            "weighted avg       0.96      0.95      0.96     13521\n",
            "\n"
          ],
          "name": "stdout"
        }
      ]
    },
    {
      "cell_type": "markdown",
      "metadata": {
        "id": "pEZO5W2LVwAM",
        "colab_type": "text"
      },
      "source": [
        "| ACTUAL\\PREDICTED          | Mismatch (0) | Match (1) | TOTAL |\n",
        "|---------------------------|---------------------|-------------------------|-------|\n",
        "|    Mismatch (0)|      4767             |        0               |   4767   |\n",
        "|  Match (1)      |      613             |        8141              |   8754  |\n",
        "|        TOTAL              |      5380             |        8141              |   13521  |"
      ]
    },
    {
      "cell_type": "code",
      "metadata": {
        "id": "ZbzIuUMbyj4F",
        "colab_type": "code",
        "colab": {}
      },
      "source": [
        "m4_svm_polynomial_auc = roc_auc_score(y_test, y_pred_m4_svm_polynomial)"
      ],
      "execution_count": null,
      "outputs": []
    },
    {
      "cell_type": "code",
      "metadata": {
        "id": "w2USkK-uVo-m",
        "colab_type": "code",
        "colab": {}
      },
      "source": [
        "M4_sp_SVM_polynomial=0.89\n",
        "M4_se_SVM_polynomial=1.00\n",
        "M4_acc_SVM_polynomial=0.95"
      ],
      "execution_count": null,
      "outputs": []
    },
    {
      "cell_type": "code",
      "metadata": {
        "id": "9oGNOH2KWA2O",
        "colab_type": "code",
        "colab": {}
      },
      "source": [
        "svm_polynomial_m4 = {'Model':\"Imbalanced - Mismatch\", 'Classifier':\"SVM - Polynomial\", 'Specificity':M4_sp_SVM_polynomial, 'Sensitivity':M4_se_SVM_polynomial, 'Accuracy':M4_acc_SVM_polynomial, 'AUC': m4_svm_polynomial_auc}\n",
        "results = results.append(svm_polynomial_m4, ignore_index=True)"
      ],
      "execution_count": null,
      "outputs": []
    },
    {
      "cell_type": "markdown",
      "metadata": {
        "id": "vOd1KtiuYhLV",
        "colab_type": "text"
      },
      "source": [
        "# **SVM (KERNEL: SIGMOID)**"
      ]
    },
    {
      "cell_type": "markdown",
      "metadata": {
        "id": "yWyL-YfnYnzb",
        "colab_type": "text"
      },
      "source": [
        "**Model 1 - Imbalanced towards Match**"
      ]
    },
    {
      "cell_type": "code",
      "metadata": {
        "id": "kd8Xl7MxWOG3",
        "colab_type": "code",
        "colab": {}
      },
      "source": [
        "svclassifier = SVC(kernel='sigmoid').fit(X_train, y_train)"
      ],
      "execution_count": null,
      "outputs": []
    },
    {
      "cell_type": "code",
      "metadata": {
        "id": "oGUBHMurYtUr",
        "colab_type": "code",
        "colab": {
          "base_uri": "https://localhost:8080/",
          "height": 212
        },
        "outputId": "40804c7a-e0e3-442c-d785-d4ae8766a02f"
      },
      "source": [
        "y_pred_m1_svm_sigmoid = svclassifier.predict(X_test)\n",
        "\n",
        "print(confusion_matrix(y_test,y_pred_m1_svm_sigmoid))\n",
        "print(classification_report(y_test,y_pred_m1_svm_sigmoid))"
      ],
      "execution_count": null,
      "outputs": [
        {
          "output_type": "stream",
          "text": [
            "[[1875 2892]\n",
            " [3078 5676]]\n",
            "              precision    recall  f1-score   support\n",
            "\n",
            "         0.0       0.38      0.39      0.39      4767\n",
            "         1.0       0.66      0.65      0.66      8754\n",
            "\n",
            "    accuracy                           0.56     13521\n",
            "   macro avg       0.52      0.52      0.52     13521\n",
            "weighted avg       0.56      0.56      0.56     13521\n",
            "\n"
          ],
          "name": "stdout"
        }
      ]
    },
    {
      "cell_type": "markdown",
      "metadata": {
        "id": "Zd2L9PYTYzJR",
        "colab_type": "text"
      },
      "source": [
        "| ACTUAL\\PREDICTED          | Mismatch (0) | Match (1) | TOTAL |\n",
        "|---------------------------|---------------------|-------------------------|-------|\n",
        "|    Mismatch (0)|      1875             |        2892               |   4767   |\n",
        "|  Match (1)      |      3078             |        5676              |   8754  |\n",
        "|        TOTAL              |      4953             |        8568              |   13521  |"
      ]
    },
    {
      "cell_type": "code",
      "metadata": {
        "id": "Po9d9a-Qzigk",
        "colab_type": "code",
        "colab": {}
      },
      "source": [
        "m1_svm_sigmoid_auc = roc_auc_score(y_test, y_pred_m1_svm_sigmoid)"
      ],
      "execution_count": null,
      "outputs": []
    },
    {
      "cell_type": "code",
      "metadata": {
        "id": "EUtdGdnBYv7W",
        "colab_type": "code",
        "colab": {}
      },
      "source": [
        "M1_sp_SVM_sigmoid=0.38\n",
        "M1_se_SVM_sigmoid=0.39\n",
        "M1_acc_SVM_sigmoid=0.56"
      ],
      "execution_count": null,
      "outputs": []
    },
    {
      "cell_type": "code",
      "metadata": {
        "id": "GnAqKAOHZ8Yp",
        "colab_type": "code",
        "colab": {}
      },
      "source": [
        "svm_sigmoid_m1 = {'Model':\"Imbalanced - Match\", 'Classifier':\"SVM - Sigmoid\", 'Specificity':M1_sp_SVM_sigmoid, 'Sensitivity':M1_se_SVM_sigmoid, 'Accuracy':M1_acc_SVM_sigmoid, 'AUC': m1_svm_sigmoid_auc}\n",
        "results = results.append(svm_sigmoid_m1, ignore_index=True)"
      ],
      "execution_count": null,
      "outputs": []
    },
    {
      "cell_type": "markdown",
      "metadata": {
        "id": "F81qw4DLbfLw",
        "colab_type": "text"
      },
      "source": [
        "**Model 2 - Manually Balanced**"
      ]
    },
    {
      "cell_type": "code",
      "metadata": {
        "id": "bUaQi-SzagZz",
        "colab_type": "code",
        "colab": {}
      },
      "source": [
        "svclassifier = SVC(kernel='sigmoid').fit(X_train_bal, y_train_bal)"
      ],
      "execution_count": null,
      "outputs": []
    },
    {
      "cell_type": "code",
      "metadata": {
        "id": "0suoubA3bj7i",
        "colab_type": "code",
        "colab": {
          "base_uri": "https://localhost:8080/",
          "height": 212
        },
        "outputId": "967fa3db-ccd5-4f81-e009-98b1a28fce42"
      },
      "source": [
        "y_pred_m2_svm_sigmoid = svclassifier.predict(X_test)\n",
        "\n",
        "print(confusion_matrix(y_test,y_pred_m2_svm_sigmoid))\n",
        "print(classification_report(y_test,y_pred_m2_svm_sigmoid))"
      ],
      "execution_count": null,
      "outputs": [
        {
          "output_type": "stream",
          "text": [
            "[[2324 2443]\n",
            " [4416 4338]]\n",
            "              precision    recall  f1-score   support\n",
            "\n",
            "         0.0       0.34      0.49      0.40      4767\n",
            "         1.0       0.64      0.50      0.56      8754\n",
            "\n",
            "    accuracy                           0.49     13521\n",
            "   macro avg       0.49      0.49      0.48     13521\n",
            "weighted avg       0.54      0.49      0.50     13521\n",
            "\n"
          ],
          "name": "stdout"
        }
      ]
    },
    {
      "cell_type": "markdown",
      "metadata": {
        "id": "ijgicxZvbo8S",
        "colab_type": "text"
      },
      "source": [
        "| ACTUAL\\PREDICTED          | Mismatch (0) | Match (1) | TOTAL |\n",
        "|---------------------------|---------------------|-------------------------|-------|\n",
        "|    Mismatch (0)|      2324             |        2443               |   4767   |\n",
        "|  Match (1)      |      4416             |        4338              |   8754  |\n",
        "|        TOTAL              |      6740             |        6781              |   13521  |"
      ]
    },
    {
      "cell_type": "code",
      "metadata": {
        "id": "RKFFcZtb1Ehj",
        "colab_type": "code",
        "colab": {}
      },
      "source": [
        "m2_svm_sigmoid_auc = roc_auc_score(y_test, y_pred_m2_svm_sigmoid)"
      ],
      "execution_count": null,
      "outputs": []
    },
    {
      "cell_type": "code",
      "metadata": {
        "id": "RZWMwsxHbmIL",
        "colab_type": "code",
        "colab": {}
      },
      "source": [
        "M2_sp_SVM_sigmoid=0.34\n",
        "M2_se_SVM_sigmoid=0.49\n",
        "M2_acc_SVM_sigmoid=0.49"
      ],
      "execution_count": null,
      "outputs": []
    },
    {
      "cell_type": "code",
      "metadata": {
        "id": "-GvJFqHocCM6",
        "colab_type": "code",
        "colab": {}
      },
      "source": [
        "svm_sigmoid_m2 = {'Model':\"Balanced - Manual\", 'Classifier':\"SVM - Sigmoid\", 'Specificity':M2_sp_SVM_sigmoid, 'Sensitivity':M2_se_SVM_sigmoid, 'Accuracy':M2_acc_SVM_sigmoid, 'AUC': m2_svm_sigmoid_auc}\n",
        "results = results.append(svm_sigmoid_m2, ignore_index=True)"
      ],
      "execution_count": null,
      "outputs": []
    },
    {
      "cell_type": "markdown",
      "metadata": {
        "id": "wmix_A4EdF1_",
        "colab_type": "text"
      },
      "source": [
        "**Model 3 - SMOTE Balanced**"
      ]
    },
    {
      "cell_type": "code",
      "metadata": {
        "id": "FLyeozO-cNPc",
        "colab_type": "code",
        "colab": {}
      },
      "source": [
        "svclassifier = SVC(kernel='sigmoid').fit(X_train_resampled, y_train_resampled)"
      ],
      "execution_count": null,
      "outputs": []
    },
    {
      "cell_type": "code",
      "metadata": {
        "id": "y8_W_mnoeThP",
        "colab_type": "code",
        "colab": {
          "base_uri": "https://localhost:8080/",
          "height": 212
        },
        "outputId": "8f21d5e2-44e8-4613-d96e-ea931dc9f99b"
      },
      "source": [
        "y_pred_m3_svm_sigmoid = svclassifier.predict(X_test)\n",
        "\n",
        "print(confusion_matrix(y_test,y_pred_m3_svm_sigmoid))\n",
        "print(classification_report(y_test,y_pred_m3_svm_sigmoid))"
      ],
      "execution_count": null,
      "outputs": [
        {
          "output_type": "stream",
          "text": [
            "[[2329 2438]\n",
            " [4451 4303]]\n",
            "              precision    recall  f1-score   support\n",
            "\n",
            "         0.0       0.34      0.49      0.40      4767\n",
            "         1.0       0.64      0.49      0.56      8754\n",
            "\n",
            "    accuracy                           0.49     13521\n",
            "   macro avg       0.49      0.49      0.48     13521\n",
            "weighted avg       0.53      0.49      0.50     13521\n",
            "\n"
          ],
          "name": "stdout"
        }
      ]
    },
    {
      "cell_type": "markdown",
      "metadata": {
        "id": "KnCzgFX-eWXa",
        "colab_type": "text"
      },
      "source": [
        "| ACTUAL\\PREDICTED          | Mismatch (0) | Match (1) | TOTAL |\n",
        "|---------------------------|---------------------|-------------------------|-------|\n",
        "|    Mismatch (0)|      2329             |        2438               |   4767   |\n",
        "|  Match (1)      |     4451             |        4303              |   8754  |\n",
        "|        TOTAL              |      6780             |        6741              |   13521  |"
      ]
    },
    {
      "cell_type": "code",
      "metadata": {
        "id": "NFjGXCZ-18jU",
        "colab_type": "code",
        "colab": {}
      },
      "source": [
        "m3_svm_sigmoid_auc = roc_auc_score(y_test, y_pred_m3_svm_sigmoid)"
      ],
      "execution_count": null,
      "outputs": []
    },
    {
      "cell_type": "code",
      "metadata": {
        "id": "C8VSTsZneVko",
        "colab_type": "code",
        "colab": {}
      },
      "source": [
        "M3_sp_SVM_sigmoid=0.34\n",
        "M3_se_SVM_sigmoid=0.49\n",
        "M3_acc_SVM_sigmoid=0.49"
      ],
      "execution_count": null,
      "outputs": []
    },
    {
      "cell_type": "code",
      "metadata": {
        "id": "jyDiImI6etSy",
        "colab_type": "code",
        "colab": {}
      },
      "source": [
        "svm_sigmoid_m3 = {'Model':\"Balanced - SMOTE\", 'Classifier':\"SVM - Sigmoid\", 'Specificity':M3_sp_SVM_sigmoid, 'Sensitivity':M3_se_SVM_sigmoid, 'Accuracy':M3_acc_SVM_sigmoid, 'AUC': m3_svm_sigmoid_auc}\n",
        "results = results.append(svm_sigmoid_m3, ignore_index=True)"
      ],
      "execution_count": null,
      "outputs": []
    },
    {
      "cell_type": "markdown",
      "metadata": {
        "id": "6lm8xXS5fGaq",
        "colab_type": "text"
      },
      "source": [
        "**Model 4 - Imbalanced towards Mismatch**"
      ]
    },
    {
      "cell_type": "code",
      "metadata": {
        "id": "IhEhqF1We7AS",
        "colab_type": "code",
        "colab": {}
      },
      "source": [
        "svclassifier = SVC(kernel='sigmoid').fit(X_train_imbal, y_train_imbal)"
      ],
      "execution_count": null,
      "outputs": []
    },
    {
      "cell_type": "code",
      "metadata": {
        "id": "iHoDG5oJf9J_",
        "colab_type": "code",
        "colab": {
          "base_uri": "https://localhost:8080/",
          "height": 212
        },
        "outputId": "a0243a58-281a-4347-ffe6-823ae958b9e2"
      },
      "source": [
        "y_pred_m4_svm_sigmoid = svclassifier.predict(X_test)\n",
        "\n",
        "print(confusion_matrix(y_test,y_pred_m4_svm_sigmoid))\n",
        "print(classification_report(y_test,y_pred_m4_svm_sigmoid))"
      ],
      "execution_count": null,
      "outputs": [
        {
          "output_type": "stream",
          "text": [
            "[[3116 1651]\n",
            " [5842 2912]]\n",
            "              precision    recall  f1-score   support\n",
            "\n",
            "         0.0       0.35      0.65      0.45      4767\n",
            "         1.0       0.64      0.33      0.44      8754\n",
            "\n",
            "    accuracy                           0.45     13521\n",
            "   macro avg       0.49      0.49      0.45     13521\n",
            "weighted avg       0.54      0.45      0.44     13521\n",
            "\n"
          ],
          "name": "stdout"
        }
      ]
    },
    {
      "cell_type": "markdown",
      "metadata": {
        "id": "xrZhivC6gBLU",
        "colab_type": "text"
      },
      "source": [
        "| ACTUAL\\PREDICTED          | Mismatch (0) | Match (1) | TOTAL |\n",
        "|---------------------------|---------------------|-------------------------|-------|\n",
        "|    Mismatch (0)|      3116             |        1651               |   4767   |\n",
        "|  Match (1)      |      5842             |        2912              |   8754  |\n",
        "|        TOTAL              |      8958             |        4563              |   13521  |"
      ]
    },
    {
      "cell_type": "code",
      "metadata": {
        "id": "L5tbDMBC2z8D",
        "colab_type": "code",
        "colab": {}
      },
      "source": [
        "m4_svm_sigmoid_auc = roc_auc_score(y_test, y_pred_m4_svm_sigmoid)"
      ],
      "execution_count": null,
      "outputs": []
    },
    {
      "cell_type": "code",
      "metadata": {
        "id": "tIXcTlnyf-7H",
        "colab_type": "code",
        "colab": {}
      },
      "source": [
        "M4_sp_SVM_sigmoid=0.35\n",
        "M4_se_SVM_sigmoid=0.65\n",
        "M4_acc_SVM_sigmoid=0.45"
      ],
      "execution_count": null,
      "outputs": []
    },
    {
      "cell_type": "code",
      "metadata": {
        "id": "WwVff0KOgWvz",
        "colab_type": "code",
        "colab": {}
      },
      "source": [
        "svm_sigmoid_m4 = {'Model':\"Imbalanced - Mismatch\", 'Classifier':\"SVM - Sigmoid\", 'Specificity':M4_sp_SVM_sigmoid, 'Sensitivity':M4_se_SVM_sigmoid, 'Accuracy':M4_acc_SVM_sigmoid, 'AUC': m4_svm_sigmoid_auc}\n",
        "results = results.append(svm_sigmoid_m4, ignore_index=True)"
      ],
      "execution_count": null,
      "outputs": []
    },
    {
      "cell_type": "markdown",
      "metadata": {
        "id": "EHMqdR4XkN33",
        "colab_type": "text"
      },
      "source": [
        "# **NAIVE BAYES (GAUSSIAN)**"
      ]
    },
    {
      "cell_type": "markdown",
      "metadata": {
        "id": "efhjO8LnkgGe",
        "colab_type": "text"
      },
      "source": [
        "**Model 1 - Imbalanced towards Match**"
      ]
    },
    {
      "cell_type": "code",
      "metadata": {
        "id": "fG3cmp8iggW9",
        "colab_type": "code",
        "colab": {}
      },
      "source": [
        "gnb = GaussianNB().fit(X_train, y_train)"
      ],
      "execution_count": null,
      "outputs": []
    },
    {
      "cell_type": "code",
      "metadata": {
        "id": "2zitHlnRkmUC",
        "colab_type": "code",
        "colab": {
          "base_uri": "https://localhost:8080/",
          "height": 212
        },
        "outputId": "4ade8fcc-452d-4d93-9d3a-e41bf76bd9e6"
      },
      "source": [
        "y_pred_m1_naive_gaussian = gnb.predict(X_test) \n",
        "print(confusion_matrix(y_test,y_pred_m1_naive_gaussian))\n",
        "print(classification_report(y_test,y_pred_m1_naive_gaussian))"
      ],
      "execution_count": null,
      "outputs": [
        {
          "output_type": "stream",
          "text": [
            "[[4767    0]\n",
            " [   0 8754]]\n",
            "              precision    recall  f1-score   support\n",
            "\n",
            "         0.0       1.00      1.00      1.00      4767\n",
            "         1.0       1.00      1.00      1.00      8754\n",
            "\n",
            "    accuracy                           1.00     13521\n",
            "   macro avg       1.00      1.00      1.00     13521\n",
            "weighted avg       1.00      1.00      1.00     13521\n",
            "\n"
          ],
          "name": "stdout"
        }
      ]
    },
    {
      "cell_type": "markdown",
      "metadata": {
        "id": "NkyguRIek414",
        "colab_type": "text"
      },
      "source": [
        "| ACTUAL\\PREDICTED          | Mismatch (0) | Match (1) | TOTAL |\n",
        "|---------------------------|---------------------|-------------------------|-------|\n",
        "|    Mismatch (0)|      4767             |        0               |   4767   |\n",
        "|  Match (1)      |      0             |        8754              |   8754  |\n",
        "|        TOTAL              |      4767             |        8754              |   13521  |"
      ]
    },
    {
      "cell_type": "code",
      "metadata": {
        "id": "6E-oEthf4WDk",
        "colab_type": "code",
        "colab": {}
      },
      "source": [
        "m1_naive_gaussian_auc = roc_auc_score(y_test, y_pred_m1_naive_gaussian)"
      ],
      "execution_count": null,
      "outputs": []
    },
    {
      "cell_type": "code",
      "metadata": {
        "id": "ZgouiP4ukoK0",
        "colab_type": "code",
        "colab": {}
      },
      "source": [
        "M1_sp_naive_gaussian=1.00\n",
        "M1_se_naive_gaussian=1.00\n",
        "M1_acc_naive_gaussian=1.00"
      ],
      "execution_count": null,
      "outputs": []
    },
    {
      "cell_type": "code",
      "metadata": {
        "id": "-GBgaMAVlYCT",
        "colab_type": "code",
        "colab": {}
      },
      "source": [
        "naive_gaussian_m1 = {'Model':\"Imbalanced - Match\", 'Classifier':\"Naive Bayes - Gaussian\", 'Specificity':M1_sp_naive_gaussian, 'Sensitivity':M1_se_naive_gaussian, 'Accuracy':M1_acc_naive_gaussian, 'AUC': m1_naive_gaussian_auc}\n",
        "results = results.append(naive_gaussian_m1, ignore_index=True)"
      ],
      "execution_count": null,
      "outputs": []
    },
    {
      "cell_type": "markdown",
      "metadata": {
        "id": "WIYtrG-GnzjC",
        "colab_type": "text"
      },
      "source": [
        "**Model 2 - Manually Balanced**"
      ]
    },
    {
      "cell_type": "code",
      "metadata": {
        "id": "wm942fsjm5Ty",
        "colab_type": "code",
        "colab": {}
      },
      "source": [
        "gnb = GaussianNB().fit(X_train_bal, y_train_bal)"
      ],
      "execution_count": null,
      "outputs": []
    },
    {
      "cell_type": "code",
      "metadata": {
        "id": "z49Zvu7Tn_6j",
        "colab_type": "code",
        "colab": {
          "base_uri": "https://localhost:8080/",
          "height": 212
        },
        "outputId": "fa5be34d-be1f-4708-d79f-ce28e65ff302"
      },
      "source": [
        "y_pred_m2_naive_gaussian = gnb.predict(X_test) \n",
        "print(confusion_matrix(y_test,y_pred_m2_naive_gaussian))\n",
        "print(classification_report(y_test,y_pred_m2_naive_gaussian))"
      ],
      "execution_count": null,
      "outputs": [
        {
          "output_type": "stream",
          "text": [
            "[[4767    0]\n",
            " [   0 8754]]\n",
            "              precision    recall  f1-score   support\n",
            "\n",
            "         0.0       1.00      1.00      1.00      4767\n",
            "         1.0       1.00      1.00      1.00      8754\n",
            "\n",
            "    accuracy                           1.00     13521\n",
            "   macro avg       1.00      1.00      1.00     13521\n",
            "weighted avg       1.00      1.00      1.00     13521\n",
            "\n"
          ],
          "name": "stdout"
        }
      ]
    },
    {
      "cell_type": "markdown",
      "metadata": {
        "id": "IPcAd-l3oKm3",
        "colab_type": "text"
      },
      "source": [
        "| ACTUAL\\PREDICTED          | Mismatch (0) | Match (1) | TOTAL |\n",
        "|---------------------------|---------------------|-------------------------|-------|\n",
        "|    Mismatch (0)|      4767             |        0               |   4767   |\n",
        "|  Match (1)      |      0             |        8754              |   8754  |\n",
        "|        TOTAL              |      4767             |        8754              |   13521  |"
      ]
    },
    {
      "cell_type": "code",
      "metadata": {
        "id": "o6F9qGND47wz",
        "colab_type": "code",
        "colab": {}
      },
      "source": [
        "m2_naive_gaussian_auc = roc_auc_score(y_test, y_pred_m2_naive_gaussian)"
      ],
      "execution_count": null,
      "outputs": []
    },
    {
      "cell_type": "code",
      "metadata": {
        "id": "k2BKXoJPoCCH",
        "colab_type": "code",
        "colab": {}
      },
      "source": [
        "M2_sp_naive_gaussian=1.00\n",
        "M2_se_naive_gaussian=1.00\n",
        "M2_acc_naive_gaussian=1.00"
      ],
      "execution_count": null,
      "outputs": []
    },
    {
      "cell_type": "code",
      "metadata": {
        "id": "YpyhzUL1oc_f",
        "colab_type": "code",
        "colab": {}
      },
      "source": [
        "naive_gaussian_m2 = {'Model':\"Balanced - Manual\", 'Classifier':\"Naive Bayes - Gaussian\", 'Specificity':M2_sp_naive_gaussian, 'Sensitivity':M2_se_naive_gaussian, 'Accuracy':M2_acc_naive_gaussian, 'AUC': m2_naive_gaussian_auc}\n",
        "results = results.append(naive_gaussian_m2, ignore_index=True)"
      ],
      "execution_count": null,
      "outputs": []
    },
    {
      "cell_type": "markdown",
      "metadata": {
        "id": "ese3046apTYu",
        "colab_type": "text"
      },
      "source": [
        "**Model 3 - SMOTE Balanced**"
      ]
    },
    {
      "cell_type": "code",
      "metadata": {
        "id": "IgIF-8INonnW",
        "colab_type": "code",
        "colab": {}
      },
      "source": [
        "gnb = GaussianNB().fit(X_train_resampled, y_train_resampled)"
      ],
      "execution_count": null,
      "outputs": []
    },
    {
      "cell_type": "code",
      "metadata": {
        "id": "aIHdl2RmpiZV",
        "colab_type": "code",
        "colab": {
          "base_uri": "https://localhost:8080/",
          "height": 212
        },
        "outputId": "13ae11ba-d680-48ee-f83e-c2080f78d147"
      },
      "source": [
        "y_pred_m3_naive_gaussian = gnb.predict(X_test) \n",
        "print(confusion_matrix(y_test,y_pred_m3_naive_gaussian))\n",
        "print(classification_report(y_test,y_pred_m3_naive_gaussian))"
      ],
      "execution_count": null,
      "outputs": [
        {
          "output_type": "stream",
          "text": [
            "[[4767    0]\n",
            " [   0 8754]]\n",
            "              precision    recall  f1-score   support\n",
            "\n",
            "         0.0       1.00      1.00      1.00      4767\n",
            "         1.0       1.00      1.00      1.00      8754\n",
            "\n",
            "    accuracy                           1.00     13521\n",
            "   macro avg       1.00      1.00      1.00     13521\n",
            "weighted avg       1.00      1.00      1.00     13521\n",
            "\n"
          ],
          "name": "stdout"
        }
      ]
    },
    {
      "cell_type": "markdown",
      "metadata": {
        "id": "iecRVtWIpnzY",
        "colab_type": "text"
      },
      "source": [
        "| ACTUAL\\PREDICTED          | Mismatch (0) | Match (1) | TOTAL |\n",
        "|---------------------------|---------------------|-------------------------|-------|\n",
        "|    Mismatch (0)|      4767             |        0               |   4767   |\n",
        "|  Match (1)      |      0             |        8754              |   8754  |\n",
        "|        TOTAL              |      4767             |        8754              |   13521  |"
      ]
    },
    {
      "cell_type": "code",
      "metadata": {
        "id": "wozn3_mx61rR",
        "colab_type": "code",
        "colab": {}
      },
      "source": [
        "m3_naive_gaussian_auc = roc_auc_score(y_test, y_pred_m3_naive_gaussian)"
      ],
      "execution_count": null,
      "outputs": []
    },
    {
      "cell_type": "code",
      "metadata": {
        "id": "epMCn4dtpks2",
        "colab_type": "code",
        "colab": {}
      },
      "source": [
        "M3_sp_naive_gaussian=1.00\n",
        "M3_se_naive_gaussian=1.00\n",
        "M3_acc_naive_gaussian=1.00"
      ],
      "execution_count": null,
      "outputs": []
    },
    {
      "cell_type": "code",
      "metadata": {
        "id": "vdGmbN8Lp2D9",
        "colab_type": "code",
        "colab": {}
      },
      "source": [
        "naive_gaussian_m3 = {'Model':\"Balanced - SMOTE\", 'Classifier':\"Naive Bayes - Gaussian\", 'Specificity':M3_sp_naive_gaussian, 'Sensitivity':M3_se_naive_gaussian, 'Accuracy':M3_acc_naive_gaussian, 'AUC': m3_naive_gaussian_auc}\n",
        "results = results.append(naive_gaussian_m3, ignore_index=True)"
      ],
      "execution_count": null,
      "outputs": []
    },
    {
      "cell_type": "markdown",
      "metadata": {
        "id": "S9iZEb_jqyJx",
        "colab_type": "text"
      },
      "source": [
        "**Model 4 - Imbalanced towards Mismatch**"
      ]
    },
    {
      "cell_type": "code",
      "metadata": {
        "id": "BnKI96Hsp-Ry",
        "colab_type": "code",
        "colab": {}
      },
      "source": [
        "gnb = GaussianNB().fit(X_train_imbal, y_train_imbal)"
      ],
      "execution_count": null,
      "outputs": []
    },
    {
      "cell_type": "code",
      "metadata": {
        "id": "xwf4lIVyq99-",
        "colab_type": "code",
        "colab": {
          "base_uri": "https://localhost:8080/",
          "height": 212
        },
        "outputId": "8f642904-0a73-4f18-917d-6e338816bd37"
      },
      "source": [
        "y_pred_m4_naive_gaussian = gnb.predict(X_test) \n",
        "print(confusion_matrix(y_test,y_pred_m4_naive_gaussian))\n",
        "print(classification_report(y_test,y_pred_m4_naive_gaussian))"
      ],
      "execution_count": null,
      "outputs": [
        {
          "output_type": "stream",
          "text": [
            "[[4767    0]\n",
            " [   0 8754]]\n",
            "              precision    recall  f1-score   support\n",
            "\n",
            "         0.0       1.00      1.00      1.00      4767\n",
            "         1.0       1.00      1.00      1.00      8754\n",
            "\n",
            "    accuracy                           1.00     13521\n",
            "   macro avg       1.00      1.00      1.00     13521\n",
            "weighted avg       1.00      1.00      1.00     13521\n",
            "\n"
          ],
          "name": "stdout"
        }
      ]
    },
    {
      "cell_type": "markdown",
      "metadata": {
        "id": "Y4ovrQjprDRq",
        "colab_type": "text"
      },
      "source": [
        "| ACTUAL\\PREDICTED          | Mismatch (0) | Match (1) | TOTAL |\n",
        "|---------------------------|---------------------|-------------------------|-------|\n",
        "|    Mismatch (0)|      4767             |        0               |   4767   |\n",
        "|  Match (1)      |      0             |        8754              |   8754  |\n",
        "|        TOTAL              |      4767             |        8754              |   13521  |"
      ]
    },
    {
      "cell_type": "code",
      "metadata": {
        "id": "bWPtI21t7HVK",
        "colab_type": "code",
        "colab": {}
      },
      "source": [
        "m4_naive_gaussian_auc = roc_auc_score(y_test, y_pred_m4_naive_gaussian)"
      ],
      "execution_count": null,
      "outputs": []
    },
    {
      "cell_type": "code",
      "metadata": {
        "id": "TALxSYlTrBFk",
        "colab_type": "code",
        "colab": {}
      },
      "source": [
        "M4_sp_naive_gaussian=1.00\n",
        "M4_se_naive_gaussian=1.00\n",
        "M4_acc_naive_gaussian=1.00"
      ],
      "execution_count": null,
      "outputs": []
    },
    {
      "cell_type": "code",
      "metadata": {
        "id": "1IlDso45rbUd",
        "colab_type": "code",
        "colab": {}
      },
      "source": [
        "naive_gaussian_m4 = {'Model':\"Imbalanced - Mismatch\", 'Classifier':\"Naive Bayes - Gaussian\", 'Specificity':M4_sp_naive_gaussian, 'Sensitivity':M4_se_naive_gaussian, 'Accuracy':M4_acc_naive_gaussian, 'AUC': m4_naive_gaussian_auc}\n",
        "results = results.append(naive_gaussian_m4, ignore_index=True)"
      ],
      "execution_count": null,
      "outputs": []
    },
    {
      "cell_type": "markdown",
      "metadata": {
        "id": "d_FUhx82yuSn",
        "colab_type": "text"
      },
      "source": [
        "# **Naive Bayes (Bernoulli)**"
      ]
    },
    {
      "cell_type": "markdown",
      "metadata": {
        "id": "fL173PA6y3hz",
        "colab_type": "text"
      },
      "source": [
        "**Model 1 - Imbalanced towards Match**"
      ]
    },
    {
      "cell_type": "code",
      "metadata": {
        "id": "_se-zY6RrnGL",
        "colab_type": "code",
        "colab": {}
      },
      "source": [
        "gnb = BernoulliNB().fit(X_train, y_train)"
      ],
      "execution_count": null,
      "outputs": []
    },
    {
      "cell_type": "code",
      "metadata": {
        "id": "GqpLXvbfzEmM",
        "colab_type": "code",
        "colab": {
          "base_uri": "https://localhost:8080/",
          "height": 212
        },
        "outputId": "37adc4fc-6c17-49b6-95c7-9765f60dea88"
      },
      "source": [
        "y_pred_m1_naive_bernoulli = gnb.predict(X_test) \n",
        "print(confusion_matrix(y_test,y_pred_m1_naive_bernoulli))\n",
        "print(classification_report(y_test,y_pred_m1_naive_bernoulli))"
      ],
      "execution_count": null,
      "outputs": [
        {
          "output_type": "stream",
          "text": [
            "[[1605 3162]\n",
            " [1592 7162]]\n",
            "              precision    recall  f1-score   support\n",
            "\n",
            "         0.0       0.50      0.34      0.40      4767\n",
            "         1.0       0.69      0.82      0.75      8754\n",
            "\n",
            "    accuracy                           0.65     13521\n",
            "   macro avg       0.60      0.58      0.58     13521\n",
            "weighted avg       0.63      0.65      0.63     13521\n",
            "\n"
          ],
          "name": "stdout"
        }
      ]
    },
    {
      "cell_type": "markdown",
      "metadata": {
        "id": "SO-laNKQ_NkO",
        "colab_type": "text"
      },
      "source": [
        "| ACTUAL\\PREDICTED          | Mismatch (0) | Match (1) | TOTAL |\n",
        "|---------------------------|---------------------|-------------------------|-------|\n",
        "|    Mismatch (0)|      1605             |        3162               |   4767   |\n",
        "|  Match (1)      |      1592             |        7162              |   8754  |\n",
        "|        TOTAL              |      3197             |        10324              |   13521  |"
      ]
    },
    {
      "cell_type": "code",
      "metadata": {
        "id": "L3DL79S87i6J",
        "colab_type": "code",
        "colab": {}
      },
      "source": [
        "m1_naive_bernoulli_auc = roc_auc_score(y_test, y_pred_m1_naive_bernoulli)"
      ],
      "execution_count": null,
      "outputs": []
    },
    {
      "cell_type": "code",
      "metadata": {
        "id": "ft8MigV3zpsb",
        "colab_type": "code",
        "colab": {}
      },
      "source": [
        "M1_sp_naive_bernoulli=0.50\n",
        "M1_se_naive_bernoulli=0.34\n",
        "M1_acc_naive_bernoulli=0.65"
      ],
      "execution_count": null,
      "outputs": []
    },
    {
      "cell_type": "code",
      "metadata": {
        "id": "EXzv0DMa_vio",
        "colab_type": "code",
        "colab": {}
      },
      "source": [
        "naive_bernoullii_m1 = {'Model':\"Imbalanced - Match\", 'Classifier':\"Naive Bayes - Bernoulli\", 'Specificity':M1_sp_naive_bernoulli, 'Sensitivity':M1_se_naive_bernoulli, 'Accuracy':M1_acc_naive_bernoulli, 'AUC':m1_naive_bernoulli_auc}\n",
        "results = results.append(naive_bernoullii_m1, ignore_index=True)"
      ],
      "execution_count": null,
      "outputs": []
    },
    {
      "cell_type": "markdown",
      "metadata": {
        "id": "iVeWbhXiAXlZ",
        "colab_type": "text"
      },
      "source": [
        "**Model 2 - Manually Balanced**"
      ]
    },
    {
      "cell_type": "code",
      "metadata": {
        "id": "3ufssO5gAEGb",
        "colab_type": "code",
        "colab": {}
      },
      "source": [
        "gnb = BernoulliNB().fit(X_train_bal, y_train_bal)"
      ],
      "execution_count": null,
      "outputs": []
    },
    {
      "cell_type": "code",
      "metadata": {
        "id": "Yw2VKpE7AhGt",
        "colab_type": "code",
        "colab": {
          "base_uri": "https://localhost:8080/",
          "height": 212
        },
        "outputId": "44127b4f-1eaf-47e1-9573-60fb83e4b09d"
      },
      "source": [
        "y_pred_m2_naive_bernoulli = gnb.predict(X_test) \n",
        "print(confusion_matrix(y_test,y_pred_m2_naive_bernoulli))\n",
        "print(classification_report(y_test,y_pred_m2_naive_bernoulli))"
      ],
      "execution_count": null,
      "outputs": [
        {
          "output_type": "stream",
          "text": [
            "[[1605 3162]\n",
            " [1592 7162]]\n",
            "              precision    recall  f1-score   support\n",
            "\n",
            "         0.0       0.50      0.34      0.40      4767\n",
            "         1.0       0.69      0.82      0.75      8754\n",
            "\n",
            "    accuracy                           0.65     13521\n",
            "   macro avg       0.60      0.58      0.58     13521\n",
            "weighted avg       0.63      0.65      0.63     13521\n",
            "\n"
          ],
          "name": "stdout"
        }
      ]
    },
    {
      "cell_type": "markdown",
      "metadata": {
        "id": "6_bfnVwHAllJ",
        "colab_type": "text"
      },
      "source": [
        "| ACTUAL\\PREDICTED          | Mismatch (0) | Match (1) | TOTAL |\n",
        "|---------------------------|---------------------|-------------------------|-------|\n",
        "|    Mismatch (0)|      1605             |        3162               |   4767   |\n",
        "|  Match (1)      |      1592             |        7162              |   8754  |\n",
        "|        TOTAL              |      3197             |        10324              |   13521  |"
      ]
    },
    {
      "cell_type": "code",
      "metadata": {
        "id": "rJpzJGoP9q4r",
        "colab_type": "code",
        "colab": {}
      },
      "source": [
        "m2_naive_bernoulli_auc = roc_auc_score(y_test, y_pred_m2_naive_bernoulli)"
      ],
      "execution_count": null,
      "outputs": []
    },
    {
      "cell_type": "code",
      "metadata": {
        "id": "vui29GS7AjRQ",
        "colab_type": "code",
        "colab": {}
      },
      "source": [
        "M2_sp_naive_bernoulli=0.50\n",
        "M2_se_naive_bernoulli=0.34\n",
        "M2_acc_naive_bernoulli=0.65"
      ],
      "execution_count": null,
      "outputs": []
    },
    {
      "cell_type": "code",
      "metadata": {
        "id": "jYSUcxSHAvD-",
        "colab_type": "code",
        "colab": {}
      },
      "source": [
        "naive_bernoullii_m2 = {'Model':\"Balanced - Manual\", 'Classifier':\"Naive Bayes - Bernoulli\", 'Specificity':M2_sp_naive_bernoulli, 'Sensitivity':M2_se_naive_bernoulli, 'Accuracy':M2_acc_naive_bernoulli, 'AUC':m2_naive_bernoulli_auc}\n",
        "results = results.append(naive_bernoullii_m2, ignore_index=True)"
      ],
      "execution_count": null,
      "outputs": []
    },
    {
      "cell_type": "markdown",
      "metadata": {
        "id": "hylGD_pQA_ay",
        "colab_type": "text"
      },
      "source": [
        "**Model 3 - SMOTE Balanced**"
      ]
    },
    {
      "cell_type": "code",
      "metadata": {
        "id": "SwRIis2cA3-a",
        "colab_type": "code",
        "colab": {}
      },
      "source": [
        "gnb = BernoulliNB().fit(X_train_resampled, y_train_resampled)"
      ],
      "execution_count": null,
      "outputs": []
    },
    {
      "cell_type": "code",
      "metadata": {
        "id": "XoW-yDCbBMS1",
        "colab_type": "code",
        "colab": {
          "base_uri": "https://localhost:8080/",
          "height": 212
        },
        "outputId": "eef0d94d-c0b2-4452-eaa0-078f45480204"
      },
      "source": [
        "y_pred_m3_naive_bernoulli = gnb.predict(X_test) \n",
        "print(confusion_matrix(y_test,y_pred_m3_naive_bernoulli))\n",
        "print(classification_report(y_test,y_pred_m3_naive_bernoulli))"
      ],
      "execution_count": null,
      "outputs": [
        {
          "output_type": "stream",
          "text": [
            "[[1605 3162]\n",
            " [1592 7162]]\n",
            "              precision    recall  f1-score   support\n",
            "\n",
            "         0.0       0.50      0.34      0.40      4767\n",
            "         1.0       0.69      0.82      0.75      8754\n",
            "\n",
            "    accuracy                           0.65     13521\n",
            "   macro avg       0.60      0.58      0.58     13521\n",
            "weighted avg       0.63      0.65      0.63     13521\n",
            "\n"
          ],
          "name": "stdout"
        }
      ]
    },
    {
      "cell_type": "markdown",
      "metadata": {
        "id": "lqoQjIWBBURp",
        "colab_type": "text"
      },
      "source": [
        "| ACTUAL\\PREDICTED          | Mismatch (0) | Match (1) | TOTAL |\n",
        "|---------------------------|---------------------|-------------------------|-------|\n",
        "|    Mismatch (0)|      1605             |        3162               |   4767   |\n",
        "|  Match (1)      |      1592             |        7162              |   8754  |\n",
        "|        TOTAL              |      3197             |        10324              |   13521  |"
      ]
    },
    {
      "cell_type": "code",
      "metadata": {
        "id": "_qKcYjzu-nqP",
        "colab_type": "code",
        "colab": {}
      },
      "source": [
        "m3_naive_bernoulli_auc = roc_auc_score(y_test, y_pred_m3_naive_bernoulli)"
      ],
      "execution_count": null,
      "outputs": []
    },
    {
      "cell_type": "code",
      "metadata": {
        "id": "-Nkwg9I9BOl-",
        "colab_type": "code",
        "colab": {}
      },
      "source": [
        "M3_sp_naive_bernoulli=0.50\n",
        "M3_se_naive_bernoulli=0.34\n",
        "M3_acc_naive_bernoulli=0.65"
      ],
      "execution_count": null,
      "outputs": []
    },
    {
      "cell_type": "code",
      "metadata": {
        "id": "b4-v0T9pBgZJ",
        "colab_type": "code",
        "colab": {}
      },
      "source": [
        "naive_bernoullii_m3 = {'Model':\"Balanced - SMOTE\", 'Classifier':\"Naive Bayes - Bernoulli\", 'Specificity':M3_sp_naive_bernoulli, 'Sensitivity':M3_se_naive_bernoulli, 'Accuracy':M3_acc_naive_bernoulli, 'AUC':m3_naive_bernoulli_auc}\n",
        "results = results.append(naive_bernoullii_m3, ignore_index=True)"
      ],
      "execution_count": null,
      "outputs": []
    },
    {
      "cell_type": "markdown",
      "metadata": {
        "id": "1MpR7bJWB4UG",
        "colab_type": "text"
      },
      "source": [
        "**Model 4 - Imbalanced towards Mismatch**"
      ]
    },
    {
      "cell_type": "code",
      "metadata": {
        "id": "XFom6HC_BpFd",
        "colab_type": "code",
        "colab": {}
      },
      "source": [
        "gnb = BernoulliNB().fit(X_train_imbal, y_train_imbal)"
      ],
      "execution_count": null,
      "outputs": []
    },
    {
      "cell_type": "code",
      "metadata": {
        "id": "ZzqUtpWSB_9d",
        "colab_type": "code",
        "colab": {
          "base_uri": "https://localhost:8080/",
          "height": 212
        },
        "outputId": "472b2847-cc48-4e85-9665-8ed5a009fe11"
      },
      "source": [
        "y_pred_m4_naive_bernoulli = gnb.predict(X_test) \n",
        "print(confusion_matrix(y_test,y_pred_m4_naive_bernoulli))\n",
        "print(classification_report(y_test,y_pred_m4_naive_bernoulli))"
      ],
      "execution_count": null,
      "outputs": [
        {
          "output_type": "stream",
          "text": [
            "[[4767    0]\n",
            " [8692   62]]\n",
            "              precision    recall  f1-score   support\n",
            "\n",
            "         0.0       0.35      1.00      0.52      4767\n",
            "         1.0       1.00      0.01      0.01      8754\n",
            "\n",
            "    accuracy                           0.36     13521\n",
            "   macro avg       0.68      0.50      0.27     13521\n",
            "weighted avg       0.77      0.36      0.19     13521\n",
            "\n"
          ],
          "name": "stdout"
        }
      ]
    },
    {
      "cell_type": "markdown",
      "metadata": {
        "id": "4VGrm7H7CKVl",
        "colab_type": "text"
      },
      "source": [
        "| ACTUAL\\PREDICTED          | Mismatch (0) | Match (1) | TOTAL |\n",
        "|---------------------------|---------------------|-------------------------|-------|\n",
        "|    Mismatch (0)|      4767             |        0               |   4767   |\n",
        "|  Match (1)      |      8692             |        62              |   8754  |\n",
        "|        TOTAL              |      13459             |        62              |   13521  |"
      ]
    },
    {
      "cell_type": "code",
      "metadata": {
        "id": "tbgp6nbL_Pzb",
        "colab_type": "code",
        "colab": {}
      },
      "source": [
        "m4_naive_bernoulli_auc = roc_auc_score(y_test, y_pred_m4_naive_bernoulli)"
      ],
      "execution_count": null,
      "outputs": []
    },
    {
      "cell_type": "code",
      "metadata": {
        "id": "vjSei9qcCHe9",
        "colab_type": "code",
        "colab": {}
      },
      "source": [
        "M4_sp_naive_bernoulli=0.35\n",
        "M4_se_naive_bernoulli=1.00\n",
        "M4_acc_naive_bernoulli=0.36"
      ],
      "execution_count": null,
      "outputs": []
    },
    {
      "cell_type": "code",
      "metadata": {
        "id": "g27KSEB5CRAb",
        "colab_type": "code",
        "colab": {}
      },
      "source": [
        "naive_bernoullii_m4 = {'Model':\"Imbalanced - Mismatch\", 'Classifier':\"Naive Bayes - Bernoulli\", 'Specificity':M4_sp_naive_bernoulli, 'Sensitivity':M4_se_naive_bernoulli, 'Accuracy':M4_acc_naive_bernoulli, 'AUC':m4_naive_bernoulli_auc}\n",
        "results = results.append(naive_bernoullii_m4, ignore_index=True)"
      ],
      "execution_count": null,
      "outputs": []
    },
    {
      "cell_type": "markdown",
      "metadata": {
        "id": "oDnRP3X_D24_",
        "colab_type": "text"
      },
      "source": [
        "# **Random Forest**\n",
        "\n"
      ]
    },
    {
      "cell_type": "markdown",
      "metadata": {
        "id": "bUe0wpqKEC3p",
        "colab_type": "text"
      },
      "source": [
        "**Model 1 - Imbalanced towards Match**"
      ]
    },
    {
      "cell_type": "code",
      "metadata": {
        "id": "j_IhCqBDCZ0b",
        "colab_type": "code",
        "colab": {}
      },
      "source": [
        "rf = RandomForestClassifier().fit(X_train, y_train)"
      ],
      "execution_count": null,
      "outputs": []
    },
    {
      "cell_type": "code",
      "metadata": {
        "id": "sy6nIt4MEMQG",
        "colab_type": "code",
        "colab": {
          "base_uri": "https://localhost:8080/",
          "height": 212
        },
        "outputId": "e9974fe0-fd3c-4288-ab8a-aaf73d2a0c8c"
      },
      "source": [
        "y_pred_m1_rf = rf.predict(X_test)\n",
        "print(confusion_matrix(y_test,y_pred_m1_rf))\n",
        "print(classification_report(y_test,y_pred_m1_rf))"
      ],
      "execution_count": null,
      "outputs": [
        {
          "output_type": "stream",
          "text": [
            "[[4767    0]\n",
            " [   0 8754]]\n",
            "              precision    recall  f1-score   support\n",
            "\n",
            "         0.0       1.00      1.00      1.00      4767\n",
            "         1.0       1.00      1.00      1.00      8754\n",
            "\n",
            "    accuracy                           1.00     13521\n",
            "   macro avg       1.00      1.00      1.00     13521\n",
            "weighted avg       1.00      1.00      1.00     13521\n",
            "\n"
          ],
          "name": "stdout"
        }
      ]
    },
    {
      "cell_type": "markdown",
      "metadata": {
        "id": "IWtqR34rOsjb",
        "colab_type": "text"
      },
      "source": [
        "| ACTUAL\\PREDICTED          | Mismatch (0) | Match (1) | TOTAL |\n",
        "|---------------------------|---------------------|-------------------------|-------|\n",
        "|    Mismatch (0)|      4767             |        0               |   4767   |\n",
        "|  Match (1)      |      0             |        8754              |   8754  |\n",
        "|        TOTAL              |      4767             |        8754              |   13521  |"
      ]
    },
    {
      "cell_type": "code",
      "metadata": {
        "id": "ejXqqghvA20Y",
        "colab_type": "code",
        "colab": {}
      },
      "source": [
        "m1_rf_auc = roc_auc_score(y_test, y_pred_m1_rf)"
      ],
      "execution_count": null,
      "outputs": []
    },
    {
      "cell_type": "code",
      "metadata": {
        "id": "DSjGRa0_OJ0K",
        "colab_type": "code",
        "colab": {}
      },
      "source": [
        "M1_sp_rf=1.00\n",
        "M1_se_rf=1.00\n",
        "M1_acc_rf=1.00"
      ],
      "execution_count": null,
      "outputs": []
    },
    {
      "cell_type": "code",
      "metadata": {
        "id": "zv_oxR7bO_wh",
        "colab_type": "code",
        "colab": {}
      },
      "source": [
        "rf_m1 = {'Model':\"Imbalanced - Match\", 'Classifier':\"Random Forest\", 'Specificity':M1_sp_rf, 'Sensitivity':M1_se_rf, 'Accuracy':M1_acc_rf, 'AUC':m1_rf_auc}\n",
        "results = results.append(rf_m1, ignore_index=True)"
      ],
      "execution_count": null,
      "outputs": []
    },
    {
      "cell_type": "markdown",
      "metadata": {
        "id": "w0qjIzY4Pj6I",
        "colab_type": "text"
      },
      "source": [
        "**Model 2 - Manually Balanced**"
      ]
    },
    {
      "cell_type": "code",
      "metadata": {
        "id": "XdjYsDpCPVUB",
        "colab_type": "code",
        "colab": {}
      },
      "source": [
        "rf = RandomForestClassifier().fit(X_train_bal, y_train_bal)"
      ],
      "execution_count": null,
      "outputs": []
    },
    {
      "cell_type": "code",
      "metadata": {
        "id": "635SNFI2Qmzt",
        "colab_type": "code",
        "colab": {
          "base_uri": "https://localhost:8080/",
          "height": 212
        },
        "outputId": "511be84f-48b3-4a95-f15d-74b0c7f96e64"
      },
      "source": [
        "y_pred_m2_rf = rf.predict(X_test)\n",
        "print(confusion_matrix(y_test,y_pred_m2_rf))\n",
        "print(classification_report(y_test,y_pred_m2_rf))"
      ],
      "execution_count": null,
      "outputs": [
        {
          "output_type": "stream",
          "text": [
            "[[4767    0]\n",
            " [   0 8754]]\n",
            "              precision    recall  f1-score   support\n",
            "\n",
            "         0.0       1.00      1.00      1.00      4767\n",
            "         1.0       1.00      1.00      1.00      8754\n",
            "\n",
            "    accuracy                           1.00     13521\n",
            "   macro avg       1.00      1.00      1.00     13521\n",
            "weighted avg       1.00      1.00      1.00     13521\n",
            "\n"
          ],
          "name": "stdout"
        }
      ]
    },
    {
      "cell_type": "markdown",
      "metadata": {
        "id": "_XajmQ3LQu8V",
        "colab_type": "text"
      },
      "source": [
        "| ACTUAL\\PREDICTED          | Mismatch (0) | Match (1) | TOTAL |\n",
        "|---------------------------|---------------------|-------------------------|-------|\n",
        "|    Mismatch (0)|      4767             |        0               |   4767   |\n",
        "|  Match (1)      |      0             |        8754              |   8754  |\n",
        "|        TOTAL              |      4767             |        8754              |   13521  |"
      ]
    },
    {
      "cell_type": "code",
      "metadata": {
        "id": "GKH3H5nyBPEm",
        "colab_type": "code",
        "colab": {}
      },
      "source": [
        "m2_rf_auc = roc_auc_score(y_test, y_pred_m2_rf)"
      ],
      "execution_count": null,
      "outputs": []
    },
    {
      "cell_type": "code",
      "metadata": {
        "id": "FZMWcWQ4QpcM",
        "colab_type": "code",
        "colab": {}
      },
      "source": [
        "M2_sp_rf=1.00\n",
        "M2_se_rf=1.00\n",
        "M2_acc_rf=1.00"
      ],
      "execution_count": null,
      "outputs": []
    },
    {
      "cell_type": "code",
      "metadata": {
        "id": "NRGw0jkkRF8O",
        "colab_type": "code",
        "colab": {}
      },
      "source": [
        "rf_m2 = {'Model':\"Balanced - Manual\", 'Classifier':\"Random Forest\", 'Specificity':M2_sp_rf, 'Sensitivity':M2_se_rf, 'Accuracy':M2_acc_rf, 'AUC':m2_rf_auc}\n",
        "results = results.append(rf_m2, ignore_index=True)"
      ],
      "execution_count": null,
      "outputs": []
    },
    {
      "cell_type": "markdown",
      "metadata": {
        "id": "bDA44BYwR0n8",
        "colab_type": "text"
      },
      "source": [
        "**Model 3 - SMOTE Balanced**"
      ]
    },
    {
      "cell_type": "code",
      "metadata": {
        "id": "cRJ9bbTyRPee",
        "colab_type": "code",
        "colab": {}
      },
      "source": [
        "rf = RandomForestClassifier().fit(X_train_resampled, y_train_resampled)"
      ],
      "execution_count": null,
      "outputs": []
    },
    {
      "cell_type": "code",
      "metadata": {
        "id": "QQzcEygIR_TX",
        "colab_type": "code",
        "colab": {
          "base_uri": "https://localhost:8080/",
          "height": 212
        },
        "outputId": "b64eba25-c218-473d-8c58-23c785af006f"
      },
      "source": [
        "y_pred_m3_rf = rf.predict(X_test)\n",
        "print(confusion_matrix(y_test,y_pred_m3_rf))\n",
        "print(classification_report(y_test,y_pred_m3_rf))"
      ],
      "execution_count": null,
      "outputs": [
        {
          "output_type": "stream",
          "text": [
            "[[4767    0]\n",
            " [   0 8754]]\n",
            "              precision    recall  f1-score   support\n",
            "\n",
            "         0.0       1.00      1.00      1.00      4767\n",
            "         1.0       1.00      1.00      1.00      8754\n",
            "\n",
            "    accuracy                           1.00     13521\n",
            "   macro avg       1.00      1.00      1.00     13521\n",
            "weighted avg       1.00      1.00      1.00     13521\n",
            "\n"
          ],
          "name": "stdout"
        }
      ]
    },
    {
      "cell_type": "markdown",
      "metadata": {
        "id": "evoKopPXSFdA",
        "colab_type": "text"
      },
      "source": [
        "| ACTUAL\\PREDICTED          | Mismatch (0) | Match (1) | TOTAL |\n",
        "|---------------------------|---------------------|-------------------------|-------|\n",
        "|    Mismatch (0)|      4767             |        0               |   4767   |\n",
        "|  Match (1)      |      0             |        8754              |   8754  |\n",
        "|        TOTAL              |      4767             |        8754              |   13521  |"
      ]
    },
    {
      "cell_type": "code",
      "metadata": {
        "id": "r6qislLQBitx",
        "colab_type": "code",
        "colab": {}
      },
      "source": [
        "m3_rf_auc = roc_auc_score(y_test, y_pred_m3_rf)"
      ],
      "execution_count": null,
      "outputs": []
    },
    {
      "cell_type": "code",
      "metadata": {
        "id": "5sOWna9oSBP9",
        "colab_type": "code",
        "colab": {}
      },
      "source": [
        "M3_sp_rf=1.00\n",
        "M3_se_rf=1.00\n",
        "M3_acc_rf=1.00"
      ],
      "execution_count": null,
      "outputs": []
    },
    {
      "cell_type": "code",
      "metadata": {
        "id": "ccA_2HgBSKjp",
        "colab_type": "code",
        "colab": {}
      },
      "source": [
        "rf_m3 = {'Model':\"Balanced - SMOTE\", 'Classifier':\"Random Forest\", 'Specificity':M3_sp_rf, 'Sensitivity':M3_se_rf, 'Accuracy':M3_acc_rf, 'AUC':m3_rf_auc}\n",
        "results = results.append(rf_m3, ignore_index=True)"
      ],
      "execution_count": null,
      "outputs": []
    },
    {
      "cell_type": "markdown",
      "metadata": {
        "id": "9w92meFjS4d7",
        "colab_type": "text"
      },
      "source": [
        "**Model 4 - Imbalanced towards Mismatch**"
      ]
    },
    {
      "cell_type": "code",
      "metadata": {
        "id": "YsEd2Rn0SWh9",
        "colab_type": "code",
        "colab": {}
      },
      "source": [
        "rf = RandomForestClassifier().fit(X_train_imbal, y_train_imbal)"
      ],
      "execution_count": null,
      "outputs": []
    },
    {
      "cell_type": "code",
      "metadata": {
        "id": "MI-E12NLTCe3",
        "colab_type": "code",
        "colab": {
          "base_uri": "https://localhost:8080/",
          "height": 212
        },
        "outputId": "307df1ee-57a9-4126-ac68-0ee4e728def8"
      },
      "source": [
        "y_pred_m4_rf = rf.predict(X_test)\n",
        "print(confusion_matrix(y_test,y_pred_m4_rf))\n",
        "print(classification_report(y_test,y_pred_m4_rf))"
      ],
      "execution_count": null,
      "outputs": [
        {
          "output_type": "stream",
          "text": [
            "[[4767    0]\n",
            " [   0 8754]]\n",
            "              precision    recall  f1-score   support\n",
            "\n",
            "         0.0       1.00      1.00      1.00      4767\n",
            "         1.0       1.00      1.00      1.00      8754\n",
            "\n",
            "    accuracy                           1.00     13521\n",
            "   macro avg       1.00      1.00      1.00     13521\n",
            "weighted avg       1.00      1.00      1.00     13521\n",
            "\n"
          ],
          "name": "stdout"
        }
      ]
    },
    {
      "cell_type": "markdown",
      "metadata": {
        "id": "hhrRb2XkTHTo",
        "colab_type": "text"
      },
      "source": [
        "| ACTUAL\\PREDICTED          | Mismatch (0) | Match (1) | TOTAL |\n",
        "|---------------------------|---------------------|-------------------------|-------|\n",
        "|    Mismatch (0)|      4767             |        0               |   4767   |\n",
        "|  Match (1)      |      0             |        8754              |   8754  |\n",
        "|        TOTAL              |      4767             |        8754              |   13521  |"
      ]
    },
    {
      "cell_type": "code",
      "metadata": {
        "id": "FAy7kSBsB03C",
        "colab_type": "code",
        "colab": {}
      },
      "source": [
        "m4_rf_auc = roc_auc_score(y_test, y_pred_m4_rf)"
      ],
      "execution_count": null,
      "outputs": []
    },
    {
      "cell_type": "code",
      "metadata": {
        "id": "oK9ahhHnTE2b",
        "colab_type": "code",
        "colab": {}
      },
      "source": [
        "M4_sp_rf=1.00\n",
        "M4_se_rf=1.00\n",
        "M4_acc_rf=1.00"
      ],
      "execution_count": null,
      "outputs": []
    },
    {
      "cell_type": "code",
      "metadata": {
        "id": "vTsShlSDTPB_",
        "colab_type": "code",
        "colab": {}
      },
      "source": [
        "rf_m4 = {'Model':\"Imbalanced - Mismatch\", 'Classifier':\"Random Forest\", 'Specificity':M4_sp_rf, 'Sensitivity':M4_se_rf, 'Accuracy':M4_acc_rf, 'AUC':m4_rf_auc}\n",
        "results = results.append(rf_m4, ignore_index=True)"
      ],
      "execution_count": null,
      "outputs": []
    },
    {
      "cell_type": "markdown",
      "metadata": {
        "id": "AfebJpC9Z0W8",
        "colab_type": "text"
      },
      "source": [
        "# **LightGBM**"
      ]
    },
    {
      "cell_type": "markdown",
      "metadata": {
        "id": "I3L44TcxZ9Pi",
        "colab_type": "text"
      },
      "source": [
        "**Model 1 - Imbalanced towards Match**"
      ]
    },
    {
      "cell_type": "code",
      "metadata": {
        "id": "aK1CNNKgTaFn",
        "colab_type": "code",
        "colab": {}
      },
      "source": [
        "model = lgb.LGBMClassifier().fit(X_train, y_train)"
      ],
      "execution_count": null,
      "outputs": []
    },
    {
      "cell_type": "code",
      "metadata": {
        "id": "JJ89rRR0aTIw",
        "colab_type": "code",
        "colab": {
          "base_uri": "https://localhost:8080/",
          "height": 212
        },
        "outputId": "9abf0f34-07e7-4a11-8e76-e302234f66de"
      },
      "source": [
        "y_pred_m1_lgb = model.predict(X_test) \n",
        "print(confusion_matrix(y_test,y_pred_m1_lgb))\n",
        "print(classification_report(y_test,y_pred_m1_lgb))"
      ],
      "execution_count": null,
      "outputs": [
        {
          "output_type": "stream",
          "text": [
            "[[4767    0]\n",
            " [   0 8754]]\n",
            "              precision    recall  f1-score   support\n",
            "\n",
            "         0.0       1.00      1.00      1.00      4767\n",
            "         1.0       1.00      1.00      1.00      8754\n",
            "\n",
            "    accuracy                           1.00     13521\n",
            "   macro avg       1.00      1.00      1.00     13521\n",
            "weighted avg       1.00      1.00      1.00     13521\n",
            "\n"
          ],
          "name": "stdout"
        }
      ]
    },
    {
      "cell_type": "markdown",
      "metadata": {
        "id": "xjlXzHyYamQw",
        "colab_type": "text"
      },
      "source": [
        "| ACTUAL\\PREDICTED          | Mismatch (0) | Match (1) | TOTAL |\n",
        "|---------------------------|---------------------|-------------------------|-------|\n",
        "|    Mismatch (0)|      4767             |        0               |   4767   |\n",
        "|  Match (1)      |      0             |        8754              |   8754  |\n",
        "|        TOTAL              |      4767             |        8754              |   13521  |"
      ]
    },
    {
      "cell_type": "code",
      "metadata": {
        "id": "iLFd24ERCXmE",
        "colab_type": "code",
        "colab": {}
      },
      "source": [
        "m1_lgb_auc = roc_auc_score(y_test, y_pred_m1_lgb)"
      ],
      "execution_count": null,
      "outputs": []
    },
    {
      "cell_type": "code",
      "metadata": {
        "id": "ioRfxj70aVws",
        "colab_type": "code",
        "colab": {}
      },
      "source": [
        "M1_sp_lgb=1.00\n",
        "M1_se_lgb=1.00\n",
        "M1_acc_lgb=1.00"
      ],
      "execution_count": null,
      "outputs": []
    },
    {
      "cell_type": "code",
      "metadata": {
        "id": "YHF2ZJ3obCN-",
        "colab_type": "code",
        "colab": {}
      },
      "source": [
        "lgb_m1 = {'Model':\"Imbalanced - Match\", 'Classifier':\"Light GBM\", 'Specificity':M1_sp_lgb, 'Sensitivity':M1_se_lgb, 'Accuracy':M1_acc_lgb, 'AUC':m1_lgb_auc}\n",
        "results = results.append(lgb_m1, ignore_index=True)"
      ],
      "execution_count": null,
      "outputs": []
    },
    {
      "cell_type": "markdown",
      "metadata": {
        "id": "BNx9A_rcbcI4",
        "colab_type": "text"
      },
      "source": [
        "**Model 2 - Manually Balanced**"
      ]
    },
    {
      "cell_type": "code",
      "metadata": {
        "id": "JzGawDuRbTXb",
        "colab_type": "code",
        "colab": {}
      },
      "source": [
        "model = lgb.LGBMClassifier().fit(X_train_bal, y_train_bal)"
      ],
      "execution_count": null,
      "outputs": []
    },
    {
      "cell_type": "code",
      "metadata": {
        "id": "25RMCWK1bpwH",
        "colab_type": "code",
        "colab": {
          "base_uri": "https://localhost:8080/",
          "height": 212
        },
        "outputId": "177609ea-0c61-4e4d-e017-c66dc4f658d8"
      },
      "source": [
        "y_pred_m2_lgb = model.predict(X_test) \n",
        "print(confusion_matrix(y_test,y_pred_m2_lgb))\n",
        "print(classification_report(y_test,y_pred_m2_lgb))"
      ],
      "execution_count": null,
      "outputs": [
        {
          "output_type": "stream",
          "text": [
            "[[4767    0]\n",
            " [   0 8754]]\n",
            "              precision    recall  f1-score   support\n",
            "\n",
            "         0.0       1.00      1.00      1.00      4767\n",
            "         1.0       1.00      1.00      1.00      8754\n",
            "\n",
            "    accuracy                           1.00     13521\n",
            "   macro avg       1.00      1.00      1.00     13521\n",
            "weighted avg       1.00      1.00      1.00     13521\n",
            "\n"
          ],
          "name": "stdout"
        }
      ]
    },
    {
      "cell_type": "markdown",
      "metadata": {
        "id": "aJs5Qgmgbypz",
        "colab_type": "text"
      },
      "source": [
        "| ACTUAL\\PREDICTED          | Mismatch (0) | Match (1) | TOTAL |\n",
        "|---------------------------|---------------------|-------------------------|-------|\n",
        "|    Mismatch (0)|      4767             |        0               |   4767   |\n",
        "|  Match (1)      |      0             |        8754              |   8754  |\n",
        "|        TOTAL              |      4767             |        8754              |   13521  |"
      ]
    },
    {
      "cell_type": "code",
      "metadata": {
        "id": "WAzsYmseCtAE",
        "colab_type": "code",
        "colab": {}
      },
      "source": [
        "m2_lgb_auc = roc_auc_score(y_test, y_pred_m2_lgb)"
      ],
      "execution_count": null,
      "outputs": []
    },
    {
      "cell_type": "code",
      "metadata": {
        "id": "5tpjnVl8bvR-",
        "colab_type": "code",
        "colab": {}
      },
      "source": [
        "M2_sp_lgb=1.00\n",
        "M2_se_lgb=1.00\n",
        "M2_acc_lgb=1.00"
      ],
      "execution_count": null,
      "outputs": []
    },
    {
      "cell_type": "code",
      "metadata": {
        "id": "hHRfsM7Cb4RS",
        "colab_type": "code",
        "colab": {}
      },
      "source": [
        "lgb_m2 = {'Model':\"Balanced - Manual\", 'Classifier':\"Light GBM\", 'Specificity':M2_sp_lgb, 'Sensitivity':M2_se_lgb, 'Accuracy':M2_acc_lgb, 'AUC':m2_lgb_auc}\n",
        "results = results.append(lgb_m2, ignore_index=True)"
      ],
      "execution_count": null,
      "outputs": []
    },
    {
      "cell_type": "markdown",
      "metadata": {
        "id": "mgmy3E63cF8C",
        "colab_type": "text"
      },
      "source": [
        "**Model 3 - SMOTE Balanced**"
      ]
    },
    {
      "cell_type": "code",
      "metadata": {
        "id": "g06U-ZhmcAY3",
        "colab_type": "code",
        "colab": {}
      },
      "source": [
        "model = lgb.LGBMClassifier().fit(X_train_resampled, y_train_resampled)"
      ],
      "execution_count": null,
      "outputs": []
    },
    {
      "cell_type": "code",
      "metadata": {
        "id": "8C5qWI2QcPKn",
        "colab_type": "code",
        "colab": {
          "base_uri": "https://localhost:8080/",
          "height": 212
        },
        "outputId": "c47eda42-cdb4-415d-ac0e-9d9ada0b863a"
      },
      "source": [
        "y_pred_m3_lgb = model.predict(X_test) \n",
        "print(confusion_matrix(y_test,y_pred_m3_lgb))\n",
        "print(classification_report(y_test,y_pred_m3_lgb))"
      ],
      "execution_count": null,
      "outputs": [
        {
          "output_type": "stream",
          "text": [
            "[[4767    0]\n",
            " [   0 8754]]\n",
            "              precision    recall  f1-score   support\n",
            "\n",
            "         0.0       1.00      1.00      1.00      4767\n",
            "         1.0       1.00      1.00      1.00      8754\n",
            "\n",
            "    accuracy                           1.00     13521\n",
            "   macro avg       1.00      1.00      1.00     13521\n",
            "weighted avg       1.00      1.00      1.00     13521\n",
            "\n"
          ],
          "name": "stdout"
        }
      ]
    },
    {
      "cell_type": "markdown",
      "metadata": {
        "id": "H15zwqZ5cak_",
        "colab_type": "text"
      },
      "source": [
        "| ACTUAL\\PREDICTED          | Mismatch (0) | Match (1) | TOTAL |\n",
        "|---------------------------|---------------------|-------------------------|-------|\n",
        "|    Mismatch (0)|      4767             |        0               |   4767   |\n",
        "|  Match (1)      |      0             |        8754              |   8754  |\n",
        "|        TOTAL              |      4767             |        8754              |   13521  |"
      ]
    },
    {
      "cell_type": "code",
      "metadata": {
        "id": "jVqdpvG2DJZR",
        "colab_type": "code",
        "colab": {}
      },
      "source": [
        "m3_lgb_auc = roc_auc_score(y_test, y_pred_m3_lgb)"
      ],
      "execution_count": null,
      "outputs": []
    },
    {
      "cell_type": "code",
      "metadata": {
        "id": "PkJAOGjlcRbn",
        "colab_type": "code",
        "colab": {}
      },
      "source": [
        "M3_sp_lgb=1.00\n",
        "M3_se_lgb=1.00\n",
        "M3_acc_lgb=1.00"
      ],
      "execution_count": null,
      "outputs": []
    },
    {
      "cell_type": "code",
      "metadata": {
        "id": "bO_-TV03ckxl",
        "colab_type": "code",
        "colab": {}
      },
      "source": [
        "lgb_m3 = {'Model':\"Balanced - SMOTE\", 'Classifier':\"Light GBM\", 'Specificity':M3_sp_lgb, 'Sensitivity':M3_se_lgb, 'Accuracy':M3_acc_lgb, 'AUC':m3_lgb_auc}\n",
        "results = results.append(lgb_m3, ignore_index=True)"
      ],
      "execution_count": null,
      "outputs": []
    },
    {
      "cell_type": "markdown",
      "metadata": {
        "id": "5AnijRPqdnHB",
        "colab_type": "text"
      },
      "source": [
        "**Model 4 - Imbalanced towards Mismatch**"
      ]
    },
    {
      "cell_type": "code",
      "metadata": {
        "id": "yeDyppYHdFNv",
        "colab_type": "code",
        "colab": {}
      },
      "source": [
        "model = lgb.LGBMClassifier().fit(X_train_imbal, y_train_imbal)"
      ],
      "execution_count": null,
      "outputs": []
    },
    {
      "cell_type": "code",
      "metadata": {
        "id": "PIRruBIJdzz2",
        "colab_type": "code",
        "colab": {
          "base_uri": "https://localhost:8080/",
          "height": 212
        },
        "outputId": "84312f40-a5fd-492f-d03d-4908ac35ecb3"
      },
      "source": [
        "y_pred_m4_lgb = model.predict(X_test) \n",
        "print(confusion_matrix(y_test,y_pred_m4_lgb))\n",
        "print(classification_report(y_test,y_pred_m4_lgb))"
      ],
      "execution_count": null,
      "outputs": [
        {
          "output_type": "stream",
          "text": [
            "[[4767    0]\n",
            " [   1 8753]]\n",
            "              precision    recall  f1-score   support\n",
            "\n",
            "         0.0       1.00      1.00      1.00      4767\n",
            "         1.0       1.00      1.00      1.00      8754\n",
            "\n",
            "    accuracy                           1.00     13521\n",
            "   macro avg       1.00      1.00      1.00     13521\n",
            "weighted avg       1.00      1.00      1.00     13521\n",
            "\n"
          ],
          "name": "stdout"
        }
      ]
    },
    {
      "cell_type": "markdown",
      "metadata": {
        "id": "Yyw402vid5N9",
        "colab_type": "text"
      },
      "source": [
        "| ACTUAL\\PREDICTED          | Mismatch (0) | Match (1) | TOTAL |\n",
        "|---------------------------|---------------------|-------------------------|-------|\n",
        "|    Mismatch (0)|      4767             |        0               |   4767   |\n",
        "|  Match (1)      |      1             |        8753              |   8754  |\n",
        "|        TOTAL              |      4768             |        8753              |   13521  |"
      ]
    },
    {
      "cell_type": "code",
      "metadata": {
        "id": "MEqcBnMuDbBw",
        "colab_type": "code",
        "colab": {}
      },
      "source": [
        "m4_lgb_auc = roc_auc_score(y_test, y_pred_m4_lgb)"
      ],
      "execution_count": null,
      "outputs": []
    },
    {
      "cell_type": "code",
      "metadata": {
        "id": "eod62Ubfd2P1",
        "colab_type": "code",
        "colab": {}
      },
      "source": [
        "M4_sp_lgb=1.00\n",
        "M4_se_lgb=1.00\n",
        "M4_acc_lgb=1.00"
      ],
      "execution_count": null,
      "outputs": []
    },
    {
      "cell_type": "code",
      "metadata": {
        "id": "LH_Yv_RZd-hc",
        "colab_type": "code",
        "colab": {}
      },
      "source": [
        "lgb_m4 = {'Model':\"Imbalanced - Mismatch\", 'Classifier':\"Light GBM\", 'Specificity':M4_sp_lgb, 'Sensitivity':M4_se_lgb, 'Accuracy':M4_acc_lgb, 'AUC': m4_lgb_auc}\n",
        "results = results.append(lgb_m4, ignore_index=True)"
      ],
      "execution_count": null,
      "outputs": []
    },
    {
      "cell_type": "code",
      "metadata": {
        "id": "uksDUfdtwnmF",
        "colab_type": "code",
        "colab": {}
      },
      "source": [
        "#results.drop(results.tail(1).index,inplace=True)"
      ],
      "execution_count": null,
      "outputs": []
    },
    {
      "cell_type": "code",
      "metadata": {
        "id": "Ysr7w__9KmXC",
        "colab_type": "code",
        "colab": {
          "base_uri": "https://localhost:8080/",
          "height": 887
        },
        "outputId": "91b08ea6-1e4a-4d93-e273-5ace9899f7e9"
      },
      "source": [
        "results.sort_values('AUC', ascending=False)"
      ],
      "execution_count": null,
      "outputs": [
        {
          "output_type": "execute_result",
          "data": {
            "text/html": [
              "<div>\n",
              "<style scoped>\n",
              "    .dataframe tbody tr th:only-of-type {\n",
              "        vertical-align: middle;\n",
              "    }\n",
              "\n",
              "    .dataframe tbody tr th {\n",
              "        vertical-align: top;\n",
              "    }\n",
              "\n",
              "    .dataframe thead th {\n",
              "        text-align: right;\n",
              "    }\n",
              "</style>\n",
              "<table border=\"1\" class=\"dataframe\">\n",
              "  <thead>\n",
              "    <tr style=\"text-align: right;\">\n",
              "      <th></th>\n",
              "      <th>Classifier</th>\n",
              "      <th>Model</th>\n",
              "      <th>Specificity</th>\n",
              "      <th>Sensitivity</th>\n",
              "      <th>Accuracy</th>\n",
              "      <th>AUC</th>\n",
              "    </tr>\n",
              "  </thead>\n",
              "  <tbody>\n",
              "    <tr>\n",
              "      <th>14</th>\n",
              "      <td>Naive Bayes - Gaussian</td>\n",
              "      <td>Balanced - SMOTE</td>\n",
              "      <td>1.00</td>\n",
              "      <td>1.00</td>\n",
              "      <td>1.00</td>\n",
              "      <td>1.000000</td>\n",
              "    </tr>\n",
              "    <tr>\n",
              "      <th>12</th>\n",
              "      <td>Naive Bayes - Gaussian</td>\n",
              "      <td>Imbalanced - Match</td>\n",
              "      <td>1.00</td>\n",
              "      <td>1.00</td>\n",
              "      <td>1.00</td>\n",
              "      <td>1.000000</td>\n",
              "    </tr>\n",
              "    <tr>\n",
              "      <th>26</th>\n",
              "      <td>Light GBM</td>\n",
              "      <td>Balanced - SMOTE</td>\n",
              "      <td>1.00</td>\n",
              "      <td>1.00</td>\n",
              "      <td>1.00</td>\n",
              "      <td>1.000000</td>\n",
              "    </tr>\n",
              "    <tr>\n",
              "      <th>25</th>\n",
              "      <td>Light GBM</td>\n",
              "      <td>Balanced - Manual</td>\n",
              "      <td>1.00</td>\n",
              "      <td>1.00</td>\n",
              "      <td>1.00</td>\n",
              "      <td>1.000000</td>\n",
              "    </tr>\n",
              "    <tr>\n",
              "      <th>24</th>\n",
              "      <td>Light GBM</td>\n",
              "      <td>Imbalanced - Match</td>\n",
              "      <td>1.00</td>\n",
              "      <td>1.00</td>\n",
              "      <td>1.00</td>\n",
              "      <td>1.000000</td>\n",
              "    </tr>\n",
              "    <tr>\n",
              "      <th>23</th>\n",
              "      <td>Random Forest</td>\n",
              "      <td>Imbalanced - Mismatch</td>\n",
              "      <td>1.00</td>\n",
              "      <td>1.00</td>\n",
              "      <td>1.00</td>\n",
              "      <td>1.000000</td>\n",
              "    </tr>\n",
              "    <tr>\n",
              "      <th>22</th>\n",
              "      <td>Random Forest</td>\n",
              "      <td>Balanced - SMOTE</td>\n",
              "      <td>1.00</td>\n",
              "      <td>1.00</td>\n",
              "      <td>1.00</td>\n",
              "      <td>1.000000</td>\n",
              "    </tr>\n",
              "    <tr>\n",
              "      <th>21</th>\n",
              "      <td>Random Forest</td>\n",
              "      <td>Balanced - Manual</td>\n",
              "      <td>1.00</td>\n",
              "      <td>1.00</td>\n",
              "      <td>1.00</td>\n",
              "      <td>1.000000</td>\n",
              "    </tr>\n",
              "    <tr>\n",
              "      <th>20</th>\n",
              "      <td>Random Forest</td>\n",
              "      <td>Imbalanced - Match</td>\n",
              "      <td>1.00</td>\n",
              "      <td>1.00</td>\n",
              "      <td>1.00</td>\n",
              "      <td>1.000000</td>\n",
              "    </tr>\n",
              "    <tr>\n",
              "      <th>15</th>\n",
              "      <td>Naive Bayes - Gaussian</td>\n",
              "      <td>Imbalanced - Mismatch</td>\n",
              "      <td>1.00</td>\n",
              "      <td>1.00</td>\n",
              "      <td>1.00</td>\n",
              "      <td>1.000000</td>\n",
              "    </tr>\n",
              "    <tr>\n",
              "      <th>13</th>\n",
              "      <td>Naive Bayes - Gaussian</td>\n",
              "      <td>Balanced - Manual</td>\n",
              "      <td>1.00</td>\n",
              "      <td>1.00</td>\n",
              "      <td>1.00</td>\n",
              "      <td>1.000000</td>\n",
              "    </tr>\n",
              "    <tr>\n",
              "      <th>27</th>\n",
              "      <td>Light GBM</td>\n",
              "      <td>Imbalanced - Mismatch</td>\n",
              "      <td>1.00</td>\n",
              "      <td>1.00</td>\n",
              "      <td>1.00</td>\n",
              "      <td>0.999943</td>\n",
              "    </tr>\n",
              "    <tr>\n",
              "      <th>2</th>\n",
              "      <td>SVM - Gaussian</td>\n",
              "      <td>Balanced - SMOTE</td>\n",
              "      <td>0.96</td>\n",
              "      <td>1.00</td>\n",
              "      <td>0.99</td>\n",
              "      <td>0.989833</td>\n",
              "    </tr>\n",
              "    <tr>\n",
              "      <th>0</th>\n",
              "      <td>SVM - Gaussian</td>\n",
              "      <td>Imbalanced - Match</td>\n",
              "      <td>0.96</td>\n",
              "      <td>1.00</td>\n",
              "      <td>0.99</td>\n",
              "      <td>0.989148</td>\n",
              "    </tr>\n",
              "    <tr>\n",
              "      <th>6</th>\n",
              "      <td>SVM - Polynomial</td>\n",
              "      <td>Balanced - SMOTE</td>\n",
              "      <td>0.93</td>\n",
              "      <td>1.00</td>\n",
              "      <td>0.97</td>\n",
              "      <td>0.979666</td>\n",
              "    </tr>\n",
              "    <tr>\n",
              "      <th>4</th>\n",
              "      <td>SVM - Polynomial</td>\n",
              "      <td>Imbalanced - Match</td>\n",
              "      <td>0.93</td>\n",
              "      <td>1.00</td>\n",
              "      <td>0.97</td>\n",
              "      <td>0.979381</td>\n",
              "    </tr>\n",
              "    <tr>\n",
              "      <th>5</th>\n",
              "      <td>SVM - Polynomial</td>\n",
              "      <td>Balanced - Manual</td>\n",
              "      <td>0.92</td>\n",
              "      <td>1.00</td>\n",
              "      <td>0.97</td>\n",
              "      <td>0.975954</td>\n",
              "    </tr>\n",
              "    <tr>\n",
              "      <th>7</th>\n",
              "      <td>SVM - Polynomial</td>\n",
              "      <td>Imbalanced - Mismatch</td>\n",
              "      <td>0.89</td>\n",
              "      <td>1.00</td>\n",
              "      <td>0.95</td>\n",
              "      <td>0.964987</td>\n",
              "    </tr>\n",
              "    <tr>\n",
              "      <th>3</th>\n",
              "      <td>SVM - Gaussian</td>\n",
              "      <td>Imbalanced - Mismatch</td>\n",
              "      <td>0.84</td>\n",
              "      <td>1.00</td>\n",
              "      <td>0.93</td>\n",
              "      <td>0.948366</td>\n",
              "    </tr>\n",
              "    <tr>\n",
              "      <th>1</th>\n",
              "      <td>SVM - Gaussian</td>\n",
              "      <td>Balanced - Manual</td>\n",
              "      <td>0.84</td>\n",
              "      <td>1.00</td>\n",
              "      <td>0.93</td>\n",
              "      <td>0.948309</td>\n",
              "    </tr>\n",
              "    <tr>\n",
              "      <th>16</th>\n",
              "      <td>Naive Bayes - Bernoulli</td>\n",
              "      <td>Imbalanced - Match</td>\n",
              "      <td>0.50</td>\n",
              "      <td>0.34</td>\n",
              "      <td>0.65</td>\n",
              "      <td>0.577415</td>\n",
              "    </tr>\n",
              "    <tr>\n",
              "      <th>17</th>\n",
              "      <td>Naive Bayes - Bernoulli</td>\n",
              "      <td>Balanced - Manual</td>\n",
              "      <td>0.50</td>\n",
              "      <td>0.34</td>\n",
              "      <td>0.65</td>\n",
              "      <td>0.577415</td>\n",
              "    </tr>\n",
              "    <tr>\n",
              "      <th>18</th>\n",
              "      <td>Naive Bayes - Bernoulli</td>\n",
              "      <td>Balanced - SMOTE</td>\n",
              "      <td>0.50</td>\n",
              "      <td>0.34</td>\n",
              "      <td>0.65</td>\n",
              "      <td>0.577415</td>\n",
              "    </tr>\n",
              "    <tr>\n",
              "      <th>8</th>\n",
              "      <td>SVM - Sigmoid</td>\n",
              "      <td>Imbalanced - Match</td>\n",
              "      <td>0.38</td>\n",
              "      <td>0.39</td>\n",
              "      <td>0.56</td>\n",
              "      <td>0.520859</td>\n",
              "    </tr>\n",
              "    <tr>\n",
              "      <th>19</th>\n",
              "      <td>Naive Bayes - Bernoulli</td>\n",
              "      <td>Imbalanced - Mismatch</td>\n",
              "      <td>0.35</td>\n",
              "      <td>1.00</td>\n",
              "      <td>0.36</td>\n",
              "      <td>0.503541</td>\n",
              "    </tr>\n",
              "    <tr>\n",
              "      <th>11</th>\n",
              "      <td>SVM - Sigmoid</td>\n",
              "      <td>Imbalanced - Mismatch</td>\n",
              "      <td>0.35</td>\n",
              "      <td>0.65</td>\n",
              "      <td>0.45</td>\n",
              "      <td>0.493154</td>\n",
              "    </tr>\n",
              "    <tr>\n",
              "      <th>9</th>\n",
              "      <td>SVM - Sigmoid</td>\n",
              "      <td>Balanced - Manual</td>\n",
              "      <td>0.34</td>\n",
              "      <td>0.49</td>\n",
              "      <td>0.49</td>\n",
              "      <td>0.491532</td>\n",
              "    </tr>\n",
              "    <tr>\n",
              "      <th>10</th>\n",
              "      <td>SVM - Sigmoid</td>\n",
              "      <td>Balanced - SMOTE</td>\n",
              "      <td>0.34</td>\n",
              "      <td>0.49</td>\n",
              "      <td>0.49</td>\n",
              "      <td>0.490057</td>\n",
              "    </tr>\n",
              "  </tbody>\n",
              "</table>\n",
              "</div>"
            ],
            "text/plain": [
              "                 Classifier                  Model  ...  Accuracy       AUC\n",
              "14   Naive Bayes - Gaussian       Balanced - SMOTE  ...      1.00  1.000000\n",
              "12   Naive Bayes - Gaussian     Imbalanced - Match  ...      1.00  1.000000\n",
              "26                Light GBM       Balanced - SMOTE  ...      1.00  1.000000\n",
              "25                Light GBM      Balanced - Manual  ...      1.00  1.000000\n",
              "24                Light GBM     Imbalanced - Match  ...      1.00  1.000000\n",
              "23            Random Forest  Imbalanced - Mismatch  ...      1.00  1.000000\n",
              "22            Random Forest       Balanced - SMOTE  ...      1.00  1.000000\n",
              "21            Random Forest      Balanced - Manual  ...      1.00  1.000000\n",
              "20            Random Forest     Imbalanced - Match  ...      1.00  1.000000\n",
              "15   Naive Bayes - Gaussian  Imbalanced - Mismatch  ...      1.00  1.000000\n",
              "13   Naive Bayes - Gaussian      Balanced - Manual  ...      1.00  1.000000\n",
              "27                Light GBM  Imbalanced - Mismatch  ...      1.00  0.999943\n",
              "2            SVM - Gaussian       Balanced - SMOTE  ...      0.99  0.989833\n",
              "0            SVM - Gaussian     Imbalanced - Match  ...      0.99  0.989148\n",
              "6          SVM - Polynomial       Balanced - SMOTE  ...      0.97  0.979666\n",
              "4          SVM - Polynomial     Imbalanced - Match  ...      0.97  0.979381\n",
              "5          SVM - Polynomial      Balanced - Manual  ...      0.97  0.975954\n",
              "7          SVM - Polynomial  Imbalanced - Mismatch  ...      0.95  0.964987\n",
              "3            SVM - Gaussian  Imbalanced - Mismatch  ...      0.93  0.948366\n",
              "1            SVM - Gaussian      Balanced - Manual  ...      0.93  0.948309\n",
              "16  Naive Bayes - Bernoulli     Imbalanced - Match  ...      0.65  0.577415\n",
              "17  Naive Bayes - Bernoulli      Balanced - Manual  ...      0.65  0.577415\n",
              "18  Naive Bayes - Bernoulli       Balanced - SMOTE  ...      0.65  0.577415\n",
              "8             SVM - Sigmoid     Imbalanced - Match  ...      0.56  0.520859\n",
              "19  Naive Bayes - Bernoulli  Imbalanced - Mismatch  ...      0.36  0.503541\n",
              "11            SVM - Sigmoid  Imbalanced - Mismatch  ...      0.45  0.493154\n",
              "9             SVM - Sigmoid      Balanced - Manual  ...      0.49  0.491532\n",
              "10            SVM - Sigmoid       Balanced - SMOTE  ...      0.49  0.490057\n",
              "\n",
              "[28 rows x 6 columns]"
            ]
          },
          "metadata": {
            "tags": []
          },
          "execution_count": 179
        }
      ]
    },
    {
      "cell_type": "code",
      "metadata": {
        "id": "HIkwVoNCT_W0",
        "colab_type": "code",
        "colab": {
          "base_uri": "https://localhost:8080/",
          "height": 605
        },
        "outputId": "1f450804-22a8-4a2d-f58b-52027ecc740c"
      },
      "source": [
        "# Top AUC scores\n",
        "\n",
        "# calculate roc curves\n",
        "ns_fpr, ns_tpr, _ = roc_curve(y_test, ns_probs)\n",
        "m1_naive_gaussian_fpr, m1_naive_gaussian_tpr, _ = roc_curve(y_test, y_pred_m1_naive_gaussian)\n",
        "m2_naive_gaussian_fpr, m2_naive_gaussian_tpr, _ = roc_curve(y_test, y_pred_m2_naive_gaussian)\n",
        "m3_naive_gaussian_fpr, m3_naive_gaussian_tpr, _ = roc_curve(y_test, y_pred_m3_naive_gaussian)\n",
        "m4_naive_gaussian_fpr, m4_naive_gaussian_tpr, _ = roc_curve(y_test, y_pred_m4_naive_gaussian)\n",
        "\n",
        "\n",
        "m3_lgb_fpr, m3_lgb_tpr, _ = roc_curve(y_test, y_pred_m3_lgb)\n",
        "m2_lgb_fpr, m2_lgb_tpr, _ = roc_curve(y_test, y_pred_m2_lgb)\n",
        "m1_lgb_fpr, m1_lgb_tpr, _ = roc_curve(y_test, y_pred_m1_lgb)\n",
        "m4_lgb_fpr, m4_lgb_tpr, _ = roc_curve(y_test, y_pred_m4_lgb)\n",
        "\n",
        "m1_rf_fpr, m1_rf_tpr, _ = roc_curve(y_test, y_pred_m1_rf)\n",
        "m2_rf_fpr, m2_rf_tpr, _ = roc_curve(y_test, y_pred_m2_rf)\n",
        "m3_rf_fpr, m3_rf_tpr, _ = roc_curve(y_test, y_pred_m3_rf)\n",
        "m4_rf_fpr, m4_rf_tpr, _ = roc_curve(y_test, y_pred_m4_rf)\n",
        "\n",
        "\n",
        "\n",
        "# plot the roc curve for the model\n",
        "pyplot.plot(ns_fpr, ns_tpr, linestyle='--', label='No Skill')\n",
        "pyplot.plot(m1_naive_gaussian_fpr, m1_naive_gaussian_tpr, marker='.', label='M1-Naive Bayes-Gaussian(AUC=1.0)')\n",
        "pyplot.plot(m2_naive_gaussian_fpr, m2_naive_gaussian_tpr, marker='.', label='M2-Naive_Bayes_Gaussian(AUC=1.0)')\n",
        "pyplot.plot(m3_naive_gaussian_fpr, m3_naive_gaussian_tpr, marker='.', label='M3-Naive_Bayes_Gaussian(AUC=1.0)')\n",
        "pyplot.plot(m4_naive_gaussian_fpr, m4_naive_gaussian_tpr, marker='.', label='M4-Naive_Bayes_Gaussian(AUC=1.0)')\n",
        "\n",
        "pyplot.plot(m1_lgb_fpr, m1_lgb_tpr, marker='.', label='M1-LightGBM(AUC=1.0)')\n",
        "pyplot.plot(m2_lgb_fpr, m2_lgb_tpr, marker='.', label='M2-LightGBM(AUC=1.0)')\n",
        "pyplot.plot(m3_lgb_fpr, m3_lgb_tpr, marker='.', label='M3-LightGBM(AUC=1.0)')\n",
        "pyplot.plot(m4_lgb_fpr, m4_lgb_tpr, marker='.', label='M4-LightGBM(AUC=0.9999)')\n",
        "\n",
        "pyplot.plot(m1_rf_fpr, m1_rf_tpr, marker='.', label='M1-Random Forest(AUC=1.0)')\n",
        "pyplot.plot(m2_rf_fpr, m2_rf_tpr, marker='.', label='M2-Random Forest(AUC=1.0)')\n",
        "pyplot.plot(m3_rf_fpr, m3_rf_tpr, marker='.', label='M3-Random Forest(AUC=1.0)')\n",
        "pyplot.plot(m4_rf_fpr, m4_rf_tpr, marker='.', label='M4-Random Forest(AUC=1.0)')\n",
        "\n",
        "\n",
        "# axis labels\n",
        "pyplot.xlabel('False Positive Rate')\n",
        "pyplot.ylabel('True Positive Rate')\n",
        "# show the legend\n",
        "pyplot.legend()\n",
        "# show the plot\n",
        "pyplot.rcParams['figure.figsize'] = 10,10\n",
        "pyplot.show()\n"
      ],
      "execution_count": null,
      "outputs": [
        {
          "output_type": "display_data",
          "data": {
            "image/png": "[encoded data removed]",
            "text/plain": [
              "<Figure size 720x720 with 1 Axes>"
            ]
          },
          "metadata": {
            "tags": [],
            "needs_background": "light"
          }
        }
      ]
    },
    {
      "cell_type": "code",
      "metadata": {
        "id": "AfYepAb0WssJ",
        "colab_type": "code",
        "colab": {
          "base_uri": "https://localhost:8080/",
          "height": 605
        },
        "outputId": "3e0debc5-8410-46d8-daf6-f3769ce48cf8"
      },
      "source": [
        "# Top 5 Classifiers\n",
        "\n",
        "# calculate roc curves\n",
        "ns_fpr, ns_tpr, _ = roc_curve(y_test, ns_probs)\n",
        "m3_naive_gaussian_fpr, m3_naive_gaussian_tpr, _ = roc_curve(y_test, y_pred_m3_naive_gaussian)\n",
        "m3_lgb_fpr, m3_lgb_tpr, _ = roc_curve(y_test, y_pred_m3_lgb)\n",
        "m3_rf_fpr, m3_rf_tpr, _ = roc_curve(y_test, y_pred_m3_rf)\n",
        "m3_svm_gaussian_fpr, m3_svm_gaussian_tpr, _ = roc_curve(y_test, y_pred_m3_svm_gaussian)\n",
        "m3_svm_polynomial_fpr, m3_svm_polynomial_tpr, _ = roc_curve(y_test, y_pred_m3_svm_polynomial)\n",
        "m3_naive_bernoulli_fpr, m3_naive_bernoulli_tpr, _ = roc_curve(y_test, y_pred_m3_naive_bernoulli)\n",
        "m1_svm_sigmoid_fpr, m1_svm_sigmoid_tpr, _ = roc_curve(y_test, y_pred_m1_svm_sigmoid)\n",
        "\n",
        "# plot the roc curve for the model\n",
        "pyplot.plot(ns_fpr, ns_tpr, linestyle='--', label='No Skill')\n",
        "pyplot.plot(m3_naive_gaussian_fpr, m3_naive_gaussian_tpr, marker='.', label='M3-Naive Bayes-Gaussian(AUC=1.0)')\n",
        "pyplot.plot(m3_lgb_fpr, m3_lgb_tpr, marker='.', label='M3-LightGBM(AUC=1.0)')\n",
        "pyplot.plot(m3_rf_fpr, m3_rf_tpr, marker='.', label='M3-Random Forest(AUC=1.0)')\n",
        "pyplot.plot(m3_svm_gaussian_fpr, m3_svm_gaussian_tpr, marker='.', label='M3-SVM-Gaussian(AUC=0.989)')\n",
        "pyplot.plot(m3_svm_polynomial_fpr, m3_svm_polynomial_tpr, marker='.', label='M3-SVM-Polynomial(AUC=0.979)')\n",
        "pyplot.plot(m3_naive_bernoulli_fpr, m3_naive_bernoulli_tpr, marker='.', label='M3-Naive Bayes-Bernoulli(AUC=0.577)')\n",
        "pyplot.plot(m1_svm_sigmoid_fpr, m1_svm_sigmoid_tpr, marker='.', label='M1-SVM-Sigmoid(AUC=0.520)')\n",
        "\n",
        "# axis labels\n",
        "pyplot.xlabel('False Positive Rate')\n",
        "pyplot.ylabel('True Positive Rate')\n",
        "# show the legend\n",
        "pyplot.legend()\n",
        "# show the plot\n",
        "pyplot.rcParams['figure.figsize'] = 10,10\n",
        "\n",
        "pyplot.show()"
      ],
      "execution_count": null,
      "outputs": [
        {
          "output_type": "display_data",
          "data": {
            "image/png": "[encoded data removed]",
            "text/plain": [
              "<Figure size 720x720 with 1 Axes>"
            ]
          },
          "metadata": {
            "tags": [],
            "needs_background": "light"
          }
        }
      ]
    },
    {
      "cell_type": "code",
      "metadata": {
        "id": "OQEYMYFEJYe0",
        "colab_type": "code",
        "colab": {}
      },
      "source": [
        "outfile = 'result1_off.csv'\n",
        "results.to_csv(outfile)"
      ],
      "execution_count": null,
      "outputs": []
    }
  ]
}