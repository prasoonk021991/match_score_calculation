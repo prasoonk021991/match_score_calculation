{
  "nbformat": 4,
  "nbformat_minor": 0,
  "metadata": {
    "colab": {
      "name": "Train1.ipynb",
      "provenance": [],
      "collapsed_sections": [],
      "toc_visible": true
    },
    "kernelspec": {
      "name": "python3",
      "display_name": "Python 3"
    }
  },
  "cells": [
    {
      "cell_type": "code",
      "metadata": {
        "id": "hp0IApKqOiU2",
        "colab_type": "code",
        "colab": {
          "base_uri": "https://localhost:8080/",
          "height": 107
        },
        "outputId": "5cfc75cf-f8c6-4c34-e69f-45ef6e1f24d7"
      },
      "source": [
        "import pandas as pd\n",
        "import imblearn\n",
        "import lightgbm as lgb\n",
        "import matplotlib.pyplot as plt\n",
        "import numpy as np\n",
        "from sklearn.linear_model import LinearRegression\n",
        "from sklearn.svm import SVC\n",
        "from sklearn.metrics import classification_report, confusion_matrix\n",
        "from imblearn.over_sampling import SMOTE\n",
        "from sklearn.naive_bayes import GaussianNB\n",
        "from sklearn.naive_bayes import BernoulliNB\n",
        "from sklearn.ensemble import RandomForestClassifier\n",
        "from sklearn.model_selection import train_test_split\n",
        "from sklearn import metrics\n",
        "from sklearn import linear_model\n",
        "from sklearn.metrics import roc_curve\n",
        "from sklearn.metrics import roc_auc_score\n",
        "from matplotlib import pyplot"
      ],
      "execution_count": null,
      "outputs": [
        {
          "output_type": "stream",
          "text": [
            "/usr/local/lib/python3.6/dist-packages/sklearn/externals/six.py:31: FutureWarning: The module is deprecated in version 0.21 and will be removed in version 0.23 since we've dropped support for Python 2.7. Please rely on the official version of six (https://pypi.org/project/six/).\n",
            "  \"(https://pypi.org/project/six/).\", FutureWarning)\n",
            "/usr/local/lib/python3.6/dist-packages/sklearn/utils/deprecation.py:144: FutureWarning: The sklearn.neighbors.base module is  deprecated in version 0.22 and will be removed in version 0.24. The corresponding classes / functions should instead be imported from sklearn.neighbors. Anything that cannot be imported from sklearn.neighbors is now part of the private API.\n",
            "  warnings.warn(message, FutureWarning)\n"
          ],
          "name": "stderr"
        }
      ]
    },
    {
      "cell_type": "code",
      "metadata": {
        "id": "gU9hb4rmua6o",
        "colab_type": "code",
        "colab": {
          "base_uri": "https://localhost:8080/",
          "height": 197
        },
        "outputId": "d4b8aa0a-4178-4418-e3d1-f2b12b2713f7"
      },
      "source": [
        "data = pd.read_csv(\"encode1_off.csv\")\n",
        "data.head()"
      ],
      "execution_count": null,
      "outputs": [
        {
          "output_type": "execute_result",
          "data": {
            "text/html": [
              "<div>\n",
              "<style scoped>\n",
              "    .dataframe tbody tr th:only-of-type {\n",
              "        vertical-align: middle;\n",
              "    }\n",
              "\n",
              "    .dataframe tbody tr th {\n",
              "        vertical-align: top;\n",
              "    }\n",
              "\n",
              "    .dataframe thead th {\n",
              "        text-align: right;\n",
              "    }\n",
              "</style>\n",
              "<table border=\"1\" class=\"dataframe\">\n",
              "  <thead>\n",
              "    <tr style=\"text-align: right;\">\n",
              "      <th></th>\n",
              "      <th>Unnamed: 0</th>\n",
              "      <th>Protein Annotation</th>\n",
              "      <th>Day21-ETP</th>\n",
              "      <th>sgRNA_vs_Target</th>\n",
              "      <th>sgRNA_vs_Mutated</th>\n",
              "      <th>Mutated_vs_Target</th>\n",
              "      <th>TID</th>\n",
              "      <th>MatchResult</th>\n",
              "    </tr>\n",
              "  </thead>\n",
              "  <tbody>\n",
              "    <tr>\n",
              "      <th>0</th>\n",
              "      <td>0</td>\n",
              "      <td>76.54</td>\n",
              "      <td>0.758783</td>\n",
              "      <td>19</td>\n",
              "      <td>20</td>\n",
              "      <td>19</td>\n",
              "      <td>0</td>\n",
              "      <td>0</td>\n",
              "    </tr>\n",
              "    <tr>\n",
              "      <th>1</th>\n",
              "      <td>1</td>\n",
              "      <td>76.54</td>\n",
              "      <td>0.490986</td>\n",
              "      <td>13</td>\n",
              "      <td>3</td>\n",
              "      <td>10</td>\n",
              "      <td>0</td>\n",
              "      <td>1</td>\n",
              "    </tr>\n",
              "    <tr>\n",
              "      <th>2</th>\n",
              "      <td>2</td>\n",
              "      <td>76.54</td>\n",
              "      <td>0.428038</td>\n",
              "      <td>14</td>\n",
              "      <td>3</td>\n",
              "      <td>8</td>\n",
              "      <td>0</td>\n",
              "      <td>1</td>\n",
              "    </tr>\n",
              "    <tr>\n",
              "      <th>3</th>\n",
              "      <td>3</td>\n",
              "      <td>76.54</td>\n",
              "      <td>0.345700</td>\n",
              "      <td>19</td>\n",
              "      <td>20</td>\n",
              "      <td>19</td>\n",
              "      <td>0</td>\n",
              "      <td>0</td>\n",
              "    </tr>\n",
              "    <tr>\n",
              "      <th>4</th>\n",
              "      <td>4</td>\n",
              "      <td>76.54</td>\n",
              "      <td>0.143454</td>\n",
              "      <td>14</td>\n",
              "      <td>4</td>\n",
              "      <td>10</td>\n",
              "      <td>0</td>\n",
              "      <td>1</td>\n",
              "    </tr>\n",
              "  </tbody>\n",
              "</table>\n",
              "</div>"
            ],
            "text/plain": [
              "   Unnamed: 0  Protein Annotation  ...  TID  MatchResult\n",
              "0           0               76.54  ...    0            0\n",
              "1           1               76.54  ...    0            1\n",
              "2           2               76.54  ...    0            1\n",
              "3           3               76.54  ...    0            0\n",
              "4           4               76.54  ...    0            1\n",
              "\n",
              "[5 rows x 8 columns]"
            ]
          },
          "metadata": {
            "tags": []
          },
          "execution_count": 2
        }
      ]
    },
    {
      "cell_type": "code",
      "metadata": {
        "id": "SvnghSGsU-zk",
        "colab_type": "code",
        "colab": {
          "base_uri": "https://localhost:8080/",
          "height": 197
        },
        "outputId": "e5b3e6bf-e700-4b14-c863-f2716ee4e8d5"
      },
      "source": [
        "data = data.drop(['Unnamed: 0'], axis=1)\n",
        "data.head()"
      ],
      "execution_count": null,
      "outputs": [
        {
          "output_type": "execute_result",
          "data": {
            "text/html": [
              "<div>\n",
              "<style scoped>\n",
              "    .dataframe tbody tr th:only-of-type {\n",
              "        vertical-align: middle;\n",
              "    }\n",
              "\n",
              "    .dataframe tbody tr th {\n",
              "        vertical-align: top;\n",
              "    }\n",
              "\n",
              "    .dataframe thead th {\n",
              "        text-align: right;\n",
              "    }\n",
              "</style>\n",
              "<table border=\"1\" class=\"dataframe\">\n",
              "  <thead>\n",
              "    <tr style=\"text-align: right;\">\n",
              "      <th></th>\n",
              "      <th>Protein Annotation</th>\n",
              "      <th>Day21-ETP</th>\n",
              "      <th>sgRNA_vs_Target</th>\n",
              "      <th>sgRNA_vs_Mutated</th>\n",
              "      <th>Mutated_vs_Target</th>\n",
              "      <th>TID</th>\n",
              "      <th>MatchResult</th>\n",
              "    </tr>\n",
              "  </thead>\n",
              "  <tbody>\n",
              "    <tr>\n",
              "      <th>0</th>\n",
              "      <td>76.54</td>\n",
              "      <td>0.758783</td>\n",
              "      <td>19</td>\n",
              "      <td>20</td>\n",
              "      <td>19</td>\n",
              "      <td>0</td>\n",
              "      <td>0</td>\n",
              "    </tr>\n",
              "    <tr>\n",
              "      <th>1</th>\n",
              "      <td>76.54</td>\n",
              "      <td>0.490986</td>\n",
              "      <td>13</td>\n",
              "      <td>3</td>\n",
              "      <td>10</td>\n",
              "      <td>0</td>\n",
              "      <td>1</td>\n",
              "    </tr>\n",
              "    <tr>\n",
              "      <th>2</th>\n",
              "      <td>76.54</td>\n",
              "      <td>0.428038</td>\n",
              "      <td>14</td>\n",
              "      <td>3</td>\n",
              "      <td>8</td>\n",
              "      <td>0</td>\n",
              "      <td>1</td>\n",
              "    </tr>\n",
              "    <tr>\n",
              "      <th>3</th>\n",
              "      <td>76.54</td>\n",
              "      <td>0.345700</td>\n",
              "      <td>19</td>\n",
              "      <td>20</td>\n",
              "      <td>19</td>\n",
              "      <td>0</td>\n",
              "      <td>0</td>\n",
              "    </tr>\n",
              "    <tr>\n",
              "      <th>4</th>\n",
              "      <td>76.54</td>\n",
              "      <td>0.143454</td>\n",
              "      <td>14</td>\n",
              "      <td>4</td>\n",
              "      <td>10</td>\n",
              "      <td>0</td>\n",
              "      <td>1</td>\n",
              "    </tr>\n",
              "  </tbody>\n",
              "</table>\n",
              "</div>"
            ],
            "text/plain": [
              "   Protein Annotation  Day21-ETP  ...  TID  MatchResult\n",
              "0               76.54   0.758783  ...    0            0\n",
              "1               76.54   0.490986  ...    0            1\n",
              "2               76.54   0.428038  ...    0            1\n",
              "3               76.54   0.345700  ...    0            0\n",
              "4               76.54   0.143454  ...    0            1\n",
              "\n",
              "[5 rows x 7 columns]"
            ]
          },
          "metadata": {
            "tags": []
          },
          "execution_count": 3
        }
      ]
    },
    {
      "cell_type": "code",
      "metadata": {
        "id": "7MtIDnMvqfKZ",
        "colab_type": "code",
        "colab": {
          "base_uri": "https://localhost:8080/",
          "height": 334
        },
        "outputId": "fbecafe3-6300-4f95-e1b8-aabce3f70d78"
      },
      "source": [
        "plt.matshow(data.corr())\n",
        "plt.xticks(np.arange(7), data.columns, rotation=90)\n",
        "plt.yticks(np.arange(7), data.columns, rotation=0)\n",
        "plt.colorbar()\n",
        "plt.show()"
      ],
      "execution_count": null,
      "outputs": [
        {
          "output_type": "display_data",
          "data": {
            "image/png": "[encoded data removed]",
            "text/plain": [
              "<Figure size 288x288 with 2 Axes>"
            ]
          },
          "metadata": {
            "tags": [],
            "needs_background": "light"
          }
        }
      ]
    },
    {
      "cell_type": "code",
      "metadata": {
        "id": "v-1j7BONVFvA",
        "colab_type": "code",
        "colab": {}
      },
      "source": [
        "count = 0\n",
        "test = pd.DataFrame()\n",
        "train = pd.DataFrame()\n",
        "for index, row in data.iterrows():\n",
        "    count += 1\n",
        "    if (count%3)==0:\n",
        "        test = test.append(row)\n",
        "    else:\n",
        "        train = train.append(row)"
      ],
      "execution_count": null,
      "outputs": []
    },
    {
      "cell_type": "code",
      "metadata": {
        "id": "AV3oPzubZVom",
        "colab_type": "code",
        "colab": {}
      },
      "source": [
        "count = 0\n",
        "test1 = pd.DataFrame()\n",
        "train1 = pd.DataFrame()\n",
        "for index, row in train.iterrows():\n",
        "    count += 1\n",
        "    if (count%3)==0:\n",
        "        test1 = test1.append(row)\n",
        "    else:\n",
        "        train1 = train1.append(row)"
      ],
      "execution_count": null,
      "outputs": []
    },
    {
      "cell_type": "code",
      "metadata": {
        "id": "q7KTMhTsVbJR",
        "colab_type": "code",
        "colab": {
          "base_uri": "https://localhost:8080/",
          "height": 255
        },
        "outputId": "1af4826b-9d79-406c-8a5c-5032f6d5a9ba"
      },
      "source": [
        "train.info()"
      ],
      "execution_count": null,
      "outputs": [
        {
          "output_type": "stream",
          "text": [
            "<class 'pandas.core.frame.DataFrame'>\n",
            "Int64Index: 27043 entries, 0 to 40563\n",
            "Data columns (total 7 columns):\n",
            " #   Column              Non-Null Count  Dtype  \n",
            "---  ------              --------------  -----  \n",
            " 0   CB_vs_MT            27043 non-null  float64\n",
            " 1   CB_vs_WT            27043 non-null  float64\n",
            " 2   Day21-ETP           27043 non-null  float64\n",
            " 3   MT_vs_WT            27043 non-null  float64\n",
            " 4   MatchResult         27043 non-null  float64\n",
            " 5   Protein Annotation  27043 non-null  float64\n",
            " 6   TID                 27043 non-null  float64\n",
            "dtypes: float64(7)\n",
            "memory usage: 1.7 MB\n"
          ],
          "name": "stdout"
        }
      ]
    },
    {
      "cell_type": "code",
      "metadata": {
        "id": "2l4XGuPaZYF7",
        "colab_type": "code",
        "colab": {
          "base_uri": "https://localhost:8080/",
          "height": 255
        },
        "outputId": "95363d42-1217-4d3d-b81f-d020dd86e6ad"
      },
      "source": [
        "train1.info()"
      ],
      "execution_count": null,
      "outputs": [
        {
          "output_type": "stream",
          "text": [
            "<class 'pandas.core.frame.DataFrame'>\n",
            "Int64Index: 18029 entries, 0 to 40563\n",
            "Data columns (total 7 columns):\n",
            " #   Column              Non-Null Count  Dtype  \n",
            "---  ------              --------------  -----  \n",
            " 0   CB_vs_MT            18029 non-null  float64\n",
            " 1   CB_vs_WT            18029 non-null  float64\n",
            " 2   Day21-ETP           18029 non-null  float64\n",
            " 3   MT_vs_WT            18029 non-null  float64\n",
            " 4   MatchResult         18029 non-null  float64\n",
            " 5   Protein Annotation  18029 non-null  float64\n",
            " 6   TID                 18029 non-null  float64\n",
            "dtypes: float64(7)\n",
            "memory usage: 1.1 MB\n"
          ],
          "name": "stdout"
        }
      ]
    },
    {
      "cell_type": "code",
      "metadata": {
        "id": "6sHt8YVbWhtp",
        "colab_type": "code",
        "colab": {
          "base_uri": "https://localhost:8080/",
          "height": 255
        },
        "outputId": "faf9dd00-7c9b-41bd-c57a-f9e2215e85a3"
      },
      "source": [
        "test.info()"
      ],
      "execution_count": null,
      "outputs": [
        {
          "output_type": "stream",
          "text": [
            "<class 'pandas.core.frame.DataFrame'>\n",
            "Int64Index: 13521 entries, 2 to 40562\n",
            "Data columns (total 7 columns):\n",
            " #   Column              Non-Null Count  Dtype  \n",
            "---  ------              --------------  -----  \n",
            " 0   CB_vs_MT            13521 non-null  float64\n",
            " 1   CB_vs_WT            13521 non-null  float64\n",
            " 2   Day21-ETP           13521 non-null  float64\n",
            " 3   MT_vs_WT            13521 non-null  float64\n",
            " 4   MatchResult         13521 non-null  float64\n",
            " 5   Protein Annotation  13521 non-null  float64\n",
            " 6   TID                 13521 non-null  float64\n",
            "dtypes: float64(7)\n",
            "memory usage: 845.1 KB\n"
          ],
          "name": "stdout"
        }
      ]
    },
    {
      "cell_type": "code",
      "metadata": {
        "id": "6pQzDP-JZcux",
        "colab_type": "code",
        "colab": {
          "base_uri": "https://localhost:8080/",
          "height": 255
        },
        "outputId": "281e4863-17e4-4285-f5b7-38edcf1fbd6a"
      },
      "source": [
        "test1.info()"
      ],
      "execution_count": null,
      "outputs": [
        {
          "output_type": "stream",
          "text": [
            "<class 'pandas.core.frame.DataFrame'>\n",
            "Int64Index: 9014 entries, 3 to 40561\n",
            "Data columns (total 7 columns):\n",
            " #   Column              Non-Null Count  Dtype  \n",
            "---  ------              --------------  -----  \n",
            " 0   CB_vs_MT            9014 non-null   float64\n",
            " 1   CB_vs_WT            9014 non-null   float64\n",
            " 2   Day21-ETP           9014 non-null   float64\n",
            " 3   MT_vs_WT            9014 non-null   float64\n",
            " 4   MatchResult         9014 non-null   float64\n",
            " 5   Protein Annotation  9014 non-null   float64\n",
            " 6   TID                 9014 non-null   float64\n",
            "dtypes: float64(7)\n",
            "memory usage: 563.4 KB\n"
          ],
          "name": "stdout"
        }
      ]
    },
    {
      "cell_type": "code",
      "metadata": {
        "id": "OI6MeN8aWjTo",
        "colab_type": "code",
        "colab": {
          "base_uri": "https://localhost:8080/",
          "height": 68
        },
        "outputId": "f697adb2-74a5-463b-d9d1-5384f6b15a4f"
      },
      "source": [
        "train.MatchResult.value_counts()"
      ],
      "execution_count": null,
      "outputs": [
        {
          "output_type": "execute_result",
          "data": {
            "text/plain": [
              "1.0    17186\n",
              "0.0     9857\n",
              "Name: MatchResult, dtype: int64"
            ]
          },
          "metadata": {
            "tags": []
          },
          "execution_count": 79
        }
      ]
    },
    {
      "cell_type": "code",
      "metadata": {
        "id": "ueKnQM86Zffa",
        "colab_type": "code",
        "colab": {
          "base_uri": "https://localhost:8080/",
          "height": 68
        },
        "outputId": "14d63df8-45ea-41af-85d2-f1c69b23f75b"
      },
      "source": [
        "train1.MatchResult.value_counts()"
      ],
      "execution_count": null,
      "outputs": [
        {
          "output_type": "execute_result",
          "data": {
            "text/plain": [
              "1.0    11515\n",
              "0.0     6514\n",
              "Name: MatchResult, dtype: int64"
            ]
          },
          "metadata": {
            "tags": []
          },
          "execution_count": 80
        }
      ]
    },
    {
      "cell_type": "code",
      "metadata": {
        "id": "Xm5xc7WaXB10",
        "colab_type": "code",
        "colab": {
          "base_uri": "https://localhost:8080/",
          "height": 68
        },
        "outputId": "b94d478e-0dd2-41d7-e600-c47cbd666216"
      },
      "source": [
        "test.MatchResult.value_counts()"
      ],
      "execution_count": null,
      "outputs": [
        {
          "output_type": "execute_result",
          "data": {
            "text/plain": [
              "1.0    8754\n",
              "0.0    4767\n",
              "Name: MatchResult, dtype: int64"
            ]
          },
          "metadata": {
            "tags": []
          },
          "execution_count": 81
        }
      ]
    },
    {
      "cell_type": "code",
      "metadata": {
        "id": "QPVka0_ZZjjl",
        "colab_type": "code",
        "colab": {
          "base_uri": "https://localhost:8080/",
          "height": 68
        },
        "outputId": "d0661522-70bf-4371-f42c-20ba150f19e2"
      },
      "source": [
        "test1.MatchResult.value_counts()"
      ],
      "execution_count": null,
      "outputs": [
        {
          "output_type": "execute_result",
          "data": {
            "text/plain": [
              "1.0    5671\n",
              "0.0    3343\n",
              "Name: MatchResult, dtype: int64"
            ]
          },
          "metadata": {
            "tags": []
          },
          "execution_count": 82
        }
      ]
    },
    {
      "cell_type": "code",
      "metadata": {
        "id": "RyfSvZNls6VA",
        "colab_type": "code",
        "colab": {}
      },
      "source": [
        "X_train = train1.drop(['MatchResult'], axis=1)\n",
        "y_train = train1['MatchResult']\n",
        "X_test = test1.drop(['MatchResult'], axis=1)\n",
        "y_test = test1['MatchResult']"
      ],
      "execution_count": null,
      "outputs": []
    },
    {
      "cell_type": "code",
      "metadata": {
        "id": "InQXDTxltezq",
        "colab_type": "code",
        "colab": {
          "base_uri": "https://localhost:8080/",
          "height": 316
        },
        "outputId": "6e8b2671-a2db-4c3c-b9a6-583b3043800e"
      },
      "source": [
        "reg = linear_model.Ridge (alpha = .5)\n",
        "reg.fit(X_train, y_train)\n",
        "print('Score: ', reg.score(X_test, y_test))\n",
        "print('Weights: ', reg.coef_)\n",
        "\n",
        "plt.plot(reg.predict(X_test))\n",
        "plt.plot(y_test)\n",
        "plt.show()"
      ],
      "execution_count": null,
      "outputs": [
        {
          "output_type": "stream",
          "text": [
            "Score:  0.9162175122965882\n",
            "Weights:  [-3.66730846e-01  3.47455867e-01 -8.65072939e-03  3.46771455e-01\n",
            "  7.90894868e-05  1.14035746e-02]\n"
          ],
          "name": "stdout"
        },
        {
          "output_type": "display_data",
          "data": {
            "image/png": "[encoded data removed]",
            "text/plain": [
              "<Figure size 432x288 with 1 Axes>"
            ]
          },
          "metadata": {
            "tags": [],
            "needs_background": "light"
          }
        }
      ]
    },
    {
      "cell_type": "code",
      "metadata": {
        "id": "9DLlyPrQn55t",
        "colab_type": "code",
        "colab": {}
      },
      "source": [
        "X_train = train1.drop(['MatchResult'], axis=1)\n",
        "y_train = train1['MatchResult']\n",
        "X_test = test1.drop(['MatchResult'], axis=1)\n",
        "y_test = test1['MatchResult']"
      ],
      "execution_count": null,
      "outputs": []
    },
    {
      "cell_type": "code",
      "metadata": {
        "id": "UYOf1aOCn6m7",
        "colab_type": "code",
        "colab": {}
      },
      "source": [
        "ns_probs = [0 for _ in range(len(y_test))]\n",
        "ns_auc = roc_auc_score(y_test, ns_probs)"
      ],
      "execution_count": null,
      "outputs": []
    },
    {
      "cell_type": "markdown",
      "metadata": {
        "id": "86cipuCmvzSp",
        "colab_type": "text"
      },
      "source": [
        "# **SVM (KERNEL: LINEAR)**"
      ]
    },
    {
      "cell_type": "markdown",
      "metadata": {
        "id": "o0uupOl7Xkee",
        "colab_type": "text"
      },
      "source": [
        "**Model 1 - Imbalanced towards Match**"
      ]
    },
    {
      "cell_type": "code",
      "metadata": {
        "id": "L--j3cPYYFg1",
        "colab_type": "code",
        "colab": {}
      },
      "source": [
        "svclassifier = SVC(kernel='linear').fit(X_train, y_train)"
      ],
      "execution_count": null,
      "outputs": []
    },
    {
      "cell_type": "code",
      "metadata": {
        "id": "qHNMo0mgYLyE",
        "colab_type": "code",
        "colab": {
          "base_uri": "https://localhost:8080/",
          "height": 204
        },
        "outputId": "f5e64ce6-2b5f-4ca1-bf6e-312d451e51f8"
      },
      "source": [
        "y_pred_m1_svm_linear = svclassifier.predict(X_test)\n",
        "\n",
        "print(confusion_matrix(y_test,y_pred_m1_svm_linear))\n",
        "print(classification_report(y_test,y_pred_m1_svm_linear))"
      ],
      "execution_count": null,
      "outputs": [
        {
          "output_type": "stream",
          "text": [
            "[[3343    0]\n",
            " [   0 5671]]\n",
            "              precision    recall  f1-score   support\n",
            "\n",
            "         0.0       1.00      1.00      1.00      3343\n",
            "         1.0       1.00      1.00      1.00      5671\n",
            "\n",
            "    accuracy                           1.00      9014\n",
            "   macro avg       1.00      1.00      1.00      9014\n",
            "weighted avg       1.00      1.00      1.00      9014\n",
            "\n"
          ],
          "name": "stdout"
        }
      ]
    },
    {
      "cell_type": "markdown",
      "metadata": {
        "id": "D672bPoBg2Iy",
        "colab_type": "text"
      },
      "source": [
        "| ACTUAL\\PREDICTED          | Mismatch (0) | Match (1) | TOTAL |\n",
        "|---------------------------|---------------------|-------------------------|-------|\n",
        "|    Mismatch (0)|      3343             |        0               |   3343   |\n",
        "|  Match (1)      |      0             |        5671              |   5671  |\n",
        "|        TOTAL              |      3343             |        5671              |   9014  |"
      ]
    },
    {
      "cell_type": "code",
      "metadata": {
        "id": "BG3gtWV8oz91",
        "colab_type": "code",
        "colab": {}
      },
      "source": [
        "m1_svm_linear_auc = roc_auc_score(y_test, y_pred_m1_svm_linear)"
      ],
      "execution_count": null,
      "outputs": []
    },
    {
      "cell_type": "code",
      "metadata": {
        "id": "TBsvjwedpvbq",
        "colab_type": "code",
        "colab": {}
      },
      "source": [
        "M1_sp_SVM_linear=1.00\n",
        "M1_se_SVM_linear=1.00\n",
        "M1_acc_SVM_linear=1.00"
      ],
      "execution_count": null,
      "outputs": []
    },
    {
      "cell_type": "code",
      "metadata": {
        "id": "f_ZpI0tv4tvl",
        "colab_type": "code",
        "colab": {}
      },
      "source": [
        "results = pd.DataFrame({'Classifier' : pd.Categorical([\"SVM - Linear\"]),\n",
        "                        'Model' : pd.Categorical([\"Imbalanced - Match\"]),\n",
        "                        'Specificity' : M1_sp_SVM_linear,\n",
        "                        'Sensitivity' : M1_se_SVM_linear,\n",
        "                        'Accuracy' : M1_acc_SVM_linear,\n",
        "                        'AUC' : m1_svm_linear_auc})"
      ],
      "execution_count": null,
      "outputs": []
    },
    {
      "cell_type": "markdown",
      "metadata": {
        "id": "jUUlg0Bdi5hn",
        "colab_type": "text"
      },
      "source": [
        "**Model 2 - Manually Balanced**"
      ]
    },
    {
      "cell_type": "code",
      "metadata": {
        "id": "g8N9F6A6jORa",
        "colab_type": "code",
        "colab": {
          "base_uri": "https://localhost:8080/",
          "height": 68
        },
        "outputId": "73dac075-a91d-420b-8aaf-b915da5e6130"
      },
      "source": [
        "train1.MatchResult.value_counts()"
      ],
      "execution_count": null,
      "outputs": [
        {
          "output_type": "execute_result",
          "data": {
            "text/plain": [
              "1.0    11515\n",
              "0.0     6514\n",
              "Name: MatchResult, dtype: int64"
            ]
          },
          "metadata": {
            "tags": []
          },
          "execution_count": 97
        }
      ]
    },
    {
      "cell_type": "code",
      "metadata": {
        "id": "SsfRg_84jaZK",
        "colab_type": "code",
        "colab": {
          "base_uri": "https://localhost:8080/",
          "height": 68
        },
        "outputId": "6aec7088-5b6b-4008-b24a-703456122aad"
      },
      "source": [
        "negative_cases = train1[train1['MatchResult'] == 0]\n",
        "positive_cases = train1[train1['MatchResult'] == 1].sample(6514, random_state=0)\n",
        "train1_balanced = pd.concat([positive_cases,negative_cases])\n",
        "train1_balanced.sort_index(inplace=True)\n",
        "\n",
        "X_train_bal = train1_balanced.drop(['MatchResult'], axis=1)\n",
        "y_train_bal = train1_balanced['MatchResult']\n",
        "\n",
        "train1_balanced.MatchResult.value_counts()"
      ],
      "execution_count": null,
      "outputs": [
        {
          "output_type": "execute_result",
          "data": {
            "text/plain": [
              "1.0    6514\n",
              "0.0    6514\n",
              "Name: MatchResult, dtype: int64"
            ]
          },
          "metadata": {
            "tags": []
          },
          "execution_count": 98
        }
      ]
    },
    {
      "cell_type": "code",
      "metadata": {
        "id": "Q_zYZtx2j9C0",
        "colab_type": "code",
        "colab": {}
      },
      "source": [
        "svclassifier = SVC(kernel='linear').fit(X_train_bal, y_train_bal)"
      ],
      "execution_count": null,
      "outputs": []
    },
    {
      "cell_type": "code",
      "metadata": {
        "id": "boQC3bj-kZiP",
        "colab_type": "code",
        "colab": {
          "base_uri": "https://localhost:8080/",
          "height": 204
        },
        "outputId": "244bf431-5c8e-41d7-c0ff-d03421a665ce"
      },
      "source": [
        "y_pred_m2_svm_linear = svclassifier.predict(X_test)\n",
        "\n",
        "print(confusion_matrix(y_test,y_pred_m2_svm_linear))\n",
        "print(classification_report(y_test,y_pred_m2_svm_linear))"
      ],
      "execution_count": null,
      "outputs": [
        {
          "output_type": "stream",
          "text": [
            "[[3343    0]\n",
            " [   0 5671]]\n",
            "              precision    recall  f1-score   support\n",
            "\n",
            "         0.0       1.00      1.00      1.00      3343\n",
            "         1.0       1.00      1.00      1.00      5671\n",
            "\n",
            "    accuracy                           1.00      9014\n",
            "   macro avg       1.00      1.00      1.00      9014\n",
            "weighted avg       1.00      1.00      1.00      9014\n",
            "\n"
          ],
          "name": "stdout"
        }
      ]
    },
    {
      "cell_type": "markdown",
      "metadata": {
        "id": "rRB882RrnJjN",
        "colab_type": "text"
      },
      "source": [
        "| ACTUAL\\PREDICTED          | Mismatch (0) | Match (1) | TOTAL |\n",
        "|---------------------------|---------------------|-------------------------|-------|\n",
        "|    Mismatch (0)|      3343             |        0               |   3343   |\n",
        "|  Match (1)      |      0             |        5671              |   5671  |\n",
        "|        TOTAL              |      3343             |        5671             |   9014  |"
      ]
    },
    {
      "cell_type": "code",
      "metadata": {
        "id": "mzwlLdzEo_wh",
        "colab_type": "code",
        "colab": {}
      },
      "source": [
        "m2_svm_linear_auc = roc_auc_score(y_test, y_pred_m2_svm_linear)"
      ],
      "execution_count": null,
      "outputs": []
    },
    {
      "cell_type": "code",
      "metadata": {
        "id": "i7ZcunqRtctu",
        "colab_type": "code",
        "colab": {}
      },
      "source": [
        "M2_sp_SVM_linear=1.00\n",
        "M2_se_SVM_linear=1.00\n",
        "M2_acc_SVM_linear=1.00"
      ],
      "execution_count": null,
      "outputs": []
    },
    {
      "cell_type": "code",
      "metadata": {
        "id": "TYDGc0k6ttzB",
        "colab_type": "code",
        "colab": {}
      },
      "source": [
        "svm_linear_m2 = {'Classifier':\"SVM - Linear\", 'Model':\"Balanced - Manual\", 'Specificity':M2_sp_SVM_linear, 'Sensitivity':M2_se_SVM_linear, 'Accuracy':M2_acc_SVM_linear, 'AUC': m2_svm_linear_auc}\n",
        "results = results.append(svm_linear_m2, ignore_index=True)"
      ],
      "execution_count": null,
      "outputs": []
    },
    {
      "cell_type": "markdown",
      "metadata": {
        "id": "WcxRTQExoExX",
        "colab_type": "text"
      },
      "source": [
        "**Model 3 - SMOTE Balanced**"
      ]
    },
    {
      "cell_type": "code",
      "metadata": {
        "id": "5-roOvEUnATu",
        "colab_type": "code",
        "colab": {
          "base_uri": "https://localhost:8080/",
          "height": 71
        },
        "outputId": "ace7d73c-b7fb-470f-b5b8-8f81dd6d6de4"
      },
      "source": [
        "smote = SMOTE(random_state=0)\n",
        "X_train_resampled, y_train_resampled = smote.fit_sample(X_train, y_train)"
      ],
      "execution_count": null,
      "outputs": [
        {
          "output_type": "stream",
          "text": [
            "/usr/local/lib/python3.6/dist-packages/sklearn/utils/deprecation.py:87: FutureWarning: Function safe_indexing is deprecated; safe_indexing is deprecated in version 0.22 and will be removed in version 0.24.\n",
            "  warnings.warn(msg, category=FutureWarning)\n"
          ],
          "name": "stderr"
        }
      ]
    },
    {
      "cell_type": "code",
      "metadata": {
        "id": "B_pdLBgjoQF5",
        "colab_type": "code",
        "colab": {}
      },
      "source": [
        "svclassifier = SVC(kernel='linear').fit(X_train_resampled, y_train_resampled)"
      ],
      "execution_count": null,
      "outputs": []
    },
    {
      "cell_type": "code",
      "metadata": {
        "id": "S-C-PB6JoWuu",
        "colab_type": "code",
        "colab": {
          "base_uri": "https://localhost:8080/",
          "height": 204
        },
        "outputId": "992bd0e5-afe5-45bc-94d2-a63edd96154b"
      },
      "source": [
        "y_pred_m3_svm_linear = svclassifier.predict(X_test)\n",
        "\n",
        "print(confusion_matrix(y_test,y_pred_m3_svm_linear))\n",
        "print(classification_report(y_test,y_pred_m3_svm_linear))"
      ],
      "execution_count": null,
      "outputs": [
        {
          "output_type": "stream",
          "text": [
            "[[3343    0]\n",
            " [   0 5671]]\n",
            "              precision    recall  f1-score   support\n",
            "\n",
            "         0.0       1.00      1.00      1.00      3343\n",
            "         1.0       1.00      1.00      1.00      5671\n",
            "\n",
            "    accuracy                           1.00      9014\n",
            "   macro avg       1.00      1.00      1.00      9014\n",
            "weighted avg       1.00      1.00      1.00      9014\n",
            "\n"
          ],
          "name": "stdout"
        }
      ]
    },
    {
      "cell_type": "markdown",
      "metadata": {
        "id": "n6eJuWDtrLFF",
        "colab_type": "text"
      },
      "source": [
        "| ACTUAL\\PREDICTED          | Mismatch (0) | Match (1) | TOTAL |\n",
        "|---------------------------|---------------------|-------------------------|-------|\n",
        "|    Mismatch (0)|      3343             |        0               |   3343   |\n",
        "|  Match (1)      |      0             |        5671              |   5671  |\n",
        "|        TOTAL              |      3343             |        5671             |   9014  |"
      ]
    },
    {
      "cell_type": "code",
      "metadata": {
        "id": "dsJk8dnEpK3s",
        "colab_type": "code",
        "colab": {}
      },
      "source": [
        "m3_svm_linear_auc = roc_auc_score(y_test, y_pred_m3_svm_linear)"
      ],
      "execution_count": null,
      "outputs": []
    },
    {
      "cell_type": "code",
      "metadata": {
        "id": "Mxz4xoawvLNE",
        "colab_type": "code",
        "colab": {}
      },
      "source": [
        "M3_sp_SVM_linear=1.00\n",
        "M3_se_SVM_linear=1.00\n",
        "M3_acc_SVM_linear=1.00"
      ],
      "execution_count": null,
      "outputs": []
    },
    {
      "cell_type": "code",
      "metadata": {
        "id": "yAUVK32NrIxF",
        "colab_type": "code",
        "colab": {}
      },
      "source": [
        "svm_linear_m3 = {'Model':\"Balanced - SMOTE\", 'Classifier':\"SVM - Linear\", 'Specificity':M3_sp_SVM_linear, 'Sensitivity':M3_se_SVM_linear, 'Accuracy':M3_acc_SVM_linear, 'AUC': m3_svm_linear_auc}\n",
        "results = results.append(svm_linear_m3, ignore_index=True)"
      ],
      "execution_count": null,
      "outputs": []
    },
    {
      "cell_type": "markdown",
      "metadata": {
        "id": "WmSN8koJwbym",
        "colab_type": "text"
      },
      "source": [
        "**Model 4 - Imbalanced towards Mismatch**"
      ]
    },
    {
      "cell_type": "code",
      "metadata": {
        "id": "XIc3G2NbvnhB",
        "colab_type": "code",
        "colab": {
          "base_uri": "https://localhost:8080/",
          "height": 68
        },
        "outputId": "e39946b4-d3c6-4e18-da8b-f473444968c0"
      },
      "source": [
        "train1.MatchResult.value_counts()"
      ],
      "execution_count": null,
      "outputs": [
        {
          "output_type": "execute_result",
          "data": {
            "text/plain": [
              "1.0    11515\n",
              "0.0     6514\n",
              "Name: MatchResult, dtype: int64"
            ]
          },
          "metadata": {
            "tags": []
          },
          "execution_count": 111
        }
      ]
    },
    {
      "cell_type": "code",
      "metadata": {
        "id": "lnVTUgl1wuv6",
        "colab_type": "code",
        "colab": {
          "base_uri": "https://localhost:8080/",
          "height": 68
        },
        "outputId": "572079b8-41a5-4b2c-fe0b-f8a9e53272cb"
      },
      "source": [
        "positive_cases = train1[train1['MatchResult'] == 1].sample(2171, random_state=0)\n",
        "negative_cases = train1[train1['MatchResult'] == 0].sample(4343, random_state=0)\n",
        "train1_imbalanced = pd.concat([positive_cases,negative_cases])\n",
        "train1_imbalanced.sort_index(inplace=True)\n",
        "\n",
        "X_train_imbal = train1_imbalanced.drop(['MatchResult'], axis=1)\n",
        "y_train_imbal = train1_imbalanced['MatchResult']\n",
        "# AFTER\n",
        "train1_imbalanced.MatchResult.value_counts()"
      ],
      "execution_count": null,
      "outputs": [
        {
          "output_type": "execute_result",
          "data": {
            "text/plain": [
              "0.0    4343\n",
              "1.0    2171\n",
              "Name: MatchResult, dtype: int64"
            ]
          },
          "metadata": {
            "tags": []
          },
          "execution_count": 112
        }
      ]
    },
    {
      "cell_type": "code",
      "metadata": {
        "id": "xEM-VZsaxpTp",
        "colab_type": "code",
        "colab": {}
      },
      "source": [
        "svclassifier = SVC(kernel='linear').fit(X_train_imbal, y_train_imbal)"
      ],
      "execution_count": null,
      "outputs": []
    },
    {
      "cell_type": "code",
      "metadata": {
        "id": "qLMOfQwKx2Iq",
        "colab_type": "code",
        "colab": {
          "base_uri": "https://localhost:8080/",
          "height": 204
        },
        "outputId": "a6d7753a-6dea-463e-aeef-bd5eb9e46faa"
      },
      "source": [
        "y_pred_m4_svm_linear = svclassifier.predict(X_test)\n",
        "\n",
        "print(confusion_matrix(y_test,y_pred_m4_svm_linear))\n",
        "print(classification_report(y_test,y_pred_m4_svm_linear))"
      ],
      "execution_count": null,
      "outputs": [
        {
          "output_type": "stream",
          "text": [
            "[[3343    0]\n",
            " [   0 5671]]\n",
            "              precision    recall  f1-score   support\n",
            "\n",
            "         0.0       1.00      1.00      1.00      3343\n",
            "         1.0       1.00      1.00      1.00      5671\n",
            "\n",
            "    accuracy                           1.00      9014\n",
            "   macro avg       1.00      1.00      1.00      9014\n",
            "weighted avg       1.00      1.00      1.00      9014\n",
            "\n"
          ],
          "name": "stdout"
        }
      ]
    },
    {
      "cell_type": "markdown",
      "metadata": {
        "id": "plYDhTOrCFce",
        "colab_type": "text"
      },
      "source": [
        "| ACTUAL\\PREDICTED          | Mismatch (0) | Match (1) | TOTAL |\n",
        "|---------------------------|---------------------|-------------------------|-------|\n",
        "|    Mismatch (0)|      3343             |        0               |   3343   |\n",
        "|  Match (1)      |      0             |        5761              |   5671  |\n",
        "|        TOTAL              |      3343             |        5761             |   9014  |"
      ]
    },
    {
      "cell_type": "code",
      "metadata": {
        "id": "VtBApZ3TpPMZ",
        "colab_type": "code",
        "colab": {}
      },
      "source": [
        "m4_svm_linear_auc = roc_auc_score(y_test, y_pred_m4_svm_linear)"
      ],
      "execution_count": null,
      "outputs": []
    },
    {
      "cell_type": "code",
      "metadata": {
        "id": "z4uTmEYN5ysD",
        "colab_type": "code",
        "colab": {}
      },
      "source": [
        "M4_sp_SVM_linear=1.00\n",
        "M4_se_SVM_linear=1.00\n",
        "M4_acc_SVM_linear=1.00"
      ],
      "execution_count": null,
      "outputs": []
    },
    {
      "cell_type": "code",
      "metadata": {
        "id": "Xbd3fzXY5wnn",
        "colab_type": "code",
        "colab": {}
      },
      "source": [
        "svm_linear_m4 = {'Model':\"Imbalanced - Mismatch\", 'Classifier':\"SVM - Linear\", 'Specificity':M4_sp_SVM_linear, 'Sensitivity':M4_se_SVM_linear, 'Accuracy':M4_acc_SVM_linear, 'AUC': m4_svm_linear_auc}\n",
        "results = results.append(svm_linear_m4, ignore_index=True)"
      ],
      "execution_count": null,
      "outputs": []
    },
    {
      "cell_type": "markdown",
      "metadata": {
        "id": "Bk8wkhFsDLVO",
        "colab_type": "text"
      },
      "source": [
        "# **SVM (KERNEL: GAUSSIAN)**"
      ]
    },
    {
      "cell_type": "markdown",
      "metadata": {
        "id": "D9VhFHdeDdyl",
        "colab_type": "text"
      },
      "source": [
        "**Model 1 - Imbalanced towards Match**"
      ]
    },
    {
      "cell_type": "code",
      "metadata": {
        "id": "_VlV4vREDjLI",
        "colab_type": "code",
        "colab": {}
      },
      "source": [
        "svclassifier = SVC(kernel='rbf').fit(X_train, y_train)"
      ],
      "execution_count": null,
      "outputs": []
    },
    {
      "cell_type": "code",
      "metadata": {
        "id": "70IvxEF6EXuB",
        "colab_type": "code",
        "colab": {
          "base_uri": "https://localhost:8080/",
          "height": 204
        },
        "outputId": "f82847c3-8a36-4e67-98ec-45b6f402801c"
      },
      "source": [
        "y_pred_m1_svm_gaussian = svclassifier.predict(X_test)\n",
        "\n",
        "print(confusion_matrix(y_test,y_pred_m1_svm_gaussian))\n",
        "print(classification_report(y_test,y_pred_m1_svm_gaussian))"
      ],
      "execution_count": null,
      "outputs": [
        {
          "output_type": "stream",
          "text": [
            "[[3343    0]\n",
            " [ 543 5128]]\n",
            "              precision    recall  f1-score   support\n",
            "\n",
            "         0.0       0.86      1.00      0.92      3343\n",
            "         1.0       1.00      0.90      0.95      5671\n",
            "\n",
            "    accuracy                           0.94      9014\n",
            "   macro avg       0.93      0.95      0.94      9014\n",
            "weighted avg       0.95      0.94      0.94      9014\n",
            "\n"
          ],
          "name": "stdout"
        }
      ]
    },
    {
      "cell_type": "markdown",
      "metadata": {
        "id": "W2re3uMIGZ5E",
        "colab_type": "text"
      },
      "source": [
        "| ACTUAL\\PREDICTED          | Mismatch (0) | Match (1) | TOTAL |\n",
        "|---------------------------|---------------------|-------------------------|-------|\n",
        "|    Mismatch (0)|      3343             |        0               |   3343   |\n",
        "|  Match (1)      |      543             |        5128              |   5671  |\n",
        "|        TOTAL              |      3886             |        5128             |   9014  |"
      ]
    },
    {
      "cell_type": "code",
      "metadata": {
        "id": "aiXUtaFRrLFy",
        "colab_type": "code",
        "colab": {}
      },
      "source": [
        "m1_svm_gaussian_auc = roc_auc_score(y_test, y_pred_m1_svm_gaussian)"
      ],
      "execution_count": null,
      "outputs": []
    },
    {
      "cell_type": "code",
      "metadata": {
        "id": "nlJlgLsfG3Q8",
        "colab_type": "code",
        "colab": {}
      },
      "source": [
        "M1_sp_SVM_gaussian=0.86\n",
        "M1_se_SVM_gaussian=1.00\n",
        "M1_acc_SVM_gaussian=0.94"
      ],
      "execution_count": null,
      "outputs": []
    },
    {
      "cell_type": "code",
      "metadata": {
        "id": "P5goN8QIHLDV",
        "colab_type": "code",
        "colab": {}
      },
      "source": [
        "svm_gaussian_m1 = {'Model':\"Imbalanced - Match\", 'Classifier':\"SVM - Gaussian\", 'Specificity':M1_sp_SVM_gaussian, 'Sensitivity':M1_se_SVM_gaussian, 'Accuracy':M1_acc_SVM_gaussian, 'AUC': m1_svm_gaussian_auc}\n",
        "results = results.append(svm_gaussian_m1, ignore_index=True)"
      ],
      "execution_count": null,
      "outputs": []
    },
    {
      "cell_type": "markdown",
      "metadata": {
        "id": "pU_icyPkFp5x",
        "colab_type": "text"
      },
      "source": [
        "**Model 2 - Manually Balanced**"
      ]
    },
    {
      "cell_type": "code",
      "metadata": {
        "id": "2KvN3M37EZ6O",
        "colab_type": "code",
        "colab": {}
      },
      "source": [
        "svclassifier = SVC(kernel='rbf').fit(X_train_bal, y_train_bal)"
      ],
      "execution_count": null,
      "outputs": []
    },
    {
      "cell_type": "code",
      "metadata": {
        "id": "4FjXKe-iF0qt",
        "colab_type": "code",
        "colab": {
          "base_uri": "https://localhost:8080/",
          "height": 204
        },
        "outputId": "ae357e60-c9a1-4633-bb54-63d451366873"
      },
      "source": [
        "y_pred_m2_svm_gaussian = svclassifier.predict(X_test)\n",
        "\n",
        "print(confusion_matrix(y_test,y_pred_m2_svm_gaussian))\n",
        "print(classification_report(y_test,y_pred_m2_svm_gaussian))"
      ],
      "execution_count": null,
      "outputs": [
        {
          "output_type": "stream",
          "text": [
            "[[3343    0]\n",
            " [ 543 5128]]\n",
            "              precision    recall  f1-score   support\n",
            "\n",
            "         0.0       0.86      1.00      0.92      3343\n",
            "         1.0       1.00      0.90      0.95      5671\n",
            "\n",
            "    accuracy                           0.94      9014\n",
            "   macro avg       0.93      0.95      0.94      9014\n",
            "weighted avg       0.95      0.94      0.94      9014\n",
            "\n"
          ],
          "name": "stdout"
        }
      ]
    },
    {
      "cell_type": "markdown",
      "metadata": {
        "id": "sPrAMv73IHKX",
        "colab_type": "text"
      },
      "source": [
        "| ACTUAL\\PREDICTED          | Mismatch (0) | Match (1) | TOTAL |\n",
        "|---------------------------|---------------------|-------------------------|-------|\n",
        "|    Mismatch (0)|      3343             |        0               |   3343   |\n",
        "|  Match (1)      |      543             |        5128              |   5671  |\n",
        "|        TOTAL              |      3886             |        5128             |   9014  |"
      ]
    },
    {
      "cell_type": "code",
      "metadata": {
        "id": "uypC4orbsvCA",
        "colab_type": "code",
        "colab": {}
      },
      "source": [
        "m2_svm_gaussian_auc = roc_auc_score(y_test, y_pred_m2_svm_gaussian)"
      ],
      "execution_count": null,
      "outputs": []
    },
    {
      "cell_type": "code",
      "metadata": {
        "id": "ZUWzo7nEF2m1",
        "colab_type": "code",
        "colab": {}
      },
      "source": [
        "M2_sp_SVM_gaussian=0.86\n",
        "M2_se_SVM_gaussian=1.00\n",
        "M2_acc_SVM_gaussian=0.94"
      ],
      "execution_count": null,
      "outputs": []
    },
    {
      "cell_type": "code",
      "metadata": {
        "id": "BLHM75pEJIwl",
        "colab_type": "code",
        "colab": {}
      },
      "source": [
        "svm_gaussian_m2 = {'Model':\"Balanced - Manual\", 'Classifier':\"SVM - Gaussian\", 'Specificity':M2_sp_SVM_gaussian, 'Sensitivity':M2_se_SVM_gaussian, 'Accuracy':M2_acc_SVM_gaussian, 'AUC': m2_svm_gaussian_auc}\n",
        "results = results.append(svm_gaussian_m2, ignore_index=True)"
      ],
      "execution_count": null,
      "outputs": []
    },
    {
      "cell_type": "markdown",
      "metadata": {
        "id": "CK0Me61rKDW1",
        "colab_type": "text"
      },
      "source": [
        "**Model 3 - SMOTE Balanced**"
      ]
    },
    {
      "cell_type": "code",
      "metadata": {
        "id": "VVn5dYYXJZ14",
        "colab_type": "code",
        "colab": {}
      },
      "source": [
        "svclassifier = SVC(kernel='rbf').fit(X_train_resampled, y_train_resampled)"
      ],
      "execution_count": null,
      "outputs": []
    },
    {
      "cell_type": "code",
      "metadata": {
        "id": "UlNto4XQKUS6",
        "colab_type": "code",
        "colab": {
          "base_uri": "https://localhost:8080/",
          "height": 204
        },
        "outputId": "1420a0fc-f5b9-466f-a41b-3f922e73a2a4"
      },
      "source": [
        "y_pred_m3_svm_gaussian = svclassifier.predict(X_test)\n",
        "\n",
        "print(confusion_matrix(y_test,y_pred_m3_svm_gaussian))\n",
        "print(classification_report(y_test,y_pred_m3_svm_gaussian))"
      ],
      "execution_count": null,
      "outputs": [
        {
          "output_type": "stream",
          "text": [
            "[[3343    0]\n",
            " [ 543 5128]]\n",
            "              precision    recall  f1-score   support\n",
            "\n",
            "         0.0       0.86      1.00      0.92      3343\n",
            "         1.0       1.00      0.90      0.95      5671\n",
            "\n",
            "    accuracy                           0.94      9014\n",
            "   macro avg       0.93      0.95      0.94      9014\n",
            "weighted avg       0.95      0.94      0.94      9014\n",
            "\n"
          ],
          "name": "stdout"
        }
      ]
    },
    {
      "cell_type": "markdown",
      "metadata": {
        "id": "TqwjK-qCKjH9",
        "colab_type": "text"
      },
      "source": [
        "| ACTUAL\\PREDICTED          | Mismatch (0) | Match (1) | TOTAL |\n",
        "|---------------------------|---------------------|-------------------------|-------|\n",
        "|    Mismatch (0)|      3343             |        0               |   3343   |\n",
        "|  Match (1)      |      543             |        5128              |   5671  |\n",
        "|        TOTAL              |      3886             |        5128             |   9014  |"
      ]
    },
    {
      "cell_type": "code",
      "metadata": {
        "id": "C83C0Y2StlSN",
        "colab_type": "code",
        "colab": {}
      },
      "source": [
        "m3_svm_gaussian_auc = roc_auc_score(y_test, y_pred_m3_svm_gaussian)"
      ],
      "execution_count": null,
      "outputs": []
    },
    {
      "cell_type": "code",
      "metadata": {
        "id": "m24vy245KdUg",
        "colab_type": "code",
        "colab": {}
      },
      "source": [
        "M3_sp_SVM_gaussian=0.86\n",
        "M3_se_SVM_gaussian=1.00\n",
        "M3_acc_SVM_gaussian=0.94"
      ],
      "execution_count": null,
      "outputs": []
    },
    {
      "cell_type": "code",
      "metadata": {
        "id": "Rbks_bJOLD4M",
        "colab_type": "code",
        "colab": {}
      },
      "source": [
        "svm_gaussian_m3 = {'Model':\"Balanced - SMOTE\", 'Classifier':\"SVM - Gaussian\", 'Specificity':M3_sp_SVM_gaussian, 'Sensitivity':M3_se_SVM_gaussian, 'Accuracy':M3_acc_SVM_gaussian, 'AUC': m3_svm_gaussian_auc}\n",
        "results = results.append(svm_gaussian_m3, ignore_index=True)"
      ],
      "execution_count": null,
      "outputs": []
    },
    {
      "cell_type": "markdown",
      "metadata": {
        "id": "SSWzI9ipMgbk",
        "colab_type": "text"
      },
      "source": [
        "**Model 4 - Imbalanced towards Mismatch**"
      ]
    },
    {
      "cell_type": "code",
      "metadata": {
        "id": "94Meu25ALOJA",
        "colab_type": "code",
        "colab": {}
      },
      "source": [
        "svclassifier = SVC(kernel='rbf').fit(X_train_imbal, y_train_imbal)"
      ],
      "execution_count": null,
      "outputs": []
    },
    {
      "cell_type": "code",
      "metadata": {
        "id": "qeb_ij5hMzCJ",
        "colab_type": "code",
        "colab": {
          "base_uri": "https://localhost:8080/",
          "height": 204
        },
        "outputId": "f1da2034-59d9-4ec7-9294-be962b5fd828"
      },
      "source": [
        "y_pred_m4_svm_gaussian = svclassifier.predict(X_test)\n",
        "\n",
        "print(confusion_matrix(y_test,y_pred_m4_svm_gaussian))\n",
        "print(classification_report(y_test,y_pred_m4_svm_gaussian))"
      ],
      "execution_count": null,
      "outputs": [
        {
          "output_type": "stream",
          "text": [
            "[[3343    0]\n",
            " [ 543 5128]]\n",
            "              precision    recall  f1-score   support\n",
            "\n",
            "         0.0       0.86      1.00      0.92      3343\n",
            "         1.0       1.00      0.90      0.95      5671\n",
            "\n",
            "    accuracy                           0.94      9014\n",
            "   macro avg       0.93      0.95      0.94      9014\n",
            "weighted avg       0.95      0.94      0.94      9014\n",
            "\n"
          ],
          "name": "stdout"
        }
      ]
    },
    {
      "cell_type": "markdown",
      "metadata": {
        "id": "rfwn_MfLM6oV",
        "colab_type": "text"
      },
      "source": [
        "| ACTUAL\\PREDICTED          | Mismatch (0) | Match (1) | TOTAL |\n",
        "|---------------------------|---------------------|-------------------------|-------|\n",
        "|    Mismatch (0)|      3343             |        0               |   3343   |\n",
        "|  Match (1)      |      543             |        5128              |   5671  |\n",
        "|        TOTAL              |      3886             |        5128             |   9014  |"
      ]
    },
    {
      "cell_type": "code",
      "metadata": {
        "id": "gE67elP1ulc7",
        "colab_type": "code",
        "colab": {}
      },
      "source": [
        "m4_svm_gaussian_auc = roc_auc_score(y_test, y_pred_m4_svm_gaussian)"
      ],
      "execution_count": null,
      "outputs": []
    },
    {
      "cell_type": "code",
      "metadata": {
        "id": "trJgkn2eM1u_",
        "colab_type": "code",
        "colab": {}
      },
      "source": [
        "M4_sp_SVM_gaussian=0.86\n",
        "M4_se_SVM_gaussian=1.00\n",
        "M4_acc_SVM_gaussian=0.94"
      ],
      "execution_count": null,
      "outputs": []
    },
    {
      "cell_type": "code",
      "metadata": {
        "id": "VU354t3lNPHH",
        "colab_type": "code",
        "colab": {}
      },
      "source": [
        "svm_gaussian_m4 = {'Model':\"Imbalanced - Mismatch\", 'Classifier':\"SVM - Gaussian\", 'Specificity':M4_sp_SVM_gaussian, 'Sensitivity':M4_se_SVM_gaussian, 'Accuracy':M4_acc_SVM_gaussian, 'AUC': m4_svm_gaussian_auc}\n",
        "results = results.append(svm_gaussian_m4, ignore_index=True)"
      ],
      "execution_count": null,
      "outputs": []
    },
    {
      "cell_type": "markdown",
      "metadata": {
        "id": "yokriL_cOUn9",
        "colab_type": "text"
      },
      "source": [
        "# **SVM (KERNEL: POLYNOMIAL)**"
      ]
    },
    {
      "cell_type": "markdown",
      "metadata": {
        "id": "axbv_lXfOnmn",
        "colab_type": "text"
      },
      "source": [
        "**Model 1 - Imbalanced towards Match**"
      ]
    },
    {
      "cell_type": "code",
      "metadata": {
        "id": "2DLSe15NNixA",
        "colab_type": "code",
        "colab": {}
      },
      "source": [
        "svclassifier = SVC(kernel='poly').fit(X_train, y_train)"
      ],
      "execution_count": null,
      "outputs": []
    },
    {
      "cell_type": "code",
      "metadata": {
        "id": "gEXXObZvO0Im",
        "colab_type": "code",
        "colab": {
          "base_uri": "https://localhost:8080/",
          "height": 204
        },
        "outputId": "e86cf715-1cb0-4618-c03c-80349d51b32f"
      },
      "source": [
        "y_pred_m1_svm_polynomial = svclassifier.predict(X_test)\n",
        "\n",
        "print(confusion_matrix(y_test,y_pred_m1_svm_polynomial))\n",
        "print(classification_report(y_test,y_pred_m1_svm_polynomial))"
      ],
      "execution_count": null,
      "outputs": [
        {
          "output_type": "stream",
          "text": [
            "[[3343    0]\n",
            " [ 244 5427]]\n",
            "              precision    recall  f1-score   support\n",
            "\n",
            "         0.0       0.93      1.00      0.96      3343\n",
            "         1.0       1.00      0.96      0.98      5671\n",
            "\n",
            "    accuracy                           0.97      9014\n",
            "   macro avg       0.97      0.98      0.97      9014\n",
            "weighted avg       0.97      0.97      0.97      9014\n",
            "\n"
          ],
          "name": "stdout"
        }
      ]
    },
    {
      "cell_type": "markdown",
      "metadata": {
        "id": "fUEi5d8sO8j1",
        "colab_type": "text"
      },
      "source": [
        "| ACTUAL\\PREDICTED          | Mismatch (0) | Match (1) | TOTAL |\n",
        "|---------------------------|---------------------|-------------------------|-------|\n",
        "|    Mismatch (0)|      3343             |        0               |   3343   |\n",
        "|  Match (1)      |      244             |        5427              |   5671  |\n",
        "|        TOTAL              |      3587             |        5427             |   9014  |"
      ]
    },
    {
      "cell_type": "code",
      "metadata": {
        "id": "PbSSWaY5vubg",
        "colab_type": "code",
        "colab": {}
      },
      "source": [
        "m1_svm_polynomial_auc = roc_auc_score(y_test, y_pred_m1_svm_polynomial)"
      ],
      "execution_count": null,
      "outputs": []
    },
    {
      "cell_type": "code",
      "metadata": {
        "id": "6Tac3qC2O2cs",
        "colab_type": "code",
        "colab": {}
      },
      "source": [
        "M1_sp_SVM_polynomial=0.93\n",
        "M1_se_SVM_polynomial=1.00\n",
        "M1_acc_SVM_polynomial=0.97"
      ],
      "execution_count": null,
      "outputs": []
    },
    {
      "cell_type": "code",
      "metadata": {
        "id": "lsxfbtAnPTqj",
        "colab_type": "code",
        "colab": {}
      },
      "source": [
        "svm_polynomial_m1 = {'Model':\"Imbalanced - Match\", 'Classifier':\"SVM - Polynomial\", 'Specificity':M1_sp_SVM_polynomial, 'Sensitivity':M1_se_SVM_polynomial, 'Accuracy':M1_acc_SVM_polynomial, 'AUC': m1_svm_polynomial_auc}\n",
        "results = results.append(svm_polynomial_m1, ignore_index=True)"
      ],
      "execution_count": null,
      "outputs": []
    },
    {
      "cell_type": "markdown",
      "metadata": {
        "id": "syKu2WcjRwJE",
        "colab_type": "text"
      },
      "source": [
        "**Model 2 - Manually Balanced**"
      ]
    },
    {
      "cell_type": "code",
      "metadata": {
        "id": "B458LwKBPqED",
        "colab_type": "code",
        "colab": {}
      },
      "source": [
        "svclassifier = SVC(kernel='poly').fit(X_train_bal, y_train_bal)"
      ],
      "execution_count": null,
      "outputs": []
    },
    {
      "cell_type": "code",
      "metadata": {
        "id": "WUbH7HCBR3KQ",
        "colab_type": "code",
        "colab": {
          "base_uri": "https://localhost:8080/",
          "height": 204
        },
        "outputId": "52fbf6b0-2eac-42a6-ea53-832ca49bad0a"
      },
      "source": [
        "y_pred_m2_svm_polynomial = svclassifier.predict(X_test)\n",
        "\n",
        "print(confusion_matrix(y_test,y_pred_m2_svm_polynomial))\n",
        "print(classification_report(y_test,y_pred_m2_svm_polynomial))"
      ],
      "execution_count": null,
      "outputs": [
        {
          "output_type": "stream",
          "text": [
            "[[3343    0]\n",
            " [ 296 5375]]\n",
            "              precision    recall  f1-score   support\n",
            "\n",
            "         0.0       0.92      1.00      0.96      3343\n",
            "         1.0       1.00      0.95      0.97      5671\n",
            "\n",
            "    accuracy                           0.97      9014\n",
            "   macro avg       0.96      0.97      0.97      9014\n",
            "weighted avg       0.97      0.97      0.97      9014\n",
            "\n"
          ],
          "name": "stdout"
        }
      ]
    },
    {
      "cell_type": "markdown",
      "metadata": {
        "id": "gAbKHIJCR88R",
        "colab_type": "text"
      },
      "source": [
        "| ACTUAL\\PREDICTED          | Mismatch (0) | Match (1) | TOTAL |\n",
        "|---------------------------|---------------------|-------------------------|-------|\n",
        "|    Mismatch (0)|      3343             |        0              |   3343   |\n",
        "|  Match (1)      |      296             |        5375              |   5671  |\n",
        "|        TOTAL              |      3639             |        5375              |   9014  |"
      ]
    },
    {
      "cell_type": "code",
      "metadata": {
        "id": "cQO3lX-4w5Um",
        "colab_type": "code",
        "colab": {}
      },
      "source": [
        "m2_svm_polynomial_auc = roc_auc_score(y_test, y_pred_m2_svm_polynomial)"
      ],
      "execution_count": null,
      "outputs": []
    },
    {
      "cell_type": "code",
      "metadata": {
        "id": "jlEbNrN5R5pQ",
        "colab_type": "code",
        "colab": {}
      },
      "source": [
        "M2_sp_SVM_polynomial=0.92\n",
        "M2_se_SVM_polynomial=1.00\n",
        "M2_acc_SVM_polynomial=0.97"
      ],
      "execution_count": null,
      "outputs": []
    },
    {
      "cell_type": "code",
      "metadata": {
        "id": "9hXE0dT9SbTY",
        "colab_type": "code",
        "colab": {}
      },
      "source": [
        "svm_polynomial_m2 = {'Model':\"Balanced - Manual\", 'Classifier':\"SVM - Polynomial\", 'Specificity':M2_sp_SVM_polynomial, 'Sensitivity':M2_se_SVM_polynomial, 'Accuracy':M2_acc_SVM_polynomial, 'AUC': m2_svm_polynomial_auc}\n",
        "results = results.append(svm_polynomial_m2, ignore_index=True)"
      ],
      "execution_count": null,
      "outputs": []
    },
    {
      "cell_type": "markdown",
      "metadata": {
        "id": "l_VzniprTsHy",
        "colab_type": "text"
      },
      "source": [
        "**Model 3 - SMOTE Balanced**"
      ]
    },
    {
      "cell_type": "code",
      "metadata": {
        "id": "9BDYbJdnS01_",
        "colab_type": "code",
        "colab": {}
      },
      "source": [
        "svclassifier = SVC(kernel='poly').fit(X_train_resampled, y_train_resampled)"
      ],
      "execution_count": null,
      "outputs": []
    },
    {
      "cell_type": "code",
      "metadata": {
        "id": "gBInk6ryTy7U",
        "colab_type": "code",
        "colab": {
          "base_uri": "https://localhost:8080/",
          "height": 204
        },
        "outputId": "bec4ebfc-8d52-498b-c1fb-d8bd6f838ada"
      },
      "source": [
        "y_pred_m3_svm_polynomial = svclassifier.predict(X_test)\n",
        "\n",
        "print(confusion_matrix(y_test,y_pred_m3_svm_polynomial))\n",
        "print(classification_report(y_test,y_pred_m3_svm_polynomial))"
      ],
      "execution_count": null,
      "outputs": [
        {
          "output_type": "stream",
          "text": [
            "[[3343    0]\n",
            " [ 243 5428]]\n",
            "              precision    recall  f1-score   support\n",
            "\n",
            "         0.0       0.93      1.00      0.96      3343\n",
            "         1.0       1.00      0.96      0.98      5671\n",
            "\n",
            "    accuracy                           0.97      9014\n",
            "   macro avg       0.97      0.98      0.97      9014\n",
            "weighted avg       0.97      0.97      0.97      9014\n",
            "\n"
          ],
          "name": "stdout"
        }
      ]
    },
    {
      "cell_type": "markdown",
      "metadata": {
        "id": "se1QTp34T4KV",
        "colab_type": "text"
      },
      "source": [
        "| ACTUAL\\PREDICTED          | Mismatch (0) | Match (1) | TOTAL |\n",
        "|---------------------------|---------------------|-------------------------|-------|\n",
        "|    Mismatch (0)|      3343             |        0              |   3343   |\n",
        "|  Match (1)      |      243             |        5428              |   5671  |\n",
        "|        TOTAL              |      3586             |        5428              |   9014  |"
      ]
    },
    {
      "cell_type": "code",
      "metadata": {
        "id": "iKoNU0WBxiK9",
        "colab_type": "code",
        "colab": {}
      },
      "source": [
        "m3_svm_polynomial_auc = roc_auc_score(y_test, y_pred_m3_svm_polynomial)"
      ],
      "execution_count": null,
      "outputs": []
    },
    {
      "cell_type": "code",
      "metadata": {
        "id": "K05qpGUUT1nT",
        "colab_type": "code",
        "colab": {}
      },
      "source": [
        "M3_sp_SVM_polynomial=0.93\n",
        "M3_se_SVM_polynomial=1.00\n",
        "M3_acc_SVM_polynomial=0.97"
      ],
      "execution_count": null,
      "outputs": []
    },
    {
      "cell_type": "code",
      "metadata": {
        "id": "G66fZeyMUMG3",
        "colab_type": "code",
        "colab": {}
      },
      "source": [
        "svm_polynomial_m3 = {'Model':\"Balanced - SMOTE\", 'Classifier':\"SVM - Polynomial\", 'Specificity':M3_sp_SVM_polynomial, 'Sensitivity':M3_se_SVM_polynomial, 'Accuracy':M3_acc_SVM_polynomial, 'AUC': m3_svm_polynomial_auc}\n",
        "results = results.append(svm_polynomial_m3, ignore_index=True)"
      ],
      "execution_count": null,
      "outputs": []
    },
    {
      "cell_type": "markdown",
      "metadata": {
        "id": "xc0u9zjWVhTn",
        "colab_type": "text"
      },
      "source": [
        "**Model 4 - Imbalanced towards Mismatch**"
      ]
    },
    {
      "cell_type": "code",
      "metadata": {
        "id": "NVHcKhJUUZr7",
        "colab_type": "code",
        "colab": {}
      },
      "source": [
        "svclassifier = SVC(kernel='poly').fit(X_train_imbal, y_train_imbal)"
      ],
      "execution_count": null,
      "outputs": []
    },
    {
      "cell_type": "code",
      "metadata": {
        "id": "-HqvpQmtVm9B",
        "colab_type": "code",
        "colab": {
          "base_uri": "https://localhost:8080/",
          "height": 204
        },
        "outputId": "ab9e85cc-4f85-4c6b-da38-6cd5e15fd867"
      },
      "source": [
        "y_pred_m4_svm_polynomial = svclassifier.predict(X_test)\n",
        "\n",
        "print(confusion_matrix(y_test,y_pred_m4_svm_polynomial))\n",
        "print(classification_report(y_test,y_pred_m4_svm_polynomial))"
      ],
      "execution_count": null,
      "outputs": [
        {
          "output_type": "stream",
          "text": [
            "[[3343    0]\n",
            " [ 454 5217]]\n",
            "              precision    recall  f1-score   support\n",
            "\n",
            "         0.0       0.88      1.00      0.94      3343\n",
            "         1.0       1.00      0.92      0.96      5671\n",
            "\n",
            "    accuracy                           0.95      9014\n",
            "   macro avg       0.94      0.96      0.95      9014\n",
            "weighted avg       0.96      0.95      0.95      9014\n",
            "\n"
          ],
          "name": "stdout"
        }
      ]
    },
    {
      "cell_type": "markdown",
      "metadata": {
        "id": "pEZO5W2LVwAM",
        "colab_type": "text"
      },
      "source": [
        "| ACTUAL\\PREDICTED          | Mismatch (0) | Match (1) | TOTAL |\n",
        "|---------------------------|---------------------|-------------------------|-------|\n",
        "|    Mismatch (0)|      3343             |        0              |   3343   |\n",
        "|  Match (1)      |      454             |        5217              |   5671  |\n",
        "|        TOTAL              |      3797             |        5217             |   9014  |"
      ]
    },
    {
      "cell_type": "code",
      "metadata": {
        "id": "ZbzIuUMbyj4F",
        "colab_type": "code",
        "colab": {}
      },
      "source": [
        "m4_svm_polynomial_auc = roc_auc_score(y_test, y_pred_m4_svm_polynomial)"
      ],
      "execution_count": null,
      "outputs": []
    },
    {
      "cell_type": "code",
      "metadata": {
        "id": "w2USkK-uVo-m",
        "colab_type": "code",
        "colab": {}
      },
      "source": [
        "M4_sp_SVM_polynomial=0.88\n",
        "M4_se_SVM_polynomial=1.00\n",
        "M4_acc_SVM_polynomial=0.95"
      ],
      "execution_count": null,
      "outputs": []
    },
    {
      "cell_type": "code",
      "metadata": {
        "id": "9oGNOH2KWA2O",
        "colab_type": "code",
        "colab": {}
      },
      "source": [
        "svm_polynomial_m4 = {'Model':\"Imbalanced - Mismatch\", 'Classifier':\"SVM - Polynomial\", 'Specificity':M4_sp_SVM_polynomial, 'Sensitivity':M4_se_SVM_polynomial, 'Accuracy':M4_acc_SVM_polynomial, 'AUC': m4_svm_polynomial_auc}\n",
        "results = results.append(svm_polynomial_m4, ignore_index=True)"
      ],
      "execution_count": null,
      "outputs": []
    },
    {
      "cell_type": "markdown",
      "metadata": {
        "id": "vOd1KtiuYhLV",
        "colab_type": "text"
      },
      "source": [
        "# **SVM (KERNEL: SIGMOID)**"
      ]
    },
    {
      "cell_type": "markdown",
      "metadata": {
        "id": "yWyL-YfnYnzb",
        "colab_type": "text"
      },
      "source": [
        "**Model 1 - Imbalanced towards Match**"
      ]
    },
    {
      "cell_type": "code",
      "metadata": {
        "id": "kd8Xl7MxWOG3",
        "colab_type": "code",
        "colab": {}
      },
      "source": [
        "svclassifier = SVC(kernel='sigmoid').fit(X_train, y_train)"
      ],
      "execution_count": null,
      "outputs": []
    },
    {
      "cell_type": "code",
      "metadata": {
        "id": "oGUBHMurYtUr",
        "colab_type": "code",
        "colab": {
          "base_uri": "https://localhost:8080/",
          "height": 204
        },
        "outputId": "1bacf16e-75d1-4723-878f-2262bc327c8d"
      },
      "source": [
        "y_pred_m1_svm_sigmoid = svclassifier.predict(X_test)\n",
        "\n",
        "print(confusion_matrix(y_test,y_pred_m1_svm_sigmoid))\n",
        "print(classification_report(y_test,y_pred_m1_svm_sigmoid))"
      ],
      "execution_count": null,
      "outputs": [
        {
          "output_type": "stream",
          "text": [
            "[[1289 2054]\n",
            " [1941 3730]]\n",
            "              precision    recall  f1-score   support\n",
            "\n",
            "         0.0       0.40      0.39      0.39      3343\n",
            "         1.0       0.64      0.66      0.65      5671\n",
            "\n",
            "    accuracy                           0.56      9014\n",
            "   macro avg       0.52      0.52      0.52      9014\n",
            "weighted avg       0.55      0.56      0.56      9014\n",
            "\n"
          ],
          "name": "stdout"
        }
      ]
    },
    {
      "cell_type": "markdown",
      "metadata": {
        "id": "Zd2L9PYTYzJR",
        "colab_type": "text"
      },
      "source": [
        "| ACTUAL\\PREDICTED          | Mismatch (0) | Match (1) | TOTAL |\n",
        "|---------------------------|---------------------|-------------------------|-------|\n",
        "|    Mismatch (0)|      1289             |        2054              |   3343   |\n",
        "|  Match (1)      |      1941             |        3730              |   5671  |\n",
        "|        TOTAL              |      3230             |        5784              |   9014  |"
      ]
    },
    {
      "cell_type": "code",
      "metadata": {
        "id": "Po9d9a-Qzigk",
        "colab_type": "code",
        "colab": {}
      },
      "source": [
        "m1_svm_sigmoid_auc = roc_auc_score(y_test, y_pred_m1_svm_sigmoid)"
      ],
      "execution_count": null,
      "outputs": []
    },
    {
      "cell_type": "code",
      "metadata": {
        "id": "EUtdGdnBYv7W",
        "colab_type": "code",
        "colab": {}
      },
      "source": [
        "M1_sp_SVM_sigmoid=0.40\n",
        "M1_se_SVM_sigmoid=0.39\n",
        "M1_acc_SVM_sigmoid=0.56"
      ],
      "execution_count": null,
      "outputs": []
    },
    {
      "cell_type": "code",
      "metadata": {
        "id": "GnAqKAOHZ8Yp",
        "colab_type": "code",
        "colab": {}
      },
      "source": [
        "svm_sigmoid_m1 = {'Model':\"Imbalanced - Match\", 'Classifier':\"SVM - Sigmoid\", 'Specificity':M1_sp_SVM_sigmoid, 'Sensitivity':M1_se_SVM_sigmoid, 'Accuracy':M1_acc_SVM_sigmoid, 'AUC': m1_svm_sigmoid_auc}\n",
        "results = results.append(svm_sigmoid_m1, ignore_index=True)"
      ],
      "execution_count": null,
      "outputs": []
    },
    {
      "cell_type": "code",
      "metadata": {
        "id": "xu3JxjE-zuOM",
        "colab_type": "code",
        "colab": {
          "base_uri": "https://localhost:8080/",
          "height": 204
        },
        "outputId": "bb9682b9-2de8-4217-d337-bfc1cd32b991"
      },
      "source": [
        "results.tail()"
      ],
      "execution_count": null,
      "outputs": [
        {
          "output_type": "execute_result",
          "data": {
            "text/html": [
              "<div>\n",
              "<style scoped>\n",
              "    .dataframe tbody tr th:only-of-type {\n",
              "        vertical-align: middle;\n",
              "    }\n",
              "\n",
              "    .dataframe tbody tr th {\n",
              "        vertical-align: top;\n",
              "    }\n",
              "\n",
              "    .dataframe thead th {\n",
              "        text-align: right;\n",
              "    }\n",
              "</style>\n",
              "<table border=\"1\" class=\"dataframe\">\n",
              "  <thead>\n",
              "    <tr style=\"text-align: right;\">\n",
              "      <th></th>\n",
              "      <th>Classifier</th>\n",
              "      <th>Model</th>\n",
              "      <th>Specificity</th>\n",
              "      <th>Sensitivity</th>\n",
              "      <th>Accuracy</th>\n",
              "      <th>AUC</th>\n",
              "    </tr>\n",
              "  </thead>\n",
              "  <tbody>\n",
              "    <tr>\n",
              "      <th>8</th>\n",
              "      <td>SVM - Polynomial</td>\n",
              "      <td>Imbalanced - Match</td>\n",
              "      <td>0.93</td>\n",
              "      <td>1.00</td>\n",
              "      <td>0.97</td>\n",
              "      <td>0.978487</td>\n",
              "    </tr>\n",
              "    <tr>\n",
              "      <th>9</th>\n",
              "      <td>SVM - Polynomial</td>\n",
              "      <td>Balanced - Manual</td>\n",
              "      <td>0.92</td>\n",
              "      <td>1.00</td>\n",
              "      <td>0.97</td>\n",
              "      <td>0.973902</td>\n",
              "    </tr>\n",
              "    <tr>\n",
              "      <th>10</th>\n",
              "      <td>SVM - Polynomial</td>\n",
              "      <td>Balanced - SMOTE</td>\n",
              "      <td>0.93</td>\n",
              "      <td>1.00</td>\n",
              "      <td>0.97</td>\n",
              "      <td>0.978575</td>\n",
              "    </tr>\n",
              "    <tr>\n",
              "      <th>11</th>\n",
              "      <td>SVM - Polynomial</td>\n",
              "      <td>Imbalanced - Mismatch</td>\n",
              "      <td>0.88</td>\n",
              "      <td>1.00</td>\n",
              "      <td>0.95</td>\n",
              "      <td>0.959972</td>\n",
              "    </tr>\n",
              "    <tr>\n",
              "      <th>12</th>\n",
              "      <td>SVM - Sigmoid</td>\n",
              "      <td>Imbalanced - Match</td>\n",
              "      <td>0.40</td>\n",
              "      <td>0.39</td>\n",
              "      <td>0.56</td>\n",
              "      <td>0.521657</td>\n",
              "    </tr>\n",
              "  </tbody>\n",
              "</table>\n",
              "</div>"
            ],
            "text/plain": [
              "          Classifier                  Model  ...  Accuracy       AUC\n",
              "8   SVM - Polynomial     Imbalanced - Match  ...      0.97  0.978487\n",
              "9   SVM - Polynomial      Balanced - Manual  ...      0.97  0.973902\n",
              "10  SVM - Polynomial       Balanced - SMOTE  ...      0.97  0.978575\n",
              "11  SVM - Polynomial  Imbalanced - Mismatch  ...      0.95  0.959972\n",
              "12     SVM - Sigmoid     Imbalanced - Match  ...      0.56  0.521657\n",
              "\n",
              "[5 rows x 6 columns]"
            ]
          },
          "metadata": {
            "tags": []
          },
          "execution_count": 204
        }
      ]
    },
    {
      "cell_type": "markdown",
      "metadata": {
        "id": "F81qw4DLbfLw",
        "colab_type": "text"
      },
      "source": [
        "**Model 2 - Manually Balanced**"
      ]
    },
    {
      "cell_type": "code",
      "metadata": {
        "id": "bUaQi-SzagZz",
        "colab_type": "code",
        "colab": {}
      },
      "source": [
        "svclassifier = SVC(kernel='sigmoid').fit(X_train_bal, y_train_bal)"
      ],
      "execution_count": null,
      "outputs": []
    },
    {
      "cell_type": "code",
      "metadata": {
        "id": "0suoubA3bj7i",
        "colab_type": "code",
        "colab": {
          "base_uri": "https://localhost:8080/",
          "height": 204
        },
        "outputId": "b33028de-8083-41cc-ad5b-14ac75395cfc"
      },
      "source": [
        "y_pred_m2_svm_sigmoid = svclassifier.predict(X_test)\n",
        "\n",
        "print(confusion_matrix(y_test,y_pred_m2_svm_sigmoid))\n",
        "print(classification_report(y_test,y_pred_m2_svm_sigmoid))"
      ],
      "execution_count": null,
      "outputs": [
        {
          "output_type": "stream",
          "text": [
            "[[2187 1156]\n",
            " [2023 3648]]\n",
            "              precision    recall  f1-score   support\n",
            "\n",
            "         0.0       0.52      0.65      0.58      3343\n",
            "         1.0       0.76      0.64      0.70      5671\n",
            "\n",
            "    accuracy                           0.65      9014\n",
            "   macro avg       0.64      0.65      0.64      9014\n",
            "weighted avg       0.67      0.65      0.65      9014\n",
            "\n"
          ],
          "name": "stdout"
        }
      ]
    },
    {
      "cell_type": "markdown",
      "metadata": {
        "id": "ijgicxZvbo8S",
        "colab_type": "text"
      },
      "source": [
        "| ACTUAL\\PREDICTED          | Mismatch (0) | Match (1) | TOTAL |\n",
        "|---------------------------|---------------------|-------------------------|-------|\n",
        "|    Mismatch (0)|      2187             |        1156              |   3343   |\n",
        "|  Match (1)      |      2023             |        3648              |   5671  |\n",
        "|        TOTAL              |      4210             |        4804              |   9014  |"
      ]
    },
    {
      "cell_type": "code",
      "metadata": {
        "id": "RKFFcZtb1Ehj",
        "colab_type": "code",
        "colab": {}
      },
      "source": [
        "m2_svm_sigmoid_auc = roc_auc_score(y_test, y_pred_m2_svm_sigmoid)"
      ],
      "execution_count": null,
      "outputs": []
    },
    {
      "cell_type": "code",
      "metadata": {
        "id": "RZWMwsxHbmIL",
        "colab_type": "code",
        "colab": {}
      },
      "source": [
        "M2_sp_SVM_sigmoid=0.52\n",
        "M2_se_SVM_sigmoid=0.65\n",
        "M2_acc_SVM_sigmoid=0.65"
      ],
      "execution_count": null,
      "outputs": []
    },
    {
      "cell_type": "code",
      "metadata": {
        "id": "-GvJFqHocCM6",
        "colab_type": "code",
        "colab": {}
      },
      "source": [
        "svm_sigmoid_m2 = {'Model':\"Balanced - Manual\", 'Classifier':\"SVM - Sigmoid\", 'Specificity':M2_sp_SVM_sigmoid, 'Sensitivity':M2_se_SVM_sigmoid, 'Accuracy':M2_acc_SVM_sigmoid, 'AUC': m2_svm_sigmoid_auc}\n",
        "results = results.append(svm_sigmoid_m2, ignore_index=True)"
      ],
      "execution_count": null,
      "outputs": []
    },
    {
      "cell_type": "markdown",
      "metadata": {
        "id": "wmix_A4EdF1_",
        "colab_type": "text"
      },
      "source": [
        "**Model 3 - SMOTE Balanced**"
      ]
    },
    {
      "cell_type": "code",
      "metadata": {
        "id": "FLyeozO-cNPc",
        "colab_type": "code",
        "colab": {}
      },
      "source": [
        "svclassifier = SVC(kernel='sigmoid').fit(X_train_resampled, y_train_resampled)"
      ],
      "execution_count": null,
      "outputs": []
    },
    {
      "cell_type": "code",
      "metadata": {
        "id": "y8_W_mnoeThP",
        "colab_type": "code",
        "colab": {
          "base_uri": "https://localhost:8080/",
          "height": 204
        },
        "outputId": "4852c0a7-5f18-4426-ce29-815f8987d0af"
      },
      "source": [
        "y_pred_m3_svm_sigmoid = svclassifier.predict(X_test)\n",
        "\n",
        "print(confusion_matrix(y_test,y_pred_m3_svm_sigmoid))\n",
        "print(classification_report(y_test,y_pred_m3_svm_sigmoid))"
      ],
      "execution_count": null,
      "outputs": [
        {
          "output_type": "stream",
          "text": [
            "[[2186 1157]\n",
            " [2020 3651]]\n",
            "              precision    recall  f1-score   support\n",
            "\n",
            "         0.0       0.52      0.65      0.58      3343\n",
            "         1.0       0.76      0.64      0.70      5671\n",
            "\n",
            "    accuracy                           0.65      9014\n",
            "   macro avg       0.64      0.65      0.64      9014\n",
            "weighted avg       0.67      0.65      0.65      9014\n",
            "\n"
          ],
          "name": "stdout"
        }
      ]
    },
    {
      "cell_type": "markdown",
      "metadata": {
        "id": "KnCzgFX-eWXa",
        "colab_type": "text"
      },
      "source": [
        "| ACTUAL\\PREDICTED          | Mismatch (0) | Match (1) | TOTAL |\n",
        "|---------------------------|---------------------|-------------------------|-------|\n",
        "|    Mismatch (0)|      2186             |        1157              |   3343   |\n",
        "|  Match (1)      |      2020             |        3651              |   5671  |\n",
        "|        TOTAL              |      4206             |        4808              |   9014  |"
      ]
    },
    {
      "cell_type": "code",
      "metadata": {
        "id": "NFjGXCZ-18jU",
        "colab_type": "code",
        "colab": {}
      },
      "source": [
        "m3_svm_sigmoid_auc = roc_auc_score(y_test, y_pred_m3_svm_sigmoid)"
      ],
      "execution_count": null,
      "outputs": []
    },
    {
      "cell_type": "code",
      "metadata": {
        "id": "C8VSTsZneVko",
        "colab_type": "code",
        "colab": {}
      },
      "source": [
        "M3_sp_SVM_sigmoid=0.52\n",
        "M3_se_SVM_sigmoid=0.65\n",
        "M3_acc_SVM_sigmoid=0.65"
      ],
      "execution_count": null,
      "outputs": []
    },
    {
      "cell_type": "code",
      "metadata": {
        "id": "jyDiImI6etSy",
        "colab_type": "code",
        "colab": {}
      },
      "source": [
        "svm_sigmoid_m3 = {'Model':\"Balanced - SMOTE\", 'Classifier':\"SVM - Sigmoid\", 'Specificity':M3_sp_SVM_sigmoid, 'Sensitivity':M3_se_SVM_sigmoid, 'Accuracy':M3_acc_SVM_sigmoid, 'AUC': m3_svm_sigmoid_auc}\n",
        "results = results.append(svm_sigmoid_m3, ignore_index=True)"
      ],
      "execution_count": null,
      "outputs": []
    },
    {
      "cell_type": "markdown",
      "metadata": {
        "id": "6lm8xXS5fGaq",
        "colab_type": "text"
      },
      "source": [
        "**Model 4 - Imbalanced towards Mismatch**"
      ]
    },
    {
      "cell_type": "code",
      "metadata": {
        "id": "IhEhqF1We7AS",
        "colab_type": "code",
        "colab": {}
      },
      "source": [
        "svclassifier = SVC(kernel='sigmoid').fit(X_train_imbal, y_train_imbal)"
      ],
      "execution_count": null,
      "outputs": []
    },
    {
      "cell_type": "code",
      "metadata": {
        "id": "iHoDG5oJf9J_",
        "colab_type": "code",
        "colab": {
          "base_uri": "https://localhost:8080/",
          "height": 204
        },
        "outputId": "21047aa1-d4e5-4270-e75e-178fb8846bb8"
      },
      "source": [
        "y_pred_m4_svm_sigmoid = svclassifier.predict(X_test)\n",
        "\n",
        "print(confusion_matrix(y_test,y_pred_m4_svm_sigmoid))\n",
        "print(classification_report(y_test,y_pred_m4_svm_sigmoid))"
      ],
      "execution_count": null,
      "outputs": [
        {
          "output_type": "stream",
          "text": [
            "[[2200 1143]\n",
            " [3765 1906]]\n",
            "              precision    recall  f1-score   support\n",
            "\n",
            "         0.0       0.37      0.66      0.47      3343\n",
            "         1.0       0.63      0.34      0.44      5671\n",
            "\n",
            "    accuracy                           0.46      9014\n",
            "   macro avg       0.50      0.50      0.45      9014\n",
            "weighted avg       0.53      0.46      0.45      9014\n",
            "\n"
          ],
          "name": "stdout"
        }
      ]
    },
    {
      "cell_type": "markdown",
      "metadata": {
        "id": "xrZhivC6gBLU",
        "colab_type": "text"
      },
      "source": [
        "| ACTUAL\\PREDICTED          | Mismatch (0) | Match (1) | TOTAL |\n",
        "|---------------------------|---------------------|-------------------------|-------|\n",
        "|    Mismatch (0)|      2200             |        1143              |   3343   |\n",
        "|  Match (1)      |      3765             |        1906              |   5671  |\n",
        "|        TOTAL              |      5965             |        3049              |   9014  |"
      ]
    },
    {
      "cell_type": "code",
      "metadata": {
        "id": "L5tbDMBC2z8D",
        "colab_type": "code",
        "colab": {}
      },
      "source": [
        "m4_svm_sigmoid_auc = roc_auc_score(y_test, y_pred_m4_svm_sigmoid)"
      ],
      "execution_count": null,
      "outputs": []
    },
    {
      "cell_type": "code",
      "metadata": {
        "id": "tIXcTlnyf-7H",
        "colab_type": "code",
        "colab": {}
      },
      "source": [
        "M4_sp_SVM_sigmoid=0.37\n",
        "M4_se_SVM_sigmoid=0.66\n",
        "M4_acc_SVM_sigmoid=0.46"
      ],
      "execution_count": null,
      "outputs": []
    },
    {
      "cell_type": "code",
      "metadata": {
        "id": "WwVff0KOgWvz",
        "colab_type": "code",
        "colab": {}
      },
      "source": [
        "svm_sigmoid_m4 = {'Model':\"Imbalanced - Mismatch\", 'Classifier':\"SVM - Sigmoid\", 'Specificity':M4_sp_SVM_sigmoid, 'Sensitivity':M4_se_SVM_sigmoid, 'Accuracy':M4_acc_SVM_sigmoid, 'AUC': m4_svm_sigmoid_auc}\n",
        "results = results.append(svm_sigmoid_m4, ignore_index=True)"
      ],
      "execution_count": null,
      "outputs": []
    },
    {
      "cell_type": "markdown",
      "metadata": {
        "id": "EHMqdR4XkN33",
        "colab_type": "text"
      },
      "source": [
        "# **NAIVE BAYES (GAUSSIAN)**"
      ]
    },
    {
      "cell_type": "markdown",
      "metadata": {
        "id": "efhjO8LnkgGe",
        "colab_type": "text"
      },
      "source": [
        "**Model 1 - Imbalanced towards Match**"
      ]
    },
    {
      "cell_type": "code",
      "metadata": {
        "id": "fG3cmp8iggW9",
        "colab_type": "code",
        "colab": {}
      },
      "source": [
        "gnb = GaussianNB().fit(X_train, y_train)"
      ],
      "execution_count": null,
      "outputs": []
    },
    {
      "cell_type": "code",
      "metadata": {
        "id": "2zitHlnRkmUC",
        "colab_type": "code",
        "colab": {
          "base_uri": "https://localhost:8080/",
          "height": 204
        },
        "outputId": "46c0ef97-eb08-4c5d-9df5-17ca79d38f72"
      },
      "source": [
        "y_pred_m1_naive_gaussian = gnb.predict(X_test) \n",
        "print(confusion_matrix(y_test,y_pred_m1_naive_gaussian))\n",
        "print(classification_report(y_test,y_pred_m1_naive_gaussian))"
      ],
      "execution_count": null,
      "outputs": [
        {
          "output_type": "stream",
          "text": [
            "[[3343    0]\n",
            " [   0 5671]]\n",
            "              precision    recall  f1-score   support\n",
            "\n",
            "         0.0       1.00      1.00      1.00      3343\n",
            "         1.0       1.00      1.00      1.00      5671\n",
            "\n",
            "    accuracy                           1.00      9014\n",
            "   macro avg       1.00      1.00      1.00      9014\n",
            "weighted avg       1.00      1.00      1.00      9014\n",
            "\n"
          ],
          "name": "stdout"
        }
      ]
    },
    {
      "cell_type": "markdown",
      "metadata": {
        "id": "NkyguRIek414",
        "colab_type": "text"
      },
      "source": [
        "| ACTUAL\\PREDICTED          | Mismatch (0) | Match (1) | TOTAL |\n",
        "|---------------------------|---------------------|-------------------------|-------|\n",
        "|    Mismatch (0)|      3343             |        0              |   3343   |\n",
        "|  Match (1)      |      0             |        5671              |   5671  |\n",
        "|        TOTAL              |      3343             |        5671              |   9014  |"
      ]
    },
    {
      "cell_type": "code",
      "metadata": {
        "id": "6E-oEthf4WDk",
        "colab_type": "code",
        "colab": {}
      },
      "source": [
        "m1_naive_gaussian_auc = roc_auc_score(y_test, y_pred_m1_naive_gaussian)"
      ],
      "execution_count": null,
      "outputs": []
    },
    {
      "cell_type": "code",
      "metadata": {
        "id": "ZgouiP4ukoK0",
        "colab_type": "code",
        "colab": {}
      },
      "source": [
        "M1_sp_naive_gaussian=1.00\n",
        "M1_se_naive_gaussian=1.00\n",
        "M1_acc_naive_gaussian=1.00"
      ],
      "execution_count": null,
      "outputs": []
    },
    {
      "cell_type": "code",
      "metadata": {
        "id": "-GBgaMAVlYCT",
        "colab_type": "code",
        "colab": {}
      },
      "source": [
        "naive_gaussian_m1 = {'Model':\"Imbalanced - Match\", 'Classifier':\"Naive Bayes - Gaussian\", 'Specificity':M1_sp_naive_gaussian, 'Sensitivity':M1_se_naive_gaussian, 'Accuracy':M1_acc_naive_gaussian, 'AUC': m1_naive_gaussian_auc}\n",
        "results = results.append(naive_gaussian_m1, ignore_index=True)"
      ],
      "execution_count": null,
      "outputs": []
    },
    {
      "cell_type": "markdown",
      "metadata": {
        "id": "WIYtrG-GnzjC",
        "colab_type": "text"
      },
      "source": [
        "**Model 2 - Manually Balanced**"
      ]
    },
    {
      "cell_type": "code",
      "metadata": {
        "id": "wm942fsjm5Ty",
        "colab_type": "code",
        "colab": {}
      },
      "source": [
        "gnb = GaussianNB().fit(X_train_bal, y_train_bal)"
      ],
      "execution_count": null,
      "outputs": []
    },
    {
      "cell_type": "code",
      "metadata": {
        "id": "z49Zvu7Tn_6j",
        "colab_type": "code",
        "colab": {
          "base_uri": "https://localhost:8080/",
          "height": 204
        },
        "outputId": "8a3ad944-a897-4e59-8e56-d9680ee9017d"
      },
      "source": [
        "y_pred_m2_naive_gaussian = gnb.predict(X_test) \n",
        "print(confusion_matrix(y_test,y_pred_m2_naive_gaussian))\n",
        "print(classification_report(y_test,y_pred_m2_naive_gaussian))"
      ],
      "execution_count": null,
      "outputs": [
        {
          "output_type": "stream",
          "text": [
            "[[3343    0]\n",
            " [   0 5671]]\n",
            "              precision    recall  f1-score   support\n",
            "\n",
            "         0.0       1.00      1.00      1.00      3343\n",
            "         1.0       1.00      1.00      1.00      5671\n",
            "\n",
            "    accuracy                           1.00      9014\n",
            "   macro avg       1.00      1.00      1.00      9014\n",
            "weighted avg       1.00      1.00      1.00      9014\n",
            "\n"
          ],
          "name": "stdout"
        }
      ]
    },
    {
      "cell_type": "markdown",
      "metadata": {
        "id": "IPcAd-l3oKm3",
        "colab_type": "text"
      },
      "source": [
        "| ACTUAL\\PREDICTED          | Mismatch (0) | Match (1) | TOTAL |\n",
        "|---------------------------|---------------------|-------------------------|-------|\n",
        "|    Mismatch (0)|      3343             |        0              |   3343   |\n",
        "|  Match (1)      |      0             |        5671             |   5671  |\n",
        "|        TOTAL              |      3343             |        5671              |   9014  |"
      ]
    },
    {
      "cell_type": "code",
      "metadata": {
        "id": "o6F9qGND47wz",
        "colab_type": "code",
        "colab": {}
      },
      "source": [
        "m2_naive_gaussian_auc = roc_auc_score(y_test, y_pred_m2_naive_gaussian)"
      ],
      "execution_count": null,
      "outputs": []
    },
    {
      "cell_type": "code",
      "metadata": {
        "id": "k2BKXoJPoCCH",
        "colab_type": "code",
        "colab": {}
      },
      "source": [
        "M2_sp_naive_gaussian=1.00\n",
        "M2_se_naive_gaussian=1.00\n",
        "M2_acc_naive_gaussian=1.00"
      ],
      "execution_count": null,
      "outputs": []
    },
    {
      "cell_type": "code",
      "metadata": {
        "id": "YpyhzUL1oc_f",
        "colab_type": "code",
        "colab": {}
      },
      "source": [
        "naive_gaussian_m2 = {'Model':\"Balanced - Manual\", 'Classifier':\"Naive Bayes - Gaussian\", 'Specificity':M2_sp_naive_gaussian, 'Sensitivity':M2_se_naive_gaussian, 'Accuracy':M2_acc_naive_gaussian, 'AUC': m2_naive_gaussian_auc}\n",
        "results = results.append(naive_gaussian_m2, ignore_index=True)"
      ],
      "execution_count": null,
      "outputs": []
    },
    {
      "cell_type": "markdown",
      "metadata": {
        "id": "ese3046apTYu",
        "colab_type": "text"
      },
      "source": [
        "**Model 3 - SMOTE Balanced**"
      ]
    },
    {
      "cell_type": "code",
      "metadata": {
        "id": "IgIF-8INonnW",
        "colab_type": "code",
        "colab": {}
      },
      "source": [
        "gnb = GaussianNB().fit(X_train_resampled, y_train_resampled)"
      ],
      "execution_count": null,
      "outputs": []
    },
    {
      "cell_type": "code",
      "metadata": {
        "id": "aIHdl2RmpiZV",
        "colab_type": "code",
        "colab": {
          "base_uri": "https://localhost:8080/",
          "height": 204
        },
        "outputId": "df9cf603-d86b-4145-e1c5-dc6d37a24168"
      },
      "source": [
        "y_pred_m3_naive_gaussian = gnb.predict(X_test) \n",
        "print(confusion_matrix(y_test,y_pred_m3_naive_gaussian))\n",
        "print(classification_report(y_test,y_pred_m3_naive_gaussian))"
      ],
      "execution_count": null,
      "outputs": [
        {
          "output_type": "stream",
          "text": [
            "[[3343    0]\n",
            " [   0 5671]]\n",
            "              precision    recall  f1-score   support\n",
            "\n",
            "         0.0       1.00      1.00      1.00      3343\n",
            "         1.0       1.00      1.00      1.00      5671\n",
            "\n",
            "    accuracy                           1.00      9014\n",
            "   macro avg       1.00      1.00      1.00      9014\n",
            "weighted avg       1.00      1.00      1.00      9014\n",
            "\n"
          ],
          "name": "stdout"
        }
      ]
    },
    {
      "cell_type": "markdown",
      "metadata": {
        "id": "iecRVtWIpnzY",
        "colab_type": "text"
      },
      "source": [
        "| ACTUAL\\PREDICTED          | Mismatch (0) | Match (1) | TOTAL |\n",
        "|---------------------------|---------------------|-------------------------|-------|\n",
        "|    Mismatch (0)|      3343             |        0              |   3343   |\n",
        "|  Match (1)      |      0             |        5671             |   5671  |\n",
        "|        TOTAL              |      3343             |        5671              |   9014  |"
      ]
    },
    {
      "cell_type": "code",
      "metadata": {
        "id": "wozn3_mx61rR",
        "colab_type": "code",
        "colab": {}
      },
      "source": [
        "m3_naive_gaussian_auc = roc_auc_score(y_test, y_pred_m3_naive_gaussian)"
      ],
      "execution_count": null,
      "outputs": []
    },
    {
      "cell_type": "code",
      "metadata": {
        "id": "epMCn4dtpks2",
        "colab_type": "code",
        "colab": {}
      },
      "source": [
        "M3_sp_naive_gaussian=1.00\n",
        "M3_se_naive_gaussian=1.00\n",
        "M3_acc_naive_gaussian=1.00"
      ],
      "execution_count": null,
      "outputs": []
    },
    {
      "cell_type": "code",
      "metadata": {
        "id": "vdGmbN8Lp2D9",
        "colab_type": "code",
        "colab": {}
      },
      "source": [
        "naive_gaussian_m3 = {'Model':\"Balanced - SMOTE\", 'Classifier':\"Naive Bayes - Gaussian\", 'Specificity':M3_sp_naive_gaussian, 'Sensitivity':M3_se_naive_gaussian, 'Accuracy':M3_acc_naive_gaussian, 'AUC': m3_naive_gaussian_auc}\n",
        "results = results.append(naive_gaussian_m3, ignore_index=True)"
      ],
      "execution_count": null,
      "outputs": []
    },
    {
      "cell_type": "markdown",
      "metadata": {
        "id": "S9iZEb_jqyJx",
        "colab_type": "text"
      },
      "source": [
        "**Model 4 - Imbalanced towards Mismatch**"
      ]
    },
    {
      "cell_type": "code",
      "metadata": {
        "id": "BnKI96Hsp-Ry",
        "colab_type": "code",
        "colab": {}
      },
      "source": [
        "gnb = GaussianNB().fit(X_train_imbal, y_train_imbal)"
      ],
      "execution_count": null,
      "outputs": []
    },
    {
      "cell_type": "code",
      "metadata": {
        "id": "xwf4lIVyq99-",
        "colab_type": "code",
        "colab": {
          "base_uri": "https://localhost:8080/",
          "height": 204
        },
        "outputId": "19be0114-6909-43cf-9f4a-21dd19c37ccc"
      },
      "source": [
        "y_pred_m4_naive_gaussian = gnb.predict(X_test) \n",
        "print(confusion_matrix(y_test,y_pred_m4_naive_gaussian))\n",
        "print(classification_report(y_test,y_pred_m4_naive_gaussian))"
      ],
      "execution_count": null,
      "outputs": [
        {
          "output_type": "stream",
          "text": [
            "[[3343    0]\n",
            " [   0 5671]]\n",
            "              precision    recall  f1-score   support\n",
            "\n",
            "         0.0       1.00      1.00      1.00      3343\n",
            "         1.0       1.00      1.00      1.00      5671\n",
            "\n",
            "    accuracy                           1.00      9014\n",
            "   macro avg       1.00      1.00      1.00      9014\n",
            "weighted avg       1.00      1.00      1.00      9014\n",
            "\n"
          ],
          "name": "stdout"
        }
      ]
    },
    {
      "cell_type": "markdown",
      "metadata": {
        "id": "Y4ovrQjprDRq",
        "colab_type": "text"
      },
      "source": [
        "| ACTUAL\\PREDICTED          | Mismatch (0) | Match (1) | TOTAL |\n",
        "|---------------------------|---------------------|-------------------------|-------|\n",
        "|    Mismatch (0)|      3343             |        0              |   3343   |\n",
        "|  Match (1)      |      0             |        5671             |   5671  |\n",
        "|        TOTAL              |      3343             |        5671              |   9014  |"
      ]
    },
    {
      "cell_type": "code",
      "metadata": {
        "id": "bWPtI21t7HVK",
        "colab_type": "code",
        "colab": {}
      },
      "source": [
        "m4_naive_gaussian_auc = roc_auc_score(y_test, y_pred_m4_naive_gaussian)"
      ],
      "execution_count": null,
      "outputs": []
    },
    {
      "cell_type": "code",
      "metadata": {
        "id": "TALxSYlTrBFk",
        "colab_type": "code",
        "colab": {}
      },
      "source": [
        "M4_sp_naive_gaussian=1.00\n",
        "M4_se_naive_gaussian=1.00\n",
        "M4_acc_naive_gaussian=1.00"
      ],
      "execution_count": null,
      "outputs": []
    },
    {
      "cell_type": "code",
      "metadata": {
        "id": "1IlDso45rbUd",
        "colab_type": "code",
        "colab": {}
      },
      "source": [
        "naive_gaussian_m4 = {'Model':\"Imbalanced - Mismatch\", 'Classifier':\"Naive Bayes - Gaussian\", 'Specificity':M4_sp_naive_gaussian, 'Sensitivity':M4_se_naive_gaussian, 'Accuracy':M4_acc_naive_gaussian, 'AUC': m4_naive_gaussian_auc}\n",
        "results = results.append(naive_gaussian_m4, ignore_index=True)"
      ],
      "execution_count": null,
      "outputs": []
    },
    {
      "cell_type": "markdown",
      "metadata": {
        "id": "d_FUhx82yuSn",
        "colab_type": "text"
      },
      "source": [
        "# **Naive Bayes (Bernoulli)**"
      ]
    },
    {
      "cell_type": "markdown",
      "metadata": {
        "id": "fL173PA6y3hz",
        "colab_type": "text"
      },
      "source": [
        "**Model 1 - Imbalanced towards Match**"
      ]
    },
    {
      "cell_type": "code",
      "metadata": {
        "id": "_se-zY6RrnGL",
        "colab_type": "code",
        "colab": {}
      },
      "source": [
        "gnb = BernoulliNB().fit(X_train, y_train)"
      ],
      "execution_count": null,
      "outputs": []
    },
    {
      "cell_type": "code",
      "metadata": {
        "id": "GqpLXvbfzEmM",
        "colab_type": "code",
        "colab": {
          "base_uri": "https://localhost:8080/",
          "height": 204
        },
        "outputId": "2174b9b7-c4c9-4cbb-ec78-b867400c2d87"
      },
      "source": [
        "y_pred_m1_naive_bernoulli = gnb.predict(X_test) \n",
        "print(confusion_matrix(y_test,y_pred_m1_naive_bernoulli))\n",
        "print(classification_report(y_test,y_pred_m1_naive_bernoulli))"
      ],
      "execution_count": null,
      "outputs": [
        {
          "output_type": "stream",
          "text": [
            "[[1127 2216]\n",
            " [1024 4647]]\n",
            "              precision    recall  f1-score   support\n",
            "\n",
            "         0.0       0.52      0.34      0.41      3343\n",
            "         1.0       0.68      0.82      0.74      5671\n",
            "\n",
            "    accuracy                           0.64      9014\n",
            "   macro avg       0.60      0.58      0.58      9014\n",
            "weighted avg       0.62      0.64      0.62      9014\n",
            "\n"
          ],
          "name": "stdout"
        }
      ]
    },
    {
      "cell_type": "markdown",
      "metadata": {
        "id": "SO-laNKQ_NkO",
        "colab_type": "text"
      },
      "source": [
        "| ACTUAL\\PREDICTED          | Mismatch (0) | Match (1) | TOTAL |\n",
        "|---------------------------|---------------------|-------------------------|-------|\n",
        "|    Mismatch (0)|      1127             |       2216              |   3343   |\n",
        "|  Match (1)      |      1024             |        4647             |   5671  |\n",
        "|        TOTAL              |      2151             |        6863              |   9014  |"
      ]
    },
    {
      "cell_type": "code",
      "metadata": {
        "id": "L3DL79S87i6J",
        "colab_type": "code",
        "colab": {}
      },
      "source": [
        "m1_naive_bernoulli_auc = roc_auc_score(y_test, y_pred_m1_naive_bernoulli)"
      ],
      "execution_count": null,
      "outputs": []
    },
    {
      "cell_type": "code",
      "metadata": {
        "id": "ft8MigV3zpsb",
        "colab_type": "code",
        "colab": {}
      },
      "source": [
        "M1_sp_naive_bernoulli=0.52\n",
        "M1_se_naive_bernoulli=0.34\n",
        "M1_acc_naive_bernoulli=0.64"
      ],
      "execution_count": null,
      "outputs": []
    },
    {
      "cell_type": "code",
      "metadata": {
        "id": "EXzv0DMa_vio",
        "colab_type": "code",
        "colab": {}
      },
      "source": [
        "naive_bernoullii_m1 = {'Model':\"Imbalanced - Match\", 'Classifier':\"Naive Bayes - Bernoulli\", 'Specificity':M1_sp_naive_bernoulli, 'Sensitivity':M1_se_naive_bernoulli, 'Accuracy':M1_acc_naive_bernoulli, 'AUC':m1_naive_bernoulli_auc}\n",
        "results = results.append(naive_bernoullii_m1, ignore_index=True)"
      ],
      "execution_count": null,
      "outputs": []
    },
    {
      "cell_type": "markdown",
      "metadata": {
        "id": "iVeWbhXiAXlZ",
        "colab_type": "text"
      },
      "source": [
        "**Model 2 - Manually Balanced**"
      ]
    },
    {
      "cell_type": "code",
      "metadata": {
        "id": "3ufssO5gAEGb",
        "colab_type": "code",
        "colab": {}
      },
      "source": [
        "gnb = BernoulliNB().fit(X_train_bal, y_train_bal)"
      ],
      "execution_count": null,
      "outputs": []
    },
    {
      "cell_type": "code",
      "metadata": {
        "id": "Yw2VKpE7AhGt",
        "colab_type": "code",
        "colab": {
          "base_uri": "https://localhost:8080/",
          "height": 204
        },
        "outputId": "bd0b58b3-3709-4b46-e380-a39c768af071"
      },
      "source": [
        "y_pred_m2_naive_bernoulli = gnb.predict(X_test) \n",
        "print(confusion_matrix(y_test,y_pred_m2_naive_bernoulli))\n",
        "print(classification_report(y_test,y_pred_m2_naive_bernoulli))"
      ],
      "execution_count": null,
      "outputs": [
        {
          "output_type": "stream",
          "text": [
            "[[1127 2216]\n",
            " [1024 4647]]\n",
            "              precision    recall  f1-score   support\n",
            "\n",
            "         0.0       0.52      0.34      0.41      3343\n",
            "         1.0       0.68      0.82      0.74      5671\n",
            "\n",
            "    accuracy                           0.64      9014\n",
            "   macro avg       0.60      0.58      0.58      9014\n",
            "weighted avg       0.62      0.64      0.62      9014\n",
            "\n"
          ],
          "name": "stdout"
        }
      ]
    },
    {
      "cell_type": "markdown",
      "metadata": {
        "id": "6_bfnVwHAllJ",
        "colab_type": "text"
      },
      "source": [
        "| ACTUAL\\PREDICTED          | Mismatch (0) | Match (1) | TOTAL |\n",
        "|---------------------------|---------------------|-------------------------|-------|\n",
        "|    Mismatch (0)|      1127             |        2216              |   3343   |\n",
        "|  Match (1)      |      1024             |        4647             |   5171  |\n",
        "|        TOTAL              |      2151             |        6863              |   9014  |"
      ]
    },
    {
      "cell_type": "code",
      "metadata": {
        "id": "rJpzJGoP9q4r",
        "colab_type": "code",
        "colab": {}
      },
      "source": [
        "m2_naive_bernoulli_auc = roc_auc_score(y_test, y_pred_m2_naive_bernoulli)"
      ],
      "execution_count": null,
      "outputs": []
    },
    {
      "cell_type": "code",
      "metadata": {
        "id": "vui29GS7AjRQ",
        "colab_type": "code",
        "colab": {}
      },
      "source": [
        "M2_sp_naive_bernoulli=0.52\n",
        "M2_se_naive_bernoulli=0.34\n",
        "M2_acc_naive_bernoulli=0.64"
      ],
      "execution_count": null,
      "outputs": []
    },
    {
      "cell_type": "code",
      "metadata": {
        "id": "jYSUcxSHAvD-",
        "colab_type": "code",
        "colab": {}
      },
      "source": [
        "naive_bernoullii_m2 = {'Model':\"Balanced - Manual\", 'Classifier':\"Naive Bayes - Bernoulli\", 'Specificity':M2_sp_naive_bernoulli, 'Sensitivity':M2_se_naive_bernoulli, 'Accuracy':M2_acc_naive_bernoulli, 'AUC':m2_naive_bernoulli_auc}\n",
        "results = results.append(naive_bernoullii_m2, ignore_index=True)"
      ],
      "execution_count": null,
      "outputs": []
    },
    {
      "cell_type": "markdown",
      "metadata": {
        "id": "hylGD_pQA_ay",
        "colab_type": "text"
      },
      "source": [
        "**Model 3 - SMOTE Balanced**"
      ]
    },
    {
      "cell_type": "code",
      "metadata": {
        "id": "SwRIis2cA3-a",
        "colab_type": "code",
        "colab": {}
      },
      "source": [
        "gnb = BernoulliNB().fit(X_train_resampled, y_train_resampled)"
      ],
      "execution_count": null,
      "outputs": []
    },
    {
      "cell_type": "code",
      "metadata": {
        "id": "XoW-yDCbBMS1",
        "colab_type": "code",
        "colab": {
          "base_uri": "https://localhost:8080/",
          "height": 204
        },
        "outputId": "fd1d93ee-7085-4d40-e606-458095405d48"
      },
      "source": [
        "y_pred_m3_naive_bernoulli = gnb.predict(X_test) \n",
        "print(confusion_matrix(y_test,y_pred_m3_naive_bernoulli))\n",
        "print(classification_report(y_test,y_pred_m3_naive_bernoulli))"
      ],
      "execution_count": null,
      "outputs": [
        {
          "output_type": "stream",
          "text": [
            "[[1127 2216]\n",
            " [1024 4647]]\n",
            "              precision    recall  f1-score   support\n",
            "\n",
            "         0.0       0.52      0.34      0.41      3343\n",
            "         1.0       0.68      0.82      0.74      5671\n",
            "\n",
            "    accuracy                           0.64      9014\n",
            "   macro avg       0.60      0.58      0.58      9014\n",
            "weighted avg       0.62      0.64      0.62      9014\n",
            "\n"
          ],
          "name": "stdout"
        }
      ]
    },
    {
      "cell_type": "markdown",
      "metadata": {
        "id": "lqoQjIWBBURp",
        "colab_type": "text"
      },
      "source": [
        "| ACTUAL\\PREDICTED          | Mismatch (0) | Match (1) | TOTAL |\n",
        "|---------------------------|---------------------|-------------------------|-------|\n",
        "|    Mismatch (0)|      1127             |        2216              |   3343   |\n",
        "|  Match (1)      |      1024             |        4647             |   5171  |\n",
        "|        TOTAL              |      2151             |        6863              |   9014  |"
      ]
    },
    {
      "cell_type": "code",
      "metadata": {
        "id": "_qKcYjzu-nqP",
        "colab_type": "code",
        "colab": {}
      },
      "source": [
        "m3_naive_bernoulli_auc = roc_auc_score(y_test, y_pred_m3_naive_bernoulli)"
      ],
      "execution_count": null,
      "outputs": []
    },
    {
      "cell_type": "code",
      "metadata": {
        "id": "-Nkwg9I9BOl-",
        "colab_type": "code",
        "colab": {}
      },
      "source": [
        "M3_sp_naive_bernoulli=0.52\n",
        "M3_se_naive_bernoulli=0.34\n",
        "M3_acc_naive_bernoulli=0.64"
      ],
      "execution_count": null,
      "outputs": []
    },
    {
      "cell_type": "code",
      "metadata": {
        "id": "b4-v0T9pBgZJ",
        "colab_type": "code",
        "colab": {}
      },
      "source": [
        "naive_bernoullii_m3 = {'Model':\"Balanced - SMOTE\", 'Classifier':\"Naive Bayes - Bernoulli\", 'Specificity':M3_sp_naive_bernoulli, 'Sensitivity':M3_se_naive_bernoulli, 'Accuracy':M3_acc_naive_bernoulli, 'AUC':m3_naive_bernoulli_auc}\n",
        "results = results.append(naive_bernoullii_m3, ignore_index=True)"
      ],
      "execution_count": null,
      "outputs": []
    },
    {
      "cell_type": "markdown",
      "metadata": {
        "id": "1MpR7bJWB4UG",
        "colab_type": "text"
      },
      "source": [
        "**Model 4 - Imbalanced towards Mismatch**"
      ]
    },
    {
      "cell_type": "code",
      "metadata": {
        "id": "XFom6HC_BpFd",
        "colab_type": "code",
        "colab": {}
      },
      "source": [
        "gnb = BernoulliNB().fit(X_train_imbal, y_train_imbal)"
      ],
      "execution_count": null,
      "outputs": []
    },
    {
      "cell_type": "code",
      "metadata": {
        "id": "ZzqUtpWSB_9d",
        "colab_type": "code",
        "colab": {
          "base_uri": "https://localhost:8080/",
          "height": 204
        },
        "outputId": "6f621547-c86c-4883-a313-0deb064fc2c6"
      },
      "source": [
        "y_pred_m4_naive_bernoulli = gnb.predict(X_test) \n",
        "print(confusion_matrix(y_test,y_pred_m4_naive_bernoulli))\n",
        "print(classification_report(y_test,y_pred_m4_naive_bernoulli))"
      ],
      "execution_count": null,
      "outputs": [
        {
          "output_type": "stream",
          "text": [
            "[[3343    0]\n",
            " [5631   40]]\n",
            "              precision    recall  f1-score   support\n",
            "\n",
            "         0.0       0.37      1.00      0.54      3343\n",
            "         1.0       1.00      0.01      0.01      5671\n",
            "\n",
            "    accuracy                           0.38      9014\n",
            "   macro avg       0.69      0.50      0.28      9014\n",
            "weighted avg       0.77      0.38      0.21      9014\n",
            "\n"
          ],
          "name": "stdout"
        }
      ]
    },
    {
      "cell_type": "markdown",
      "metadata": {
        "id": "4VGrm7H7CKVl",
        "colab_type": "text"
      },
      "source": [
        "| ACTUAL\\PREDICTED          | Mismatch (0) | Match (1) | TOTAL |\n",
        "|---------------------------|---------------------|-------------------------|-------|\n",
        "|    Mismatch (0)|      3343             |        0              |   3343   |\n",
        "|  Match (1)      |      5631             |        40             |   5171  |\n",
        "|        TOTAL              |      8974             |        40              |   9014  |"
      ]
    },
    {
      "cell_type": "code",
      "metadata": {
        "id": "tbgp6nbL_Pzb",
        "colab_type": "code",
        "colab": {}
      },
      "source": [
        "m4_naive_bernoulli_auc = roc_auc_score(y_test, y_pred_m4_naive_bernoulli)"
      ],
      "execution_count": null,
      "outputs": []
    },
    {
      "cell_type": "code",
      "metadata": {
        "id": "vjSei9qcCHe9",
        "colab_type": "code",
        "colab": {}
      },
      "source": [
        "M4_sp_naive_bernoulli=0.37\n",
        "M4_se_naive_bernoulli=1.00\n",
        "M4_acc_naive_bernoulli=0.38"
      ],
      "execution_count": null,
      "outputs": []
    },
    {
      "cell_type": "code",
      "metadata": {
        "id": "g27KSEB5CRAb",
        "colab_type": "code",
        "colab": {}
      },
      "source": [
        "naive_bernoullii_m4 = {'Model':\"Imbalanced - Mismatch\", 'Classifier':\"Naive Bayes - Bernoulli\", 'Specificity':M4_sp_naive_bernoulli, 'Sensitivity':M4_se_naive_bernoulli, 'Accuracy':M4_acc_naive_bernoulli, 'AUC':m4_naive_bernoulli_auc}\n",
        "results = results.append(naive_bernoullii_m4, ignore_index=True)"
      ],
      "execution_count": null,
      "outputs": []
    },
    {
      "cell_type": "markdown",
      "metadata": {
        "id": "oDnRP3X_D24_",
        "colab_type": "text"
      },
      "source": [
        "# **Random Forest**\n",
        "\n"
      ]
    },
    {
      "cell_type": "markdown",
      "metadata": {
        "id": "bUe0wpqKEC3p",
        "colab_type": "text"
      },
      "source": [
        "**Model 1 - Imbalanced towards Match**"
      ]
    },
    {
      "cell_type": "code",
      "metadata": {
        "id": "j_IhCqBDCZ0b",
        "colab_type": "code",
        "colab": {}
      },
      "source": [
        "rf = RandomForestClassifier().fit(X_train, y_train)"
      ],
      "execution_count": null,
      "outputs": []
    },
    {
      "cell_type": "code",
      "metadata": {
        "id": "sy6nIt4MEMQG",
        "colab_type": "code",
        "colab": {
          "base_uri": "https://localhost:8080/",
          "height": 204
        },
        "outputId": "1134a588-d7cf-4e92-e0c9-a4e348bb5be9"
      },
      "source": [
        "y_pred_m1_rf = rf.predict(X_test)\n",
        "print(confusion_matrix(y_test,y_pred_m1_rf))\n",
        "print(classification_report(y_test,y_pred_m1_rf))"
      ],
      "execution_count": null,
      "outputs": [
        {
          "output_type": "stream",
          "text": [
            "[[3343    0]\n",
            " [   0 5671]]\n",
            "              precision    recall  f1-score   support\n",
            "\n",
            "         0.0       1.00      1.00      1.00      3343\n",
            "         1.0       1.00      1.00      1.00      5671\n",
            "\n",
            "    accuracy                           1.00      9014\n",
            "   macro avg       1.00      1.00      1.00      9014\n",
            "weighted avg       1.00      1.00      1.00      9014\n",
            "\n"
          ],
          "name": "stdout"
        }
      ]
    },
    {
      "cell_type": "markdown",
      "metadata": {
        "id": "IWtqR34rOsjb",
        "colab_type": "text"
      },
      "source": [
        "| ACTUAL\\PREDICTED          | Mismatch (0) | Match (1) | TOTAL |\n",
        "|---------------------------|---------------------|-------------------------|-------|\n",
        "|    Mismatch (0)|      3343             |        0              |   3343   |\n",
        "|  Match (1)      |      0             |        5671             |   5671  |\n",
        "|        TOTAL              |      3343             |        5671              |   9014  |"
      ]
    },
    {
      "cell_type": "code",
      "metadata": {
        "id": "ejXqqghvA20Y",
        "colab_type": "code",
        "colab": {}
      },
      "source": [
        "m1_rf_auc = roc_auc_score(y_test, y_pred_m1_rf)"
      ],
      "execution_count": null,
      "outputs": []
    },
    {
      "cell_type": "code",
      "metadata": {
        "id": "DSjGRa0_OJ0K",
        "colab_type": "code",
        "colab": {}
      },
      "source": [
        "M1_sp_rf=1.00\n",
        "M1_se_rf=1.00\n",
        "M1_acc_rf=1.00"
      ],
      "execution_count": null,
      "outputs": []
    },
    {
      "cell_type": "code",
      "metadata": {
        "id": "zv_oxR7bO_wh",
        "colab_type": "code",
        "colab": {}
      },
      "source": [
        "rf_m1 = {'Model':\"Imbalanced - Match\", 'Classifier':\"Random Forest\", 'Specificity':M1_sp_rf, 'Sensitivity':M1_se_rf, 'Accuracy':M1_acc_rf, 'AUC':m1_rf_auc}\n",
        "results = results.append(rf_m1, ignore_index=True)"
      ],
      "execution_count": null,
      "outputs": []
    },
    {
      "cell_type": "markdown",
      "metadata": {
        "id": "w0qjIzY4Pj6I",
        "colab_type": "text"
      },
      "source": [
        "**Model 2 - Manually Balanced**"
      ]
    },
    {
      "cell_type": "code",
      "metadata": {
        "id": "XdjYsDpCPVUB",
        "colab_type": "code",
        "colab": {}
      },
      "source": [
        "rf = RandomForestClassifier().fit(X_train_bal, y_train_bal)"
      ],
      "execution_count": null,
      "outputs": []
    },
    {
      "cell_type": "code",
      "metadata": {
        "id": "635SNFI2Qmzt",
        "colab_type": "code",
        "colab": {
          "base_uri": "https://localhost:8080/",
          "height": 204
        },
        "outputId": "a67bfd29-0faa-4b2b-d203-fd96310d3133"
      },
      "source": [
        "y_pred_m2_rf = rf.predict(X_test)\n",
        "print(confusion_matrix(y_test,y_pred_m2_rf))\n",
        "print(classification_report(y_test,y_pred_m2_rf))"
      ],
      "execution_count": null,
      "outputs": [
        {
          "output_type": "stream",
          "text": [
            "[[3343    0]\n",
            " [   0 5671]]\n",
            "              precision    recall  f1-score   support\n",
            "\n",
            "         0.0       1.00      1.00      1.00      3343\n",
            "         1.0       1.00      1.00      1.00      5671\n",
            "\n",
            "    accuracy                           1.00      9014\n",
            "   macro avg       1.00      1.00      1.00      9014\n",
            "weighted avg       1.00      1.00      1.00      9014\n",
            "\n"
          ],
          "name": "stdout"
        }
      ]
    },
    {
      "cell_type": "markdown",
      "metadata": {
        "id": "_XajmQ3LQu8V",
        "colab_type": "text"
      },
      "source": [
        "| ACTUAL\\PREDICTED          | Mismatch (0) | Match (1) | TOTAL |\n",
        "|---------------------------|---------------------|-------------------------|-------|\n",
        "|    Mismatch (0)|      3343             |        0              |   3343   |\n",
        "|  Match (1)      |      0             |        5671             |   5671  |\n",
        "|        TOTAL              |      3343             |        5671              |   9014  |"
      ]
    },
    {
      "cell_type": "code",
      "metadata": {
        "id": "GKH3H5nyBPEm",
        "colab_type": "code",
        "colab": {}
      },
      "source": [
        "m2_rf_auc = roc_auc_score(y_test, y_pred_m2_rf)"
      ],
      "execution_count": null,
      "outputs": []
    },
    {
      "cell_type": "code",
      "metadata": {
        "id": "FZMWcWQ4QpcM",
        "colab_type": "code",
        "colab": {}
      },
      "source": [
        "M2_sp_rf=1.00\n",
        "M2_se_rf=1.00\n",
        "M2_acc_rf=1.00"
      ],
      "execution_count": null,
      "outputs": []
    },
    {
      "cell_type": "code",
      "metadata": {
        "id": "NRGw0jkkRF8O",
        "colab_type": "code",
        "colab": {}
      },
      "source": [
        "rf_m2 = {'Model':\"Balanced - Manual\", 'Classifier':\"Random Forest\", 'Specificity':M2_sp_rf, 'Sensitivity':M2_se_rf, 'Accuracy':M2_acc_rf, 'AUC':m2_rf_auc}\n",
        "results = results.append(rf_m2, ignore_index=True)"
      ],
      "execution_count": null,
      "outputs": []
    },
    {
      "cell_type": "markdown",
      "metadata": {
        "id": "bDA44BYwR0n8",
        "colab_type": "text"
      },
      "source": [
        "**Model 3 - SMOTE Balanced**"
      ]
    },
    {
      "cell_type": "code",
      "metadata": {
        "id": "cRJ9bbTyRPee",
        "colab_type": "code",
        "colab": {}
      },
      "source": [
        "rf = RandomForestClassifier().fit(X_train_resampled, y_train_resampled)"
      ],
      "execution_count": null,
      "outputs": []
    },
    {
      "cell_type": "code",
      "metadata": {
        "id": "QQzcEygIR_TX",
        "colab_type": "code",
        "colab": {
          "base_uri": "https://localhost:8080/",
          "height": 204
        },
        "outputId": "502f88df-6734-47b2-9ee8-ae6c9158cf46"
      },
      "source": [
        "y_pred_m3_rf = rf.predict(X_test)\n",
        "print(confusion_matrix(y_test,y_pred_m3_rf))\n",
        "print(classification_report(y_test,y_pred_m3_rf))"
      ],
      "execution_count": null,
      "outputs": [
        {
          "output_type": "stream",
          "text": [
            "[[3343    0]\n",
            " [   0 5671]]\n",
            "              precision    recall  f1-score   support\n",
            "\n",
            "         0.0       1.00      1.00      1.00      3343\n",
            "         1.0       1.00      1.00      1.00      5671\n",
            "\n",
            "    accuracy                           1.00      9014\n",
            "   macro avg       1.00      1.00      1.00      9014\n",
            "weighted avg       1.00      1.00      1.00      9014\n",
            "\n"
          ],
          "name": "stdout"
        }
      ]
    },
    {
      "cell_type": "markdown",
      "metadata": {
        "id": "evoKopPXSFdA",
        "colab_type": "text"
      },
      "source": [
        "| ACTUAL\\PREDICTED          | Mismatch (0) | Match (1) | TOTAL |\n",
        "|---------------------------|---------------------|-------------------------|-------|\n",
        "|    Mismatch (0)|      3343             |        0              |   3343   |\n",
        "|  Match (1)      |      0             |        5671             |   5671  |\n",
        "|        TOTAL              |      3343             |        5671              |   9014  |"
      ]
    },
    {
      "cell_type": "code",
      "metadata": {
        "id": "r6qislLQBitx",
        "colab_type": "code",
        "colab": {}
      },
      "source": [
        "m3_rf_auc = roc_auc_score(y_test, y_pred_m3_rf)"
      ],
      "execution_count": null,
      "outputs": []
    },
    {
      "cell_type": "code",
      "metadata": {
        "id": "5sOWna9oSBP9",
        "colab_type": "code",
        "colab": {}
      },
      "source": [
        "M3_sp_rf=1.00\n",
        "M3_se_rf=1.00\n",
        "M3_acc_rf=1.00"
      ],
      "execution_count": null,
      "outputs": []
    },
    {
      "cell_type": "code",
      "metadata": {
        "id": "ccA_2HgBSKjp",
        "colab_type": "code",
        "colab": {}
      },
      "source": [
        "rf_m3 = {'Model':\"Balanced - SMOTE\", 'Classifier':\"Random Forest\", 'Specificity':M3_sp_rf, 'Sensitivity':M3_se_rf, 'Accuracy':M3_acc_rf, 'AUC':m3_rf_auc}\n",
        "results = results.append(rf_m3, ignore_index=True)"
      ],
      "execution_count": null,
      "outputs": []
    },
    {
      "cell_type": "markdown",
      "metadata": {
        "id": "9w92meFjS4d7",
        "colab_type": "text"
      },
      "source": [
        "**Model 4 - Imbalanced towards Mismatch**"
      ]
    },
    {
      "cell_type": "code",
      "metadata": {
        "id": "YsEd2Rn0SWh9",
        "colab_type": "code",
        "colab": {}
      },
      "source": [
        "rf = RandomForestClassifier().fit(X_train_imbal, y_train_imbal)"
      ],
      "execution_count": null,
      "outputs": []
    },
    {
      "cell_type": "code",
      "metadata": {
        "id": "MI-E12NLTCe3",
        "colab_type": "code",
        "colab": {
          "base_uri": "https://localhost:8080/",
          "height": 204
        },
        "outputId": "f5f5457b-243c-458e-d641-8a7d0475070f"
      },
      "source": [
        "y_pred_m4_rf = rf.predict(X_test)\n",
        "print(confusion_matrix(y_test,y_pred_m4_rf))\n",
        "print(classification_report(y_test,y_pred_m4_rf))"
      ],
      "execution_count": null,
      "outputs": [
        {
          "output_type": "stream",
          "text": [
            "[[3343    0]\n",
            " [   0 5671]]\n",
            "              precision    recall  f1-score   support\n",
            "\n",
            "         0.0       1.00      1.00      1.00      3343\n",
            "         1.0       1.00      1.00      1.00      5671\n",
            "\n",
            "    accuracy                           1.00      9014\n",
            "   macro avg       1.00      1.00      1.00      9014\n",
            "weighted avg       1.00      1.00      1.00      9014\n",
            "\n"
          ],
          "name": "stdout"
        }
      ]
    },
    {
      "cell_type": "markdown",
      "metadata": {
        "id": "hhrRb2XkTHTo",
        "colab_type": "text"
      },
      "source": [
        "| ACTUAL\\PREDICTED          | Mismatch (0) | Match (1) | TOTAL |\n",
        "|---------------------------|---------------------|-------------------------|-------|\n",
        "|    Mismatch (0)|      3343             |        0              |   3343   |\n",
        "|  Match (1)      |      0             |        5671             |   5671  |\n",
        "|        TOTAL              |      3343             |        5671              |   9014  |"
      ]
    },
    {
      "cell_type": "code",
      "metadata": {
        "id": "FAy7kSBsB03C",
        "colab_type": "code",
        "colab": {}
      },
      "source": [
        "m4_rf_auc = roc_auc_score(y_test, y_pred_m4_rf)"
      ],
      "execution_count": null,
      "outputs": []
    },
    {
      "cell_type": "code",
      "metadata": {
        "id": "oK9ahhHnTE2b",
        "colab_type": "code",
        "colab": {}
      },
      "source": [
        "M4_sp_rf=1.00\n",
        "M4_se_rf=1.00\n",
        "M4_acc_rf=1.00"
      ],
      "execution_count": null,
      "outputs": []
    },
    {
      "cell_type": "code",
      "metadata": {
        "id": "vTsShlSDTPB_",
        "colab_type": "code",
        "colab": {}
      },
      "source": [
        "rf_m4 = {'Model':\"Imbalanced - Mismatch\", 'Classifier':\"Random Forest\", 'Specificity':M4_sp_rf, 'Sensitivity':M4_se_rf, 'Accuracy':M4_acc_rf, 'AUC':m4_rf_auc}\n",
        "results = results.append(rf_m4, ignore_index=True)"
      ],
      "execution_count": null,
      "outputs": []
    },
    {
      "cell_type": "markdown",
      "metadata": {
        "id": "AfebJpC9Z0W8",
        "colab_type": "text"
      },
      "source": [
        "# **LightGBM**"
      ]
    },
    {
      "cell_type": "markdown",
      "metadata": {
        "id": "I3L44TcxZ9Pi",
        "colab_type": "text"
      },
      "source": [
        "**Model 1 - Imbalanced towards Match**"
      ]
    },
    {
      "cell_type": "code",
      "metadata": {
        "id": "aK1CNNKgTaFn",
        "colab_type": "code",
        "colab": {}
      },
      "source": [
        "model = lgb.LGBMClassifier().fit(X_train, y_train)"
      ],
      "execution_count": null,
      "outputs": []
    },
    {
      "cell_type": "code",
      "metadata": {
        "id": "JJ89rRR0aTIw",
        "colab_type": "code",
        "colab": {
          "base_uri": "https://localhost:8080/",
          "height": 204
        },
        "outputId": "cae8eaf4-782e-412d-f61c-20643737c4a3"
      },
      "source": [
        "y_pred_m1_lgb = model.predict(X_test) \n",
        "print(confusion_matrix(y_test,y_pred_m1_lgb))\n",
        "print(classification_report(y_test,y_pred_m1_lgb))"
      ],
      "execution_count": null,
      "outputs": [
        {
          "output_type": "stream",
          "text": [
            "[[3343    0]\n",
            " [   0 5671]]\n",
            "              precision    recall  f1-score   support\n",
            "\n",
            "         0.0       1.00      1.00      1.00      3343\n",
            "         1.0       1.00      1.00      1.00      5671\n",
            "\n",
            "    accuracy                           1.00      9014\n",
            "   macro avg       1.00      1.00      1.00      9014\n",
            "weighted avg       1.00      1.00      1.00      9014\n",
            "\n"
          ],
          "name": "stdout"
        }
      ]
    },
    {
      "cell_type": "markdown",
      "metadata": {
        "id": "xjlXzHyYamQw",
        "colab_type": "text"
      },
      "source": [
        "| ACTUAL\\PREDICTED          | Mismatch (0) | Match (1) | TOTAL |\n",
        "|---------------------------|---------------------|-------------------------|-------|\n",
        "|    Mismatch (0)|      3343             |        0              |   3343   |\n",
        "|  Match (1)      |      0             |        5671             |   5671  |\n",
        "|        TOTAL              |      3343             |        5671              |   9014  |"
      ]
    },
    {
      "cell_type": "code",
      "metadata": {
        "id": "iLFd24ERCXmE",
        "colab_type": "code",
        "colab": {}
      },
      "source": [
        "m1_lgb_auc = roc_auc_score(y_test, y_pred_m1_lgb)"
      ],
      "execution_count": null,
      "outputs": []
    },
    {
      "cell_type": "code",
      "metadata": {
        "id": "ioRfxj70aVws",
        "colab_type": "code",
        "colab": {}
      },
      "source": [
        "M1_sp_lgb=1.00\n",
        "M1_se_lgb=1.00\n",
        "M1_acc_lgb=1.00"
      ],
      "execution_count": null,
      "outputs": []
    },
    {
      "cell_type": "code",
      "metadata": {
        "id": "YHF2ZJ3obCN-",
        "colab_type": "code",
        "colab": {}
      },
      "source": [
        "lgb_m1 = {'Model':\"Imbalanced - Match\", 'Classifier':\"Light GBM\", 'Specificity':M1_sp_lgb, 'Sensitivity':M1_se_lgb, 'Accuracy':M1_acc_lgb, 'AUC':m1_lgb_auc}\n",
        "results = results.append(lgb_m1, ignore_index=True)"
      ],
      "execution_count": null,
      "outputs": []
    },
    {
      "cell_type": "markdown",
      "metadata": {
        "id": "BNx9A_rcbcI4",
        "colab_type": "text"
      },
      "source": [
        "**Model 2 - Manually Balanced**"
      ]
    },
    {
      "cell_type": "code",
      "metadata": {
        "id": "JzGawDuRbTXb",
        "colab_type": "code",
        "colab": {}
      },
      "source": [
        "model = lgb.LGBMClassifier().fit(X_train_bal, y_train_bal)"
      ],
      "execution_count": null,
      "outputs": []
    },
    {
      "cell_type": "code",
      "metadata": {
        "id": "25RMCWK1bpwH",
        "colab_type": "code",
        "colab": {
          "base_uri": "https://localhost:8080/",
          "height": 204
        },
        "outputId": "ccd17824-66f3-4658-dd11-3b397886fd13"
      },
      "source": [
        "y_pred_m2_lgb = model.predict(X_test) \n",
        "print(confusion_matrix(y_test,y_pred_m2_lgb))\n",
        "print(classification_report(y_test,y_pred_m2_lgb))"
      ],
      "execution_count": null,
      "outputs": [
        {
          "output_type": "stream",
          "text": [
            "[[3343    0]\n",
            " [   0 5671]]\n",
            "              precision    recall  f1-score   support\n",
            "\n",
            "         0.0       1.00      1.00      1.00      3343\n",
            "         1.0       1.00      1.00      1.00      5671\n",
            "\n",
            "    accuracy                           1.00      9014\n",
            "   macro avg       1.00      1.00      1.00      9014\n",
            "weighted avg       1.00      1.00      1.00      9014\n",
            "\n"
          ],
          "name": "stdout"
        }
      ]
    },
    {
      "cell_type": "markdown",
      "metadata": {
        "id": "aJs5Qgmgbypz",
        "colab_type": "text"
      },
      "source": [
        "| ACTUAL\\PREDICTED          | Mismatch (0) | Match (1) | TOTAL |\n",
        "|---------------------------|---------------------|-------------------------|-------|\n",
        "|    Mismatch (0)|      3343             |        0              |   3343   |\n",
        "|  Match (1)      |      0             |        5671             |   5671  |\n",
        "|        TOTAL              |      3343             |        5671              |   9014  |"
      ]
    },
    {
      "cell_type": "code",
      "metadata": {
        "id": "WAzsYmseCtAE",
        "colab_type": "code",
        "colab": {}
      },
      "source": [
        "m2_lgb_auc = roc_auc_score(y_test, y_pred_m2_lgb)"
      ],
      "execution_count": null,
      "outputs": []
    },
    {
      "cell_type": "code",
      "metadata": {
        "id": "5tpjnVl8bvR-",
        "colab_type": "code",
        "colab": {}
      },
      "source": [
        "M2_sp_lgb=1.00\n",
        "M2_se_lgb=1.00\n",
        "M2_acc_lgb=1.00"
      ],
      "execution_count": null,
      "outputs": []
    },
    {
      "cell_type": "code",
      "metadata": {
        "id": "hHRfsM7Cb4RS",
        "colab_type": "code",
        "colab": {}
      },
      "source": [
        "lgb_m2 = {'Model':\"Balanced - Manual\", 'Classifier':\"Light GBM\", 'Specificity':M2_sp_lgb, 'Sensitivity':M2_se_lgb, 'Accuracy':M2_acc_lgb, 'AUC':m2_lgb_auc}\n",
        "results = results.append(lgb_m2, ignore_index=True)"
      ],
      "execution_count": null,
      "outputs": []
    },
    {
      "cell_type": "markdown",
      "metadata": {
        "id": "mgmy3E63cF8C",
        "colab_type": "text"
      },
      "source": [
        "**Model 3 - SMOTE Balanced**"
      ]
    },
    {
      "cell_type": "code",
      "metadata": {
        "id": "g06U-ZhmcAY3",
        "colab_type": "code",
        "colab": {}
      },
      "source": [
        "model = lgb.LGBMClassifier().fit(X_train_resampled, y_train_resampled)"
      ],
      "execution_count": null,
      "outputs": []
    },
    {
      "cell_type": "code",
      "metadata": {
        "id": "8C5qWI2QcPKn",
        "colab_type": "code",
        "colab": {
          "base_uri": "https://localhost:8080/",
          "height": 204
        },
        "outputId": "c1772b00-80b7-48a5-f3f3-483cff5ba6ca"
      },
      "source": [
        "y_pred_m3_lgb = model.predict(X_test) \n",
        "print(confusion_matrix(y_test,y_pred_m3_lgb))\n",
        "print(classification_report(y_test,y_pred_m3_lgb))"
      ],
      "execution_count": null,
      "outputs": [
        {
          "output_type": "stream",
          "text": [
            "[[3343    0]\n",
            " [   0 5671]]\n",
            "              precision    recall  f1-score   support\n",
            "\n",
            "         0.0       1.00      1.00      1.00      3343\n",
            "         1.0       1.00      1.00      1.00      5671\n",
            "\n",
            "    accuracy                           1.00      9014\n",
            "   macro avg       1.00      1.00      1.00      9014\n",
            "weighted avg       1.00      1.00      1.00      9014\n",
            "\n"
          ],
          "name": "stdout"
        }
      ]
    },
    {
      "cell_type": "markdown",
      "metadata": {
        "id": "H15zwqZ5cak_",
        "colab_type": "text"
      },
      "source": [
        "| ACTUAL\\PREDICTED          | Mismatch (0) | Match (1) | TOTAL |\n",
        "|---------------------------|---------------------|-------------------------|-------|\n",
        "|    Mismatch (0)|      3343             |        0              |   3343   |\n",
        "|  Match (1)      |      0             |        5671             |   5671  |\n",
        "|        TOTAL              |      3343             |        5671              |   9014  |"
      ]
    },
    {
      "cell_type": "code",
      "metadata": {
        "id": "jVqdpvG2DJZR",
        "colab_type": "code",
        "colab": {}
      },
      "source": [
        "m3_lgb_auc = roc_auc_score(y_test, y_pred_m3_lgb)"
      ],
      "execution_count": null,
      "outputs": []
    },
    {
      "cell_type": "code",
      "metadata": {
        "id": "PkJAOGjlcRbn",
        "colab_type": "code",
        "colab": {}
      },
      "source": [
        "M3_sp_lgb=1.00\n",
        "M3_se_lgb=1.00\n",
        "M3_acc_lgb=1.00"
      ],
      "execution_count": null,
      "outputs": []
    },
    {
      "cell_type": "code",
      "metadata": {
        "id": "bO_-TV03ckxl",
        "colab_type": "code",
        "colab": {}
      },
      "source": [
        "lgb_m3 = {'Model':\"Balanced - SMOTE\", 'Classifier':\"Light GBM\", 'Specificity':M3_sp_lgb, 'Sensitivity':M3_se_lgb, 'Accuracy':M3_acc_lgb, 'AUC':m3_lgb_auc}\n",
        "results = results.append(lgb_m3, ignore_index=True)"
      ],
      "execution_count": null,
      "outputs": []
    },
    {
      "cell_type": "markdown",
      "metadata": {
        "id": "5AnijRPqdnHB",
        "colab_type": "text"
      },
      "source": [
        "**Model 4 - Imbalanced towards Mismatch**"
      ]
    },
    {
      "cell_type": "code",
      "metadata": {
        "id": "yeDyppYHdFNv",
        "colab_type": "code",
        "colab": {}
      },
      "source": [
        "model = lgb.LGBMClassifier().fit(X_train_imbal, y_train_imbal)"
      ],
      "execution_count": null,
      "outputs": []
    },
    {
      "cell_type": "code",
      "metadata": {
        "id": "PIRruBIJdzz2",
        "colab_type": "code",
        "colab": {
          "base_uri": "https://localhost:8080/",
          "height": 204
        },
        "outputId": "c34aa9b6-d4ef-4a59-ebda-d71e4ed77e76"
      },
      "source": [
        "y_pred_m4_lgb = model.predict(X_test) \n",
        "print(confusion_matrix(y_test,y_pred_m4_lgb))\n",
        "print(classification_report(y_test,y_pred_m4_lgb))"
      ],
      "execution_count": null,
      "outputs": [
        {
          "output_type": "stream",
          "text": [
            "[[3343    0]\n",
            " [   0 5671]]\n",
            "              precision    recall  f1-score   support\n",
            "\n",
            "         0.0       1.00      1.00      1.00      3343\n",
            "         1.0       1.00      1.00      1.00      5671\n",
            "\n",
            "    accuracy                           1.00      9014\n",
            "   macro avg       1.00      1.00      1.00      9014\n",
            "weighted avg       1.00      1.00      1.00      9014\n",
            "\n"
          ],
          "name": "stdout"
        }
      ]
    },
    {
      "cell_type": "markdown",
      "metadata": {
        "id": "Yyw402vid5N9",
        "colab_type": "text"
      },
      "source": [
        "| ACTUAL\\PREDICTED          | Mismatch (0) | Match (1) | TOTAL |\n",
        "|---------------------------|---------------------|-------------------------|-------|\n",
        "|    Mismatch (0)|      3343             |        0              |   3343   |\n",
        "|  Match (1)      |      0             |        5671             |   5671  |\n",
        "|        TOTAL              |      3343             |        5671              |   9014  |"
      ]
    },
    {
      "cell_type": "code",
      "metadata": {
        "id": "MEqcBnMuDbBw",
        "colab_type": "code",
        "colab": {}
      },
      "source": [
        "m4_lgb_auc = roc_auc_score(y_test, y_pred_m4_lgb)"
      ],
      "execution_count": null,
      "outputs": []
    },
    {
      "cell_type": "code",
      "metadata": {
        "id": "eod62Ubfd2P1",
        "colab_type": "code",
        "colab": {}
      },
      "source": [
        "M4_sp_lgb=1.00\n",
        "M4_se_lgb=1.00\n",
        "M4_acc_lgb=1.00"
      ],
      "execution_count": null,
      "outputs": []
    },
    {
      "cell_type": "code",
      "metadata": {
        "id": "LH_Yv_RZd-hc",
        "colab_type": "code",
        "colab": {}
      },
      "source": [
        "lgb_m4 = {'Model':\"Imbalanced - Mismatch\", 'Classifier':\"Light GBM\", 'Specificity':M4_sp_lgb, 'Sensitivity':M4_se_lgb, 'Accuracy':M4_acc_lgb, 'AUC': m4_lgb_auc}\n",
        "results = results.append(lgb_m4, ignore_index=True)"
      ],
      "execution_count": null,
      "outputs": []
    },
    {
      "cell_type": "code",
      "metadata": {
        "id": "uksDUfdtwnmF",
        "colab_type": "code",
        "colab": {
          "base_uri": "https://localhost:8080/",
          "height": 1000
        },
        "outputId": "71110750-3a63-480d-8a9f-10e6d55ec563"
      },
      "source": [
        "#results.drop(results.tail(1).index,inplace=True)\n",
        "results"
      ],
      "execution_count": null,
      "outputs": [
        {
          "output_type": "execute_result",
          "data": {
            "text/html": [
              "<div>\n",
              "<style scoped>\n",
              "    .dataframe tbody tr th:only-of-type {\n",
              "        vertical-align: middle;\n",
              "    }\n",
              "\n",
              "    .dataframe tbody tr th {\n",
              "        vertical-align: top;\n",
              "    }\n",
              "\n",
              "    .dataframe thead th {\n",
              "        text-align: right;\n",
              "    }\n",
              "</style>\n",
              "<table border=\"1\" class=\"dataframe\">\n",
              "  <thead>\n",
              "    <tr style=\"text-align: right;\">\n",
              "      <th></th>\n",
              "      <th>Classifier</th>\n",
              "      <th>Model</th>\n",
              "      <th>Specificity</th>\n",
              "      <th>Sensitivity</th>\n",
              "      <th>Accuracy</th>\n",
              "      <th>AUC</th>\n",
              "    </tr>\n",
              "  </thead>\n",
              "  <tbody>\n",
              "    <tr>\n",
              "      <th>0</th>\n",
              "      <td>SVM - Linear</td>\n",
              "      <td>Imbalanced - Match</td>\n",
              "      <td>1.00</td>\n",
              "      <td>1.00</td>\n",
              "      <td>1.00</td>\n",
              "      <td>1.000000</td>\n",
              "    </tr>\n",
              "    <tr>\n",
              "      <th>1</th>\n",
              "      <td>SVM - Linear</td>\n",
              "      <td>Balanced - Manual</td>\n",
              "      <td>1.00</td>\n",
              "      <td>1.00</td>\n",
              "      <td>1.00</td>\n",
              "      <td>1.000000</td>\n",
              "    </tr>\n",
              "    <tr>\n",
              "      <th>2</th>\n",
              "      <td>SVM - Linear</td>\n",
              "      <td>Balanced - SMOTE</td>\n",
              "      <td>1.00</td>\n",
              "      <td>1.00</td>\n",
              "      <td>1.00</td>\n",
              "      <td>1.000000</td>\n",
              "    </tr>\n",
              "    <tr>\n",
              "      <th>3</th>\n",
              "      <td>SVM - Linear</td>\n",
              "      <td>Imbalanced - Mismatch</td>\n",
              "      <td>1.00</td>\n",
              "      <td>1.00</td>\n",
              "      <td>1.00</td>\n",
              "      <td>1.000000</td>\n",
              "    </tr>\n",
              "    <tr>\n",
              "      <th>4</th>\n",
              "      <td>SVM - Gaussian</td>\n",
              "      <td>Imbalanced - Match</td>\n",
              "      <td>0.86</td>\n",
              "      <td>1.00</td>\n",
              "      <td>0.94</td>\n",
              "      <td>0.952125</td>\n",
              "    </tr>\n",
              "    <tr>\n",
              "      <th>5</th>\n",
              "      <td>SVM - Gaussian</td>\n",
              "      <td>Balanced - Manual</td>\n",
              "      <td>0.86</td>\n",
              "      <td>1.00</td>\n",
              "      <td>0.94</td>\n",
              "      <td>0.952125</td>\n",
              "    </tr>\n",
              "    <tr>\n",
              "      <th>6</th>\n",
              "      <td>SVM - Gaussian</td>\n",
              "      <td>Balanced - SMOTE</td>\n",
              "      <td>0.86</td>\n",
              "      <td>1.00</td>\n",
              "      <td>0.94</td>\n",
              "      <td>0.952125</td>\n",
              "    </tr>\n",
              "    <tr>\n",
              "      <th>7</th>\n",
              "      <td>SVM - Gaussian</td>\n",
              "      <td>Imbalanced - Mismatch</td>\n",
              "      <td>0.86</td>\n",
              "      <td>1.00</td>\n",
              "      <td>0.94</td>\n",
              "      <td>0.952125</td>\n",
              "    </tr>\n",
              "    <tr>\n",
              "      <th>8</th>\n",
              "      <td>SVM - Polynomial</td>\n",
              "      <td>Imbalanced - Match</td>\n",
              "      <td>0.93</td>\n",
              "      <td>1.00</td>\n",
              "      <td>0.97</td>\n",
              "      <td>0.978487</td>\n",
              "    </tr>\n",
              "    <tr>\n",
              "      <th>9</th>\n",
              "      <td>SVM - Polynomial</td>\n",
              "      <td>Balanced - Manual</td>\n",
              "      <td>0.92</td>\n",
              "      <td>1.00</td>\n",
              "      <td>0.97</td>\n",
              "      <td>0.973902</td>\n",
              "    </tr>\n",
              "    <tr>\n",
              "      <th>10</th>\n",
              "      <td>SVM - Polynomial</td>\n",
              "      <td>Balanced - SMOTE</td>\n",
              "      <td>0.93</td>\n",
              "      <td>1.00</td>\n",
              "      <td>0.97</td>\n",
              "      <td>0.978575</td>\n",
              "    </tr>\n",
              "    <tr>\n",
              "      <th>11</th>\n",
              "      <td>SVM - Polynomial</td>\n",
              "      <td>Imbalanced - Mismatch</td>\n",
              "      <td>0.88</td>\n",
              "      <td>1.00</td>\n",
              "      <td>0.95</td>\n",
              "      <td>0.959972</td>\n",
              "    </tr>\n",
              "    <tr>\n",
              "      <th>12</th>\n",
              "      <td>SVM - Sigmoid</td>\n",
              "      <td>Imbalanced - Match</td>\n",
              "      <td>0.40</td>\n",
              "      <td>0.39</td>\n",
              "      <td>0.56</td>\n",
              "      <td>0.521657</td>\n",
              "    </tr>\n",
              "    <tr>\n",
              "      <th>13</th>\n",
              "      <td>SVM - Sigmoid</td>\n",
              "      <td>Balanced - Manual</td>\n",
              "      <td>0.52</td>\n",
              "      <td>0.65</td>\n",
              "      <td>0.65</td>\n",
              "      <td>0.648738</td>\n",
              "    </tr>\n",
              "    <tr>\n",
              "      <th>14</th>\n",
              "      <td>SVM - Sigmoid</td>\n",
              "      <td>Balanced - SMOTE</td>\n",
              "      <td>0.52</td>\n",
              "      <td>0.65</td>\n",
              "      <td>0.65</td>\n",
              "      <td>0.648853</td>\n",
              "    </tr>\n",
              "    <tr>\n",
              "      <th>15</th>\n",
              "      <td>SVM - Sigmoid</td>\n",
              "      <td>Imbalanced - Mismatch</td>\n",
              "      <td>0.37</td>\n",
              "      <td>0.66</td>\n",
              "      <td>0.46</td>\n",
              "      <td>0.497094</td>\n",
              "    </tr>\n",
              "    <tr>\n",
              "      <th>16</th>\n",
              "      <td>Naive Bayes - Gaussian</td>\n",
              "      <td>Imbalanced - Match</td>\n",
              "      <td>1.00</td>\n",
              "      <td>1.00</td>\n",
              "      <td>1.00</td>\n",
              "      <td>1.000000</td>\n",
              "    </tr>\n",
              "    <tr>\n",
              "      <th>17</th>\n",
              "      <td>Naive Bayes - Gaussian</td>\n",
              "      <td>Balanced - Manual</td>\n",
              "      <td>1.00</td>\n",
              "      <td>1.00</td>\n",
              "      <td>1.00</td>\n",
              "      <td>1.000000</td>\n",
              "    </tr>\n",
              "    <tr>\n",
              "      <th>18</th>\n",
              "      <td>Naive Bayes - Gaussian</td>\n",
              "      <td>Balanced - SMOTE</td>\n",
              "      <td>1.00</td>\n",
              "      <td>1.00</td>\n",
              "      <td>1.00</td>\n",
              "      <td>1.000000</td>\n",
              "    </tr>\n",
              "    <tr>\n",
              "      <th>19</th>\n",
              "      <td>Naive Bayes - Gaussian</td>\n",
              "      <td>Imbalanced - Mismatch</td>\n",
              "      <td>1.00</td>\n",
              "      <td>1.00</td>\n",
              "      <td>1.00</td>\n",
              "      <td>1.000000</td>\n",
              "    </tr>\n",
              "    <tr>\n",
              "      <th>20</th>\n",
              "      <td>Naive Bayes - Bernoulli</td>\n",
              "      <td>Imbalanced - Match</td>\n",
              "      <td>0.52</td>\n",
              "      <td>0.34</td>\n",
              "      <td>0.64</td>\n",
              "      <td>0.578277</td>\n",
              "    </tr>\n",
              "    <tr>\n",
              "      <th>21</th>\n",
              "      <td>Naive Bayes - Bernoulli</td>\n",
              "      <td>Balanced - Manual</td>\n",
              "      <td>0.52</td>\n",
              "      <td>0.34</td>\n",
              "      <td>0.64</td>\n",
              "      <td>0.578277</td>\n",
              "    </tr>\n",
              "    <tr>\n",
              "      <th>22</th>\n",
              "      <td>Naive Bayes - Bernoulli</td>\n",
              "      <td>Balanced - SMOTE</td>\n",
              "      <td>0.52</td>\n",
              "      <td>0.34</td>\n",
              "      <td>0.64</td>\n",
              "      <td>0.578277</td>\n",
              "    </tr>\n",
              "    <tr>\n",
              "      <th>23</th>\n",
              "      <td>Naive Bayes - Bernoulli</td>\n",
              "      <td>Imbalanced - Mismatch</td>\n",
              "      <td>0.37</td>\n",
              "      <td>1.00</td>\n",
              "      <td>0.38</td>\n",
              "      <td>0.503527</td>\n",
              "    </tr>\n",
              "    <tr>\n",
              "      <th>24</th>\n",
              "      <td>Random Forest</td>\n",
              "      <td>Imbalanced - Match</td>\n",
              "      <td>1.00</td>\n",
              "      <td>1.00</td>\n",
              "      <td>1.00</td>\n",
              "      <td>1.000000</td>\n",
              "    </tr>\n",
              "    <tr>\n",
              "      <th>25</th>\n",
              "      <td>Random Forest</td>\n",
              "      <td>Balanced - Manual</td>\n",
              "      <td>1.00</td>\n",
              "      <td>1.00</td>\n",
              "      <td>1.00</td>\n",
              "      <td>1.000000</td>\n",
              "    </tr>\n",
              "    <tr>\n",
              "      <th>26</th>\n",
              "      <td>Random Forest</td>\n",
              "      <td>Balanced - SMOTE</td>\n",
              "      <td>1.00</td>\n",
              "      <td>1.00</td>\n",
              "      <td>1.00</td>\n",
              "      <td>1.000000</td>\n",
              "    </tr>\n",
              "    <tr>\n",
              "      <th>27</th>\n",
              "      <td>Random Forest</td>\n",
              "      <td>Imbalanced - Mismatch</td>\n",
              "      <td>1.00</td>\n",
              "      <td>1.00</td>\n",
              "      <td>1.00</td>\n",
              "      <td>1.000000</td>\n",
              "    </tr>\n",
              "    <tr>\n",
              "      <th>28</th>\n",
              "      <td>Light GBM</td>\n",
              "      <td>Imbalanced - Match</td>\n",
              "      <td>1.00</td>\n",
              "      <td>1.00</td>\n",
              "      <td>1.00</td>\n",
              "      <td>1.000000</td>\n",
              "    </tr>\n",
              "    <tr>\n",
              "      <th>29</th>\n",
              "      <td>Light GBM</td>\n",
              "      <td>Balanced - Manual</td>\n",
              "      <td>1.00</td>\n",
              "      <td>1.00</td>\n",
              "      <td>1.00</td>\n",
              "      <td>1.000000</td>\n",
              "    </tr>\n",
              "    <tr>\n",
              "      <th>30</th>\n",
              "      <td>Light GBM</td>\n",
              "      <td>Balanced - SMOTE</td>\n",
              "      <td>1.00</td>\n",
              "      <td>1.00</td>\n",
              "      <td>1.00</td>\n",
              "      <td>1.000000</td>\n",
              "    </tr>\n",
              "    <tr>\n",
              "      <th>31</th>\n",
              "      <td>Light GBM</td>\n",
              "      <td>Imbalanced - Mismatch</td>\n",
              "      <td>1.00</td>\n",
              "      <td>1.00</td>\n",
              "      <td>1.00</td>\n",
              "      <td>1.000000</td>\n",
              "    </tr>\n",
              "  </tbody>\n",
              "</table>\n",
              "</div>"
            ],
            "text/plain": [
              "                 Classifier                  Model  ...  Accuracy       AUC\n",
              "0              SVM - Linear     Imbalanced - Match  ...      1.00  1.000000\n",
              "1              SVM - Linear      Balanced - Manual  ...      1.00  1.000000\n",
              "2              SVM - Linear       Balanced - SMOTE  ...      1.00  1.000000\n",
              "3              SVM - Linear  Imbalanced - Mismatch  ...      1.00  1.000000\n",
              "4            SVM - Gaussian     Imbalanced - Match  ...      0.94  0.952125\n",
              "5            SVM - Gaussian      Balanced - Manual  ...      0.94  0.952125\n",
              "6            SVM - Gaussian       Balanced - SMOTE  ...      0.94  0.952125\n",
              "7            SVM - Gaussian  Imbalanced - Mismatch  ...      0.94  0.952125\n",
              "8          SVM - Polynomial     Imbalanced - Match  ...      0.97  0.978487\n",
              "9          SVM - Polynomial      Balanced - Manual  ...      0.97  0.973902\n",
              "10         SVM - Polynomial       Balanced - SMOTE  ...      0.97  0.978575\n",
              "11         SVM - Polynomial  Imbalanced - Mismatch  ...      0.95  0.959972\n",
              "12            SVM - Sigmoid     Imbalanced - Match  ...      0.56  0.521657\n",
              "13            SVM - Sigmoid      Balanced - Manual  ...      0.65  0.648738\n",
              "14            SVM - Sigmoid       Balanced - SMOTE  ...      0.65  0.648853\n",
              "15            SVM - Sigmoid  Imbalanced - Mismatch  ...      0.46  0.497094\n",
              "16   Naive Bayes - Gaussian     Imbalanced - Match  ...      1.00  1.000000\n",
              "17   Naive Bayes - Gaussian      Balanced - Manual  ...      1.00  1.000000\n",
              "18   Naive Bayes - Gaussian       Balanced - SMOTE  ...      1.00  1.000000\n",
              "19   Naive Bayes - Gaussian  Imbalanced - Mismatch  ...      1.00  1.000000\n",
              "20  Naive Bayes - Bernoulli     Imbalanced - Match  ...      0.64  0.578277\n",
              "21  Naive Bayes - Bernoulli      Balanced - Manual  ...      0.64  0.578277\n",
              "22  Naive Bayes - Bernoulli       Balanced - SMOTE  ...      0.64  0.578277\n",
              "23  Naive Bayes - Bernoulli  Imbalanced - Mismatch  ...      0.38  0.503527\n",
              "24            Random Forest     Imbalanced - Match  ...      1.00  1.000000\n",
              "25            Random Forest      Balanced - Manual  ...      1.00  1.000000\n",
              "26            Random Forest       Balanced - SMOTE  ...      1.00  1.000000\n",
              "27            Random Forest  Imbalanced - Mismatch  ...      1.00  1.000000\n",
              "28                Light GBM     Imbalanced - Match  ...      1.00  1.000000\n",
              "29                Light GBM      Balanced - Manual  ...      1.00  1.000000\n",
              "30                Light GBM       Balanced - SMOTE  ...      1.00  1.000000\n",
              "31                Light GBM  Imbalanced - Mismatch  ...      1.00  1.000000\n",
              "\n",
              "[32 rows x 6 columns]"
            ]
          },
          "metadata": {
            "tags": []
          },
          "execution_count": 335
        }
      ]
    },
    {
      "cell_type": "code",
      "metadata": {
        "id": "Ysr7w__9KmXC",
        "colab_type": "code",
        "colab": {
          "base_uri": "https://localhost:8080/",
          "height": 669
        },
        "outputId": "500d7f02-d9e4-4f5e-be05-54c70945470d"
      },
      "source": [
        "results.sort_values('AUC').tail(20)"
      ],
      "execution_count": null,
      "outputs": [
        {
          "output_type": "execute_result",
          "data": {
            "text/html": [
              "<div>\n",
              "<style scoped>\n",
              "    .dataframe tbody tr th:only-of-type {\n",
              "        vertical-align: middle;\n",
              "    }\n",
              "\n",
              "    .dataframe tbody tr th {\n",
              "        vertical-align: top;\n",
              "    }\n",
              "\n",
              "    .dataframe thead th {\n",
              "        text-align: right;\n",
              "    }\n",
              "</style>\n",
              "<table border=\"1\" class=\"dataframe\">\n",
              "  <thead>\n",
              "    <tr style=\"text-align: right;\">\n",
              "      <th></th>\n",
              "      <th>Classifier</th>\n",
              "      <th>Model</th>\n",
              "      <th>Specificity</th>\n",
              "      <th>Sensitivity</th>\n",
              "      <th>Accuracy</th>\n",
              "      <th>AUC</th>\n",
              "    </tr>\n",
              "  </thead>\n",
              "  <tbody>\n",
              "    <tr>\n",
              "      <th>11</th>\n",
              "      <td>SVM - Polynomial</td>\n",
              "      <td>Imbalanced - Mismatch</td>\n",
              "      <td>0.88</td>\n",
              "      <td>1.0</td>\n",
              "      <td>0.95</td>\n",
              "      <td>0.959972</td>\n",
              "    </tr>\n",
              "    <tr>\n",
              "      <th>9</th>\n",
              "      <td>SVM - Polynomial</td>\n",
              "      <td>Balanced - Manual</td>\n",
              "      <td>0.92</td>\n",
              "      <td>1.0</td>\n",
              "      <td>0.97</td>\n",
              "      <td>0.973902</td>\n",
              "    </tr>\n",
              "    <tr>\n",
              "      <th>8</th>\n",
              "      <td>SVM - Polynomial</td>\n",
              "      <td>Imbalanced - Match</td>\n",
              "      <td>0.93</td>\n",
              "      <td>1.0</td>\n",
              "      <td>0.97</td>\n",
              "      <td>0.978487</td>\n",
              "    </tr>\n",
              "    <tr>\n",
              "      <th>10</th>\n",
              "      <td>SVM - Polynomial</td>\n",
              "      <td>Balanced - SMOTE</td>\n",
              "      <td>0.93</td>\n",
              "      <td>1.0</td>\n",
              "      <td>0.97</td>\n",
              "      <td>0.978575</td>\n",
              "    </tr>\n",
              "    <tr>\n",
              "      <th>27</th>\n",
              "      <td>Random Forest</td>\n",
              "      <td>Imbalanced - Mismatch</td>\n",
              "      <td>1.00</td>\n",
              "      <td>1.0</td>\n",
              "      <td>1.00</td>\n",
              "      <td>1.000000</td>\n",
              "    </tr>\n",
              "    <tr>\n",
              "      <th>26</th>\n",
              "      <td>Random Forest</td>\n",
              "      <td>Balanced - SMOTE</td>\n",
              "      <td>1.00</td>\n",
              "      <td>1.0</td>\n",
              "      <td>1.00</td>\n",
              "      <td>1.000000</td>\n",
              "    </tr>\n",
              "    <tr>\n",
              "      <th>25</th>\n",
              "      <td>Random Forest</td>\n",
              "      <td>Balanced - Manual</td>\n",
              "      <td>1.00</td>\n",
              "      <td>1.0</td>\n",
              "      <td>1.00</td>\n",
              "      <td>1.000000</td>\n",
              "    </tr>\n",
              "    <tr>\n",
              "      <th>24</th>\n",
              "      <td>Random Forest</td>\n",
              "      <td>Imbalanced - Match</td>\n",
              "      <td>1.00</td>\n",
              "      <td>1.0</td>\n",
              "      <td>1.00</td>\n",
              "      <td>1.000000</td>\n",
              "    </tr>\n",
              "    <tr>\n",
              "      <th>28</th>\n",
              "      <td>Light GBM</td>\n",
              "      <td>Imbalanced - Match</td>\n",
              "      <td>1.00</td>\n",
              "      <td>1.0</td>\n",
              "      <td>1.00</td>\n",
              "      <td>1.000000</td>\n",
              "    </tr>\n",
              "    <tr>\n",
              "      <th>29</th>\n",
              "      <td>Light GBM</td>\n",
              "      <td>Balanced - Manual</td>\n",
              "      <td>1.00</td>\n",
              "      <td>1.0</td>\n",
              "      <td>1.00</td>\n",
              "      <td>1.000000</td>\n",
              "    </tr>\n",
              "    <tr>\n",
              "      <th>0</th>\n",
              "      <td>SVM - Linear</td>\n",
              "      <td>Imbalanced - Match</td>\n",
              "      <td>1.00</td>\n",
              "      <td>1.0</td>\n",
              "      <td>1.00</td>\n",
              "      <td>1.000000</td>\n",
              "    </tr>\n",
              "    <tr>\n",
              "      <th>18</th>\n",
              "      <td>Naive Bayes - Gaussian</td>\n",
              "      <td>Balanced - SMOTE</td>\n",
              "      <td>1.00</td>\n",
              "      <td>1.0</td>\n",
              "      <td>1.00</td>\n",
              "      <td>1.000000</td>\n",
              "    </tr>\n",
              "    <tr>\n",
              "      <th>17</th>\n",
              "      <td>Naive Bayes - Gaussian</td>\n",
              "      <td>Balanced - Manual</td>\n",
              "      <td>1.00</td>\n",
              "      <td>1.0</td>\n",
              "      <td>1.00</td>\n",
              "      <td>1.000000</td>\n",
              "    </tr>\n",
              "    <tr>\n",
              "      <th>16</th>\n",
              "      <td>Naive Bayes - Gaussian</td>\n",
              "      <td>Imbalanced - Match</td>\n",
              "      <td>1.00</td>\n",
              "      <td>1.0</td>\n",
              "      <td>1.00</td>\n",
              "      <td>1.000000</td>\n",
              "    </tr>\n",
              "    <tr>\n",
              "      <th>30</th>\n",
              "      <td>Light GBM</td>\n",
              "      <td>Balanced - SMOTE</td>\n",
              "      <td>1.00</td>\n",
              "      <td>1.0</td>\n",
              "      <td>1.00</td>\n",
              "      <td>1.000000</td>\n",
              "    </tr>\n",
              "    <tr>\n",
              "      <th>3</th>\n",
              "      <td>SVM - Linear</td>\n",
              "      <td>Imbalanced - Mismatch</td>\n",
              "      <td>1.00</td>\n",
              "      <td>1.0</td>\n",
              "      <td>1.00</td>\n",
              "      <td>1.000000</td>\n",
              "    </tr>\n",
              "    <tr>\n",
              "      <th>2</th>\n",
              "      <td>SVM - Linear</td>\n",
              "      <td>Balanced - SMOTE</td>\n",
              "      <td>1.00</td>\n",
              "      <td>1.0</td>\n",
              "      <td>1.00</td>\n",
              "      <td>1.000000</td>\n",
              "    </tr>\n",
              "    <tr>\n",
              "      <th>1</th>\n",
              "      <td>SVM - Linear</td>\n",
              "      <td>Balanced - Manual</td>\n",
              "      <td>1.00</td>\n",
              "      <td>1.0</td>\n",
              "      <td>1.00</td>\n",
              "      <td>1.000000</td>\n",
              "    </tr>\n",
              "    <tr>\n",
              "      <th>19</th>\n",
              "      <td>Naive Bayes - Gaussian</td>\n",
              "      <td>Imbalanced - Mismatch</td>\n",
              "      <td>1.00</td>\n",
              "      <td>1.0</td>\n",
              "      <td>1.00</td>\n",
              "      <td>1.000000</td>\n",
              "    </tr>\n",
              "    <tr>\n",
              "      <th>31</th>\n",
              "      <td>Light GBM</td>\n",
              "      <td>Imbalanced - Mismatch</td>\n",
              "      <td>1.00</td>\n",
              "      <td>1.0</td>\n",
              "      <td>1.00</td>\n",
              "      <td>1.000000</td>\n",
              "    </tr>\n",
              "  </tbody>\n",
              "</table>\n",
              "</div>"
            ],
            "text/plain": [
              "                Classifier                  Model  ...  Accuracy       AUC\n",
              "11        SVM - Polynomial  Imbalanced - Mismatch  ...      0.95  0.959972\n",
              "9         SVM - Polynomial      Balanced - Manual  ...      0.97  0.973902\n",
              "8         SVM - Polynomial     Imbalanced - Match  ...      0.97  0.978487\n",
              "10        SVM - Polynomial       Balanced - SMOTE  ...      0.97  0.978575\n",
              "27           Random Forest  Imbalanced - Mismatch  ...      1.00  1.000000\n",
              "26           Random Forest       Balanced - SMOTE  ...      1.00  1.000000\n",
              "25           Random Forest      Balanced - Manual  ...      1.00  1.000000\n",
              "24           Random Forest     Imbalanced - Match  ...      1.00  1.000000\n",
              "28               Light GBM     Imbalanced - Match  ...      1.00  1.000000\n",
              "29               Light GBM      Balanced - Manual  ...      1.00  1.000000\n",
              "0             SVM - Linear     Imbalanced - Match  ...      1.00  1.000000\n",
              "18  Naive Bayes - Gaussian       Balanced - SMOTE  ...      1.00  1.000000\n",
              "17  Naive Bayes - Gaussian      Balanced - Manual  ...      1.00  1.000000\n",
              "16  Naive Bayes - Gaussian     Imbalanced - Match  ...      1.00  1.000000\n",
              "30               Light GBM       Balanced - SMOTE  ...      1.00  1.000000\n",
              "3             SVM - Linear  Imbalanced - Mismatch  ...      1.00  1.000000\n",
              "2             SVM - Linear       Balanced - SMOTE  ...      1.00  1.000000\n",
              "1             SVM - Linear      Balanced - Manual  ...      1.00  1.000000\n",
              "19  Naive Bayes - Gaussian  Imbalanced - Mismatch  ...      1.00  1.000000\n",
              "31               Light GBM  Imbalanced - Mismatch  ...      1.00  1.000000\n",
              "\n",
              "[20 rows x 6 columns]"
            ]
          },
          "metadata": {
            "tags": []
          },
          "execution_count": 341
        }
      ]
    },
    {
      "cell_type": "code",
      "metadata": {
        "id": "TqsevI-5pZhu",
        "colab_type": "code",
        "colab": {
          "base_uri": "https://localhost:8080/",
          "height": 339
        },
        "outputId": "d7c753bb-8de5-450d-8c45-dd96d0b870a2"
      },
      "source": [
        "# calculate roc curves\n",
        "ns_fpr, ns_tpr, _ = roc_curve(y_test, ns_probs)\n",
        "m1_svm_linear_fpr, m1_svm_linear_tpr, _ = roc_curve(y_test, y_pred_m1_svm_linear)\n",
        "m2_svm_linear_fpr, m2_svm_linear_tpr, _ = roc_curve(y_test, y_pred_m2_svm_linear)\n",
        "m3_svm_linear_fpr, m3_svm_linear_tpr, _ = roc_curve(y_test, y_pred_m3_svm_linear)\n",
        "m4_svm_linear_fpr, m4_svm_linear_tpr, _ = roc_curve(y_test, y_pred_m4_svm_linear)\n",
        "m1_naive_gaussian_fpr, m1_naive_gaussian_tpr, _ = roc_curve(y_test, y_pred_m1_naive_gaussian)\n",
        "m2_naive_gaussian_fpr, m2_naive_gaussian_tpr, _ = roc_curve(y_test, y_pred_m2_naive_gaussian)\n",
        "m3_naive_gaussian_fpr, m3_naive_gaussian_tpr, _ = roc_curve(y_test, y_pred_m3_naive_gaussian)\n",
        "m4_naive_gaussian_fpr, m4_naive_gaussian_tpr, _ = roc_curve(y_test, y_pred_m4_naive_gaussian)\n",
        "m1_rf_fpr, m1_rf_tpr, _ = roc_curve(y_test, y_pred_m1_rf)\n",
        "m2_rf_fpr, m2_rf_tpr, _ = roc_curve(y_test, y_pred_m2_rf)\n",
        "m3_rf_fpr, m3_rf_tpr, _ = roc_curve(y_test, y_pred_m3_rf)\n",
        "m4_rf_fpr, m4_rf_tpr, _ = roc_curve(y_test, y_pred_m4_rf)\n",
        "m1_lgb_fpr, m1_lgb_tpr, _ = roc_curve(y_test, y_pred_m1_lgb)\n",
        "m2_lgb_fpr, m2_lgb_tpr, _ = roc_curve(y_test, y_pred_m2_lgb)\n",
        "m3_lgb_fpr, m3_lgb_tpr, _ = roc_curve(y_test, y_pred_m3_lgb)\n",
        "m4_lgb_fpr, m4_lgb_tpr, _ = roc_curve(y_test, y_pred_m4_lgb)\n",
        "\n",
        "\n",
        "# plot the roc curve for the model\n",
        "pyplot.plot(ns_fpr, ns_tpr, linestyle='--', label='No Skill')\n",
        "pyplot.plot(m1_svm_linear_fpr, m1_svm_linear_tpr, marker='.', label='M1_SVM_Linear')\n",
        "pyplot.plot(m2_svm_linear_fpr, m2_svm_linear_tpr, marker='.', label='M2_SVM_Linear')\n",
        "pyplot.plot(m3_svm_linear_fpr, m3_svm_linear_tpr, marker='.', label='M3_SVM_Linear')\n",
        "pyplot.plot(m4_svm_linear_fpr, m4_svm_linear_tpr, marker='.', label='M4_SVM_Linear')\n",
        "pyplot.plot(m1_naive_gaussian_fpr, m1_naive_gaussian_tpr, marker='.', label='M1_Naive_Bayes_Gaussian')\n",
        "pyplot.plot(m2_naive_gaussian_fpr, m2_naive_gaussian_tpr, marker='.', label='M2_Naive_Bayes_Gaussian')\n",
        "pyplot.plot(m3_naive_gaussian_fpr, m3_naive_gaussian_tpr, marker='.', label='M3_Naive_Bayes_Gaussian')\n",
        "pyplot.plot(m4_naive_gaussian_fpr, m4_naive_gaussian_tpr, marker='.', label='M4_Naive_Bayes_Gaussian')\n",
        "pyplot.plot(m1_rf_fpr, m1_rf_tpr, marker='.', label='M1_Random_Forest')\n",
        "pyplot.plot(m2_rf_fpr, m2_rf_tpr, marker='.', label='M2_Random_Forest')\n",
        "pyplot.plot(m3_rf_fpr, m3_rf_tpr, marker='.', label='M3_Random_Forest')\n",
        "pyplot.plot(m4_rf_fpr, m4_rf_tpr, marker='.', label='M4_Random_Forest')\n",
        "pyplot.plot(m1_lgb_fpr, m1_lgb_tpr, marker='.', label='M1_LightGBM')\n",
        "pyplot.plot(m2_lgb_fpr, m2_lgb_tpr, marker='.', label='M2_LightGBM')\n",
        "pyplot.plot(m3_lgb_fpr, m3_lgb_tpr, marker='.', label='M3_LightGBM')\n",
        "pyplot.plot(m4_lgb_fpr, m4_lgb_tpr, marker='.', label='M4_LightGBM')\n",
        "\n",
        "\n",
        "# axis labels\n",
        "pyplot.xlabel('False Positive Rate')\n",
        "pyplot.ylabel('True Positive Rate')\n",
        "# show the legend\n",
        "pyplot.legend()\n",
        "# show the plot\n",
        "pyplot.show()"
      ],
      "execution_count": null,
      "outputs": [
        {
          "output_type": "display_data",
          "data": {
            "image/png": "[encoded data removed]",
            "text/plain": [
              "<Figure size 432x288 with 1 Axes>"
            ]
          },
          "metadata": {
            "tags": [],
            "needs_background": "light"
          }
        }
      ]
    },
    {
      "cell_type": "code",
      "metadata": {
        "id": "OQEYMYFEJYe0",
        "colab_type": "code",
        "colab": {}
      },
      "source": [
        ""
      ],
      "execution_count": null,
      "outputs": []
    }
  ]
}