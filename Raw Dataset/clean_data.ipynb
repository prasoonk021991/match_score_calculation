{
  "nbformat": 4,
  "nbformat_minor": 0,
  "metadata": {
    "colab": {
      "name": "clean_data.ipynb",
      "provenance": [],
      "collapsed_sections": []
    },
    "kernelspec": {
      "name": "python3",
      "display_name": "Python 3"
    }
  },
  "cells": [
    {
      "cell_type": "code",
      "metadata": {
        "id": "lmFJJt5ACSk0",
        "colab_type": "code",
        "colab": {
          "base_uri": "https://localhost:8080/",
          "height": 34
        },
        "outputId": "97d9a4cb-30ac-4460-9fd7-612c454ccd4b"
      },
      "source": [
        "import pandas as pd\n",
        "\n",
        "\n",
        "data = pd.read_csv(\"off.csv\")\n",
        "data.shape"
      ],
      "execution_count": null,
      "outputs": [
        {
          "output_type": "execute_result",
          "data": {
            "text/plain": [
              "(40720, 8)"
            ]
          },
          "metadata": {
            "tags": []
          },
          "execution_count": 2
        }
      ]
    },
    {
      "cell_type": "code",
      "metadata": {
        "id": "w0Z0pAw_C0DM",
        "colab_type": "code",
        "colab": {
          "base_uri": "https://localhost:8080/",
          "height": 241
        },
        "outputId": "83a96030-843f-4d8d-fb6a-cb26c56454ca"
      },
      "source": [
        "data.head()"
      ],
      "execution_count": null,
      "outputs": [
        {
          "output_type": "execute_result",
          "data": {
            "text/html": [
              "<div>\n",
              "<style scoped>\n",
              "    .dataframe tbody tr th:only-of-type {\n",
              "        vertical-align: middle;\n",
              "    }\n",
              "\n",
              "    .dataframe tbody tr th {\n",
              "        vertical-align: top;\n",
              "    }\n",
              "\n",
              "    .dataframe thead th {\n",
              "        text-align: right;\n",
              "    }\n",
              "</style>\n",
              "<table border=\"1\" class=\"dataframe\">\n",
              "  <thead>\n",
              "    <tr style=\"text-align: right;\">\n",
              "      <th></th>\n",
              "      <th>ConstructBarcode</th>\n",
              "      <th>MutatedSequence</th>\n",
              "      <th>WTSequence</th>\n",
              "      <th>Annotation</th>\n",
              "      <th>TranscriptID</th>\n",
              "      <th>Protein Annotation</th>\n",
              "      <th>Day21-ETP</th>\n",
              "      <th>Category</th>\n",
              "    </tr>\n",
              "  </thead>\n",
              "  <tbody>\n",
              "    <tr>\n",
              "      <th>0</th>\n",
              "      <td>AAAAATATCAGTGTGTATAG</td>\n",
              "      <td>AAAAATATCAGTGTGTATAG</td>\n",
              "      <td>AAAAGTATCAGTGTGTATAG</td>\n",
              "      <td>G:A,5</td>\n",
              "      <td>ENSMUST00000114840</td>\n",
              "      <td>76.54</td>\n",
              "      <td>0.758783</td>\n",
              "      <td>Mismatch</td>\n",
              "    </tr>\n",
              "    <tr>\n",
              "      <th>1</th>\n",
              "      <td>AAAGTATCACGTGTGTATAG</td>\n",
              "      <td>AAAAGTATCACGTGTGTATAG</td>\n",
              "      <td>AAAAGTATCAGTGTGTATAG</td>\n",
              "      <td>I:C,11</td>\n",
              "      <td>ENSMUST00000114840</td>\n",
              "      <td>76.54</td>\n",
              "      <td>0.490986</td>\n",
              "      <td>Insertion</td>\n",
              "    </tr>\n",
              "    <tr>\n",
              "      <th>2</th>\n",
              "      <td>GAAAAGTATAGTGTGTATAG</td>\n",
              "      <td>AAAAGTATAGTGTGTATAG</td>\n",
              "      <td>AAAAGTATCAGTGTGTATAG</td>\n",
              "      <td>D:C,9</td>\n",
              "      <td>ENSMUST00000114840</td>\n",
              "      <td>76.54</td>\n",
              "      <td>0.428038</td>\n",
              "      <td>Deletion</td>\n",
              "    </tr>\n",
              "    <tr>\n",
              "      <th>3</th>\n",
              "      <td>AAAAGTATCAGTGTGTATAC</td>\n",
              "      <td>AAAAGTATCAGTGTGTATAC</td>\n",
              "      <td>AAAAGTATCAGTGTGTATAG</td>\n",
              "      <td>G:C,20</td>\n",
              "      <td>ENSMUST00000114840</td>\n",
              "      <td>76.54</td>\n",
              "      <td>0.345700</td>\n",
              "      <td>Mismatch</td>\n",
              "    </tr>\n",
              "    <tr>\n",
              "      <th>4</th>\n",
              "      <td>AAAGTATCAAGTGTGTATAG</td>\n",
              "      <td>AAAAGTATCAAGTGTGTATAG</td>\n",
              "      <td>AAAAGTATCAGTGTGTATAG</td>\n",
              "      <td>I:A,10</td>\n",
              "      <td>ENSMUST00000114840</td>\n",
              "      <td>76.54</td>\n",
              "      <td>0.143454</td>\n",
              "      <td>Insertion</td>\n",
              "    </tr>\n",
              "  </tbody>\n",
              "</table>\n",
              "</div>"
            ],
            "text/plain": [
              "       ConstructBarcode        MutatedSequence  ... Day21-ETP   Category\n",
              "0  AAAAATATCAGTGTGTATAG   AAAAATATCAGTGTGTATAG  ...  0.758783   Mismatch\n",
              "1  AAAGTATCACGTGTGTATAG  AAAAGTATCACGTGTGTATAG  ...  0.490986  Insertion\n",
              "2  GAAAAGTATAGTGTGTATAG    AAAAGTATAGTGTGTATAG  ...  0.428038   Deletion\n",
              "3  AAAAGTATCAGTGTGTATAC   AAAAGTATCAGTGTGTATAC  ...  0.345700   Mismatch\n",
              "4  AAAGTATCAAGTGTGTATAG  AAAAGTATCAAGTGTGTATAG  ...  0.143454  Insertion\n",
              "\n",
              "[5 rows x 8 columns]"
            ]
          },
          "metadata": {
            "tags": []
          },
          "execution_count": 3
        }
      ]
    },
    {
      "cell_type": "code",
      "metadata": {
        "id": "mTczElsuH9Ug",
        "colab_type": "code",
        "colab": {
          "base_uri": "https://localhost:8080/",
          "height": 102
        },
        "outputId": "9f440b42-aab5-4f68-f3a7-dad1d48e1a85"
      },
      "source": [
        "data.Category.value_counts()"
      ],
      "execution_count": null,
      "outputs": [
        {
          "output_type": "execute_result",
          "data": {
            "text/plain": [
              "Insertion    18719\n",
              "Mismatch     14683\n",
              "Deletion      4708\n",
              "PAM           2610\n",
              "Name: Category, dtype: int64"
            ]
          },
          "metadata": {
            "tags": []
          },
          "execution_count": 4
        }
      ]
    },
    {
      "cell_type": "code",
      "metadata": {
        "id": "yn1c1yGcIB2s",
        "colab_type": "code",
        "colab": {
          "base_uri": "https://localhost:8080/",
          "height": 34
        },
        "outputId": "0d82e892-e1ca-46e3-c683-b5d900a549f8"
      },
      "source": [
        "data.isnull().sum()\n",
        "data = data.dropna()\n",
        "data.shape"
      ],
      "execution_count": null,
      "outputs": [
        {
          "output_type": "execute_result",
          "data": {
            "text/plain": [
              "(40564, 8)"
            ]
          },
          "metadata": {
            "tags": []
          },
          "execution_count": 5
        }
      ]
    },
    {
      "cell_type": "code",
      "metadata": {
        "id": "P6b9GciaIGMc",
        "colab_type": "code",
        "colab": {
          "base_uri": "https://localhost:8080/",
          "height": 102
        },
        "outputId": "cc1f5426-1b37-4dfe-8523-49f408d231dc"
      },
      "source": [
        "data.Category.value_counts()"
      ],
      "execution_count": null,
      "outputs": [
        {
          "output_type": "execute_result",
          "data": {
            "text/plain": [
              "Insertion    18643\n",
              "Mismatch     14624\n",
              "Deletion      4689\n",
              "PAM           2608\n",
              "Name: Category, dtype: int64"
            ]
          },
          "metadata": {
            "tags": []
          },
          "execution_count": 6
        }
      ]
    },
    {
      "cell_type": "code",
      "metadata": {
        "id": "2HZN-VcsIJpD",
        "colab_type": "code",
        "colab": {}
      },
      "source": [
        "outfile = 'cleaned_off.csv'\n",
        "data.to_csv(outfile)"
      ],
      "execution_count": null,
      "outputs": []
    },
    {
      "cell_type": "code",
      "metadata": {
        "id": "xU9EqHd_IWcT",
        "colab_type": "code",
        "colab": {}
      },
      "source": [
        ""
      ],
      "execution_count": null,
      "outputs": []
    }
  ]
}